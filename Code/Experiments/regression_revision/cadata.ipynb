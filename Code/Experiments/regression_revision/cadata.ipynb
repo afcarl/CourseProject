{
 "cells": [
  {
   "cell_type": "markdown",
   "metadata": {},
   "source": [
    "# CaData dataset\n",
    "\n",
    "Comparison of different inducing point GP-regression methods."
   ]
  },
  {
   "cell_type": "code",
   "execution_count": 1,
   "metadata": {
    "collapsed": false
   },
   "outputs": [],
   "source": [
    "import sys\n",
    "sys.path.append('/Users/IzmailovPavel/Documents/Education/Course Project/Code')\n",
    "import numpy as np\n",
    "import matplotlib as mpl\n",
    "\n",
    "from matplotlib import pyplot as plt\n",
    "\n",
    "from GP.covariance_functions import SquaredExponential\n",
    "from GP.gaussian_process_regression import GPR\n",
    "\n",
    "from sklearn.cluster import KMeans\n",
    "\n",
    "from sklearn.datasets import load_svmlight_file\n",
    "from sklearn.preprocessing import StandardScaler\n",
    "from sklearn.utils import shuffle\n",
    "from sklearn.svm import SVR\n",
    "from sklearn.metrics import r2_score\n",
    "%matplotlib inline\n",
    "%load_ext autoreload\n",
    "%autoreload 2"
   ]
  },
  {
   "cell_type": "markdown",
   "metadata": {},
   "source": [
    "Loading the data"
   ]
  },
  {
   "cell_type": "code",
   "execution_count": 2,
   "metadata": {
    "collapsed": false
   },
   "outputs": [
    {
     "name": "stdout",
     "output_type": "stream",
     "text": [
      "of objects: 16512\n",
      "of features 8\n",
      "cadata\n"
     ]
    }
   ],
   "source": [
    "x_tr, y_tr = load_svmlight_file('../../../../Programming/DataSets/Regression/cadata(20640, 8).txt')\n",
    "x_tr, y_tr = shuffle(x_tr, y_tr, random_state=241)\n",
    "data_name = 'cadata'\n",
    "file_name = data_name\n",
    "\n",
    "x_tr = x_tr.toarray().T\n",
    "scaler_x = StandardScaler()\n",
    "scaler_y = StandardScaler()\n",
    "\n",
    "y_tr = y_tr.reshape((y_tr.size, 1))\n",
    "x_test = x_tr[:, int(x_tr.shape[1] * 0.8):]\n",
    "y_test = y_tr[int(x_tr.shape[1] * 0.8):, :]\n",
    "y_tr = y_tr[:int(x_tr.shape[1] * 0.8), :]\n",
    "x_tr = x_tr[:, : int(x_tr.shape[1] * 0.8)]\n",
    "\n",
    "\n",
    "x_tr = scaler_x.fit_transform(x_tr.T).T\n",
    "x_test = scaler_x.transform(x_test.T).T\n",
    "y_tr = scaler_y.fit_transform(y_tr)\n",
    "y_test = scaler_y.transform(y_test)\n",
    "\n",
    "\n",
    "dim, num = x_tr.shape\n",
    "print('of objects:', num)\n",
    "print('of features', dim)\n",
    "print(data_name)"
   ]
  },
  {
   "cell_type": "markdown",
   "metadata": {},
   "source": [
    "## SVM\n",
    "We train an SVM with RBF kernel for reference."
   ]
  },
  {
   "cell_type": "code",
   "execution_count": 6,
   "metadata": {
    "collapsed": false,
    "scrolled": false
   },
   "outputs": [
    {
     "data": {
      "text/plain": [
       "0.77934627149937497"
      ]
     },
     "execution_count": 6,
     "metadata": {},
     "output_type": "execute_result"
    }
   ],
   "source": [
    "svm = SVR(C=1e2)\n",
    "svm.fit(x_tr.T, y_tr[:, 0])\n",
    "pred = svm.predict(x_test.T)\n",
    "r2_score(y_test, pred)"
   ]
  },
  {
   "cell_type": "markdown",
   "metadata": {},
   "source": [
    "# K-means cluster centers as inducing inputs\n",
    "\n",
    "We use K-means cluster centers as inducing point positions and don't optimize wrt them."
   ]
  },
  {
   "cell_type": "code",
   "execution_count": 3,
   "metadata": {
    "collapsed": false
   },
   "outputs": [
    {
     "name": "stdout",
     "output_type": "stream",
     "text": [
      "Finding means...\n",
      "...found\n"
     ]
    }
   ],
   "source": [
    "ind_num = 200\n",
    "print('Finding means...')\n",
    "means = KMeans(n_clusters=ind_num, n_init=3, max_iter=100, random_state=241)\n",
    "means.fit(x_tr.T)\n",
    "inputs = means.cluster_centers_.T\n",
    "print('...found')"
   ]
  },
  {
   "cell_type": "code",
   "execution_count": 4,
   "metadata": {
    "collapsed": false
   },
   "outputs": [],
   "source": [
    "cov_params = np.array([3.3, 10., 1.3])"
   ]
  },
  {
   "cell_type": "code",
   "execution_count": 5,
   "metadata": {
    "collapsed": true
   },
   "outputs": [],
   "source": [
    "default_plot_interval = [0.6, .75]\n",
    "def plot_results(it_lst, t_lst, y_lst, clr, label, plot_interval=None):\n",
    "    if plot_interval is None:\n",
    "        plot_interval = default_plot_interval\n",
    "    plt.figure(figsize=(13,5))\n",
    "\n",
    "    plt.subplot(1, 2, 1)\n",
    "    plt.plot(it_lst, y_lst, clr, label=label)\n",
    "    plt.ylim(plot_interval)\n",
    "    plt.legend(loc=4)\n",
    "    plt.xlabel('Iterations')\n",
    "    plt.ylabel('r2 score on test-set')\n",
    "\n",
    "    plt.subplot(1, 2, 2)\n",
    "    plt.plot(t_lst, y_lst, clr, label=label)\n",
    "    plt.ylim(plot_interval)\n",
    "    plt.legend(loc=4)\n",
    "    plt.xlabel('Time(s)')\n",
    "    plt.ylabel('r2 score on test-set')"
   ]
  },
  {
   "cell_type": "markdown",
   "metadata": {},
   "source": [
    "# SVI-L-BFGS-B\n",
    "\n",
    "L-BFGS-B optimization method applied to the svi objective (see the text)."
   ]
  },
  {
   "cell_type": "code",
   "execution_count": 6,
   "metadata": {
    "collapsed": false
   },
   "outputs": [],
   "source": [
    "model_covariance_obj = SquaredExponential(np.copy(cov_params))\n",
    "lbfgs_svi_gp = GPR(model_covariance_obj, method='svi', parametrization='cholesky', optimizer='L-BFGS-B')"
   ]
  },
  {
   "cell_type": "code",
   "execution_count": 7,
   "metadata": {
    "collapsed": false
   },
   "outputs": [
    {
     "name": "stdout",
     "output_type": "stream",
     "text": [
      "Hyper-parameters at iteration 0 : [  3.3         10.           1.3         -0.79926608   1.20951848]\n",
      "Hyper-parameters at iteration 50 : [ 2.6754298   9.298734    0.57565712 -0.87082998  0.34990492]\n",
      "Hyper-parameters at iteration 100 : [ 1.7421294   6.0984384   0.56421816 -0.66707839  0.92514238]\n",
      "Hyper-parameters at iteration 150 : [ 1.65183979  5.38008485  0.55319183 -0.37251085  1.12200011]\n",
      "Hyper-parameters at iteration 200 : [ 1.82341695  5.50367656  0.55415934 -0.33402761  1.17523916]\n",
      "Hyper-parameters at iteration 250 : [ 1.95898579  5.52615157  0.55103257 -0.24628096  1.29786154]\n",
      "Hyper-parameters at iteration 300 : [ 1.97710041  5.51095516  0.55074702 -0.19613612  1.4100277 ]\n",
      "Hyper-parameters at iteration 350 : [ 1.98473499  5.5190001   0.55050905 -0.19215372  1.41782442]\n"
     ]
    }
   ],
   "source": [
    "opts = {'maxiter': 500, 'mydisp': True, 'print_freq': 50}\n",
    "lbfgs_svi_res = lbfgs_svi_gp.fit(x_tr, y_tr, num_inputs=ind_num, optimizer_options=opts, inputs=inputs)"
   ]
  },
  {
   "cell_type": "code",
   "execution_count": 9,
   "metadata": {
    "collapsed": true
   },
   "outputs": [],
   "source": [
    "metric = lambda w: lbfgs_svi_gp.get_prediction_quality(w, x_test, y_test)\n",
    "lbfgs_svi_xi_lst, lbfgs_svi_xt_lst, lbfgs_svi_y_lst = lbfgs_svi_res.plot_performance(metric, 'it', freq=1)"
   ]
  },
  {
   "cell_type": "code",
   "execution_count": 10,
   "metadata": {
    "collapsed": false
   },
   "outputs": [
    {
     "data": {
      "image/png": "[encoded data removed]",
      "text/plain": [
       "<matplotlib.figure.Figure at 0x10d1fbeb8>"
      ]
     },
     "metadata": {},
     "output_type": "display_data"
    }
   ],
   "source": [
    "plot_results(lbfgs_svi_xi_lst, lbfgs_svi_xt_lst, lbfgs_svi_y_lst, '-go', 'svi-L-BFGS-B')"
   ]
  },
  {
   "cell_type": "code",
   "execution_count": 11,
   "metadata": {
    "collapsed": false
   },
   "outputs": [
    {
     "data": {
      "text/plain": [
       "0.70398726480186535"
      ]
     },
     "execution_count": 11,
     "metadata": {},
     "output_type": "execute_result"
    }
   ],
   "source": [
    "lbfgs_svi_y_lst[-1]"
   ]
  },
  {
   "cell_type": "code",
   "execution_count": 12,
   "metadata": {
    "collapsed": false
   },
   "outputs": [],
   "source": [
    "np.save('../plots/regression_revision/'+ data_name +'/' + data_name + '_lbfgs_svi_xi.npy', lbfgs_svi_xi_lst)\n",
    "np.save('../plots/regression_revision/'+ data_name +'/' + data_name + '_lbfgs_svi_xt.npy', lbfgs_svi_xt_lst)\n",
    "np.save('../plots/regression_revision/' + data_name +'/' + data_name + '_lbfgs_svi_y.npy', lbfgs_svi_y_lst)"
   ]
  },
  {
   "cell_type": "markdown",
   "metadata": {},
   "source": [
    "## VI\n",
    "L-BFGS-B optimization method applied to the vi objective (see the text)."
   ]
  },
  {
   "cell_type": "code",
   "execution_count": 13,
   "metadata": {
    "collapsed": false
   },
   "outputs": [],
   "source": [
    "model_covariance_obj = SquaredExponential(np.copy(cov_params))\n",
    "vi_gp = GPR(model_covariance_obj, method='means', optimizer='L-BFGS-B')"
   ]
  },
  {
   "cell_type": "code",
   "execution_count": 14,
   "metadata": {
    "collapsed": false
   },
   "outputs": [
    {
     "name": "stdout",
     "output_type": "stream",
     "text": [
      "Hyper-parameters at iteration 0 : [  3.3  10.    1.3]\n",
      "Hyper-parameters at iteration 1 : [  1.68915073  16.80204679   0.66839041]\n",
      "Hyper-parameters at iteration 2 : [  1.76334526  16.58459074   0.60226314]\n",
      "Hyper-parameters at iteration 3 : [  2.69925851  13.01358884   0.59013477]\n",
      "Hyper-parameters at iteration 4 : [ 3.33453391  8.95131144  0.55776185]\n",
      "Hyper-parameters at iteration 5 : [ 3.65215633  6.88764702  0.55353824]\n",
      "Hyper-parameters at iteration 6 : [ 3.65298157  6.77379632  0.5458797 ]\n",
      "Hyper-parameters at iteration 7 : [ 3.63432252  6.85527443  0.54397214]\n",
      "Hyper-parameters at iteration 8 : [ 3.62780914  6.88934519  0.54742245]\n",
      "Hyper-parameters at iteration 9 : [ 2.92026374  6.56485322  0.54676058]\n",
      "Hyper-parameters at iteration 10 : [ 2.38733958  6.18616818  0.54757368]\n",
      "Hyper-parameters at iteration 11 : [ 2.0493391   5.72609876  0.54967852]\n",
      "Hyper-parameters at iteration 12 : [ 2.13657859  5.57506718  0.55047961]\n",
      "Hyper-parameters at iteration 13 : [ 1.98817209  5.52451289  0.55050763]\n",
      "Hyper-parameters at iteration 14 : [ 1.99139221  5.5239517   0.55048827]\n",
      "Hyper-parameters at iteration 15 : [ 1.98999556  5.52249976  0.55048935]\n",
      "Hyper-parameters at iteration 16 : [ 1.99017558  5.52272988  0.55048952]\n"
     ]
    }
   ],
   "source": [
    "opts = {'maxiter': 50, 'mydisp': True}\n",
    "vi_res = vi_gp.fit(x_tr, y_tr, num_inputs=ind_num, optimizer_options=opts, inputs=inputs)"
   ]
  },
  {
   "cell_type": "code",
   "execution_count": 15,
   "metadata": {
    "collapsed": true
   },
   "outputs": [],
   "source": [
    "metric = lambda w: vi_gp.get_prediction_quality(w, x_tr, y_tr, x_test, y_test)\n",
    "vi_xi_lst, vi_xt_lst, vi_y_lst = vi_res.plot_performance(metric, 'it', freq=1)"
   ]
  },
  {
   "cell_type": "code",
   "execution_count": 16,
   "metadata": {
    "collapsed": false
   },
   "outputs": [
    {
     "data": {
      "image/png": "[encoded data removed]",
      "text/plain": [
       "<matplotlib.figure.Figure at 0x10d79b748>"
      ]
     },
     "metadata": {},
     "output_type": "display_data"
    }
   ],
   "source": [
    "plot_results(vi_xi_lst, vi_xt_lst, vi_y_lst, '-bo', 'svi-L-BFGS-B')"
   ]
  },
  {
   "cell_type": "code",
   "execution_count": 17,
   "metadata": {
    "collapsed": false
   },
   "outputs": [
    {
     "data": {
      "text/plain": [
       "0.70400491445099922"
      ]
     },
     "execution_count": 17,
     "metadata": {},
     "output_type": "execute_result"
    }
   ],
   "source": [
    "vi_y_lst[-1]"
   ]
  },
  {
   "cell_type": "code",
   "execution_count": 18,
   "metadata": {
    "collapsed": true
   },
   "outputs": [],
   "source": [
    "np.save('../plots/regression_revision/' + data_name +'/' + data_name + '_vi_xi.npy', vi_xi_lst)\n",
    "np.save('../plots/regression_revision/' + data_name +'/' + data_name + '_vi_xt.npy', vi_xt_lst)\n",
    "np.save('../plots/regression_revision/' + data_name +'/' + data_name + '_vi_y.npy', vi_y_lst)"
   ]
  },
  {
   "cell_type": "markdown",
   "metadata": {},
   "source": [
    "## Stochastic SVI\n",
    "Stochastic (incremental) optimization methods applied to the svi objective (see the text).\n",
    "### AdaDelta-Cholesky\n",
    "Adadelta method from climin library."
   ]
  },
  {
   "cell_type": "code",
   "execution_count": 19,
   "metadata": {
    "collapsed": false
   },
   "outputs": [],
   "source": [
    "model_covariance_obj = SquaredExponential(np.copy(cov_params))\n",
    "ad_svi_gp = GPR(model_covariance_obj, method='svi', parametrization='cholesky', optimizer='AdaDelta')"
   ]
  },
  {
   "cell_type": "code",
   "execution_count": 20,
   "metadata": {
    "collapsed": false,
    "scrolled": true
   },
   "outputs": [
    {
     "name": "stdout",
     "output_type": "stream",
     "text": [
      "Using AdaDelta optimizer\n",
      "Iteration  49 :\n",
      "\tGradient norm 0.213229074152\n",
      "Iteration  99 :\n",
      "\tGradient norm 0.337665404699\n",
      "Iteration  149 :\n",
      "\tGradient norm 0.109796173774\n",
      "Iteration  199 :\n",
      "\tGradient norm 0.692096724513\n",
      "Iteration  249 :\n",
      "\tGradient norm 0.0730663046087\n",
      "Iteration  299 :\n",
      "\tGradient norm 0.319641957875\n",
      "Iteration  349 :\n",
      "\tGradient norm 0.199275254362\n",
      "Iteration  399 :\n",
      "\tGradient norm 0.0439998769058\n",
      "Iteration  449 :\n",
      "\tGradient norm 0.0874646724411\n",
      "Iteration  499 :\n",
      "\tGradient norm 0.023531185495\n"
     ]
    }
   ],
   "source": [
    "opts = {'mydisp': True, 'print_freq': 50, 'step_rate': 1.,\n",
    "                'maxiter': 500, 'batch_size':500}\n",
    "ad_svi_res = ad_svi_gp.fit(x_tr, y_tr, num_inputs=ind_num, optimizer_options=opts, inputs=inputs)"
   ]
  },
  {
   "cell_type": "code",
   "execution_count": 225,
   "metadata": {
    "collapsed": false
   },
   "outputs": [],
   "source": [
    "metric = lambda w: ad_svi_gp.get_prediction_quality(w, x_test, y_test)\n",
    "ad_svi_x_lst, ad_svi_y_lst = ad_svi_res.plot_performance(metric, 'i', freq=5)"
   ]
  },
  {
   "cell_type": "code",
   "execution_count": 226,
   "metadata": {
    "collapsed": false
   },
   "outputs": [
    {
     "data": {
      "text/plain": [
       "<matplotlib.text.Text at 0x117861ac8>"
      ]
     },
     "execution_count": 226,
     "metadata": {},
     "output_type": "execute_result"
    },
    {
     "data": {
      "image/png": "[encoded data removed]",
      "text/plain": [
       "<matplotlib.figure.Figure at 0x1127e1a90>"
      ]
     },
     "metadata": {},
     "output_type": "display_data"
    }
   ],
   "source": [
    "plt.plot(ad_svi_x_lst, ad_svi_y_lst, '-ro', label='svi-AdaDelta')\n",
    "plt.ylim([.6, .75])\n",
    "plt.legend(loc=4)\n",
    "plt.xlabel('Iterations')\n",
    "plt.ylabel('r2 score on test-set')"
   ]
  },
  {
   "cell_type": "code",
   "execution_count": 227,
   "metadata": {
    "collapsed": false
   },
   "outputs": [
    {
     "data": {
      "text/plain": [
       "0.70205701424333622"
      ]
     },
     "execution_count": 227,
     "metadata": {},
     "output_type": "execute_result"
    }
   ],
   "source": [
    "ad_svi_y_lst[-1]"
   ]
  },
  {
   "cell_type": "code",
   "execution_count": 228,
   "metadata": {
    "collapsed": false
   },
   "outputs": [],
   "source": [
    "np.save('../plots/regression_revision/' + data_name +'/' + data_name + '_ad_svi_x.npy', ad_svi_x_lst)\n",
    "np.save('../plots/regression_revision/' + data_name +'/' + data_name + '_ad_svi_y.npy', ad_svi_y_lst)"
   ]
  },
  {
   "cell_type": "markdown",
   "metadata": {},
   "source": [
    "###SG-cholesky\n",
    "Stochastic gradient descent."
   ]
  },
  {
   "cell_type": "code",
   "execution_count": 305,
   "metadata": {
    "collapsed": true
   },
   "outputs": [],
   "source": [
    "model_covariance_obj = SquaredExponential(np.copy(cov_params))\n",
    "sg_svi_gp = GPR(model_covariance_obj, method='svi', parametrization='cholesky', optimizer='SG')"
   ]
  },
  {
   "cell_type": "code",
   "execution_count": 306,
   "metadata": {
    "collapsed": true
   },
   "outputs": [
    {
     "name": "stdout",
     "output_type": "stream",
     "text": [
      "Epoch  0 :\n",
      "\tStep: 0.3\n",
      "\tParameters [  1.96362013  10.37004586]\n",
      "Epoch  50 :\n",
      "\tStep: 0.288490525427\n",
      "\tParameters [ 2.08793606  9.91711121]\n",
      "Epoch  100 :\n",
      "\tStep: 0.286497775806\n",
      "\tParameters [ 2.4606587   9.68093673]\n",
      "Epoch  150 :\n",
      "\tStep: 0.28533847915\n",
      "\tParameters [ 2.54738651  9.54465329]\n",
      "Epoch  200 :\n",
      "\tStep: 0.284518791113\n",
      "\tParameters [ 2.69397953  9.24251752]\n",
      "Epoch  250 :\n",
      "\tStep: 0.283884613604\n",
      "\tParameters [ 2.67913964  8.96682298]\n",
      "Epoch  300 :\n",
      "\tStep: 0.283367502303\n",
      "\tParameters [ 2.66653747  8.56237204]\n",
      "Epoch  350 :\n",
      "\tStep: 0.282931025874\n",
      "\tParameters [ 2.52265549  8.07179827]\n",
      "Epoch  400 :\n",
      "\tStep: 0.282553476265\n",
      "\tParameters [ 2.32880908  7.43048659]\n",
      "Epoch  450 :\n",
      "\tStep: 0.282220872117\n",
      "\tParameters [ 2.0779494   6.64398433]\n",
      "Epoch  500 :\n",
      "\tStep: 0.281923679341\n",
      "\tParameters [ 1.96299151  6.08032356]\n",
      "Epoch  550 :\n",
      "\tStep: 0.281655105384\n",
      "\tParameters [ 2.11785719  5.88065237]\n",
      "Epoch  600 :\n",
      "\tStep: 0.281410139988\n",
      "\tParameters [ 2.10010913  5.90532002]\n",
      "Epoch  650 :\n",
      "\tStep: 0.281184981816\n",
      "\tParameters [ 2.13887091  5.86590688]\n",
      "Epoch  700 :\n",
      "\tStep: 0.280976678522\n",
      "\tParameters [ 2.20975437  5.93837842]\n",
      "Epoch  750 :\n",
      "\tStep: 0.280782891501\n",
      "\tParameters [ 2.25843705  6.01825922]\n",
      "Epoch  800 :\n",
      "\tStep: 0.280601736838\n",
      "\tParameters [ 2.2827355  5.9928277]\n",
      "Epoch  850 :\n",
      "\tStep: 0.280431674652\n",
      "\tParameters [ 2.29325926  5.96519607]\n",
      "Epoch  900 :\n",
      "\tStep: 0.280271430155\n",
      "\tParameters [ 2.32221603  6.00258484]\n",
      "Epoch  950 :\n",
      "\tStep: 0.280119936139\n",
      "\tParameters [ 2.31832589  6.03947929]\n"
     ]
    }
   ],
   "source": [
    "opts = {'maxiter':1000, 'batch_size': 200 , 'print_freq': 50, 'step0': 3e-1, 'gamma': .01}\n",
    "sg_svi_res = sg_svi_gp.fit(x_tr, y_tr, num_inputs=ind_num, optimizer_options=opts, inputs=inputs)"
   ]
  },
  {
   "cell_type": "code",
   "execution_count": 307,
   "metadata": {
    "collapsed": true
   },
   "outputs": [],
   "source": [
    "metric = lambda w: sg_svi_gp.get_prediction_quality(w, x_test, y_test)\n",
    "sg_svi_x_lst, sg_svi_y_lst = sg_svi_res.plot_performance(metric, 'i', freq=1)"
   ]
  },
  {
   "cell_type": "code",
   "execution_count": 308,
   "metadata": {
    "collapsed": false
   },
   "outputs": [
    {
     "data": {
      "text/plain": [
       "<matplotlib.text.Text at 0x11cbb6dd8>"
      ]
     },
     "execution_count": 308,
     "metadata": {},
     "output_type": "execute_result"
    },
    {
     "data": {
      "image/png": "[encoded data removed]",
      "text/plain": [
       "<matplotlib.figure.Figure at 0x11dc119b0>"
      ]
     },
     "metadata": {},
     "output_type": "display_data"
    }
   ],
   "source": [
    "plt.plot(sg_svi_x_lst, sg_svi_y_lst, '-ro', label='svi-SG')\n",
    "plt.ylim([.5, .75])\n",
    "plt.legend(loc=4)\n",
    "plt.xlabel('Iterations')\n",
    "plt.ylabel('r2 score on test-set')"
   ]
  },
  {
   "cell_type": "code",
   "execution_count": 309,
   "metadata": {
    "collapsed": false
   },
   "outputs": [
    {
     "data": {
      "text/plain": [
       "0.70312428856048859"
      ]
     },
     "execution_count": 309,
     "metadata": {},
     "output_type": "execute_result"
    }
   ],
   "source": [
    "sg_svi_y_lst[-1]"
   ]
  },
  {
   "cell_type": "code",
   "execution_count": 310,
   "metadata": {
    "collapsed": true
   },
   "outputs": [],
   "source": [
    "np.save('../plots/regression_revision/' + data_name +'/' + data_name + '_sg_svi_x.npy', sg_svi_x_lst)\n",
    "np.save('../plots/regression_revision/' + data_name +'/' + data_name + '_sg_svi_y.npy', sg_svi_y_lst)"
   ]
  },
  {
   "cell_type": "markdown",
   "metadata": {},
   "source": [
    "### SG-Natural\n",
    "Stochastic gradient descent with natural gradients with respect to the variational parameters."
   ]
  },
  {
   "cell_type": "code",
   "execution_count": 333,
   "metadata": {
    "collapsed": false
   },
   "outputs": [],
   "source": [
    "model_covariance_obj = SquaredExponential(np.copy(cov_params))\n",
    "sng_svi_gp = GPR(model_covariance_obj, method='svi', parametrization='natural')"
   ]
  },
  {
   "cell_type": "code",
   "execution_count": 334,
   "metadata": {
    "collapsed": false
   },
   "outputs": [
    {
     "name": "stdout",
     "output_type": "stream",
     "text": [
      "Epoch  0 :\n",
      "\tStep: 0.3\n",
      "\tParameters [  1.97621118  10.36828448]\n",
      "Epoch  50 :\n",
      "\tStep: 0.246702047828\n",
      "\tParameters [ 1.62730541  9.82532474]\n",
      "Epoch  100 :\n",
      "\tStep: 0.238298470417\n",
      "\tParameters [ 1.61737019  9.35756693]\n",
      "Epoch  150 :\n",
      "\tStep: 0.233516026319\n",
      "\tParameters [ 1.51676602  8.98566409]\n",
      "Epoch  200 :\n",
      "\tStep: 0.230181149703\n",
      "\tParameters [ 1.4932229   8.66045673]\n",
      "Epoch  250 :\n",
      "\tStep: 0.227627251385\n",
      "\tParameters [ 1.45090081  8.37375269]\n",
      "Epoch  300 :\n",
      "\tStep: 0.225561613207\n",
      "\tParameters [ 1.49373335  8.1223852 ]\n",
      "Epoch  350 :\n",
      "\tStep: 0.223829772092\n",
      "\tParameters [ 1.37017381  7.88479909]\n",
      "Epoch  400 :\n",
      "\tStep: 0.222340334732\n",
      "\tParameters [ 1.33983924  7.68686317]\n",
      "Epoch  450 :\n",
      "\tStep: 0.221034786812\n",
      "\tParameters [ 1.34386279  7.43278904]\n",
      "Epoch  500 :\n",
      "\tStep: 0.219873431566\n",
      "\tParameters [ 1.26373326  7.25274619]\n",
      "Epoch  550 :\n",
      "\tStep: 0.218828115461\n",
      "\tParameters [ 1.27878393  7.10761651]\n",
      "Epoch  600 :\n",
      "\tStep: 0.217878156608\n",
      "\tParameters [ 1.24134287  6.86680515]\n",
      "Epoch  650 :\n",
      "\tStep: 0.217007921289\n",
      "\tParameters [ 1.26182225  6.7403931 ]\n",
      "Epoch  700 :\n",
      "\tStep: 0.216205308359\n",
      "\tParameters [ 1.18568741  6.60062986]\n",
      "Epoch  750 :\n",
      "\tStep: 0.215460762054\n",
      "\tParameters [ 1.24328029  6.43946014]\n",
      "Epoch  800 :\n",
      "\tStep: 0.214766606703\n",
      "\tParameters [ 1.17915323  6.34061831]\n",
      "Epoch  850 :\n",
      "\tStep: 0.214116585168\n",
      "\tParameters [ 1.22163953  6.15879842]\n",
      "Epoch  900 :\n",
      "\tStep: 0.213505530537\n",
      "\tParameters [ 1.14670143  6.08662534]\n",
      "Epoch  950 :\n",
      "\tStep: 0.212929127463\n",
      "\tParameters [ 1.09724011  6.0250507 ]\n",
      "Epoch  1000 :\n",
      "\tStep: 0.212383735315\n",
      "\tParameters [ 1.07941581  5.89175138]\n",
      "Epoch  1050 :\n",
      "\tStep: 0.211866254905\n",
      "\tParameters [ 1.11838839  5.81128707]\n",
      "Epoch  1100 :\n",
      "\tStep: 0.211374026514\n",
      "\tParameters [ 1.09318805  5.76510102]\n",
      "Epoch  1150 :\n",
      "\tStep: 0.210904750809\n",
      "\tParameters [ 1.07402838  5.73112155]\n",
      "Epoch  1200 :\n",
      "\tStep: 0.210456426747\n",
      "\tParameters [ 1.08479756  5.67653748]\n",
      "Epoch  1250 :\n",
      "\tStep: 0.210027302284\n",
      "\tParameters [ 1.09497026  5.57888526]\n",
      "Epoch  1300 :\n",
      "\tStep: 0.209615834838\n",
      "\tParameters [ 1.10565554  5.4988273 ]\n",
      "Epoch  1350 :\n",
      "\tStep: 0.209220659289\n",
      "\tParameters [ 1.07153162  5.47044949]\n",
      "Epoch  1400 :\n",
      "\tStep: 0.20884056185\n",
      "\tParameters [ 1.0801891   5.44375491]\n",
      "Epoch  1450 :\n",
      "\tStep: 0.208474458573\n",
      "\tParameters [ 1.08304184  5.35401267]\n",
      "Epoch  1500 :\n",
      "\tStep: 0.208121377526\n",
      "\tParameters [ 1.13207491  5.35842574]\n",
      "Epoch  1550 :\n",
      "\tStep: 0.207780443926\n",
      "\tParameters [ 1.09985137  5.25184211]\n",
      "Epoch  1600 :\n",
      "\tStep: 0.207450867654\n",
      "\tParameters [ 1.0522858  5.3223875]\n",
      "Epoch  1650 :\n",
      "\tStep: 0.207131932707\n",
      "\tParameters [ 1.10322658  5.24796269]\n",
      "Epoch  1700 :\n",
      "\tStep: 0.206822988239\n",
      "\tParameters [ 1.0475358   5.24873343]\n",
      "Epoch  1750 :\n",
      "\tStep: 0.20652344092\n",
      "\tParameters [ 1.0800813   5.23389524]\n",
      "Epoch  1800 :\n",
      "\tStep: 0.206232748373\n",
      "\tParameters [ 1.09510627  5.23976562]\n",
      "Epoch  1850 :\n",
      "\tStep: 0.205950413521\n",
      "\tParameters [ 1.12811216  5.1618283 ]\n",
      "Epoch  1900 :\n",
      "\tStep: 0.205675979703\n",
      "\tParameters [ 1.09505152  5.1353837 ]\n",
      "Epoch  1950 :\n",
      "\tStep: 0.205409026416\n",
      "\tParameters [ 1.06687705  5.1461669 ]\n",
      "Epoch  2000 :\n",
      "\tStep: 0.205149165614\n",
      "\tParameters [ 1.06326888  5.15775776]\n",
      "Epoch  2050 :\n",
      "\tStep: 0.204896038462\n",
      "\tParameters [ 1.03405718  5.10834963]\n",
      "Epoch  2100 :\n",
      "\tStep: 0.204649312486\n",
      "\tParameters [ 1.12120575  5.11283315]\n",
      "Epoch  2150 :\n",
      "\tStep: 0.204408679064\n",
      "\tParameters [ 1.08450511  5.06526188]\n",
      "Epoch  2200 :\n",
      "\tStep: 0.204173851201\n",
      "\tParameters [ 1.10759841  5.09488894]\n",
      "Epoch  2250 :\n",
      "\tStep: 0.203944561569\n",
      "\tParameters [ 1.12823184  5.08145314]\n",
      "Epoch  2300 :\n",
      "\tStep: 0.203720560749\n",
      "\tParameters [ 1.03865785  5.06134921]\n",
      "Epoch  2350 :\n",
      "\tStep: 0.203501615678\n",
      "\tParameters [ 1.04013959  5.07767181]\n",
      "Epoch  2400 :\n",
      "\tStep: 0.20328750825\n",
      "\tParameters [ 1.10370005  5.03909096]\n",
      "Epoch  2450 :\n",
      "\tStep: 0.203078034073\n",
      "\tParameters [ 1.06251265  5.04613072]\n",
      "Epoch  2500 :\n",
      "\tStep: 0.202873001342\n",
      "\tParameters [ 1.0876128   5.09099926]\n",
      "Epoch  2550 :\n",
      "\tStep: 0.202672229832\n",
      "\tParameters [ 1.12578682  5.02941939]\n",
      "Epoch  2600 :\n",
      "\tStep: 0.202475549988\n",
      "\tParameters [ 1.09684823  5.04480944]\n",
      "Epoch  2650 :\n",
      "\tStep: 0.202282802102\n",
      "\tParameters [ 1.11241997  5.01578523]\n",
      "Epoch  2700 :\n",
      "\tStep: 0.202093835568\n",
      "\tParameters [ 1.09418625  4.98311885]\n",
      "Epoch  2750 :\n",
      "\tStep: 0.201908508206\n",
      "\tParameters [ 1.14209018  4.9850016 ]\n",
      "Epoch  2800 :\n",
      "\tStep: 0.201726685644\n",
      "\tParameters [ 1.13511481  4.98825911]\n",
      "Epoch  2850 :\n",
      "\tStep: 0.201548240764\n",
      "\tParameters [ 1.07618747  5.01631838]\n",
      "Epoch  2900 :\n",
      "\tStep: 0.201373053188\n",
      "\tParameters [ 1.12798652  5.00278495]\n",
      "Epoch  2950 :\n",
      "\tStep: 0.201201008812\n",
      "\tParameters [ 1.12786945  5.02993129]\n"
     ]
    }
   ],
   "source": [
    "opts = {'maxiter':3000, 'batch_size': 200 , 'print_freq': 50, 'step0': 3e-1, 'gamma': 0.05}\n",
    "sng_svi_res = sng_svi_gp.fit(x_tr, y_tr, num_inputs=ind_num, optimizer_options=opts, inputs=inputs)"
   ]
  },
  {
   "cell_type": "code",
   "execution_count": 335,
   "metadata": {
    "collapsed": false
   },
   "outputs": [],
   "source": [
    "metric = lambda w: sng_svi_gp.get_prediction_quality(w, x_test, y_test)\n",
    "sng_svi_x_lst, sng_svi_y_lst = sng_svi_res.plot_performance(metric, 'i', freq=1)"
   ]
  },
  {
   "cell_type": "code",
   "execution_count": 336,
   "metadata": {
    "collapsed": false,
    "scrolled": true
   },
   "outputs": [
    {
     "data": {
      "text/plain": [
       "<matplotlib.text.Text at 0x11fc70b38>"
      ]
     },
     "execution_count": 336,
     "metadata": {},
     "output_type": "execute_result"
    },
    {
     "data": {
      "image/png": "[encoded data removed]",
      "text/plain": [
       "<matplotlib.figure.Figure at 0x11cc1ef28>"
      ]
     },
     "metadata": {},
     "output_type": "display_data"
    }
   ],
   "source": [
    "plt.plot(sng_svi_x_lst, sng_svi_y_lst, '-yo', label='svi-natural')\n",
    "plt.ylim([.5, .75])\n",
    "plt.legend(loc=4)\n",
    "plt.xlabel('Iterations')\n",
    "plt.ylabel('r2 score on test-set')"
   ]
  },
  {
   "cell_type": "code",
   "execution_count": 337,
   "metadata": {
    "collapsed": false
   },
   "outputs": [
    {
     "data": {
      "text/plain": [
       "0.68920857684242076"
      ]
     },
     "execution_count": 337,
     "metadata": {},
     "output_type": "execute_result"
    }
   ],
   "source": [
    "sng_svi_y_lst[-1]"
   ]
  },
  {
   "cell_type": "code",
   "execution_count": 338,
   "metadata": {
    "collapsed": false
   },
   "outputs": [
    {
     "data": {
      "text/plain": [
       "0.69113063653679596"
      ]
     },
     "execution_count": 338,
     "metadata": {},
     "output_type": "execute_result"
    }
   ],
   "source": [
    "np.max(sng_svi_y_lst)"
   ]
  },
  {
   "cell_type": "code",
   "execution_count": 339,
   "metadata": {
    "collapsed": true
   },
   "outputs": [],
   "source": [
    "np.save('../plots/regression_revision/' + data_name +'/' + data_name + '_sng_svi_x.npy', sng_svi_x_lst)\n",
    "np.save('../plots/regression_revision/' + data_name +'/' + data_name + '_sng_svi_y.npy', sng_svi_y_lst)"
   ]
  },
  {
   "cell_type": "code",
   "execution_count": null,
   "metadata": {
    "collapsed": true
   },
   "outputs": [],
   "source": []
  }
 ],
 "metadata": {
  "kernelspec": {
   "display_name": "Python 3",
   "language": "python",
   "name": "python3"
  },
  "language_info": {
   "codemirror_mode": {
    "name": "ipython",
    "version": 3
   },
   "file_extension": ".py",
   "mimetype": "text/x-python",
   "name": "python",
   "nbconvert_exporter": "python",
   "pygments_lexer": "ipython3",
   "version": "3.4.3"
  }
 },
 "nbformat": 4,
 "nbformat_minor": 0
}
