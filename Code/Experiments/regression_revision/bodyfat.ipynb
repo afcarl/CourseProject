{
 "cells": [
  {
   "cell_type": "markdown",
   "metadata": {},
   "source": [
    "# BodyFat"
   ]
  },
  {
   "cell_type": "code",
   "execution_count": 114,
   "metadata": {
    "collapsed": false
   },
   "outputs": [
    {
     "name": "stdout",
     "output_type": "stream",
     "text": [
      "The autoreload extension is already loaded. To reload it, use:\n",
      "  %reload_ext autoreload\n"
     ]
    }
   ],
   "source": [
    "import sys\n",
    "sys.path.append('/Users/IzmailovPavel/Documents/Education/Course Project/Code')\n",
    "import numpy as np\n",
    "import matplotlib as mpl\n",
    "\n",
    "from matplotlib import pyplot as plt\n",
    "\n",
    "from GP.covariance_functions import SquaredExponential\n",
    "from GP.gaussian_process_regression import GPR\n",
    "\n",
    "from sklearn.cluster import KMeans\n",
    "\n",
    "from sklearn.datasets import load_svmlight_file\n",
    "from sklearn.preprocessing import StandardScaler\n",
    "from sklearn.utils import shuffle\n",
    "from sklearn.svm import SVR\n",
    "from sklearn.metrics import r2_score\n",
    "%matplotlib inline\n",
    "%load_ext autoreload\n",
    "%autoreload 2"
   ]
  },
  {
   "cell_type": "code",
   "execution_count": 2,
   "metadata": {
    "collapsed": false
   },
   "outputs": [
    {
     "name": "stdout",
     "output_type": "stream",
     "text": [
      "(14, 201)\n",
      "(14, 51)\n",
      "of objects: 201\n",
      "of features 14\n",
      "bodyfat\n"
     ]
    }
   ],
   "source": [
    "x_tr, y_tr = load_svmlight_file('../../../../Programming/DataSets/Regression/bodyfat(252, 14).txt')\n",
    "x_tr, y_tr = shuffle(x_tr, y_tr, random_state=241)\n",
    "data_name = 'bodyfat'\n",
    "file_name = data_name\n",
    "\n",
    "x_tr = x_tr.toarray().T\n",
    "scaler_x = StandardScaler()\n",
    "scaler_y = StandardScaler()\n",
    "# y_tr /= np.max(np.abs(y_tr))\n",
    "\n",
    "# x_tr = (x_tr + 1) / 2\n",
    "y_tr = y_tr.reshape((y_tr.size, 1))\n",
    "x_test = x_tr[:, int(x_tr.shape[1] * 0.8):]\n",
    "y_test = y_tr[int(x_tr.shape[1] * 0.8):, :]\n",
    "y_tr = y_tr[:int(x_tr.shape[1] * 0.8), :]\n",
    "x_tr = x_tr[:, : int(x_tr.shape[1] * 0.8)]\n",
    "\n",
    "print(x_tr.shape)\n",
    "print(x_test.shape)\n",
    "\n",
    "x_tr = scaler_x.fit_transform(x_tr.T).T\n",
    "x_test = scaler_x.transform(x_test.T).T\n",
    "y_tr = scaler_y.fit_transform(y_tr)\n",
    "y_test = scaler_y.transform(y_test)\n",
    "\n",
    "\n",
    "dim, num = x_tr.shape\n",
    "print('of objects:', num)\n",
    "print('of features', dim)\n",
    "print(data_name)"
   ]
  },
  {
   "cell_type": "markdown",
   "metadata": {},
   "source": [
    "# K-means cluster centers as inducing inputs"
   ]
  },
  {
   "cell_type": "code",
   "execution_count": 9,
   "metadata": {
    "collapsed": false
   },
   "outputs": [
    {
     "name": "stdout",
     "output_type": "stream",
     "text": [
      "Finding means...\n",
      "...found\n"
     ]
    }
   ],
   "source": [
    "ind_num = 20\n",
    "print('Finding means...')\n",
    "means = KMeans(n_clusters=ind_num, n_init=3, max_iter=100, random_state=241)\n",
    "means.fit(x_tr.T)\n",
    "inputs = means.cluster_centers_.T\n",
    "print('...found')"
   ]
  },
  {
   "cell_type": "code",
   "execution_count": 66,
   "metadata": {
    "collapsed": false
   },
   "outputs": [],
   "source": [
    "cov_params = np.array([1., 2., 1.])"
   ]
  },
  {
   "cell_type": "markdown",
   "metadata": {},
   "source": [
    "# SVI-L-BFGS-B"
   ]
  },
  {
   "cell_type": "code",
   "execution_count": 67,
   "metadata": {
    "collapsed": false
   },
   "outputs": [],
   "source": [
    "model_covariance_obj = SquaredExponential(np.copy(cov_params))\n",
    "svi_gp = GPR(model_covariance_obj, method='svi', parametrization='cholesky', optimizer='L-BFGS-B')"
   ]
  },
  {
   "cell_type": "code",
   "execution_count": 68,
   "metadata": {
    "collapsed": false
   },
   "outputs": [],
   "source": [
    "opts = {'maxiter': 50, 'disp': False}\n",
    "svi_res = svi_gp.fit(x_tr, y_tr, num_inputs=ind_num, optimizer_options=opts, inputs=inputs)"
   ]
  },
  {
   "cell_type": "code",
   "execution_count": 69,
   "metadata": {
    "collapsed": false
   },
   "outputs": [],
   "source": [
    "metric = lambda w: svi_gp.get_prediction_quality(w, x_test, y_test)\n",
    "svi_x_lst, svi_y_lst = svi_res.plot_performance(metric, 'i', freq=1)"
   ]
  },
  {
   "cell_type": "code",
   "execution_count": 70,
   "metadata": {
    "collapsed": false
   },
   "outputs": [
    {
     "data": {
      "text/plain": [
       "<matplotlib.text.Text at 0x10e52e908>"
      ]
     },
     "execution_count": 70,
     "metadata": {},
     "output_type": "execute_result"
    },
    {
     "data": {
      "image/png": "[encoded data removed]",
      "text/plain": [
       "<matplotlib.figure.Figure at 0x10e5892b0>"
      ]
     },
     "metadata": {},
     "output_type": "display_data"
    }
   ],
   "source": [
    "plt.plot(svi_x_lst, svi_y_lst, '-go', label='svi-L-BFGS-B')\n",
    "plt.ylim([0., 1.1])\n",
    "plt.legend(loc=4)\n",
    "plt.xlabel('Iterations')\n",
    "plt.ylabel('r2 score on test-set')"
   ]
  },
  {
   "cell_type": "code",
   "execution_count": 71,
   "metadata": {
    "collapsed": false
   },
   "outputs": [
    {
     "data": {
      "text/plain": [
       "array([[  4.73673332],\n",
       "       [ 29.196205  ],\n",
       "       [  0.24472279]])"
      ]
     },
     "execution_count": 71,
     "metadata": {},
     "output_type": "execute_result"
    }
   ],
   "source": [
    "svi_gp.covariance_obj.get_params()"
   ]
  },
  {
   "cell_type": "markdown",
   "metadata": {},
   "source": [
    "## VI"
   ]
  },
  {
   "cell_type": "code",
   "execution_count": 72,
   "metadata": {
    "collapsed": false
   },
   "outputs": [],
   "source": [
    "model_covariance_obj = SquaredExponential(np.copy(cov_params))\n",
    "vi_gp = GPR(model_covariance_obj, method='means', optimizer='L-BFGS-B')"
   ]
  },
  {
   "cell_type": "code",
   "execution_count": 73,
   "metadata": {
    "collapsed": false
   },
   "outputs": [],
   "source": [
    "opts = {'maxiter': 20, 'disp': True}\n",
    "vi_res = vi_gp.fit(x_tr, y_tr, num_inputs=ind_num, optimizer_options=opts, inputs=inputs)"
   ]
  },
  {
   "cell_type": "code",
   "execution_count": 74,
   "metadata": {
    "collapsed": false
   },
   "outputs": [],
   "source": [
    "metric = lambda w: vi_gp.get_prediction_quality(w, x_tr, y_tr, x_test, y_test)\n",
    "vi_x_lst, vi_y_lst = vi_res.plot_performance(metric, 'i', freq=1)"
   ]
  },
  {
   "cell_type": "code",
   "execution_count": 75,
   "metadata": {
    "collapsed": false
   },
   "outputs": [
    {
     "data": {
      "text/plain": [
       "<matplotlib.text.Text at 0x10edcbeb8>"
      ]
     },
     "execution_count": 75,
     "metadata": {},
     "output_type": "execute_result"
    },
    {
     "data": {
      "image/png": "[encoded data removed]",
      "text/plain": [
       "<matplotlib.figure.Figure at 0x10eeebc18>"
      ]
     },
     "metadata": {},
     "output_type": "display_data"
    }
   ],
   "source": [
    "plt.plot(vi_x_lst, vi_y_lst, '-bo', label='vi-means')\n",
    "plt.ylim([0., 1.1])\n",
    "plt.legend(loc=4)\n",
    "plt.xlabel('Iterations')\n",
    "plt.ylabel('r2 score on test-set')"
   ]
  },
  {
   "cell_type": "code",
   "execution_count": 76,
   "metadata": {
    "collapsed": false
   },
   "outputs": [
    {
     "data": {
      "text/plain": [
       "array([  0.67122546,  15.45190856,   0.67122546])"
      ]
     },
     "execution_count": 76,
     "metadata": {},
     "output_type": "execute_result"
    }
   ],
   "source": [
    "vi_res.params[1]"
   ]
  },
  {
   "cell_type": "code",
   "execution_count": 81,
   "metadata": {
    "collapsed": false
   },
   "outputs": [
    {
     "data": {
      "text/plain": [
       "0.99223287145570704"
      ]
     },
     "execution_count": 81,
     "metadata": {},
     "output_type": "execute_result"
    }
   ],
   "source": [
    "vi_y_lst[-1]"
   ]
  },
  {
   "cell_type": "markdown",
   "metadata": {},
   "source": [
    "## Stochastic SVI\n",
    "### AdaDelta-Cholesky"
   ]
  },
  {
   "cell_type": "code",
   "execution_count": 82,
   "metadata": {
    "collapsed": false
   },
   "outputs": [],
   "source": [
    "model_covariance_obj = SquaredExponential(np.copy(cov_params))\n",
    "ch_svi_gp = GPR(model_covariance_obj, method='svi', parametrization='cholesky', optimizer='SAG')"
   ]
  },
  {
   "cell_type": "code",
   "execution_count": 83,
   "metadata": {
    "collapsed": false
   },
   "outputs": [
    {
     "name": "stdout",
     "output_type": "stream",
     "text": [
      "Iteration  100 :\n",
      "\tGradient norm 1.08565731257\n",
      "Iteration  200 :\n",
      "\tGradient norm 9.25855190439\n",
      "Iteration  300 :\n",
      "\tGradient norm 0.819727627284\n"
     ]
    }
   ],
   "source": [
    "opts = {'mydisp': True, 'print_freq': 100, 'step_rate': 0.3,\n",
    "                'maxiter': 300, 'batch_size':20}\n",
    "ch_svi_res = ch_svi_gp.fit(x_tr, y_tr, num_inputs=ind_num, optimizer_options=opts, inputs=inputs)"
   ]
  },
  {
   "cell_type": "code",
   "execution_count": 84,
   "metadata": {
    "collapsed": false
   },
   "outputs": [],
   "source": [
    "metric = lambda w: ch_svi_gp.get_prediction_quality(w, x_test, y_test)\n",
    "ch_svi_x_lst, ch_svi_y_lst = ch_svi_res.plot_performance(metric, 'i', freq=5)"
   ]
  },
  {
   "cell_type": "code",
   "execution_count": 85,
   "metadata": {
    "collapsed": false
   },
   "outputs": [
    {
     "data": {
      "text/plain": [
       "<matplotlib.text.Text at 0x10f118208>"
      ]
     },
     "execution_count": 85,
     "metadata": {},
     "output_type": "execute_result"
    },
    {
     "data": {
      "image/png": "[encoded data removed]",
      "text/plain": [
       "<matplotlib.figure.Figure at 0x10f12c780>"
      ]
     },
     "metadata": {},
     "output_type": "display_data"
    }
   ],
   "source": [
    "plt.plot(ch_svi_x_lst, ch_svi_y_lst, '-ro', label='svi-AdaDelta')\n",
    "plt.ylim([0., 1.1])\n",
    "plt.legend(loc=4)\n",
    "plt.xlabel('Iterations')\n",
    "plt.ylabel('r2 score on test-set')"
   ]
  },
  {
   "cell_type": "code",
   "execution_count": 73,
   "metadata": {
    "collapsed": false
   },
   "outputs": [
    {
     "data": {
      "text/plain": [
       "array([[ 1.4647005 ],\n",
       "       [ 9.08350622],\n",
       "       [ 0.1640217 ]])"
      ]
     },
     "execution_count": 73,
     "metadata": {},
     "output_type": "execute_result"
    }
   ],
   "source": [
    "ch_svi_gp.covariance_obj.get_params()"
   ]
  },
  {
   "cell_type": "code",
   "execution_count": 86,
   "metadata": {
    "collapsed": false
   },
   "outputs": [
    {
     "data": {
      "text/plain": [
       "0.97112284223018075"
      ]
     },
     "execution_count": 86,
     "metadata": {},
     "output_type": "execute_result"
    }
   ],
   "source": [
    "ch_svi_y_lst[-1]"
   ]
  },
  {
   "cell_type": "markdown",
   "metadata": {},
   "source": [
    "### SG-Natural"
   ]
  },
  {
   "cell_type": "code",
   "execution_count": 143,
   "metadata": {
    "collapsed": false
   },
   "outputs": [],
   "source": [
    "model_covariance_obj = SquaredExponential(np.copy(cov_params))\n",
    "n_svi_gp = GPR(model_covariance_obj, method='svi', parametrization='natural')"
   ]
  },
  {
   "cell_type": "code",
   "execution_count": 144,
   "metadata": {
    "collapsed": true
   },
   "outputs": [
    {
     "name": "stdout",
     "output_type": "stream",
     "text": [
      "Epoch  0 :\n",
      "\tStep: 0.0005\n",
      "\tParameters [ 0.65793397  2.17590116]\n",
      "Epoch  100 :\n",
      "\tStep: 4.77496293011e-05\n",
      "\tParameters [ 0.68443399  3.60609804]\n",
      "Epoch  200 :\n",
      "\tStep: 3.35308610951e-05\n",
      "\tParameters [ 0.72473075  3.93555759]\n",
      "Epoch  300 :\n",
      "\tStep: 2.72670506224e-05\n",
      "\tParameters [ 0.73663017  4.16371078]\n",
      "Epoch  400 :\n",
      "\tStep: 2.35461230221e-05\n",
      "\tParameters [ 0.7476564   4.34457321]\n",
      "Epoch  500 :\n",
      "\tStep: 2.10133503824e-05\n",
      "\tParameters [ 0.76877336  4.48912156]\n",
      "Epoch  600 :\n",
      "\tStep: 1.91475347616e-05\n",
      "\tParameters [ 0.77716704  4.62527903]\n",
      "Epoch  700 :\n",
      "\tStep: 1.76998670376e-05\n",
      "\tParameters [ 0.77880615  4.74652711]\n",
      "Epoch  800 :\n",
      "\tStep: 1.65346159109e-05\n",
      "\tParameters [ 0.79650613  4.85815608]\n",
      "Epoch  900 :\n",
      "\tStep: 1.55706350086e-05\n",
      "\tParameters [ 0.80725188  4.95726309]\n",
      "Epoch  1000 :\n",
      "\tStep: 1.47560461333e-05\n",
      "\tParameters [ 0.82111916  5.04791359]\n",
      "Epoch  1100 :\n",
      "\tStep: 1.40559348303e-05\n",
      "\tParameters [ 0.83116599  5.13713975]\n",
      "Epoch  1200 :\n",
      "\tStep: 1.34458285394e-05\n",
      "\tParameters [ 0.85472298  5.21985416]\n",
      "Epoch  1300 :\n",
      "\tStep: 1.29079981551e-05\n",
      "\tParameters [ 0.8489842   5.29782346]\n",
      "Epoch  1400 :\n",
      "\tStep: 1.24292437811e-05\n",
      "\tParameters [ 0.86273733  5.37186341]\n",
      "Epoch  1500 :\n",
      "\tStep: 1.19995086247e-05\n",
      "\tParameters [ 0.87016862  5.44119934]\n",
      "Epoch  1600 :\n",
      "\tStep: 1.16109782942e-05\n",
      "\tParameters [ 0.86280584  5.50924126]\n",
      "Epoch  1700 :\n",
      "\tStep: 1.12574766397e-05\n",
      "\tParameters [ 0.863569    5.57249401]\n",
      "Epoch  1800 :\n",
      "\tStep: 1.09340492749e-05\n",
      "\tParameters [ 0.88214119  5.63239623]\n",
      "Epoch  1900 :\n",
      "\tStep: 1.06366695659e-05\n",
      "\tParameters [ 0.89262899  5.6903577 ]\n",
      "Epoch  2000 :\n",
      "\tStep: 1.03620266891e-05\n",
      "\tParameters [ 0.90391576  5.74538214]\n",
      "Epoch  2100 :\n",
      "\tStep: 1.01073699961e-05\n",
      "\tParameters [ 0.91993104  5.79896267]\n",
      "Epoch  2200 :\n",
      "\tStep: 9.87039282306e-06\n",
      "\tParameters [ 0.90843573  5.85023077]\n",
      "Epoch  2300 :\n",
      "\tStep: 9.64914445053e-06\n",
      "\tParameters [ 0.91731746  5.90060508]\n",
      "Epoch  2400 :\n",
      "\tStep: 9.44196249614e-06\n",
      "\tParameters [ 0.91984675  5.949403  ]\n",
      "Epoch  2500 :\n",
      "\tStep: 9.24742036236e-06\n",
      "\tParameters [ 0.92703783  5.9954448 ]\n",
      "Epoch  2600 :\n",
      "\tStep: 9.06428593248e-06\n",
      "\tParameters [ 0.93595325  6.0415556 ]\n",
      "Epoch  2700 :\n",
      "\tStep: 8.89148877631e-06\n",
      "\tParameters [ 0.93259641  6.08683656]\n",
      "Epoch  2800 :\n",
      "\tStep: 8.72809386882e-06\n",
      "\tParameters [ 0.95315936  6.12779565]\n",
      "Epoch  2900 :\n",
      "\tStep: 8.57328034664e-06\n",
      "\tParameters [ 0.94650922  6.17224474]\n",
      "Epoch  3000 :\n",
      "\tStep: 8.42632419965e-06\n",
      "\tParameters [ 0.94564421  6.21467338]\n",
      "Epoch  3100 :\n",
      "\tStep: 8.28658406448e-06\n",
      "\tParameters [ 0.94064439  6.25642196]\n",
      "Epoch  3200 :\n",
      "\tStep: 8.1534894838e-06\n",
      "\tParameters [ 0.96463101  6.29374599]\n",
      "Epoch  3300 :\n",
      "\tStep: 8.02653114114e-06\n",
      "\tParameters [ 0.97749505  6.33243757]\n",
      "Epoch  3400 :\n",
      "\tStep: 7.90525269015e-06\n",
      "\tParameters [ 0.96712062  6.37119369]\n",
      "Epoch  3500 :\n",
      "\tStep: 7.78924387952e-06\n",
      "\tParameters [ 0.96506026  6.40844262]\n",
      "Epoch  3600 :\n",
      "\tStep: 7.67813473762e-06\n",
      "\tParameters [ 0.97449173  6.44462051]\n",
      "Epoch  3700 :\n",
      "\tStep: 7.57159062916e-06\n",
      "\tParameters [ 0.98297307  6.47796695]\n",
      "Epoch  3800 :\n",
      "\tStep: 7.46930803339e-06\n",
      "\tParameters [ 0.99311631  6.51096618]\n",
      "Epoch  3900 :\n",
      "\tStep: 7.37101092261e-06\n",
      "\tParameters [ 0.98932144  6.54487058]\n",
      "Epoch  4000 :\n",
      "\tStep: 7.27644764285e-06\n",
      "\tParameters [ 0.99894052  6.57649993]\n",
      "Epoch  4100 :\n",
      "\tStep: 7.18538821617e-06\n",
      "\tParameters [ 1.00022112  6.60893148]\n",
      "Epoch  4200 :\n",
      "\tStep: 7.09762199912e-06\n",
      "\tParameters [ 0.99485754  6.64224089]\n",
      "Epoch  4300 :\n",
      "\tStep: 7.01295564298e-06\n",
      "\tParameters [ 1.0031217  6.6709938]\n",
      "Epoch  4400 :\n",
      "\tStep: 6.93121131093e-06\n",
      "\tParameters [ 1.00349166  6.70133447]\n",
      "Epoch  4500 :\n",
      "\tStep: 6.85222511467e-06\n",
      "\tParameters [ 1.01438719  6.7314205 ]\n",
      "Epoch  4600 :\n",
      "\tStep: 6.7758457394e-06\n",
      "\tParameters [ 1.00987263  6.76102374]\n",
      "Epoch  4700 :\n",
      "\tStep: 6.70193323086e-06\n",
      "\tParameters [ 1.01963091  6.78940875]\n",
      "Epoch  4800 :\n",
      "\tStep: 6.6303579223e-06\n",
      "\tParameters [ 1.02100575  6.81738068]\n",
      "Epoch  4900 :\n",
      "\tStep: 6.56099948279e-06\n",
      "\tParameters [ 1.01831144  6.84718858]\n",
      "Epoch  5000 :\n",
      "\tStep: 6.49374607086e-06\n",
      "\tParameters [ 1.02564284  6.87401404]\n",
      "Epoch  5100 :\n",
      "\tStep: 6.4284935801e-06\n",
      "\tParameters [ 1.03111439  6.90208701]\n",
      "Epoch  5200 :\n",
      "\tStep: 6.36514496505e-06\n",
      "\tParameters [ 1.04065199  6.92832735]\n",
      "Epoch  5300 :\n",
      "\tStep: 6.30360963752e-06\n",
      "\tParameters [ 1.03889511  6.95543003]\n",
      "Epoch  5400 :\n",
      "\tStep: 6.24380292478e-06\n",
      "\tParameters [ 1.05503724  6.97977651]\n",
      "Epoch  5500 :\n",
      "\tStep: 6.18564558227e-06\n",
      "\tParameters [ 1.05157041  7.00640952]\n",
      "Epoch  5600 :\n",
      "\tStep: 6.12906335451e-06\n",
      "\tParameters [ 1.05976149  7.0309267 ]\n",
      "Epoch  5700 :\n",
      "\tStep: 6.0739865786e-06\n",
      "\tParameters [ 1.06129057  7.05600136]\n",
      "Epoch  5800 :\n",
      "\tStep: 6.02034982555e-06\n",
      "\tParameters [ 1.05784895  7.08135198]\n",
      "Epoch  5900 :\n",
      "\tStep: 5.96809157534e-06\n",
      "\tParameters [ 1.06251336  7.10581987]\n",
      "Epoch  6000 :\n",
      "\tStep: 5.91715392175e-06\n",
      "\tParameters [ 1.05668361  7.12970745]\n",
      "Epoch  6100 :\n",
      "\tStep: 5.86748230421e-06\n",
      "\tParameters [ 1.06394958  7.15321879]\n",
      "Epoch  6200 :\n",
      "\tStep: 5.81902526336e-06\n",
      "\tParameters [ 1.07153555  7.17578795]\n",
      "Epoch  6300 :\n",
      "\tStep: 5.7717342182e-06\n",
      "\tParameters [ 1.07826193  7.19921483]\n",
      "Epoch  6400 :\n",
      "\tStep: 5.72556326245e-06\n",
      "\tParameters [ 1.09021809  7.22120046]\n",
      "Epoch  6500 :\n",
      "\tStep: 5.68046897827e-06\n",
      "\tParameters [ 1.09414622  7.24377286]\n",
      "Epoch  6600 :\n",
      "\tStep: 5.63641026556e-06\n",
      "\tParameters [ 1.08014286  7.26815337]\n",
      "Epoch  6700 :\n",
      "\tStep: 5.59334818538e-06\n",
      "\tParameters [ 1.08714435  7.28899401]\n",
      "Epoch  6800 :\n",
      "\tStep: 5.55124581605e-06\n",
      "\tParameters [ 1.08488721  7.31204381]\n",
      "Epoch  6900 :\n",
      "\tStep: 5.51006812088e-06\n",
      "\tParameters [ 1.09316351  7.33322576]\n",
      "Epoch  7000 :\n",
      "\tStep: 5.46978182623e-06\n",
      "\tParameters [ 1.09875547  7.35431748]\n",
      "Epoch  7100 :\n",
      "\tStep: 5.43035530918e-06\n",
      "\tParameters [ 1.09845413  7.37634961]\n",
      "Epoch  7200 :\n",
      "\tStep: 5.39175849374e-06\n",
      "\tParameters [ 1.09835569  7.39739205]\n",
      "Epoch  7300 :\n",
      "\tStep: 5.35396275495e-06\n",
      "\tParameters [ 1.1040419   7.41792198]\n",
      "Epoch  7400 :\n",
      "\tStep: 5.31694083016e-06\n",
      "\tParameters [ 1.10911202  7.43847078]\n",
      "Epoch  7500 :\n",
      "\tStep: 5.28066673685e-06\n",
      "\tParameters [ 1.10371556  7.46050571]\n",
      "Epoch  7600 :\n",
      "\tStep: 5.2451156964e-06\n",
      "\tParameters [ 1.11150192  7.48084756]\n",
      "Epoch  7700 :\n",
      "\tStep: 5.21026406334e-06\n",
      "\tParameters [ 1.1020026   7.50191096]\n",
      "Epoch  7800 :\n",
      "\tStep: 5.17608925964e-06\n",
      "\tParameters [ 1.11638471  7.52058705]\n",
      "Epoch  7900 :\n",
      "\tStep: 5.14256971357e-06\n",
      "\tParameters [ 1.12558829  7.53969859]\n",
      "Epoch  8000 :\n",
      "\tStep: 5.10968480279e-06\n",
      "\tParameters [ 1.11709549  7.56051529]\n",
      "Epoch  8100 :\n",
      "\tStep: 5.07741480135e-06\n",
      "\tParameters [ 1.11666046  7.58040266]\n",
      "Epoch  8200 :\n",
      "\tStep: 5.04574083019e-06\n",
      "\tParameters [ 1.12688624  7.5982051 ]\n",
      "Epoch  8300 :\n",
      "\tStep: 5.01464481105e-06\n",
      "\tParameters [ 1.12556831  7.6182673 ]\n",
      "Epoch  8400 :\n",
      "\tStep: 4.98410942329e-06\n",
      "\tParameters [ 1.14042343  7.63545159]\n",
      "Epoch  8500 :\n",
      "\tStep: 4.9541180636e-06\n",
      "\tParameters [ 1.14042142  7.65398467]\n",
      "Epoch  8600 :\n",
      "\tStep: 4.92465480828e-06\n",
      "\tParameters [ 1.13712017  7.673721  ]\n",
      "Epoch  8700 :\n",
      "\tStep: 4.89570437789e-06\n",
      "\tParameters [ 1.13739465  7.69233127]\n",
      "Epoch  8800 :\n",
      "\tStep: 4.86725210415e-06\n",
      "\tParameters [ 1.14855926  7.70972431]\n",
      "Epoch  8900 :\n",
      "\tStep: 4.83928389888e-06\n",
      "\tParameters [ 1.14005407  7.72899283]\n",
      "Epoch  9000 :\n",
      "\tStep: 4.81178622485e-06\n",
      "\tParameters [ 1.14848711  7.74648024]\n",
      "Epoch  9100 :\n",
      "\tStep: 4.78474606841e-06\n",
      "\tParameters [ 1.1413506   7.76499247]\n",
      "Epoch  9200 :\n",
      "\tStep: 4.75815091375e-06\n",
      "\tParameters [ 1.14386261  7.78282966]\n",
      "Epoch  9300 :\n",
      "\tStep: 4.73198871866e-06\n",
      "\tParameters [ 1.14629103  7.80008386]\n",
      "Epoch  9400 :\n",
      "\tStep: 4.70624789181e-06\n",
      "\tParameters [ 1.15693803  7.81595559]\n",
      "Epoch  9500 :\n",
      "\tStep: 4.68091727124e-06\n",
      "\tParameters [ 1.1648177   7.83223342]\n",
      "Epoch  9600 :\n",
      "\tStep: 4.65598610414e-06\n",
      "\tParameters [ 1.16075091  7.84992677]\n",
      "Epoch  9700 :\n",
      "\tStep: 4.63144402783e-06\n",
      "\tParameters [ 1.1558491   7.86754731]\n",
      "Epoch  9800 :\n",
      "\tStep: 4.60728105166e-06\n",
      "\tParameters [ 1.17038684  7.88286461]\n",
      "Epoch  9900 :\n",
      "\tStep: 4.58348754014e-06\n",
      "\tParameters [ 1.16259788  7.90112139]\n"
     ]
    }
   ],
   "source": [
    "opts = {'maxiter':10000, 'batch_size': 20, 'print_freq': 100, 'step0': 5e-4, 'gamma': 0.51}\n",
    "n_svi_res = n_svi_gp.fit(x_tr, y_tr, num_inputs=ind_num, optimizer_options=opts, inputs=inputs)"
   ]
  },
  {
   "cell_type": "code",
   "execution_count": 145,
   "metadata": {
    "collapsed": false
   },
   "outputs": [],
   "source": [
    "metric = lambda w: n_svi_gp.get_prediction_quality(w, x_test, y_test)\n",
    "n_svi_x_lst, n_svi_y_lst = n_svi_res.plot_performance(metric, 'i', freq=10)"
   ]
  },
  {
   "cell_type": "code",
   "execution_count": 146,
   "metadata": {
    "collapsed": false
   },
   "outputs": [
    {
     "data": {
      "text/plain": [
       "<matplotlib.text.Text at 0x11069fc18>"
      ]
     },
     "execution_count": 146,
     "metadata": {},
     "output_type": "execute_result"
    },
    {
     "data": {
      "image/png": "[encoded data removed]",
      "text/plain": [
       "<matplotlib.figure.Figure at 0x1104baba8>"
      ]
     },
     "metadata": {},
     "output_type": "display_data"
    }
   ],
   "source": [
    "plt.plot(n_svi_x_lst, n_svi_y_lst, '-yo', label='svi-natural')\n",
    "plt.ylim([0., 1.1])\n",
    "plt.legend(loc=4)\n",
    "plt.xlabel('Iterations')\n",
    "plt.ylabel('r2 score on test-set')"
   ]
  },
  {
   "cell_type": "markdown",
   "metadata": {},
   "source": [
    "# Save results"
   ]
  },
  {
   "cell_type": "code",
   "execution_count": 147,
   "metadata": {
    "collapsed": false
   },
   "outputs": [],
   "source": [
    "np.save('../plots/regression_revision/'+ data_name +'_svi_x.npy', svi_x_lst)\n",
    "np.save('../plots/regression_revision/'+ data_name +'_svi_y.npy', svi_y_lst)\n",
    "np.save('../plots/regression_revision/'+ data_name +'_vi_x.npy', vi_x_lst)\n",
    "np.save('../plots/regression_revision/'+ data_name +'_vi_y.npy', vi_y_lst)\n",
    "np.save('../plots/regression_revision/'+ data_name +'_ad_x.npy', ch_svi_x_lst)\n",
    "np.save('../plots/regression_revision/'+ data_name +'_ad_y.npy', ch_svi_y_lst)\n",
    "np.save('../plots/regression_revision/'+ data_name +'_sg_x.npy', n_svi_x_lst)\n",
    "np.save('../plots/regression_revision/'+ data_name +'_sg_y.npy', n_svi_y_lst)"
   ]
  },
  {
   "cell_type": "markdown",
   "metadata": {},
   "source": [
    "#SVM test"
   ]
  },
  {
   "cell_type": "code",
   "execution_count": 115,
   "metadata": {
    "collapsed": false
   },
   "outputs": [
    {
     "data": {
      "text/plain": [
       "SVR(C=0.5, cache_size=200, coef0=0.0, degree=3, epsilon=0.1, gamma=0.0,\n",
       "  kernel='rbf', max_iter=-1, shrinking=True, tol=0.001, verbose=False)"
      ]
     },
     "execution_count": 115,
     "metadata": {},
     "output_type": "execute_result"
    }
   ],
   "source": [
    "svm = SVR(C=0.5)\n",
    "svm.fit(x_tr.T, y_tr[:, 0])"
   ]
  },
  {
   "cell_type": "code",
   "execution_count": 116,
   "metadata": {
    "collapsed": false
   },
   "outputs": [
    {
     "data": {
      "text/plain": [
       "0.88704056762154104"
      ]
     },
     "execution_count": 116,
     "metadata": {},
     "output_type": "execute_result"
    }
   ],
   "source": [
    "pred = svm.predict(x_test.T)\n",
    "r2_score(y_test, pred)"
   ]
  }
 ],
 "metadata": {
  "kernelspec": {
   "display_name": "Python 3",
   "language": "python",
   "name": "python3"
  },
  "language_info": {
   "codemirror_mode": {
    "name": "ipython",
    "version": 3
   },
   "file_extension": ".py",
   "mimetype": "text/x-python",
   "name": "python",
   "nbconvert_exporter": "python",
   "pygments_lexer": "ipython3",
   "version": "3.4.3"
  }
 },
 "nbformat": 4,
 "nbformat_minor": 0
}
