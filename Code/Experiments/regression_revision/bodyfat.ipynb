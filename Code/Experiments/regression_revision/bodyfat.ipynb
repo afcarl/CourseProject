{
 "cells": [
  {
   "cell_type": "markdown",
   "metadata": {},
   "source": [
    "# BodyFat dataset\n",
    "\n",
    "Comparison of different inducing point GP-regression methods."
   ]
  },
  {
   "cell_type": "code",
   "execution_count": 1,
   "metadata": {
    "collapsed": false
   },
   "outputs": [],
   "source": [
    "import sys\n",
    "sys.path.append('/Users/IzmailovPavel/Documents/Education/Course Project/Code')\n",
    "import numpy as np\n",
    "import matplotlib as mpl\n",
    "\n",
    "from matplotlib import pyplot as plt\n",
    "\n",
    "from GP.covariance_functions import SquaredExponential\n",
    "from GP.gaussian_process_regression import GPR\n",
    "\n",
    "from sklearn.cluster import KMeans\n",
    "\n",
    "from sklearn.datasets import load_svmlight_file\n",
    "from sklearn.preprocessing import StandardScaler\n",
    "from sklearn.utils import shuffle\n",
    "from sklearn.svm import SVR\n",
    "from sklearn.metrics import r2_score\n",
    "%matplotlib inline\n",
    "%load_ext autoreload\n",
    "%autoreload 2"
   ]
  },
  {
   "cell_type": "markdown",
   "metadata": {},
   "source": [
    "Loading the data"
   ]
  },
  {
   "cell_type": "code",
   "execution_count": 3,
   "metadata": {
    "collapsed": false
   },
   "outputs": [
    {
     "name": "stdout",
     "output_type": "stream",
     "text": [
      "(14, 201)\n",
      "(14, 51)\n",
      "of objects: 201\n",
      "of features 14\n",
      "bodyfat\n"
     ]
    }
   ],
   "source": [
    "x_tr, y_tr = load_svmlight_file('../../../../Programming/DataSets/Regression/bodyfat(252, 14).txt')\n",
    "x_tr, y_tr = shuffle(x_tr, y_tr, random_state=241)\n",
    "data_name = 'bodyfat'\n",
    "file_name = data_name\n",
    "\n",
    "x_tr = x_tr.toarray().T\n",
    "scaler_x = StandardScaler()\n",
    "scaler_y = StandardScaler()\n",
    "\n",
    "y_tr = y_tr.reshape((y_tr.size, 1))\n",
    "x_test = x_tr[:, int(x_tr.shape[1] * 0.8):]\n",
    "y_test = y_tr[int(x_tr.shape[1] * 0.8):, :]\n",
    "y_tr = y_tr[:int(x_tr.shape[1] * 0.8), :]\n",
    "x_tr = x_tr[:, : int(x_tr.shape[1] * 0.8)]\n",
    "\n",
    "print(x_tr.shape)\n",
    "print(x_test.shape)\n",
    "\n",
    "x_tr = scaler_x.fit_transform(x_tr.T).T\n",
    "x_test = scaler_x.transform(x_test.T).T\n",
    "y_tr = scaler_y.fit_transform(y_tr)\n",
    "y_test = scaler_y.transform(y_test)\n",
    "\n",
    "\n",
    "dim, num = x_tr.shape\n",
    "print('of objects:', num)\n",
    "print('of features', dim)\n",
    "print(data_name)"
   ]
  },
  {
   "cell_type": "markdown",
   "metadata": {},
   "source": [
    "## SVM\n",
    "We train an SVM with RBF kernel for reference."
   ]
  },
  {
   "cell_type": "code",
   "execution_count": 9,
   "metadata": {
    "collapsed": false,
    "scrolled": false
   },
   "outputs": [
    {
     "data": {
      "text/plain": [
       "0.91143295812258962"
      ]
     },
     "execution_count": 9,
     "metadata": {},
     "output_type": "execute_result"
    }
   ],
   "source": [
    "svm = SVR(C=1e1)\n",
    "svm.fit(x_tr.T, y_tr[:, 0])\n",
    "pred = svm.predict(x_test.T)\n",
    "r2_score(y_test, pred)"
   ]
  },
  {
   "cell_type": "markdown",
   "metadata": {},
   "source": [
    "# K-means cluster centers as inducing inputs\n",
    "\n",
    "We use K-means cluster centers as inducing point positions and don't optimize wrt them."
   ]
  },
  {
   "cell_type": "code",
   "execution_count": 10,
   "metadata": {
    "collapsed": false
   },
   "outputs": [
    {
     "name": "stdout",
     "output_type": "stream",
     "text": [
      "Finding means...\n",
      "...found\n"
     ]
    }
   ],
   "source": [
    "ind_num = 20\n",
    "print('Finding means...')\n",
    "means = KMeans(n_clusters=ind_num, n_init=3, max_iter=100, random_state=241)\n",
    "means.fit(x_tr.T)\n",
    "inputs = means.cluster_centers_.T\n",
    "print('...found')"
   ]
  },
  {
   "cell_type": "code",
   "execution_count": 11,
   "metadata": {
    "collapsed": false
   },
   "outputs": [],
   "source": [
    "cov_params = np.array([1., 2., 1.])"
   ]
  },
  {
   "cell_type": "markdown",
   "metadata": {},
   "source": [
    "# SVI-L-BFGS-B\n",
    "\n",
    "L-BFGS-B optimization method applied to the svi objective (see the text)."
   ]
  },
  {
   "cell_type": "code",
   "execution_count": 12,
   "metadata": {
    "collapsed": false
   },
   "outputs": [],
   "source": [
    "model_covariance_obj = SquaredExponential(np.copy(cov_params))\n",
    "lbfgs_svi_gp = GPR(model_covariance_obj, method='svi', parametrization='cholesky', optimizer='L-BFGS-B')"
   ]
  },
  {
   "cell_type": "code",
   "execution_count": 13,
   "metadata": {
    "collapsed": false
   },
   "outputs": [
    {
     "name": "stderr",
     "output_type": "stream",
     "text": [
      "/Users/IzmailovPavel/Documents/Education/Course Project/Code/GP/optimization.py:369: OptimizeWarning: Unknown solver options: mydisp\n",
      "  out = op.minimize(func, x0, jac=jac, callback=callback, **kwargs)\n"
     ]
    }
   ],
   "source": [
    "opts = {'maxiter': 50, 'mydisp': True}\n",
    "lbfgs_svi_res = lbfgs_svi_gp.fit(x_tr, y_tr, num_inputs=ind_num, optimizer_options=opts, inputs=inputs)"
   ]
  },
  {
   "cell_type": "code",
   "execution_count": 14,
   "metadata": {
    "collapsed": false
   },
   "outputs": [],
   "source": [
    "metric = lambda w: lbfgs_svi_gp.get_prediction_quality(w, x_test, y_test)\n",
    "lbfgs_svi_x_lst, lbfgs_svi_y_lst = lbfgs_svi_res.plot_performance(metric, 'i', freq=1)"
   ]
  },
  {
   "cell_type": "code",
   "execution_count": 16,
   "metadata": {
    "collapsed": false
   },
   "outputs": [
    {
     "data": {
      "text/plain": [
       "<matplotlib.text.Text at 0x10d3f2278>"
      ]
     },
     "execution_count": 16,
     "metadata": {},
     "output_type": "execute_result"
    },
    {
     "data": {
      "image/png": "[encoded data removed]",
      "text/plain": [
       "<matplotlib.figure.Figure at 0x10d335c50>"
      ]
     },
     "metadata": {},
     "output_type": "display_data"
    }
   ],
   "source": [
    "plt.plot(lbfgs_svi_x_lst, lbfgs_svi_y_lst, '-go', label='svi-L-BFGS-B')\n",
    "plt.ylim([.5, 1.])\n",
    "plt.legend(loc=4)\n",
    "plt.xlabel('Iterations')\n",
    "plt.ylabel('r2 score on test-set')"
   ]
  },
  {
   "cell_type": "code",
   "execution_count": 17,
   "metadata": {
    "collapsed": true
   },
   "outputs": [],
   "source": [
    "np.save('../plots/regression_revision/'+ data_name +'/' + data_name + '_lbfgs_svi_x.npy', lbfgs_svi_x_lst)\n",
    "np.save('../plots/regression_revision/' + data_name +'/' + data_name + '_lbfgs_svi_y.npy', lbfgs_svi_y_lst)"
   ]
  },
  {
   "cell_type": "markdown",
   "metadata": {},
   "source": [
    "## VI\n",
    "L-BFGS-B optimization method applied to the vi objective (see the text)."
   ]
  },
  {
   "cell_type": "code",
   "execution_count": 18,
   "metadata": {
    "collapsed": false
   },
   "outputs": [],
   "source": [
    "model_covariance_obj = SquaredExponential(np.copy(cov_params))\n",
    "vi_gp = GPR(model_covariance_obj, method='means', optimizer='L-BFGS-B')"
   ]
  },
  {
   "cell_type": "code",
   "execution_count": 19,
   "metadata": {
    "collapsed": false
   },
   "outputs": [],
   "source": [
    "opts = {'maxiter': 20, 'disp': True}\n",
    "vi_res = vi_gp.fit(x_tr, y_tr, num_inputs=ind_num, optimizer_options=opts, inputs=inputs)"
   ]
  },
  {
   "cell_type": "code",
   "execution_count": 20,
   "metadata": {
    "collapsed": false
   },
   "outputs": [],
   "source": [
    "metric = lambda w: vi_gp.get_prediction_quality(w, x_tr, y_tr, x_test, y_test)\n",
    "vi_x_lst, vi_y_lst = vi_res.plot_performance(metric, 'i', freq=1)"
   ]
  },
  {
   "cell_type": "code",
   "execution_count": 22,
   "metadata": {
    "collapsed": false
   },
   "outputs": [
    {
     "data": {
      "text/plain": [
       "<matplotlib.text.Text at 0x10d2c1240>"
      ]
     },
     "execution_count": 22,
     "metadata": {},
     "output_type": "execute_result"
    },
    {
     "data": {
      "image/png": "[encoded data removed]",
      "text/plain": [
       "<matplotlib.figure.Figure at 0x10d54ee80>"
      ]
     },
     "metadata": {},
     "output_type": "display_data"
    }
   ],
   "source": [
    "plt.plot(vi_x_lst, vi_y_lst, '-bo', label='vi-means')\n",
    "plt.ylim([.5, 1.])\n",
    "plt.legend(loc=4)\n",
    "plt.xlabel('Iterations')\n",
    "plt.ylabel('r2 score on test-set')"
   ]
  },
  {
   "cell_type": "code",
   "execution_count": 23,
   "metadata": {
    "collapsed": false
   },
   "outputs": [
    {
     "data": {
      "text/plain": [
       "0.99168317324469824"
      ]
     },
     "execution_count": 23,
     "metadata": {},
     "output_type": "execute_result"
    }
   ],
   "source": [
    "vi_y_lst[-1]"
   ]
  },
  {
   "cell_type": "code",
   "execution_count": 24,
   "metadata": {
    "collapsed": true
   },
   "outputs": [],
   "source": [
    "np.save('../plots/regression_revision/' + data_name +'/' + data_name + '_vi_x.npy', vi_x_lst)\n",
    "np.save('../plots/regression_revision/' + data_name +'/' + data_name + '_vi_y.npy', vi_y_lst)"
   ]
  },
  {
   "cell_type": "markdown",
   "metadata": {},
   "source": [
    "## Stochastic SVI\n",
    "Stochastic (incremental) optimization methods applied to the svi objective (see the text).\n",
    "### AdaDelta-Cholesky\n",
    "Adadelta method from climin library."
   ]
  },
  {
   "cell_type": "code",
   "execution_count": 30,
   "metadata": {
    "collapsed": false
   },
   "outputs": [],
   "source": [
    "model_covariance_obj = SquaredExponential(np.copy(cov_params))\n",
    "ad_svi_gp = GPR(model_covariance_obj, method='svi', parametrization='cholesky', optimizer='AdaDelta')"
   ]
  },
  {
   "cell_type": "code",
   "execution_count": 31,
   "metadata": {
    "collapsed": false
   },
   "outputs": [
    {
     "name": "stdout",
     "output_type": "stream",
     "text": [
      "Iteration  49 :\n",
      "\tGradient norm 0.340437137486\n",
      "Iteration  99 :\n",
      "\tGradient norm 0.349854702132\n",
      "Iteration  149 :\n",
      "\tGradient norm 0.624802385173\n",
      "Iteration  199 :\n",
      "\tGradient norm 0.815308766455\n",
      "Iteration  249 :\n",
      "\tGradient norm 0.607563167662\n",
      "Iteration  299 :\n",
      "\tGradient norm 0.764315046153\n",
      "Iteration  349 :\n",
      "\tGradient norm 0.658556337072\n",
      "Iteration  399 :\n",
      "\tGradient norm 0.74388288221\n",
      "Iteration  449 :\n",
      "\tGradient norm 0.866368919347\n",
      "Iteration  499 :\n",
      "\tGradient norm 0.879558760613\n"
     ]
    }
   ],
   "source": [
    "opts = {'mydisp': True, 'print_freq': 50, 'step_rate': .3,\n",
    "                'maxiter': 500, 'batch_size':20}\n",
    "ad_svi_res = ad_svi_gp.fit(x_tr, y_tr, num_inputs=ind_num, optimizer_options=opts, inputs=inputs)"
   ]
  },
  {
   "cell_type": "code",
   "execution_count": 32,
   "metadata": {
    "collapsed": false
   },
   "outputs": [],
   "source": [
    "metric = lambda w: ad_svi_gp.get_prediction_quality(w, x_test, y_test)\n",
    "ad_svi_x_lst, ad_svi_y_lst = ad_svi_res.plot_performance(metric, 'i', freq=5)"
   ]
  },
  {
   "cell_type": "code",
   "execution_count": 33,
   "metadata": {
    "collapsed": false
   },
   "outputs": [
    {
     "data": {
      "text/plain": [
       "<matplotlib.text.Text at 0x10d6aa358>"
      ]
     },
     "execution_count": 33,
     "metadata": {},
     "output_type": "execute_result"
    },
    {
     "data": {
      "image/png": "[encoded data removed]",
      "text/plain": [
       "<matplotlib.figure.Figure at 0x10e30b438>"
      ]
     },
     "metadata": {},
     "output_type": "display_data"
    }
   ],
   "source": [
    "plt.plot(ad_svi_x_lst, ad_svi_y_lst, '-ro', label='svi-AdaDelta')\n",
    "plt.ylim([.5, 1.])\n",
    "plt.legend(loc=4)\n",
    "plt.xlabel('Iterations')\n",
    "plt.ylabel('r2 score on test-set')"
   ]
  },
  {
   "cell_type": "code",
   "execution_count": 34,
   "metadata": {
    "collapsed": false
   },
   "outputs": [
    {
     "data": {
      "text/plain": [
       "0.98535145007580671"
      ]
     },
     "execution_count": 34,
     "metadata": {},
     "output_type": "execute_result"
    }
   ],
   "source": [
    "ad_svi_y_lst[-1]"
   ]
  },
  {
   "cell_type": "code",
   "execution_count": 35,
   "metadata": {
    "collapsed": false
   },
   "outputs": [],
   "source": [
    "np.save('../plots/regression_revision/' + data_name +'/' + data_name + '_ad_svi_x.npy', ad_svi_x_lst)\n",
    "np.save('../plots/regression_revision/' + data_name +'/' + data_name + '_ad_svi_y.npy', ad_svi_y_lst)"
   ]
  },
  {
   "cell_type": "markdown",
   "metadata": {},
   "source": [
    "###SG-cholesky\n",
    "Stochastic gradient descent."
   ]
  },
  {
   "cell_type": "code",
   "execution_count": 55,
   "metadata": {
    "collapsed": true
   },
   "outputs": [],
   "source": [
    "model_covariance_obj = SquaredExponential(np.copy(cov_params))\n",
    "sg_svi_gp = GPR(model_covariance_obj, method='svi', parametrization='cholesky', optimizer='SG')"
   ]
  },
  {
   "cell_type": "code",
   "execution_count": 56,
   "metadata": {
    "collapsed": true
   },
   "outputs": [
    {
     "name": "stdout",
     "output_type": "stream",
     "text": [
      "Epoch  0 :\n",
      "\tStep: 0.1\n",
      "\tParameters [ 0.69256681  2.2043455 ]\n",
      "Epoch  50 :\n",
      "\tStep: 0.0309249494711\n",
      "\tParameters [ 0.72130494  3.91712538]\n",
      "Epoch  100 :\n",
      "\tStep: 0.0251188643151\n",
      "\tParameters [ 0.78754291  4.71027964]\n",
      "Epoch  150 :\n",
      "\tStep: 0.0222419378195\n",
      "\tParameters [ 0.87738742  5.29353367]\n",
      "Epoch  200 :\n",
      "\tStep: 0.0204028577337\n",
      "\tParameters [ 0.9350254   5.79530644]\n",
      "Epoch  250 :\n",
      "\tStep: 0.0190817410266\n",
      "\tParameters [ 0.95513656  6.23494103]\n",
      "Epoch  300 :\n",
      "\tStep: 0.0180660672935\n",
      "\tParameters [ 1.12886031  6.62706835]\n",
      "Epoch  350 :\n",
      "\tStep: 0.017249622163\n",
      "\tParameters [ 1.13474621  7.00406712]\n",
      "Epoch  400 :\n",
      "\tStep: 0.0165722700867\n",
      "\tParameters [ 1.19795364  7.34232512]\n",
      "Epoch  450 :\n",
      "\tStep: 0.0159969153201\n",
      "\tParameters [ 1.22622258  7.66945759]\n",
      "Epoch  500 :\n",
      "\tStep: 0.0154991898755\n",
      "\tParameters [ 1.30674267  7.96071809]\n",
      "Epoch  550 :\n",
      "\tStep: 0.0150622965261\n",
      "\tParameters [ 1.30557159  8.23217284]\n",
      "Epoch  600 :\n",
      "\tStep: 0.0146742064519\n",
      "\tParameters [ 1.40157123  8.48062909]\n",
      "Epoch  650 :\n",
      "\tStep: 0.0143260345104\n",
      "\tParameters [ 1.46017414  8.71727847]\n",
      "Epoch  700 :\n",
      "\tStep: 0.0140110469381\n",
      "\tParameters [ 1.41350013  8.94608854]\n",
      "Epoch  750 :\n",
      "\tStep: 0.0137240288072\n",
      "\tParameters [ 1.49617297  9.1493474 ]\n",
      "Epoch  800 :\n",
      "\tStep: 0.013460866091\n",
      "\tParameters [ 1.44546336  9.36435127]\n",
      "Epoch  850 :\n",
      "\tStep: 0.01321826098\n",
      "\tParameters [ 1.49592219  9.54624375]\n",
      "Epoch  900 :\n",
      "\tStep: 0.0129935328031\n",
      "\tParameters [ 1.64112316  9.70670324]\n",
      "Epoch  950 :\n",
      "\tStep: 0.0127844755939\n",
      "\tParameters [ 1.62896021  9.88464169]\n"
     ]
    }
   ],
   "source": [
    "opts = {'maxiter':1000, 'batch_size': 20 , 'print_freq': 50, 'step0': 1e-1, 'gamma': .3}\n",
    "sg_svi_res = sg_svi_gp.fit(x_tr, y_tr, num_inputs=ind_num, optimizer_options=opts, inputs=inputs)"
   ]
  },
  {
   "cell_type": "code",
   "execution_count": 57,
   "metadata": {
    "collapsed": true
   },
   "outputs": [],
   "source": [
    "metric = lambda w: sg_svi_gp.get_prediction_quality(w, x_test, y_test)\n",
    "sg_svi_x_lst, sg_svi_y_lst = sg_svi_res.plot_performance(metric, 'i', freq=5)"
   ]
  },
  {
   "cell_type": "code",
   "execution_count": 58,
   "metadata": {
    "collapsed": false
   },
   "outputs": [
    {
     "data": {
      "text/plain": [
       "<matplotlib.text.Text at 0x10eca6e48>"
      ]
     },
     "execution_count": 58,
     "metadata": {},
     "output_type": "execute_result"
    },
    {
     "data": {
      "image/png": "[encoded data removed]",
      "text/plain": [
       "<matplotlib.figure.Figure at 0x10ecbc320>"
      ]
     },
     "metadata": {},
     "output_type": "display_data"
    }
   ],
   "source": [
    "plt.plot(sg_svi_x_lst, sg_svi_y_lst, '-ro', label='svi-SG')\n",
    "plt.ylim([.5, 1.])\n",
    "plt.legend(loc=4)\n",
    "plt.xlabel('Iterations')\n",
    "plt.ylabel('r2 score on test-set')"
   ]
  },
  {
   "cell_type": "code",
   "execution_count": 59,
   "metadata": {
    "collapsed": false
   },
   "outputs": [
    {
     "data": {
      "text/plain": [
       "0.9740962028055451"
      ]
     },
     "execution_count": 59,
     "metadata": {},
     "output_type": "execute_result"
    }
   ],
   "source": [
    "sg_svi_y_lst[-1]"
   ]
  },
  {
   "cell_type": "code",
   "execution_count": 88,
   "metadata": {
    "collapsed": true
   },
   "outputs": [],
   "source": [
    "np.save('../plots/regression_revision/' + data_name +'/' + data_name + '_sg_svi_x.npy', sg_svi_x_lst)\n",
    "np.save('../plots/regression_revision/' + data_name +'/' + data_name + '_sg_svi_y.npy', sg_svi_y_lst)"
   ]
  },
  {
   "cell_type": "markdown",
   "metadata": {},
   "source": [
    "### SG-Natural\n",
    "Stochastic gradient descent with natural gradients with respect to the variational parameters."
   ]
  },
  {
   "cell_type": "code",
   "execution_count": 95,
   "metadata": {
    "collapsed": false
   },
   "outputs": [],
   "source": [
    "model_covariance_obj = SquaredExponential(np.copy(cov_params))\n",
    "sng_svi_gp = GPR(model_covariance_obj, method='svi', parametrization='natural')"
   ]
  },
  {
   "cell_type": "code",
   "execution_count": 96,
   "metadata": {
    "collapsed": true
   },
   "outputs": [
    {
     "name": "stdout",
     "output_type": "stream",
     "text": [
      "Epoch  0 :\n",
      "\tStep: 0.3\n",
      "\tParameters [ 0.59694578  2.50742146]\n",
      "Epoch  50 :\n",
      "\tStep: 0.076292483635\n",
      "\tParameters [ 0.86145318  5.0001317 ]\n",
      "Epoch  100 :\n",
      "\tStep: 0.0598578694491\n",
      "\tParameters [ 0.93007149  5.92240776]\n",
      "Epoch  150 :\n",
      "\tStep: 0.0519384893724\n",
      "\tParameters [ 1.0382226   6.55841184]\n",
      "Epoch  200 :\n",
      "\tStep: 0.0469635325037\n",
      "\tParameters [ 1.12625326  7.05980598]\n",
      "Epoch  250 :\n",
      "\tStep: 0.0434352426152\n",
      "\tParameters [ 1.20521289  7.51193233]\n",
      "Epoch  300 :\n",
      "\tStep: 0.0407501128304\n",
      "\tParameters [ 1.182371    7.92772676]\n",
      "Epoch  350 :\n",
      "\tStep: 0.0386097899742\n",
      "\tParameters [ 1.20486512  8.26975818]\n",
      "Epoch  400 :\n",
      "\tStep: 0.0368468407835\n",
      "\tParameters [ 1.30941162  8.57636233]\n",
      "Epoch  450 :\n",
      "\tStep: 0.0353587476742\n",
      "\tParameters [ 1.28286552  8.87660174]\n",
      "Epoch  500 :\n",
      "\tStep: 0.0340786006442\n",
      "\tParameters [ 1.33842547  9.1393175 ]\n",
      "Epoch  550 :\n",
      "\tStep: 0.0329605396333\n",
      "\tParameters [ 1.41408484  9.39610688]\n",
      "Epoch  600 :\n",
      "\tStep: 0.0319718905142\n",
      "\tParameters [ 1.47996087  9.62973508]\n",
      "Epoch  650 :\n",
      "\tStep: 0.0310886296941\n",
      "\tParameters [ 1.47603339  9.85535473]\n",
      "Epoch  700 :\n",
      "\tStep: 0.0302926272369\n",
      "\tParameters [  1.46176523  10.07531242]\n",
      "Epoch  750 :\n",
      "\tStep: 0.0295698970524\n",
      "\tParameters [  1.47669847  10.28793182]\n",
      "Epoch  800 :\n",
      "\tStep: 0.0289094453364\n",
      "\tParameters [  1.50746391  10.47875643]\n",
      "Epoch  850 :\n",
      "\tStep: 0.028302489029\n",
      "\tParameters [  1.58517018  10.65748013]\n",
      "Epoch  900 :\n",
      "\tStep: 0.0277419111467\n",
      "\tParameters [  1.64060445  10.83118564]\n",
      "Epoch  950 :\n",
      "\tStep: 0.0272218723329\n",
      "\tParameters [  1.61559926  11.01085114]\n",
      "Epoch  1000 :\n",
      "\tStep: 0.026737528144\n",
      "\tParameters [  1.75192158  11.16547039]\n",
      "Epoch  1050 :\n",
      "\tStep: 0.0262848195615\n",
      "\tParameters [  1.7625543   11.33067682]\n",
      "Epoch  1100 :\n",
      "\tStep: 0.0258603152544\n",
      "\tParameters [  1.74632322  11.49275186]\n",
      "Epoch  1150 :\n",
      "\tStep: 0.0254610910875\n",
      "\tParameters [  1.77418502  11.63577954]\n",
      "Epoch  1200 :\n",
      "\tStep: 0.0250846368771\n",
      "\tParameters [  1.72979418  11.78739286]\n",
      "Epoch  1250 :\n",
      "\tStep: 0.0247287833762\n",
      "\tParameters [  1.81149743  11.92037687]\n",
      "Epoch  1300 :\n",
      "\tStep: 0.0243916444834\n",
      "\tParameters [  1.85108092  12.05623135]\n",
      "Epoch  1350 :\n",
      "\tStep: 0.0240715710487\n",
      "\tParameters [  1.87135513  12.18163752]\n",
      "Epoch  1400 :\n",
      "\tStep: 0.0237671136136\n",
      "\tParameters [  1.89184091  12.31347208]\n",
      "Epoch  1450 :\n",
      "\tStep: 0.0234769921065\n",
      "\tParameters [  1.95637468  12.43157478]\n",
      "Epoch  1500 :\n",
      "\tStep: 0.0232000710038\n",
      "\tParameters [  1.89016056  12.56681223]\n",
      "Epoch  1550 :\n",
      "\tStep: 0.0229353388244\n",
      "\tParameters [  1.94941473  12.68117395]\n",
      "Epoch  1600 :\n",
      "\tStep: 0.02268189109\n",
      "\tParameters [  1.92199444  12.80374147]\n",
      "Epoch  1650 :\n",
      "\tStep: 0.0224389160752\n",
      "\tParameters [  2.0102323   12.90944864]\n",
      "Epoch  1700 :\n",
      "\tStep: 0.0222056828231\n",
      "\tParameters [  2.02287475  13.02123673]\n",
      "Epoch  1750 :\n",
      "\tStep: 0.02198153101\n",
      "\tParameters [  2.04498815  13.13051975]\n",
      "Epoch  1800 :\n",
      "\tStep: 0.021765862331\n",
      "\tParameters [  2.09879973  13.23495101]\n",
      "Epoch  1850 :\n",
      "\tStep: 0.021558133142\n",
      "\tParameters [  2.11833649  13.33379552]\n",
      "Epoch  1900 :\n",
      "\tStep: 0.0213578481474\n",
      "\tParameters [  2.07027678  13.44828935]\n",
      "Epoch  1950 :\n",
      "\tStep: 0.0211645549606\n",
      "\tParameters [  2.12794098  13.54242541]\n"
     ]
    }
   ],
   "source": [
    "opts = {'maxiter':2000, 'batch_size': 20 , 'print_freq': 50, 'step0': 3e-1, 'gamma': 0.35}\n",
    "sng_svi_res = sng_svi_gp.fit(x_tr, y_tr, num_inputs=ind_num, optimizer_options=opts, inputs=inputs)"
   ]
  },
  {
   "cell_type": "code",
   "execution_count": 97,
   "metadata": {
    "collapsed": false
   },
   "outputs": [],
   "source": [
    "metric = lambda w: sng_svi_gp.get_prediction_quality(w, x_test, y_test)\n",
    "sng_svi_x_lst, sng_svi_y_lst = sng_svi_res.plot_performance(metric, 'i', freq=10)"
   ]
  },
  {
   "cell_type": "code",
   "execution_count": 98,
   "metadata": {
    "collapsed": false,
    "scrolled": true
   },
   "outputs": [
    {
     "data": {
      "text/plain": [
       "<matplotlib.text.Text at 0x10f6478d0>"
      ]
     },
     "execution_count": 98,
     "metadata": {},
     "output_type": "execute_result"
    },
    {
     "data": {
      "image/png": "[encoded data removed]",
      "text/plain": [
       "<matplotlib.figure.Figure at 0x10f8ab198>"
      ]
     },
     "metadata": {},
     "output_type": "display_data"
    }
   ],
   "source": [
    "plt.plot(sng_svi_x_lst, sng_svi_y_lst, '-yo', label='svi-natural')\n",
    "plt.ylim([.5, 1.])\n",
    "plt.legend(loc=4)\n",
    "plt.xlabel('Iterations')\n",
    "plt.ylabel('r2 score on test-set')"
   ]
  },
  {
   "cell_type": "code",
   "execution_count": 99,
   "metadata": {
    "collapsed": false
   },
   "outputs": [
    {
     "data": {
      "text/plain": [
       "0.97056416469530171"
      ]
     },
     "execution_count": 99,
     "metadata": {},
     "output_type": "execute_result"
    }
   ],
   "source": [
    "sng_svi_y_lst[-1]"
   ]
  },
  {
   "cell_type": "code",
   "execution_count": 100,
   "metadata": {
    "collapsed": false
   },
   "outputs": [
    {
     "data": {
      "text/plain": [
       "0.9774048298027832"
      ]
     },
     "execution_count": 100,
     "metadata": {},
     "output_type": "execute_result"
    }
   ],
   "source": [
    "np.max(sng_svi_y_lst)"
   ]
  },
  {
   "cell_type": "code",
   "execution_count": 101,
   "metadata": {
    "collapsed": true
   },
   "outputs": [],
   "source": [
    "np.save('../plots/regression_revision/' + data_name +'/' + data_name + '_sng_svi_x.npy', sng_svi_x_lst)\n",
    "np.save('../plots/regression_revision/' + data_name +'/' + data_name + '_sng_svi_y.npy', sng_svi_y_lst)"
   ]
  }
 ],
 "metadata": {
  "kernelspec": {
   "display_name": "Python 3",
   "language": "python",
   "name": "python3"
  },
  "language_info": {
   "codemirror_mode": {
    "name": "ipython",
    "version": 3
   },
   "file_extension": ".py",
   "mimetype": "text/x-python",
   "name": "python",
   "nbconvert_exporter": "python",
   "pygments_lexer": "ipython3",
   "version": "3.4.3"
  }
 },
 "nbformat": 4,
 "nbformat_minor": 0
}
