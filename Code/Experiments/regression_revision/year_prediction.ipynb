{
 "cells": [
  {
   "cell_type": "markdown",
   "metadata": {},
   "source": [
    "# YearPredictionMSD dataset\n",
    "\n",
    "Comparison of different inducing point GP-regression methods."
   ]
  },
  {
   "cell_type": "code",
   "execution_count": 1,
   "metadata": {
    "collapsed": false
   },
   "outputs": [],
   "source": [
    "import sys\n",
    "sys.path.append('/Users/IzmailovPavel/Documents/Education/Course Project/Code')\n",
    "import numpy as np\n",
    "import matplotlib as mpl\n",
    "\n",
    "from matplotlib import pyplot as plt\n",
    "\n",
    "from GP.covariance_functions import SquaredExponential\n",
    "from GP.gaussian_process_regression import GPR\n",
    "\n",
    "from sklearn.cluster import KMeans\n",
    "\n",
    "from sklearn.datasets import load_svmlight_file\n",
    "from sklearn.preprocessing import StandardScaler\n",
    "from sklearn.utils import shuffle\n",
    "from sklearn.svm import SVR, LinearSVR\n",
    "from sklearn.metrics import r2_score, mean_squared_error\n",
    "%matplotlib inline\n",
    "%load_ext autoreload\n",
    "%autoreload 2"
   ]
  },
  {
   "cell_type": "markdown",
   "metadata": {},
   "source": [
    "Loading the data"
   ]
  },
  {
   "cell_type": "code",
   "execution_count": 2,
   "metadata": {
    "collapsed": false
   },
   "outputs": [
    {
     "name": "stdout",
     "output_type": "stream",
     "text": [
      "of objects: 100000\n",
      "of features 90\n",
      "year prediction\n"
     ]
    },
    {
     "name": "stderr",
     "output_type": "stream",
     "text": [
      "/Library/Frameworks/Python.framework/Versions/3.4/lib/python3.4/site-packages/IPython/kernel/__main__.py:6: VisibleDeprecationWarning: using a non-integer number instead of an integer will result in an error in the future\n",
      "/Library/Frameworks/Python.framework/Versions/3.4/lib/python3.4/site-packages/IPython/kernel/__main__.py:7: VisibleDeprecationWarning: using a non-integer number instead of an integer will result in an error in the future\n"
     ]
    }
   ],
   "source": [
    "x_tr, y_tr = load_svmlight_file('../../../../Programming/DataSets/Regression/yearprediction(463715, 90).txt')\n",
    "x_tr, y_tr = shuffle(x_tr, y_tr, random_state=241)\n",
    "data_name = 'year prediction'\n",
    "file_name = data_name\n",
    "\n",
    "x_tr = x_tr.toarray()[:1e5 * 1.25, :].T\n",
    "y_tr = y_tr[:1e5 * 1.25]\n",
    "scaler_x = StandardScaler()\n",
    "scaler_y = StandardScaler()\n",
    "\n",
    "y_tr = y_tr.reshape((y_tr.size, 1))\n",
    "x_test = x_tr[:, int(x_tr.shape[1] * 0.8):]\n",
    "y_test = y_tr[int(x_tr.shape[1] * 0.8):, :]\n",
    "y_tr = y_tr[:int(x_tr.shape[1] * 0.8), :]\n",
    "x_tr = x_tr[:, : int(x_tr.shape[1] * 0.8)]\n",
    "\n",
    "\n",
    "x_tr = scaler_x.fit_transform(x_tr.T).T\n",
    "x_test = scaler_x.transform(x_test.T).T\n",
    "y_tr = scaler_y.fit_transform(y_tr)\n",
    "y_test = scaler_y.transform(y_test)\n",
    "\n",
    "\n",
    "dim, num = x_tr.shape\n",
    "print('of objects:', num)\n",
    "print('of features', dim)\n",
    "print(data_name)"
   ]
  },
  {
   "cell_type": "markdown",
   "metadata": {},
   "source": [
    "## Linear SVM\n",
    "We train an SVM with linear kernel for reference."
   ]
  },
  {
   "cell_type": "code",
   "execution_count": 6,
   "metadata": {
    "collapsed": false
   },
   "outputs": [
    {
     "data": {
      "text/plain": [
       "0.18896676527735246"
      ]
     },
     "execution_count": 6,
     "metadata": {},
     "output_type": "execute_result"
    }
   ],
   "source": [
    "svm = LinearSVR(C=1e0)\n",
    "svm.fit(x_tr.T, y_tr[:, 0])\n",
    "pred = svm.predict(x_test.T)\n",
    "r2_score(y_test, pred)"
   ]
  },
  {
   "cell_type": "code",
   "execution_count": 7,
   "metadata": {
    "collapsed": false
   },
   "outputs": [
    {
     "data": {
      "text/plain": [
       "0.8886236132722114"
      ]
     },
     "execution_count": 7,
     "metadata": {},
     "output_type": "execute_result"
    }
   ],
   "source": [
    "np.sqrt(mean_squared_error(y_test, pred))"
   ]
  },
  {
   "cell_type": "markdown",
   "metadata": {},
   "source": [
    "# K-means cluster centers as inducing inputs\n",
    "\n",
    "We use K-means cluster centers as inducing point positions and don't optimize wrt them."
   ]
  },
  {
   "cell_type": "code",
   "execution_count": 8,
   "metadata": {
    "collapsed": false
   },
   "outputs": [
    {
     "name": "stdout",
     "output_type": "stream",
     "text": [
      "Finding means...\n",
      "...found\n"
     ]
    }
   ],
   "source": [
    "ind_num = 500\n",
    "print('Finding means...')\n",
    "means = KMeans(n_clusters=ind_num, n_init=3, max_iter=100, random_state=241)\n",
    "means.fit(x_tr.T)\n",
    "inputs = means.cluster_centers_.T\n",
    "print('...found')"
   ]
  },
  {
   "cell_type": "code",
   "execution_count": 3,
   "metadata": {
    "collapsed": false
   },
   "outputs": [],
   "source": [
    "cov_params = np.array([.8, 30., 1.2])\n",
    "# cov_params = np.array([1., 1., .5])"
   ]
  },
  {
   "cell_type": "code",
   "execution_count": 10,
   "metadata": {
    "collapsed": true
   },
   "outputs": [],
   "source": [
    "# np.save('yearpred_inputs.npy', inputs)"
   ]
  },
  {
   "cell_type": "code",
   "execution_count": 4,
   "metadata": {
    "collapsed": false
   },
   "outputs": [],
   "source": [
    "inputs = np.load('yearpred_inputs.npy')\n",
    "ind_num = inputs.shape[1]"
   ]
  },
  {
   "cell_type": "markdown",
   "metadata": {},
   "source": [
    "# SVI-L-BFGS-B\n",
    "\n",
    "L-BFGS-B optimization method applied to the svi objective (see the text)."
   ]
  },
  {
   "cell_type": "code",
   "execution_count": 11,
   "metadata": {
    "collapsed": false
   },
   "outputs": [],
   "source": [
    "model_covariance_obj = SquaredExponential(np.copy(cov_params))\n",
    "lbfgs_svi_gp = GPR(model_covariance_obj, method='svi', parametrization='cholesky', optimizer='L-BFGS-B')"
   ]
  },
  {
   "cell_type": "code",
   "execution_count": 12,
   "metadata": {
    "collapsed": false,
    "scrolled": true
   },
   "outputs": [
    {
     "name": "stdout",
     "output_type": "stream",
     "text": [
      "Hyper-parameters at iteration 0 : [  0.5         30.           1.          -2.31047503   0.99771221]\n",
      "Hyper-parameters at iteration 1 : [  0.52415235  29.99967524   0.93690655  -2.31047503   0.99771221]\n",
      "Hyper-parameters at iteration 2 : [  0.53055948  29.99968428   0.93289456  -2.31048551   0.99769933]\n",
      "Hyper-parameters at iteration 3 : [  0.53294557  29.99976171   0.93454242  -2.31049705   0.99768486]\n",
      "Hyper-parameters at iteration 4 : [  0.53520207  30.00002221   0.93604277  -2.31052708   0.99764689]\n",
      "Hyper-parameters at iteration 5 : [  0.53628719  30.00119523   0.93672236  -2.31064807   0.99749306]\n",
      "Hyper-parameters at iteration 6 : [  0.53788988  30.00522999   0.93762066  -2.31106007   0.99696843]\n",
      "Hyper-parameters at iteration 7 : [  0.5425975   30.02477937   0.93990681  -2.31304735   0.99443476]\n",
      "Hyper-parameters at iteration 8 : [  0.54927187  30.06808778   0.94242499  -2.31743046   0.98883683]\n",
      "Hyper-parameters at iteration 9 : [  0.55932844  30.16622736   0.94469025  -2.3273042    0.97619073]\n",
      "Hyper-parameters at iteration 10 : [  0.56760866  30.30516463   0.94392562  -2.34099198   0.95846106]\n",
      "Hyper-parameters at iteration 11 : [  0.57613342  30.4962265    0.94166967  -2.34524414   0.94241572]\n",
      "Hyper-parameters at iteration 12 : [  0.59294969  30.998548     0.93229505  -2.3370035    0.9112064 ]\n",
      "Hyper-parameters at iteration 13 : [  0.59417261  31.18627199   0.9287492   -2.31662304   0.9093321 ]\n",
      "Hyper-parameters at iteration 14 : [  0.60149038  31.23412222   0.92374822  -2.30756233   0.91101052]\n",
      "Hyper-parameters at iteration 15 : [  0.60053671  31.28737007   0.92597519  -2.28521118   0.91984191]\n",
      "Hyper-parameters at iteration 16 : [  0.60587075  31.31879369   0.92922479  -2.27699754   0.92213216]\n",
      "Hyper-parameters at iteration 17 : [  0.61269972  31.3509478    0.93202246  -2.274554     0.921071  ]\n",
      "Hyper-parameters at iteration 18 : [  0.61436195  31.35837885   0.93238214  -2.27525948   0.9200664 ]\n",
      "Hyper-parameters at iteration 19 : [  0.61514372  31.35985199   0.93255282  -2.27558837   0.9196131 ]\n",
      "Hyper-parameters at iteration 20 : [  0.61804031  31.3687989    0.9330886   -2.27623522   0.91750879]\n",
      "Hyper-parameters at iteration 21 : [  0.62202985  31.38368037   0.93379055  -2.27560061   0.91417985]\n",
      "Hyper-parameters at iteration 22 : [  0.63023308  31.42804629   0.93495084  -2.2707271    0.90573136]\n",
      "Hyper-parameters at iteration 23 : [  0.64559591  31.53662414   0.93666732  -2.2532894    0.88702636]\n",
      "Hyper-parameters at iteration 24 : [  0.67622712  31.80644985   0.93895455  -2.20153837   0.84366219]\n",
      "Hyper-parameters at iteration 25 : [  0.73168281  32.38345887   0.93906509  -2.07857806   0.75841577]\n",
      "Hyper-parameters at iteration 26 : [  0.73322681  32.44229936   0.9438565   -2.0688138    0.74329396]\n",
      "Hyper-parameters at iteration 27 : [  0.76459962  32.88712531   0.93794601  -1.96028023   0.67849166]\n",
      "Hyper-parameters at iteration 28 : [  0.7493692   32.91644045   0.93081234  -1.92966111   0.67151737]\n",
      "Hyper-parameters at iteration 29 : [  0.71048358  32.74156195   0.92629789  -1.93455476   0.69615927]\n",
      "Hyper-parameters at iteration 30 : [  0.71346328  32.76727722   0.92738075  -1.92974191   0.69202326]\n",
      "Hyper-parameters at iteration 31 : [  0.7148708   32.77964336   0.92811122  -1.92708948   0.68965202]\n",
      "Hyper-parameters at iteration 32 : [  0.71711548  32.79712757   0.92932124  -1.92240334   0.68571763]\n",
      "Hyper-parameters at iteration 33 : [  0.71997102  32.8143656    0.93095555  -1.91529413   0.68017992]\n",
      "Hyper-parameters at iteration 34 : [  0.72271257  32.81884855   0.93272442  -1.90573287   0.67332124]\n",
      "Hyper-parameters at iteration 35 : [  0.72282305  32.78900776   0.93337947  -1.89938577   0.66874114]\n",
      "Hyper-parameters at iteration 36 : [  0.71943184  32.70016289   0.93881435  -1.92766896   0.68325781]\n",
      "Hyper-parameters at iteration 37 : [  0.72896744  32.78341813   0.93483458  -1.9059459    0.66932043]\n",
      "Hyper-parameters at iteration 38 : [  0.73530571  32.9145342    0.92838396  -1.88412435   0.65868591]\n",
      "Hyper-parameters at iteration 39 : [  0.74007504  33.03362562   0.92591154  -1.87709977   0.65258314]\n",
      "Hyper-parameters at iteration 40 : [  0.74514438  33.24949516   0.92590204  -1.8507694    0.62449202]\n",
      "Hyper-parameters at iteration 41 : [  0.75122889  33.3117009    0.92699156  -1.85462625   0.61906576]\n",
      "Hyper-parameters at iteration 42 : [  0.75540673  33.34666759   0.92754919  -1.85826181   0.61360446]\n",
      "Hyper-parameters at iteration 43 : [  0.75570486  33.3424468    0.92662447  -1.8676745    0.61169371]\n",
      "Hyper-parameters at iteration 44 : [  0.75848665  33.37644885   0.92457084  -1.86724247   0.60217988]\n",
      "Hyper-parameters at iteration 45 : [  0.75825814  33.37930804   0.92268439  -1.86866205   0.59837386]\n",
      "Hyper-parameters at iteration 46 : [  0.75844528  33.40511092   0.91963331  -1.86604323   0.59001765]\n",
      "Hyper-parameters at iteration 47 : [  0.76249526  33.48610059   0.91636197  -1.85734554   0.57383004]\n",
      "Hyper-parameters at iteration 48 : [  0.77773826  33.70081625   0.91486941  -1.83881845   0.53944631]\n",
      "Hyper-parameters at iteration 49 : [  0.78616841  34.1676997    0.90450265  -1.76728439   0.49368659]\n",
      "Hyper-parameters at iteration 50 : [  0.77880662  34.02645616   0.92383664  -1.81244121   0.49380635]\n",
      "Hyper-parameters at iteration 51 : [  0.79378896  34.09542215   0.91942941  -1.80011032   0.50453677]\n",
      "Hyper-parameters at iteration 52 : [  0.82117561  34.30828234   0.91917311  -1.77458248   0.49330514]\n",
      "Hyper-parameters at iteration 53 : [  0.83024625  34.48824537   0.91916655  -1.75991236   0.47623984]\n",
      "Hyper-parameters at iteration 54 : [  0.84705782  34.59945145   0.9229784   -1.76074581   0.4731848 ]\n",
      "Hyper-parameters at iteration 55 : [  0.84667351  34.5993856    0.92366771  -1.76591636   0.47285021]\n",
      "Hyper-parameters at iteration 56 : [  0.84680276  34.61083298   0.92358054  -1.77430668   0.47138122]\n",
      "Hyper-parameters at iteration 57 : [  0.84067934  34.59266083   0.92762124  -1.77516076   0.47368899]\n",
      "Hyper-parameters at iteration 58 : [  0.84404257  34.63297885   0.92722356  -1.77809913   0.47189303]\n",
      "Hyper-parameters at iteration 59 : [  0.88804928  35.15391747   0.92217213  -1.75025478   0.44232376]\n",
      "Hyper-parameters at iteration 60 : [  0.89541802  35.28165342   0.91930155  -1.72670576   0.43847619]\n",
      "Hyper-parameters at iteration 61 : [  0.89311751  35.24471341   0.91909096  -1.71940766   0.44762876]\n",
      "Hyper-parameters at iteration 62 : [  0.8799016   35.17079161   0.91847484  -1.73851513   0.46407455]\n",
      "Hyper-parameters at iteration 63 : [  0.88928918  35.27018873   0.92031057  -1.71715194   0.47125792]\n",
      "Hyper-parameters at iteration 64 : [  0.90556316  35.42701537   0.9228081   -1.69176299   0.45961523]\n",
      "Hyper-parameters at iteration 65 : [  0.93713454  35.78441734   0.92399685  -1.62690409   0.42991524]\n",
      "Hyper-parameters at iteration 66 : [  0.90936884  35.54924146   0.92066968  -1.58979392   0.4578853 ]\n",
      "Hyper-parameters at iteration 67 : [  0.95144429  35.95982066   0.92083344  -1.57596934   0.41566174]\n",
      "Hyper-parameters at iteration 68 : [  0.95314199  35.96827248   0.91925811  -1.57593671   0.41514628]\n",
      "Hyper-parameters at iteration 69 : [  0.95303101  35.95110344   0.91846551  -1.58677853   0.41658455]\n",
      "Hyper-parameters at iteration 70 : [  0.95367424  35.96002239   0.91693459  -1.59714074   0.4174793 ]\n",
      "Hyper-parameters at iteration 71 : [  0.95435629  36.00932831   0.91473177  -1.60530832   0.42161062]\n",
      "Hyper-parameters at iteration 72 : [  0.95978509  36.1715481    0.9121374   -1.60173736   0.43180394]\n",
      "Hyper-parameters at iteration 73 : [  0.97864955  36.46295408   0.91180468  -1.57338643   0.44845762]\n",
      "Hyper-parameters at iteration 74 : [  0.96948351  36.48696171   0.91098394  -1.5720628    0.44932845]\n",
      "Hyper-parameters at iteration 75 : [  0.98928562  36.71308691   0.91425939  -1.53447331   0.46328446]\n",
      "Hyper-parameters at iteration 76 : [  0.99525241  36.78928844   0.9156632   -1.50611608   0.46780623]\n",
      "Hyper-parameters at iteration 77 : [  1.0016768   36.79789146   0.9192072   -1.50446814   0.46716196]\n",
      "Hyper-parameters at iteration 78 : [  1.00020819  36.80135436   0.91835051  -1.49780917   0.46775685]\n",
      "Hyper-parameters at iteration 79 : [  0.99901913  36.83802715   0.91561728  -1.47949291   0.4712854 ]\n",
      "Hyper-parameters at iteration 80 : [  1.00059103  36.92758604   0.91360017  -1.45763561   0.47908928]\n",
      "Hyper-parameters at iteration 81 : [  1.01579533  37.10103988   0.90799863  -1.43547206   0.48903771]\n",
      "Hyper-parameters at iteration 82 : [  1.02267569  37.23903779   0.90912892  -1.42467062   0.50042729]\n",
      "Hyper-parameters at iteration 83 : [  1.04309342  37.48800109   0.91257231  -1.41821756   0.51815812]\n",
      "Hyper-parameters at iteration 84 : [  1.050792    37.54958987   0.91497144  -1.41989094   0.52194396]\n",
      "Hyper-parameters at iteration 85 : [  1.05223581  37.55530804   0.91549328  -1.42158593   0.52212327]\n",
      "Hyper-parameters at iteration 86 : [  1.05386782  37.56316214   0.91601491  -1.42352953   0.52247121]\n",
      "Hyper-parameters at iteration 87 : [  1.05730477  37.58817026   0.91693743  -1.4264912    0.52406651]\n",
      "Hyper-parameters at iteration 88 : [  1.06333911  37.64927692   0.91812221  -1.42910196   0.52875274]\n",
      "Hyper-parameters at iteration 89 : [  1.07420438  37.79751      0.91956892  -1.42601153   0.54122527]\n",
      "Hyper-parameters at iteration 90 : [  1.09195317  38.07638028   0.91904948  -1.42025137   0.56720093]\n",
      "Hyper-parameters at iteration 91 : [  1.09282948  38.14933442   0.92080072  -1.39855678   0.57237661]\n",
      "Hyper-parameters at iteration 92 : [  1.10487975  38.42712915   0.9174933   -1.37931897   0.59977277]\n",
      "Hyper-parameters at iteration 93 : [  1.1007921   38.55009579   0.91596963  -1.358098     0.617019  ]\n",
      "Hyper-parameters at iteration 94 : [  1.10543261  38.60790224   0.91255995  -1.34934609   0.62094694]\n",
      "Hyper-parameters at iteration 95 : [  1.10050707  38.56224302   0.91210572  -1.34392157   0.6172013 ]\n",
      "Hyper-parameters at iteration 96 : [  1.11389249  38.74356676   0.91334667  -1.32383975   0.63036167]\n",
      "Hyper-parameters at iteration 97 : [  1.11002818  38.72808854   0.91306575  -1.32319019   0.62827403]\n",
      "Hyper-parameters at iteration 98 : [  1.10955658  38.70296794   0.91344382  -1.31603571   0.62099185]\n",
      "Hyper-parameters at iteration 99 : [  1.09273202  38.89248291   0.91001935  -1.31050726   0.63208444]\n",
      "Hyper-parameters at iteration 100 : [  1.10977079  39.09450112   0.91059734  -1.29819994   0.64237916]\n",
      "Hyper-parameters at iteration 101 : [  1.16953429  39.91031706   0.91076853  -1.26773394   0.69371741]\n"
     ]
    }
   ],
   "source": [
    "opts = {'maxiter': 150, 'mydisp': True, 'print_freq': 1}\n",
    "lbfgs_svi_res = lbfgs_svi_gp.fit(x_tr, y_tr, num_inputs=ind_num, optimizer_options=opts, inputs=inputs)"
   ]
  },
  {
   "cell_type": "code",
   "execution_count": null,
   "metadata": {
    "collapsed": true
   },
   "outputs": [],
   "source": [
    "metric = lambda w: lbfgs_svi_gp.get_prediction_quality(w, x_test, y_test)\n",
    "lbfgs_svi_xi_lst, lbfgs_svi_xt_lst, lbfgs_svi_y_lst = lbfgs_svi_res.plot_performance(metric, 'it', freq=1)"
   ]
  },
  {
   "cell_type": "code",
   "execution_count": null,
   "metadata": {
    "collapsed": true
   },
   "outputs": [],
   "source": [
    "plot_results(lbfgs_svi_xi_lst, lbfgs_svi_xt_lst, lbfgs_svi_y_lst, '-go', 'svi-L-BFGS-B')"
   ]
  },
  {
   "cell_type": "code",
   "execution_count": null,
   "metadata": {
    "collapsed": true
   },
   "outputs": [],
   "source": [
    "np.save('../plots/regression_revision/'+ data_name +'/' + data_name + '_lbfgs_svi_xi.npy', lbfgs_svi_xi_lst)\n",
    "np.save('../plots/regression_revision/'+ data_name +'/' + data_name + '_lbfgs_svi_xt.npy', lbfgs_svi_xt_lst)\n",
    "np.save('../plots/regression_revision/' + data_name +'/' + data_name + '_lbfgs_svi_y.npy', lbfgs_svi_y_lst)"
   ]
  },
  {
   "cell_type": "markdown",
   "metadata": {},
   "source": [
    "## VI\n",
    "L-BFGS-B optimization method applied to the vi objective (see the text)."
   ]
  },
  {
   "cell_type": "code",
   "execution_count": 19,
   "metadata": {
    "collapsed": false
   },
   "outputs": [],
   "source": [
    "model_covariance_obj = SquaredExponential(np.copy(cov_params))\n",
    "vi_gp = GPR(model_covariance_obj, method='means', optimizer='L-BFGS-B')"
   ]
  },
  {
   "cell_type": "code",
   "execution_count": 20,
   "metadata": {
    "collapsed": false
   },
   "outputs": [
    {
     "name": "stdout",
     "output_type": "stream",
     "text": [
      "Hyper-parameters at iteration 0 : [  0.8  30.    1.2]\n",
      "Hyper-parameters at iteration 1 : [  1.00580242  30.0003107    1.19959647]\n",
      "Hyper-parameters at iteration 2 : [  1.15580065  30.00201936   0.80471129]\n",
      "Hyper-parameters at iteration 3 : [  1.00672087  30.00139335   0.98476344]\n",
      "Hyper-parameters at iteration 4 : [  1.06713063  30.00182886   0.92127942]\n",
      "Hyper-parameters at iteration 5 : [  1.11088763  30.00236711   0.89281945]\n",
      "Hyper-parameters at iteration 6 : [  1.09112742  30.00248501   0.89911723]\n",
      "Hyper-parameters at iteration 7 : [  1.09710583  30.00277374   0.89899228]\n",
      "Hyper-parameters at iteration 8 : [  1.09240852  30.03577201   0.8979479 ]\n",
      "Hyper-parameters at iteration 9 : [  1.08374262  30.23562968   0.8956346 ]\n",
      "Hyper-parameters at iteration 10 : [  1.08018615  30.9671822    0.89104655]\n",
      "Hyper-parameters at iteration 11 : [  1.10565835  33.05857061   0.88366017]\n",
      "Hyper-parameters at iteration 12 : [  1.23321686  39.34998026   0.87020352]\n",
      "Hyper-parameters at iteration 13 : [  1.5688629   54.11342959   0.85614799]\n",
      "Hyper-parameters at iteration 14 : [  2.05249553  74.72429362   0.8588053 ]\n",
      "Hyper-parameters at iteration 15 : [  2.60022116  95.32287451   0.87062522]\n",
      "Hyper-parameters at iteration 16 : [   3.34059956  119.94140092    0.87963922]\n",
      "Hyper-parameters at iteration 17 : [   4.43101435  152.01914851    0.87335352]\n",
      "Hyper-parameters at iteration 18 : [   6.1025723   205.6156384     0.91068758]\n",
      "Hyper-parameters at iteration 19 : [   6.62864424  218.5264197     0.8898186 ]\n",
      "Hyper-parameters at iteration 20 : [   8.3061042  265.1762924    0.8722322]\n",
      "Hyper-parameters at iteration 21 : [   8.31319862  265.3785504     0.87218773]\n",
      "Hyper-parameters at iteration 22 : [   8.96551215  249.53768707    0.88087987]\n",
      "Hyper-parameters at iteration 23 : [   9.30963313  241.00872098    0.88479904]\n",
      "Hyper-parameters at iteration 24 : [   9.28408993  241.7649091     0.88441192]\n",
      "Hyper-parameters at iteration 25 : [   9.28594803  242.22699712    0.88370437]\n",
      "Hyper-parameters at iteration 26 : [   9.28596981  242.22421836    0.88370754]\n",
      "Hyper-parameters at iteration 27 : [   9.2859599   242.22422087    0.8841741 ]\n",
      "Hyper-parameters at iteration 28 : [   9.28589785  242.22421437    0.88410147]\n",
      "Hyper-parameters at iteration 29 : [   9.28589791  242.22421437    0.88410145]\n",
      "Warning, matrix is not positive definite [  2.26233027e+01   2.44324773e+02   1.00000000e-02]\n",
      "Hyper-parameters at iteration 30 : [   9.30245568  242.22682212    0.8830163 ]\n",
      "Hyper-parameters at iteration 31 : [   9.30402282  242.22705874    0.88372416]\n"
     ]
    }
   ],
   "source": [
    "opts = {'maxiter': 50, 'mydisp': True}\n",
    "vi_res = vi_gp.fit(x_tr, y_tr, num_inputs=ind_num, optimizer_options=opts, inputs=inputs)"
   ]
  },
  {
   "cell_type": "code",
   "execution_count": null,
   "metadata": {
    "collapsed": true
   },
   "outputs": [],
   "source": [
    "metric = lambda w: vi_gp.get_prediction_quality(w, x_tr, y_tr, x_test, y_test)\n",
    "vi_xi_lst, vi_xt_lst, vi_y_lst = vi_res.plot_performance(metric, 'it', freq=1)"
   ]
  },
  {
   "cell_type": "code",
   "execution_count": null,
   "metadata": {
    "collapsed": true
   },
   "outputs": [],
   "source": [
    "plot_results(vi_xi_lst, vi_xt_lst, vi_y_lst, '-bo', 'svi-L-BFGS-B')"
   ]
  },
  {
   "cell_type": "code",
   "execution_count": null,
   "metadata": {
    "collapsed": true
   },
   "outputs": [],
   "source": [
    "vi_y_lst[-1]"
   ]
  },
  {
   "cell_type": "code",
   "execution_count": null,
   "metadata": {
    "collapsed": true
   },
   "outputs": [],
   "source": [
    "np.save('../plots/regression_revision/' + data_name +'/' + data_name + '_vi_xi.npy', vi_xi_lst)\n",
    "np.save('../plots/regression_revision/' + data_name +'/' + data_name + '_vi_xt.npy', vi_xt_lst)\n",
    "np.save('../plots/regression_revision/' + data_name +'/' + data_name + '_vi_y.npy', vi_y_lst)"
   ]
  },
  {
   "cell_type": "markdown",
   "metadata": {},
   "source": [
    "## Stochastic SVI\n",
    "Stochastic (incremental) optimization methods applied to the svi objective (see the text).\n",
    "### AdaDelta-Cholesky\n",
    "Adadelta method from climin library."
   ]
  },
  {
   "cell_type": "code",
   "execution_count": 34,
   "metadata": {
    "collapsed": false
   },
   "outputs": [],
   "source": [
    "model_covariance_obj = SquaredExponential(np.copy(cov_params))\n",
    "ad_svi_gp = GPR(model_covariance_obj, method='svi', parametrization='cholesky', optimizer='AdaDelta')"
   ]
  },
  {
   "cell_type": "code",
   "execution_count": 35,
   "metadata": {
    "collapsed": false,
    "scrolled": true
   },
   "outputs": [
    {
     "name": "stdout",
     "output_type": "stream",
     "text": [
      "Using AdaDelta optimizer\n",
      "Iteration  1 :\n",
      "\tGradient norm 0.042517531088\n",
      "Iteration  2 :\n",
      "\tGradient norm 0.0226692873266\n",
      "Iteration  3 :\n",
      "\tGradient norm 0.0257685664814\n",
      "Iteration  4 :\n",
      "\tGradient norm 0.0165876655682\n",
      "Iteration  5 :\n",
      "\tGradient norm 0.0600443855219\n",
      "Iteration  6 :\n",
      "\tGradient norm 0.0686911948207\n",
      "Iteration  7 :\n",
      "\tGradient norm 0.0887501124764\n",
      "Iteration  8 :\n",
      "\tGradient norm 0.217477671373\n",
      "Iteration  9 :\n",
      "\tGradient norm 0.0784745857768\n",
      "Iteration  10 :\n",
      "\tGradient norm 0.0395714258682\n"
     ]
    }
   ],
   "source": [
    "opts = {'mydisp': True, 'print_freq': 1, 'step_rate': 1.1,\n",
    "                'maxiter': 150, 'batch_size':5000}\n",
    "ad_svi_res = ad_svi_gp.fit(x_tr, y_tr, num_inputs=ind_num, optimizer_options=opts, inputs=inputs)"
   ]
  },
  {
   "cell_type": "code",
   "execution_count": null,
   "metadata": {
    "collapsed": true
   },
   "outputs": [],
   "source": [
    "metric = lambda w: ad_svi_gp.get_prediction_quality(w, x_test, y_test)\n",
    "ad_svi_xi_lst, ad_svi_xt_lst, ad_svi_y_lst = ad_svi_res.plot_performance(metric, 'it', freq=5)"
   ]
  },
  {
   "cell_type": "code",
   "execution_count": null,
   "metadata": {
    "collapsed": true
   },
   "outputs": [],
   "source": [
    "plot_results(ad_svi_xi_lst, ad_svi_xt_lst, ad_svi_y_lst, '-ro', 'svi-L-BFGS-B')"
   ]
  },
  {
   "cell_type": "code",
   "execution_count": null,
   "metadata": {
    "collapsed": true
   },
   "outputs": [],
   "source": [
    "ad_svi_y_lst[-1]"
   ]
  },
  {
   "cell_type": "code",
   "execution_count": null,
   "metadata": {
    "collapsed": true
   },
   "outputs": [],
   "source": [
    "np.save('../plots/regression_revision/' + data_name +'/' + data_name + '_ad_svi_xi.npy', ad_svi_xi_lst)\n",
    "np.save('../plots/regression_revision/' + data_name +'/' + data_name + '_ad_svi_xt.npy', ad_svi_xt_lst)\n",
    "np.save('../plots/regression_revision/' + data_name +'/' + data_name + '_ad_svi_y.npy', ad_svi_y_lst)"
   ]
  }
 ],
 "metadata": {
  "kernelspec": {
   "display_name": "Python 3",
   "language": "python",
   "name": "python3"
  },
  "language_info": {
   "codemirror_mode": {
    "name": "ipython",
    "version": 3
   },
   "file_extension": ".py",
   "mimetype": "text/x-python",
   "name": "python",
   "nbconvert_exporter": "python",
   "pygments_lexer": "ipython3",
   "version": "3.4.3"
  }
 },
 "nbformat": 4,
 "nbformat_minor": 0
}
