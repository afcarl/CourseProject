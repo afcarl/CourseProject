{
 "cells": [
  {
   "cell_type": "markdown",
   "metadata": {},
   "source": [
    "# YearPredictionMSD dataset\n",
    "\n",
    "Comparison of different inducing point GP-regression methods."
   ]
  },
  {
   "cell_type": "code",
   "execution_count": 5,
   "metadata": {
    "collapsed": false
   },
   "outputs": [],
   "source": [
    "import sys\n",
    "sys.path.append('/Users/IzmailovPavel/Documents/Education/Course Project/Code')\n",
    "import numpy as np\n",
    "import matplotlib as mpl\n",
    "\n",
    "from matplotlib import pyplot as plt\n",
    "\n",
    "from GP.covariance_functions import SquaredExponential\n",
    "from GP.gaussian_process_regression import GPR\n",
    "\n",
    "from sklearn.cluster import KMeans\n",
    "\n",
    "from sklearn.datasets import load_svmlight_file\n",
    "from sklearn.preprocessing import StandardScaler\n",
    "from sklearn.utils import shuffle\n",
    "from sklearn.svm import SVR, LinearSVR\n",
    "from sklearn.metrics import r2_score, mean_squared_error\n",
    "%matplotlib inline\n",
    "%load_ext autoreload\n",
    "%autoreload 2"
   ]
  },
  {
   "cell_type": "markdown",
   "metadata": {},
   "source": [
    "Loading the data"
   ]
  },
  {
   "cell_type": "code",
   "execution_count": 6,
   "metadata": {
    "collapsed": false
   },
   "outputs": [
    {
     "name": "stdout",
     "output_type": "stream",
     "text": [
      "of objects: 100000\n",
      "of features 90\n",
      "year prediction\n"
     ]
    },
    {
     "name": "stderr",
     "output_type": "stream",
     "text": [
      "/Library/Frameworks/Python.framework/Versions/3.4/lib/python3.4/site-packages/IPython/kernel/__main__.py:6: VisibleDeprecationWarning: using a non-integer number instead of an integer will result in an error in the future\n",
      "/Library/Frameworks/Python.framework/Versions/3.4/lib/python3.4/site-packages/IPython/kernel/__main__.py:7: VisibleDeprecationWarning: using a non-integer number instead of an integer will result in an error in the future\n"
     ]
    }
   ],
   "source": [
    "x_tr, y_tr = load_svmlight_file('../../../../Programming/DataSets/Regression/yearprediction(463715, 90).txt')\n",
    "x_tr, y_tr = shuffle(x_tr, y_tr, random_state=241)\n",
    "data_name = 'year prediction'\n",
    "file_name = data_name\n",
    "\n",
    "x_tr = x_tr.toarray()[:1e5 * 1.25, :].T\n",
    "y_tr = y_tr[:1e5 * 1.25]\n",
    "scaler_x = StandardScaler()\n",
    "scaler_y = StandardScaler()\n",
    "\n",
    "y_tr = y_tr.reshape((y_tr.size, 1))\n",
    "x_test = x_tr[:, int(x_tr.shape[1] * 0.8):]\n",
    "y_test = y_tr[int(x_tr.shape[1] * 0.8):, :]\n",
    "y_tr = y_tr[:int(x_tr.shape[1] * 0.8), :]\n",
    "x_tr = x_tr[:, : int(x_tr.shape[1] * 0.8)]\n",
    "\n",
    "\n",
    "x_tr = scaler_x.fit_transform(x_tr.T).T\n",
    "x_test = scaler_x.transform(x_test.T).T\n",
    "y_tr = scaler_y.fit_transform(y_tr)\n",
    "y_test = scaler_y.transform(y_test)\n",
    "\n",
    "\n",
    "dim, num = x_tr.shape\n",
    "print('of objects:', num)\n",
    "print('of features', dim)\n",
    "print(data_name)"
   ]
  },
  {
   "cell_type": "markdown",
   "metadata": {},
   "source": [
    "## Linear SVM\n",
    "We train an SVM with linear kernel for reference."
   ]
  },
  {
   "cell_type": "code",
   "execution_count": 6,
   "metadata": {
    "collapsed": false
   },
   "outputs": [
    {
     "data": {
      "text/plain": [
       "0.18896676527735246"
      ]
     },
     "execution_count": 6,
     "metadata": {},
     "output_type": "execute_result"
    }
   ],
   "source": [
    "svm = LinearSVR(C=1e0)\n",
    "svm.fit(x_tr.T, y_tr[:, 0])\n",
    "pred = svm.predict(x_test.T)\n",
    "r2_score(y_test, pred)"
   ]
  },
  {
   "cell_type": "code",
   "execution_count": 7,
   "metadata": {
    "collapsed": false
   },
   "outputs": [
    {
     "data": {
      "text/plain": [
       "0.8886236132722114"
      ]
     },
     "execution_count": 7,
     "metadata": {},
     "output_type": "execute_result"
    }
   ],
   "source": [
    "np.sqrt(mean_squared_error(y_test, pred))"
   ]
  },
  {
   "cell_type": "markdown",
   "metadata": {},
   "source": [
    "# K-means cluster centers as inducing inputs\n",
    "\n",
    "We use K-means cluster centers as inducing point positions and don't optimize wrt them."
   ]
  },
  {
   "cell_type": "code",
   "execution_count": 8,
   "metadata": {
    "collapsed": false
   },
   "outputs": [
    {
     "name": "stdout",
     "output_type": "stream",
     "text": [
      "Finding means...\n",
      "...found\n"
     ]
    }
   ],
   "source": [
    "ind_num = 500\n",
    "print('Finding means...')\n",
    "means = KMeans(n_clusters=ind_num, n_init=3, max_iter=100, random_state=241)\n",
    "means.fit(x_tr.T)\n",
    "inputs = means.cluster_centers_.T\n",
    "print('...found')"
   ]
  },
  {
   "cell_type": "code",
   "execution_count": 10,
   "metadata": {
    "collapsed": true
   },
   "outputs": [],
   "source": [
    "# np.save('yearpred_inputs.npy', inputs)"
   ]
  },
  {
   "cell_type": "code",
   "execution_count": 7,
   "metadata": {
    "collapsed": false
   },
   "outputs": [],
   "source": [
    "inputs = np.load('yearpred_inputs.npy')\n",
    "ind_num = inputs.shape[1]"
   ]
  },
  {
   "cell_type": "code",
   "execution_count": 8,
   "metadata": {
    "collapsed": false
   },
   "outputs": [],
   "source": [
    "cov_params = np.array([.8, 30., 1.2])\n",
    "# cov_params = np.array([1., 1., .5])"
   ]
  },
  {
   "cell_type": "code",
   "execution_count": 9,
   "metadata": {
    "collapsed": true
   },
   "outputs": [],
   "source": [
    "default_plot_interval = [0., .3]\n",
    "def plot_results(it_lst, t_lst, y_lst, clr, label, plot_interval=None):\n",
    "    if plot_interval is None:\n",
    "        plot_interval = default_plot_interval\n",
    "    plt.figure(figsize=(13,5))\n",
    "\n",
    "    plt.subplot(1, 2, 1)\n",
    "    plt.plot(it_lst, y_lst, clr, label=label)\n",
    "    plt.ylim(plot_interval)\n",
    "    plt.legend(loc=4)\n",
    "    plt.xlabel('Iterations')\n",
    "    plt.ylabel('r2 score on test-set')\n",
    "\n",
    "    plt.subplot(1, 2, 2)\n",
    "    plt.plot(t_lst, y_lst, clr, label=label)\n",
    "    plt.ylim(plot_interval)\n",
    "    plt.legend(loc=4)\n",
    "    plt.xlabel('Time(s)')\n",
    "    plt.ylabel('r2 score on test-set')"
   ]
  },
  {
   "cell_type": "markdown",
   "metadata": {},
   "source": [
    "# SVI-L-BFGS-B\n",
    "\n",
    "L-BFGS-B optimization method applied to the svi objective (see the text)."
   ]
  },
  {
   "cell_type": "code",
   "execution_count": 6,
   "metadata": {
    "collapsed": false
   },
   "outputs": [],
   "source": [
    "model_covariance_obj = SquaredExponential(np.copy(cov_params))\n",
    "lbfgs_svi_gp = GPR(model_covariance_obj, method='svi', parametrization='cholesky', optimizer='L-BFGS-B')"
   ]
  },
  {
   "cell_type": "code",
   "execution_count": 7,
   "metadata": {
    "collapsed": false,
    "scrolled": true
   },
   "outputs": [
    {
     "name": "stdout",
     "output_type": "stream",
     "text": [
      "Hyper-parameters at iteration 0 : [  0.8         30.           1.2         -2.10239123   0.85500267]\n",
      "Hyper-parameters at iteration 1 : [  0.80284434  30.00000429   1.04075978  -2.10239123   0.85500267]\n",
      "Hyper-parameters at iteration 2 : [  0.76909928  30.0011925    0.94424908  -2.10242159   0.85495448]\n",
      "Hyper-parameters at iteration 3 : [  0.7298171   30.00248187   0.93180974  -2.10245365   0.85490063]\n",
      "Hyper-parameters at iteration 4 : [  0.66098312  30.00506039   0.92522486  -2.10254319   0.85476504]\n",
      "Hyper-parameters at iteration 5 : [  0.66864787  30.00518305   0.9265835   -2.10255521   0.85474642]\n",
      "Hyper-parameters at iteration 6 : [  0.66846211  30.00569758   0.92613119  -2.10258326   0.85470375]\n",
      "Hyper-parameters at iteration 7 : [  0.66811751  30.00776799   0.92536777  -2.10269639   0.85453153]\n",
      "Hyper-parameters at iteration 8 : [  0.66778399  30.01387797   0.92422785  -2.10303023   0.85402278]\n",
      "Hyper-parameters at iteration 9 : [  0.66772444  30.03156609   0.92241228  -2.10399554   0.85254986]\n",
      "Hyper-parameters at iteration 10 : [  0.6688402   30.07640686   0.91989065  -2.10643776   0.8488176 ]\n",
      "Hyper-parameters at iteration 11 : [  0.67306179  30.17535702   0.91723078  -2.11180879   0.84059031]\n",
      "Hyper-parameters at iteration 12 : [  0.68201565  30.33336691   0.91665213  -2.1202969    0.82749976]\n",
      "Hyper-parameters at iteration 13 : [  0.67614898  30.39752735   0.91742257  -2.12031658   0.8240826 ]\n",
      "Hyper-parameters at iteration 14 : [  0.69022723  30.54709564   0.92097957  -2.12578468   0.81310374]\n",
      "Hyper-parameters at iteration 15 : [  0.70074515  30.63709325   0.92606426  -2.125505     0.80846409]\n",
      "Hyper-parameters at iteration 16 : [  0.70630504  30.68073457   0.92944065  -2.12231952   0.80789448]\n",
      "Hyper-parameters at iteration 17 : [  0.71331109  30.75609787   0.9326972   -2.11592133   0.80740552]\n",
      "Hyper-parameters at iteration 18 : [  0.72936177  30.97914088   0.93684727  -2.09966612   0.80448009]\n",
      "Hyper-parameters at iteration 19 : [  0.75946595  31.4712779    0.93887929  -2.06935341   0.79495464]\n",
      "Hyper-parameters at iteration 20 : [  0.80390421  32.26836289   0.93288513  -2.03931522   0.768893  ]\n",
      "Hyper-parameters at iteration 21 : [  0.80005801  32.31969457   0.92580323  -2.00765039   0.78333727]\n",
      "Hyper-parameters at iteration 22 : [  0.79614404  32.29239783   0.92256798  -2.02372847   0.77587415]\n",
      "Hyper-parameters at iteration 23 : [  0.79068124  32.23430897   0.92183722  -2.02709981   0.7769929 ]\n",
      "Hyper-parameters at iteration 24 : [  0.7884538   32.21734648   0.92142965  -2.02766066   0.77737048]\n",
      "Hyper-parameters at iteration 25 : [  0.78295529  32.17232301   0.92016556  -2.02838675   0.77820656]\n",
      "Hyper-parameters at iteration 26 : [  0.77718347  32.15477511   0.91882914  -2.02619561   0.77762941]\n",
      "Hyper-parameters at iteration 27 : [  0.77031225  32.13927801   0.91575638  -2.01741932   0.77499777]\n",
      "Hyper-parameters at iteration 28 : [  0.76929762  32.34186443   0.91244118  -1.9870038    0.76052743]\n",
      "Hyper-parameters at iteration 29 : [  0.78957167  32.8608526    0.90467673  -1.9022525    0.72751617]\n",
      "Hyper-parameters at iteration 30 : [  0.83976614  34.0071893    0.90611391  -1.78634311   0.6653229 ]\n",
      "Hyper-parameters at iteration 31 : [  0.90129331  34.78427852   0.90605628  -1.71717168   0.63189119]\n",
      "Hyper-parameters at iteration 32 : [  0.91346989  34.74691303   0.91526285  -1.72303982   0.62540532]\n",
      "Hyper-parameters at iteration 33 : [  0.942678    34.92239777   0.915443    -1.71901683   0.62546633]\n",
      "Hyper-parameters at iteration 34 : [  0.94898641  35.00663857   0.91699291  -1.70572926   0.62555004]\n",
      "Hyper-parameters at iteration 35 : [  0.94932008  35.00052404   0.9171457   -1.70583582   0.62616956]\n",
      "Hyper-parameters at iteration 36 : [  0.95655971  35.01113115   0.91839734  -1.70196705   0.62894163]\n",
      "Hyper-parameters at iteration 37 : [  0.96939661  35.09895057   0.9198124   -1.69240044   0.62960095]\n",
      "Hyper-parameters at iteration 38 : [  0.99807047  35.41211009   0.92121402  -1.66506869   0.62351658]\n",
      "Hyper-parameters at iteration 39 : [  1.04954739  36.14986594   0.92098485  -1.61253993   0.59917203]\n",
      "Hyper-parameters at iteration 40 : [  1.03589653  36.01021466   0.92289723  -1.63176827   0.61016013]\n",
      "Hyper-parameters at iteration 41 : [  1.0661511   36.58320934   0.91859388  -1.59798651   0.58530838]\n",
      "Hyper-parameters at iteration 42 : [  1.05563621  36.64070467   0.91464372  -1.59754388   0.57952568]\n",
      "Hyper-parameters at iteration 43 : [  1.03655458  36.58028417   0.91210981  -1.60014661   0.58053475]\n",
      "Hyper-parameters at iteration 44 : [  1.03391595  36.59167541   0.91370634  -1.598191     0.57677976]\n",
      "Hyper-parameters at iteration 45 : [  1.02308994  36.47908315   0.91282539  -1.60632136   0.58127688]\n",
      "Hyper-parameters at iteration 46 : [  1.01178993  36.34237251   0.91277786  -1.61313424   0.5877527 ]\n",
      "Hyper-parameters at iteration 47 : [  1.05786988  37.03396434   0.91901971  -1.54756285   0.57448893]\n",
      "Hyper-parameters at iteration 48 : [  1.07557984  37.2611963    0.91669496  -1.52429176   0.58487   ]\n",
      "Hyper-parameters at iteration 49 : [  1.1074447   37.71905396   0.91399675  -1.48493813   0.588243  ]\n",
      "Hyper-parameters at iteration 50 : [  1.13711544  38.19242051   0.91115551  -1.45282507   0.58459446]\n",
      "Hyper-parameters at iteration 51 : [  1.1871092   38.92297401   0.90528403  -1.40321346   0.56259002]\n",
      "Hyper-parameters at iteration 52 : [  1.18552288  38.98469918   0.90923217  -1.42175043   0.57779458]\n",
      "Hyper-parameters at iteration 53 : [  1.18119081  38.93226561   0.90927875  -1.43555813   0.57229377]\n",
      "Hyper-parameters at iteration 54 : [  1.23559838  39.43665478   0.90630058  -1.45243444   0.55716822]\n",
      "Hyper-parameters at iteration 55 : [  1.23842777  39.49148068   0.91006187  -1.44496953   0.55630228]\n",
      "Hyper-parameters at iteration 56 : [  1.22284642  39.27155681   0.91012569  -1.45827885   0.56524218]\n",
      "Hyper-parameters at iteration 57 : [  1.21395604  39.29958994   0.90846824  -1.457087     0.56917681]\n",
      "Hyper-parameters at iteration 58 : [  1.2161807   39.38329671   0.90788254  -1.45162642   0.57209445]\n",
      "Hyper-parameters at iteration 59 : [  1.23372984  39.73229241   0.90622219  -1.42867353   0.58165908]\n",
      "Hyper-parameters at iteration 60 : [  1.25758639  40.15020446   0.90545999  -1.39953185   0.59472298]\n",
      "Hyper-parameters at iteration 61 : [  1.27149905  40.36918056   0.90302546  -1.38689076   0.60042996]\n",
      "Hyper-parameters at iteration 62 : [  1.30538815  40.88143611   0.90320887  -1.35183098   0.62426057]\n",
      "Hyper-parameters at iteration 63 : [  1.30953899  41.23052186   0.90942952  -1.36860405   0.68336454]\n",
      "Hyper-parameters at iteration 64 : [  1.34631455  41.50539591   0.90688273  -1.30577315   0.67437127]\n",
      "Hyper-parameters at iteration 65 : [  1.34380474  41.37761605   0.9067713   -1.3160222    0.66985023]\n",
      "Hyper-parameters at iteration 66 : [  1.33769293  41.33026979   0.91038081  -1.31427265   0.66721928]\n",
      "Hyper-parameters at iteration 67 : [  1.3243364   41.12942791   0.9078541   -1.33887504   0.6719691 ]\n",
      "Hyper-parameters at iteration 68 : [  1.31136691  41.06165006   0.90626651  -1.34585798   0.67926526]\n",
      "Hyper-parameters at iteration 69 : [  1.29066589  41.05253643   0.90402887  -1.34945844   0.70231903]\n",
      "Hyper-parameters at iteration 70 : [  1.29434463  41.11218609   0.90464174  -1.35197153   0.71906974]\n",
      "Hyper-parameters at iteration 71 : [  1.30387421  41.6204901    0.90362911  -1.32685699   0.75290115]\n",
      "Hyper-parameters at iteration 72 : [  1.31019091  41.6152672    0.90789554  -1.33779959   0.75778775]\n",
      "Hyper-parameters at iteration 73 : [  1.35684857  42.2915498    0.90694453  -1.29181622   0.76973009]\n",
      "Hyper-parameters at iteration 74 : [  1.38279446  42.44953764   0.90364186  -1.28780605   0.76214015]\n",
      "Hyper-parameters at iteration 75 : [  1.45803168  43.47774689   0.90327011  -1.2232471    0.75542304]\n",
      "Hyper-parameters at iteration 76 : [  1.46372028  43.41580563   0.90332539  -1.23449035   0.74918946]\n",
      "Hyper-parameters at iteration 77 : [  1.47092034  43.48697736   0.90743789  -1.24278993   0.7508557 ]\n",
      "Hyper-parameters at iteration 78 : [  1.48974136  43.73375825   0.90022308  -1.24327469   0.76218486]\n",
      "Hyper-parameters at iteration 79 : [  1.48178975  43.71312724   0.90094541  -1.23800618   0.76174096]\n",
      "Hyper-parameters at iteration 80 : [  1.47803309  43.78445886   0.90130511  -1.2242189    0.7623847 ]\n",
      "Hyper-parameters at iteration 81 : [  1.50105208  44.05552046   0.90207144  -1.19897507   0.76360983]\n",
      "Hyper-parameters at iteration 82 : [  1.47857774  44.32348677   0.89899652  -1.19475332   0.76317927]\n",
      "Hyper-parameters at iteration 83 : [  1.5477973   44.92080371   0.90657284  -1.19183123   0.78410102]\n",
      "Hyper-parameters at iteration 84 : [  1.57977172  45.3421003    0.90319469  -1.17286468   0.79149642]\n",
      "Hyper-parameters at iteration 85 : [  1.59176559  45.52255278   0.90041729  -1.18058435   0.800054  ]\n",
      "Hyper-parameters at iteration 86 : [  1.6012995   45.63221163   0.89858451  -1.19724445   0.80729147]\n",
      "Hyper-parameters at iteration 87 : [  1.59651616  45.64664456   0.898077    -1.22150028   0.81294136]\n",
      "Hyper-parameters at iteration 88 : [  1.59904781  45.6195311    0.89614699  -1.2236509    0.81005685]\n",
      "Hyper-parameters at iteration 89 : [  1.58826603  45.56138048   0.89889015  -1.2418298    0.80887465]\n",
      "Hyper-parameters at iteration 90 : [  1.5826127   45.54144712   0.90111074  -1.2465068    0.80836053]\n",
      "Hyper-parameters at iteration 91 : [  1.57894572  45.5560328    0.90339777  -1.24743701   0.80893396]\n",
      "Hyper-parameters at iteration 92 : [  1.57941616  45.64873555   0.90520262  -1.24517385   0.81266861]\n",
      "Hyper-parameters at iteration 93 : [  1.58887933  46.01046615   0.90725121  -1.23584589   0.82751758]\n",
      "Hyper-parameters at iteration 94 : [  1.61033322  46.69472933   0.90681768  -1.21887594   0.85640593]\n",
      "Hyper-parameters at iteration 95 : [  1.65676927  47.13413866   0.90975207  -1.20176941   0.86736952]\n",
      "Hyper-parameters at iteration 96 : [  1.69476324  48.17463713   0.90239688  -1.19078798   0.90878539]\n",
      "Hyper-parameters at iteration 97 : [  1.69492007  48.03662257   0.90035336  -1.19011288   0.90089523]\n",
      "Hyper-parameters at iteration 98 : [  1.69950655  47.97473972   0.89859478  -1.18892081   0.89516673]\n",
      "Hyper-parameters at iteration 99 : [  1.70128666  47.96581268   0.89811968  -1.18884515   0.89312134]\n",
      "Hyper-parameters at iteration 100 : [  1.71249308  47.97129242   0.89604316  -1.18867458   0.88121544]\n",
      "Hyper-parameters at iteration 101 : [  1.72843999  48.06433104   0.89440928  -1.18936978   0.86542588]\n",
      "Hyper-parameters at iteration 102 : [  1.75384478  48.35432401   0.89425285  -1.19177051   0.84156011]\n",
      "Hyper-parameters at iteration 103 : [  1.75829702  48.40506542   0.89308205  -1.19111417   0.83970016]\n",
      "Hyper-parameters at iteration 104 : [  1.77069415  48.70319076   0.89512787  -1.19394159   0.82720812]\n",
      "Hyper-parameters at iteration 105 : [  1.7685455   48.85401837   0.89745597  -1.19581948   0.82816411]\n",
      "Hyper-parameters at iteration 106 : [  1.76463011  48.86941565   0.89815564  -1.19617677   0.8312974 ]\n",
      "Hyper-parameters at iteration 107 : [  1.76156579  48.87329744   0.89840226  -1.19636573   0.83354911]\n",
      "Hyper-parameters at iteration 108 : [  1.75419715  48.88815302   0.89872606  -1.19693803   0.83848966]\n",
      "Hyper-parameters at iteration 109 : [  1.74372199  48.95313837   0.89839957  -1.19884271   0.84535928]\n",
      "Hyper-parameters at iteration 110 : [  1.74279176  48.88292358   0.90207833  -1.19829435   0.85048864]\n",
      "Hyper-parameters at iteration 111 : [  1.73895286  49.14151109   0.90040981  -1.20416214   0.8523202 ]\n",
      "Hyper-parameters at iteration 112 : [  1.75510453  49.62960362   0.89636294  -1.21570579   0.85237592]\n",
      "Hyper-parameters at iteration 113 : [  1.79703808  50.08022612   0.89428794  -1.22570605   0.84222242]\n",
      "Hyper-parameters at iteration 114 : [  1.83101495  50.25458563   0.8945302   -1.22864536   0.83366696]\n",
      "Hyper-parameters at iteration 115 : [  1.85144747  50.31972167   0.89697752  -1.2299641    0.83057864]\n",
      "Hyper-parameters at iteration 116 : [  1.87162371  50.29509993   0.89535573  -1.22953739   0.83831968]\n",
      "Hyper-parameters at iteration 117 : [  1.86851336  50.35129885   0.89644534  -1.23078277   0.84179887]\n",
      "Hyper-parameters at iteration 118 : [  1.86641622  50.57032115   0.89770798  -1.23549465   0.85726961]\n",
      "Hyper-parameters at iteration 119 : [  1.87422964  50.76688851   0.89771279  -1.23915983   0.86554651]\n",
      "Hyper-parameters at iteration 120 : [  1.84647573  50.88727742   0.89556751  -1.24103244   0.87680582]\n",
      "Hyper-parameters at iteration 121 : [  1.85254824  50.94008979   0.89777121  -1.24214344   0.88015684]\n",
      "Hyper-parameters at iteration 122 : [  1.87100843  51.26023586   0.89638933  -1.24634995   0.88956019]\n",
      "Hyper-parameters at iteration 123 : [  1.92877657  52.2056848    0.89226288  -1.25574736   0.89882843]\n",
      "Hyper-parameters at iteration 124 : [  1.98013254  53.01838647   0.89027571  -1.26155769   0.88737578]\n",
      "Hyper-parameters at iteration 125 : [  2.00324287  53.4418452    0.89235138  -1.25906945   0.86591327]\n",
      "Hyper-parameters at iteration 126 : [  1.99689129  53.62741169   0.89118843  -1.26069956   0.84990733]\n",
      "Hyper-parameters at iteration 127 : [  1.99557496  53.73783728   0.89429581  -1.26302629   0.8525162 ]\n",
      "Hyper-parameters at iteration 128 : [  1.98916914  53.59219285   0.89449475  -1.26146391   0.85239638]\n",
      "Hyper-parameters at iteration 129 : [  1.98998895  53.51448532   0.89542063  -1.26239819   0.84327864]\n",
      "Hyper-parameters at iteration 130 : [  2.01013012  53.68794726   0.89721608  -1.27756915   0.82157286]\n",
      "Hyper-parameters at iteration 131 : [  2.05007671  54.3580759    0.89778883  -1.30910044   0.80892461]\n",
      "Hyper-parameters at iteration 132 : [  2.06483779  55.53828411   0.8859168   -1.35727732   0.80320511]\n",
      "Hyper-parameters at iteration 133 : [  2.11053627  56.00750519   0.89319256  -1.3733391    0.81768577]\n",
      "Hyper-parameters at iteration 134 : [  2.12520943  56.30431841   0.89334271  -1.38098958   0.83120954]\n",
      "Hyper-parameters at iteration 135 : [  2.13358901  56.73463446   0.89216827  -1.40132648   0.82833994]\n",
      "Hyper-parameters at iteration 136 : [  2.12795701  56.75398859   0.89127244  -1.40590209   0.84388673]\n",
      "Hyper-parameters at iteration 137 : [  2.1319582   57.09646493   0.88979494  -1.42283684   0.87112887]\n",
      "Hyper-parameters at iteration 138 : [  2.13948869  57.82398562   0.89734537  -1.45364418   0.89695089]\n",
      "Hyper-parameters at iteration 139 : [  2.14638408  57.65665276   0.89072758  -1.45909177   0.89404409]\n",
      "Hyper-parameters at iteration 140 : [  2.15451097  57.60459411   0.89282478  -1.45786261   0.88064968]\n",
      "Hyper-parameters at iteration 141 : [  2.17137238  57.75348313   0.895164    -1.46402596   0.8716775 ]\n",
      "Hyper-parameters at iteration 142 : [  2.18179333  57.90483247   0.89581414  -1.46931258   0.87063159]\n",
      "Hyper-parameters at iteration 143 : [  2.20863454  58.47770418   0.89593612  -1.48878334   0.8747554 ]\n",
      "Hyper-parameters at iteration 144 : [  2.22159976  58.6060717    0.89939099  -1.49655681   0.87679692]\n",
      "Hyper-parameters at iteration 145 : [  2.25103864  59.47903287   0.89785064  -1.52686293   0.8936644 ]\n",
      "Hyper-parameters at iteration 146 : [  2.25930395  60.33510871   0.89468879  -1.55930781   0.9192693 ]\n",
      "Hyper-parameters at iteration 147 : [  2.24207907  60.68499768   0.89215473  -1.57568325   0.93883355]\n",
      "Hyper-parameters at iteration 148 : [  2.2243954   60.62773199   0.89153288  -1.57646993   0.94344798]\n",
      "Hyper-parameters at iteration 149 : [  2.21476989  60.86825461   0.8941113   -1.59273449   0.96355116]\n",
      "Hyper-parameters at iteration 150 : [  2.20792525  60.68813144   0.89107612  -1.59272629   0.95947034]\n",
      "Hyper-parameters at iteration 151 : [  2.20862762  60.58618147   0.89112576  -1.58838101   0.95127549]\n"
     ]
    }
   ],
   "source": [
    "opts = {'maxiter': 150, 'mydisp': True, 'print_freq': 1}\n",
    "lbfgs_svi_res = lbfgs_svi_gp.fit(x_tr, y_tr, num_inputs=ind_num, optimizer_options=opts, inputs=inputs)"
   ]
  },
  {
   "cell_type": "code",
   "execution_count": 8,
   "metadata": {
    "collapsed": true
   },
   "outputs": [],
   "source": [
    "metric = lambda w: lbfgs_svi_gp.get_prediction_quality(w, x_test, y_test)\n",
    "lbfgs_svi_xi_lst, lbfgs_svi_xt_lst, lbfgs_svi_y_lst = lbfgs_svi_res.plot_performance(metric, 'it', freq=1)"
   ]
  },
  {
   "cell_type": "code",
   "execution_count": 9,
   "metadata": {
    "collapsed": false
   },
   "outputs": [
    {
     "data": {
      "image/png": "[encoded data removed]",
      "text/plain": [
       "<matplotlib.figure.Figure at 0x10d1f8828>"
      ]
     },
     "metadata": {},
     "output_type": "display_data"
    }
   ],
   "source": [
    "plot_results(lbfgs_svi_xi_lst, lbfgs_svi_xt_lst, lbfgs_svi_y_lst, '-go', 'svi-L-BFGS-B')"
   ]
  },
  {
   "cell_type": "code",
   "execution_count": 10,
   "metadata": {
    "collapsed": true
   },
   "outputs": [],
   "source": [
    "np.save('../plots/regression_revision/'+ data_name +'/' + data_name + '_lbfgs_svi_xi.npy', lbfgs_svi_xi_lst)\n",
    "np.save('../plots/regression_revision/'+ data_name +'/' + data_name + '_lbfgs_svi_xt.npy', lbfgs_svi_xt_lst)\n",
    "np.save('../plots/regression_revision/' + data_name +'/' + data_name + '_lbfgs_svi_y.npy', lbfgs_svi_y_lst)"
   ]
  },
  {
   "cell_type": "markdown",
   "metadata": {},
   "source": [
    "## VI\n",
    "L-BFGS-B optimization method applied to the vi objective (see the text)."
   ]
  },
  {
   "cell_type": "code",
   "execution_count": 11,
   "metadata": {
    "collapsed": false
   },
   "outputs": [],
   "source": [
    "model_covariance_obj = SquaredExponential(np.copy(cov_params))\n",
    "vi_gp = GPR(model_covariance_obj, method='means', optimizer='L-BFGS-B')"
   ]
  },
  {
   "cell_type": "code",
   "execution_count": 12,
   "metadata": {
    "collapsed": false
   },
   "outputs": [
    {
     "name": "stdout",
     "output_type": "stream",
     "text": [
      "Hyper-parameters at iteration 0 : [  0.8  30.    1.2]\n",
      "Hyper-parameters at iteration 1 : [  1.00580242  30.0003107    1.19959647]\n",
      "Hyper-parameters at iteration 2 : [  1.15580065  30.00201936   0.80471129]\n",
      "Hyper-parameters at iteration 3 : [  1.00672087  30.00139335   0.98476344]\n",
      "Hyper-parameters at iteration 4 : [  1.06713063  30.00182886   0.92127942]\n",
      "Hyper-parameters at iteration 5 : [  1.11088763  30.00236711   0.89281945]\n",
      "Hyper-parameters at iteration 6 : [  1.09112742  30.00248501   0.89911723]\n",
      "Hyper-parameters at iteration 7 : [  1.09710583  30.00277374   0.89899228]\n",
      "Hyper-parameters at iteration 8 : [  1.09240852  30.03577201   0.8979479 ]\n",
      "Hyper-parameters at iteration 9 : [  1.08374262  30.23562968   0.8956346 ]\n",
      "Hyper-parameters at iteration 10 : [  1.08018615  30.9671822    0.89104655]\n",
      "Hyper-parameters at iteration 11 : [  1.10565835  33.05857061   0.88366017]\n",
      "Hyper-parameters at iteration 12 : [  1.23321686  39.34998026   0.87020352]\n",
      "Hyper-parameters at iteration 13 : [  1.5688629   54.11342959   0.85614799]\n",
      "Hyper-parameters at iteration 14 : [  2.05249553  74.72429362   0.8588053 ]\n",
      "Hyper-parameters at iteration 15 : [  2.60022116  95.32287451   0.87062522]\n",
      "Hyper-parameters at iteration 16 : [   3.34059956  119.94140092    0.87963922]\n",
      "Hyper-parameters at iteration 17 : [   4.43101435  152.01914851    0.87335352]\n",
      "Hyper-parameters at iteration 18 : [   6.1025723   205.6156384     0.91068758]\n",
      "Hyper-parameters at iteration 19 : [   6.62864424  218.5264197     0.8898186 ]\n",
      "Hyper-parameters at iteration 20 : [   8.3061042  265.1762924    0.8722322]\n",
      "Hyper-parameters at iteration 21 : [   8.31319862  265.3785504     0.87218773]\n",
      "Hyper-parameters at iteration 22 : [   8.96551215  249.53768707    0.88087987]\n",
      "Hyper-parameters at iteration 23 : [   9.30963313  241.00872098    0.88479904]\n",
      "Hyper-parameters at iteration 24 : [   9.28408993  241.7649091     0.88441192]\n",
      "Hyper-parameters at iteration 25 : [   9.28594803  242.22699712    0.88370437]\n",
      "Hyper-parameters at iteration 26 : [   9.28596981  242.22421836    0.88370754]\n",
      "Hyper-parameters at iteration 27 : [   9.2859599   242.22422087    0.8841741 ]\n",
      "Hyper-parameters at iteration 28 : [   9.28589785  242.22421437    0.88410147]\n",
      "Hyper-parameters at iteration 29 : [   9.28589791  242.22421437    0.88410145]\n",
      "Warning, matrix is not positive definite [  2.26233027e+01   2.44324773e+02   1.00000000e-02]\n",
      "Hyper-parameters at iteration 30 : [   9.30245568  242.22682212    0.8830163 ]\n",
      "Hyper-parameters at iteration 31 : [   9.30402282  242.22705874    0.88372416]\n",
      "Hyper-parameters at iteration 32 : [   9.31368289  242.22855783    0.8847435 ]\n",
      "Hyper-parameters at iteration 33 : [   9.31613142  242.22893053    0.88401247]\n",
      "Hyper-parameters at iteration 34 : [   9.31635764  242.22896508    0.88395905]\n",
      "Hyper-parameters at iteration 35 : [   9.31633839  242.22895911    0.88399828]\n",
      "Hyper-parameters at iteration 36 : [   9.31639683  242.22896071    0.88416347]\n",
      "Hyper-parameters at iteration 37 : [   9.31641842  242.22895727    0.88414535]\n",
      "Warning, matrix is not positive definite [  1.07922481e+01   2.41995729e+02   1.00000000e-02]\n",
      "Hyper-parameters at iteration 38 : [   9.31641842  242.22895727    0.88414535]\n",
      "Warning, matrix is not positive definite [  1.79785685e+01   2.46162611e+02   1.00000000e-02]\n",
      "Hyper-parameters at iteration 39 : [   9.31641842  242.22895727    0.88414535]\n"
     ]
    }
   ],
   "source": [
    "opts = {'maxiter': 50, 'mydisp': True}\n",
    "vi_res = vi_gp.fit(x_tr, y_tr, num_inputs=ind_num, optimizer_options=opts, inputs=inputs)"
   ]
  },
  {
   "cell_type": "code",
   "execution_count": 13,
   "metadata": {
    "collapsed": true
   },
   "outputs": [],
   "source": [
    "metric = lambda w: vi_gp.get_prediction_quality(w, x_tr, y_tr, x_test, y_test)\n",
    "vi_xi_lst, vi_xt_lst, vi_y_lst = vi_res.plot_performance(metric, 'it', freq=1)"
   ]
  },
  {
   "cell_type": "code",
   "execution_count": 14,
   "metadata": {
    "collapsed": false
   },
   "outputs": [
    {
     "data": {
      "image/png": "[encoded data removed]",
      "text/plain": [
       "<matplotlib.figure.Figure at 0x11322ba58>"
      ]
     },
     "metadata": {},
     "output_type": "display_data"
    }
   ],
   "source": [
    "plot_results(vi_xi_lst, vi_xt_lst, vi_y_lst, '-bo', 'svi-L-BFGS-B')"
   ]
  },
  {
   "cell_type": "code",
   "execution_count": 15,
   "metadata": {
    "collapsed": false
   },
   "outputs": [
    {
     "data": {
      "text/plain": [
       "0.23369841885480236"
      ]
     },
     "execution_count": 15,
     "metadata": {},
     "output_type": "execute_result"
    }
   ],
   "source": [
    "vi_y_lst[-1]"
   ]
  },
  {
   "cell_type": "code",
   "execution_count": 16,
   "metadata": {
    "collapsed": true
   },
   "outputs": [],
   "source": [
    "np.save('../plots/regression_revision/' + data_name +'/' + data_name + '_vi_xi.npy', vi_xi_lst)\n",
    "np.save('../plots/regression_revision/' + data_name +'/' + data_name + '_vi_xt.npy', vi_xt_lst)\n",
    "np.save('../plots/regression_revision/' + data_name +'/' + data_name + '_vi_y.npy', vi_y_lst)"
   ]
  },
  {
   "cell_type": "markdown",
   "metadata": {},
   "source": [
    "## Stochastic SVI\n",
    "Stochastic (incremental) optimization methods applied to the svi objective (see the text).\n",
    "### AdaDelta-Cholesky\n",
    "Adadelta method from climin library."
   ]
  },
  {
   "cell_type": "code",
   "execution_count": 12,
   "metadata": {
    "collapsed": false
   },
   "outputs": [],
   "source": [
    "model_covariance_obj = SquaredExponential(np.copy(cov_params))\n",
    "ad_svi_gp = GPR(model_covariance_obj, method='svi', parametrization='cholesky', optimizer='AdaDelta')"
   ]
  },
  {
   "cell_type": "code",
   "execution_count": 13,
   "metadata": {
    "collapsed": false
   },
   "outputs": [
    {
     "name": "stdout",
     "output_type": "stream",
     "text": [
      "Using AdaDelta optimizer\n",
      "Iteration  1 :\n",
      "\tGradient norm 0.123036946515\n",
      "Iteration  2 :\n",
      "\tGradient norm 0.1949454521\n",
      "Iteration  3 :\n",
      "\tGradient norm 0.0930450956654\n",
      "Iteration  4 :\n",
      "\tGradient norm 0.192171364361\n",
      "Iteration  5 :\n",
      "\tGradient norm 0.031888463371\n",
      "Iteration  6 :\n",
      "\tGradient norm 0.10221390884\n",
      "Iteration  7 :\n",
      "\tGradient norm 0.0524321891838\n",
      "Iteration  8 :\n",
      "\tGradient norm 0.116124213115\n",
      "Iteration  9 :\n",
      "\tGradient norm 0.0566724346926\n",
      "Iteration  10 :\n",
      "\tGradient norm 0.10417074905\n",
      "Iteration  11 :\n",
      "\tGradient norm 0.199399952528\n",
      "Iteration  12 :\n",
      "\tGradient norm 0.0300011380389\n",
      "Iteration  13 :\n",
      "\tGradient norm 0.0756458316625\n",
      "Iteration  14 :\n",
      "\tGradient norm 0.137083522637\n",
      "Iteration  15 :\n",
      "\tGradient norm 0.0316021722814\n",
      "Iteration  16 :\n",
      "\tGradient norm 0.132526560816\n",
      "Iteration  17 :\n",
      "\tGradient norm 0.0743148531787\n",
      "Iteration  18 :\n",
      "\tGradient norm 0.014221515866\n",
      "Iteration  19 :\n",
      "\tGradient norm 0.117613650229\n",
      "Iteration  20 :\n",
      "\tGradient norm 0.223806875648\n",
      "Iteration  21 :\n",
      "\tGradient norm 0.0567124040185\n",
      "Iteration  22 :\n",
      "\tGradient norm 0.103594124617\n",
      "Iteration  23 :\n",
      "\tGradient norm 0.127111572186\n",
      "Iteration  24 :\n",
      "\tGradient norm 0.0374888125766\n",
      "Iteration  25 :\n",
      "\tGradient norm 0.144983203811\n",
      "Iteration  26 :\n",
      "\tGradient norm 0.0298376264562\n",
      "Iteration  27 :\n",
      "\tGradient norm 0.135102170081\n",
      "Iteration  28 :\n",
      "\tGradient norm 0.136491060395\n",
      "Iteration  29 :\n",
      "\tGradient norm 0.106741488261\n",
      "Iteration  30 :\n",
      "\tGradient norm 0.110786823687\n",
      "Iteration  31 :\n",
      "\tGradient norm 0.0663836710343\n",
      "Iteration  32 :\n",
      "\tGradient norm 0.0704784013061\n",
      "Iteration  33 :\n",
      "\tGradient norm 0.0698826891208\n",
      "Iteration  34 :\n",
      "\tGradient norm 0.138886236617\n",
      "Iteration  35 :\n",
      "\tGradient norm 0.125050239517\n",
      "Iteration  36 :\n",
      "\tGradient norm 0.0768674520568\n",
      "Iteration  37 :\n",
      "\tGradient norm 0.301460940812\n",
      "Iteration  38 :\n",
      "\tGradient norm 0.0864662477376\n",
      "Iteration  39 :\n",
      "\tGradient norm 0.107914912708\n",
      "Iteration  40 :\n",
      "\tGradient norm 0.072610810826\n",
      "Iteration  41 :\n",
      "\tGradient norm 0.0614251391452\n",
      "Iteration  42 :\n",
      "\tGradient norm 0.0638508733624\n",
      "Iteration  43 :\n",
      "\tGradient norm 0.0379256066849\n",
      "Iteration  44 :\n",
      "\tGradient norm 0.181639370688\n",
      "Iteration  45 :\n",
      "\tGradient norm 0.223804896952\n",
      "Iteration  46 :\n",
      "\tGradient norm 0.0444932410417\n",
      "Iteration  47 :\n",
      "\tGradient norm 0.086845288528\n",
      "Iteration  48 :\n",
      "\tGradient norm 0.0946045423564\n",
      "Iteration  49 :\n",
      "\tGradient norm 0.0204214565696\n",
      "Iteration  50 :\n",
      "\tGradient norm 0.177714372887\n",
      "Iteration  51 :\n",
      "\tGradient norm 0.0772840697039\n",
      "Iteration  52 :\n",
      "\tGradient norm 0.0479366720003\n",
      "Iteration  53 :\n",
      "\tGradient norm 0.101898271102\n",
      "Iteration  54 :\n",
      "\tGradient norm 0.085511856966\n",
      "Iteration  55 :\n",
      "\tGradient norm 0.0857644381973\n",
      "Iteration  56 :\n",
      "\tGradient norm 0.064923109238\n",
      "Iteration  57 :\n",
      "\tGradient norm 0.113782457393\n",
      "Iteration  58 :\n",
      "\tGradient norm 0.0385286321658\n",
      "Iteration  59 :\n",
      "\tGradient norm 0.105097369395\n",
      "Iteration  60 :\n",
      "\tGradient norm 0.039659970219\n",
      "Iteration  61 :\n",
      "\tGradient norm 0.0861513297291\n",
      "Iteration  62 :\n",
      "\tGradient norm 0.126187196264\n",
      "Iteration  63 :\n",
      "\tGradient norm 0.0227035371498\n",
      "Iteration  64 :\n",
      "\tGradient norm 0.354634614728\n",
      "Iteration  65 :\n",
      "\tGradient norm 0.0195137844923\n",
      "Iteration  66 :\n",
      "\tGradient norm 0.0887412440859\n",
      "Iteration  67 :\n",
      "\tGradient norm 0.022012778718\n",
      "Iteration  68 :\n",
      "\tGradient norm 0.139053184817\n",
      "Iteration  69 :\n",
      "\tGradient norm 0.133833598013\n",
      "Iteration  70 :\n",
      "\tGradient norm 0.0485260830964\n",
      "Iteration  71 :\n",
      "\tGradient norm 0.0591188407946\n",
      "Iteration  72 :\n",
      "\tGradient norm 0.112771615758\n",
      "Iteration  73 :\n",
      "\tGradient norm 0.0621604569525\n",
      "Iteration  74 :\n",
      "\tGradient norm 0.0846126124751\n",
      "Iteration  75 :\n",
      "\tGradient norm 0.190549642927\n",
      "Iteration  76 :\n",
      "\tGradient norm 0.165653429148\n",
      "Iteration  77 :\n",
      "\tGradient norm 0.131807858323\n",
      "Iteration  78 :\n",
      "\tGradient norm 0.0462637096869\n",
      "Iteration  79 :\n",
      "\tGradient norm 0.0591734802946\n",
      "Iteration  80 :\n",
      "\tGradient norm 0.065255141879\n",
      "Iteration  81 :\n",
      "\tGradient norm 0.0837968759224\n",
      "Iteration  82 :\n",
      "\tGradient norm 0.102806033133\n",
      "Iteration  83 :\n",
      "\tGradient norm 0.184125246194\n",
      "Iteration  84 :\n",
      "\tGradient norm 0.0506300171975\n",
      "Iteration  85 :\n",
      "\tGradient norm 0.0540995488175\n",
      "Iteration  86 :\n",
      "\tGradient norm 0.0900680229439\n",
      "Iteration  87 :\n",
      "\tGradient norm 0.077845344125\n",
      "Iteration  88 :\n",
      "\tGradient norm 0.127239437103\n",
      "Iteration  89 :\n",
      "\tGradient norm 0.178177675075\n",
      "Iteration  90 :\n",
      "\tGradient norm 0.052183747861\n",
      "Iteration  91 :\n",
      "\tGradient norm 0.0388498945817\n",
      "Iteration  92 :\n",
      "\tGradient norm 0.144115072783\n",
      "Iteration  93 :\n",
      "\tGradient norm 0.0896083004135\n",
      "Iteration  94 :\n",
      "\tGradient norm 0.119987812755\n",
      "Iteration  95 :\n",
      "\tGradient norm 0.0905653553905\n",
      "Iteration  96 :\n",
      "\tGradient norm 0.0250411059453\n",
      "Iteration  97 :\n",
      "\tGradient norm 0.115776083866\n",
      "Iteration  98 :\n",
      "\tGradient norm 0.177894726103\n",
      "Iteration  99 :\n",
      "\tGradient norm 0.272162365703\n",
      "Iteration  100 :\n",
      "\tGradient norm 0.0453914411548\n",
      "Iteration  101 :\n",
      "\tGradient norm 0.115734197628\n",
      "Iteration  102 :\n",
      "\tGradient norm 0.00817360377279\n",
      "Iteration  103 :\n",
      "\tGradient norm 0.0657655714704\n",
      "Iteration  104 :\n",
      "\tGradient norm 0.216846521256\n",
      "Iteration  105 :\n",
      "\tGradient norm 0.0302968056538\n",
      "Iteration  106 :\n",
      "\tGradient norm 0.024918567124\n",
      "Iteration  107 :\n",
      "\tGradient norm 0.156946252134\n",
      "Iteration  108 :\n",
      "\tGradient norm 0.0212330714315\n",
      "Iteration  109 :\n",
      "\tGradient norm 0.0742114181601\n",
      "Iteration  110 :\n",
      "\tGradient norm 0.0343067953649\n",
      "Iteration  111 :\n",
      "\tGradient norm 0.0564579729222\n",
      "Iteration  112 :\n",
      "\tGradient norm 0.14249230893\n",
      "Iteration  113 :\n",
      "\tGradient norm 0.160663632472\n",
      "Iteration  114 :\n",
      "\tGradient norm 0.206421505529\n",
      "Iteration  115 :\n",
      "\tGradient norm 0.165884314202\n",
      "Iteration  116 :\n",
      "\tGradient norm 0.258277061972\n",
      "Iteration  117 :\n",
      "\tGradient norm 0.0745387247974\n",
      "Iteration  118 :\n",
      "\tGradient norm 0.0620583347226\n",
      "Iteration  119 :\n",
      "\tGradient norm 0.0753199112315\n",
      "Iteration  120 :\n",
      "\tGradient norm 0.0654910043575\n",
      "Iteration  121 :\n",
      "\tGradient norm 0.0528642529055\n",
      "Iteration  122 :\n",
      "\tGradient norm 0.208027165506\n",
      "Iteration  123 :\n",
      "\tGradient norm 0.0965621484253\n",
      "Iteration  124 :\n",
      "\tGradient norm 0.0702572565314\n",
      "Iteration  125 :\n",
      "\tGradient norm 0.117909797212\n",
      "Iteration  126 :\n",
      "\tGradient norm 0.0422997484687\n",
      "Iteration  127 :\n",
      "\tGradient norm 0.1204075128\n",
      "Iteration  128 :\n",
      "\tGradient norm 0.121687302571\n",
      "Iteration  129 :\n",
      "\tGradient norm 0.148835905604\n",
      "Iteration  130 :\n",
      "\tGradient norm 0.0351279576001\n",
      "Iteration  131 :\n",
      "\tGradient norm 0.0776724892085\n",
      "Iteration  132 :\n",
      "\tGradient norm 0.031920003516\n",
      "Iteration  133 :\n",
      "\tGradient norm 0.0365097083449\n",
      "Iteration  134 :\n",
      "\tGradient norm 0.075318547165\n",
      "Iteration  135 :\n",
      "\tGradient norm 0.161684254194\n",
      "Iteration  136 :\n",
      "\tGradient norm 0.0325364182011\n",
      "Iteration  137 :\n",
      "\tGradient norm 0.2817158273\n",
      "Iteration  138 :\n",
      "\tGradient norm 0.0243783151745\n",
      "Iteration  139 :\n",
      "\tGradient norm 0.00523214338169\n",
      "Iteration  140 :\n",
      "\tGradient norm 0.133037813668\n",
      "Iteration  141 :\n",
      "\tGradient norm 0.0362009235098\n",
      "Iteration  142 :\n",
      "\tGradient norm 0.158477668179\n",
      "Iteration  143 :\n",
      "\tGradient norm 0.151989423533\n",
      "Iteration  144 :\n",
      "\tGradient norm 0.0595614103833\n",
      "Iteration  145 :\n",
      "\tGradient norm 0.0583965924827\n",
      "Iteration  146 :\n",
      "\tGradient norm 0.0832574563825\n",
      "Iteration  147 :\n",
      "\tGradient norm 0.0352572415861\n",
      "Iteration  148 :\n",
      "\tGradient norm 0.151215970511\n",
      "Iteration  149 :\n",
      "\tGradient norm 0.0718544859183\n",
      "Iteration  150 :\n",
      "\tGradient norm 0.0232870508888\n",
      "Iteration  151 :\n",
      "\tGradient norm 0.104539483666\n",
      "Iteration  152 :\n",
      "\tGradient norm 0.159813869788\n",
      "Iteration  153 :\n",
      "\tGradient norm 0.140762453588\n",
      "Iteration  154 :\n",
      "\tGradient norm 0.103272309761\n",
      "Iteration  155 :\n",
      "\tGradient norm 0.0405085529991\n",
      "Iteration  156 :\n",
      "\tGradient norm 0.0334176119785\n",
      "Iteration  157 :\n",
      "\tGradient norm 0.233887155947\n",
      "Iteration  158 :\n",
      "\tGradient norm 0.131757976589\n",
      "Iteration  159 :\n",
      "\tGradient norm 0.140236709762\n",
      "Iteration  160 :\n",
      "\tGradient norm 0.0978240999708\n",
      "Iteration  161 :\n",
      "\tGradient norm 0.0387356641757\n",
      "Iteration  162 :\n",
      "\tGradient norm 0.0763714556843\n",
      "Iteration  163 :\n",
      "\tGradient norm 0.150000748789\n",
      "Iteration  164 :\n",
      "\tGradient norm 0.244717396699\n",
      "Iteration  165 :\n",
      "\tGradient norm 0.0457580079482\n",
      "Iteration  166 :\n",
      "\tGradient norm 0.108569408531\n",
      "Iteration  167 :\n",
      "\tGradient norm 0.051954240914\n",
      "Iteration  168 :\n",
      "\tGradient norm 0.0591164886572\n",
      "Iteration  169 :\n",
      "\tGradient norm 0.0443212727123\n",
      "Iteration  170 :\n",
      "\tGradient norm 0.104232377671\n",
      "Iteration  171 :\n",
      "\tGradient norm 0.055302870379\n",
      "Iteration  172 :\n",
      "\tGradient norm 0.233493663035\n",
      "Iteration  173 :\n",
      "\tGradient norm 0.0984994431596\n",
      "Iteration  174 :\n",
      "\tGradient norm 0.0464062569335\n",
      "Iteration  175 :\n",
      "\tGradient norm 0.0489050705496\n",
      "Iteration  176 :\n",
      "\tGradient norm 0.00901633729496\n",
      "Iteration  177 :\n",
      "\tGradient norm 0.149133400072\n",
      "Iteration  178 :\n",
      "\tGradient norm 0.0867978183209\n",
      "Iteration  179 :\n",
      "\tGradient norm 0.0991556256318\n",
      "Iteration  180 :\n",
      "\tGradient norm 0.0916376120738\n",
      "Iteration  181 :\n",
      "\tGradient norm 0.0920453363092\n",
      "Iteration  182 :\n",
      "\tGradient norm 0.0848555721323\n",
      "Iteration  183 :\n",
      "\tGradient norm 0.116254749165\n",
      "Iteration  184 :\n",
      "\tGradient norm 0.163349650528\n",
      "Iteration  185 :\n",
      "\tGradient norm 0.127483058054\n",
      "Iteration  186 :\n",
      "\tGradient norm 0.0261332914898\n",
      "Iteration  187 :\n",
      "\tGradient norm 0.0298603236425\n",
      "Iteration  188 :\n",
      "\tGradient norm 0.11394999872\n",
      "Iteration  189 :\n",
      "\tGradient norm 0.022563844843\n",
      "Iteration  190 :\n",
      "\tGradient norm 0.25576243046\n",
      "Iteration  191 :\n",
      "\tGradient norm 0.0499792978191\n",
      "Iteration  192 :\n",
      "\tGradient norm 0.264498485092\n",
      "Iteration  193 :\n",
      "\tGradient norm 0.113178901285\n",
      "Iteration  194 :\n",
      "\tGradient norm 0.192162258071\n",
      "Iteration  195 :\n",
      "\tGradient norm 0.0958889502915\n",
      "Iteration  196 :\n",
      "\tGradient norm 0.0187426773236\n",
      "Iteration  197 :\n",
      "\tGradient norm 0.0935574652112\n",
      "Iteration  198 :\n",
      "\tGradient norm 0.145860168175\n",
      "Iteration  199 :\n",
      "\tGradient norm 0.0228573136836\n",
      "Iteration  200 :\n",
      "\tGradient norm 0.147071506293\n",
      "Iteration  201 :\n",
      "\tGradient norm 0.0432930102373\n",
      "Iteration  202 :\n",
      "\tGradient norm 0.0364586881481\n",
      "Iteration  203 :\n",
      "\tGradient norm 0.111720683663\n",
      "Iteration  204 :\n",
      "\tGradient norm 0.219133855007\n",
      "Iteration  205 :\n",
      "\tGradient norm 0.086255226993\n",
      "Iteration  206 :\n",
      "\tGradient norm 0.0800002367053\n",
      "Iteration  207 :\n",
      "\tGradient norm 0.0749194514134\n",
      "Iteration  208 :\n",
      "\tGradient norm 0.0927719911756\n",
      "Iteration  209 :\n",
      "\tGradient norm 0.172825102946\n",
      "Iteration  210 :\n",
      "\tGradient norm 0.044507779226\n",
      "Iteration  211 :\n",
      "\tGradient norm 0.0285807023468\n",
      "Iteration  212 :\n",
      "\tGradient norm 0.169573350372\n",
      "Iteration  213 :\n",
      "\tGradient norm 0.13497083094\n",
      "Iteration  214 :\n",
      "\tGradient norm 0.0932382316981\n",
      "Iteration  215 :\n",
      "\tGradient norm 0.0118468712416\n",
      "Iteration  216 :\n",
      "\tGradient norm 0.0124983514452\n",
      "Iteration  217 :\n",
      "\tGradient norm 0.0512315992346\n",
      "Iteration  218 :\n",
      "\tGradient norm 0.14529661934\n",
      "Iteration  219 :\n",
      "\tGradient norm 0.178649625832\n",
      "Iteration  220 :\n",
      "\tGradient norm 0.0460688313335\n",
      "Iteration  221 :\n",
      "\tGradient norm 0.100965842367\n",
      "Iteration  222 :\n",
      "\tGradient norm 0.138702289485\n",
      "Iteration  223 :\n",
      "\tGradient norm 0.0164916123383\n",
      "Iteration  224 :\n",
      "\tGradient norm 0.103122113099\n",
      "Iteration  225 :\n",
      "\tGradient norm 0.037302684545\n",
      "Iteration  226 :\n",
      "\tGradient norm 0.0404852672964\n",
      "Iteration  227 :\n",
      "\tGradient norm 0.0393690500715\n",
      "Iteration  228 :\n",
      "\tGradient norm 0.0906368326592\n",
      "Iteration  229 :\n",
      "\tGradient norm 0.0829073560058\n",
      "Iteration  230 :\n",
      "\tGradient norm 0.0289013260957\n",
      "Iteration  231 :\n",
      "\tGradient norm 0.181655524133\n",
      "Iteration  232 :\n",
      "\tGradient norm 0.161270790664\n",
      "Iteration  233 :\n",
      "\tGradient norm 0.115417443815\n",
      "Iteration  234 :\n",
      "\tGradient norm 0.238077044709\n",
      "Iteration  235 :\n",
      "\tGradient norm 0.130384270947\n",
      "Iteration  236 :\n",
      "\tGradient norm 0.0540436757775\n",
      "Iteration  237 :\n",
      "\tGradient norm 0.0354766878836\n",
      "Iteration  238 :\n",
      "\tGradient norm 0.0330602555597\n",
      "Iteration  239 :\n",
      "\tGradient norm 0.0591265371836\n",
      "Iteration  240 :\n",
      "\tGradient norm 0.0713717164266\n",
      "Iteration  241 :\n",
      "\tGradient norm 0.01519648597\n",
      "Iteration  242 :\n",
      "\tGradient norm 0.0597194186751\n",
      "Iteration  243 :\n",
      "\tGradient norm 0.107973075783\n",
      "Iteration  244 :\n",
      "\tGradient norm 0.0529870185809\n",
      "Iteration  245 :\n",
      "\tGradient norm 0.0376113512713\n",
      "Iteration  246 :\n",
      "\tGradient norm 0.0493314072203\n",
      "Iteration  247 :\n",
      "\tGradient norm 0.125345743485\n",
      "Iteration  248 :\n",
      "\tGradient norm 0.0679810857234\n",
      "Iteration  249 :\n",
      "\tGradient norm 0.121595551377\n",
      "Iteration  250 :\n",
      "\tGradient norm 0.0620488336108\n"
     ]
    }
   ],
   "source": [
    "opts = {'mydisp': True, 'print_freq': 1, 'step_rate': 1.,\n",
    "                'maxiter': 250, 'batch_size':500}\n",
    "ad_svi_res = ad_svi_gp.fit(x_tr, y_tr, num_inputs=ind_num, optimizer_options=opts, inputs=inputs)"
   ]
  },
  {
   "cell_type": "code",
   "execution_count": 14,
   "metadata": {
    "collapsed": false
   },
   "outputs": [],
   "source": [
    "metric = lambda w: ad_svi_gp.get_prediction_quality(w, x_test, y_test)\n",
    "ad_svi_xi_lst, ad_svi_xt_lst, ad_svi_y_lst = ad_svi_res.plot_performance(metric, 'it', freq=1)"
   ]
  },
  {
   "cell_type": "code",
   "execution_count": 15,
   "metadata": {
    "collapsed": false
   },
   "outputs": [
    {
     "data": {
      "image/png": "[encoded data removed]",
      "text/plain": [
       "<matplotlib.figure.Figure at 0x10cf6a668>"
      ]
     },
     "metadata": {},
     "output_type": "display_data"
    }
   ],
   "source": [
    "plot_results(ad_svi_xi_lst, ad_svi_xt_lst, ad_svi_y_lst, '-ro', 'svi-L-BFGS-B')"
   ]
  },
  {
   "cell_type": "code",
   "execution_count": 16,
   "metadata": {
    "collapsed": false
   },
   "outputs": [
    {
     "data": {
      "text/plain": [
       "0.20880845330040698"
      ]
     },
     "execution_count": 16,
     "metadata": {},
     "output_type": "execute_result"
    }
   ],
   "source": [
    "ad_svi_y_lst[-1]"
   ]
  },
  {
   "cell_type": "code",
   "execution_count": 17,
   "metadata": {
    "collapsed": true
   },
   "outputs": [],
   "source": [
    "x_lst_1, y_lst_1 = ad_svi_xt_lst, ad_svi_y_lst"
   ]
  },
  {
   "cell_type": "code",
   "execution_count": 20,
   "metadata": {
    "collapsed": true
   },
   "outputs": [],
   "source": [
    "np.save('../plots/regression_revision/' + data_name +'/' + data_name + '_ad_svi_xi.npy', ad_svi_xi_lst)\n",
    "np.save('../plots/regression_revision/' + data_name +'/' + data_name + '_ad_svi_xt.npy', ad_svi_xt_lst)\n",
    "np.save('../plots/regression_revision/' + data_name +'/' + data_name + '_ad_svi_y.npy', ad_svi_y_lst)"
   ]
  },
  {
   "cell_type": "code",
   "execution_count": 22,
   "metadata": {
    "collapsed": true
   },
   "outputs": [],
   "source": [
    "np.save('../plots/regression_revision/' + data_name +'/' + data_name + '_ad_svi_xi_1.npy', ad_svi_xi_lst)\n",
    "np.save('../plots/regression_revision/' + data_name +'/' + data_name + '_ad_svi_xt_1.npy', ad_svi_xt_lst)\n",
    "np.save('../plots/regression_revision/' + data_name +'/' + data_name + '_ad_svi_y_1.npy', ad_svi_y_lst)"
   ]
  },
  {
   "cell_type": "markdown",
   "metadata": {},
   "source": [
    "### different step"
   ]
  },
  {
   "cell_type": "code",
   "execution_count": 18,
   "metadata": {
    "collapsed": true
   },
   "outputs": [],
   "source": [
    "model_covariance_obj = SquaredExponential(np.copy(cov_params))\n",
    "ad_svi_gp = GPR(model_covariance_obj, method='svi', parametrization='cholesky', optimizer='AdaDelta')"
   ]
  },
  {
   "cell_type": "code",
   "execution_count": 19,
   "metadata": {
    "collapsed": false
   },
   "outputs": [
    {
     "name": "stdout",
     "output_type": "stream",
     "text": [
      "Using AdaDelta optimizer\n"
     ]
    },
    {
     "ename": "KeyboardInterrupt",
     "evalue": "",
     "output_type": "error",
     "traceback": [
      "\u001b[0;31m---------------------------------------------------------------------------\u001b[0m",
      "\u001b[0;31mKeyboardInterrupt\u001b[0m                         Traceback (most recent call last)",
      "\u001b[0;32m<ipython-input-19-11d3d6d64e7e>\u001b[0m in \u001b[0;36m<module>\u001b[0;34m()\u001b[0m\n\u001b[1;32m      1\u001b[0m opts = {'mydisp': True, 'print_freq': 1, 'step_rate': 1.1,\n\u001b[1;32m      2\u001b[0m                 'maxiter': 250, 'batch_size':500}\n\u001b[0;32m----> 3\u001b[0;31m \u001b[0mad_svi_res\u001b[0m \u001b[0;34m=\u001b[0m \u001b[0mad_svi_gp\u001b[0m\u001b[0;34m.\u001b[0m\u001b[0mfit\u001b[0m\u001b[0;34m(\u001b[0m\u001b[0mx_tr\u001b[0m\u001b[0;34m,\u001b[0m \u001b[0my_tr\u001b[0m\u001b[0;34m,\u001b[0m \u001b[0mnum_inputs\u001b[0m\u001b[0;34m=\u001b[0m\u001b[0mind_num\u001b[0m\u001b[0;34m,\u001b[0m \u001b[0moptimizer_options\u001b[0m\u001b[0;34m=\u001b[0m\u001b[0mopts\u001b[0m\u001b[0;34m,\u001b[0m \u001b[0minputs\u001b[0m\u001b[0;34m=\u001b[0m\u001b[0minputs\u001b[0m\u001b[0;34m)\u001b[0m\u001b[0;34m\u001b[0m\u001b[0m\n\u001b[0m",
      "\u001b[0;32m/Users/IzmailovPavel/Documents/Education/Course Project/Code/GP/gaussian_process_regression.py\u001b[0m in \u001b[0;36mfit\u001b[0;34m(self, *args, **kwargs)\u001b[0m\n\u001b[1;32m    910\u001b[0m             \u001b[0;32mreturn\u001b[0m \u001b[0mself\u001b[0m\u001b[0;34m.\u001b[0m\u001b[0m_vi_means_fit\u001b[0m\u001b[0;34m(\u001b[0m\u001b[0;34m*\u001b[0m\u001b[0margs\u001b[0m\u001b[0;34m,\u001b[0m \u001b[0;34m**\u001b[0m\u001b[0mkwargs\u001b[0m\u001b[0;34m)\u001b[0m\u001b[0;34m\u001b[0m\u001b[0m\n\u001b[1;32m    911\u001b[0m         \u001b[0;32mif\u001b[0m \u001b[0mself\u001b[0m\u001b[0;34m.\u001b[0m\u001b[0mmethod\u001b[0m \u001b[0;34m==\u001b[0m \u001b[0;34m'svi'\u001b[0m\u001b[0;34m:\u001b[0m\u001b[0;34m\u001b[0m\u001b[0m\n\u001b[0;32m--> 912\u001b[0;31m             \u001b[0;32mreturn\u001b[0m \u001b[0mself\u001b[0m\u001b[0;34m.\u001b[0m\u001b[0m_svi_fit\u001b[0m\u001b[0;34m(\u001b[0m\u001b[0;34m*\u001b[0m\u001b[0margs\u001b[0m\u001b[0;34m,\u001b[0m \u001b[0;34m**\u001b[0m\u001b[0mkwargs\u001b[0m\u001b[0;34m)\u001b[0m\u001b[0;34m\u001b[0m\u001b[0m\n\u001b[0m\u001b[1;32m    913\u001b[0m         \u001b[0;32melse\u001b[0m\u001b[0;34m:\u001b[0m\u001b[0;34m\u001b[0m\u001b[0m\n\u001b[1;32m    914\u001b[0m             \u001b[0mprint\u001b[0m\u001b[0;34m(\u001b[0m\u001b[0mself\u001b[0m\u001b[0;34m.\u001b[0m\u001b[0mmethod\u001b[0m\u001b[0;34m)\u001b[0m\u001b[0;34m\u001b[0m\u001b[0m\n",
      "\u001b[0;32m/Users/IzmailovPavel/Documents/Education/Course Project/Code/GP/gaussian_process_regression.py\u001b[0m in \u001b[0;36m_svi_fit\u001b[0;34m(self, data_points, target_values, num_inputs, inputs, optimizer_options)\u001b[0m\n\u001b[1;32m    644\u001b[0m                 res, w_list, time_list = climin_wrapper(oracle=adadelta_fun, w0=param_vec, train_points=data_points,\n\u001b[1;32m    645\u001b[0m                                                         \u001b[0mtrain_targets\u001b[0m\u001b[0;34m=\u001b[0m\u001b[0mtarget_values\u001b[0m\u001b[0;34m,\u001b[0m \u001b[0moptions\u001b[0m\u001b[0;34m=\u001b[0m\u001b[0moptimizer_options\u001b[0m\u001b[0;34m,\u001b[0m\u001b[0;34m\u001b[0m\u001b[0m\n\u001b[0;32m--> 646\u001b[0;31m                                                         method='AdaDelta')\n\u001b[0m\u001b[1;32m    647\u001b[0m             \u001b[0;32melif\u001b[0m \u001b[0mself\u001b[0m\u001b[0;34m.\u001b[0m\u001b[0moptimizer\u001b[0m \u001b[0;34m==\u001b[0m \u001b[0;34m'climinSG'\u001b[0m\u001b[0;34m:\u001b[0m\u001b[0;34m\u001b[0m\u001b[0m\n\u001b[1;32m    648\u001b[0m                 res, w_list, time_list = climin_wrapper(oracle=adadelta_fun, w0=param_vec, train_points=data_points,\n",
      "\u001b[0;32m/Users/IzmailovPavel/Documents/Education/Course Project/Code/GP/optimization.py\u001b[0m in \u001b[0;36mclimin_wrapper\u001b[0;34m(oracle, w0, train_points, train_targets, options, method)\u001b[0m\n\u001b[1;32m    549\u001b[0m     \u001b[0;32mif\u001b[0m \u001b[0moptions\u001b[0m\u001b[0;34m[\u001b[0m\u001b[0;34m'verbose'\u001b[0m\u001b[0;34m]\u001b[0m\u001b[0;34m:\u001b[0m\u001b[0;34m\u001b[0m\u001b[0m\n\u001b[1;32m    550\u001b[0m         \u001b[0mprint\u001b[0m\u001b[0;34m(\u001b[0m\u001b[0;34m'Using '\u001b[0m \u001b[0;34m+\u001b[0m \u001b[0mmethod\u001b[0m \u001b[0;34m+\u001b[0m \u001b[0;34m' optimizer'\u001b[0m\u001b[0;34m)\u001b[0m\u001b[0;34m\u001b[0m\u001b[0m\n\u001b[0;32m--> 551\u001b[0;31m     \u001b[0;32mfor\u001b[0m \u001b[0minfo\u001b[0m \u001b[0;32min\u001b[0m \u001b[0mopt\u001b[0m\u001b[0;34m:\u001b[0m\u001b[0;34m\u001b[0m\u001b[0m\n\u001b[0m\u001b[1;32m    552\u001b[0m         \u001b[0mi\u001b[0m \u001b[0;34m=\u001b[0m \u001b[0minfo\u001b[0m\u001b[0;34m[\u001b[0m\u001b[0;34m'n_iter'\u001b[0m\u001b[0;34m]\u001b[0m\u001b[0;34m\u001b[0m\u001b[0m\n\u001b[1;32m    553\u001b[0m         \u001b[0;32mif\u001b[0m \u001b[0mi\u001b[0m \u001b[0;34m>\u001b[0m \u001b[0mn_iterations\u001b[0m\u001b[0;34m:\u001b[0m\u001b[0;34m\u001b[0m\u001b[0m\n",
      "\u001b[0;32m/Library/Frameworks/Python.framework/Versions/3.4/lib/python3.4/site-packages/climin/base.py\u001b[0m in \u001b[0;36m__iter__\u001b[0;34m(self)\u001b[0m\n\u001b[1;32m     82\u001b[0m \u001b[0;34m\u001b[0m\u001b[0m\n\u001b[1;32m     83\u001b[0m     \u001b[0;32mdef\u001b[0m \u001b[0m__iter__\u001b[0m\u001b[0;34m(\u001b[0m\u001b[0mself\u001b[0m\u001b[0;34m)\u001b[0m\u001b[0;34m:\u001b[0m\u001b[0;34m\u001b[0m\u001b[0m\n\u001b[0;32m---> 84\u001b[0;31m         \u001b[0;32mfor\u001b[0m \u001b[0minfo\u001b[0m \u001b[0;32min\u001b[0m \u001b[0mself\u001b[0m\u001b[0;34m.\u001b[0m\u001b[0m_iterate\u001b[0m\u001b[0;34m(\u001b[0m\u001b[0;34m)\u001b[0m\u001b[0;34m:\u001b[0m\u001b[0;34m\u001b[0m\u001b[0m\n\u001b[0m\u001b[1;32m     85\u001b[0m             \u001b[0;32myield\u001b[0m \u001b[0mself\u001b[0m\u001b[0;34m.\u001b[0m\u001b[0mextended_info\u001b[0m\u001b[0;34m(\u001b[0m\u001b[0;34m**\u001b[0m\u001b[0minfo\u001b[0m\u001b[0;34m)\u001b[0m\u001b[0;34m\u001b[0m\u001b[0m\n\u001b[1;32m     86\u001b[0m \u001b[0;34m\u001b[0m\u001b[0m\n",
      "\u001b[0;32m/Library/Frameworks/Python.framework/Versions/3.4/lib/python3.4/site-packages/climin/adadelta.py\u001b[0m in \u001b[0;36m_iterate\u001b[0;34m(self)\u001b[0m\n\u001b[1;32m    112\u001b[0m             \u001b[0mself\u001b[0m\u001b[0;34m.\u001b[0m\u001b[0mwrt\u001b[0m \u001b[0;34m-=\u001b[0m \u001b[0mstep1\u001b[0m\u001b[0;34m\u001b[0m\u001b[0m\n\u001b[1;32m    113\u001b[0m \u001b[0;34m\u001b[0m\u001b[0m\n\u001b[0;32m--> 114\u001b[0;31m             \u001b[0mgradient\u001b[0m \u001b[0;34m=\u001b[0m \u001b[0mself\u001b[0m\u001b[0;34m.\u001b[0m\u001b[0mfprime\u001b[0m\u001b[0;34m(\u001b[0m\u001b[0mself\u001b[0m\u001b[0;34m.\u001b[0m\u001b[0mwrt\u001b[0m\u001b[0;34m,\u001b[0m \u001b[0;34m*\u001b[0m\u001b[0margs\u001b[0m\u001b[0;34m,\u001b[0m \u001b[0;34m**\u001b[0m\u001b[0mkwargs\u001b[0m\u001b[0;34m)\u001b[0m\u001b[0;34m\u001b[0m\u001b[0m\n\u001b[0m\u001b[1;32m    115\u001b[0m \u001b[0;34m\u001b[0m\u001b[0m\n\u001b[1;32m    116\u001b[0m             \u001b[0mself\u001b[0m\u001b[0;34m.\u001b[0m\u001b[0mgms\u001b[0m \u001b[0;34m=\u001b[0m \u001b[0;34m(\u001b[0m\u001b[0md\u001b[0m \u001b[0;34m*\u001b[0m \u001b[0mself\u001b[0m\u001b[0;34m.\u001b[0m\u001b[0mgms\u001b[0m\u001b[0;34m)\u001b[0m \u001b[0;34m+\u001b[0m \u001b[0;34m(\u001b[0m\u001b[0;36m1\u001b[0m \u001b[0;34m-\u001b[0m \u001b[0md\u001b[0m\u001b[0;34m)\u001b[0m \u001b[0;34m*\u001b[0m \u001b[0mgradient\u001b[0m \u001b[0;34m**\u001b[0m \u001b[0;36m2\u001b[0m\u001b[0;34m\u001b[0m\u001b[0m\n",
      "\u001b[0;32m/Users/IzmailovPavel/Documents/Education/Course Project/Code/GP/gaussian_process_regression.py\u001b[0m in \u001b[0;36madadelta_fun\u001b[0;34m(x, train_points, train_targets)\u001b[0m\n\u001b[1;32m    634\u001b[0m             \u001b[0;32mdef\u001b[0m \u001b[0madadelta_fun\u001b[0m\u001b[0;34m(\u001b[0m\u001b[0mx\u001b[0m\u001b[0;34m,\u001b[0m \u001b[0mtrain_points\u001b[0m\u001b[0;34m,\u001b[0m \u001b[0mtrain_targets\u001b[0m\u001b[0;34m)\u001b[0m\u001b[0;34m:\u001b[0m\u001b[0;34m\u001b[0m\u001b[0m\n\u001b[1;32m    635\u001b[0m                 fun, grad = self._svi_elbo_batch_approx_oracle(train_points, train_targets, inputs, parameter_vec=x,\n\u001b[0;32m--> 636\u001b[0;31m                                                                indices=range(train_targets.size), N=n)\n\u001b[0m\u001b[1;32m    637\u001b[0m                 \u001b[0;32mreturn\u001b[0m \u001b[0;34m-\u001b[0m\u001b[0mgrad\u001b[0m\u001b[0;34m\u001b[0m\u001b[0m\n\u001b[1;32m    638\u001b[0m \u001b[0;34m\u001b[0m\u001b[0m\n",
      "\u001b[0;32m/Users/IzmailovPavel/Documents/Education/Course Project/Code/GP/gaussian_process_regression.py\u001b[0m in \u001b[0;36m_svi_elbo_batch_approx_oracle\u001b[0;34m(self, data_points, target_values, inducing_inputs, parameter_vec, indices, N)\u001b[0m\n\u001b[1;32m    760\u001b[0m         \u001b[0;31m# Derivatives\u001b[0m\u001b[0;34m\u001b[0m\u001b[0;34m\u001b[0m\u001b[0m\n\u001b[1;32m    761\u001b[0m         \u001b[0mderivative_matrix_list\u001b[0m \u001b[0;34m=\u001b[0m \u001b[0mself\u001b[0m\u001b[0;34m.\u001b[0m\u001b[0mcovariance_obj\u001b[0m\u001b[0;34m.\u001b[0m\u001b[0mget_derivative_function_list\u001b[0m\u001b[0;34m(\u001b[0m\u001b[0mparams\u001b[0m\u001b[0;34m)\u001b[0m\u001b[0;34m\u001b[0m\u001b[0m\n\u001b[0;32m--> 762\u001b[0;31m         \u001b[0md_K_mm__d_theta_lst\u001b[0m \u001b[0;34m=\u001b[0m \u001b[0;34m[\u001b[0m\u001b[0mfun\u001b[0m\u001b[0;34m(\u001b[0m\u001b[0minducing_inputs\u001b[0m\u001b[0;34m,\u001b[0m \u001b[0minducing_inputs\u001b[0m\u001b[0;34m)\u001b[0m \u001b[0;32mfor\u001b[0m \u001b[0mfun\u001b[0m \u001b[0;32min\u001b[0m \u001b[0mderivative_matrix_list\u001b[0m\u001b[0;34m]\u001b[0m\u001b[0;34m\u001b[0m\u001b[0m\n\u001b[0m\u001b[1;32m    763\u001b[0m         \u001b[0md_k_i__d_theta_lst\u001b[0m \u001b[0;34m=\u001b[0m \u001b[0;34m[\u001b[0m\u001b[0mfun\u001b[0m\u001b[0;34m(\u001b[0m\u001b[0minducing_inputs\u001b[0m\u001b[0;34m,\u001b[0m \u001b[0mdata_points\u001b[0m\u001b[0;34m[\u001b[0m\u001b[0;34m:\u001b[0m\u001b[0;34m,\u001b[0m \u001b[0mi\u001b[0m\u001b[0;34m]\u001b[0m\u001b[0;34m)\u001b[0m \u001b[0;32mfor\u001b[0m \u001b[0mfun\u001b[0m \u001b[0;32min\u001b[0m \u001b[0mderivative_matrix_list\u001b[0m\u001b[0;34m]\u001b[0m\u001b[0;34m\u001b[0m\u001b[0m\n\u001b[1;32m    764\u001b[0m         \u001b[0md_K_mm__d_sigma_n\u001b[0m \u001b[0;34m=\u001b[0m \u001b[0mself\u001b[0m\u001b[0;34m.\u001b[0m\u001b[0mcovariance_obj\u001b[0m\u001b[0;34m.\u001b[0m\u001b[0mget_noise_derivative\u001b[0m\u001b[0;34m(\u001b[0m\u001b[0mpoints_num\u001b[0m\u001b[0;34m=\u001b[0m\u001b[0mm\u001b[0m\u001b[0;34m)\u001b[0m\u001b[0;34m\u001b[0m\u001b[0m\n",
      "\u001b[0;32m/Users/IzmailovPavel/Documents/Education/Course Project/Code/GP/gaussian_process_regression.py\u001b[0m in \u001b[0;36m<listcomp>\u001b[0;34m(.0)\u001b[0m\n\u001b[1;32m    760\u001b[0m         \u001b[0;31m# Derivatives\u001b[0m\u001b[0;34m\u001b[0m\u001b[0;34m\u001b[0m\u001b[0m\n\u001b[1;32m    761\u001b[0m         \u001b[0mderivative_matrix_list\u001b[0m \u001b[0;34m=\u001b[0m \u001b[0mself\u001b[0m\u001b[0;34m.\u001b[0m\u001b[0mcovariance_obj\u001b[0m\u001b[0;34m.\u001b[0m\u001b[0mget_derivative_function_list\u001b[0m\u001b[0;34m(\u001b[0m\u001b[0mparams\u001b[0m\u001b[0;34m)\u001b[0m\u001b[0;34m\u001b[0m\u001b[0m\n\u001b[0;32m--> 762\u001b[0;31m         \u001b[0md_K_mm__d_theta_lst\u001b[0m \u001b[0;34m=\u001b[0m \u001b[0;34m[\u001b[0m\u001b[0mfun\u001b[0m\u001b[0;34m(\u001b[0m\u001b[0minducing_inputs\u001b[0m\u001b[0;34m,\u001b[0m \u001b[0minducing_inputs\u001b[0m\u001b[0;34m)\u001b[0m \u001b[0;32mfor\u001b[0m \u001b[0mfun\u001b[0m \u001b[0;32min\u001b[0m \u001b[0mderivative_matrix_list\u001b[0m\u001b[0;34m]\u001b[0m\u001b[0;34m\u001b[0m\u001b[0m\n\u001b[0m\u001b[1;32m    763\u001b[0m         \u001b[0md_k_i__d_theta_lst\u001b[0m \u001b[0;34m=\u001b[0m \u001b[0;34m[\u001b[0m\u001b[0mfun\u001b[0m\u001b[0;34m(\u001b[0m\u001b[0minducing_inputs\u001b[0m\u001b[0;34m,\u001b[0m \u001b[0mdata_points\u001b[0m\u001b[0;34m[\u001b[0m\u001b[0;34m:\u001b[0m\u001b[0;34m,\u001b[0m \u001b[0mi\u001b[0m\u001b[0;34m]\u001b[0m\u001b[0;34m)\u001b[0m \u001b[0;32mfor\u001b[0m \u001b[0mfun\u001b[0m \u001b[0;32min\u001b[0m \u001b[0mderivative_matrix_list\u001b[0m\u001b[0;34m]\u001b[0m\u001b[0;34m\u001b[0m\u001b[0m\n\u001b[1;32m    764\u001b[0m         \u001b[0md_K_mm__d_sigma_n\u001b[0m \u001b[0;34m=\u001b[0m \u001b[0mself\u001b[0m\u001b[0;34m.\u001b[0m\u001b[0mcovariance_obj\u001b[0m\u001b[0;34m.\u001b[0m\u001b[0mget_noise_derivative\u001b[0m\u001b[0;34m(\u001b[0m\u001b[0mpoints_num\u001b[0m\u001b[0;34m=\u001b[0m\u001b[0mm\u001b[0m\u001b[0;34m)\u001b[0m\u001b[0;34m\u001b[0m\u001b[0m\n",
      "\u001b[0;32m/Users/IzmailovPavel/Documents/Education/Course Project/Code/GP/covariance_functions.py\u001b[0m in \u001b[0;36mwrapper\u001b[0;34m(self, x, y, *args, **kwargs)\u001b[0m\n\u001b[1;32m     41\u001b[0m \u001b[0;32mdef\u001b[0m \u001b[0mstationary_cov\u001b[0m\u001b[0;34m(\u001b[0m\u001b[0mfun\u001b[0m\u001b[0;34m)\u001b[0m\u001b[0;34m:\u001b[0m\u001b[0;34m\u001b[0m\u001b[0m\n\u001b[1;32m     42\u001b[0m     \u001b[0;32mdef\u001b[0m \u001b[0mwrapper\u001b[0m\u001b[0;34m(\u001b[0m\u001b[0mself\u001b[0m\u001b[0;34m,\u001b[0m \u001b[0mx\u001b[0m\u001b[0;34m,\u001b[0m \u001b[0my\u001b[0m\u001b[0;34m,\u001b[0m \u001b[0;34m*\u001b[0m\u001b[0margs\u001b[0m\u001b[0;34m,\u001b[0m \u001b[0;34m**\u001b[0m\u001b[0mkwargs\u001b[0m\u001b[0;34m)\u001b[0m\u001b[0;34m:\u001b[0m\u001b[0;34m\u001b[0m\u001b[0m\n\u001b[0;32m---> 43\u001b[0;31m         \u001b[0mdists\u001b[0m \u001b[0;34m=\u001b[0m \u001b[0mpairwise_distance\u001b[0m\u001b[0;34m(\u001b[0m\u001b[0mx\u001b[0m\u001b[0;34m,\u001b[0m \u001b[0my\u001b[0m\u001b[0;34m)\u001b[0m\u001b[0;34m\u001b[0m\u001b[0m\n\u001b[0m\u001b[1;32m     44\u001b[0m         \u001b[0;32mreturn\u001b[0m \u001b[0mfun\u001b[0m\u001b[0;34m(\u001b[0m\u001b[0mself\u001b[0m\u001b[0;34m,\u001b[0m \u001b[0mdists\u001b[0m\u001b[0;34m,\u001b[0m \u001b[0;34m*\u001b[0m\u001b[0margs\u001b[0m\u001b[0;34m,\u001b[0m \u001b[0;34m**\u001b[0m\u001b[0mkwargs\u001b[0m\u001b[0;34m)\u001b[0m\u001b[0;34m\u001b[0m\u001b[0m\n\u001b[1;32m     45\u001b[0m     \u001b[0;32mreturn\u001b[0m \u001b[0mwrapper\u001b[0m\u001b[0;34m\u001b[0m\u001b[0m\n",
      "\u001b[0;32m/Users/IzmailovPavel/Documents/Education/Course Project/Code/GP/covariance_functions.py\u001b[0m in \u001b[0;36mpairwise_distance\u001b[0;34m(x, y)\u001b[0m\n\u001b[1;32m     34\u001b[0m     \u001b[0;31m# d = np.square(x_norm) + np.square(y_norm) - 2 * x.T.dot(y)\u001b[0m\u001b[0;34m\u001b[0m\u001b[0;34m\u001b[0m\u001b[0m\n\u001b[1;32m     35\u001b[0m     \u001b[0;31m# d[d < 0] = 0\u001b[0m\u001b[0;34m\u001b[0m\u001b[0;34m\u001b[0m\u001b[0m\n\u001b[0;32m---> 36\u001b[0;31m     \u001b[0;32mreturn\u001b[0m \u001b[0mcdist\u001b[0m\u001b[0;34m(\u001b[0m\u001b[0mx\u001b[0m\u001b[0;34m.\u001b[0m\u001b[0mT\u001b[0m\u001b[0;34m,\u001b[0m \u001b[0my\u001b[0m\u001b[0;34m.\u001b[0m\u001b[0mT\u001b[0m\u001b[0;34m)\u001b[0m\u001b[0;34m\u001b[0m\u001b[0m\n\u001b[0m\u001b[1;32m     37\u001b[0m     \u001b[0;31m# print(np.min(d))\u001b[0m\u001b[0;34m\u001b[0m\u001b[0;34m\u001b[0m\u001b[0m\n\u001b[1;32m     38\u001b[0m     \u001b[0;31m# return np.sqrt(d)\u001b[0m\u001b[0;34m\u001b[0m\u001b[0;34m\u001b[0m\u001b[0m\n",
      "\u001b[0;32m/Library/Frameworks/Python.framework/Versions/3.4/lib/python3.4/site-packages/scipy/spatial/distance.py\u001b[0m in \u001b[0;36mcdist\u001b[0;34m(XA, XB, metric, p, V, VI, w)\u001b[0m\n\u001b[1;32m   2073\u001b[0m         \u001b[0;32mif\u001b[0m \u001b[0mmstr\u001b[0m \u001b[0;32min\u001b[0m \u001b[0mset\u001b[0m\u001b[0;34m(\u001b[0m\u001b[0;34m[\u001b[0m\u001b[0;34m'euclidean'\u001b[0m\u001b[0;34m,\u001b[0m \u001b[0;34m'euclid'\u001b[0m\u001b[0;34m,\u001b[0m \u001b[0;34m'eu'\u001b[0m\u001b[0;34m,\u001b[0m \u001b[0;34m'e'\u001b[0m\u001b[0;34m]\u001b[0m\u001b[0;34m)\u001b[0m\u001b[0;34m:\u001b[0m\u001b[0;34m\u001b[0m\u001b[0m\n\u001b[1;32m   2074\u001b[0m             _distance_wrap.cdist_euclidean_wrap(_convert_to_double(XA),\n\u001b[0;32m-> 2075\u001b[0;31m                                                 _convert_to_double(XB), dm)\n\u001b[0m\u001b[1;32m   2076\u001b[0m         \u001b[0;32melif\u001b[0m \u001b[0mmstr\u001b[0m \u001b[0;32min\u001b[0m \u001b[0mset\u001b[0m\u001b[0;34m(\u001b[0m\u001b[0;34m[\u001b[0m\u001b[0;34m'sqeuclidean'\u001b[0m\u001b[0;34m,\u001b[0m \u001b[0;34m'sqe'\u001b[0m\u001b[0;34m,\u001b[0m \u001b[0;34m'sqeuclid'\u001b[0m\u001b[0;34m]\u001b[0m\u001b[0;34m)\u001b[0m\u001b[0;34m:\u001b[0m\u001b[0;34m\u001b[0m\u001b[0m\n\u001b[1;32m   2077\u001b[0m             _distance_wrap.cdist_sqeuclidean_wrap(_convert_to_double(XA),\n",
      "\u001b[0;31mKeyboardInterrupt\u001b[0m: "
     ]
    }
   ],
   "source": [
    "opts = {'mydisp': True, 'print_freq': 1, 'step_rate': 1.1,\n",
    "                'maxiter': 250, 'batch_size':500}\n",
    "ad_svi_res = ad_svi_gp.fit(x_tr, y_tr, num_inputs=ind_num, optimizer_options=opts, inputs=inputs)"
   ]
  },
  {
   "cell_type": "code",
   "execution_count": null,
   "metadata": {
    "collapsed": true
   },
   "outputs": [],
   "source": [
    "metric = lambda w: ad_svi_gp.get_prediction_quality(w, x_test, y_test)\n",
    "ad_svi_xi_lst, ad_svi_xt_lst, ad_svi_y_lst = ad_svi_res.plot_performance(metric, 'it', freq=1)"
   ]
  },
  {
   "cell_type": "code",
   "execution_count": null,
   "metadata": {
    "collapsed": true
   },
   "outputs": [],
   "source": [
    "plot_results(ad_svi_xi_lst, ad_svi_xt_lst, ad_svi_y_lst, '-ro', 'svi-L-BFGS-B')"
   ]
  },
  {
   "cell_type": "code",
   "execution_count": null,
   "metadata": {
    "collapsed": true
   },
   "outputs": [],
   "source": [
    "ad_svi_y_lst[-1]"
   ]
  },
  {
   "cell_type": "code",
   "execution_count": null,
   "metadata": {
    "collapsed": true
   },
   "outputs": [],
   "source": [
    "x_lst_11, y_lst_11 = ad_svi_xt_lst, ad_svi_y_lst"
   ]
  },
  {
   "cell_type": "markdown",
   "metadata": {},
   "source": [
    "### Different step"
   ]
  },
  {
   "cell_type": "code",
   "execution_count": null,
   "metadata": {
    "collapsed": true
   },
   "outputs": [],
   "source": [
    "model_covariance_obj = SquaredExponential(np.copy(cov_params))\n",
    "ad_svi_gp = GPR(model_covariance_obj, method='svi', parametrization='cholesky', optimizer='AdaDelta')"
   ]
  },
  {
   "cell_type": "code",
   "execution_count": null,
   "metadata": {
    "collapsed": true
   },
   "outputs": [],
   "source": [
    "opts = {'mydisp': True, 'print_freq': 1, 'step_rate': .9,\n",
    "                'maxiter': 250, 'batch_size':500}\n",
    "ad_svi_res = ad_svi_gp.fit(x_tr, y_tr, num_inputs=ind_num, optimizer_options=opts, inputs=inputs)"
   ]
  },
  {
   "cell_type": "code",
   "execution_count": null,
   "metadata": {
    "collapsed": true
   },
   "outputs": [],
   "source": [
    "metric = lambda w: ad_svi_gp.get_prediction_quality(w, x_test, y_test)\n",
    "ad_svi_xi_lst, ad_svi_xt_lst, ad_svi_y_lst = ad_svi_res.plot_performance(metric, 'it', freq=1)"
   ]
  },
  {
   "cell_type": "code",
   "execution_count": null,
   "metadata": {
    "collapsed": true
   },
   "outputs": [],
   "source": [
    "plot_results(ad_svi_xi_lst, ad_svi_xt_lst, ad_svi_y_lst, '-ro', 'svi-L-BFGS-B')"
   ]
  },
  {
   "cell_type": "code",
   "execution_count": null,
   "metadata": {
    "collapsed": true
   },
   "outputs": [],
   "source": [
    "ad_svi_y_lst[-1]"
   ]
  },
  {
   "cell_type": "code",
   "execution_count": null,
   "metadata": {
    "collapsed": true
   },
   "outputs": [],
   "source": [
    "x_lst_09, y_lst_09 = ad_svi_xt_lst, ad_svi_y_lst"
   ]
  },
  {
   "cell_type": "code",
   "execution_count": null,
   "metadata": {
    "collapsed": true
   },
   "outputs": [],
   "source": []
  },
  {
   "cell_type": "code",
   "execution_count": 46,
   "metadata": {
    "collapsed": true
   },
   "outputs": [],
   "source": [
    "np.save('../plots/regression_revision/' + data_name +'/' + data_name + '_ad_svi_xi.npy', ad_svi_xi_lst)\n",
    "np.save('../plots/regression_revision/' + data_name +'/' + data_name + '_ad_svi_xt.npy', ad_svi_xt_lst)\n",
    "np.save('../plots/regression_revision/' + data_name +'/' + data_name + '_ad_svi_y.npy', ad_svi_y_lst)"
   ]
  },
  {
   "cell_type": "code",
   "execution_count": null,
   "metadata": {
    "collapsed": true
   },
   "outputs": [],
   "source": []
  }
 ],
 "metadata": {
  "kernelspec": {
   "display_name": "Python 3",
   "language": "python",
   "name": "python3"
  },
  "language_info": {
   "codemirror_mode": {
    "name": "ipython",
    "version": 3
   },
   "file_extension": ".py",
   "mimetype": "text/x-python",
   "name": "python",
   "nbconvert_exporter": "python",
   "pygments_lexer": "ipython3",
   "version": "3.4.3"
  }
 },
 "nbformat": 4,
 "nbformat_minor": 0
}
