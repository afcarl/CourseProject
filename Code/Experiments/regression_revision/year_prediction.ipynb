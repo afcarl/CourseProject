{
 "cells": [
  {
   "cell_type": "markdown",
   "metadata": {},
   "source": [
    "# YearPredictionMSD dataset\n",
    "\n",
    "Comparison of different inducing point GP-regression methods."
   ]
  },
  {
   "cell_type": "code",
   "execution_count": 1,
   "metadata": {
    "collapsed": false
   },
   "outputs": [],
   "source": [
    "import sys\n",
    "sys.path.append('/Users/IzmailovPavel/Documents/Education/Course Project/Code')\n",
    "import numpy as np\n",
    "import matplotlib as mpl\n",
    "\n",
    "from matplotlib import pyplot as plt\n",
    "\n",
    "from GP.covariance_functions import SquaredExponential\n",
    "from GP.gaussian_process_regression import GPR\n",
    "\n",
    "from sklearn.cluster import KMeans\n",
    "\n",
    "from sklearn.datasets import load_svmlight_file\n",
    "from sklearn.preprocessing import StandardScaler\n",
    "from sklearn.utils import shuffle\n",
    "from sklearn.svm import SVR, LinearSVR\n",
    "from sklearn.metrics import r2_score, mean_squared_error\n",
    "%matplotlib inline\n",
    "%load_ext autoreload\n",
    "%autoreload 2"
   ]
  },
  {
   "cell_type": "markdown",
   "metadata": {},
   "source": [
    "Loading the data"
   ]
  },
  {
   "cell_type": "code",
   "execution_count": 2,
   "metadata": {
    "collapsed": false
   },
   "outputs": [
    {
     "name": "stdout",
     "output_type": "stream",
     "text": [
      "of objects: 100000\n",
      "of features 90\n",
      "year prediction\n"
     ]
    },
    {
     "name": "stderr",
     "output_type": "stream",
     "text": [
      "/Library/Frameworks/Python.framework/Versions/3.4/lib/python3.4/site-packages/IPython/kernel/__main__.py:6: VisibleDeprecationWarning: using a non-integer number instead of an integer will result in an error in the future\n",
      "/Library/Frameworks/Python.framework/Versions/3.4/lib/python3.4/site-packages/IPython/kernel/__main__.py:7: VisibleDeprecationWarning: using a non-integer number instead of an integer will result in an error in the future\n"
     ]
    }
   ],
   "source": [
    "x_tr, y_tr = load_svmlight_file('../../../../Programming/DataSets/Regression/yearprediction(463715, 90).txt')\n",
    "x_tr, y_tr = shuffle(x_tr, y_tr, random_state=241)\n",
    "data_name = 'year prediction'\n",
    "file_name = data_name\n",
    "\n",
    "x_tr = x_tr.toarray()[:1e5 * 1.25, :].T\n",
    "y_tr = y_tr[:1e5 * 1.25]\n",
    "scaler_x = StandardScaler()\n",
    "scaler_y = StandardScaler()\n",
    "\n",
    "y_tr = y_tr.reshape((y_tr.size, 1))\n",
    "x_test = x_tr[:, int(x_tr.shape[1] * 0.8):]\n",
    "y_test = y_tr[int(x_tr.shape[1] * 0.8):, :]\n",
    "y_tr = y_tr[:int(x_tr.shape[1] * 0.8), :]\n",
    "x_tr = x_tr[:, : int(x_tr.shape[1] * 0.8)]\n",
    "\n",
    "\n",
    "x_tr = scaler_x.fit_transform(x_tr.T).T\n",
    "x_test = scaler_x.transform(x_test.T).T\n",
    "y_tr = scaler_y.fit_transform(y_tr)\n",
    "y_test = scaler_y.transform(y_test)\n",
    "\n",
    "\n",
    "dim, num = x_tr.shape\n",
    "print('of objects:', num)\n",
    "print('of features', dim)\n",
    "print(data_name)"
   ]
  },
  {
   "cell_type": "markdown",
   "metadata": {},
   "source": [
    "## Linear SVM\n",
    "We train an SVM with linear kernel for reference."
   ]
  },
  {
   "cell_type": "code",
   "execution_count": 6,
   "metadata": {
    "collapsed": false
   },
   "outputs": [
    {
     "data": {
      "text/plain": [
       "0.18896676527735246"
      ]
     },
     "execution_count": 6,
     "metadata": {},
     "output_type": "execute_result"
    }
   ],
   "source": [
    "svm = LinearSVR(C=1e0)\n",
    "svm.fit(x_tr.T, y_tr[:, 0])\n",
    "pred = svm.predict(x_test.T)\n",
    "r2_score(y_test, pred)"
   ]
  },
  {
   "cell_type": "code",
   "execution_count": 7,
   "metadata": {
    "collapsed": false
   },
   "outputs": [
    {
     "data": {
      "text/plain": [
       "0.8886236132722114"
      ]
     },
     "execution_count": 7,
     "metadata": {},
     "output_type": "execute_result"
    }
   ],
   "source": [
    "np.sqrt(mean_squared_error(y_test, pred))"
   ]
  },
  {
   "cell_type": "markdown",
   "metadata": {},
   "source": [
    "# K-means cluster centers as inducing inputs\n",
    "\n",
    "We use K-means cluster centers as inducing point positions and don't optimize wrt them."
   ]
  },
  {
   "cell_type": "code",
   "execution_count": 8,
   "metadata": {
    "collapsed": false
   },
   "outputs": [
    {
     "name": "stdout",
     "output_type": "stream",
     "text": [
      "Finding means...\n",
      "...found\n"
     ]
    }
   ],
   "source": [
    "ind_num = 500\n",
    "print('Finding means...')\n",
    "means = KMeans(n_clusters=ind_num, n_init=3, max_iter=100, random_state=241)\n",
    "means.fit(x_tr.T)\n",
    "inputs = means.cluster_centers_.T\n",
    "print('...found')"
   ]
  },
  {
   "cell_type": "code",
   "execution_count": 3,
   "metadata": {
    "collapsed": false
   },
   "outputs": [],
   "source": [
    "cov_params = np.array([.5, 30., 1.])\n",
    "# cov_params = np.array([1., 1., .5])"
   ]
  },
  {
   "cell_type": "code",
   "execution_count": 10,
   "metadata": {
    "collapsed": true
   },
   "outputs": [],
   "source": [
    "# np.save('yearpred_inputs.npy', inputs)"
   ]
  },
  {
   "cell_type": "code",
   "execution_count": 4,
   "metadata": {
    "collapsed": false
   },
   "outputs": [],
   "source": [
    "inputs = np.load('yearpred_inputs.npy')\n",
    "ind_num = inputs.shape[1]"
   ]
  },
  {
   "cell_type": "markdown",
   "metadata": {},
   "source": [
    "# SVI-L-BFGS-B\n",
    "\n",
    "L-BFGS-B optimization method applied to the svi objective (see the text)."
   ]
  },
  {
   "cell_type": "code",
   "execution_count": 18,
   "metadata": {
    "collapsed": false
   },
   "outputs": [],
   "source": [
    "model_covariance_obj = SquaredExponential(np.copy(cov_params))\n",
    "lbfgs_svi_gp = GPR(model_covariance_obj, method='svi', parametrization='cholesky', optimizer='L-BFGS-B')"
   ]
  },
  {
   "cell_type": "code",
   "execution_count": 19,
   "metadata": {
    "collapsed": false
   },
   "outputs": [
    {
     "name": "stdout",
     "output_type": "stream",
     "text": [
      "Hyper-parameters at iteration 0 : [  0.5         30.           1.          -2.31047503   0.99771221]\n",
      "Hyper-parameters at iteration 1 : [  0.52415235  29.99967524   0.93690655  -2.31047503   0.99771221]\n",
      "Hyper-parameters at iteration 2 : [  0.53055948  29.99968428   0.93289456  -2.31048551   0.99769933]\n",
      "Hyper-parameters at iteration 3 : [  0.53294557  29.99976171   0.93454242  -2.31049705   0.99768486]\n",
      "Hyper-parameters at iteration 4 : [  0.53520207  30.00002221   0.93604277  -2.31052708   0.99764689]\n",
      "Hyper-parameters at iteration 5 : [  0.53628719  30.00119523   0.93672236  -2.31064807   0.99749306]\n",
      "Hyper-parameters at iteration 6 : [  0.53788988  30.00522999   0.93762066  -2.31106007   0.99696843]\n",
      "Hyper-parameters at iteration 7 : [  0.5425975   30.02477937   0.93990681  -2.31304735   0.99443476]\n",
      "Hyper-parameters at iteration 8 : [  0.54927187  30.06808778   0.94242499  -2.31743046   0.98883683]\n",
      "Hyper-parameters at iteration 9 : [  0.55932844  30.16622736   0.94469025  -2.3273042    0.97619073]\n",
      "Hyper-parameters at iteration 10 : [  0.56760866  30.30516463   0.94392562  -2.34099198   0.95846106]\n",
      "Hyper-parameters at iteration 11 : [  0.57613342  30.4962265    0.94166967  -2.34524414   0.94241572]\n",
      "Hyper-parameters at iteration 12 : [  0.59294969  30.998548     0.93229505  -2.3370035    0.9112064 ]\n",
      "Hyper-parameters at iteration 13 : [  0.59417261  31.18627199   0.9287492   -2.31662304   0.9093321 ]\n",
      "Hyper-parameters at iteration 14 : [  0.60149038  31.23412222   0.92374822  -2.30756233   0.91101052]\n",
      "Hyper-parameters at iteration 15 : [  0.60053671  31.28737007   0.92597519  -2.28521118   0.91984191]\n",
      "Hyper-parameters at iteration 16 : [  0.60587075  31.31879369   0.92922479  -2.27699754   0.92213216]\n",
      "Hyper-parameters at iteration 17 : [  0.61269972  31.3509478    0.93202246  -2.274554     0.921071  ]\n",
      "Hyper-parameters at iteration 18 : [  0.61436195  31.35837885   0.93238214  -2.27525948   0.9200664 ]\n",
      "Hyper-parameters at iteration 19 : [  0.61514372  31.35985199   0.93255282  -2.27558837   0.9196131 ]\n",
      "Hyper-parameters at iteration 20 : [  0.61804031  31.3687989    0.9330886   -2.27623522   0.91750879]\n",
      "Hyper-parameters at iteration 21 : [  0.62202985  31.38368037   0.93379055  -2.27560061   0.91417985]\n",
      "Hyper-parameters at iteration 22 : [  0.63023308  31.42804629   0.93495084  -2.2707271    0.90573136]\n",
      "Hyper-parameters at iteration 23 : [  0.64559591  31.53662414   0.93666732  -2.2532894    0.88702636]\n",
      "Hyper-parameters at iteration 24 : [  0.67622712  31.80644985   0.93895455  -2.20153837   0.84366219]\n",
      "Hyper-parameters at iteration 25 : [  0.73168281  32.38345887   0.93906509  -2.07857806   0.75841577]\n",
      "Hyper-parameters at iteration 26 : [  0.73322681  32.44229936   0.9438565   -2.0688138    0.74329396]\n",
      "Hyper-parameters at iteration 27 : [  0.76459962  32.88712531   0.93794601  -1.96028023   0.67849166]\n",
      "Hyper-parameters at iteration 28 : [  0.7493692   32.91644045   0.93081234  -1.92966111   0.67151737]\n",
      "Hyper-parameters at iteration 29 : [  0.71048358  32.74156195   0.92629789  -1.93455476   0.69615927]\n",
      "Hyper-parameters at iteration 30 : [  0.71346328  32.76727722   0.92738075  -1.92974191   0.69202326]\n",
      "Hyper-parameters at iteration 31 : [  0.7148708   32.77964336   0.92811122  -1.92708948   0.68965202]\n"
     ]
    }
   ],
   "source": [
    "opts = {'maxiter': 30, 'mydisp': True, 'print_freq': 1}\n",
    "lbfgs_svi_res = lbfgs_svi_gp.fit(x_tr, y_tr, num_inputs=ind_num, optimizer_options=opts, inputs=inputs)"
   ]
  },
  {
   "cell_type": "code",
   "execution_count": 20,
   "metadata": {
    "collapsed": false
   },
   "outputs": [],
   "source": [
    "metric = lambda w: lbfgs_svi_gp.get_prediction_quality(w, x_test, y_test)\n",
    "lbfgs_svi_x_lst, lbfgs_svi_y_lst = lbfgs_svi_res.plot_performance(metric, 'i', freq=1)"
   ]
  },
  {
   "cell_type": "code",
   "execution_count": 21,
   "metadata": {
    "collapsed": false
   },
   "outputs": [
    {
     "data": {
      "text/plain": [
       "<matplotlib.text.Text at 0x1449911d0>"
      ]
     },
     "execution_count": 21,
     "metadata": {},
     "output_type": "execute_result"
    },
    {
     "data": {
      "image/png": "[encoded data removed]",
      "text/plain": [
       "<matplotlib.figure.Figure at 0x12517bd68>"
      ]
     },
     "metadata": {},
     "output_type": "display_data"
    }
   ],
   "source": [
    "plt.plot(lbfgs_svi_x_lst, lbfgs_svi_y_lst, '-go', label='svi-L-BFGS-B')\n",
    "plt.ylim([0., .3])\n",
    "plt.legend(loc=4)\n",
    "plt.xlabel('Iterations')\n",
    "plt.ylabel('r2 score on test-set')"
   ]
  },
  {
   "cell_type": "code",
   "execution_count": 22,
   "metadata": {
    "collapsed": false
   },
   "outputs": [
    {
     "data": {
      "text/plain": [
       "3884.8399562835693"
      ]
     },
     "execution_count": 22,
     "metadata": {},
     "output_type": "execute_result"
    }
   ],
   "source": [
    "lbfgs_svi_res.times[-1]"
   ]
  },
  {
   "cell_type": "code",
   "execution_count": 13,
   "metadata": {
    "collapsed": false
   },
   "outputs": [
    {
     "data": {
      "text/plain": [
       "0.15059519563970181"
      ]
     },
     "execution_count": 13,
     "metadata": {},
     "output_type": "execute_result"
    }
   ],
   "source": [
    "lbfgs_svi_y_lst[-1]"
   ]
  },
  {
   "cell_type": "code",
   "execution_count": 202,
   "metadata": {
    "collapsed": false
   },
   "outputs": [],
   "source": [
    "np.save('../plots/regression_revision/'+ data_name +'/' + data_name + '_lbfgs_svi_x.npy', lbfgs_svi_x_lst)\n",
    "np.save('../plots/regression_revision/' + data_name +'/' + data_name + '_lbfgs_svi_y.npy', lbfgs_svi_y_lst)"
   ]
  },
  {
   "cell_type": "markdown",
   "metadata": {},
   "source": [
    "## VI\n",
    "L-BFGS-B optimization method applied to the vi objective (see the text)."
   ]
  },
  {
   "cell_type": "code",
   "execution_count": 61,
   "metadata": {
    "collapsed": false
   },
   "outputs": [],
   "source": [
    "model_covariance_obj = SquaredExponential(np.copy(cov_params))\n",
    "vi_gp = GPR(model_covariance_obj, method='means', optimizer='L-BFGS-B')"
   ]
  },
  {
   "cell_type": "code",
   "execution_count": 62,
   "metadata": {
    "collapsed": false
   },
   "outputs": [
    {
     "name": "stdout",
     "output_type": "stream",
     "text": [
      "Hyper-parameters at iteration 0 : [  0.5  30.    1. ]\n",
      "Hyper-parameters at iteration 1 : [  1.35364792  29.97438629   0.99915447]\n",
      "Hyper-parameters at iteration 2 : [  1.38073914  29.97420672   0.91299068]\n",
      "Hyper-parameters at iteration 3 : [  1.15080952  29.98178927   0.89400849]\n",
      "Hyper-parameters at iteration 4 : [  1.08679049  29.98495386   0.89983383]\n",
      "Hyper-parameters at iteration 5 : [  1.09437491  29.98566105   0.89885422]\n",
      "Hyper-parameters at iteration 6 : [  1.09536317  29.98653366   0.89876494]\n",
      "Hyper-parameters at iteration 7 : [  1.1006176   29.9964438    0.89827263]\n",
      "Hyper-parameters at iteration 8 : [  1.10797536  30.02162249   0.8976427 ]\n",
      "Hyper-parameters at iteration 9 : [  1.12218366  30.09963257   0.89653171]\n",
      "Hyper-parameters at iteration 10 : [  1.14818466  30.31074871   0.89478201]\n",
      "Hyper-parameters at iteration 11 : [  1.20100744  30.89517041   0.89191581]\n",
      "Hyper-parameters at iteration 12 : [  1.31658955  32.49990295   0.88735164]\n",
      "Hyper-parameters at iteration 13 : [  1.60193069  37.03608585   0.88130243]\n",
      "Hyper-parameters at iteration 14 : [  2.39117604  50.09287119   0.8826198 ]\n",
      "Warning, matrix is not positive definite [  5.87896129e+00   1.67396896e+02   1.00000000e-02]\n",
      "Hyper-parameters at iteration 15 : [  2.45107405  52.10740974   0.86763373]\n",
      "Hyper-parameters at iteration 16 : [  4.23442791  82.63372351   0.87829593]\n",
      "Hyper-parameters at iteration 17 : [   6.79225939  127.05720832    0.88921761]\n",
      "Hyper-parameters at iteration 18 : [   8.17959876  151.99713206    0.88838816]\n",
      "Hyper-parameters at iteration 19 : [   8.20230677  165.14861703    0.89060456]\n",
      "Hyper-parameters at iteration 20 : [   6.91080661  158.59355733    0.89001225]\n",
      "Hyper-parameters at iteration 21 : [   6.06827204  169.09455754    0.88264812]\n"
     ]
    }
   ],
   "source": [
    "opts = {'maxiter': 20, 'mydisp': True}\n",
    "vi_res = vi_gp.fit(x_tr, y_tr, num_inputs=ind_num, optimizer_options=opts, inputs=inputs)"
   ]
  },
  {
   "cell_type": "code",
   "execution_count": 63,
   "metadata": {
    "collapsed": false
   },
   "outputs": [
    {
     "name": "stdout",
     "output_type": "stream",
     "text": [
      "Processing parameter number1/22\n",
      "Processing parameter number2/22\n",
      "Processing parameter number3/22\n",
      "Processing parameter number4/22\n",
      "Processing parameter number5/22\n",
      "Processing parameter number6/22\n",
      "Processing parameter number7/22\n",
      "Processing parameter number8/22\n",
      "Processing parameter number9/22\n",
      "Processing parameter number10/22\n",
      "Processing parameter number11/22\n",
      "Processing parameter number12/22\n",
      "Processing parameter number13/22\n",
      "Processing parameter number14/22\n",
      "Processing parameter number15/22\n",
      "Processing parameter number16/22\n",
      "Processing parameter number17/22\n",
      "Processing parameter number18/22\n",
      "Processing parameter number19/22\n",
      "Processing parameter number20/22\n",
      "Processing parameter number21/22\n",
      "Processing parameter number22/22\n"
     ]
    }
   ],
   "source": [
    "metric = lambda w: vi_gp.get_prediction_quality(w, x_tr, y_tr, x_test, y_test)\n",
    "vi_x_lst, vi_y_lst = vi_res.plot_performance(metric, 'i', freq=1, verbose=True, print_freq=1.)"
   ]
  },
  {
   "cell_type": "code",
   "execution_count": 64,
   "metadata": {
    "collapsed": false
   },
   "outputs": [
    {
     "data": {
      "text/plain": [
       "<matplotlib.text.Text at 0x10dc383c8>"
      ]
     },
     "execution_count": 64,
     "metadata": {},
     "output_type": "execute_result"
    },
    {
     "data": {
      "image/png": "[encoded data removed]",
      "text/plain": [
       "<matplotlib.figure.Figure at 0x10dc2e518>"
      ]
     },
     "metadata": {},
     "output_type": "display_data"
    }
   ],
   "source": [
    "plt.plot(vi_x_lst, vi_y_lst, '-bo', label='vi-means')\n",
    "plt.ylim([.1, .35])\n",
    "plt.legend(loc=4)\n",
    "plt.xlabel('Iterations')\n",
    "plt.ylabel('r2 score on test-set')"
   ]
  },
  {
   "cell_type": "code",
   "execution_count": 65,
   "metadata": {
    "collapsed": true
   },
   "outputs": [],
   "source": [
    "np.save('../plots/regression_revision/' + data_name +'/' + data_name + '_vi_x.npy', vi_x_lst)\n",
    "np.save('../plots/regression_revision/' + data_name +'/' + data_name + '_vi_y.npy', vi_y_lst)"
   ]
  },
  {
   "cell_type": "markdown",
   "metadata": {},
   "source": [
    "## Stochastic SVI\n",
    "Stochastic (incremental) optimization methods applied to the svi objective (see the text).\n",
    "### AdaDelta-Cholesky\n",
    "Adadelta method from climin library."
   ]
  },
  {
   "cell_type": "code",
   "execution_count": 42,
   "metadata": {
    "collapsed": false
   },
   "outputs": [],
   "source": [
    "model_covariance_obj = SquaredExponential(np.copy(cov_params))\n",
    "ad_svi_gp = GPR(model_covariance_obj, method='svi', parametrization='cholesky', optimizer='AdaDelta')"
   ]
  },
  {
   "cell_type": "code",
   "execution_count": 43,
   "metadata": {
    "collapsed": false,
    "scrolled": true
   },
   "outputs": [
    {
     "name": "stdout",
     "output_type": "stream",
     "text": [
      "Using AdaDelta optimizer\n",
      "Iteration  1 :\n",
      "\tGradient norm 0.0276714572428\n",
      "Iteration  2 :\n",
      "\tGradient norm 0.0798575522584\n",
      "Iteration  3 :\n",
      "\tGradient norm 0.183044359153\n",
      "Iteration  4 :\n",
      "\tGradient norm 0.328347668621\n",
      "Iteration  5 :\n",
      "\tGradient norm 0.0712899962257\n"
     ]
    }
   ],
   "source": [
    "opts = {'mydisp': True, 'print_freq': 1, 'step_rate': 1.,\n",
    "                'maxiter': 5, 'batch_size':5000}\n",
    "ad_svi_res = ad_svi_gp.fit(x_tr, y_tr, num_inputs=ind_num, optimizer_options=opts, inputs=inputs)"
   ]
  },
  {
   "cell_type": "code",
   "execution_count": 44,
   "metadata": {
    "collapsed": false
   },
   "outputs": [
    {
     "name": "stdout",
     "output_type": "stream",
     "text": [
      "Processing parameter number1/6\n",
      "Processing parameter number2/6\n",
      "Processing parameter number3/6\n",
      "Processing parameter number4/6\n",
      "Processing parameter number5/6\n",
      "Processing parameter number6/6\n"
     ]
    }
   ],
   "source": [
    "metric = lambda w: ad_svi_gp.get_prediction_quality(w, x_test, y_test)\n",
    "ad_svi_x_lst, ad_svi_y_lst = ad_svi_res.plot_performance(metric, 'i', freq=1, verbose=True, print_freq=1.)"
   ]
  },
  {
   "cell_type": "code",
   "execution_count": 45,
   "metadata": {
    "collapsed": false
   },
   "outputs": [
    {
     "data": {
      "text/plain": [
       "<matplotlib.text.Text at 0x10fcd5da0>"
      ]
     },
     "execution_count": 45,
     "metadata": {},
     "output_type": "execute_result"
    },
    {
     "data": {
      "image/png": "[encoded data removed]",
      "text/plain": [
       "<matplotlib.figure.Figure at 0x10dbe5400>"
      ]
     },
     "metadata": {},
     "output_type": "display_data"
    }
   ],
   "source": [
    "plt.plot(ad_svi_x_lst, ad_svi_y_lst, '-ro', label='svi-AdaDelta')\n",
    "plt.ylim([.1, .3])\n",
    "plt.legend(loc=4)\n",
    "plt.xlabel('Iterations')\n",
    "plt.ylabel('r2 score on test-set')"
   ]
  },
  {
   "cell_type": "code",
   "execution_count": 227,
   "metadata": {
    "collapsed": false
   },
   "outputs": [
    {
     "data": {
      "text/plain": [
       "0.70205701424333622"
      ]
     },
     "execution_count": 227,
     "metadata": {},
     "output_type": "execute_result"
    }
   ],
   "source": [
    "ad_svi_y_lst[-1]"
   ]
  },
  {
   "cell_type": "code",
   "execution_count": 228,
   "metadata": {
    "collapsed": false
   },
   "outputs": [],
   "source": [
    "np.save('../plots/regression_revision/' + data_name +'/' + data_name + '_ad_svi_x.npy', ad_svi_x_lst)\n",
    "np.save('../plots/regression_revision/' + data_name +'/' + data_name + '_ad_svi_y.npy', ad_svi_y_lst)"
   ]
  }
 ],
 "metadata": {
  "kernelspec": {
   "display_name": "Python 3",
   "language": "python",
   "name": "python3"
  },
  "language_info": {
   "codemirror_mode": {
    "name": "ipython",
    "version": 3
   },
   "file_extension": ".py",
   "mimetype": "text/x-python",
   "name": "python",
   "nbconvert_exporter": "python",
   "pygments_lexer": "ipython3",
   "version": "3.4.3"
  }
 },
 "nbformat": 4,
 "nbformat_minor": 0
}
