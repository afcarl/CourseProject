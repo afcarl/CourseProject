{
 "cells": [
  {
   "cell_type": "markdown",
   "metadata": {},
   "source": [
    "# Abalone dataset\n",
    "\n",
    "Comparison of different inducing point GP-regression methods."
   ]
  },
  {
   "cell_type": "code",
   "execution_count": 1,
   "metadata": {
    "collapsed": false
   },
   "outputs": [],
   "source": [
    "import sys\n",
    "sys.path.append('/Users/IzmailovPavel/Documents/Education/Course Project/Code')\n",
    "import numpy as np\n",
    "import matplotlib as mpl\n",
    "\n",
    "from matplotlib import pyplot as plt\n",
    "\n",
    "from GP.covariance_functions import SquaredExponential\n",
    "from GP.gaussian_process_regression import GPR\n",
    "\n",
    "from sklearn.cluster import KMeans\n",
    "\n",
    "from sklearn.datasets import load_svmlight_file\n",
    "from sklearn.preprocessing import StandardScaler\n",
    "from sklearn.utils import shuffle\n",
    "from sklearn.svm import SVR\n",
    "from sklearn.metrics import r2_score\n",
    "%matplotlib inline\n",
    "%load_ext autoreload\n",
    "%autoreload 2"
   ]
  },
  {
   "cell_type": "markdown",
   "metadata": {},
   "source": [
    "Loading the data"
   ]
  },
  {
   "cell_type": "code",
   "execution_count": 2,
   "metadata": {
    "collapsed": false
   },
   "outputs": [
    {
     "name": "stdout",
     "output_type": "stream",
     "text": [
      "of objects: 3341\n",
      "of features 8\n",
      "abalone\n"
     ]
    }
   ],
   "source": [
    "x_tr, y_tr = load_svmlight_file('../../../../Programming/DataSets/Regression/abalone(4177, 8).txt')\n",
    "x_tr, y_tr = shuffle(x_tr, y_tr, random_state=241)\n",
    "data_name = 'abalone'\n",
    "file_name = data_name\n",
    "\n",
    "x_tr = x_tr.toarray().T\n",
    "scaler_x = StandardScaler()\n",
    "scaler_y = StandardScaler()\n",
    "\n",
    "y_tr = y_tr.reshape((y_tr.size, 1))\n",
    "x_test = x_tr[:, int(x_tr.shape[1] * 0.8):]\n",
    "y_test = y_tr[int(x_tr.shape[1] * 0.8):, :]\n",
    "y_tr = y_tr[:int(x_tr.shape[1] * 0.8), :]\n",
    "x_tr = x_tr[:, : int(x_tr.shape[1] * 0.8)]\n",
    "\n",
    "\n",
    "x_tr = scaler_x.fit_transform(x_tr.T).T\n",
    "x_test = scaler_x.transform(x_test.T).T\n",
    "y_tr = scaler_y.fit_transform(y_tr)\n",
    "y_test = scaler_y.transform(y_test)\n",
    "\n",
    "\n",
    "dim, num = x_tr.shape\n",
    "print('of objects:', num)\n",
    "print('of features', dim)\n",
    "print(data_name)"
   ]
  },
  {
   "cell_type": "markdown",
   "metadata": {},
   "source": [
    "## SVM\n",
    "We train an SVM with RBF kernel for reference."
   ]
  },
  {
   "cell_type": "code",
   "execution_count": 7,
   "metadata": {
    "collapsed": false,
    "scrolled": false
   },
   "outputs": [
    {
     "data": {
      "text/plain": [
       "0.54522440353871882"
      ]
     },
     "execution_count": 7,
     "metadata": {},
     "output_type": "execute_result"
    }
   ],
   "source": [
    "svm = SVR(C=1e1)\n",
    "svm.fit(x_tr.T, y_tr[:, 0])\n",
    "pred = svm.predict(x_test.T)\n",
    "r2_score(y_test, pred)"
   ]
  },
  {
   "cell_type": "markdown",
   "metadata": {},
   "source": [
    "# K-means cluster centers as inducing inputs\n",
    "\n",
    "We use K-means cluster centers as inducing point positions and don't optimize wrt them."
   ]
  },
  {
   "cell_type": "code",
   "execution_count": 3,
   "metadata": {
    "collapsed": false
   },
   "outputs": [
    {
     "name": "stdout",
     "output_type": "stream",
     "text": [
      "Finding means...\n",
      "...found\n"
     ]
    }
   ],
   "source": [
    "ind_num = 100\n",
    "print('Finding means...')\n",
    "means = KMeans(n_clusters=ind_num, n_init=3, max_iter=100, random_state=241)\n",
    "means.fit(x_tr.T)\n",
    "inputs = means.cluster_centers_.T\n",
    "print('...found')"
   ]
  },
  {
   "cell_type": "code",
   "execution_count": 4,
   "metadata": {
    "collapsed": false
   },
   "outputs": [],
   "source": [
    "cov_params = np.array([1., 10., 1.])"
   ]
  },
  {
   "cell_type": "markdown",
   "metadata": {},
   "source": [
    "# SVI-L-BFGS-B\n",
    "\n",
    "L-BFGS-B optimization method applied to the svi objective (see the text)."
   ]
  },
  {
   "cell_type": "code",
   "execution_count": 17,
   "metadata": {
    "collapsed": false
   },
   "outputs": [],
   "source": [
    "model_covariance_obj = SquaredExponential(np.copy(cov_params))\n",
    "lbfgs_svi_gp = GPR(model_covariance_obj, method='svi', parametrization='cholesky', optimizer='L-BFGS-B')"
   ]
  },
  {
   "cell_type": "code",
   "execution_count": 18,
   "metadata": {
    "collapsed": false
   },
   "outputs": [],
   "source": [
    "opts = {'maxiter': 150}\n",
    "lbfgs_svi_res = lbfgs_svi_gp.fit(x_tr, y_tr, num_inputs=ind_num, optimizer_options=opts, inputs=inputs)"
   ]
  },
  {
   "cell_type": "code",
   "execution_count": 19,
   "metadata": {
    "collapsed": false
   },
   "outputs": [],
   "source": [
    "metric = lambda w: lbfgs_svi_gp.get_prediction_quality(w, x_test, y_test)\n",
    "lbfgs_svi_x_lst, lbfgs_svi_y_lst = lbfgs_svi_res.plot_performance(metric, 'i', freq=1)"
   ]
  },
  {
   "cell_type": "code",
   "execution_count": 20,
   "metadata": {
    "collapsed": false
   },
   "outputs": [
    {
     "data": {
      "text/plain": [
       "<matplotlib.text.Text at 0x10db61630>"
      ]
     },
     "execution_count": 20,
     "metadata": {},
     "output_type": "execute_result"
    },
    {
     "data": {
      "image/png": "[encoded data removed]",
      "text/plain": [
       "<matplotlib.figure.Figure at 0x10db2d128>"
      ]
     },
     "metadata": {},
     "output_type": "display_data"
    }
   ],
   "source": [
    "plt.plot(lbfgs_svi_x_lst, lbfgs_svi_y_lst, '-go', label='svi-L-BFGS-B')\n",
    "plt.ylim([.42, .56])\n",
    "plt.legend(loc=4)\n",
    "plt.xlabel('Iterations')\n",
    "plt.ylabel('r2 score on test-set')"
   ]
  },
  {
   "cell_type": "code",
   "execution_count": 28,
   "metadata": {
    "collapsed": false
   },
   "outputs": [
    {
     "data": {
      "text/plain": [
       "0.52743343086536076"
      ]
     },
     "execution_count": 28,
     "metadata": {},
     "output_type": "execute_result"
    }
   ],
   "source": [
    "lbfgs_svi_y_lst[-1]"
   ]
  },
  {
   "cell_type": "code",
   "execution_count": 21,
   "metadata": {
    "collapsed": true
   },
   "outputs": [],
   "source": [
    "np.save('../plots/regression_revision/'+ data_name +'/' + data_name + '_lbfgs_svi_x.npy', lbfgs_svi_x_lst)\n",
    "np.save('../plots/regression_revision/' + data_name +'/' + data_name + '_lbfgs_svi_y.npy', lbfgs_svi_y_lst)"
   ]
  },
  {
   "cell_type": "markdown",
   "metadata": {},
   "source": [
    "## VI\n",
    "L-BFGS-B optimization method applied to the vi objective (see the text)."
   ]
  },
  {
   "cell_type": "code",
   "execution_count": 22,
   "metadata": {
    "collapsed": false
   },
   "outputs": [],
   "source": [
    "model_covariance_obj = SquaredExponential(np.copy(cov_params))\n",
    "vi_gp = GPR(model_covariance_obj, method='means', optimizer='L-BFGS-B')"
   ]
  },
  {
   "cell_type": "code",
   "execution_count": 23,
   "metadata": {
    "collapsed": false
   },
   "outputs": [
    {
     "name": "stdout",
     "output_type": "stream",
     "text": [
      "Warning, matrix is not positive definite [  1.37979249e+01   1.12973430e+01   1.00000000e-02]\n"
     ]
    }
   ],
   "source": [
    "opts = {'maxiter': 10, 'disp': True}\n",
    "vi_res = vi_gp.fit(x_tr, y_tr, num_inputs=ind_num, optimizer_options=opts, inputs=inputs)"
   ]
  },
  {
   "cell_type": "code",
   "execution_count": 24,
   "metadata": {
    "collapsed": false
   },
   "outputs": [],
   "source": [
    "metric = lambda w: vi_gp.get_prediction_quality(w, x_tr, y_tr, x_test, y_test)\n",
    "vi_x_lst, vi_y_lst = vi_res.plot_performance(metric, 'i', freq=1)"
   ]
  },
  {
   "cell_type": "code",
   "execution_count": 26,
   "metadata": {
    "collapsed": false
   },
   "outputs": [
    {
     "data": {
      "text/plain": [
       "<matplotlib.text.Text at 0x10dbf9da0>"
      ]
     },
     "execution_count": 26,
     "metadata": {},
     "output_type": "execute_result"
    },
    {
     "data": {
      "image/png": "[encoded data removed]",
      "text/plain": [
       "<matplotlib.figure.Figure at 0x11013c8d0>"
      ]
     },
     "metadata": {},
     "output_type": "display_data"
    }
   ],
   "source": [
    "plt.plot(vi_x_lst, vi_y_lst, '-bo', label='vi-means')\n",
    "plt.ylim([.42, .56])\n",
    "plt.legend(loc=4)\n",
    "plt.xlabel('Iterations')\n",
    "plt.ylabel('r2 score on test-set')"
   ]
  },
  {
   "cell_type": "code",
   "execution_count": 27,
   "metadata": {
    "collapsed": false
   },
   "outputs": [
    {
     "data": {
      "text/plain": [
       "0.52729746757644969"
      ]
     },
     "execution_count": 27,
     "metadata": {},
     "output_type": "execute_result"
    }
   ],
   "source": [
    "vi_y_lst[-1]"
   ]
  },
  {
   "cell_type": "code",
   "execution_count": 29,
   "metadata": {
    "collapsed": true
   },
   "outputs": [],
   "source": [
    "np.save('../plots/regression_revision/' + data_name +'/' + data_name + '_vi_x.npy', vi_x_lst)\n",
    "np.save('../plots/regression_revision/' + data_name +'/' + data_name + '_vi_y.npy', vi_y_lst)"
   ]
  },
  {
   "cell_type": "markdown",
   "metadata": {},
   "source": [
    "## Stochastic SVI\n",
    "Stochastic (incremental) optimization methods applied to the svi objective (see the text).\n",
    "### AdaDelta-Cholesky\n",
    "Adadelta method from climin library."
   ]
  },
  {
   "cell_type": "code",
   "execution_count": 40,
   "metadata": {
    "collapsed": false
   },
   "outputs": [],
   "source": [
    "model_covariance_obj = SquaredExponential(np.copy(cov_params))\n",
    "ad_svi_gp = GPR(model_covariance_obj, method='svi', parametrization='cholesky', optimizer='AdaDelta')"
   ]
  },
  {
   "cell_type": "code",
   "execution_count": 41,
   "metadata": {
    "collapsed": false,
    "scrolled": true
   },
   "outputs": [
    {
     "name": "stdout",
     "output_type": "stream",
     "text": [
      "Iteration  9 :\n",
      "\tGradient norm 0.109102622511\n",
      "Iteration  19 :\n",
      "\tGradient norm 0.819375865881\n",
      "Iteration  29 :\n",
      "\tGradient norm 0.0641027589779\n",
      "Iteration  39 :\n",
      "\tGradient norm 0.425011878761\n",
      "Iteration  49 :\n",
      "\tGradient norm 0.0207992438872\n",
      "Iteration  59 :\n",
      "\tGradient norm 0.145469773788\n",
      "Iteration  69 :\n",
      "\tGradient norm 0.0530274124351\n",
      "Iteration  79 :\n",
      "\tGradient norm 0.466203758904\n",
      "Iteration  89 :\n",
      "\tGradient norm 0.512944995836\n",
      "Iteration  99 :\n",
      "\tGradient norm 0.256270251425\n",
      "Iteration  109 :\n",
      "\tGradient norm 0.850577693001\n",
      "Iteration  119 :\n",
      "\tGradient norm 1.81039706595\n",
      "Iteration  129 :\n",
      "\tGradient norm 0.117993870847\n",
      "Iteration  139 :\n",
      "\tGradient norm 0.132677487145\n",
      "Iteration  149 :\n",
      "\tGradient norm 0.235649393802\n",
      "Iteration  159 :\n",
      "\tGradient norm 0.112918076558\n",
      "Iteration  169 :\n",
      "\tGradient norm 0.233741198159\n",
      "Iteration  179 :\n",
      "\tGradient norm 0.142761517436\n",
      "Iteration  189 :\n",
      "\tGradient norm 0.483498725177\n",
      "Iteration  199 :\n",
      "\tGradient norm 0.0226153656821\n",
      "Iteration  209 :\n",
      "\tGradient norm 0.675740912199\n",
      "Iteration  219 :\n",
      "\tGradient norm 0.32642265569\n",
      "Iteration  229 :\n",
      "\tGradient norm 0.235772413153\n",
      "Iteration  239 :\n",
      "\tGradient norm 0.0856873384952\n",
      "Iteration  249 :\n",
      "\tGradient norm 0.402485596992\n",
      "Iteration  259 :\n",
      "\tGradient norm 0.0458938128368\n",
      "Iteration  269 :\n",
      "\tGradient norm 0.10989609415\n",
      "Iteration  279 :\n",
      "\tGradient norm 0.0273988189648\n",
      "Iteration  289 :\n",
      "\tGradient norm 0.292697656444\n",
      "Iteration  299 :\n",
      "\tGradient norm 0.217855574225\n",
      "Iteration  309 :\n",
      "\tGradient norm 0.0731717975303\n",
      "Iteration  319 :\n",
      "\tGradient norm 0.15988550912\n",
      "Iteration  329 :\n",
      "\tGradient norm 0.240201284205\n",
      "Iteration  339 :\n",
      "\tGradient norm 0.140998656332\n",
      "Iteration  349 :\n",
      "\tGradient norm 0.453213631997\n",
      "Iteration  359 :\n",
      "\tGradient norm 0.0996267101402\n",
      "Iteration  369 :\n",
      "\tGradient norm 0.0398126404211\n",
      "Iteration  379 :\n",
      "\tGradient norm 0.242287745051\n",
      "Iteration  389 :\n",
      "\tGradient norm 0.668591541154\n",
      "Iteration  399 :\n",
      "\tGradient norm 0.0320692023639\n",
      "Iteration  409 :\n",
      "\tGradient norm 0.348817638182\n",
      "Iteration  419 :\n",
      "\tGradient norm 0.0590081382057\n",
      "Iteration  429 :\n",
      "\tGradient norm 0.288096179272\n",
      "Iteration  439 :\n",
      "\tGradient norm 0.0842965394117\n",
      "Iteration  449 :\n",
      "\tGradient norm 0.395911820425\n",
      "Iteration  459 :\n",
      "\tGradient norm 0.230679578688\n",
      "Iteration  469 :\n",
      "\tGradient norm 0.333195172874\n",
      "Iteration  479 :\n",
      "\tGradient norm 0.21803973699\n",
      "Iteration  489 :\n",
      "\tGradient norm 0.57915932673\n",
      "Iteration  499 :\n",
      "\tGradient norm 0.178186725886\n"
     ]
    }
   ],
   "source": [
    "opts = {'mydisp': True, 'print_freq': 10, 'step_rate': 1.1,\n",
    "                'maxiter': 500, 'batch_size':200}\n",
    "ad_svi_res = ad_svi_gp.fit(x_tr, y_tr, num_inputs=ind_num, optimizer_options=opts, inputs=inputs)"
   ]
  },
  {
   "cell_type": "code",
   "execution_count": 42,
   "metadata": {
    "collapsed": false
   },
   "outputs": [],
   "source": [
    "metric = lambda w: ad_svi_gp.get_prediction_quality(w, x_test, y_test)\n",
    "ad_svi_x_lst, ad_svi_y_lst = ad_svi_res.plot_performance(metric, 'i', freq=5)"
   ]
  },
  {
   "cell_type": "code",
   "execution_count": 43,
   "metadata": {
    "collapsed": false
   },
   "outputs": [
    {
     "data": {
      "text/plain": [
       "<matplotlib.text.Text at 0x110cd07b8>"
      ]
     },
     "execution_count": 43,
     "metadata": {},
     "output_type": "execute_result"
    },
    {
     "data": {
      "image/png": "[encoded data removed]",
      "text/plain": [
       "<matplotlib.figure.Figure at 0x110cbe048>"
      ]
     },
     "metadata": {},
     "output_type": "display_data"
    }
   ],
   "source": [
    "plt.plot(ad_svi_x_lst, ad_svi_y_lst, '-ro', label='svi-AdaDelta')\n",
    "plt.ylim([.42, .56])\n",
    "plt.legend(loc=4)\n",
    "plt.xlabel('Iterations')\n",
    "plt.ylabel('r2 score on test-set')"
   ]
  },
  {
   "cell_type": "code",
   "execution_count": 44,
   "metadata": {
    "collapsed": false
   },
   "outputs": [
    {
     "data": {
      "text/plain": [
       "0.52761328880411251"
      ]
     },
     "execution_count": 44,
     "metadata": {},
     "output_type": "execute_result"
    }
   ],
   "source": [
    "ad_svi_y_lst[-1]"
   ]
  },
  {
   "cell_type": "code",
   "execution_count": 45,
   "metadata": {
    "collapsed": false
   },
   "outputs": [],
   "source": [
    "np.save('../plots/regression_revision/' + data_name +'/' + data_name + '_ad_svi_x.npy', ad_svi_x_lst)\n",
    "np.save('../plots/regression_revision/' + data_name +'/' + data_name + '_ad_svi_y.npy', ad_svi_y_lst)"
   ]
  },
  {
   "cell_type": "markdown",
   "metadata": {},
   "source": [
    "###SG-cholesky\n",
    "Stochastic gradient descent."
   ]
  },
  {
   "cell_type": "code",
   "execution_count": 85,
   "metadata": {
    "collapsed": true
   },
   "outputs": [],
   "source": [
    "model_covariance_obj = SquaredExponential(np.copy(cov_params))\n",
    "sg_svi_gp = GPR(model_covariance_obj, method='svi', parametrization='cholesky', optimizer='SG')"
   ]
  },
  {
   "cell_type": "code",
   "execution_count": 86,
   "metadata": {
    "collapsed": true
   },
   "outputs": [
    {
     "name": "stdout",
     "output_type": "stream",
     "text": [
      "Epoch  0 :\n",
      "\tStep: 0.7\n",
      "\tParameters [  0.91094909  10.02756176]\n",
      "Epoch  10 :\n",
      "\tStep: 0.441670141136\n",
      "\tParameters [  1.27573591  10.12879526]\n",
      "Epoch  20 :\n",
      "\tStep: 0.384496190157\n",
      "\tParameters [  1.36630228  10.19652039]\n",
      "Epoch  30 :\n",
      "\tStep: 0.354546978878\n",
      "\tParameters [  1.37007544  10.27811549]\n",
      "Epoch  40 :\n",
      "\tStep: 0.334723374927\n",
      "\tParameters [  1.49491076  10.32266467]\n",
      "Epoch  50 :\n",
      "\tStep: 0.320113536349\n",
      "\tParameters [  1.54528087  10.37760791]\n",
      "Epoch  60 :\n",
      "\tStep: 0.308651072178\n",
      "\tParameters [  1.6176572   10.41820801]\n",
      "Epoch  70 :\n",
      "\tStep: 0.299280507757\n",
      "\tParameters [  1.57688971  10.47399259]\n",
      "Epoch  80 :\n",
      "\tStep: 0.291393622591\n",
      "\tParameters [  1.6105383   10.52062086]\n",
      "Epoch  90 :\n",
      "\tStep: 0.284609595542\n",
      "\tParameters [  1.68707711  10.55181921]\n",
      "Epoch  100 :\n",
      "\tStep: 0.278675019387\n",
      "\tParameters [  1.6313523   10.60237037]\n",
      "Epoch  110 :\n",
      "\tStep: 0.273413215818\n",
      "\tParameters [  1.67830793  10.63386464]\n",
      "Epoch  120 :\n",
      "\tStep: 0.268696364746\n",
      "\tParameters [  1.7288281   10.66276004]\n",
      "Epoch  130 :\n",
      "\tStep: 0.264429174706\n",
      "\tParameters [  1.7364444   10.69973407]\n",
      "Epoch  140 :\n",
      "\tStep: 0.260538814611\n",
      "\tParameters [  1.76814679  10.7235786 ]\n",
      "Epoch  150 :\n",
      "\tStep: 0.256968440109\n",
      "\tParameters [  1.8511475   10.73995631]\n",
      "Epoch  160 :\n",
      "\tStep: 0.253672882287\n",
      "\tParameters [  1.82068526  10.7741484 ]\n",
      "Epoch  170 :\n",
      "\tStep: 0.250615689347\n",
      "\tParameters [  1.95696364  10.77984253]\n",
      "Epoch  180 :\n",
      "\tStep: 0.247767043719\n",
      "\tParameters [  1.96378508  10.80951122]\n",
      "Epoch  190 :\n",
      "\tStep: 0.245102262302\n",
      "\tParameters [  1.99694862  10.83308594]\n",
      "Epoch  200 :\n",
      "\tStep: 0.242600695104\n",
      "\tParameters [  2.02813139  10.85350038]\n",
      "Epoch  210 :\n",
      "\tStep: 0.240244902201\n",
      "\tParameters [  2.04178639  10.87392197]\n",
      "Epoch  220 :\n",
      "\tStep: 0.238020029043\n",
      "\tParameters [  2.12873715  10.87556156]\n",
      "Epoch  230 :\n",
      "\tStep: 0.235913325623\n",
      "\tParameters [  2.12892776  10.89573526]\n",
      "Epoch  240 :\n",
      "\tStep: 0.233913771685\n",
      "\tParameters [  2.12994714  10.91408536]\n",
      "Epoch  250 :\n",
      "\tStep: 0.232011781214\n",
      "\tParameters [  2.16845899  10.92415849]\n",
      "Epoch  260 :\n",
      "\tStep: 0.230198966992\n",
      "\tParameters [  2.16238967  10.94054955]\n",
      "Epoch  270 :\n",
      "\tStep: 0.228467951218\n",
      "\tParameters [  2.22454829  10.94296466]\n",
      "Epoch  280 :\n",
      "\tStep: 0.22681221182\n",
      "\tParameters [  2.27015742  10.94910276]\n",
      "Epoch  290 :\n",
      "\tStep: 0.225225956738\n",
      "\tParameters [  2.36041802  10.94255268]\n",
      "Epoch  300 :\n",
      "\tStep: 0.223704020287\n",
      "\tParameters [  2.37514252  10.95509178]\n",
      "Epoch  310 :\n",
      "\tStep: 0.222241777158\n",
      "\tParameters [  2.37484654  10.96687288]\n",
      "Epoch  320 :\n",
      "\tStep: 0.220835070568\n",
      "\tParameters [  2.36615822  10.9804693 ]\n",
      "Epoch  330 :\n",
      "\tStep: 0.219480151872\n",
      "\tParameters [  2.3890652   10.98688999]\n",
      "Epoch  340 :\n",
      "\tStep: 0.218173629532\n",
      "\tParameters [  2.42920774  10.98999318]\n",
      "Epoch  350 :\n",
      "\tStep: 0.216912425757\n",
      "\tParameters [  2.49933198  10.98101003]\n",
      "Epoch  360 :\n",
      "\tStep: 0.215693739476\n",
      "\tParameters [  2.49759264  10.99150281]\n",
      "Epoch  370 :\n",
      "\tStep: 0.21451501457\n",
      "\tParameters [  2.53465911  10.98968746]\n",
      "Epoch  380 :\n",
      "\tStep: 0.213373912512\n",
      "\tParameters [  2.50077194  11.00485898]\n",
      "Epoch  390 :\n",
      "\tStep: 0.212268288678\n",
      "\tParameters [  2.56470865  10.99678027]\n",
      "Epoch  400 :\n",
      "\tStep: 0.211196171779\n",
      "\tParameters [  2.59495904  10.99589663]\n",
      "Epoch  410 :\n",
      "\tStep: 0.210155745927\n",
      "\tParameters [  2.61507223  10.99334139]\n",
      "Epoch  420 :\n",
      "\tStep: 0.20914533494\n",
      "\tParameters [  2.61569496  10.99836568]\n",
      "Epoch  430 :\n",
      "\tStep: 0.208163388569\n",
      "\tParameters [  2.64161684  10.99825744]\n",
      "Epoch  440 :\n",
      "\tStep: 0.207208470359\n",
      "\tParameters [  2.67384524  10.99838175]\n",
      "Epoch  450 :\n",
      "\tStep: 0.206279246937\n",
      "\tParameters [  2.70857527  10.99542717]\n",
      "Epoch  460 :\n",
      "\tStep: 0.20537447851\n",
      "\tParameters [  2.73557246  10.99625377]\n",
      "Epoch  470 :\n",
      "\tStep: 0.204493010436\n",
      "\tParameters [  2.73021266  10.99790416]\n",
      "Epoch  480 :\n",
      "\tStep: 0.203633765703\n",
      "\tParameters [  2.77518991  10.99291076]\n",
      "Epoch  490 :\n",
      "\tStep: 0.202795738224\n",
      "\tParameters [  2.82794926  10.98275546]\n",
      "Epoch  500 :\n",
      "\tStep: 0.201977986827\n",
      "\tParameters [  2.84944121  10.98028402]\n",
      "Epoch  510 :\n",
      "\tStep: 0.201179629868\n",
      "\tParameters [  2.83870291  10.9892608 ]\n",
      "Epoch  520 :\n",
      "\tStep: 0.200399840385\n",
      "\tParameters [  2.85366639  10.9888724 ]\n",
      "Epoch  530 :\n",
      "\tStep: 0.19963784173\n",
      "\tParameters [  2.88479179  10.98342932]\n",
      "Epoch  540 :\n",
      "\tStep: 0.198892903628\n",
      "\tParameters [  2.92739729  10.97154822]\n",
      "Epoch  550 :\n",
      "\tStep: 0.198164338606\n",
      "\tParameters [  2.91662125  10.97856038]\n",
      "Epoch  560 :\n",
      "\tStep: 0.197451498763\n",
      "\tParameters [  2.93344478  10.9792611 ]\n",
      "Epoch  570 :\n",
      "\tStep: 0.196753772832\n",
      "\tParameters [  2.95206297  10.97852468]\n",
      "Epoch  580 :\n",
      "\tStep: 0.196070583507\n",
      "\tParameters [  2.94041982  10.9910367 ]\n",
      "Epoch  590 :\n",
      "\tStep: 0.195401385011\n",
      "\tParameters [  2.9621613   10.99284338]\n",
      "Epoch  600 :\n",
      "\tStep: 0.194745660872\n",
      "\tParameters [  2.99761303  10.98536017]\n",
      "Epoch  610 :\n",
      "\tStep: 0.194102921894\n",
      "\tParameters [  3.01299632  10.98371355]\n",
      "Epoch  620 :\n",
      "\tStep: 0.193472704293\n",
      "\tParameters [  3.06689372  10.97091969]\n",
      "Epoch  630 :\n",
      "\tStep: 0.192854567998\n",
      "\tParameters [  3.06425868  10.97476675]\n",
      "Epoch  640 :\n",
      "\tStep: 0.192248095079\n",
      "\tParameters [  3.08507502  10.97200307]\n",
      "Epoch  650 :\n",
      "\tStep: 0.19165288831\n",
      "\tParameters [  3.14133584  10.9585852 ]\n",
      "Epoch  660 :\n",
      "\tStep: 0.191068569844\n",
      "\tParameters [  3.16876895  10.94863302]\n",
      "Epoch  670 :\n",
      "\tStep: 0.19049477999\n",
      "\tParameters [  3.19198711  10.9482298 ]\n",
      "Epoch  680 :\n",
      "\tStep: 0.189931176085\n",
      "\tParameters [  3.18645318  10.95261509]\n",
      "Epoch  690 :\n",
      "\tStep: 0.189377431451\n",
      "\tParameters [  3.18200493  10.96084283]\n",
      "Epoch  700 :\n",
      "\tStep: 0.188833234429\n",
      "\tParameters [  3.25052162  10.94147345]\n",
      "Epoch  710 :\n",
      "\tStep: 0.18829828749\n",
      "\tParameters [  3.27643882  10.93818329]\n",
      "Epoch  720 :\n",
      "\tStep: 0.1877723064\n",
      "\tParameters [  3.29117156  10.93473739]\n",
      "Epoch  730 :\n",
      "\tStep: 0.187255019457\n",
      "\tParameters [  3.30125579  10.93530763]\n",
      "Epoch  740 :\n",
      "\tStep: 0.18674616677\n",
      "\tParameters [  3.33789382  10.92312909]\n",
      "Epoch  750 :\n",
      "\tStep: 0.186245499598\n",
      "\tParameters [  3.35304327  10.92285848]\n",
      "Epoch  760 :\n",
      "\tStep: 0.18575277973\n",
      "\tParameters [  3.36105181  10.92404427]\n",
      "Epoch  770 :\n",
      "\tStep: 0.185267778906\n",
      "\tParameters [  3.37224313  10.92582231]\n",
      "Epoch  780 :\n",
      "\tStep: 0.184790278279\n",
      "\tParameters [  3.36064133  10.93404312]\n",
      "Epoch  790 :\n",
      "\tStep: 0.184320067912\n",
      "\tParameters [  3.39520238  10.9226477 ]\n",
      "Epoch  800 :\n",
      "\tStep: 0.183856946308\n",
      "\tParameters [  3.4558336   10.90962251]\n",
      "Epoch  810 :\n",
      "\tStep: 0.183400719973\n",
      "\tParameters [  3.49609849  10.90151355]\n",
      "Epoch  820 :\n",
      "\tStep: 0.182951202997\n",
      "\tParameters [  3.50376304  10.90485931]\n",
      "Epoch  830 :\n",
      "\tStep: 0.182508216675\n",
      "\tParameters [  3.52425431  10.90091873]\n",
      "Epoch  840 :\n",
      "\tStep: 0.182071589143\n",
      "\tParameters [  3.53706443  10.90415992]\n",
      "Epoch  850 :\n",
      "\tStep: 0.181641155037\n",
      "\tParameters [  3.54013848  10.91028222]\n",
      "Epoch  860 :\n",
      "\tStep: 0.181216755176\n",
      "\tParameters [  3.57642157  10.90524465]\n",
      "Epoch  870 :\n",
      "\tStep: 0.18079823626\n",
      "\tParameters [  3.59172408  10.90596986]\n",
      "Epoch  880 :\n",
      "\tStep: 0.180385450591\n",
      "\tParameters [  3.60055291  10.90995235]\n",
      "Epoch  890 :\n",
      "\tStep: 0.179978255803\n",
      "\tParameters [  3.63144524  10.90740301]\n",
      "Epoch  900 :\n",
      "\tStep: 0.179576514617\n",
      "\tParameters [  3.64600812  10.9092437 ]\n",
      "Epoch  910 :\n",
      "\tStep: 0.179180094602\n",
      "\tParameters [  3.67165133  10.90973686]\n",
      "Epoch  920 :\n",
      "\tStep: 0.178788867954\n",
      "\tParameters [  3.69600143  10.90806257]\n",
      "Epoch  930 :\n",
      "\tStep: 0.178402711285\n",
      "\tParameters [  3.72494073  10.90381303]\n",
      "Epoch  940 :\n",
      "\tStep: 0.178021505425\n",
      "\tParameters [  3.73269868  10.90946666]\n",
      "Epoch  950 :\n",
      "\tStep: 0.177645135238\n",
      "\tParameters [  3.72570898  10.92299164]\n",
      "Epoch  960 :\n",
      "\tStep: 0.177273489439\n",
      "\tParameters [  3.77663143  10.90436958]\n",
      "Epoch  970 :\n",
      "\tStep: 0.176906460431\n",
      "\tParameters [  3.82560803  10.89201556]\n",
      "Epoch  980 :\n",
      "\tStep: 0.176543944145\n",
      "\tParameters [  3.80204655  10.91341939]\n",
      "Epoch  990 :\n",
      "\tStep: 0.176185839889\n",
      "\tParameters [  3.80179097  10.9236003 ]\n",
      "Epoch  1000 :\n",
      "\tStep: 0.175832050206\n",
      "\tParameters [  3.83992078  10.91676037]\n",
      "Epoch  1010 :\n",
      "\tStep: 0.175482480739\n",
      "\tParameters [  3.870426    10.91724507]\n",
      "Epoch  1020 :\n",
      "\tStep: 0.175137040105\n",
      "\tParameters [  3.86410033  10.93291825]\n",
      "Epoch  1030 :\n",
      "\tStep: 0.174795639769\n",
      "\tParameters [  3.90218264  10.9292807 ]\n",
      "Epoch  1040 :\n",
      "\tStep: 0.174458193932\n",
      "\tParameters [  3.93702665  10.92426305]\n",
      "Epoch  1050 :\n",
      "\tStep: 0.174124619418\n",
      "\tParameters [  3.94381169  10.9356686 ]\n",
      "Epoch  1060 :\n",
      "\tStep: 0.173794835573\n",
      "\tParameters [  3.9736059   10.93412693]\n",
      "Epoch  1070 :\n",
      "\tStep: 0.173468764166\n",
      "\tParameters [  3.99701587  10.9381865 ]\n",
      "Epoch  1080 :\n",
      "\tStep: 0.173146329289\n",
      "\tParameters [  3.97433798  10.96244894]\n",
      "Epoch  1090 :\n",
      "\tStep: 0.172827457272\n",
      "\tParameters [  4.00253512  10.9615349 ]\n",
      "Epoch  1100 :\n",
      "\tStep: 0.172512076598\n",
      "\tParameters [  4.02768992  10.96191251]\n",
      "Epoch  1110 :\n",
      "\tStep: 0.172200117817\n",
      "\tParameters [  4.00975953  10.9837311 ]\n",
      "Epoch  1120 :\n",
      "\tStep: 0.171891513472\n",
      "\tParameters [  4.0397204   10.98178529]\n",
      "Epoch  1130 :\n",
      "\tStep: 0.17158619802\n",
      "\tParameters [  4.07667272  10.97524287]\n",
      "Epoch  1140 :\n",
      "\tStep: 0.171284107769\n",
      "\tParameters [  4.07597002  10.9914448 ]\n",
      "Epoch  1150 :\n",
      "\tStep: 0.170985180802\n",
      "\tParameters [  4.09675809  10.99708748]\n",
      "Epoch  1160 :\n",
      "\tStep: 0.170689356918\n",
      "\tParameters [  4.09644948  11.00731864]\n",
      "Epoch  1170 :\n",
      "\tStep: 0.170396577566\n",
      "\tParameters [  4.13897677  11.00136668]\n",
      "Epoch  1180 :\n",
      "\tStep: 0.17010678579\n",
      "\tParameters [  4.15496264  11.00778869]\n",
      "Epoch  1190 :\n",
      "\tStep: 0.169819926171\n",
      "\tParameters [  4.1218224   11.04196678]\n",
      "Epoch  1200 :\n",
      "\tStep: 0.169535944772\n",
      "\tParameters [  4.11770249  11.05837566]\n",
      "Epoch  1210 :\n",
      "\tStep: 0.169254789087\n",
      "\tParameters [  4.14869802  11.05583637]\n",
      "Epoch  1220 :\n",
      "\tStep: 0.168976407992\n",
      "\tParameters [  4.18143207  11.05164997]\n",
      "Epoch  1230 :\n",
      "\tStep: 0.168700751698\n",
      "\tParameters [  4.16923825  11.07381994]\n",
      "Epoch  1240 :\n",
      "\tStep: 0.168427771705\n",
      "\tParameters [  4.19611545  11.07195357]\n",
      "Epoch  1250 :\n",
      "\tStep: 0.168157420757\n",
      "\tParameters [  4.22093837  11.07486869]\n",
      "Epoch  1260 :\n",
      "\tStep: 0.167889652805\n",
      "\tParameters [  4.22446038  11.08750878]\n",
      "Epoch  1270 :\n",
      "\tStep: 0.16762442296\n",
      "\tParameters [  4.23991117  11.09638768]\n",
      "Epoch  1280 :\n",
      "\tStep: 0.167361687463\n",
      "\tParameters [  4.26140025  11.10414373]\n",
      "Epoch  1290 :\n",
      "\tStep: 0.167101403641\n",
      "\tParameters [  4.29919411  11.0973713 ]\n",
      "Epoch  1300 :\n",
      "\tStep: 0.166843529875\n",
      "\tParameters [  4.32273733  11.10205433]\n",
      "Epoch  1310 :\n",
      "\tStep: 0.166588025567\n",
      "\tParameters [  4.31255313  11.11984419]\n",
      "Epoch  1320 :\n",
      "\tStep: 0.166334851106\n",
      "\tParameters [  4.32662013  11.13095342]\n",
      "Epoch  1330 :\n",
      "\tStep: 0.166083967835\n",
      "\tParameters [  4.32406564  11.14769323]\n",
      "Epoch  1340 :\n",
      "\tStep: 0.165835338026\n",
      "\tParameters [  4.32978441  11.16356848]\n",
      "Epoch  1350 :\n",
      "\tStep: 0.165588924845\n",
      "\tParameters [  4.35393436  11.16754217]\n",
      "Epoch  1360 :\n",
      "\tStep: 0.165344692329\n",
      "\tParameters [  4.37610092  11.17029476]\n",
      "Epoch  1370 :\n",
      "\tStep: 0.165102605357\n",
      "\tParameters [  4.39244548  11.17731872]\n",
      "Epoch  1380 :\n",
      "\tStep: 0.164862629625\n",
      "\tParameters [  4.41659281  11.18185408]\n",
      "Epoch  1390 :\n",
      "\tStep: 0.164624731621\n",
      "\tParameters [  4.43514806  11.19064242]\n",
      "Epoch  1400 :\n",
      "\tStep: 0.164388878601\n",
      "\tParameters [  4.46032095  11.19561687]\n",
      "Epoch  1410 :\n",
      "\tStep: 0.164155038567\n",
      "\tParameters [  4.45693733  11.217107  ]\n",
      "Epoch  1420 :\n",
      "\tStep: 0.163923180242\n",
      "\tParameters [  4.49073818  11.21658644]\n",
      "Epoch  1430 :\n",
      "\tStep: 0.163693273053\n",
      "\tParameters [  4.47215433  11.24071344]\n",
      "Epoch  1440 :\n",
      "\tStep: 0.163465287108\n",
      "\tParameters [  4.48886196  11.24949525]\n",
      "Epoch  1450 :\n",
      "\tStep: 0.163239193176\n",
      "\tParameters [  4.47432951  11.27528797]\n",
      "Epoch  1460 :\n",
      "\tStep: 0.163014962668\n",
      "\tParameters [  4.49961407  11.27783089]\n",
      "Epoch  1470 :\n",
      "\tStep: 0.16279256762\n",
      "\tParameters [  4.48828383  11.30384   ]\n",
      "Epoch  1480 :\n",
      "\tStep: 0.162571980675\n",
      "\tParameters [  4.51050454  11.30962284]\n",
      "Epoch  1490 :\n",
      "\tStep: 0.162353175062\n",
      "\tParameters [  4.51591336  11.32529152]\n",
      "Epoch  1500 :\n",
      "\tStep: 0.162136124587\n",
      "\tParameters [  4.53362498  11.32699826]\n",
      "Epoch  1510 :\n",
      "\tStep: 0.161920803608\n",
      "\tParameters [  4.53081394  11.34874037]\n",
      "Epoch  1520 :\n",
      "\tStep: 0.161707187028\n",
      "\tParameters [  4.5539449   11.35562027]\n",
      "Epoch  1530 :\n",
      "\tStep: 0.161495250275\n",
      "\tParameters [  4.59360997  11.34908058]\n",
      "Epoch  1540 :\n",
      "\tStep: 0.161284969287\n",
      "\tParameters [  4.59112533  11.36702294]\n",
      "Epoch  1550 :\n",
      "\tStep: 0.161076320504\n",
      "\tParameters [  4.61837652  11.37235411]\n",
      "Epoch  1560 :\n",
      "\tStep: 0.160869280847\n",
      "\tParameters [  4.63822948  11.38198049]\n",
      "Epoch  1570 :\n",
      "\tStep: 0.160663827711\n",
      "\tParameters [  4.66821402  11.38087247]\n",
      "Epoch  1580 :\n",
      "\tStep: 0.160459938947\n",
      "\tParameters [  4.66350241  11.39978765]\n",
      "Epoch  1590 :\n",
      "\tStep: 0.160257592857\n",
      "\tParameters [  4.6651398   11.41592363]\n",
      "Epoch  1600 :\n",
      "\tStep: 0.160056768175\n",
      "\tParameters [  4.68967375  11.42036994]\n",
      "Epoch  1610 :\n",
      "\tStep: 0.159857444059\n",
      "\tParameters [  4.71594392  11.42090556]\n",
      "Epoch  1620 :\n",
      "\tStep: 0.159659600081\n",
      "\tParameters [  4.73052728  11.43191507]\n",
      "Epoch  1630 :\n",
      "\tStep: 0.159463216214\n",
      "\tParameters [  4.74489632  11.44419006]\n",
      "Epoch  1640 :\n",
      "\tStep: 0.159268272824\n",
      "\tParameters [  4.74602972  11.46183093]\n",
      "Epoch  1650 :\n",
      "\tStep: 0.159074750657\n",
      "\tParameters [  4.77073605  11.46358015]\n",
      "Epoch  1660 :\n",
      "\tStep: 0.158882630833\n",
      "\tParameters [  4.78486985  11.47219348]\n",
      "Epoch  1670 :\n",
      "\tStep: 0.158691894831\n",
      "\tParameters [  4.78834195  11.48458775]\n",
      "Epoch  1680 :\n",
      "\tStep: 0.158502524489\n",
      "\tParameters [  4.78569706  11.50108029]\n",
      "Epoch  1690 :\n",
      "\tStep: 0.158314501985\n",
      "\tParameters [  4.7899146   11.51642488]\n",
      "Epoch  1700 :\n",
      "\tStep: 0.158127809835\n",
      "\tParameters [  4.82112691  11.51070197]\n",
      "Epoch  1710 :\n",
      "\tStep: 0.157942430885\n",
      "\tParameters [  4.82329125  11.52721763]\n",
      "Epoch  1720 :\n",
      "\tStep: 0.157758348297\n",
      "\tParameters [  4.84387822  11.52981548]\n",
      "Epoch  1730 :\n",
      "\tStep: 0.157575545549\n",
      "\tParameters [  4.8406457   11.55133333]\n",
      "Epoch  1740 :\n",
      "\tStep: 0.157394006419\n",
      "\tParameters [  4.84699327  11.56579582]\n",
      "Epoch  1750 :\n",
      "\tStep: 0.157213714988\n",
      "\tParameters [  4.85070511  11.5803302 ]\n",
      "Epoch  1760 :\n",
      "\tStep: 0.157034655622\n",
      "\tParameters [  4.87214741  11.5845852 ]\n",
      "Epoch  1770 :\n",
      "\tStep: 0.156856812974\n",
      "\tParameters [  4.88979469  11.58995641]\n",
      "Epoch  1780 :\n",
      "\tStep: 0.15668017197\n",
      "\tParameters [  4.89804869  11.60253553]\n",
      "Epoch  1790 :\n",
      "\tStep: 0.15650471781\n",
      "\tParameters [  4.90669194  11.6102869 ]\n",
      "Epoch  1800 :\n",
      "\tStep: 0.156330435955\n",
      "\tParameters [  4.93482601  11.61316888]\n",
      "Epoch  1810 :\n",
      "\tStep: 0.156157312123\n",
      "\tParameters [  4.92361003  11.63717219]\n",
      "Epoch  1820 :\n",
      "\tStep: 0.155985332287\n",
      "\tParameters [  4.94422992  11.64294899]\n",
      "Epoch  1830 :\n",
      "\tStep: 0.155814482663\n",
      "\tParameters [  4.94625082  11.65888342]\n",
      "Epoch  1840 :\n",
      "\tStep: 0.155644749708\n",
      "\tParameters [  4.93196     11.68204093]\n",
      "Epoch  1850 :\n",
      "\tStep: 0.155476120114\n",
      "\tParameters [  4.95054678  11.68856463]\n",
      "Epoch  1860 :\n",
      "\tStep: 0.155308580802\n",
      "\tParameters [  4.95596298  11.70361063]\n",
      "Epoch  1870 :\n",
      "\tStep: 0.155142118918\n",
      "\tParameters [  5.00460086  11.69193066]\n",
      "Epoch  1880 :\n",
      "\tStep: 0.154976721827\n",
      "\tParameters [  5.00041637  11.71339727]\n",
      "Epoch  1890 :\n",
      "\tStep: 0.154812377107\n",
      "\tParameters [  5.00940268  11.72415019]\n",
      "Epoch  1900 :\n",
      "\tStep: 0.154649072548\n",
      "\tParameters [  5.02845586  11.73018429]\n",
      "Epoch  1910 :\n",
      "\tStep: 0.154486796144\n",
      "\tParameters [  5.031502    11.74682811]\n",
      "Epoch  1920 :\n",
      "\tStep: 0.154325536089\n",
      "\tParameters [  5.03672936  11.7584989 ]\n",
      "Epoch  1930 :\n",
      "\tStep: 0.154165280773\n",
      "\tParameters [  5.06382     11.75932585]\n",
      "Epoch  1940 :\n",
      "\tStep: 0.154006018779\n",
      "\tParameters [  5.05230718  11.78213033]\n",
      "Epoch  1950 :\n",
      "\tStep: 0.153847738878\n",
      "\tParameters [  5.07822194  11.77981475]\n",
      "Epoch  1960 :\n",
      "\tStep: 0.153690430022\n",
      "\tParameters [  5.07985073  11.79713095]\n",
      "Epoch  1970 :\n",
      "\tStep: 0.153534081346\n",
      "\tParameters [  5.09532004  11.80475698]\n",
      "Epoch  1980 :\n",
      "\tStep: 0.15337868216\n",
      "\tParameters [  5.10302211  11.8209097 ]\n",
      "Epoch  1990 :\n",
      "\tStep: 0.153224221945\n",
      "\tParameters [  5.10764895  11.83580317]\n"
     ]
    }
   ],
   "source": [
    "opts = {'maxiter':2000, 'batch_size': 200 , 'print_freq': 10, 'step0': 7e-1, 'gamma': .2}\n",
    "sg_svi_res = sg_svi_gp.fit(x_tr, y_tr, num_inputs=ind_num, optimizer_options=opts, inputs=inputs)"
   ]
  },
  {
   "cell_type": "code",
   "execution_count": 87,
   "metadata": {
    "collapsed": true
   },
   "outputs": [],
   "source": [
    "metric = lambda w: sg_svi_gp.get_prediction_quality(w, x_test, y_test)\n",
    "sg_svi_x_lst, sg_svi_y_lst = sg_svi_res.plot_performance(metric, 'i', freq=5)"
   ]
  },
  {
   "cell_type": "code",
   "execution_count": 88,
   "metadata": {
    "collapsed": false
   },
   "outputs": [
    {
     "data": {
      "text/plain": [
       "<matplotlib.text.Text at 0x112c0b198>"
      ]
     },
     "execution_count": 88,
     "metadata": {},
     "output_type": "execute_result"
    },
    {
     "data": {
      "image/png": "[encoded data removed]",
      "text/plain": [
       "<matplotlib.figure.Figure at 0x110b7dc50>"
      ]
     },
     "metadata": {},
     "output_type": "display_data"
    }
   ],
   "source": [
    "plt.plot(sg_svi_x_lst, sg_svi_y_lst, '-ro', label='svi-SG')\n",
    "plt.ylim([.42, .56])\n",
    "plt.legend(loc=4)\n",
    "plt.xlabel('Iterations')\n",
    "plt.ylabel('r2 score on test-set')"
   ]
  },
  {
   "cell_type": "code",
   "execution_count": 89,
   "metadata": {
    "collapsed": false
   },
   "outputs": [
    {
     "data": {
      "text/plain": [
       "0.52514043671385502"
      ]
     },
     "execution_count": 89,
     "metadata": {},
     "output_type": "execute_result"
    }
   ],
   "source": [
    "sg_svi_y_lst[-1]"
   ]
  },
  {
   "cell_type": "code",
   "execution_count": 90,
   "metadata": {
    "collapsed": true
   },
   "outputs": [],
   "source": [
    "np.save('../plots/regression_revision/' + data_name +'/' + data_name + '_sg_svi_x.npy', sg_svi_x_lst)\n",
    "np.save('../plots/regression_revision/' + data_name +'/' + data_name + '_sg_svi_y.npy', sg_svi_y_lst)"
   ]
  },
  {
   "cell_type": "markdown",
   "metadata": {},
   "source": [
    "### SG-Natural\n",
    "Stochastic gradient descent with natural gradients with respect to the variational parameters."
   ]
  },
  {
   "cell_type": "code",
   "execution_count": 133,
   "metadata": {
    "collapsed": false
   },
   "outputs": [],
   "source": [
    "model_covariance_obj = SquaredExponential(np.copy(cov_params))\n",
    "sng_svi_gp = GPR(model_covariance_obj, method='svi', parametrization='natural')"
   ]
  },
  {
   "cell_type": "code",
   "execution_count": 134,
   "metadata": {
    "collapsed": false
   },
   "outputs": [
    {
     "name": "stdout",
     "output_type": "stream",
     "text": [
      "Epoch  0 :\n",
      "\tStep: 0.5\n",
      "\tParameters [ 1.16743777  9.99991163]\n",
      "Epoch  50 :\n",
      "\tStep: 0.411170079713\n",
      "\tParameters [  1.30493311  10.58261704]\n",
      "Epoch  100 :\n",
      "\tStep: 0.397164117362\n",
      "\tParameters [  1.51818961  10.98603356]\n",
      "Epoch  150 :\n",
      "\tStep: 0.389193377198\n",
      "\tParameters [  1.52394745  11.3186675 ]\n",
      "Epoch  200 :\n",
      "\tStep: 0.383635249505\n",
      "\tParameters [  1.74179649  11.56230187]\n",
      "Epoch  250 :\n",
      "\tStep: 0.379378752309\n",
      "\tParameters [  1.83661423  11.77013658]\n",
      "Epoch  300 :\n",
      "\tStep: 0.375936022012\n",
      "\tParameters [  1.81954196  11.968471  ]\n",
      "Epoch  350 :\n",
      "\tStep: 0.373049620153\n",
      "\tParameters [  1.89583795  12.1146309 ]\n",
      "Epoch  400 :\n",
      "\tStep: 0.370567224553\n",
      "\tParameters [  1.99212573  12.2480219 ]\n",
      "Epoch  450 :\n",
      "\tStep: 0.368391311353\n",
      "\tParameters [  2.02328734  12.36088045]\n",
      "Epoch  500 :\n",
      "\tStep: 0.366455719277\n",
      "\tParameters [  2.15107684  12.46177944]\n",
      "Epoch  550 :\n",
      "\tStep: 0.364713525769\n",
      "\tParameters [  2.16131883  12.56354812]\n",
      "Epoch  600 :\n",
      "\tStep: 0.363130261013\n",
      "\tParameters [  2.22489144  12.65074431]\n",
      "Epoch  650 :\n",
      "\tStep: 0.361679868816\n",
      "\tParameters [  2.28187363  12.72900291]\n",
      "Epoch  700 :\n",
      "\tStep: 0.360342180598\n",
      "\tParameters [  2.264149    12.80076841]\n",
      "Epoch  750 :\n",
      "\tStep: 0.35910127009\n",
      "\tParameters [  2.35053362  12.8573769 ]\n",
      "Epoch  800 :\n",
      "\tStep: 0.357944344505\n",
      "\tParameters [  2.38882574  12.90621129]\n",
      "Epoch  850 :\n",
      "\tStep: 0.35686097528\n",
      "\tParameters [  2.48927762  12.95010194]\n",
      "Epoch  900 :\n",
      "\tStep: 0.355842550896\n",
      "\tParameters [  2.55774974  12.99220192]\n",
      "Epoch  950 :\n",
      "\tStep: 0.354881879105\n",
      "\tParameters [  2.60777381  13.03814198]\n",
      "Epoch  1000 :\n",
      "\tStep: 0.353972892192\n",
      "\tParameters [  2.6383169   13.09358255]\n",
      "Epoch  1050 :\n",
      "\tStep: 0.353110424842\n",
      "\tParameters [  2.62349741  13.14416908]\n",
      "Epoch  1100 :\n",
      "\tStep: 0.35229004419\n",
      "\tParameters [  2.59548131  13.17643832]\n",
      "Epoch  1150 :\n",
      "\tStep: 0.351507918015\n",
      "\tParameters [  2.66621711  13.18629922]\n",
      "Epoch  1200 :\n",
      "\tStep: 0.350760711245\n",
      "\tParameters [  2.7174122   13.20324613]\n",
      "Epoch  1250 :\n",
      "\tStep: 0.350045503806\n",
      "\tParameters [  2.80984223  13.21619929]\n",
      "Epoch  1300 :\n",
      "\tStep: 0.34935972473\n",
      "\tParameters [  2.82524775  13.23830896]\n",
      "Epoch  1350 :\n",
      "\tStep: 0.348701098814\n",
      "\tParameters [  2.82853748  13.2566084 ]\n",
      "Epoch  1400 :\n",
      "\tStep: 0.348067603083\n",
      "\tParameters [  2.94482165  13.26380879]\n",
      "Epoch  1450 :\n",
      "\tStep: 0.347457430955\n",
      "\tParameters [  2.89679226  13.29738142]\n",
      "Epoch  1500 :\n",
      "\tStep: 0.346868962543\n",
      "\tParameters [  2.97774923  13.30306629]\n",
      "Epoch  1550 :\n",
      "\tStep: 0.346300739877\n",
      "\tParameters [  2.98938615  13.32851002]\n",
      "Epoch  1600 :\n",
      "\tStep: 0.345751446091\n",
      "\tParameters [  3.0486346   13.33058091]\n",
      "Epoch  1650 :\n",
      "\tStep: 0.345219887845\n",
      "\tParameters [  3.06261111  13.34445821]\n",
      "Epoch  1700 :\n",
      "\tStep: 0.344704980398\n",
      "\tParameters [  3.12924541  13.33974795]\n",
      "Epoch  1750 :\n",
      "\tStep: 0.344205734867\n",
      "\tParameters [  3.12269739  13.36461825]\n",
      "Epoch  1800 :\n",
      "\tStep: 0.343721247288\n",
      "\tParameters [  3.1559712   13.36720223]\n",
      "Epoch  1850 :\n",
      "\tStep: 0.343250689202\n",
      "\tParameters [  3.16009697  13.38768564]\n",
      "Epoch  1900 :\n",
      "\tStep: 0.342793299505\n",
      "\tParameters [  3.23068324  13.38148642]\n",
      "Epoch  1950 :\n",
      "\tStep: 0.34234837736\n",
      "\tParameters [  3.22755992  13.39375678]\n",
      "Epoch  2000 :\n",
      "\tStep: 0.341915276023\n",
      "\tParameters [  3.25480134  13.40070437]\n",
      "Epoch  2050 :\n",
      "\tStep: 0.341493397436\n",
      "\tParameters [  3.36900303  13.37675552]\n",
      "Epoch  2100 :\n",
      "\tStep: 0.341082187477\n",
      "\tParameters [  3.41238427  13.36662147]\n",
      "Epoch  2150 :\n",
      "\tStep: 0.340681131773\n",
      "\tParameters [  3.3706842   13.38118558]\n",
      "Epoch  2200 :\n",
      "\tStep: 0.340289752002\n",
      "\tParameters [  3.38815475  13.38670586]\n",
      "Epoch  2250 :\n",
      "\tStep: 0.339907602615\n",
      "\tParameters [  3.51684838  13.36482853]\n",
      "Epoch  2300 :\n",
      "\tStep: 0.339534267915\n",
      "\tParameters [  3.50428943  13.36953284]\n",
      "Epoch  2350 :\n",
      "\tStep: 0.339169359463\n",
      "\tParameters [  3.63445993  13.34687838]\n",
      "Epoch  2400 :\n",
      "\tStep: 0.338812513751\n",
      "\tParameters [  3.61494698  13.35680618]\n",
      "Epoch  2450 :\n",
      "\tStep: 0.338463390122\n",
      "\tParameters [  3.65220622  13.35049826]\n",
      "Epoch  2500 :\n",
      "\tStep: 0.338121668903\n",
      "\tParameters [  3.61562498  13.3782089 ]\n",
      "Epoch  2550 :\n",
      "\tStep: 0.337787049719\n",
      "\tParameters [  3.77503569  13.33421757]\n",
      "Epoch  2600 :\n",
      "\tStep: 0.33745924998\n",
      "\tParameters [  3.87094264  13.31546467]\n",
      "Epoch  2650 :\n",
      "\tStep: 0.337138003504\n",
      "\tParameters [  3.9433813  13.3138399]\n",
      "Epoch  2700 :\n",
      "\tStep: 0.336823059281\n",
      "\tParameters [  3.94443312  13.32436743]\n",
      "Epoch  2750 :\n",
      "\tStep: 0.336514180343\n",
      "\tParameters [  3.98149301  13.33115679]\n",
      "Epoch  2800 :\n",
      "\tStep: 0.33621114274\n",
      "\tParameters [  4.04241062  13.31375257]\n",
      "Epoch  2850 :\n",
      "\tStep: 0.335913734607\n",
      "\tParameters [  4.02462741  13.3177303 ]\n",
      "Epoch  2900 :\n",
      "\tStep: 0.335621755314\n",
      "\tParameters [  4.1618835   13.28397935]\n",
      "Epoch  2950 :\n",
      "\tStep: 0.335335014687\n",
      "\tParameters [  4.16214212  13.29624227]\n",
      "Epoch  3000 :\n",
      "\tStep: 0.335053332297\n",
      "\tParameters [  4.18392544  13.32420207]\n",
      "Epoch  3050 :\n",
      "\tStep: 0.334776536808\n",
      "\tParameters [  4.26937339  13.31332816]\n",
      "Epoch  3100 :\n",
      "\tStep: 0.334504465381\n",
      "\tParameters [  4.4011546   13.29938294]\n",
      "Epoch  3150 :\n",
      "\tStep: 0.334236963117\n",
      "\tParameters [  4.45464131  13.31694633]\n",
      "Epoch  3200 :\n",
      "\tStep: 0.333973882557\n",
      "\tParameters [  4.52007344  13.31532111]\n",
      "Epoch  3250 :\n",
      "\tStep: 0.333715083213\n",
      "\tParameters [  4.59478605  13.34138152]\n",
      "Epoch  3300 :\n",
      "\tStep: 0.333460431136\n",
      "\tParameters [  4.63434156  13.37422644]\n",
      "Epoch  3350 :\n",
      "\tStep: 0.333209798519\n",
      "\tParameters [  4.68321638  13.39317369]\n",
      "Epoch  3400 :\n",
      "\tStep: 0.332963063328\n",
      "\tParameters [  4.67340775  13.44299688]\n",
      "Epoch  3450 :\n",
      "\tStep: 0.332720108961\n",
      "\tParameters [  4.84845308  13.4128424 ]\n",
      "Epoch  3500 :\n",
      "\tStep: 0.332480823932\n",
      "\tParameters [  4.89026723  13.45603051]\n",
      "Epoch  3550 :\n",
      "\tStep: 0.332245101576\n",
      "\tParameters [  4.96656193  13.48479886]\n",
      "Epoch  3600 :\n",
      "\tStep: 0.332012839778\n",
      "\tParameters [  5.0940003  13.4802199]\n",
      "Epoch  3650 :\n",
      "\tStep: 0.331783940717\n",
      "\tParameters [  5.13511442  13.53899447]\n",
      "Epoch  3700 :\n",
      "\tStep: 0.331558310629\n",
      "\tParameters [  5.23367841  13.56958367]\n",
      "Epoch  3750 :\n",
      "\tStep: 0.331335859589\n",
      "\tParameters [  5.28474932  13.62457374]\n",
      "Epoch  3800 :\n",
      "\tStep: 0.331116501304\n",
      "\tParameters [  5.3745375   13.67227896]\n",
      "Epoch  3850 :\n",
      "\tStep: 0.330900152919\n",
      "\tParameters [  5.42421391  13.72583144]\n",
      "Epoch  3900 :\n",
      "\tStep: 0.33068673484\n",
      "\tParameters [  5.51040973  13.76532426]\n",
      "Epoch  3950 :\n",
      "\tStep: 0.330476170565\n",
      "\tParameters [  5.67452276  13.74962397]\n",
      "Epoch  4000 :\n",
      "\tStep: 0.330268386525\n",
      "\tParameters [  5.71125071  13.8326958 ]\n",
      "Epoch  4050 :\n",
      "\tStep: 0.330063311938\n",
      "\tParameters [  5.75640755  13.90428068]\n",
      "Epoch  4100 :\n",
      "\tStep: 0.329860878672\n",
      "\tParameters [  5.85046246  13.95052501]\n",
      "Epoch  4150 :\n",
      "\tStep: 0.32966102111\n",
      "\tParameters [  5.87537049  14.02528261]\n",
      "Epoch  4200 :\n",
      "\tStep: 0.329463676033\n",
      "\tParameters [  5.91028262  14.08999321]\n",
      "Epoch  4250 :\n",
      "\tStep: 0.329268782504\n",
      "\tParameters [  6.00653359  14.13466451]\n",
      "Epoch  4300 :\n",
      "\tStep: 0.329076281758\n",
      "\tParameters [  6.09226959  14.17078351]\n",
      "Epoch  4350 :\n",
      "\tStep: 0.328886117103\n",
      "\tParameters [  6.25191086  14.1597111 ]\n",
      "Epoch  4400 :\n",
      "\tStep: 0.32869823382\n",
      "\tParameters [  6.27861299  14.23076876]\n",
      "Epoch  4450 :\n",
      "\tStep: 0.328512579077\n",
      "\tParameters [  6.29979264  14.30618238]\n",
      "Epoch  4500 :\n",
      "\tStep: 0.328329101843\n",
      "\tParameters [  6.38919627  14.36093339]\n",
      "Epoch  4550 :\n",
      "\tStep: 0.328147752805\n",
      "\tParameters [  6.45572129  14.40939028]\n",
      "Epoch  4600 :\n",
      "\tStep: 0.327968484294\n",
      "\tParameters [  6.50883539  14.47185534]\n",
      "Epoch  4650 :\n",
      "\tStep: 0.327791250211\n",
      "\tParameters [  6.55024299  14.53792508]\n",
      "Epoch  4700 :\n",
      "\tStep: 0.327616005963\n",
      "\tParameters [  6.63964507  14.56795365]\n",
      "Epoch  4750 :\n",
      "\tStep: 0.327442708394\n",
      "\tParameters [  6.67380242  14.63959635]\n",
      "Epoch  4800 :\n",
      "\tStep: 0.327271315726\n",
      "\tParameters [  6.76726556  14.66294719]\n",
      "Epoch  4850 :\n",
      "\tStep: 0.327101787502\n",
      "\tParameters [  6.82427914  14.70779626]\n",
      "Epoch  4900 :\n",
      "\tStep: 0.32693408453\n",
      "\tParameters [  6.87201445  14.77354931]\n",
      "Epoch  4950 :\n",
      "\tStep: 0.326768168831\n",
      "\tParameters [  6.87037133  14.86999145]\n"
     ]
    }
   ],
   "source": [
    "opts = {'maxiter':5000, 'batch_size': 200 , 'print_freq': 50, 'step0': 5e-1, 'gamma': 0.05}\n",
    "sng_svi_res = sng_svi_gp.fit(x_tr, y_tr, num_inputs=ind_num, optimizer_options=opts, inputs=inputs)"
   ]
  },
  {
   "cell_type": "code",
   "execution_count": 135,
   "metadata": {
    "collapsed": false
   },
   "outputs": [],
   "source": [
    "metric = lambda w: sng_svi_gp.get_prediction_quality(w, x_test, y_test)\n",
    "sng_svi_x_lst, sng_svi_y_lst = sng_svi_res.plot_performance(metric, 'i', freq=10)"
   ]
  },
  {
   "cell_type": "code",
   "execution_count": 136,
   "metadata": {
    "collapsed": false,
    "scrolled": true
   },
   "outputs": [
    {
     "data": {
      "text/plain": [
       "<matplotlib.text.Text at 0x1139185f8>"
      ]
     },
     "execution_count": 136,
     "metadata": {},
     "output_type": "execute_result"
    },
    {
     "data": {
      "image/png": "[encoded data removed]",
      "text/plain": [
       "<matplotlib.figure.Figure at 0x1077795c0>"
      ]
     },
     "metadata": {},
     "output_type": "display_data"
    }
   ],
   "source": [
    "plt.plot(sng_svi_x_lst, sng_svi_y_lst, '-yo', label='svi-natural')\n",
    "plt.ylim([.42, .56])\n",
    "plt.legend(loc=4)\n",
    "plt.xlabel('Iterations')\n",
    "plt.ylabel('r2 score on test-set')"
   ]
  },
  {
   "cell_type": "code",
   "execution_count": 137,
   "metadata": {
    "collapsed": false
   },
   "outputs": [
    {
     "data": {
      "text/plain": [
       "0.52578784521600763"
      ]
     },
     "execution_count": 137,
     "metadata": {},
     "output_type": "execute_result"
    }
   ],
   "source": [
    "sng_svi_y_lst[-1]"
   ]
  },
  {
   "cell_type": "code",
   "execution_count": 138,
   "metadata": {
    "collapsed": false
   },
   "outputs": [
    {
     "data": {
      "text/plain": [
       "0.52637180780315185"
      ]
     },
     "execution_count": 138,
     "metadata": {},
     "output_type": "execute_result"
    }
   ],
   "source": [
    "np.max(sng_svi_y_lst)"
   ]
  },
  {
   "cell_type": "code",
   "execution_count": 139,
   "metadata": {
    "collapsed": true
   },
   "outputs": [],
   "source": [
    "np.save('../plots/regression_revision/' + data_name +'/' + data_name + '_sng_svi_x.npy', sng_svi_x_lst)\n",
    "np.save('../plots/regression_revision/' + data_name +'/' + data_name + '_sng_svi_y.npy', sng_svi_y_lst)"
   ]
  },
  {
   "cell_type": "markdown",
   "metadata": {
    "collapsed": true
   },
   "source": [
    "### SG-Natural-ss\n",
    "This method uses natural gradients for svi wrt variational parameters as svi-natural does. But this method chooses separate step-length for the to types of parameters it optimizes."
   ]
  },
  {
   "cell_type": "code",
   "execution_count": 27,
   "metadata": {
    "collapsed": true
   },
   "outputs": [],
   "source": [
    "model_covariance_obj = SquaredExponential(np.copy(cov_params))\n",
    "ss_sng_svi_gp = GPR(model_covariance_obj, method='svi', parametrization='natural', optimizer='climinSG')"
   ]
  },
  {
   "cell_type": "code",
   "execution_count": 28,
   "metadata": {
    "collapsed": false
   },
   "outputs": [
    {
     "name": "stdout",
     "output_type": "stream",
     "text": [
      "10.0\n",
      "Using SG optimizer\n",
      "Iteration  49 :\n",
      "\tGradient norm 0.609018957092\n",
      "Iteration  99 :\n",
      "\tGradient norm 0.728754766784\n",
      "Iteration  149 :\n",
      "\tGradient norm 0.944635243346\n",
      "Iteration  199 :\n",
      "\tGradient norm 0.916815338918\n",
      "Iteration  249 :\n",
      "\tGradient norm 0.443486045215\n",
      "Iteration  299 :\n",
      "\tGradient norm 0.407221664908\n",
      "Iteration  349 :\n",
      "\tGradient norm 0.980680114267\n",
      "Iteration  399 :\n",
      "\tGradient norm 1.06757820802\n",
      "Iteration  449 :\n",
      "\tGradient norm 1.26015937912\n",
      "Iteration  499 :\n",
      "\tGradient norm 3.51199805797\n",
      "Iteration  549 :\n",
      "\tGradient norm 0.871497170631\n",
      "Iteration  599 :\n",
      "\tGradient norm 0.752636930162\n",
      "Iteration  649 :\n",
      "\tGradient norm 1.0733469416\n",
      "Iteration  698 :\n",
      "\tGradient norm 0.420054953734\n",
      "Iteration  748 :\n",
      "\tGradient norm 1.50129446528\n",
      "Iteration  798 :\n",
      "\tGradient norm 1.18404302127\n",
      "Iteration  848 :\n",
      "\tGradient norm 0.611420937116\n",
      "Iteration  898 :\n",
      "\tGradient norm 1.46310639765\n",
      "Iteration  948 :\n",
      "\tGradient norm 0.784948355691\n",
      "Iteration  998 :\n",
      "\tGradient norm 0.70181497344\n"
     ]
    }
   ],
   "source": [
    "opts = {'mydisp': True, 'print_freq': 50, 'step_rate': .5,\n",
    "                'maxiter': 1000, 'batch_size': 300, 'nat_mult': 10.}\n",
    "ss_sng_svi_res = ss_sng_svi_gp.fit(x_tr, y_tr, num_inputs=ind_num, optimizer_options=opts, inputs=inputs)"
   ]
  },
  {
   "cell_type": "code",
   "execution_count": 29,
   "metadata": {
    "collapsed": true
   },
   "outputs": [],
   "source": [
    "metric = lambda w: ss_sng_svi_gp.get_prediction_quality(w, x_test, y_test)\n",
    "ss_sng_svi_x_lst, ss_sng_svi_y_lst = ss_sng_svi_res.plot_performance(metric, 'i', freq=10)"
   ]
  },
  {
   "cell_type": "code",
   "execution_count": 30,
   "metadata": {
    "collapsed": false
   },
   "outputs": [
    {
     "data": {
      "text/plain": [
       "<matplotlib.text.Text at 0x105f0d2b0>"
      ]
     },
     "execution_count": 30,
     "metadata": {},
     "output_type": "execute_result"
    },
    {
     "data": {
      "image/png": "[encoded data removed]",
      "text/plain": [
       "<matplotlib.figure.Figure at 0x11417b0b8>"
      ]
     },
     "metadata": {},
     "output_type": "display_data"
    }
   ],
   "source": [
    "plt.plot(ss_sng_svi_x_lst, ss_sng_svi_y_lst, '-co', label='svi-natural-ss')\n",
    "plt.ylim([.42, .56])\n",
    "plt.legend(loc=4)\n",
    "plt.xlabel('Iterations')\n",
    "plt.ylabel('r2 score on test-set')"
   ]
  },
  {
   "cell_type": "code",
   "execution_count": null,
   "metadata": {
    "collapsed": true
   },
   "outputs": [],
   "source": [
    "np.save('../plots/regression_revision/mg/'+ data_name +'_ss_sng_svi_x.npy', ss_sng_svi_x_lst)\n",
    "np.save('../plots/regression_revision/mg/'+ data_name +'_ss_sng_svi_y.npy', ss_sng_svi_y_lst)"
   ]
  }
 ],
 "metadata": {
  "kernelspec": {
   "display_name": "Python 3",
   "language": "python",
   "name": "python3"
  },
  "language_info": {
   "codemirror_mode": {
    "name": "ipython",
    "version": 3
   },
   "file_extension": ".py",
   "mimetype": "text/x-python",
   "name": "python",
   "nbconvert_exporter": "python",
   "pygments_lexer": "ipython3",
   "version": "3.4.3"
  }
 },
 "nbformat": 4,
 "nbformat_minor": 0
}
