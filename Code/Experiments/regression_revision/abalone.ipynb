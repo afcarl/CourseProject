{
 "cells": [
  {
   "cell_type": "markdown",
   "metadata": {},
   "source": [
    "# Abalone"
   ]
  },
  {
   "cell_type": "code",
   "execution_count": 6,
   "metadata": {
    "collapsed": false
   },
   "outputs": [
    {
     "name": "stdout",
     "output_type": "stream",
     "text": [
      "The autoreload extension is already loaded. To reload it, use:\n",
      "  %reload_ext autoreload\n"
     ]
    }
   ],
   "source": [
    "import sys\n",
    "sys.path.append('/Users/IzmailovPavel/Documents/Education/Course Project/Code')\n",
    "import numpy as np\n",
    "import matplotlib as mpl\n",
    "\n",
    "from matplotlib import pyplot as plt\n",
    "\n",
    "from GP.covariance_functions import SquaredExponential\n",
    "from GP.gaussian_process_regression import GPR\n",
    "\n",
    "from sklearn.cluster import KMeans\n",
    "\n",
    "from sklearn.datasets import load_svmlight_file\n",
    "from sklearn.preprocessing import StandardScaler\n",
    "from sklearn.utils import shuffle\n",
    "from sklearn.svm import SVR\n",
    "from sklearn.metrics import r2_score\n",
    "%matplotlib inline\n",
    "%load_ext autoreload\n",
    "%autoreload 2"
   ]
  },
  {
   "cell_type": "code",
   "execution_count": 7,
   "metadata": {
    "collapsed": false
   },
   "outputs": [
    {
     "name": "stdout",
     "output_type": "stream",
     "text": [
      "of objects: 3341\n",
      "of features 8\n",
      "abalone\n"
     ]
    }
   ],
   "source": [
    "x_tr, y_tr = load_svmlight_file('../../../../Programming/DataSets/Regression/abalone(4177, 8).txt')\n",
    "x_tr, y_tr = shuffle(x_tr, y_tr, random_state=241)\n",
    "data_name = 'abalone'\n",
    "file_name = data_name\n",
    "\n",
    "x_tr = x_tr.toarray().T\n",
    "scaler_x = StandardScaler()\n",
    "scaler_y = StandardScaler()\n",
    "\n",
    "y_tr = y_tr.reshape((y_tr.size, 1))\n",
    "x_test = x_tr[:, int(x_tr.shape[1] * 0.8):]\n",
    "y_test = y_tr[int(x_tr.shape[1] * 0.8):, :]\n",
    "y_tr = y_tr[:int(x_tr.shape[1] * 0.8), :]\n",
    "x_tr = x_tr[:, : int(x_tr.shape[1] * 0.8)]\n",
    "\n",
    "\n",
    "x_tr = scaler_x.fit_transform(x_tr.T).T\n",
    "x_test = scaler_x.transform(x_test.T).T\n",
    "y_tr = scaler_y.fit_transform(y_tr)\n",
    "y_test = scaler_y.transform(y_test)\n",
    "\n",
    "\n",
    "dim, num = x_tr.shape\n",
    "print('of objects:', num)\n",
    "print('of features', dim)\n",
    "print(data_name)"
   ]
  },
  {
   "cell_type": "markdown",
   "metadata": {},
   "source": [
    "# K-means cluster centers as inducing inputs"
   ]
  },
  {
   "cell_type": "code",
   "execution_count": 8,
   "metadata": {
    "collapsed": false
   },
   "outputs": [
    {
     "name": "stdout",
     "output_type": "stream",
     "text": [
      "Finding means...\n",
      "...found\n"
     ]
    }
   ],
   "source": [
    "ind_num = 200\n",
    "print('Finding means...')\n",
    "means = KMeans(n_clusters=ind_num, n_init=3, max_iter=100, random_state=241)\n",
    "means.fit(x_tr.T)\n",
    "inputs = means.cluster_centers_.T\n",
    "print('...found')"
   ]
  },
  {
   "cell_type": "code",
   "execution_count": 9,
   "metadata": {
    "collapsed": false
   },
   "outputs": [],
   "source": [
    "cov_params = np.array([1.0, 10., 1.0])"
   ]
  },
  {
   "cell_type": "markdown",
   "metadata": {},
   "source": [
    "# SVI-L-BFGS-B"
   ]
  },
  {
   "cell_type": "code",
   "execution_count": 100,
   "metadata": {
    "collapsed": false
   },
   "outputs": [],
   "source": [
    "model_covariance_obj = SquaredExponential(np.copy(cov_params))\n",
    "svi_gp = GPR(model_covariance_obj, method='svi', parametrization='cholesky', optimizer='L-BFGS-B')"
   ]
  },
  {
   "cell_type": "code",
   "execution_count": 101,
   "metadata": {
    "collapsed": false
   },
   "outputs": [
    {
     "name": "stderr",
     "output_type": "stream",
     "text": [
      "/Users/IzmailovPavel/Documents/Education/Course Project/Code/GP/optimization.py:367: OptimizeWarning: Unknown solver options: mydisp\n",
      "  out = op.minimize(func, x0, jac=jac, callback=callback, **kwargs)\n"
     ]
    }
   ],
   "source": [
    "opts = {'maxiter': 100, 'mydisp': True}\n",
    "svi_res = svi_gp.fit(x_tr, y_tr, num_inputs=ind_num, optimizer_options=opts, inputs=inputs)"
   ]
  },
  {
   "cell_type": "code",
   "execution_count": 102,
   "metadata": {
    "collapsed": false
   },
   "outputs": [],
   "source": [
    "metric = lambda w: svi_gp.get_prediction_quality(w, x_test, y_test)\n",
    "svi_x_lst, svi_y_lst = svi_res.plot_performance(metric, 'i', freq=1)"
   ]
  },
  {
   "cell_type": "code",
   "execution_count": 103,
   "metadata": {
    "collapsed": false
   },
   "outputs": [
    {
     "data": {
      "text/plain": [
       "<matplotlib.text.Text at 0x1100ce048>"
      ]
     },
     "execution_count": 103,
     "metadata": {},
     "output_type": "execute_result"
    },
    {
     "data": {
      "image/png": "[encoded data removed]",
      "text/plain": [
       "<matplotlib.figure.Figure at 0x1100d2400>"
      ]
     },
     "metadata": {},
     "output_type": "display_data"
    }
   ],
   "source": [
    "plt.plot(svi_x_lst, svi_y_lst, '-go', label='svi-L-BFGS-B')\n",
    "plt.ylim([.2, .6])\n",
    "plt.legend(loc=4)\n",
    "plt.xlabel('Iterations')\n",
    "plt.ylabel('r2 score on test-set')"
   ]
  },
  {
   "cell_type": "code",
   "execution_count": 104,
   "metadata": {
    "collapsed": false
   },
   "outputs": [
    {
     "data": {
      "text/plain": [
       "array([[ 10.38521086],\n",
       "       [ 16.41187267],\n",
       "       [  0.65608926]])"
      ]
     },
     "execution_count": 104,
     "metadata": {},
     "output_type": "execute_result"
    }
   ],
   "source": [
    "svi_gp.covariance_obj.get_params()"
   ]
  },
  {
   "cell_type": "code",
   "execution_count": 105,
   "metadata": {
    "collapsed": false
   },
   "outputs": [
    {
     "data": {
      "text/plain": [
       "0.53120857099314533"
      ]
     },
     "execution_count": 105,
     "metadata": {},
     "output_type": "execute_result"
    }
   ],
   "source": [
    "svi_y_lst[-1]"
   ]
  },
  {
   "cell_type": "markdown",
   "metadata": {},
   "source": [
    "## VI"
   ]
  },
  {
   "cell_type": "code",
   "execution_count": 90,
   "metadata": {
    "collapsed": false
   },
   "outputs": [],
   "source": [
    "model_covariance_obj = SquaredExponential(np.copy(cov_params))\n",
    "vi_gp = GPR(model_covariance_obj, method='means', optimizer='L-BFGS-B')"
   ]
  },
  {
   "cell_type": "code",
   "execution_count": 91,
   "metadata": {
    "collapsed": false
   },
   "outputs": [
    {
     "name": "stdout",
     "output_type": "stream",
     "text": [
      "Warning, matrix is not positive definite [ 5.24277282  9.82463069  0.01      ]\n"
     ]
    }
   ],
   "source": [
    "opts = {'maxiter': 10, 'disp': True}\n",
    "vi_res = vi_gp.fit(x_tr, y_tr, num_inputs=ind_num, optimizer_options=opts, inputs=inputs)"
   ]
  },
  {
   "cell_type": "code",
   "execution_count": 92,
   "metadata": {
    "collapsed": false
   },
   "outputs": [],
   "source": [
    "metric = lambda w: vi_gp.get_prediction_quality(w, x_tr, y_tr, x_test, y_test)\n",
    "vi_x_lst, vi_y_lst = vi_res.plot_performance(metric, 'i', freq=1)"
   ]
  },
  {
   "cell_type": "code",
   "execution_count": 93,
   "metadata": {
    "collapsed": false
   },
   "outputs": [
    {
     "data": {
      "text/plain": [
       "<matplotlib.text.Text at 0x10e92da90>"
      ]
     },
     "execution_count": 93,
     "metadata": {},
     "output_type": "execute_result"
    },
    {
     "data": {
      "image/png": "[encoded data removed]",
      "text/plain": [
       "<matplotlib.figure.Figure at 0x10ee25278>"
      ]
     },
     "metadata": {},
     "output_type": "display_data"
    }
   ],
   "source": [
    "plt.plot(vi_x_lst, vi_y_lst, '-bo', label='vi-means')\n",
    "plt.ylim([.4, .6])\n",
    "plt.legend(loc=4)\n",
    "plt.xlabel('Iterations')\n",
    "plt.ylabel('r2 score on test-set')"
   ]
  },
  {
   "cell_type": "code",
   "execution_count": 106,
   "metadata": {
    "collapsed": false
   },
   "outputs": [
    {
     "data": {
      "text/plain": [
       "array([ 4.70066883,  9.82434861,  0.98259311])"
      ]
     },
     "execution_count": 106,
     "metadata": {},
     "output_type": "execute_result"
    }
   ],
   "source": [
    "vi_res.params[1]"
   ]
  },
  {
   "cell_type": "code",
   "execution_count": 107,
   "metadata": {
    "collapsed": false
   },
   "outputs": [
    {
     "data": {
      "text/plain": [
       "0.53114900499971984"
      ]
     },
     "execution_count": 107,
     "metadata": {},
     "output_type": "execute_result"
    }
   ],
   "source": [
    "vi_y_lst[-1]"
   ]
  },
  {
   "cell_type": "markdown",
   "metadata": {},
   "source": [
    "## Stochastic SVI\n",
    "### AdaDelta-Cholesky"
   ]
  },
  {
   "cell_type": "code",
   "execution_count": 138,
   "metadata": {
    "collapsed": false
   },
   "outputs": [],
   "source": [
    "model_covariance_obj = SquaredExponential(np.copy(cov_params))\n",
    "ch_svi_gp = GPR(model_covariance_obj, method='svi', parametrization='cholesky', optimizer='SAG')"
   ]
  },
  {
   "cell_type": "code",
   "execution_count": 139,
   "metadata": {
    "collapsed": false
   },
   "outputs": [
    {
     "name": "stdout",
     "output_type": "stream",
     "text": [
      "Iteration  9 :\n",
      "\tGradient norm 0.0321447886146\n",
      "Iteration  19 :\n",
      "\tGradient norm 0.126865382796\n",
      "Iteration  29 :\n",
      "\tGradient norm 0.0405770398574\n",
      "Iteration  39 :\n",
      "\tGradient norm 0.411800635598\n",
      "Iteration  49 :\n",
      "\tGradient norm 0.0766755942612\n",
      "Iteration  59 :\n",
      "\tGradient norm 0.25410424388\n",
      "Iteration  69 :\n",
      "\tGradient norm 0.337974705696\n",
      "Iteration  79 :\n",
      "\tGradient norm 0.129437239992\n",
      "Iteration  89 :\n",
      "\tGradient norm 0.0306514219129\n",
      "Iteration  99 :\n",
      "\tGradient norm 0.36922563103\n",
      "Iteration  109 :\n",
      "\tGradient norm 0.245699898423\n",
      "Iteration  119 :\n",
      "\tGradient norm 0.421262180124\n",
      "Iteration  129 :\n",
      "\tGradient norm 0.112334732088\n",
      "Iteration  139 :\n",
      "\tGradient norm 0.206723078273\n",
      "Iteration  149 :\n",
      "\tGradient norm 0.353144710469\n",
      "Iteration  159 :\n",
      "\tGradient norm 0.290981377192\n",
      "Iteration  169 :\n",
      "\tGradient norm 0.0188633087448\n",
      "Iteration  179 :\n",
      "\tGradient norm 0.311916200777\n",
      "Iteration  189 :\n",
      "\tGradient norm 0.143262522896\n",
      "Iteration  199 :\n",
      "\tGradient norm 0.0370502217028\n",
      "Iteration  209 :\n",
      "\tGradient norm 0.33862919341\n",
      "Iteration  219 :\n",
      "\tGradient norm 0.233816536562\n",
      "Iteration  229 :\n",
      "\tGradient norm 0.285785666371\n",
      "Iteration  239 :\n",
      "\tGradient norm 0.338201678987\n",
      "Iteration  249 :\n",
      "\tGradient norm 0.69609081167\n",
      "Iteration  259 :\n",
      "\tGradient norm 0.463342904449\n",
      "Iteration  269 :\n",
      "\tGradient norm 0.145546164073\n",
      "Iteration  279 :\n",
      "\tGradient norm 0.0511195645704\n",
      "Iteration  289 :\n",
      "\tGradient norm 0.546005966273\n",
      "Iteration  299 :\n",
      "\tGradient norm 0.0237365476366\n"
     ]
    }
   ],
   "source": [
    "opts = {'mydisp': True, 'print_freq': 10, 'step_rate': 1.1,\n",
    "                'maxiter': 300, 'batch_size':200}\n",
    "ch_svi_res = ch_svi_gp.fit(x_tr, y_tr, num_inputs=ind_num, optimizer_options=opts, inputs=inputs)"
   ]
  },
  {
   "cell_type": "code",
   "execution_count": 140,
   "metadata": {
    "collapsed": false
   },
   "outputs": [],
   "source": [
    "metric = lambda w: ch_svi_gp.get_prediction_quality(w, x_test, y_test)\n",
    "ch_svi_x_lst, ch_svi_y_lst = ch_svi_res.plot_performance(metric, 'i', freq=5)"
   ]
  },
  {
   "cell_type": "code",
   "execution_count": 141,
   "metadata": {
    "collapsed": false
   },
   "outputs": [
    {
     "data": {
      "text/plain": [
       "<matplotlib.text.Text at 0x112197748>"
      ]
     },
     "execution_count": 141,
     "metadata": {},
     "output_type": "execute_result"
    },
    {
     "data": {
      "image/png": "[encoded data removed]",
      "text/plain": [
       "<matplotlib.figure.Figure at 0x1122c22e8>"
      ]
     },
     "metadata": {},
     "output_type": "display_data"
    }
   ],
   "source": [
    "plt.plot(ch_svi_x_lst, ch_svi_y_lst, '-ro', label='svi-AdaDelta')\n",
    "plt.ylim([.4, .6])\n",
    "plt.legend(loc=4)\n",
    "plt.xlabel('Iterations')\n",
    "plt.ylabel('r2 score on test-set')"
   ]
  },
  {
   "cell_type": "code",
   "execution_count": 142,
   "metadata": {
    "collapsed": false
   },
   "outputs": [
    {
     "data": {
      "text/plain": [
       "array([[  6.07274827],\n",
       "       [ 11.84986435],\n",
       "       [  0.62200226]])"
      ]
     },
     "execution_count": 142,
     "metadata": {},
     "output_type": "execute_result"
    }
   ],
   "source": [
    "ch_svi_gp.covariance_obj.get_params()"
   ]
  },
  {
   "cell_type": "code",
   "execution_count": 143,
   "metadata": {
    "collapsed": false
   },
   "outputs": [
    {
     "data": {
      "text/plain": [
       "0.53068055758850285"
      ]
     },
     "execution_count": 143,
     "metadata": {},
     "output_type": "execute_result"
    }
   ],
   "source": [
    "ch_svi_y_lst[-1]"
   ]
  },
  {
   "cell_type": "markdown",
   "metadata": {},
   "source": [
    "### SG-Natural"
   ]
  },
  {
   "cell_type": "code",
   "execution_count": 43,
   "metadata": {
    "collapsed": false
   },
   "outputs": [],
   "source": [
    "model_covariance_obj = SquaredExponential(np.copy(cov_params))\n",
    "# model_covariance_obj = SquaredExponential(np.array([5., 10., 0.6]))\n",
    "n_svi_gp = GPR(model_covariance_obj, method='svi', parametrization='natural')"
   ]
  },
  {
   "cell_type": "code",
   "execution_count": 44,
   "metadata": {
    "collapsed": false,
    "scrolled": true
   },
   "outputs": [
    {
     "name": "stdout",
     "output_type": "stream",
     "text": [
      "Epoch  0 :\n",
      "\tStep: 0.0001\n",
      "\tParameters [ 1.02045278  9.99835685]\n",
      "Epoch  10 :\n",
      "\tStep: 3.09029543251e-05\n",
      "\tParameters [ 1.08888453  9.99393952]\n",
      "Epoch  20 :\n",
      "\tStep: 2.17007479236e-05\n",
      "\tParameters [ 1.11202825  9.99269894]\n",
      "Epoch  30 :\n",
      "\tStep: 1.76468892492e-05\n",
      "\tParameters [ 1.12714999  9.99206354]\n",
      "Epoch  40 :\n",
      "\tStep: 1.52387521105e-05\n",
      "\tParameters [ 1.13795155  9.99175903]\n",
      "Epoch  50 :\n",
      "\tStep: 1.35995737892e-05\n",
      "\tParameters [ 1.14781788  9.99142614]\n",
      "Epoch  60 :\n",
      "\tStep: 1.23920415894e-05\n",
      "\tParameters [ 1.15681828  9.99108141]\n",
      "Epoch  70 :\n",
      "\tStep: 1.14551294037e-05\n",
      "\tParameters [ 1.16293072  9.99099489]\n",
      "Epoch  80 :\n",
      "\tStep: 1.07009936571e-05\n",
      "\tParameters [ 1.16824725  9.99090945]\n",
      "Epoch  90 :\n",
      "\tStep: 1.00771174463e-05\n",
      "\tParameters [ 1.17313707  9.99090498]\n",
      "Epoch  100 :\n",
      "\tStep: 9.54992586021e-06\n",
      "\tParameters [ 1.17746246  9.99090669]\n",
      "Epoch  110 :\n",
      "\tStep: 9.0968227066e-06\n",
      "\tParameters [ 1.18251534  9.99080153]\n",
      "Epoch  120 :\n",
      "\tStep: 8.70196965505e-06\n",
      "\tParameters [ 1.18682312  9.99073065]\n",
      "Epoch  130 :\n",
      "\tStep: 8.3538926533e-06\n",
      "\tParameters [ 1.18997209  9.99080982]\n",
      "Epoch  140 :\n",
      "\tStep: 8.04404889598e-06\n",
      "\tParameters [ 1.193228   9.9908742]\n",
      "Epoch  150 :\n",
      "\tStep: 7.76592975444e-06\n",
      "\tParameters [ 1.19589906  9.99097226]\n",
      "Epoch  160 :\n",
      "\tStep: 7.5144778535e-06\n",
      "\tParameters [ 1.19824734  9.99109843]\n",
      "Epoch  170 :\n",
      "\tStep: 7.28569606725e-06\n",
      "\tParameters [ 1.2012257   9.99112772]\n",
      "Epoch  180 :\n",
      "\tStep: 7.07637797985e-06\n",
      "\tParameters [ 1.20314457  9.99129824]\n",
      "Epoch  190 :\n",
      "\tStep: 6.88391760477e-06\n",
      "\tParameters [ 1.20640657  9.99126286]\n",
      "Epoch  200 :\n",
      "\tStep: 6.70617221903e-06\n",
      "\tParameters [ 1.20891221  9.99129583]\n",
      "Epoch  210 :\n",
      "\tStep: 6.54136163797e-06\n",
      "\tParameters [ 1.21130359  9.99136767]\n",
      "Epoch  220 :\n",
      "\tStep: 6.38799301789e-06\n",
      "\tParameters [ 1.21306911  9.99146578]\n",
      "Epoch  230 :\n",
      "\tStep: 6.24480387798e-06\n",
      "\tParameters [ 1.21531432  9.99151998]\n",
      "Epoch  240 :\n",
      "\tStep: 6.11071834543e-06\n",
      "\tParameters [ 1.21766954  9.99155171]\n",
      "Epoch  250 :\n",
      "\tStep: 5.98481314444e-06\n",
      "\tParameters [ 1.22018728  9.99156146]\n",
      "Epoch  260 :\n",
      "\tStep: 5.8662908647e-06\n",
      "\tParameters [ 1.22204003  9.99165   ]\n",
      "Epoch  270 :\n",
      "\tStep: 5.75445873735e-06\n",
      "\tParameters [ 1.22397801  9.99170398]\n",
      "Epoch  280 :\n",
      "\tStep: 5.64871162607e-06\n",
      "\tParameters [ 1.2253886   9.99183478]\n",
      "Epoch  290 :\n",
      "\tStep: 5.54851827851e-06\n",
      "\tParameters [ 1.22684952  9.99195973]\n",
      "Epoch  300 :\n",
      "\tStep: 5.45341012448e-06\n",
      "\tParameters [ 1.22860729  9.99201968]\n",
      "Epoch  310 :\n",
      "\tStep: 5.36297208176e-06\n",
      "\tParameters [ 1.22963688  9.99218474]\n",
      "Epoch  320 :\n",
      "\tStep: 5.2768349576e-06\n",
      "\tParameters [ 1.23039434  9.99235953]\n",
      "Epoch  330 :\n",
      "\tStep: 5.19466912884e-06\n",
      "\tParameters [ 1.23195265  9.99243359]\n",
      "Epoch  340 :\n",
      "\tStep: 5.11617925392e-06\n",
      "\tParameters [ 1.23242116  9.99263072]\n",
      "Epoch  350 :\n",
      "\tStep: 5.04109982338e-06\n",
      "\tParameters [ 1.23339342  9.99278971]\n",
      "Epoch  360 :\n",
      "\tStep: 4.96919139629e-06\n",
      "\tParameters [ 1.23396761  9.99296802]\n",
      "Epoch  370 :\n",
      "\tStep: 4.90023740093e-06\n",
      "\tParameters [ 1.23606956  9.99295982]\n",
      "Epoch  380 :\n",
      "\tStep: 4.83404140251e-06\n",
      "\tParameters [ 1.23674546  9.99313193]\n",
      "Epoch  390 :\n",
      "\tStep: 4.77042475943e-06\n",
      "\tParameters [ 1.23787203  9.9932364 ]\n",
      "Epoch  400 :\n",
      "\tStep: 4.70922460442e-06\n",
      "\tParameters [ 1.23843038  9.99341128]\n",
      "Epoch  410 :\n",
      "\tStep: 4.65029209866e-06\n",
      "\tParameters [ 1.23984264  9.99346409]\n",
      "Epoch  420 :\n",
      "\tStep: 4.5934909164e-06\n",
      "\tParameters [ 1.24113987  9.99354746]\n",
      "Epoch  430 :\n",
      "\tStep: 4.5386959248e-06\n",
      "\tParameters [ 1.24222532  9.99364348]\n",
      "Epoch  440 :\n",
      "\tStep: 4.48579203011e-06\n",
      "\tParameters [ 1.24316498  9.99375546]\n",
      "Epoch  450 :\n",
      "\tStep: 4.43467316592e-06\n",
      "\tParameters [ 1.24481719  9.99379179]\n",
      "Epoch  460 :\n",
      "\tStep: 4.38524140321e-06\n",
      "\tParameters [ 1.24526899  9.99396754]\n",
      "Epoch  470 :\n",
      "\tStep: 4.33740616534e-06\n",
      "\tParameters [ 1.24640786  9.9940485 ]\n",
      "Epoch  480 :\n",
      "\tStep: 4.29108353366e-06\n",
      "\tParameters [ 1.24695638  9.994201  ]\n",
      "Epoch  490 :\n",
      "\tStep: 4.2461956315e-06\n",
      "\tParameters [ 1.24781274  9.99431428]\n",
      "Epoch  500 :\n",
      "\tStep: 4.20267007648e-06\n",
      "\tParameters [ 1.24893254  9.99440384]\n",
      "Epoch  510 :\n",
      "\tStep: 4.16043949226e-06\n",
      "\tParameters [ 1.24908668  9.99459496]\n",
      "Epoch  520 :\n",
      "\tStep: 4.11944107226e-06\n",
      "\tParameters [ 1.25025512  9.99466617]\n",
      "Epoch  530 :\n",
      "\tStep: 4.07961618893e-06\n",
      "\tParameters [ 1.25062144  9.99483243]\n",
      "Epoch  540 :\n",
      "\tStep: 4.04091004316e-06\n",
      "\tParameters [ 1.25129989  9.9949555 ]\n",
      "Epoch  550 :\n",
      "\tStep: 4.00327134888e-06\n",
      "\tParameters [ 1.25186021  9.99507943]\n",
      "Epoch  560 :\n",
      "\tStep: 3.96665204888e-06\n",
      "\tParameters [ 1.25198526  9.99526208]\n",
      "Epoch  570 :\n",
      "\tStep: 3.93100705822e-06\n",
      "\tParameters [ 1.25257138  9.99538597]\n",
      "Epoch  580 :\n",
      "\tStep: 3.89629403209e-06\n",
      "\tParameters [ 1.25378698  9.99543024]\n",
      "Epoch  590 :\n",
      "\tStep: 3.86247315551e-06\n",
      "\tParameters [ 1.25413009  9.99557098]\n",
      "Epoch  600 :\n",
      "\tStep: 3.82950695231e-06\n",
      "\tParameters [ 1.25471357  9.99569897]\n",
      "Epoch  610 :\n",
      "\tStep: 3.79736011158e-06\n",
      "\tParameters [ 1.2553748   9.99581196]\n",
      "Epoch  620 :\n",
      "\tStep: 3.76599932948e-06\n",
      "\tParameters [ 1.25564146  9.99595778]\n",
      "Epoch  630 :\n",
      "\tStep: 3.73539316499e-06\n",
      "\tParameters [ 1.25616968  9.99608249]\n",
      "Epoch  640 :\n",
      "\tStep: 3.70551190816e-06\n",
      "\tParameters [ 1.25648821  9.99621697]\n",
      "Epoch  650 :\n",
      "\tStep: 3.67632745951e-06\n",
      "\tParameters [ 1.25689876  9.99635808]\n",
      "Epoch  660 :\n",
      "\tStep: 3.64781321958e-06\n",
      "\tParameters [ 1.25786275  9.99642464]\n",
      "Epoch  670 :\n",
      "\tStep: 3.61994398757e-06\n",
      "\tParameters [ 1.25884346  9.99649283]\n",
      "Epoch  680 :\n",
      "\tStep: 3.59269586826e-06\n",
      "\tParameters [ 1.25955273  9.99658262]\n",
      "Epoch  690 :\n",
      "\tStep: 3.56604618633e-06\n",
      "\tParameters [ 1.25957405  9.99675435]\n",
      "Epoch  700 :\n",
      "\tStep: 3.53997340751e-06\n",
      "\tParameters [ 1.25961532  9.996927  ]\n",
      "Epoch  710 :\n",
      "\tStep: 3.51445706585e-06\n",
      "\tParameters [ 1.26031938  9.99700529]\n",
      "Epoch  720 :\n",
      "\tStep: 3.48947769654e-06\n",
      "\tParameters [ 1.26144252  9.99704403]\n",
      "Epoch  730 :\n",
      "\tStep: 3.46501677388e-06\n",
      "\tParameters [ 1.26204947  9.99713808]\n",
      "Epoch  740 :\n",
      "\tStep: 3.44105665382e-06\n",
      "\tParameters [ 1.26263582  9.99723467]\n",
      "Epoch  750 :\n",
      "\tStep: 3.41758052081e-06\n",
      "\tParameters [ 1.26303664  9.99736066]\n",
      "Epoch  760 :\n",
      "\tStep: 3.39457233843e-06\n",
      "\tParameters [ 1.2630265   9.99752876]\n",
      "Epoch  770 :\n",
      "\tStep: 3.37201680365e-06\n",
      "\tParameters [ 1.26385316  9.99759416]\n",
      "Epoch  780 :\n",
      "\tStep: 3.34989930424e-06\n",
      "\tParameters [ 1.26430581  9.99770553]\n",
      "Epoch  790 :\n",
      "\tStep: 3.32820587926e-06\n",
      "\tParameters [ 1.26494604  9.99779782]\n",
      "Epoch  800 :\n",
      "\tStep: 3.30692318219e-06\n",
      "\tParameters [ 1.26556016  9.99788323]\n",
      "Epoch  810 :\n",
      "\tStep: 3.28603844663e-06\n",
      "\tParameters [ 1.26622148  9.99796647]\n",
      "Epoch  820 :\n",
      "\tStep: 3.26553945432e-06\n",
      "\tParameters [ 1.26664573  9.9980848 ]\n",
      "Epoch  830 :\n",
      "\tStep: 3.24541450522e-06\n",
      "\tParameters [ 1.26744248  9.99814748]\n",
      "Epoch  840 :\n",
      "\tStep: 3.22565238964e-06\n",
      "\tParameters [ 1.26796721  9.99823901]\n",
      "Epoch  850 :\n",
      "\tStep: 3.20624236213e-06\n",
      "\tParameters [ 1.26824359  9.99835342]\n",
      "Epoch  860 :\n",
      "\tStep: 3.18717411706e-06\n",
      "\tParameters [ 1.26892362  9.99841614]\n",
      "Epoch  870 :\n",
      "\tStep: 3.16843776578e-06\n",
      "\tParameters [ 1.26909756  9.99855895]\n",
      "Epoch  880 :\n",
      "\tStep: 3.15002381516e-06\n",
      "\tParameters [ 1.26962287  9.99865311]\n",
      "Epoch  890 :\n",
      "\tStep: 3.13192314752e-06\n",
      "\tParameters [ 1.27000779  9.99875585]\n",
      "Epoch  900 :\n",
      "\tStep: 3.11412700173e-06\n",
      "\tParameters [ 1.27033353  9.99887057]\n",
      "Epoch  910 :\n",
      "\tStep: 3.09662695552e-06\n",
      "\tParameters [ 1.27058143  9.99899413]\n",
      "Epoch  920 :\n",
      "\tStep: 3.0794149088e-06\n",
      "\tParameters [ 1.27054178  9.99915563]\n",
      "Epoch  930 :\n",
      "\tStep: 3.06248306804e-06\n",
      "\tParameters [ 1.27098505  9.99925996]\n",
      "Epoch  940 :\n",
      "\tStep: 3.04582393146e-06\n",
      "\tParameters [ 1.27097458  9.99941476]\n",
      "Epoch  950 :\n",
      "\tStep: 3.02943027517e-06\n",
      "\tParameters [ 1.27158601  9.99948109]\n",
      "Epoch  960 :\n",
      "\tStep: 3.01329514011e-06\n",
      "\tParameters [ 1.27169143  9.99961504]\n",
      "Epoch  970 :\n",
      "\tStep: 2.99741181966e-06\n",
      "\tParameters [ 1.27215029  9.99970821]\n",
      "Epoch  980 :\n",
      "\tStep: 2.98177384802e-06\n",
      "\tParameters [ 1.27251603  9.99980668]\n",
      "Epoch  990 :\n",
      "\tStep: 2.96637498921e-06\n",
      "\tParameters [ 1.2728571   9.99990824]\n"
     ]
    }
   ],
   "source": [
    "opts = {'maxiter':1000, 'batch_size': 3341 , 'print_freq': 10, 'step0': 1e-4, 'gamma': 0.51}\n",
    "n_svi_res = n_svi_gp.fit(x_tr, y_tr, num_inputs=ind_num, optimizer_options=opts, inputs=inputs)"
   ]
  },
  {
   "cell_type": "code",
   "execution_count": 45,
   "metadata": {
    "collapsed": false
   },
   "outputs": [],
   "source": [
    "metric = lambda w: n_svi_gp.get_prediction_quality(w, x_test, y_test)\n",
    "n_svi_x_lst, n_svi_y_lst = n_svi_res.plot_performance(metric, 'i', freq=1)"
   ]
  },
  {
   "cell_type": "code",
   "execution_count": 46,
   "metadata": {
    "collapsed": false
   },
   "outputs": [
    {
     "data": {
      "text/plain": [
       "<matplotlib.text.Text at 0x10d7f24a8>"
      ]
     },
     "execution_count": 46,
     "metadata": {},
     "output_type": "execute_result"
    },
    {
     "data": {
      "image/png": "[encoded data removed]",
      "text/plain": [
       "<matplotlib.figure.Figure at 0x10d7d5c18>"
      ]
     },
     "metadata": {},
     "output_type": "display_data"
    }
   ],
   "source": [
    "plt.plot(n_svi_x_lst, n_svi_y_lst, '-yo', label='svi-natural')\n",
    "plt.ylim([.45, .5])\n",
    "plt.legend(loc=4)\n",
    "plt.xlabel('Iterations')\n",
    "plt.ylabel('r2 score on test-set')"
   ]
  },
  {
   "cell_type": "markdown",
   "metadata": {},
   "source": [
    "# Save results"
   ]
  },
  {
   "cell_type": "code",
   "execution_count": 18,
   "metadata": {
    "collapsed": false
   },
   "outputs": [],
   "source": [
    "np.save('../plots/regression_revision/'+ data_name +'_svi_x.npy', svi_x_lst)\n",
    "np.save('../plots/regression_revision/'+ data_name +'_svi_y.npy', svi_y_lst)\n",
    "np.save('../plots/regression_revision/'+ data_name +'_vi_x.npy', vi_x_lst)\n",
    "np.save('../plots/regression_revision/'+ data_name +'_vi_y.npy', vi_y_lst)\n",
    "np.save('../plots/regression_revision/'+ data_name +'_ad_x.npy', ch_svi_x_lst)\n",
    "np.save('../plots/regression_revision/'+ data_name +'_ad_y.npy', ch_svi_y_lst)\n",
    "np.save('../plots/regression_revision/'+ data_name +'_sg_x.npy', n_svi_x_lst)\n",
    "np.save('../plots/regression_revision/'+ data_name +'_sg_y.npy', n_svi_y_lst)"
   ]
  },
  {
   "cell_type": "markdown",
   "metadata": {},
   "source": [
    "#SVM test"
   ]
  },
  {
   "cell_type": "code",
   "execution_count": 3,
   "metadata": {
    "collapsed": false,
    "scrolled": true
   },
   "outputs": [
    {
     "data": {
      "text/plain": [
       "SVR(C=0.5, cache_size=200, coef0=0.0, degree=3, epsilon=0.1, gamma=0.0,\n",
       "  kernel='rbf', max_iter=-1, shrinking=True, tol=0.001, verbose=False)"
      ]
     },
     "execution_count": 3,
     "metadata": {},
     "output_type": "execute_result"
    }
   ],
   "source": [
    "svm = SVR(C=0.5)\n",
    "svm.fit(x_tr.T, y_tr[:, 0])"
   ]
  },
  {
   "cell_type": "code",
   "execution_count": 4,
   "metadata": {
    "collapsed": false
   },
   "outputs": [
    {
     "data": {
      "text/plain": [
       "0.54035268099230693"
      ]
     },
     "execution_count": 4,
     "metadata": {},
     "output_type": "execute_result"
    }
   ],
   "source": [
    "pred = svm.predict(x_test.T)\n",
    "r2_score(y_test, pred)"
   ]
  },
  {
   "cell_type": "code",
   "execution_count": null,
   "metadata": {
    "collapsed": true
   },
   "outputs": [],
   "source": []
  }
 ],
 "metadata": {
  "kernelspec": {
   "display_name": "Python 3",
   "language": "python",
   "name": "python3"
  },
  "language_info": {
   "codemirror_mode": {
    "name": "ipython",
    "version": 3
   },
   "file_extension": ".py",
   "mimetype": "text/x-python",
   "name": "python",
   "nbconvert_exporter": "python",
   "pygments_lexer": "ipython3",
   "version": "3.4.3"
  }
 },
 "nbformat": 4,
 "nbformat_minor": 0
}
