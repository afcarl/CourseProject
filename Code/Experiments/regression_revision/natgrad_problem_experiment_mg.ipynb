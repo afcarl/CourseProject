{
 "cells": [
  {
   "cell_type": "markdown",
   "metadata": {},
   "source": [
    "# MG dataset\n",
    "\n",
    "Here we explore why natural gradient descent performes worse than (conventional) gradient descent in our experiments"
   ]
  },
  {
   "cell_type": "code",
   "execution_count": 1,
   "metadata": {
    "collapsed": false
   },
   "outputs": [],
   "source": [
    "import sys\n",
    "sys.path.append('/Users/IzmailovPavel/Documents/Education/Course Project/Code')\n",
    "import numpy as np\n",
    "import matplotlib as mpl\n",
    "\n",
    "from matplotlib import pyplot as plt\n",
    "\n",
    "from GP.covariance_functions import SquaredExponential\n",
    "from GP.gaussian_process_regression import GPR\n",
    "\n",
    "from sklearn.cluster import KMeans\n",
    "\n",
    "from sklearn.datasets import load_svmlight_file\n",
    "from sklearn.preprocessing import StandardScaler\n",
    "from sklearn.utils import shuffle\n",
    "from sklearn.svm import SVR\n",
    "from sklearn.metrics import r2_score\n",
    "%matplotlib inline\n",
    "%load_ext autoreload\n",
    "%autoreload 2"
   ]
  },
  {
   "cell_type": "markdown",
   "metadata": {},
   "source": [
    "Loading the data"
   ]
  },
  {
   "cell_type": "code",
   "execution_count": 2,
   "metadata": {
    "collapsed": false
   },
   "outputs": [
    {
     "name": "stdout",
     "output_type": "stream",
     "text": [
      "of objects: 1108\n",
      "of features 6\n",
      "mg\n"
     ]
    }
   ],
   "source": [
    "x_tr, y_tr = load_svmlight_file('../../../../Programming/DataSets/Regression/mg(1385, 6).txt')\n",
    "x_tr, y_tr = shuffle(x_tr, y_tr, random_state=241)\n",
    "data_name = 'mg'\n",
    "file_name = data_name\n",
    "\n",
    "x_tr = x_tr.toarray().T\n",
    "scaler_x = StandardScaler()\n",
    "scaler_y = StandardScaler()\n",
    "\n",
    "y_tr = y_tr.reshape((y_tr.size, 1))\n",
    "x_test = x_tr[:, int(x_tr.shape[1] * 0.8):]\n",
    "y_test = y_tr[int(x_tr.shape[1] * 0.8):, :]\n",
    "y_tr = y_tr[:int(x_tr.shape[1] * 0.8), :]\n",
    "x_tr = x_tr[:, : int(x_tr.shape[1] * 0.8)]\n",
    "\n",
    "\n",
    "x_tr = scaler_x.fit_transform(x_tr.T).T\n",
    "x_test = scaler_x.transform(x_test.T).T\n",
    "y_tr = scaler_y.fit_transform(y_tr)\n",
    "y_test = scaler_y.transform(y_test)\n",
    "\n",
    "\n",
    "dim, num = x_tr.shape\n",
    "print('of objects:', num)\n",
    "print('of features', dim)\n",
    "print(data_name)"
   ]
  },
  {
   "cell_type": "markdown",
   "metadata": {},
   "source": [
    "## SVM\n",
    "We train an SVM with RBF kernel for reference."
   ]
  },
  {
   "cell_type": "code",
   "execution_count": 3,
   "metadata": {
    "collapsed": false,
    "scrolled": false
   },
   "outputs": [
    {
     "data": {
      "text/plain": [
       "0.74057253616984964"
      ]
     },
     "execution_count": 3,
     "metadata": {},
     "output_type": "execute_result"
    }
   ],
   "source": [
    "svm = SVR(C=5e-1)\n",
    "svm.fit(x_tr.T, y_tr[:, 0])\n",
    "pred = svm.predict(x_test.T)\n",
    "r2_score(y_test, pred)"
   ]
  },
  {
   "cell_type": "markdown",
   "metadata": {},
   "source": [
    "# K-means cluster centers as inducing inputs\n",
    "\n",
    "We use K-means cluster centers as inducing point positions and don't optimize wrt them."
   ]
  },
  {
   "cell_type": "code",
   "execution_count": 4,
   "metadata": {
    "collapsed": false
   },
   "outputs": [
    {
     "name": "stdout",
     "output_type": "stream",
     "text": [
      "Finding means...\n",
      "...found\n"
     ]
    }
   ],
   "source": [
    "ind_num = 100\n",
    "print('Finding means...')\n",
    "means = KMeans(n_clusters=ind_num, n_init=3, max_iter=100, random_state=241)\n",
    "means.fit(x_tr.T)\n",
    "inputs = means.cluster_centers_.T\n",
    "print('...found')"
   ]
  },
  {
   "cell_type": "code",
   "execution_count": 5,
   "metadata": {
    "collapsed": false
   },
   "outputs": [],
   "source": [
    "cov_params = np.array([1.0, 5., 1.0])"
   ]
  },
  {
   "cell_type": "markdown",
   "metadata": {
    "collapsed": true
   },
   "source": [
    "## Full gradient vs Full natural gradient\n",
    "### SVI, Conventionl gradients"
   ]
  },
  {
   "cell_type": "code",
   "execution_count": 6,
   "metadata": {
    "collapsed": false
   },
   "outputs": [],
   "source": [
    "model_covariance_obj = SquaredExponential(np.copy(cov_params))\n",
    "fg_svi_gp = GPR(model_covariance_obj, method='svi', parametrization='cholesky', optimizer='climinSG')"
   ]
  },
  {
   "cell_type": "code",
   "execution_count": 7,
   "metadata": {
    "collapsed": true
   },
   "outputs": [
    {
     "name": "stdout",
     "output_type": "stream",
     "text": [
      "Using SG optimizer\n",
      "Iteration  50 :\n",
      "\tGradient norm 0.270691647203\n",
      "Iteration  100 :\n",
      "\tGradient norm 0.288389311152\n",
      "Iteration  150 :\n",
      "\tGradient norm 0.303399717552\n",
      "Iteration  200 :\n",
      "\tGradient norm 0.317220295586\n",
      "Iteration  250 :\n",
      "\tGradient norm 0.330358284467\n",
      "Iteration  300 :\n",
      "\tGradient norm 0.343298852038\n",
      "Iteration  350 :\n",
      "\tGradient norm 0.356549735204\n",
      "Iteration  400 :\n",
      "\tGradient norm 0.370647451843\n",
      "Iteration  450 :\n",
      "\tGradient norm 0.386102450597\n",
      "Iteration  500 :\n",
      "\tGradient norm 0.403259390002\n",
      "Iteration  550 :\n",
      "\tGradient norm 0.422116700677\n",
      "Iteration  600 :\n",
      "\tGradient norm 0.442251127471\n",
      "Iteration  650 :\n",
      "\tGradient norm 0.46293729085\n",
      "Iteration  700 :\n",
      "\tGradient norm 0.483322429755\n",
      "Iteration  750 :\n",
      "\tGradient norm 0.502498561089\n",
      "Iteration  800 :\n",
      "\tGradient norm 0.519577471982\n",
      "Iteration  850 :\n",
      "\tGradient norm 0.533944952812\n",
      "Iteration  900 :\n",
      "\tGradient norm 0.545538275905\n",
      "Iteration  950 :\n",
      "\tGradient norm 0.437379431595\n",
      "Iteration  1000 :\n",
      "\tGradient norm 0.579406347674\n",
      "Iteration  1050 :\n",
      "\tGradient norm 0.597916472895\n",
      "Iteration  1100 :\n",
      "\tGradient norm 0.560818388476\n",
      "Iteration  1150 :\n",
      "\tGradient norm 0.596517427026\n",
      "Iteration  1200 :\n",
      "\tGradient norm 0.173760686823\n",
      "Iteration  1250 :\n",
      "\tGradient norm 0.360038734433\n",
      "Iteration  1300 :\n",
      "\tGradient norm 0.660651566971\n",
      "Iteration  1350 :\n",
      "\tGradient norm 0.66843193606\n",
      "Iteration  1400 :\n",
      "\tGradient norm 0.672103310573\n",
      "Iteration  1450 :\n",
      "\tGradient norm 0.191580259663\n",
      "Iteration  1500 :\n",
      "\tGradient norm 0.234293288511\n"
     ]
    }
   ],
   "source": [
    "opts = {'mydisp': True, 'print_freq': 50, 'step_rate': .45,\n",
    "                'maxiter': 1500, 'batch_size': x_tr.shape[1] }\n",
    "fg_svi_res = fg_svi_gp.fit(x_tr, y_tr, num_inputs=ind_num, optimizer_options=opts, inputs=inputs)"
   ]
  },
  {
   "cell_type": "code",
   "execution_count": 8,
   "metadata": {
    "collapsed": false
   },
   "outputs": [],
   "source": [
    "metric = lambda w: fg_svi_gp.get_prediction_quality(w, x_test, y_test)\n",
    "fg_svi_x_lst, fg_svi_y_lst = fg_svi_res.plot_performance(metric, 'i', freq=10)"
   ]
  },
  {
   "cell_type": "code",
   "execution_count": 9,
   "metadata": {
    "collapsed": false
   },
   "outputs": [
    {
     "data": {
      "text/plain": [
       "<matplotlib.text.Text at 0x10d7a8f60>"
      ]
     },
     "execution_count": 9,
     "metadata": {},
     "output_type": "execute_result"
    },
    {
     "data": {
      "image/png": "[encoded data removed]",
      "text/plain": [
       "<matplotlib.figure.Figure at 0x10c5e7cc0>"
      ]
     },
     "metadata": {},
     "output_type": "display_data"
    }
   ],
   "source": [
    "plt.plot(fg_svi_x_lst, fg_svi_y_lst, '-ro', label='svi-FG')\n",
    "plt.ylim([.6, .75])\n",
    "plt.legend(loc=4)\n",
    "plt.xlabel('Iterations')\n",
    "plt.ylabel('r2 score on test-set')"
   ]
  },
  {
   "cell_type": "code",
   "execution_count": 10,
   "metadata": {
    "collapsed": true
   },
   "outputs": [],
   "source": [
    "np.save('../plots/regression_revision/nat_grad_experiment/'+ data_name +'_fg_svi_x.npy', fg_svi_x_lst)\n",
    "np.save('../plots/regression_revision/nat_grad_experiment/'+ data_name +'_fg_svi_y.npy', fg_svi_y_lst)"
   ]
  },
  {
   "cell_type": "markdown",
   "metadata": {},
   "source": [
    "###SVI, Natural gradients"
   ]
  },
  {
   "cell_type": "code",
   "execution_count": 11,
   "metadata": {
    "collapsed": true
   },
   "outputs": [],
   "source": [
    "model_covariance_obj = SquaredExponential(np.copy(cov_params))\n",
    "fng_svi_gp = GPR(model_covariance_obj, method='svi', parametrization='natural', optimizer='climinSG')"
   ]
  },
  {
   "cell_type": "code",
   "execution_count": 12,
   "metadata": {
    "collapsed": false,
    "scrolled": true
   },
   "outputs": [
    {
     "name": "stdout",
     "output_type": "stream",
     "text": [
      "1.0\n",
      "Using SG optimizer\n",
      "Iteration  50 :\n",
      "\tGradient norm 0.339368544385\n",
      "Iteration  100 :\n",
      "\tGradient norm 0.346469874503\n",
      "Iteration  150 :\n",
      "\tGradient norm 0.352949927101\n",
      "Iteration  200 :\n",
      "\tGradient norm 0.359375934168\n",
      "Iteration  250 :\n",
      "\tGradient norm 0.365869600528\n",
      "Iteration  300 :\n",
      "\tGradient norm 0.372576411852\n",
      "Iteration  350 :\n",
      "\tGradient norm 0.379678294614\n",
      "Iteration  400 :\n",
      "\tGradient norm 0.387406065883\n",
      "Iteration  450 :\n",
      "\tGradient norm 0.396049888406\n",
      "Iteration  500 :\n",
      "\tGradient norm 0.405958495116\n",
      "Iteration  550 :\n",
      "\tGradient norm 0.417507624786\n",
      "Iteration  600 :\n",
      "\tGradient norm 0.431006170677\n",
      "Iteration  650 :\n",
      "\tGradient norm 0.446509060694\n",
      "Iteration  700 :\n",
      "\tGradient norm 0.463549674129\n",
      "Iteration  750 :\n",
      "\tGradient norm 0.480933755566\n",
      "Iteration  800 :\n",
      "\tGradient norm 0.496933119573\n",
      "Iteration  850 :\n",
      "\tGradient norm 0.510117979185\n",
      "Iteration  900 :\n",
      "\tGradient norm 0.520192853\n",
      "Iteration  950 :\n",
      "\tGradient norm 0.527833857169\n",
      "Iteration  1000 :\n",
      "\tGradient norm 0.533786741354\n",
      "Iteration  1050 :\n",
      "\tGradient norm 0.589025863783\n",
      "Iteration  1100 :\n",
      "\tGradient norm 0.449689114454\n",
      "Iteration  1150 :\n",
      "\tGradient norm 0.60902869554\n",
      "Iteration  1200 :\n",
      "\tGradient norm 0.312951380106\n",
      "Iteration  1250 :\n",
      "\tGradient norm 0.584199738203\n",
      "Iteration  1300 :\n",
      "\tGradient norm 0.426238781759\n",
      "Iteration  1350 :\n",
      "\tGradient norm 0.618792062185\n",
      "Iteration  1400 :\n",
      "\tGradient norm 0.628103025408\n",
      "Iteration  1450 :\n",
      "\tGradient norm 0.638053614057\n",
      "Iteration  1500 :\n",
      "\tGradient norm 0.171882070514\n",
      "Iteration  1550 :\n",
      "\tGradient norm 0.606242467434\n",
      "Iteration  1600 :\n",
      "\tGradient norm 0.127766877962\n",
      "Iteration  1650 :\n",
      "\tGradient norm 0.563336258284\n",
      "Iteration  1700 :\n",
      "\tGradient norm 0.634305876295\n",
      "Iteration  1750 :\n",
      "\tGradient norm 0.0717728179027\n",
      "Iteration  1800 :\n",
      "\tGradient norm 0.530917663645\n",
      "Iteration  1850 :\n",
      "\tGradient norm 0.271916102174\n",
      "Iteration  1900 :\n",
      "\tGradient norm 0.665850065206\n",
      "Iteration  1950 :\n",
      "\tGradient norm 0.667279030624\n",
      "Iteration  2000 :\n",
      "\tGradient norm 0.0744191759001\n"
     ]
    }
   ],
   "source": [
    "opts = {'mydisp': True, 'print_freq': 50, 'step_rate': .47,\n",
    "                'maxiter': 2000, 'batch_size': x_tr.shape[1] }\n",
    "fng_svi_res = fng_svi_gp.fit(x_tr, y_tr, num_inputs=ind_num, optimizer_options=opts, inputs=inputs)"
   ]
  },
  {
   "cell_type": "code",
   "execution_count": 13,
   "metadata": {
    "collapsed": false
   },
   "outputs": [],
   "source": [
    "metric = lambda w: fng_svi_gp.get_prediction_quality(w, x_test, y_test)\n",
    "fng_svi_x_lst, fng_svi_y_lst = fng_svi_res.plot_performance(metric, 'i', freq=10)"
   ]
  },
  {
   "cell_type": "code",
   "execution_count": 14,
   "metadata": {
    "collapsed": false
   },
   "outputs": [
    {
     "data": {
      "text/plain": [
       "<matplotlib.text.Text at 0x105efe898>"
      ]
     },
     "execution_count": 14,
     "metadata": {},
     "output_type": "execute_result"
    },
    {
     "data": {
      "image/png": "[encoded data removed]",
      "text/plain": [
       "<matplotlib.figure.Figure at 0x105ed8eb8>"
      ]
     },
     "metadata": {},
     "output_type": "display_data"
    }
   ],
   "source": [
    "plt.plot(fng_svi_x_lst, fng_svi_y_lst, '-yo', label='svi-natural-FG')\n",
    "plt.ylim([.6, .75])\n",
    "plt.legend(loc=4)\n",
    "plt.xlabel('Iterations')\n",
    "plt.ylabel('r2 score on test-set')"
   ]
  },
  {
   "cell_type": "code",
   "execution_count": 15,
   "metadata": {
    "collapsed": true
   },
   "outputs": [],
   "source": [
    "np.save('../plots/regression_revision/nat_grad_experiment/'+ data_name +'_fng_svi_x.npy', fng_svi_x_lst)\n",
    "np.save('../plots/regression_revision/nat_grad_experiment/'+ data_name +'_fng_svi_y.npy', fng_svi_y_lst)"
   ]
  },
  {
   "cell_type": "markdown",
   "metadata": {},
   "source": [
    "### Introducing separate step multiplier for natural gradient"
   ]
  },
  {
   "cell_type": "code",
   "execution_count": 16,
   "metadata": {
    "collapsed": true
   },
   "outputs": [],
   "source": [
    "model_covariance_obj = SquaredExponential(np.copy(cov_params))\n",
    "exp_fng_svi_gp = GPR(model_covariance_obj, method='svi', parametrization='natural', optimizer='climinSG')"
   ]
  },
  {
   "cell_type": "code",
   "execution_count": 17,
   "metadata": {
    "collapsed": true
   },
   "outputs": [
    {
     "name": "stdout",
     "output_type": "stream",
     "text": [
      "7.0\n",
      "Using SG optimizer\n",
      "Iteration  50 :\n",
      "\tGradient norm 0.515077352406\n",
      "Iteration  100 :\n",
      "\tGradient norm 0.484826301774\n",
      "Iteration  150 :\n",
      "\tGradient norm 0.457469963332\n",
      "Iteration  200 :\n",
      "\tGradient norm 0.434456664427\n",
      "Iteration  250 :\n",
      "\tGradient norm 0.417517133273\n",
      "Iteration  300 :\n",
      "\tGradient norm 0.407227753569\n",
      "Iteration  350 :\n",
      "\tGradient norm 0.400420078212\n",
      "Iteration  400 :\n",
      "\tGradient norm 0.382437677953\n",
      "Iteration  450 :\n",
      "\tGradient norm 0.349695634182\n",
      "Iteration  500 :\n",
      "\tGradient norm 0.381922570987\n",
      "Iteration  550 :\n",
      "\tGradient norm 0.417150893088\n",
      "Iteration  600 :\n",
      "\tGradient norm 0.454424384555\n",
      "Iteration  650 :\n",
      "\tGradient norm 0.492393372178\n",
      "Iteration  700 :\n",
      "\tGradient norm 0.528665141052\n",
      "Iteration  750 :\n",
      "\tGradient norm 0.560368267949\n",
      "Iteration  800 :\n",
      "\tGradient norm 0.585885432464\n",
      "Iteration  850 :\n",
      "\tGradient norm 0.605730838311\n",
      "Iteration  900 :\n",
      "\tGradient norm 0.621493178587\n",
      "Iteration  950 :\n",
      "\tGradient norm 0.634590033398\n",
      "Iteration  1000 :\n",
      "\tGradient norm 0.645907238107\n"
     ]
    }
   ],
   "source": [
    "opts = {'mydisp': True, 'print_freq': 50, 'step_rate': .4,\n",
    "                'maxiter': 1000, 'batch_size': x_tr.shape[1], 'nat_mult':7.}\n",
    "exp_fng_svi_res = exp_fng_svi_gp.fit(x_tr, y_tr, num_inputs=ind_num, optimizer_options=opts, inputs=inputs)"
   ]
  },
  {
   "cell_type": "code",
   "execution_count": 18,
   "metadata": {
    "collapsed": true
   },
   "outputs": [],
   "source": [
    "metric = lambda w: fng_svi_gp.get_prediction_quality(w, x_test, y_test)\n",
    "exp_fng_svi_x_lst, exp_fng_svi_y_lst = exp_fng_svi_res.plot_performance(metric, 'i', freq=10)"
   ]
  },
  {
   "cell_type": "code",
   "execution_count": 19,
   "metadata": {
    "collapsed": false
   },
   "outputs": [
    {
     "data": {
      "text/plain": [
       "<matplotlib.text.Text at 0x105ee37b8>"
      ]
     },
     "execution_count": 19,
     "metadata": {},
     "output_type": "execute_result"
    },
    {
     "data": {
      "image/png": "[encoded data removed]",
      "text/plain": [
       "<matplotlib.figure.Figure at 0x105fea828>"
      ]
     },
     "metadata": {},
     "output_type": "display_data"
    }
   ],
   "source": [
    "plt.plot(exp_fng_svi_x_lst, exp_fng_svi_y_lst, '-co', label='Experimental svi-natural-FG')\n",
    "plt.ylim([.6, .75])\n",
    "plt.legend(loc=4)\n",
    "plt.xlabel('Iterations')\n",
    "plt.ylabel('r2 score on test-set')"
   ]
  },
  {
   "cell_type": "code",
   "execution_count": 20,
   "metadata": {
    "collapsed": true
   },
   "outputs": [],
   "source": [
    "np.save('../plots/regression_revision/nat_grad_experiment/'+ data_name +'_exp_fng_svi_x.npy', exp_fng_svi_x_lst)\n",
    "np.save('../plots/regression_revision/nat_grad_experiment/'+ data_name +'_exp_fng_svi_y.npy', exp_fng_svi_y_lst)"
   ]
  },
  {
   "cell_type": "markdown",
   "metadata": {},
   "source": [
    "## Conclusion"
   ]
  },
  {
   "cell_type": "code",
   "execution_count": 21,
   "metadata": {
    "collapsed": false
   },
   "outputs": [
    {
     "data": {
      "text/plain": [
       "<matplotlib.text.Text at 0x10d31c6d8>"
      ]
     },
     "execution_count": 21,
     "metadata": {},
     "output_type": "execute_result"
    },
    {
     "data": {
      "image/png": "[encoded data removed]",
      "text/plain": [
       "<matplotlib.figure.Figure at 0x10e01e5c0>"
      ]
     },
     "metadata": {},
     "output_type": "display_data"
    }
   ],
   "source": [
    "plt.plot(exp_fng_svi_x_lst, exp_fng_svi_y_lst, '-co', label='Experimental svi-natural-FG')\n",
    "plt.plot(fng_svi_x_lst, fng_svi_y_lst, '-yo', label='svi-natural-FG')\n",
    "plt.plot(fg_svi_x_lst, fg_svi_y_lst, '-ro', label='svi-FG')\n",
    "plt.ylim([.6, .75])\n",
    "plt.legend(loc=4)\n",
    "plt.xlabel('Iterations')\n",
    "plt.ylabel('r2 score on test-set')"
   ]
  },
  {
   "cell_type": "code",
   "execution_count": null,
   "metadata": {
    "collapsed": true
   },
   "outputs": [],
   "source": []
  }
 ],
 "metadata": {
  "kernelspec": {
   "display_name": "Python 3",
   "language": "python",
   "name": "python3"
  },
  "language_info": {
   "codemirror_mode": {
    "name": "ipython",
    "version": 3
   },
   "file_extension": ".py",
   "mimetype": "text/x-python",
   "name": "python",
   "nbconvert_exporter": "python",
   "pygments_lexer": "ipython3",
   "version": "3.4.3"
  }
 },
 "nbformat": 4,
 "nbformat_minor": 0
}
