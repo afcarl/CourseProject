{
 "cells": [
  {
   "cell_type": "markdown",
   "metadata": {},
   "source": [
    "# MG dataset\n",
    "\n",
    "Comparison of different inducing point GP-regression methods."
   ]
  },
  {
   "cell_type": "code",
   "execution_count": 1,
   "metadata": {
    "collapsed": false
   },
   "outputs": [],
   "source": [
    "import sys\n",
    "sys.path.append('/Users/IzmailovPavel/Documents/Education/Course Project/Code')\n",
    "import numpy as np\n",
    "import matplotlib as mpl\n",
    "\n",
    "from matplotlib import pyplot as plt\n",
    "\n",
    "from GP.covariance_functions import SquaredExponential\n",
    "from GP.gaussian_process_regression import GPR\n",
    "\n",
    "from sklearn.cluster import KMeans\n",
    "\n",
    "from sklearn.datasets import load_svmlight_file\n",
    "from sklearn.preprocessing import StandardScaler\n",
    "from sklearn.utils import shuffle\n",
    "from sklearn.svm import SVR\n",
    "from sklearn.metrics import r2_score\n",
    "%matplotlib inline\n",
    "%load_ext autoreload\n",
    "%autoreload 2"
   ]
  },
  {
   "cell_type": "markdown",
   "metadata": {},
   "source": [
    "Loading the data"
   ]
  },
  {
   "cell_type": "code",
   "execution_count": 2,
   "metadata": {
    "collapsed": false
   },
   "outputs": [
    {
     "name": "stdout",
     "output_type": "stream",
     "text": [
      "of objects: 1108\n",
      "of features 6\n",
      "mg\n"
     ]
    }
   ],
   "source": [
    "x_tr, y_tr = load_svmlight_file('../../../../Programming/DataSets/Regression/mg(1385, 6).txt')\n",
    "x_tr, y_tr = shuffle(x_tr, y_tr, random_state=241)\n",
    "data_name = 'mg'\n",
    "file_name = data_name\n",
    "\n",
    "x_tr = x_tr.toarray().T\n",
    "scaler_x = StandardScaler()\n",
    "scaler_y = StandardScaler()\n",
    "\n",
    "y_tr = y_tr.reshape((y_tr.size, 1))\n",
    "x_test = x_tr[:, int(x_tr.shape[1] * 0.8):]\n",
    "y_test = y_tr[int(x_tr.shape[1] * 0.8):, :]\n",
    "y_tr = y_tr[:int(x_tr.shape[1] * 0.8), :]\n",
    "x_tr = x_tr[:, : int(x_tr.shape[1] * 0.8)]\n",
    "\n",
    "\n",
    "x_tr = scaler_x.fit_transform(x_tr.T).T\n",
    "x_test = scaler_x.transform(x_test.T).T\n",
    "y_tr = scaler_y.fit_transform(y_tr)\n",
    "y_test = scaler_y.transform(y_test)\n",
    "\n",
    "\n",
    "dim, num = x_tr.shape\n",
    "print('of objects:', num)\n",
    "print('of features', dim)\n",
    "print(data_name)"
   ]
  },
  {
   "cell_type": "markdown",
   "metadata": {},
   "source": [
    "## SVM\n",
    "We train an SVM with RBF kernel for reference."
   ]
  },
  {
   "cell_type": "code",
   "execution_count": 3,
   "metadata": {
    "collapsed": false,
    "scrolled": false
   },
   "outputs": [
    {
     "data": {
      "text/plain": [
       "0.74057253616984964"
      ]
     },
     "execution_count": 3,
     "metadata": {},
     "output_type": "execute_result"
    }
   ],
   "source": [
    "svm = SVR(C=5e-1)\n",
    "svm.fit(x_tr.T, y_tr[:, 0])\n",
    "pred = svm.predict(x_test.T)\n",
    "r2_score(y_test, pred)"
   ]
  },
  {
   "cell_type": "markdown",
   "metadata": {},
   "source": [
    "# K-means cluster centers as inducing inputs\n",
    "\n",
    "We use K-means cluster centers as inducing point positions and don't optimize wrt them."
   ]
  },
  {
   "cell_type": "code",
   "execution_count": 3,
   "metadata": {
    "collapsed": false
   },
   "outputs": [
    {
     "name": "stdout",
     "output_type": "stream",
     "text": [
      "Finding means...\n",
      "...found\n"
     ]
    }
   ],
   "source": [
    "ind_num = 100\n",
    "print('Finding means...')\n",
    "means = KMeans(n_clusters=ind_num, n_init=3, max_iter=100, random_state=241)\n",
    "means.fit(x_tr.T)\n",
    "inputs = means.cluster_centers_.T\n",
    "print('...found')"
   ]
  },
  {
   "cell_type": "code",
   "execution_count": 4,
   "metadata": {
    "collapsed": false
   },
   "outputs": [],
   "source": [
    "cov_params = np.array([1.0, 5., 1.0])"
   ]
  },
  {
   "cell_type": "code",
   "execution_count": 5,
   "metadata": {
    "collapsed": true
   },
   "outputs": [],
   "source": [
    "default_plot_interval = [0.6, .75]\n",
    "def plot_results(it_lst, t_lst, y_lst, clr, label, plot_interval=None):\n",
    "    if plot_interval is None:\n",
    "        plot_interval = default_plot_interval\n",
    "    plt.figure(figsize=(13,5))\n",
    "\n",
    "    plt.subplot(1, 2, 1)\n",
    "    plt.plot(it_lst, y_lst, clr, label=label)\n",
    "    plt.ylim(plot_interval)\n",
    "    plt.legend(loc=4)\n",
    "    plt.xlabel('Iterations')\n",
    "    plt.ylabel('r2 score on test-set')\n",
    "\n",
    "    plt.subplot(1, 2, 2)\n",
    "    plt.plot(t_lst, y_lst, clr, label=label)\n",
    "    plt.ylim(plot_interval)\n",
    "    plt.legend(loc=4)\n",
    "    plt.xlabel('Time(s)')\n",
    "    plt.ylabel('r2 score on test-set')"
   ]
  },
  {
   "cell_type": "markdown",
   "metadata": {},
   "source": [
    "# SVI-L-BFGS-B\n",
    "\n",
    "L-BFGS-B optimization method applied to the svi objective (see the text)."
   ]
  },
  {
   "cell_type": "code",
   "execution_count": 8,
   "metadata": {
    "collapsed": false
   },
   "outputs": [],
   "source": [
    "model_covariance_obj = SquaredExponential(np.copy(cov_params))\n",
    "lbfgs_svi_gp = GPR(model_covariance_obj, method='svi', parametrization='cholesky', optimizer='L-BFGS-B')"
   ]
  },
  {
   "cell_type": "code",
   "execution_count": 9,
   "metadata": {
    "collapsed": false
   },
   "outputs": [],
   "source": [
    "opts = {'maxiter': 50, 'mydisp': False}\n",
    "lbfgs_svi_res = lbfgs_svi_gp.fit(x_tr, y_tr, num_inputs=ind_num, optimizer_options=opts, inputs=inputs)"
   ]
  },
  {
   "cell_type": "code",
   "execution_count": 10,
   "metadata": {
    "collapsed": true
   },
   "outputs": [],
   "source": [
    "metric = lambda w: lbfgs_svi_gp.get_prediction_quality(w, x_test, y_test)\n",
    "lbfgs_svi_xi_lst, lbfgs_svi_xt_lst, lbfgs_svi_y_lst = lbfgs_svi_res.plot_performance(metric, 'it', freq=1)"
   ]
  },
  {
   "cell_type": "code",
   "execution_count": 11,
   "metadata": {
    "collapsed": false
   },
   "outputs": [
    {
     "data": {
      "image/png": "[encoded data removed]",
      "text/plain": [
       "<matplotlib.figure.Figure at 0x10d1ffc50>"
      ]
     },
     "metadata": {},
     "output_type": "display_data"
    }
   ],
   "source": [
    "plot_results(lbfgs_svi_xi_lst, lbfgs_svi_xt_lst, lbfgs_svi_y_lst, '-go', 'svi-L-BFGS-B')"
   ]
  },
  {
   "cell_type": "code",
   "execution_count": 13,
   "metadata": {
    "collapsed": true
   },
   "outputs": [],
   "source": [
    "np.save('../plots/regression_revision/'+ data_name +'/' + data_name + '_lbfgs_svi_xi.npy', lbfgs_svi_xi_lst)\n",
    "np.save('../plots/regression_revision/'+ data_name +'/' + data_name + '_lbfgs_svi_xt.npy', lbfgs_svi_xt_lst)\n",
    "np.save('../plots/regression_revision/' + data_name +'/' + data_name + '_lbfgs_svi_y.npy', lbfgs_svi_y_lst)"
   ]
  },
  {
   "cell_type": "markdown",
   "metadata": {},
   "source": [
    "## VI\n",
    "L-BFGS-B optimization method applied to the vi objective (see the text)."
   ]
  },
  {
   "cell_type": "code",
   "execution_count": 14,
   "metadata": {
    "collapsed": false
   },
   "outputs": [],
   "source": [
    "model_covariance_obj = SquaredExponential(np.copy(cov_params))\n",
    "vi_gp = GPR(model_covariance_obj, method='means', optimizer='L-BFGS-B')"
   ]
  },
  {
   "cell_type": "code",
   "execution_count": 15,
   "metadata": {
    "collapsed": false
   },
   "outputs": [],
   "source": [
    "opts = {'maxiter': 20, 'disp': True}\n",
    "vi_res = vi_gp.fit(x_tr, y_tr, num_inputs=ind_num, optimizer_options=opts, inputs=inputs)"
   ]
  },
  {
   "cell_type": "code",
   "execution_count": 16,
   "metadata": {
    "collapsed": true
   },
   "outputs": [],
   "source": [
    "metric = lambda w: vi_gp.get_prediction_quality(w, x_tr, y_tr, x_test, y_test)\n",
    "vi_xi_lst, vi_xt_lst, vi_y_lst = vi_res.plot_performance(metric, 'it', freq=1)"
   ]
  },
  {
   "cell_type": "code",
   "execution_count": 18,
   "metadata": {
    "collapsed": false
   },
   "outputs": [
    {
     "data": {
      "image/png": "[encoded data removed]",
      "text/plain": [
       "<matplotlib.figure.Figure at 0x10de97550>"
      ]
     },
     "metadata": {},
     "output_type": "display_data"
    }
   ],
   "source": [
    "plot_results(vi_xi_lst, vi_xt_lst, vi_y_lst, '-bo', 'svi-L-BFGS-B')"
   ]
  },
  {
   "cell_type": "code",
   "execution_count": 19,
   "metadata": {
    "collapsed": false
   },
   "outputs": [
    {
     "data": {
      "text/plain": [
       "0.72307314610437134"
      ]
     },
     "execution_count": 19,
     "metadata": {},
     "output_type": "execute_result"
    }
   ],
   "source": [
    "vi_y_lst[-1]"
   ]
  },
  {
   "cell_type": "code",
   "execution_count": 20,
   "metadata": {
    "collapsed": true
   },
   "outputs": [],
   "source": [
    "np.save('../plots/regression_revision/' + data_name +'/' + data_name + '_vi_xi.npy', vi_xi_lst)\n",
    "np.save('../plots/regression_revision/' + data_name +'/' + data_name + '_vi_xt.npy', vi_xt_lst)\n",
    "np.save('../plots/regression_revision/' + data_name +'/' + data_name + '_vi_y.npy', vi_y_lst)"
   ]
  },
  {
   "cell_type": "markdown",
   "metadata": {},
   "source": [
    "## Stochastic SVI\n",
    "Stochastic (incremental) optimization methods applied to the svi objective (see the text).\n",
    "### AdaDelta-Cholesky\n",
    "Adadelta method from climin library."
   ]
  },
  {
   "cell_type": "code",
   "execution_count": 21,
   "metadata": {
    "collapsed": false
   },
   "outputs": [],
   "source": [
    "model_covariance_obj = SquaredExponential(np.copy(cov_params))\n",
    "ad_svi_gp = GPR(model_covariance_obj, method='svi', parametrization='cholesky', optimizer='AdaDelta')"
   ]
  },
  {
   "cell_type": "code",
   "execution_count": 22,
   "metadata": {
    "collapsed": false
   },
   "outputs": [
    {
     "name": "stdout",
     "output_type": "stream",
     "text": [
      "Using AdaDelta optimizer\n",
      "Iteration  50 :\n",
      "\tGradient norm 0.245459049712\n",
      "Iteration  100 :\n",
      "\tGradient norm 0.254598185167\n",
      "Iteration  150 :\n",
      "\tGradient norm 0.334007760562\n",
      "Iteration  200 :\n",
      "\tGradient norm 0.0535873595529\n",
      "Iteration  250 :\n",
      "\tGradient norm 0.310897946356\n",
      "Iteration  300 :\n",
      "\tGradient norm 0.349662002588\n"
     ]
    }
   ],
   "source": [
    "opts = {'mydisp': True, 'print_freq': 50, 'step_rate': 1.,\n",
    "                'maxiter': 300, 'batch_size':200}\n",
    "ad_svi_res = ad_svi_gp.fit(x_tr, y_tr, num_inputs=ind_num, optimizer_options=opts, inputs=inputs)"
   ]
  },
  {
   "cell_type": "code",
   "execution_count": 24,
   "metadata": {
    "collapsed": true
   },
   "outputs": [],
   "source": [
    "metric = lambda w: ad_svi_gp.get_prediction_quality(w, x_test, y_test)\n",
    "ad_svi_xi_lst, ad_svi_xt_lst, ad_svi_y_lst = ad_svi_res.plot_performance(metric, 'it', freq=5)"
   ]
  },
  {
   "cell_type": "code",
   "execution_count": 26,
   "metadata": {
    "collapsed": false
   },
   "outputs": [
    {
     "data": {
      "image/png": "[encoded data removed]",
      "text/plain": [
       "<matplotlib.figure.Figure at 0x10ec058d0>"
      ]
     },
     "metadata": {},
     "output_type": "display_data"
    }
   ],
   "source": [
    "plot_results(ad_svi_xi_lst, ad_svi_xt_lst, ad_svi_y_lst, '-ro', 'svi-L-BFGS-B')"
   ]
  },
  {
   "cell_type": "code",
   "execution_count": 27,
   "metadata": {
    "collapsed": false
   },
   "outputs": [
    {
     "data": {
      "text/plain": [
       "0.71986503849369865"
      ]
     },
     "execution_count": 27,
     "metadata": {},
     "output_type": "execute_result"
    }
   ],
   "source": [
    "ad_svi_y_lst[-1]"
   ]
  },
  {
   "cell_type": "code",
   "execution_count": 28,
   "metadata": {
    "collapsed": true
   },
   "outputs": [],
   "source": [
    "np.save('../plots/regression_revision/' + data_name +'/' + data_name + '_ad_svi_xi.npy', ad_svi_xi_lst)\n",
    "np.save('../plots/regression_revision/' + data_name +'/' + data_name + '_ad_svi_xt.npy', ad_svi_xt_lst)\n",
    "np.save('../plots/regression_revision/' + data_name +'/' + data_name + '_ad_svi_y.npy', ad_svi_y_lst)"
   ]
  },
  {
   "cell_type": "markdown",
   "metadata": {},
   "source": [
    "###SG-cholesky\n",
    "Stochastic gradient descent."
   ]
  },
  {
   "cell_type": "code",
   "execution_count": 50,
   "metadata": {
    "collapsed": true
   },
   "outputs": [],
   "source": [
    "model_covariance_obj = SquaredExponential(np.copy(cov_params))\n",
    "sg_svi_gp = GPR(model_covariance_obj, method='svi', parametrization='cholesky', optimizer='SG')"
   ]
  },
  {
   "cell_type": "code",
   "execution_count": 51,
   "metadata": {
    "collapsed": true
   },
   "outputs": [
    {
     "name": "stdout",
     "output_type": "stream",
     "text": [
      "Epoch  0 :\n",
      "\tStep: 0.9\n",
      "\tParameters [ 0.93607452  4.99467501]\n",
      "Epoch  50 :\n",
      "\tStep: 0.411574546735\n",
      "\tParameters [ 0.77027713  4.30147237]\n",
      "Epoch  100 :\n",
      "\tStep: 0.358296453498\n",
      "\tParameters [ 0.74677996  3.38752211]\n",
      "Epoch  150 :\n",
      "\tStep: 0.330387994426\n",
      "\tParameters [ 0.547927    2.50578272]\n",
      "Epoch  200 :\n",
      "\tStep: 0.31191517942\n",
      "\tParameters [ 0.51191089  2.12875498]\n",
      "Epoch  250 :\n",
      "\tStep: 0.298300861561\n",
      "\tParameters [ 0.47742466  2.08897393]\n",
      "Epoch  300 :\n",
      "\tStep: 0.287619454654\n",
      "\tParameters [ 0.48513934  2.01026677]\n"
     ]
    }
   ],
   "source": [
    "opts = {'maxiter':350, 'batch_size': 200 , 'print_freq': 50, 'step0': 9e-1, 'gamma': .2}\n",
    "sg_svi_res = sg_svi_gp.fit(x_tr, y_tr, num_inputs=ind_num, optimizer_options=opts, inputs=inputs)"
   ]
  },
  {
   "cell_type": "code",
   "execution_count": 52,
   "metadata": {
    "collapsed": true
   },
   "outputs": [],
   "source": [
    "metric = lambda w: sg_svi_gp.get_prediction_quality(w, x_test, y_test)\n",
    "sg_svi_x_lst, sg_svi_y_lst = sg_svi_res.plot_performance(metric, 'i', freq=5)"
   ]
  },
  {
   "cell_type": "code",
   "execution_count": 53,
   "metadata": {
    "collapsed": false
   },
   "outputs": [
    {
     "data": {
      "text/plain": [
       "<matplotlib.text.Text at 0x10e5fe390>"
      ]
     },
     "execution_count": 53,
     "metadata": {},
     "output_type": "execute_result"
    },
    {
     "data": {
      "image/png": "[encoded data removed]",
      "text/plain": [
       "<matplotlib.figure.Figure at 0x10e641518>"
      ]
     },
     "metadata": {},
     "output_type": "display_data"
    }
   ],
   "source": [
    "plt.plot(sg_svi_x_lst, sg_svi_y_lst, '-ro', label='svi-SG')\n",
    "plt.ylim([.6, .75])\n",
    "plt.legend(loc=4)\n",
    "plt.xlabel('Iterations')\n",
    "plt.ylabel('r2 score on test-set')"
   ]
  },
  {
   "cell_type": "code",
   "execution_count": 54,
   "metadata": {
    "collapsed": false
   },
   "outputs": [
    {
     "data": {
      "text/plain": [
       "0.72243899142010704"
      ]
     },
     "execution_count": 54,
     "metadata": {},
     "output_type": "execute_result"
    }
   ],
   "source": [
    "sg_svi_y_lst[-1]"
   ]
  },
  {
   "cell_type": "code",
   "execution_count": 62,
   "metadata": {
    "collapsed": true
   },
   "outputs": [],
   "source": [
    "np.save('../plots/regression_revision/mg/'+ data_name +'_sg_svi_x.npy', sg_svi_x_lst)\n",
    "np.save('../plots/regression_revision/mg/'+ data_name +'_sg_svi_y.npy', sg_svi_y_lst)"
   ]
  },
  {
   "cell_type": "markdown",
   "metadata": {},
   "source": [
    "### SG-Natural\n",
    "Stochastic gradient descent with natural gradients with respect to the variational parameters."
   ]
  },
  {
   "cell_type": "code",
   "execution_count": 5,
   "metadata": {
    "collapsed": false
   },
   "outputs": [],
   "source": [
    "model_covariance_obj = SquaredExponential(np.copy(cov_params))\n",
    "sng_svi_gp = GPR(model_covariance_obj, method='svi', parametrization='natural')"
   ]
  },
  {
   "cell_type": "code",
   "execution_count": 6,
   "metadata": {
    "collapsed": true
   },
   "outputs": [
    {
     "name": "stdout",
     "output_type": "stream",
     "text": [
      "Epoch  0 :\n",
      "\tStep: 1.0\n",
      "\tParameters [ 0.91165161  5.00644796]\n",
      "Epoch  50 :\n",
      "\tStep: 0.457305051927\n",
      "\tParameters [ 0.78975459  4.59049934]\n",
      "Epoch  100 :\n",
      "\tStep: 0.398107170553\n",
      "\tParameters [ 0.69403802  4.07710014]\n",
      "Epoch  150 :\n",
      "\tStep: 0.367097771585\n",
      "\tParameters [ 0.63201589  3.43030459]\n",
      "Epoch  200 :\n",
      "\tStep: 0.346572421578\n",
      "\tParameters [ 0.52517491  2.76214506]\n",
      "Epoch  250 :\n",
      "\tStep: 0.331445401734\n",
      "\tParameters [ 0.45067977  2.31362412]\n",
      "Epoch  300 :\n",
      "\tStep: 0.319577171838\n",
      "\tParameters [ 0.47622396  2.20126248]\n",
      "Epoch  350 :\n",
      "\tStep: 0.309874893939\n",
      "\tParameters [ 0.43762054  2.17138648]\n",
      "Epoch  400 :\n",
      "\tStep: 0.301708816827\n",
      "\tParameters [ 0.49007303  2.10860289]\n",
      "Epoch  450 :\n",
      "\tStep: 0.294684638481\n",
      "\tParameters [ 0.44315544  2.06131589]\n",
      "Epoch  500 :\n",
      "\tStep: 0.288539981181\n",
      "\tParameters [ 0.45024158  2.04163324]\n",
      "Epoch  550 :\n",
      "\tStep: 0.283091912294\n",
      "\tParameters [ 0.49522669  2.00647345]\n",
      "Epoch  600 :\n",
      "\tStep: 0.27820808696\n",
      "\tParameters [ 0.43461472  2.02573937]\n",
      "Epoch  650 :\n",
      "\tStep: 0.273789840442\n",
      "\tParameters [ 0.44709421  2.03369267]\n",
      "Epoch  700 :\n",
      "\tStep: 0.26976176347\n",
      "\tParameters [ 0.40689609  1.98784933]\n",
      "Epoch  750 :\n",
      "\tStep: 0.266064999426\n",
      "\tParameters [ 0.45550468  1.99825199]\n",
      "Epoch  800 :\n",
      "\tStep: 0.26265278044\n",
      "\tParameters [ 0.45210972  1.98523137]\n",
      "Epoch  850 :\n",
      "\tStep: 0.259487364339\n",
      "\tParameters [ 0.46964972  1.96084055]\n",
      "Epoch  900 :\n",
      "\tStep: 0.256537878024\n",
      "\tParameters [ 0.46199235  1.94436125]\n",
      "Epoch  950 :\n",
      "\tStep: 0.253778764626\n",
      "\tParameters [ 0.45071397  1.93815492]\n"
     ]
    }
   ],
   "source": [
    "opts = {'maxiter':1000, 'batch_size': 300 , 'print_freq': 50, 'step0': 1., 'gamma': 0.2}\n",
    "sng_svi_res = sng_svi_gp.fit(x_tr, y_tr, num_inputs=ind_num, optimizer_options=opts, inputs=inputs)"
   ]
  },
  {
   "cell_type": "code",
   "execution_count": 7,
   "metadata": {
    "collapsed": false
   },
   "outputs": [],
   "source": [
    "metric = lambda w: sng_svi_gp.get_prediction_quality(w, x_test, y_test)\n",
    "sng_svi_x_lst, sng_svi_y_lst = sng_svi_res.plot_performance(metric, 'i', freq=10)"
   ]
  },
  {
   "cell_type": "code",
   "execution_count": 8,
   "metadata": {
    "collapsed": false,
    "scrolled": true
   },
   "outputs": [
    {
     "data": {
      "text/plain": [
       "<matplotlib.text.Text at 0x10ddb4f28>"
      ]
     },
     "execution_count": 8,
     "metadata": {},
     "output_type": "execute_result"
    },
    {
     "data": {
      "image/png": "[encoded data removed]",
      "text/plain": [
       "<matplotlib.figure.Figure at 0x10d9ebc88>"
      ]
     },
     "metadata": {},
     "output_type": "display_data"
    }
   ],
   "source": [
    "plt.plot(sng_svi_x_lst, sng_svi_y_lst, '-yo', label='svi-natural')\n",
    "plt.ylim([.6, .75])\n",
    "plt.legend(loc=4)\n",
    "plt.xlabel('Iterations')\n",
    "plt.ylabel('r2 score on test-set')"
   ]
  },
  {
   "cell_type": "code",
   "execution_count": 10,
   "metadata": {
    "collapsed": false
   },
   "outputs": [
    {
     "data": {
      "text/plain": [
       "0.71536557341226747"
      ]
     },
     "execution_count": 10,
     "metadata": {},
     "output_type": "execute_result"
    }
   ],
   "source": [
    "sng_svi_y_lst[-1]"
   ]
  },
  {
   "cell_type": "code",
   "execution_count": 11,
   "metadata": {
    "collapsed": false
   },
   "outputs": [
    {
     "data": {
      "text/plain": [
       "0.71967830932321486"
      ]
     },
     "execution_count": 11,
     "metadata": {},
     "output_type": "execute_result"
    }
   ],
   "source": [
    "np.max(sng_svi_y_lst)"
   ]
  },
  {
   "cell_type": "code",
   "execution_count": 12,
   "metadata": {
    "collapsed": true
   },
   "outputs": [],
   "source": [
    "np.save('../plots/regression_revision/mg/'+ data_name +'_sng_svi_x.npy', sng_svi_x_lst)\n",
    "np.save('../plots/regression_revision/mg/'+ data_name +'_sng_svi_y.npy', sng_svi_y_lst)"
   ]
  },
  {
   "cell_type": "markdown",
   "metadata": {},
   "source": [
    "### CliminSG-Natural"
   ]
  },
  {
   "cell_type": "code",
   "execution_count": 103,
   "metadata": {
    "collapsed": false
   },
   "outputs": [],
   "source": [
    "model_covariance_obj = SquaredExponential(np.copy(cov_params))\n",
    "sng_svi_gp = GPR(model_covariance_obj, method='svi', parametrization='natural', optimizer='climinSG')"
   ]
  },
  {
   "cell_type": "code",
   "execution_count": 104,
   "metadata": {
    "collapsed": true
   },
   "outputs": [
    {
     "name": "stdout",
     "output_type": "stream",
     "text": [
      "Using SG optimizer\n",
      "Iteration  49 :\n",
      "\tGradient norm 0.149908007574\n",
      "Iteration  99 :\n",
      "\tGradient norm 0.0654812519667\n",
      "Iteration  149 :\n",
      "\tGradient norm 0.360225973413\n",
      "Iteration  199 :\n",
      "\tGradient norm 0.0970290819474\n",
      "Iteration  249 :\n",
      "\tGradient norm 0.0890386773958\n",
      "Iteration  298 :\n",
      "\tGradient norm 0.283815006953\n",
      "Iteration  348 :\n",
      "\tGradient norm 0.123503594917\n",
      "Iteration  398 :\n",
      "\tGradient norm 0.397674795209\n",
      "Iteration  448 :\n",
      "\tGradient norm 0.261698309459\n",
      "Iteration  498 :\n",
      "\tGradient norm 0.272728228746\n",
      "Iteration  548 :\n",
      "\tGradient norm 0.159842478148\n",
      "Iteration  597 :\n",
      "\tGradient norm 0.444490812047\n",
      "Iteration  647 :\n",
      "\tGradient norm 0.176507266489\n",
      "Iteration  697 :\n",
      "\tGradient norm 0.269465544295\n",
      "Iteration  747 :\n",
      "\tGradient norm 0.33462374751\n",
      "Iteration  797 :\n",
      "\tGradient norm 0.460831099097\n",
      "Iteration  846 :\n",
      "\tGradient norm 0.0743889842655\n",
      "Iteration  896 :\n",
      "\tGradient norm 0.417286247665\n",
      "Iteration  946 :\n",
      "\tGradient norm 0.177919282466\n",
      "Iteration  996 :\n",
      "\tGradient norm 0.372185877634\n"
     ]
    }
   ],
   "source": [
    "opts = {'mydisp': True, 'print_freq': 50, 'step_rate': 3e-1,\n",
    "                'maxiter': 1000, 'batch_size': 300 }\n",
    "sng_svi_res = sng_svi_gp.fit(x_tr, y_tr, num_inputs=ind_num, optimizer_options=opts, inputs=inputs)"
   ]
  },
  {
   "cell_type": "code",
   "execution_count": 105,
   "metadata": {
    "collapsed": false
   },
   "outputs": [],
   "source": [
    "metric = lambda w: sng_svi_gp.get_prediction_quality(w, x_test, y_test)\n",
    "sng_svi_x_lst, sng_svi_y_lst = sng_svi_res.plot_performance(metric, 'i', freq=10)"
   ]
  },
  {
   "cell_type": "code",
   "execution_count": 106,
   "metadata": {
    "collapsed": false
   },
   "outputs": [
    {
     "data": {
      "text/plain": [
       "<matplotlib.text.Text at 0x11403a240>"
      ]
     },
     "execution_count": 106,
     "metadata": {},
     "output_type": "execute_result"
    },
    {
     "data": {
      "image/png": "[encoded data removed]",
      "text/plain": [
       "<matplotlib.figure.Figure at 0x1152769e8>"
      ]
     },
     "metadata": {},
     "output_type": "display_data"
    }
   ],
   "source": [
    "plt.plot(sng_svi_x_lst, sng_svi_y_lst, '-yo', label='svi-natural')\n",
    "plt.ylim([.6, .75])\n",
    "plt.legend(loc=4)\n",
    "plt.xlabel('Iterations')\n",
    "plt.ylabel('r2 score on test-set')"
   ]
  },
  {
   "cell_type": "markdown",
   "metadata": {},
   "source": [
    "as we can see the problem is not about my implementation of sgd."
   ]
  },
  {
   "cell_type": "markdown",
   "metadata": {
    "collapsed": true
   },
   "source": [
    "### SG-Natural-ss\n",
    "This method uses natural gradients for svi wrt variational parameters as svi-natural does. But this method chooses separate step-length for the to types of parameters it optimizes."
   ]
  },
  {
   "cell_type": "code",
   "execution_count": 108,
   "metadata": {
    "collapsed": true
   },
   "outputs": [],
   "source": [
    "model_covariance_obj = SquaredExponential(np.copy(cov_params))\n",
    "ss_sng_svi_gp = GPR(model_covariance_obj, method='svi', parametrization='natural', optimizer='climinSG')"
   ]
  },
  {
   "cell_type": "code",
   "execution_count": 109,
   "metadata": {
    "collapsed": true
   },
   "outputs": [
    {
     "name": "stdout",
     "output_type": "stream",
     "text": [
      "6.0\n",
      "Using SG optimizer\n",
      "Iteration  49 :\n",
      "\tGradient norm 0.461194613137\n",
      "Iteration  99 :\n",
      "\tGradient norm 0.572049385082\n",
      "Iteration  149 :\n",
      "\tGradient norm 0.509330767005\n",
      "Iteration  199 :\n",
      "\tGradient norm 0.34443677774\n",
      "Iteration  249 :\n",
      "\tGradient norm 0.335735876355\n",
      "Iteration  298 :\n",
      "\tGradient norm 0.784407144336\n",
      "Iteration  348 :\n",
      "\tGradient norm 0.339012363417\n",
      "Iteration  398 :\n",
      "\tGradient norm 0.457218056751\n",
      "Iteration  448 :\n",
      "\tGradient norm 0.4351783604\n",
      "Iteration  498 :\n",
      "\tGradient norm 0.524961013292\n"
     ]
    }
   ],
   "source": [
    "opts = {'mydisp': True, 'print_freq': 50, 'step_rate': .4,\n",
    "                'maxiter': 500, 'batch_size': 300, 'nat_mult': 6.}\n",
    "ss_sng_svi_res = ss_sng_svi_gp.fit(x_tr, y_tr, num_inputs=ind_num, optimizer_options=opts, inputs=inputs)"
   ]
  },
  {
   "cell_type": "code",
   "execution_count": 110,
   "metadata": {
    "collapsed": false
   },
   "outputs": [],
   "source": [
    "metric = lambda w: ss_sng_svi_gp.get_prediction_quality(w, x_test, y_test)\n",
    "ss_sng_svi_x_lst, ss_sng_svi_y_lst = ss_sng_svi_res.plot_performance(metric, 'i', freq=10)"
   ]
  },
  {
   "cell_type": "code",
   "execution_count": 111,
   "metadata": {
    "collapsed": false
   },
   "outputs": [
    {
     "data": {
      "text/plain": [
       "<matplotlib.text.Text at 0x11c3dce10>"
      ]
     },
     "execution_count": 111,
     "metadata": {},
     "output_type": "execute_result"
    },
    {
     "data": {
      "image/png": "[encoded data removed]",
      "text/plain": [
       "<matplotlib.figure.Figure at 0x11c20bb00>"
      ]
     },
     "metadata": {},
     "output_type": "display_data"
    }
   ],
   "source": [
    "plt.plot(ss_sng_svi_x_lst, ss_sng_svi_y_lst, '-co', label='svi-natural-ss')\n",
    "plt.ylim([.6, .75])\n",
    "plt.legend(loc=4)\n",
    "plt.xlabel('Iterations')\n",
    "plt.ylabel('r2 score on test-set')"
   ]
  },
  {
   "cell_type": "code",
   "execution_count": 112,
   "metadata": {
    "collapsed": true
   },
   "outputs": [],
   "source": [
    "np.save('../plots/regression_revision/mg/'+ data_name +'_ss_sng_svi_x.npy', ss_sng_svi_x_lst)\n",
    "np.save('../plots/regression_revision/mg/'+ data_name +'_ss_sng_svi_y.npy', ss_sng_svi_y_lst)"
   ]
  },
  {
   "cell_type": "markdown",
   "metadata": {},
   "source": [
    "# Stochastic methods"
   ]
  },
  {
   "cell_type": "code",
   "execution_count": 90,
   "metadata": {
    "collapsed": false
   },
   "outputs": [],
   "source": [
    "ad_svi_x_lst = np.load('../plots/regression_revision/mg/'+ data_name +'_ad_svi_x.npy')\n",
    "ad_svi_y_lst = np.load('../plots/regression_revision/mg/'+ data_name +'_ad_svi_y.npy')\n",
    "sng_svi_x_lst = np.load('../plots/regression_revision/mg/'+ data_name +'_sng_svi_x.npy')\n",
    "sng_svi_y_lst = np.load('../plots/regression_revision/mg/'+ data_name +'_sng_svi_y.npy')\n",
    "sg_svi_x_lst = np.load('../plots/regression_revision/mg/'+ data_name +'_sg_svi_x.npy')\n",
    "sg_svi_y_lst = np.load('../plots/regression_revision/mg/'+ data_name +'_sg_svi_y.npy')\n",
    "ss_sng_svi_x_lst = np.load('../plots/regression_revision/mg/'+ data_name +'_ss_sng_svi_x.npy')\n",
    "ss_sng_svi_y_lst = np.load('../plots/regression_revision/mg/'+ data_name +'_ss_sng_svi_y.npy')"
   ]
  },
  {
   "cell_type": "code",
   "execution_count": 91,
   "metadata": {
    "collapsed": false
   },
   "outputs": [
    {
     "data": {
      "text/plain": [
       "<matplotlib.text.Text at 0x11b79e198>"
      ]
     },
     "execution_count": 91,
     "metadata": {},
     "output_type": "execute_result"
    },
    {
     "data": {
      "image/png": "[encoded data removed]",
      "text/plain": [
       "<matplotlib.figure.Figure at 0x11b6ef6a0>"
      ]
     },
     "metadata": {},
     "output_type": "display_data"
    }
   ],
   "source": [
    "plt.plot(ad_svi_x_lst, ad_svi_y_lst, '-mo', label='svi-AdaDelta')\n",
    "plt.plot(sg_svi_x_lst, sg_svi_y_lst, '-ro', label='svi-SG')\n",
    "plt.plot(sng_svi_x_lst, sng_svi_y_lst, '-yo', label='svi-natural')\n",
    "plt.plot(ss_sng_svi_x_lst, ss_sng_svi_y_lst, '-co', label='svi-natural-ss')\n",
    "plt.ylim([.6, .75])\n",
    "plt.legend(loc=4)\n",
    "plt.xlabel('Iterations')\n",
    "plt.ylabel('r2 score on test-set')"
   ]
  },
  {
   "cell_type": "code",
   "execution_count": null,
   "metadata": {
    "collapsed": true
   },
   "outputs": [],
   "source": []
  }
 ],
 "metadata": {
  "kernelspec": {
   "display_name": "Python 3",
   "language": "python",
   "name": "python3"
  },
  "language_info": {
   "codemirror_mode": {
    "name": "ipython",
    "version": 3
   },
   "file_extension": ".py",
   "mimetype": "text/x-python",
   "name": "python",
   "nbconvert_exporter": "python",
   "pygments_lexer": "ipython3",
   "version": "3.4.3"
  }
 },
 "nbformat": 4,
 "nbformat_minor": 0
}
