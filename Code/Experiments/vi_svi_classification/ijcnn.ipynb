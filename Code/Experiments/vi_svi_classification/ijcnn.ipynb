{
 "cells": [
  {
   "cell_type": "markdown",
   "metadata": {},
   "source": [
    "# IJCNN"
   ]
  },
  {
   "cell_type": "code",
   "execution_count": 1,
   "metadata": {
    "collapsed": false
   },
   "outputs": [],
   "source": [
    "import sys\n",
    "sys.path.append('/Users/IzmailovPavel/Documents/Education/Course Project/Code')\n",
    "import numpy as np\n",
    "import matplotlib as mpl\n",
    "\n",
    "from matplotlib import pyplot as plt\n",
    "\n",
    "from GP.covariance_functions import SquaredExponential\n",
    "from GP.gaussian_process_classification import GPC\n",
    "\n",
    "from sklearn.cluster import KMeans\n",
    "\n",
    "from vi_svi_class_experiments import run_methods\n",
    "from sklearn.datasets import load_svmlight_file\n",
    "from sklearn.preprocessing import StandardScaler\n",
    "from sklearn.utils import shuffle\n",
    "%matplotlib inline\n",
    "%load_ext autoreload\n",
    "%autoreload 2"
   ]
  },
  {
   "cell_type": "markdown",
   "metadata": {},
   "source": [
    "## Данные"
   ]
  },
  {
   "cell_type": "code",
   "execution_count": 2,
   "metadata": {
    "collapsed": false
   },
   "outputs": [
    {
     "name": "stdout",
     "output_type": "stream",
     "text": [
      "of objects: 35000\n",
      "of features: 22\n",
      "ijcnn\n"
     ]
    }
   ],
   "source": [
    "x_tr, y_tr = load_svmlight_file('../../../../Programming/DataSets/Classification/ijcnn1(49990,22).txt')\n",
    "x_tr, y_tr = shuffle(x_tr, y_tr, random_state=241)\n",
    "x_test, y_test = load_svmlight_file('../../../../Programming/DataSets/Classification/ijcnn1_test(91701,22).txt')\n",
    "x_test, y_test = shuffle(x_test, y_test, random_state=230)\n",
    "x_test = x_test[:8000, :]\n",
    "y_test = y_test[:8000]\n",
    "data_name = 'ijcnn'\n",
    "\n",
    "x_tr = x_tr.toarray()\n",
    "x_test = x_test.toarray()\n",
    "scaler = StandardScaler()\n",
    "x_tr = scaler.fit_transform(x_tr).T\n",
    "x_test = scaler.transform(x_test).T\n",
    "\n",
    "x_tr = (x_tr + 1) / 2\n",
    "x_test = (x_test + 1) / 2\n",
    "y_tr = y_tr[:, None]\n",
    "y_test = y_test[:, None]\n",
    "y_tr[y_tr == 0] = -1\n",
    "y_test[y_test == 0] = -1\n",
    "dim, num = x_tr.shape\n",
    "\n",
    "print('of objects:', num)\n",
    "print('of features:', dim)\n",
    "print(data_name)"
   ]
  },
  {
   "cell_type": "markdown",
   "metadata": {},
   "source": [
    "## K-Means cluster centers"
   ]
  },
  {
   "cell_type": "code",
   "execution_count": 3,
   "metadata": {
    "collapsed": false
   },
   "outputs": [
    {
     "name": "stdout",
     "output_type": "stream",
     "text": [
      "Finding means...\n",
      "...found\n"
     ]
    }
   ],
   "source": [
    "ind_num = 100\n",
    "print('Finding means...')\n",
    "means = KMeans(n_clusters=ind_num, n_init=3, max_iter=100, random_state=241)\n",
    "means.fit(x_tr.T)\n",
    "inputs = means.cluster_centers_.T\n",
    "print('...found')"
   ]
  },
  {
   "cell_type": "code",
   "execution_count": 4,
   "metadata": {
    "collapsed": true
   },
   "outputs": [],
   "source": [
    "cov_params = np.array([10., 20., .1])"
   ]
  },
  {
   "cell_type": "markdown",
   "metadata": {},
   "source": [
    "## svi-L-BFGS-B-c method"
   ]
  },
  {
   "cell_type": "code",
   "execution_count": 25,
   "metadata": {
    "collapsed": true
   },
   "outputs": [],
   "source": [
    "model_covariance_obj = SquaredExponential(np.copy(cov_params))\n",
    "svi_gp = GPC(model_covariance_obj, method='svi')"
   ]
  },
  {
   "cell_type": "code",
   "execution_count": 26,
   "metadata": {
    "collapsed": true
   },
   "outputs": [
    {
     "name": "stdout",
     "output_type": "stream",
     "text": [
      "Hyper-parameters at iteration 0 : [ 10.   20.    0.1   0.    0. ]\n",
      "Hyper-parameters at iteration 1 : [  1.00012780e+01   1.99962267e+01   5.21819681e-01  -1.94654840e-02\n",
      "  -1.16229340e-01]\n",
      "Hyper-parameters at iteration 2 : [  9.97990063  19.99353314   0.26460446  -0.16966981  -0.80989622]\n",
      "Hyper-parameters at iteration 3 : [  9.97719232  19.98869996   0.17598408  -0.24182403  -1.10739343]\n",
      "Hyper-parameters at iteration 4 : [  9.97600085  19.98146191   0.18842116  -0.33011074  -1.46743958]\n",
      "Hyper-parameters at iteration 5 : [  9.97489348  19.96836291   0.25521643  -0.50467553  -2.017685  ]\n",
      "Hyper-parameters at iteration 6 : [  9.97317512  19.96001146   0.30293724  -0.62669944  -2.37578314]\n",
      "Hyper-parameters at iteration 7 : [  9.96326233  19.95646978   0.35718086  -0.75153444  -2.65966918]\n",
      "Hyper-parameters at iteration 8 : [  9.94289454  19.95852747   0.41738041  -0.88098186  -2.87899368]\n",
      "Hyper-parameters at iteration 9 : [  9.91021956  19.96643017   0.4871981   -1.02428466  -3.0484954 ]\n",
      "Hyper-parameters at iteration 10 : [  9.86817228  19.97973517   0.55670492  -1.16542774  -3.13369697]\n",
      "Hyper-parameters at iteration 11 : [  9.81598375  19.99898002   0.62077091  -1.30464267  -3.1118515 ]\n",
      "Hyper-parameters at iteration 12 : [  9.74212021  20.02667978   0.67019545  -1.49823596  -3.01732297]\n",
      "Hyper-parameters at iteration 13 : [  9.59095188  20.08075935   0.6996792   -1.93630435  -2.84068874]\n",
      "Hyper-parameters at iteration 14 : [  9.36543772  20.14469252   0.69814119  -2.80589952  -3.38355371]\n",
      "Hyper-parameters at iteration 15 : [  9.24884664  20.18376406   0.67493271  -3.24996378  -2.98742487]\n",
      "Hyper-parameters at iteration 16 : [  9.27381121  20.15850826   0.50935145  -3.65544248  -2.66990861]\n",
      "Hyper-parameters at iteration 17 : [  9.39447083  20.09431613   0.30091886  -3.76820773  -2.79037291]\n",
      "Hyper-parameters at iteration 18 : [  9.41097764  20.09432723   0.36268703  -3.54754447  -2.91326091]\n",
      "Hyper-parameters at iteration 19 : [  9.43333827  20.0843643    0.3495533   -3.51908076  -2.88248716]\n",
      "Hyper-parameters at iteration 20 : [  9.50220163  20.05335323   0.32775861  -3.41349432  -2.79931901]\n",
      "Hyper-parameters at iteration 21 : [  9.60623203  20.00432578   0.31216465  -3.25981011  -2.71792663]\n",
      "Hyper-parameters at iteration 22 : [  9.91741161  19.85056567   0.29381398  -2.86931428  -2.55783006]\n",
      "Hyper-parameters at iteration 23 : [ 10.2869501   19.65593311   0.31152422  -2.58886229  -2.49525693]\n",
      "Hyper-parameters at iteration 24 : [ 10.77643296  19.38722453   0.34219156  -2.14033042  -2.6019094 ]\n",
      "Hyper-parameters at iteration 25 : [ 10.85134124  19.31245485   0.43743898  -2.44666685  -2.75958837]\n",
      "Hyper-parameters at iteration 26 : [ 10.75247612  19.36306867   0.42819188  -2.44237588  -2.86097002]\n",
      "Hyper-parameters at iteration 27 : [ 10.92727189  19.2595039    0.42352193  -1.9829268   -2.78178885]\n",
      "Hyper-parameters at iteration 28 : [ 11.14375422  19.08406999   0.38587769  -1.49719446  -2.80527403]\n",
      "Hyper-parameters at iteration 29 : [ 11.246235    18.96619844   0.30343949  -1.46754232  -2.96700513]\n",
      "Hyper-parameters at iteration 30 : [ 11.39480996  18.74372775   0.19595627  -1.23736921  -2.95006585]\n",
      "Hyper-parameters at iteration 31 : [ 11.59029325  18.37603479   0.14151367  -1.05551494  -3.16178788]\n",
      "Hyper-parameters at iteration 32 : [ 11.57046741  18.38371598   0.12480433  -1.53682767  -3.13771216]\n",
      "Hyper-parameters at iteration 33 : [ 11.73306142  18.2722567    0.16325323  -1.62278568  -3.07857571]\n",
      "Hyper-parameters at iteration 34 : [ 11.92758906  18.08397511   0.11453803  -1.50954894  -3.08322475]\n",
      "Hyper-parameters at iteration 35 : [ 12.0811266   17.94767802   0.08147999  -1.3537012   -3.09007523]\n",
      "Hyper-parameters at iteration 36 : [ 12.29005124  17.77089791   0.06377609  -1.20891427  -3.12175875]\n",
      "Hyper-parameters at iteration 37 : [ 12.81874078  17.35000748   0.04412093  -0.85469146  -3.20232756]\n",
      "Hyper-parameters at iteration 38 : [ 13.17170987  17.02456678   0.03177555  -0.81631818  -3.38177854]\n",
      "Hyper-parameters at iteration 39 : [ 13.23420744  16.95994195   0.04782006  -0.87642641  -3.46242423]\n",
      "Hyper-parameters at iteration 40 : [ 13.24828928  16.90693489   0.03994893  -1.08143463  -3.51874381]\n",
      "Hyper-parameters at iteration 41 : [ 13.40087538  16.72526125   0.02775052  -1.19951587  -3.60851496]\n",
      "Hyper-parameters at iteration 42 : [ 13.45353867  16.62950809   0.02218807  -1.27507234  -3.6434924 ]\n",
      "Hyper-parameters at iteration 43 : [  1.37024522e+01   1.63912145e+01   1.09077701e-02  -1.25972122e+00\n",
      "  -3.67794123e+00]\n",
      "Hyper-parameters at iteration 44 : [  1.39022000e+01   1.61718237e+01   1.00000000e-02  -1.24336226e+00\n",
      "  -3.63282823e+00]\n",
      "Hyper-parameters at iteration 45 : [  1.38661902e+01   1.62474023e+01   1.00000000e-02  -1.13190025e+00\n",
      "  -3.47254520e+00]\n",
      "Hyper-parameters at iteration 46 : [ 13.91414437  16.16160459   0.02032372  -1.25349139  -3.43315879]\n",
      "Hyper-parameters at iteration 47 : [  1.41961899e+01   1.58944209e+01   1.00000000e-02  -1.13139363e+00\n",
      "  -3.45108475e+00]\n",
      "Hyper-parameters at iteration 48 : [  1.45073510e+01   1.55332612e+01   1.00000000e-02  -1.04450338e+00\n",
      "  -3.51786557e+00]\n",
      "Hyper-parameters at iteration 49 : [  1.52416598e+01   1.46994492e+01   1.00000000e-02  -8.82171701e-01\n",
      "  -3.50562275e+00]\n",
      "Hyper-parameters at iteration 50 : [  1.62537210e+01   1.34810510e+01   1.00000000e-02  -8.22044482e-01\n",
      "  -3.52877085e+00]\n",
      "Hyper-parameters at iteration 51 : [  1.86608879e+01   1.06686780e+01   1.00000000e-02  -6.74945073e-01\n",
      "  -3.70370528e+00]\n",
      "Hyper-parameters at iteration 52 : [  1.94717675e+01   9.62368253e+00   1.00000000e-02  -8.80655852e-01\n",
      "  -3.82620274e+00]\n",
      "Hyper-parameters at iteration 53 : [  1.93869075e+01   9.66819332e+00   1.00000000e-02  -1.12032326e+00\n",
      "  -3.92422063e+00]\n",
      "Hyper-parameters at iteration 54 : [  2.03790549e+01   8.41426197e+00   1.00000000e-02  -1.31225456e+00\n",
      "  -4.10653107e+00]\n",
      "Hyper-parameters at iteration 55 : [  2.00125173e+01   8.77463040e+00   1.00000000e-02  -1.54816348e+00\n",
      "  -4.16139322e+00]\n",
      "Hyper-parameters at iteration 56 : [  2.09888189e+01   7.53538637e+00   1.00000000e-02  -1.78639980e+00\n",
      "  -4.20495664e+00]\n",
      "Hyper-parameters at iteration 57 : [  1.98893517e+01   8.98007293e+00   1.00000000e-02  -1.39763186e+00\n",
      "  -3.97530998e+00]\n",
      "Hyper-parameters at iteration 58 : [  2.04827301e+01   8.21356697e+00   1.00000000e-02  -1.58198949e+00\n",
      "  -4.06047897e+00]\n",
      "Hyper-parameters at iteration 59 : [  2.07968361e+01   7.82198030e+00   1.00000000e-02  -1.76359205e+00\n",
      "  -4.06850405e+00]\n",
      "Hyper-parameters at iteration 60 : [  2.08745802e+01   7.80540810e+00   1.00000000e-02  -2.02328841e+00\n",
      "  -3.94958546e+00]\n",
      "Hyper-parameters at iteration 61 : [  2.08737212e+01   7.87614009e+00   1.00000000e-02  -2.08215814e+00\n",
      "  -3.93081093e+00]\n",
      "Hyper-parameters at iteration 62 : [  2.08960810e+01   7.92103964e+00   1.00000000e-02  -2.08081024e+00\n",
      "  -3.92608053e+00]\n",
      "Hyper-parameters at iteration 63 : [  2.09414168e+01   7.97144034e+00   1.00000000e-02  -2.11481912e+00\n",
      "  -3.92691539e+00]\n",
      "Hyper-parameters at iteration 64 : [  2.11868459e+01   7.91230476e+00   1.00000000e-02  -2.30753365e+00\n",
      "  -3.96508667e+00]\n",
      "Hyper-parameters at iteration 65 : [  2.13052946e+01   7.86814548e+00   1.00000000e-02  -2.37064451e+00\n",
      "  -4.00909918e+00]\n",
      "Hyper-parameters at iteration 66 : [  2.13289463e+01   7.84490452e+00   1.00000000e-02  -2.38491888e+00\n",
      "  -4.02234983e+00]\n",
      "Hyper-parameters at iteration 67 : [  2.14110750e+01   7.83639466e+00   1.00000000e-02  -2.40931095e+00\n",
      "  -4.07614581e+00]\n",
      "Hyper-parameters at iteration 68 : [  2.15077906e+01   7.79928562e+00   1.00000000e-02  -2.41937607e+00\n",
      "  -4.11408924e+00]\n",
      "Hyper-parameters at iteration 69 : [  2.16036276e+01   7.79210197e+00   1.00000000e-02  -2.40431351e+00\n",
      "  -4.16990898e+00]\n",
      "Hyper-parameters at iteration 70 : [  2.18166371e+01   7.77895069e+00   1.00000000e-02  -2.34749392e+00\n",
      "  -4.27656872e+00]\n",
      "Hyper-parameters at iteration 71 : [  2.19509020e+01   7.80828326e+00   1.00000000e-02  -2.27050484e+00\n",
      "  -4.34781326e+00]\n",
      "Hyper-parameters at iteration 72 : [  2.20090869e+01   7.83075193e+00   1.00000000e-02  -2.19562901e+00\n",
      "  -4.36847630e+00]\n",
      "Hyper-parameters at iteration 73 : [  2.20810233e+01   7.85686618e+00   1.00000000e-02  -2.08864696e+00\n",
      "  -4.37816922e+00]\n",
      "Hyper-parameters at iteration 74 : [  2.22007941e+01   7.84808478e+00   1.00000000e-02  -1.96569511e+00\n",
      "  -4.37277889e+00]\n",
      "Hyper-parameters at iteration 75 : [  2.23503984e+01   7.83447559e+00   1.00000000e-02  -1.84326455e+00\n",
      "  -4.36279630e+00]\n",
      "Hyper-parameters at iteration 76 : [  2.24844331e+01   7.81067564e+00   1.00000000e-02  -1.75727626e+00\n",
      "  -4.33389613e+00]\n",
      "Hyper-parameters at iteration 77 : [  2.26110921e+01   7.79194721e+00   1.00000000e-02  -1.70077757e+00\n",
      "  -4.30243287e+00]\n",
      "Hyper-parameters at iteration 78 : [  2.27045859e+01   7.80633719e+00   1.00000000e-02  -1.67229136e+00\n",
      "  -4.27406050e+00]\n",
      "Hyper-parameters at iteration 79 : [  2.28680984e+01   7.85787897e+00   1.00000000e-02  -1.62984834e+00\n",
      "  -4.21846345e+00]\n",
      "Hyper-parameters at iteration 80 : [  2.29572005e+01   7.89363415e+00   1.00000000e-02  -1.62372790e+00\n",
      "  -4.21364690e+00]\n",
      "Hyper-parameters at iteration 81 : [  2.29955112e+01   7.90799312e+00   1.00000000e-02  -1.62790848e+00\n",
      "  -4.21787561e+00]\n",
      "Hyper-parameters at iteration 82 : [  2.31313389e+01   7.93458745e+00   1.00000000e-02  -1.64286073e+00\n",
      "  -4.21716969e+00]\n",
      "Hyper-parameters at iteration 83 : [  2.32651806e+01   7.94555629e+00   1.00000000e-02  -1.66509340e+00\n",
      "  -4.20704567e+00]\n",
      "Hyper-parameters at iteration 84 : [  2.33732970e+01   7.94471765e+00   1.00000000e-02  -1.69019991e+00\n",
      "  -4.19423695e+00]\n",
      "Hyper-parameters at iteration 85 : [  2.36541554e+01   7.94581038e+00   1.00000000e-02  -1.74765892e+00\n",
      "  -4.15410508e+00]\n",
      "Hyper-parameters at iteration 86 : [  2.38279629e+01   7.98991731e+00   1.00000000e-02  -1.85239063e+00\n",
      "  -4.15803807e+00]\n",
      "Hyper-parameters at iteration 87 : [  2.37980636e+01   7.99004293e+00   1.00000000e-02  -1.84079075e+00\n",
      "  -4.15974552e+00]\n",
      "Hyper-parameters at iteration 88 : [  2.38179602e+01   8.01103809e+00   1.00000000e-02  -1.86033538e+00\n",
      "  -4.16702973e+00]\n",
      "Hyper-parameters at iteration 89 : [  2.38772748e+01   8.03902866e+00   1.00000000e-02  -1.89378301e+00\n",
      "  -4.17532431e+00]\n",
      "Hyper-parameters at iteration 90 : [  2.40014434e+01   8.07196716e+00   1.00000000e-02  -1.93609167e+00\n",
      "  -4.18546805e+00]\n",
      "Hyper-parameters at iteration 91 : [  2.40901812e+01   8.09041955e+00   1.00000000e-02  -1.95684605e+00\n",
      "  -4.19167067e+00]\n",
      "Hyper-parameters at iteration 92 : [  2.42267096e+01   8.10916238e+00   1.00000000e-02  -1.97959948e+00\n",
      "  -4.19276769e+00]\n",
      "Hyper-parameters at iteration 93 : [  2.43245690e+01   8.11996353e+00   1.00000000e-02  -1.98075403e+00\n",
      "  -4.18675947e+00]\n",
      "Hyper-parameters at iteration 94 : [  2.44951451e+01   8.13928929e+00   1.00000000e-02  -1.95954700e+00\n",
      "  -4.17026684e+00]\n",
      "Hyper-parameters at iteration 95 : [  2.46236995e+01   8.16062213e+00   1.00000000e-02  -1.94180611e+00\n",
      "  -4.15671665e+00]\n",
      "Hyper-parameters at iteration 96 : [  2.46634269e+01   8.17371612e+00   1.00000000e-02  -1.92657685e+00\n",
      "  -4.15317082e+00]\n",
      "Hyper-parameters at iteration 97 : [  2.47921112e+01   8.21414570e+00   1.00000000e-02  -1.88868692e+00\n",
      "  -4.15058388e+00]\n",
      "Hyper-parameters at iteration 98 : [  2.49223515e+01   8.24645316e+00   1.00000000e-02  -1.86454710e+00\n",
      "  -4.15445870e+00]\n",
      "Hyper-parameters at iteration 99 : [  2.50471843e+01   8.27364535e+00   1.00000000e-02  -1.84274537e+00\n",
      "  -4.16046100e+00]\n",
      "Hyper-parameters at iteration 100 : [  2.53446043e+01   8.33030622e+00   1.00000000e-02  -1.79658706e+00\n",
      "  -4.17309260e+00]\n",
      "Hyper-parameters at iteration 101 : [  2.54923513e+01   8.35410992e+00   1.00000000e-02  -1.75541153e+00\n",
      "  -4.17692702e+00]\n"
     ]
    }
   ],
   "source": [
    "opts = {'mode': 'full', 'maxiter': 100, 'mydisp': True}\n",
    "svi_res = svi_gp.fit(x_tr, y_tr, inputs=inputs, optimizer_options=opts)"
   ]
  },
  {
   "cell_type": "code",
   "execution_count": 28,
   "metadata": {
    "collapsed": false
   },
   "outputs": [],
   "source": [
    "metric = lambda w: svi_gp.get_prediction_quality(w, x_test, y_test)\n",
    "svi_x_lst, svi_y_lst = svi_res.plot_performance(metric, 't', freq=10)"
   ]
  },
  {
   "cell_type": "code",
   "execution_count": 29,
   "metadata": {
    "collapsed": false
   },
   "outputs": [
    {
     "data": {
      "text/plain": [
       "<matplotlib.text.Text at 0x10db04f28>"
      ]
     },
     "execution_count": 29,
     "metadata": {},
     "output_type": "execute_result"
    },
    {
     "data": {
      "image/png": "[encoded data removed]",
      "text/plain": [
       "<matplotlib.figure.Figure at 0x10db9d748>"
      ]
     },
     "metadata": {},
     "output_type": "display_data"
    }
   ],
   "source": [
    "plt.plot(svi_x_lst[1:], svi_y_lst[1:], '-gx', label='svi-L-BFGS-B-c')\n",
    "plt.ylim([0.85, .95])\n",
    "plt.legend()\n",
    "plt.xlabel('Seconds')\n",
    "plt.ylabel('Accuracy')"
   ]
  },
  {
   "cell_type": "markdown",
   "metadata": {},
   "source": [
    "## vi-means-c method\n",
    "Подбор числа пересчетов"
   ]
  },
  {
   "cell_type": "code",
   "execution_count": 31,
   "metadata": {
    "collapsed": true
   },
   "outputs": [
    {
     "name": "stdout",
     "output_type": "stream",
     "text": [
      "5\n",
      "Hyper-parameters at iteration 0 : [ 10.   20.    0.1]\n",
      "\tHyper-parameters at outter iteration 0 : [ 10.   20.    0.1]\n",
      "Hyper-parameters at iteration 0 : [ 10.   20.    0.1]\n",
      "Hyper-parameters at iteration 1 : [ 22.98070246  13.4171241    0.07036224]\n",
      "\tHyper-parameters at outter iteration 1 : [  2.38945599e+01   1.29453125e+01   1.00000000e-02]\n",
      "Hyper-parameters at iteration 0 : [  2.38945599e+01   1.29453125e+01   1.00000000e-02]\n",
      "Hyper-parameters at iteration 1 : [  2.42633333e+01   1.22886593e+01   1.00000000e-02]\n",
      "\tHyper-parameters at outter iteration 2 : [  2.55060059e+01   1.00758467e+01   1.00000000e-02]\n",
      "Hyper-parameters at iteration 0 : [  2.55060059e+01   1.00758467e+01   1.00000000e-02]\n",
      "Hyper-parameters at iteration 1 : [  2.53599060e+01   1.08521287e+01   1.00000000e-02]\n",
      "\tHyper-parameters at outter iteration 3 : [  2.53591311e+01   1.08562391e+01   1.00000000e-02]\n",
      "Hyper-parameters at iteration 0 : [  2.53591311e+01   1.08562391e+01   1.00000000e-02]\n",
      "Hyper-parameters at iteration 1 : [  2.53443732e+01   1.09338965e+01   1.00000000e-02]\n",
      "\tHyper-parameters at outter iteration 4 : [  2.53443924e+01   1.09337951e+01   1.00000000e-02]\n",
      "Hyper-parameters at iteration 0 : [  2.53443924e+01   1.09337951e+01   1.00000000e-02]\n",
      "Hyper-parameters at iteration 1 : [  2.53591075e+01   1.08900032e+01   1.00000000e-02]\n",
      "\tHyper-parameters at outter iteration 5 : [  2.53944160e+01   1.07849878e+01   1.00000000e-02]\n",
      "Hyper-parameters at iteration 0 : [  2.53944160e+01   1.07849878e+01   1.00000000e-02]\n",
      "\tHyper-parameters at outter iteration 6 : [  2.53944160e+01   1.07849878e+01   1.00000000e-02]\n",
      "\n",
      "10\n",
      "Hyper-parameters at iteration 0 : [ 10.   20.    0.1]\n",
      "\tHyper-parameters at outter iteration 0 : [ 10.   20.    0.1]\n",
      "Hyper-parameters at iteration 0 : [ 10.   20.    0.1]\n",
      "Hyper-parameters at iteration 1 : [ 15.38160179  17.26506581   0.08768664]\n",
      "Hyper-parameters at iteration 2 : [ 15.38164784  17.2650582    0.08768661]\n",
      "\tHyper-parameters at outter iteration 1 : [  1.22187083e+02   1.00000000e-02   1.00000000e-02]\n",
      "Hyper-parameters at iteration 0 : [  1.22187083e+02   1.00000000e-02   1.00000000e-02]\n",
      "Hyper-parameters at iteration 1 : [ 0.01  0.01  0.01]\n",
      "\tHyper-parameters at outter iteration 2 : [ 0.01  0.01  0.01]\n",
      "Hyper-parameters at iteration 0 : [ 0.01  0.01  0.01]\n",
      "\tHyper-parameters at outter iteration 3 : [ 0.01  0.01  0.01]\n",
      "Hyper-parameters at iteration 0 : [ 0.01  0.01  0.01]\n",
      "\tHyper-parameters at outter iteration 4 : [ 0.01  0.01  0.01]\n",
      "Hyper-parameters at iteration 0 : [ 0.01  0.01  0.01]\n",
      "\tHyper-parameters at outter iteration 5 : [ 0.01  0.01  0.01]\n",
      "Hyper-parameters at iteration 0 : [ 0.01  0.01  0.01]\n",
      "\tHyper-parameters at outter iteration 6 : [ 0.01  0.01  0.01]\n",
      "\n",
      "15\n",
      "Hyper-parameters at iteration 0 : [ 10.   20.    0.1]\n",
      "\tHyper-parameters at outter iteration 0 : [ 10.   20.    0.1]\n",
      "Hyper-parameters at iteration 0 : [ 10.   20.    0.1]\n",
      "Hyper-parameters at iteration 1 : [ 15.38160179  17.26506581   0.08768664]\n",
      "Hyper-parameters at iteration 2 : [ 15.38164784  17.2650582    0.08768661]\n",
      "\tHyper-parameters at outter iteration 1 : [ 15.38172234  17.26504616   0.08768655]\n",
      "Hyper-parameters at iteration 0 : [ 15.38172234  17.26504616   0.08768655]\n",
      "Hyper-parameters at iteration 1 : [ 24.54154355  13.63038526   0.07132239]\n",
      "Hyper-parameters at iteration 2 : [  2.31450238e+01   1.42057775e+01   1.00000000e-02]\n",
      "Hyper-parameters at iteration 3 : [  2.34888168e+01   1.40693899e+01   1.00000000e-02]\n",
      "Hyper-parameters at iteration 4 : [  2.38041939e+01   1.39443515e+01   1.00000000e-02]\n",
      "\tHyper-parameters at outter iteration 2 : [  2.38042051e+01   1.39443470e+01   1.00000000e-02]\n",
      "Hyper-parameters at iteration 0 : [  2.38042051e+01   1.39443470e+01   1.00000000e-02]\n",
      "\tHyper-parameters at outter iteration 3 : [  2.38042051e+01   1.39443470e+01   1.00000000e-02]\n",
      "Hyper-parameters at iteration 0 : [  2.38042051e+01   1.39443470e+01   1.00000000e-02]\n",
      "Hyper-parameters at iteration 1 : [  2.71320489e+01   1.19333562e+01   1.00000000e-02]\n",
      "Hyper-parameters at iteration 2 : [  2.71160764e+01   1.19430088e+01   1.00000000e-02]\n",
      "Hyper-parameters at iteration 3 : [  2.71160763e+01   1.19430089e+01   1.00000000e-02]\n",
      "\tHyper-parameters at outter iteration 4 : [  2.71160763e+01   1.19430089e+01   1.00000000e-02]\n",
      "Hyper-parameters at iteration 0 : [  2.71160763e+01   1.19430089e+01   1.00000000e-02]\n",
      "\tHyper-parameters at outter iteration 5 : [  2.71160763e+01   1.19430089e+01   1.00000000e-02]\n",
      "Hyper-parameters at iteration 0 : [  2.71160763e+01   1.19430089e+01   1.00000000e-02]\n",
      "Hyper-parameters at iteration 1 : [  2.71160765e+01   1.19430085e+01   1.00000000e-02]\n",
      "\tHyper-parameters at outter iteration 6 : [  2.71160765e+01   1.19430085e+01   1.00000000e-02]\n",
      "\n",
      "20\n",
      "Hyper-parameters at iteration 0 : [ 10.   20.    0.1]\n",
      "\tHyper-parameters at outter iteration 0 : [ 10.   20.    0.1]\n",
      "Hyper-parameters at iteration 0 : [ 10.   20.    0.1]\n",
      "Hyper-parameters at iteration 1 : [ 15.38160179  17.26506581   0.08768664]\n",
      "Hyper-parameters at iteration 2 : [ 15.38164784  17.2650582    0.08768661]\n",
      "Hyper-parameters at iteration 3 : [ 15.38172234  17.26504616   0.08768655]\n",
      "\tHyper-parameters at outter iteration 1 : [ 15.38172234  17.26504616   0.08768655]\n",
      "Hyper-parameters at iteration 0 : [ 15.38172234  17.26504616   0.08768655]\n",
      "Hyper-parameters at iteration 1 : [ 24.54154355  13.63038526   0.07132239]\n",
      "Hyper-parameters at iteration 2 : [  2.31450238e+01   1.42057775e+01   1.00000000e-02]\n",
      "Hyper-parameters at iteration 3 : [  2.34888168e+01   1.40693899e+01   1.00000000e-02]\n",
      "Hyper-parameters at iteration 4 : [  2.38041939e+01   1.39443515e+01   1.00000000e-02]\n",
      "\tHyper-parameters at outter iteration 2 : [  2.38041939e+01   1.39443515e+01   1.00000000e-02]\n",
      "Hyper-parameters at iteration 0 : [  2.38041939e+01   1.39443515e+01   1.00000000e-02]\n",
      "Hyper-parameters at iteration 1 : [  2.55689807e+01   1.27184316e+01   1.00000000e-02]\n",
      "Hyper-parameters at iteration 2 : [  2.61247228e+01   1.23323711e+01   1.00000000e-02]\n",
      "Hyper-parameters at iteration 3 : [  2.61202822e+01   1.23354570e+01   1.00000000e-02]\n",
      "\tHyper-parameters at outter iteration 3 : [  2.61202822e+01   1.23354570e+01   1.00000000e-02]\n",
      "Hyper-parameters at iteration 0 : [  2.61202822e+01   1.23354570e+01   1.00000000e-02]\n",
      "Hyper-parameters at iteration 1 : [  2.61202822e+01   1.23354570e+01   1.00000000e-02]\n",
      "\tHyper-parameters at outter iteration 4 : [  2.61202822e+01   1.23354570e+01   1.00000000e-02]\n",
      "Hyper-parameters at iteration 0 : [  2.61202822e+01   1.23354570e+01   1.00000000e-02]\n",
      "Hyper-parameters at iteration 1 : [  2.67294176e+01   1.16902603e+01   1.00000000e-02]\n",
      "\tHyper-parameters at outter iteration 5 : [  2.67294176e+01   1.16902603e+01   1.00000000e-02]\n",
      "Hyper-parameters at iteration 0 : [  2.67294176e+01   1.16902603e+01   1.00000000e-02]\n",
      "Hyper-parameters at iteration 1 : [  2.70074916e+01   1.12566220e+01   1.00000000e-02]\n",
      "Hyper-parameters at iteration 2 : [  2.69722223e+01   1.13116844e+01   1.00000000e-02]\n",
      "Hyper-parameters at iteration 3 : [  2.69750600e+01   1.13075336e+01   1.00000000e-02]\n",
      "Hyper-parameters at iteration 4 : [  2.69900849e+01   1.12844910e+01   1.00000000e-02]\n",
      "\tHyper-parameters at outter iteration 6 : [  2.69900849e+01   1.12844909e+01   1.00000000e-02]\n",
      "\n"
     ]
    },
    {
     "name": "stderr",
     "output_type": "stream",
     "text": [
      "/Users/IzmailovPavel/Documents/Education/Course Project/Code/GP/optimization.py:367: OptimizeWarning: Unknown solver options: num_recomputes\n",
      "  out = op.minimize(func, x0, jac=jac, callback=callback, **kwargs)\n"
     ]
    }
   ],
   "source": [
    "maxfuns = [5, 10, 15, 20]\n",
    "results = []\n",
    "for maxfun in maxfuns:\n",
    "    print(maxfun)\n",
    "    model_covariance_obj = SquaredExponential(np.copy(cov_params))\n",
    "    vi_gp = GPC(model_covariance_obj, method='vi')\n",
    "    opts = {'maxfun':maxfun, 'mydisp': True, 'num_updates':3}\n",
    "    results.append(vi_gp.fit(x_tr, y_tr, inputs=inputs, optimizer_options=opts, max_out_iter=7))\n",
    "    print()"
   ]
  },
  {
   "cell_type": "code",
   "execution_count": 37,
   "metadata": {
    "collapsed": false
   },
   "outputs": [
    {
     "name": "stdout",
     "output_type": "stream",
     "text": [
      "0\n",
      "1\n",
      "2\n",
      "3\n"
     ]
    },
    {
     "data": {
      "text/plain": [
       "<matplotlib.text.Text at 0x10df8c6a0>"
      ]
     },
     "execution_count": 37,
     "metadata": {},
     "output_type": "execute_result"
    },
    {
     "data": {
      "image/png": "[encoded data removed]",
      "text/plain": [
       "<matplotlib.figure.Figure at 0x10df68358>"
      ]
     },
     "metadata": {},
     "output_type": "display_data"
    }
   ],
   "source": [
    "metric = lambda w: vi_gp.get_prediction_quality(w, x_test, y_test)\n",
    "for i in range(len(maxfuns)):\n",
    "    vi_x_lst, vi_y_lst = results[i].plot_performance(metric, 't', freq=1)\n",
    "    plt.plot(vi_x_lst[1:], vi_y_lst[1:], label=maxfuns[i])\n",
    "    print(i)\n",
    "plt.ylim([0.85, 1.])\n",
    "plt.legend()\n",
    "plt.xlabel('Seconds')\n",
    "plt.ylabel('Accuracy')"
   ]
  },
  {
   "cell_type": "markdown",
   "metadata": {},
   "source": [
    "Обучение лучшего варианта"
   ]
  },
  {
   "cell_type": "code",
   "execution_count": 5,
   "metadata": {
    "collapsed": true
   },
   "outputs": [
    {
     "name": "stdout",
     "output_type": "stream",
     "text": [
      "Hyper-parameters at iteration 0 : [ 10.   20.    0.1]\n",
      "\tHyper-parameters at outter iteration 0 : [ 10.   20.    0.1]\n",
      "Hyper-parameters at iteration 0 : [ 10.   20.    0.1]\n",
      "Hyper-parameters at iteration 1 : [ 15.34724139  17.28252779   0.08776526]\n",
      "\tHyper-parameters at outter iteration 1 : [ 25.04423088  12.34747978   0.0630691 ]\n",
      "Hyper-parameters at iteration 0 : [ 25.04423088  12.34747978   0.0630691 ]\n",
      "Hyper-parameters at iteration 1 : [ 25.59073785  11.56181394   0.05410709]\n",
      "Hyper-parameters at iteration 2 : [  2.48322021e+01   1.26534443e+01   1.00000000e-02]\n",
      "\tHyper-parameters at outter iteration 2 : [  2.48345551e+01   1.26500577e+01   1.00000000e-02]\n",
      "Hyper-parameters at iteration 0 : [  2.48345551e+01   1.26500577e+01   1.00000000e-02]\n",
      "\tHyper-parameters at outter iteration 3 : [  2.48345551e+01   1.26500577e+01   1.00000000e-02]\n",
      "Hyper-parameters at iteration 0 : [  2.48345551e+01   1.26500577e+01   1.00000000e-02]\n",
      "\tHyper-parameters at outter iteration 4 : [  2.48345551e+01   1.26500577e+01   1.00000000e-02]\n",
      "Hyper-parameters at iteration 0 : [  2.48345551e+01   1.26500577e+01   1.00000000e-02]\n",
      "\tHyper-parameters at outter iteration 5 : [  2.48345615e+01   1.26500533e+01   1.00000000e-02]\n",
      "Hyper-parameters at iteration 0 : [  2.48345615e+01   1.26500533e+01   1.00000000e-02]\n",
      "\tHyper-parameters at outter iteration 6 : [  2.48345615e+01   1.26500533e+01   1.00000000e-02]\n",
      "Hyper-parameters at iteration 0 : [  2.48345615e+01   1.26500533e+01   1.00000000e-02]\n",
      "\tHyper-parameters at outter iteration 7 : [  2.48345615e+01   1.26500533e+01   1.00000000e-02]\n",
      "Hyper-parameters at iteration 0 : [  2.48345615e+01   1.26500533e+01   1.00000000e-02]\n",
      "Hyper-parameters at iteration 1 : [  2.77336796e+01   1.09362150e+01   1.00000000e-02]\n",
      "\tHyper-parameters at outter iteration 8 : [  2.76606797e+01   1.09792206e+01   1.00000000e-02]\n",
      "Hyper-parameters at iteration 0 : [  2.76606797e+01   1.09792206e+01   1.00000000e-02]\n",
      "Hyper-parameters at iteration 1 : [  2.76610039e+01   1.10785838e+01   1.00000000e-02]\n",
      "\tHyper-parameters at outter iteration 9 : [  2.76711197e+01   1.10283168e+01   1.00000000e-02]\n",
      "Hyper-parameters at iteration 0 : [  2.76711197e+01   1.10283168e+01   1.00000000e-02]\n",
      "\tHyper-parameters at outter iteration 10 : [  2.76711197e+01   1.10283168e+01   1.00000000e-02]\n",
      "Hyper-parameters at iteration 0 : [  2.76711197e+01   1.10283168e+01   1.00000000e-02]\n",
      "Hyper-parameters at iteration 1 : [  2.77811356e+01   1.07691815e+01   1.00000000e-02]\n",
      "\tHyper-parameters at outter iteration 11 : [  2.77987308e+01   1.07264165e+01   1.00000000e-02]\n",
      "Hyper-parameters at iteration 0 : [  2.77987308e+01   1.07264165e+01   1.00000000e-02]\n",
      "Hyper-parameters at iteration 1 : [  2.77993394e+01   1.07267105e+01   1.00000000e-02]\n",
      "Hyper-parameters at iteration 2 : [  2.78004443e+01   1.07267119e+01   1.00000000e-02]\n",
      "\tHyper-parameters at outter iteration 12 : [  2.78234723e+01   1.07262967e+01   1.00000000e-02]\n",
      "Hyper-parameters at iteration 0 : [  2.78234723e+01   1.07262967e+01   1.00000000e-02]\n",
      "\tHyper-parameters at outter iteration 13 : [  2.78234723e+01   1.07262967e+01   1.00000000e-02]\n",
      "Hyper-parameters at iteration 0 : [  2.78234723e+01   1.07262967e+01   1.00000000e-02]\n",
      "\tHyper-parameters at outter iteration 14 : [  2.78234723e+01   1.07262967e+01   1.00000000e-02]\n",
      "Hyper-parameters at iteration 0 : [  2.78234723e+01   1.07262967e+01   1.00000000e-02]\n",
      "\tHyper-parameters at outter iteration 15 : [  2.78234723e+01   1.07262967e+01   1.00000000e-02]\n",
      "Hyper-parameters at iteration 0 : [  2.78234723e+01   1.07262967e+01   1.00000000e-02]\n",
      "Hyper-parameters at iteration 1 : [  2.78245941e+01   1.07293207e+01   1.00000000e-02]\n",
      "\tHyper-parameters at outter iteration 16 : [  2.78285249e+01   1.07268912e+01   1.00000000e-02]\n",
      "Hyper-parameters at iteration 0 : [  2.78285249e+01   1.07268912e+01   1.00000000e-02]\n",
      "\tHyper-parameters at outter iteration 17 : [  2.78285249e+01   1.07268911e+01   1.00000000e-02]\n",
      "Hyper-parameters at iteration 0 : [  2.78285249e+01   1.07268911e+01   1.00000000e-02]\n",
      "\tHyper-parameters at outter iteration 18 : [  2.78285249e+01   1.07268911e+01   1.00000000e-02]\n",
      "Hyper-parameters at iteration 0 : [  2.78285249e+01   1.07268911e+01   1.00000000e-02]\n",
      "\tHyper-parameters at outter iteration 19 : [  2.78285249e+01   1.07268911e+01   1.00000000e-02]\n"
     ]
    }
   ],
   "source": [
    "model_covariance_obj = SquaredExponential(np.copy(cov_params))\n",
    "vi_gp = GPC(model_covariance_obj, method='vi')\n",
    "opts = {'maxfun':5, 'mydisp': True, 'num_updates':3}\n",
    "vi_res = vi_gp.fit(x_tr, y_tr, inputs=inputs, optimizer_options=opts, max_out_iter=20)"
   ]
  },
  {
   "cell_type": "code",
   "execution_count": 6,
   "metadata": {
    "collapsed": false
   },
   "outputs": [
    {
     "data": {
      "text/plain": [
       "<matplotlib.text.Text at 0x106136048>"
      ]
     },
     "execution_count": 6,
     "metadata": {},
     "output_type": "execute_result"
    },
    {
     "data": {
      "image/png": "[encoded data removed]",
      "text/plain": [
       "<matplotlib.figure.Figure at 0x10d1e1d30>"
      ]
     },
     "metadata": {},
     "output_type": "display_data"
    }
   ],
   "source": [
    "metric = lambda w: vi_gp.get_prediction_quality(w, x_test, y_test)\n",
    "vi_x_lst, vi_y_lst = vi_res.plot_performance(metric, 't', freq=1)\n",
    "plt.plot(vi_x_lst[1:], vi_y_lst[1:], '-bx', label='vi-means-c')\n",
    "# plt.plot(svi_x_lst[1:100], svi_y_lst[1:100], '-gx', label='svi-L-BFGS-B-c')\n",
    "plt.ylim([0.9, 1.])\n",
    "plt.legend()\n",
    "plt.xlabel('Seconds')\n",
    "plt.ylabel('Accuracy')"
   ]
  },
  {
   "cell_type": "markdown",
   "metadata": {},
   "source": [
    "### Taylor\n",
    "Подбор числа пересчетов"
   ]
  },
  {
   "cell_type": "code",
   "execution_count": 7,
   "metadata": {
    "collapsed": true
   },
   "outputs": [
    {
     "name": "stdout",
     "output_type": "stream",
     "text": [
      "Hyper-parameters at iteration 0 : [ 10.   20.    0.1]\n",
      "Hyper-parameters at iteration 1 : [ 15.43672779  15.600007     0.08019013]\n",
      "Hyper-parameters at iteration 2 : [  1.67454905e+01   1.39006917e+01   1.00000000e-02]\n",
      "\tHyper-parameters at outter iteration 0 : [  1.50240713e+01   1.54041292e+01   1.00000000e-02]\n",
      "Hyper-parameters at iteration 0 : [  1.50240713e+01   1.54041292e+01   1.00000000e-02]\n",
      "\tHyper-parameters at outter iteration 1 : [  1.50244020e+01   1.54040148e+01   1.00000000e-02]\n",
      "Hyper-parameters at iteration 0 : [  1.50244020e+01   1.54040148e+01   1.00000000e-02]\n",
      "\tHyper-parameters at outter iteration 2 : [  1.50253865e+01   1.54037589e+01   1.00000000e-02]\n",
      "Hyper-parameters at iteration 0 : [  1.50253865e+01   1.54037589e+01   1.00000000e-02]\n",
      "Hyper-parameters at iteration 1 : [  2.73620806e+01   1.23041019e+01   1.00000000e-02]\n",
      "\tHyper-parameters at outter iteration 3 : [  2.73672375e+01   1.23027971e+01   1.00000000e-02]\n",
      "Hyper-parameters at iteration 0 : [  2.73672375e+01   1.23027971e+01   1.00000000e-02]\n",
      "Hyper-parameters at iteration 1 : [  2.93883490e+01   1.06982747e+01   1.00000000e-02]\n",
      "Hyper-parameters at iteration 2 : [  2.88459890e+01   1.11327665e+01   1.00000000e-02]\n",
      "\tHyper-parameters at outter iteration 4 : [  2.89504227e+01   1.10541803e+01   1.00000000e-02]\n",
      "Hyper-parameters at iteration 0 : [  2.89504227e+01   1.10541803e+01   1.00000000e-02]\n",
      "\tHyper-parameters at outter iteration 5 : [  2.89504227e+01   1.10541803e+01   1.00000000e-02]\n",
      "Hyper-parameters at iteration 0 : [  2.89504227e+01   1.10541803e+01   1.00000000e-02]\n",
      "\tHyper-parameters at outter iteration 6 : [  2.89504227e+01   1.10541803e+01   1.00000000e-02]\n",
      "Hyper-parameters at iteration 0 : [  2.89504227e+01   1.10541803e+01   1.00000000e-02]\n",
      "\tHyper-parameters at outter iteration 7 : [  2.89504227e+01   1.10541803e+01   1.00000000e-02]\n",
      "Hyper-parameters at iteration 0 : [  2.89504227e+01   1.10541803e+01   1.00000000e-02]\n",
      "\tHyper-parameters at outter iteration 8 : [  2.89504227e+01   1.10541803e+01   1.00000000e-02]\n",
      "Hyper-parameters at iteration 0 : [  2.89504227e+01   1.10541803e+01   1.00000000e-02]\n",
      "Hyper-parameters at iteration 1 : [  2.95070145e+01   1.04224024e+01   1.00000000e-02]\n",
      "\tHyper-parameters at outter iteration 9 : [  2.96229341e+01   1.02901393e+01   1.00000000e-02]\n",
      "Hyper-parameters at iteration 0 : [  2.96229341e+01   1.02901393e+01   1.00000000e-02]\n",
      "Hyper-parameters at iteration 1 : [  2.96646233e+01   1.02102359e+01   1.00000000e-02]\n",
      "\tHyper-parameters at outter iteration 10 : [  2.96646233e+01   1.02102359e+01   1.00000000e-02]\n",
      "Hyper-parameters at iteration 0 : [  2.96646233e+01   1.02102359e+01   1.00000000e-02]\n",
      "Hyper-parameters at iteration 1 : [  2.96736410e+01   1.02282176e+01   1.00000000e-02]\n",
      "\tHyper-parameters at outter iteration 11 : [  2.98170241e+01   1.02202062e+01   1.00000000e-02]\n",
      "Hyper-parameters at iteration 0 : [  2.98170241e+01   1.02202062e+01   1.00000000e-02]\n",
      "Hyper-parameters at iteration 1 : [  2.98216171e+01   1.02387808e+01   1.00000000e-02]\n",
      "\tHyper-parameters at outter iteration 12 : [  2.98251286e+01   1.02346725e+01   1.00000000e-02]\n",
      "Hyper-parameters at iteration 0 : [  2.98251286e+01   1.02346725e+01   1.00000000e-02]\n",
      "Hyper-parameters at iteration 1 : [  3.01791162e+01   1.02243162e+01   1.00000000e-02]\n",
      "Hyper-parameters at iteration 2 : [  3.03866246e+01   1.02447703e+01   1.00000000e-02]\n",
      "\tHyper-parameters at outter iteration 13 : [  3.03866250e+01   1.02447704e+01   1.00000000e-02]\n",
      "Hyper-parameters at iteration 0 : [  3.03866250e+01   1.02447704e+01   1.00000000e-02]\n",
      "Hyper-parameters at iteration 1 : [  3.03914170e+01   1.03305490e+01   1.00000000e-02]\n",
      "Hyper-parameters at iteration 2 : [  3.03932838e+01   1.02925872e+01   1.00000000e-02]\n",
      "\tHyper-parameters at outter iteration 14 : [  3.03932839e+01   1.02925858e+01   1.00000000e-02]\n",
      "Hyper-parameters at iteration 0 : [  3.03932839e+01   1.02925858e+01   1.00000000e-02]\n",
      "Hyper-parameters at iteration 1 : [  3.11405806e+01   1.03583379e+01   1.00000000e-02]\n",
      "Hyper-parameters at iteration 2 : [  3.23926053e+01   1.05126180e+01   1.00000000e-02]\n",
      "\tHyper-parameters at outter iteration 15 : [  6.75629582e+01   1.52776468e+01   1.00000000e-02]\n",
      "Hyper-parameters at iteration 0 : [  6.75629582e+01   1.52776468e+01   1.00000000e-02]\n",
      "\tHyper-parameters at outter iteration 16 : [  6.75646469e+01   1.50772890e+01   1.00000000e-02]\n",
      "Hyper-parameters at iteration 0 : [  6.75646469e+01   1.50772890e+01   1.00000000e-02]\n",
      "\tHyper-parameters at outter iteration 17 : [  6.75646469e+01   1.50772890e+01   1.00000000e-02]\n",
      "Hyper-parameters at iteration 0 : [  6.75646469e+01   1.50772890e+01   1.00000000e-02]\n",
      "\tHyper-parameters at outter iteration 18 : [  6.75646469e+01   1.50772890e+01   1.00000000e-02]\n",
      "Hyper-parameters at iteration 0 : [  6.75646469e+01   1.50772890e+01   1.00000000e-02]\n",
      "\tHyper-parameters at outter iteration 19 : [  6.75593304e+01   1.50680645e+01   1.00000000e-02]\n"
     ]
    }
   ],
   "source": [
    "model_covariance_obj = SquaredExponential(np.copy(cov_params))\n",
    "vi_gp = GPC(model_covariance_obj, method='vi')\n",
    "opts = {'bound': 'Taylor', 'maxfun':5, 'mydisp': True, 'num_updates':3}\n",
    "vi_res = vi_gp.fit(x_tr, y_tr, inputs=inputs, optimizer_options=opts, max_out_iter=20)"
   ]
  },
  {
   "cell_type": "code",
   "execution_count": 8,
   "metadata": {
    "collapsed": false
   },
   "outputs": [
    {
     "data": {
      "text/plain": [
       "<matplotlib.text.Text at 0x1068039b0>"
      ]
     },
     "execution_count": 8,
     "metadata": {},
     "output_type": "execute_result"
    },
    {
     "data": {
      "image/png": "[encoded data removed]",
      "text/plain": [
       "<matplotlib.figure.Figure at 0x10d1e1cc0>"
      ]
     },
     "metadata": {},
     "output_type": "display_data"
    }
   ],
   "source": [
    "metric = lambda w: vi_gp.get_prediction_quality(w, x_test, y_test)\n",
    "vi_t_x_lst, vi_t_y_lst = vi_res.plot_performance(metric, 't', freq=1)\n",
    "plt.plot(vi_t_x_lst[1:], vi_t_y_lst[1:], '-mx', label='vi-means-c')\n",
    "# plt.plot(svi_x_lst[1:100], svi_y_lst[1:100], '-gx', label='svi-L-BFGS-B-c')\n",
    "plt.ylim([.9, 1.])\n",
    "plt.legend()\n",
    "plt.xlabel('Seconds')\n",
    "plt.ylabel('Accuracy')"
   ]
  },
  {
   "cell_type": "markdown",
   "metadata": {},
   "source": [
    "### Stochastic Taylor"
   ]
  },
  {
   "cell_type": "code",
   "execution_count": 14,
   "metadata": {
    "collapsed": false
   },
   "outputs": [
    {
     "name": "stdout",
     "output_type": "stream",
     "text": [
      "Iteration  1 :\n",
      "\tGradient norm 28.1776068777\n",
      "\tHyper-parameters at outter iteration 0 : [ 11.27415051  18.61077423   0.04686753]\n",
      "Iteration  1 :\n",
      "\tGradient norm 102.05988787\n",
      "\tHyper-parameters at outter iteration 1 : [  1.24482182e+01   1.73590466e+01   1.67022205e-02]\n",
      "Iteration  1 :\n",
      "\tGradient norm 96.3969687083\n",
      "\tHyper-parameters at outter iteration 2 : [ 13.50931531  16.24240613  -0.01788846]\n",
      "Iteration  1 :\n",
      "\tGradient norm 117.559503794\n",
      "\tHyper-parameters at outter iteration 3 : [ 14.5802847   15.110978     0.03456205]\n",
      "Iteration  1 :\n",
      "\tGradient norm 37.6117229924\n",
      "\tHyper-parameters at outter iteration 4 : [  1.56479837e+01   1.39916326e+01  -8.08146689e-03]\n",
      "Iteration  1 :\n",
      "\tGradient norm 101.497809677\n",
      "\tHyper-parameters at outter iteration 5 : [  1.66699841e+01   1.29277653e+01   4.53157229e-03]\n",
      "Iteration  1 :\n",
      "\tGradient norm 28.2842959414\n",
      "\tHyper-parameters at outter iteration 6 : [  1.76673174e+01   1.18971580e+01  -4.16344431e-03]\n",
      "Iteration  1 :\n",
      "\tGradient norm 12.7585909424\n",
      "\tHyper-parameters at outter iteration 7 : [  1.86325933e+01   1.09137671e+01   4.47853559e-03]\n",
      "Iteration  1 :\n",
      "\tGradient norm 0.808707771079\n",
      "\tHyper-parameters at outter iteration 8 : [  1.95353505e+01   1.00204949e+01  -3.29075678e-06]\n",
      "Iteration  1 :\n",
      "\tGradient norm 7.03728357215\n",
      "\tHyper-parameters at outter iteration 9 : [  2.03460246e+01   9.24558617e+00  -1.17610102e-02]\n",
      "Iteration  1 :\n",
      "\tGradient norm 0.0644865975353\n",
      "\tHyper-parameters at outter iteration 10 : [  2.10275305e+01   8.72289817e+00   5.77117509e-07]\n",
      "Iteration  1 :\n",
      "\tGradient norm 0.18011186483\n",
      "\tHyper-parameters at outter iteration 11 : [  2.16644494e+01   8.47386678e+00   1.01927256e-05]\n",
      "Iteration  1 :\n",
      "\tGradient norm 8.96956742761\n",
      "\tHyper-parameters at outter iteration 12 : [  2.22937787e+01   8.36981963e+00  -1.30078186e-02]\n",
      "Iteration  1 :\n",
      "\tGradient norm 0.46491131724\n",
      "\tHyper-parameters at outter iteration 13 : [  2.29295120e+01   8.29562423e+00   1.47528266e-05]\n",
      "Iteration  1 :\n",
      "\tGradient norm 0.229486083397\n",
      "\tHyper-parameters at outter iteration 14 : [  2.35652487e+01   8.30719561e+00  -6.35588639e-12]\n",
      "Iteration  1 :\n",
      "\tGradient norm 0.670095038877\n",
      "\tHyper-parameters at outter iteration 15 : [  2.41673905e+01   8.39561492e+00  -1.10823170e-09]\n",
      "Iteration  1 :\n",
      "\tGradient norm 2.46090480612\n",
      "\tHyper-parameters at outter iteration 16 : [ 24.86389784   8.39103225  -0.03349691]\n",
      "Iteration  1 :\n",
      "\tGradient norm 0.444548466557\n",
      "\tHyper-parameters at outter iteration 17 : [  2.54789788e+01   8.47964971e+00   8.93889511e-04]\n",
      "Iteration  1 :\n",
      "\tGradient norm 0.141194689797\n",
      "\tHyper-parameters at outter iteration 18 : [  2.60872643e+01   8.60062419e+00  -1.12492948e-06]\n",
      "Iteration  1 :\n",
      "\tGradient norm 0.0607013803606\n",
      "\tHyper-parameters at outter iteration 19 : [  2.67183579e+01   8.63760390e+00   1.74692969e-05]\n",
      "Iteration  1 :\n",
      "\tGradient norm 0.226640717648\n",
      "\tHyper-parameters at outter iteration 20 : [  2.74664122e+01   8.75492467e+00  -1.11402201e-05]\n",
      "Iteration  1 :\n",
      "\tGradient norm 0.491372434525\n",
      "\tHyper-parameters at outter iteration 21 : [  2.81564195e+01   8.92944714e+00  -1.08333872e-06]\n",
      "Iteration  1 :\n",
      "\tGradient norm 0.451236920407\n",
      "\tHyper-parameters at outter iteration 22 : [  2.87158838e+01   9.03817898e+00   1.16745877e-07]\n",
      "Iteration  1 :\n",
      "\tGradient norm 3.55584937639\n",
      "\tHyper-parameters at outter iteration 23 : [  2.92778764e+01   9.14449332e+00   1.48065308e-02]\n",
      "Iteration  1 :\n",
      "\tGradient norm 0.207330293059\n",
      "\tHyper-parameters at outter iteration 24 : [  2.98445304e+01   9.18025748e+00  -2.68969735e-06]\n"
     ]
    }
   ],
   "source": [
    "model_covariance_obj = SquaredExponential(np.copy(cov_params))\n",
    "vi_gp = GPC(model_covariance_obj, method='vi')\n",
    "opts = {'bound': 'Taylor', 'mode': 'adadelta', 'num_updates': 1, 'mydisp': True, 'print_freq': 1, 'step_rate': 1.,\n",
    "        'maxiter': 1, 'batch_size':1000}\n",
    "vi_res = vi_gp.fit(x_tr, y_tr, inputs=inputs, optimizer_options=opts, max_out_iter=25)"
   ]
  },
  {
   "cell_type": "code",
   "execution_count": 15,
   "metadata": {
    "collapsed": false
   },
   "outputs": [
    {
     "data": {
      "text/plain": [
       "<matplotlib.text.Text at 0x106767f60>"
      ]
     },
     "execution_count": 15,
     "metadata": {},
     "output_type": "execute_result"
    },
    {
     "data": {
      "image/png": "[encoded data removed]",
      "text/plain": [
       "<matplotlib.figure.Figure at 0x1066b1978>"
      ]
     },
     "metadata": {},
     "output_type": "display_data"
    }
   ],
   "source": [
    "metric = lambda w: vi_gp.get_prediction_quality(w, x_test, y_test)\n",
    "vi_st_x_lst, vi_st_y_lst = vi_res.plot_performance(metric, 't', freq=1)\n",
    "plt.plot(vi_st_x_lst[1:], vi_st_y_lst[1:], '-mx', label='vi-means-c')\n",
    "# plt.plot(svi_x_lst[1:100], svi_y_lst[1:100], '-gx', label='svi-L-BFGS-B-c')\n",
    "plt.ylim([.9, 1.])\n",
    "plt.legend()\n",
    "plt.xlabel('Seconds')\n",
    "plt.ylabel('Accuracy')"
   ]
  },
  {
   "cell_type": "code",
   "execution_count": 10,
   "metadata": {
    "collapsed": false
   },
   "outputs": [
    {
     "data": {
      "text/plain": [
       "0.94174999999999998"
      ]
     },
     "execution_count": 10,
     "metadata": {},
     "output_type": "execute_result"
    }
   ],
   "source": [
    "vi_st_y_lst[15]"
   ]
  },
  {
   "cell_type": "markdown",
   "metadata": {},
   "source": [
    "## svi-AdaDelta-c\n",
    "Подбор длины шага"
   ]
  },
  {
   "cell_type": "code",
   "execution_count": 42,
   "metadata": {
    "collapsed": false
   },
   "outputs": [
    {
     "name": "stdout",
     "output_type": "stream",
     "text": [
      "1.0\n",
      "0.5\n",
      "0.3\n",
      "0.1\n",
      "0.01\n"
     ]
    },
    {
     "name": "stderr",
     "output_type": "stream",
     "text": [
      "/Users/IzmailovPavel/Documents/Education/Course Project/Code/GP/gaussian_process_classification.py:605: RuntimeWarning: invalid value encountered in log\n",
      "  loss += np.sum(np.log(np.diag(sigma_L))) * l / N\n"
     ]
    }
   ],
   "source": [
    "results = []\n",
    "steps = [1., 0.5, 0.3, 0.1, 0.01]\n",
    "for step in steps:\n",
    "    print(step)\n",
    "    model_covariance_obj = SquaredExponential(np.copy(cov_params))\n",
    "    ad_gp = GPC(model_covariance_obj, method='svi', hermgauss_deg=100)\n",
    "\n",
    "    opts = {'mode': 'adadelta', 'maxiter': 20, 'verbose': False, 'batch_size': 50, \n",
    "            'step_rate': step}#, 'print_freq':50}\n",
    "    batch_res = ad_gp.fit(x_tr, y_tr, inputs=inputs, optimizer_options=opts)\n",
    "    results.append(batch_res)"
   ]
  },
  {
   "cell_type": "code",
   "execution_count": 43,
   "metadata": {
    "collapsed": false
   },
   "outputs": [
    {
     "name": "stdout",
     "output_type": "stream",
     "text": [
      "0\n",
      "1\n",
      "2\n",
      "3\n",
      "4\n"
     ]
    },
    {
     "data": {
      "text/plain": [
       "<matplotlib.text.Text at 0x10d71b208>"
      ]
     },
     "execution_count": 43,
     "metadata": {},
     "output_type": "execute_result"
    },
    {
     "data": {
      "image/png": "[encoded data removed]",
      "text/plain": [
       "<matplotlib.figure.Figure at 0x105e95d68>"
      ]
     },
     "metadata": {},
     "output_type": "display_data"
    }
   ],
   "source": [
    "metric = lambda w: ad_gp.get_prediction_quality(w, x_test, y_test)\n",
    "for i in range(len(results)):\n",
    "    svi_ad_x_lst, svi_ad_y_lst = results[i].plot_performance(metric, 't', freq=2)\n",
    "    plt.plot(svi_ad_x_lst[1:], svi_ad_y_lst[1:], label=steps[i])\n",
    "    print(i)\n",
    "plt.ylim([0.7, 1.])\n",
    "plt.legend()\n",
    "plt.xlabel('Seconds')\n",
    "plt.ylabel('Accuracy')"
   ]
  },
  {
   "cell_type": "code",
   "execution_count": 22,
   "metadata": {
    "collapsed": true
   },
   "outputs": [
    {
     "name": "stdout",
     "output_type": "stream",
     "text": [
      "Iteration  700 :\n",
      "\tGradient norm 4.09128588171\n",
      "Iteration  1400 :\n",
      "\tGradient norm 4.32194179871\n",
      "Iteration  2100 :\n",
      "\tGradient norm 4.2445321702\n",
      "Iteration  2800 :\n",
      "\tGradient norm 4.28877628151\n",
      "Iteration  3500 :\n",
      "\tGradient norm 1.87704647976\n",
      "Iteration  4200 :\n",
      "\tGradient norm 2.03977163818\n",
      "Iteration  4900 :\n",
      "\tGradient norm 4.97449707775\n",
      "Iteration  5600 :\n",
      "\tGradient norm 2.80463636065\n",
      "Iteration  6300 :\n",
      "\tGradient norm 1.72133809296\n",
      "Iteration  7000 :\n",
      "\tGradient norm 4.0847131167\n",
      "Iteration  7700 :\n",
      "\tGradient norm 1.82013264012\n",
      "Iteration  8400 :\n",
      "\tGradient norm 3.98699693716\n",
      "Iteration  9100 :\n",
      "\tGradient norm 2.82695851151\n",
      "Iteration  9800 :\n",
      "\tGradient norm 1.10442128906\n",
      "Iteration  10500 :\n",
      "\tGradient norm 1.61510136483\n",
      "Iteration  11200 :\n",
      "\tGradient norm 1.52547900607\n",
      "Iteration  11900 :\n",
      "\tGradient norm 1.70944985565\n",
      "Iteration  12600 :\n",
      "\tGradient norm 2.18907411118\n",
      "Iteration  13300 :\n",
      "\tGradient norm 1.65030056027\n",
      "Iteration  14000 :\n",
      "\tGradient norm 2.47679421734\n",
      "Iteration  14700 :\n",
      "\tGradient norm 2.78884877284\n",
      "Iteration  15400 :\n",
      "\tGradient norm 2.23383981351\n",
      "Iteration  16100 :\n",
      "\tGradient norm 2.95252065674\n",
      "Iteration  16800 :\n",
      "\tGradient norm 2.71061466117\n",
      "Iteration  17500 :\n",
      "\tGradient norm 3.67258520461\n",
      "Iteration  18200 :\n",
      "\tGradient norm 2.23144012923\n",
      "Iteration  18900 :\n",
      "\tGradient norm 1.99409598041\n",
      "Iteration  19600 :\n",
      "\tGradient norm 2.97685247935\n",
      "Iteration  20300 :\n",
      "\tGradient norm 3.61469085292\n",
      "Iteration  21000 :\n",
      "\tGradient norm 0.781416168224\n"
     ]
    },
    {
     "name": "stderr",
     "output_type": "stream",
     "text": [
      "/Users/IzmailovPavel/Documents/Education/Course Project/Code/GP/gaussian_process_classification.py:605: RuntimeWarning: invalid value encountered in log\n",
      "  loss += np.sum(np.log(np.diag(sigma_L))) * l / N\n"
     ]
    }
   ],
   "source": [
    "model_covariance_obj = SquaredExponential(np.copy(cov_params))\n",
    "ad_gp = GPC(model_covariance_obj, method='svi', hermgauss_deg=100)\n",
    "opts = {'mode': 'adadelta', 'maxiter': 30, 'verbose': True, 'batch_size': 50, \n",
    "        'step_rate': 1., 'print_freq':1}\n",
    "batch_res = ad_gp.fit(x_tr, y_tr, inputs=inputs, optimizer_options=opts)"
   ]
  },
  {
   "cell_type": "code",
   "execution_count": 7,
   "metadata": {
    "collapsed": false
   },
   "outputs": [
    {
     "ename": "NameError",
     "evalue": "name 'batch_res' is not defined",
     "output_type": "error",
     "traceback": [
      "\u001b[0;31m---------------------------------------------------------------------------\u001b[0m",
      "\u001b[0;31mNameError\u001b[0m                                 Traceback (most recent call last)",
      "\u001b[0;32m<ipython-input-7-9356dae1ba42>\u001b[0m in \u001b[0;36m<module>\u001b[0;34m()\u001b[0m\n\u001b[1;32m      1\u001b[0m \u001b[0mmetric\u001b[0m \u001b[0;34m=\u001b[0m \u001b[0;32mlambda\u001b[0m \u001b[0mw\u001b[0m\u001b[0;34m:\u001b[0m \u001b[0mad_gp\u001b[0m\u001b[0;34m.\u001b[0m\u001b[0mget_prediction_quality\u001b[0m\u001b[0;34m(\u001b[0m\u001b[0mw\u001b[0m\u001b[0;34m,\u001b[0m \u001b[0mx_test\u001b[0m\u001b[0;34m,\u001b[0m \u001b[0my_test\u001b[0m\u001b[0;34m)\u001b[0m\u001b[0;34m\u001b[0m\u001b[0m\n\u001b[0;32m----> 2\u001b[0;31m \u001b[0msvi_ad_x_lst\u001b[0m\u001b[0;34m,\u001b[0m \u001b[0msvi_ad_y_lst\u001b[0m \u001b[0;34m=\u001b[0m \u001b[0mbatch_res\u001b[0m\u001b[0;34m.\u001b[0m\u001b[0mplot_performance\u001b[0m\u001b[0;34m(\u001b[0m\u001b[0mmetric\u001b[0m\u001b[0;34m,\u001b[0m \u001b[0;34m't'\u001b[0m\u001b[0;34m,\u001b[0m \u001b[0mfreq\u001b[0m\u001b[0;34m=\u001b[0m\u001b[0;36m1\u001b[0m\u001b[0;34m)\u001b[0m\u001b[0;34m\u001b[0m\u001b[0m\n\u001b[0m\u001b[1;32m      3\u001b[0m \u001b[0mplt\u001b[0m\u001b[0;34m.\u001b[0m\u001b[0mplot\u001b[0m\u001b[0;34m(\u001b[0m\u001b[0msvi_ad_x_lst\u001b[0m\u001b[0;34m[\u001b[0m\u001b[0;36m1\u001b[0m\u001b[0;34m:\u001b[0m\u001b[0;34m]\u001b[0m\u001b[0;34m,\u001b[0m \u001b[0msvi_ad_y_lst\u001b[0m\u001b[0;34m[\u001b[0m\u001b[0;36m1\u001b[0m\u001b[0;34m:\u001b[0m\u001b[0;34m]\u001b[0m\u001b[0;34m,\u001b[0m \u001b[0;34m'-yx'\u001b[0m\u001b[0;34m,\u001b[0m \u001b[0mlabel\u001b[0m\u001b[0;34m=\u001b[0m\u001b[0;34m'svi-AdaDelta-c'\u001b[0m\u001b[0;34m)\u001b[0m\u001b[0;34m\u001b[0m\u001b[0m\n\u001b[1;32m      4\u001b[0m \u001b[0mplt\u001b[0m\u001b[0;34m.\u001b[0m\u001b[0mylim\u001b[0m\u001b[0;34m(\u001b[0m\u001b[0;34m[\u001b[0m\u001b[0;36m0.88\u001b[0m\u001b[0;34m,\u001b[0m \u001b[0;36m1.\u001b[0m\u001b[0;34m]\u001b[0m\u001b[0;34m)\u001b[0m\u001b[0;34m\u001b[0m\u001b[0m\n\u001b[1;32m      5\u001b[0m \u001b[0mplt\u001b[0m\u001b[0;34m.\u001b[0m\u001b[0mlegend\u001b[0m\u001b[0;34m(\u001b[0m\u001b[0;34m)\u001b[0m\u001b[0;34m\u001b[0m\u001b[0m\n",
      "\u001b[0;31mNameError\u001b[0m: name 'batch_res' is not defined"
     ]
    }
   ],
   "source": [
    "metric = lambda w: ad_gp.get_prediction_quality(w, x_test, y_test)\n",
    "svi_ad_x_lst, svi_ad_y_lst = batch_res.plot_performance(metric, 't', freq=1)\n",
    "plt.plot(svi_ad_x_lst[1:], svi_ad_y_lst[1:], '-yx', label='svi-AdaDelta-c')\n",
    "plt.ylim([0.88, 1.])\n",
    "plt.legend()\n",
    "plt.xlabel('Seconds')\n",
    "plt.ylabel('Accuracy')"
   ]
  },
  {
   "cell_type": "markdown",
   "metadata": {},
   "source": [
    "## Выводы"
   ]
  },
  {
   "cell_type": "code",
   "execution_count": 40,
   "metadata": {
    "collapsed": false
   },
   "outputs": [
    {
     "data": {
      "text/plain": [
       "<matplotlib.text.Text at 0x10dedc2e8>"
      ]
     },
     "execution_count": 40,
     "metadata": {},
     "output_type": "execute_result"
    },
    {
     "data": {
      "image/png": "[encoded data removed]",
      "text/plain": [
       "<matplotlib.figure.Figure at 0x10e333940>"
      ]
     },
     "metadata": {},
     "output_type": "display_data"
    }
   ],
   "source": [
    "plt.figure(figsize=(12, 7))\n",
    "plt.plot(svi_x_lst[1:], svi_y_lst[1:], '-gx', label='svi-L-BFGS-B-c')\n",
    "plt.plot(svi_ad_x_lst[1:], svi_ad_y_lst[1:], '-yx', label='svi-AdaDelta-c')\n",
    "plt.plot(vi_x_lst[1:], vi_y_lst[1:], '-bx', label='vi-means-c')\n",
    "plt.ylim([0.7, 1.])\n",
    "plt.legend()\n",
    "plt.xlabel('Seconds')\n",
    "plt.ylabel('Accuracy')"
   ]
  },
  {
   "cell_type": "code",
   "execution_count": 41,
   "metadata": {
    "collapsed": true
   },
   "outputs": [],
   "source": [
    "np.save('../plots/vi_vs_svi_class/'+ data_name +'_svi_x.npy', svi_x_lst)\n",
    "np.save('../plots/vi_vs_svi_class/'+ data_name +'_svi_y.npy', svi_y_lst)\n",
    "np.save('../plots/vi_vs_svi_class/'+ data_name +'_vi_x.npy', vi_x_lst)\n",
    "np.save('../plots/vi_vs_svi_class/'+ data_name +'_vi_y.npy', vi_y_lst)\n",
    "np.save('../plots/vi_vs_svi_class/'+ data_name +'_ad_x.npy', svi_ad_x_lst)\n",
    "np.save('../plots/vi_vs_svi_class/'+ data_name +'_ad_y.npy', svi_ad_y_lst)"
   ]
  },
  {
   "cell_type": "code",
   "execution_count": 9,
   "metadata": {
    "collapsed": true
   },
   "outputs": [],
   "source": [
    "np.save('../plots/vi_vs_svi_class/'+ data_name +'_vi_x.npy', vi_x_lst)\n",
    "np.save('../plots/vi_vs_svi_class/'+ data_name +'_vi_y.npy', vi_y_lst)\n",
    "np.save('../plots/vi_vs_svi_class/'+ data_name +'_vi_t_x.npy', vi_t_x_lst)\n",
    "np.save('../plots/vi_vs_svi_class/'+ data_name +'_vi_t_y.npy', vi_t_y_lst)"
   ]
  },
  {
   "cell_type": "code",
   "execution_count": 13,
   "metadata": {
    "collapsed": false
   },
   "outputs": [],
   "source": [
    "np.save('../plots/vi_vs_svi_class/'+ data_name +'_vi_st_x.npy', vi_st_x_lst)\n",
    "np.save('../plots/vi_vs_svi_class/'+ data_name +'_vi_st_y.npy', vi_st_y_lst)"
   ]
  },
  {
   "cell_type": "code",
   "execution_count": null,
   "metadata": {
    "collapsed": true
   },
   "outputs": [],
   "source": []
  }
 ],
 "metadata": {
  "kernelspec": {
   "display_name": "Python 3",
   "language": "python",
   "name": "python3"
  },
  "language_info": {
   "codemirror_mode": {
    "name": "ipython",
    "version": 3
   },
   "file_extension": ".py",
   "mimetype": "text/x-python",
   "name": "python",
   "nbconvert_exporter": "python",
   "pygments_lexer": "ipython3",
   "version": "3.4.3"
  }
 },
 "nbformat": 4,
 "nbformat_minor": 0
}
