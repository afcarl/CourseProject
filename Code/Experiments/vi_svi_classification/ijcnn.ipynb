{
 "cells": [
  {
   "cell_type": "markdown",
   "metadata": {},
   "source": [
    "# IJCNN"
   ]
  },
  {
   "cell_type": "code",
   "execution_count": 1,
   "metadata": {
    "collapsed": false
   },
   "outputs": [],
   "source": [
    "import sys\n",
    "sys.path.append('/Users/IzmailovPavel/Documents/Education/Course Project/Code')\n",
    "import numpy as np\n",
    "import matplotlib as mpl\n",
    "\n",
    "from matplotlib import pyplot as plt\n",
    "\n",
    "from GP.covariance_functions import SquaredExponential\n",
    "from GP.gaussian_process_classification import GPC\n",
    "\n",
    "from sklearn.cluster import KMeans\n",
    "\n",
    "from sklearn.datasets import load_svmlight_file\n",
    "from sklearn.preprocessing import StandardScaler\n",
    "from sklearn.utils import shuffle\n",
    "%matplotlib inline\n",
    "%load_ext autoreload\n",
    "%autoreload 2"
   ]
  },
  {
   "cell_type": "markdown",
   "metadata": {},
   "source": [
    "## Данные"
   ]
  },
  {
   "cell_type": "code",
   "execution_count": 2,
   "metadata": {
    "collapsed": false
   },
   "outputs": [
    {
     "name": "stdout",
     "output_type": "stream",
     "text": [
      "of objects: 35000\n",
      "of features: 22\n",
      "ijcnn\n"
     ]
    }
   ],
   "source": [
    "x_tr, y_tr = load_svmlight_file('../../../../Programming/DataSets/Classification/ijcnn1(49990,22).txt')\n",
    "x_tr, y_tr = shuffle(x_tr, y_tr, random_state=241)\n",
    "x_test, y_test = load_svmlight_file('../../../../Programming/DataSets/Classification/ijcnn1_test(91701,22).txt')\n",
    "x_test, y_test = shuffle(x_test, y_test, random_state=230)\n",
    "x_test = x_test[:8000, :]\n",
    "y_test = y_test[:8000]\n",
    "data_name = 'ijcnn'\n",
    "\n",
    "x_tr = x_tr.toarray()\n",
    "x_test = x_test.toarray()\n",
    "scaler = StandardScaler()\n",
    "x_tr = scaler.fit_transform(x_tr).T\n",
    "x_test = scaler.transform(x_test).T\n",
    "\n",
    "x_tr = (x_tr + 1) / 2\n",
    "x_test = (x_test + 1) / 2\n",
    "y_tr = y_tr[:, None]\n",
    "y_test = y_test[:, None]\n",
    "y_tr[y_tr == 0] = -1\n",
    "y_test[y_test == 0] = -1\n",
    "dim, num = x_tr.shape\n",
    "\n",
    "print('of objects:', num)\n",
    "print('of features:', dim)\n",
    "print(data_name)"
   ]
  },
  {
   "cell_type": "markdown",
   "metadata": {},
   "source": [
    "## K-Means cluster centers"
   ]
  },
  {
   "cell_type": "code",
   "execution_count": 3,
   "metadata": {
    "collapsed": false
   },
   "outputs": [
    {
     "name": "stdout",
     "output_type": "stream",
     "text": [
      "Finding means...\n",
      "...found\n"
     ]
    }
   ],
   "source": [
    "ind_num = 100\n",
    "print('Finding means...')\n",
    "means = KMeans(n_clusters=ind_num, n_init=3, max_iter=100, random_state=241)\n",
    "means.fit(x_tr.T)\n",
    "inputs = means.cluster_centers_.T\n",
    "print('...found')"
   ]
  },
  {
   "cell_type": "code",
   "execution_count": 4,
   "metadata": {
    "collapsed": true
   },
   "outputs": [],
   "source": [
    "cov_params = np.array([10., 20., .1])"
   ]
  },
  {
   "cell_type": "markdown",
   "metadata": {},
   "source": [
    "## svi-L-BFGS-B-c method"
   ]
  },
  {
   "cell_type": "code",
   "execution_count": 33,
   "metadata": {
    "collapsed": true
   },
   "outputs": [],
   "source": [
    "model_covariance_obj = SquaredExponential(np.copy(cov_params))\n",
    "svi_gp = GPC(model_covariance_obj, method='svi')"
   ]
  },
  {
   "cell_type": "code",
   "execution_count": null,
   "metadata": {
    "collapsed": false
   },
   "outputs": [
    {
     "name": "stdout",
     "output_type": "stream",
     "text": [
      "Hyper-parameters at iteration 0 : [ 10.   20.    0.1   0.    0. ]\n",
      "Hyper-parameters at iteration 1 : [  1.00012780e+01   1.99962267e+01   5.21819681e-01  -1.94654840e-02\n",
      "  -1.16229340e-01]\n",
      "Hyper-parameters at iteration 2 : [  9.97990063  19.99353314   0.26460446  -0.16966981  -0.80989622]\n",
      "Hyper-parameters at iteration 3 : [  9.97719232  19.98869996   0.17598408  -0.24182403  -1.10739343]\n",
      "Hyper-parameters at iteration 4 : [  9.97600085  19.98146191   0.18842116  -0.33011074  -1.46743958]\n",
      "Hyper-parameters at iteration 5 : [  9.97489348  19.96836291   0.25521643  -0.50467553  -2.017685  ]\n",
      "Hyper-parameters at iteration"
     ]
    }
   ],
   "source": [
    "opts = {'mode': 'full', 'maxiter': 100, 'mydisp': True}\n",
    "svi_res = svi_gp.fit(x_tr, y_tr, inputs=inputs, optimizer_options=opts)"
   ]
  },
  {
   "cell_type": "code",
   "execution_count": 28,
   "metadata": {
    "collapsed": false
   },
   "outputs": [],
   "source": [
    "metric = lambda w: svi_gp.get_prediction_quality(w, x_test, y_test)\n",
    "svi_x_lst, svi_y_lst = svi_res.plot_performance(metric, 't', freq=1)"
   ]
  },
  {
   "cell_type": "code",
   "execution_count": 29,
   "metadata": {
    "collapsed": false
   },
   "outputs": [
    {
     "data": {
      "text/plain": [
       "<matplotlib.text.Text at 0x10db04f28>"
      ]
     },
     "execution_count": 29,
     "metadata": {},
     "output_type": "execute_result"
    },
    {
     "data": {
      "image/png": "[encoded data removed]",
      "text/plain": [
       "<matplotlib.figure.Figure at 0x10db9d748>"
      ]
     },
     "metadata": {},
     "output_type": "display_data"
    }
   ],
   "source": [
    "plt.plot(svi_x_lst[1:], svi_y_lst[1:], '-gx', label='svi-L-BFGS-B-c')\n",
    "plt.ylim([0.85, .95])\n",
    "plt.legend()\n",
    "plt.xlabel('Seconds')\n",
    "plt.ylabel('Accuracy')"
   ]
  },
  {
   "cell_type": "markdown",
   "metadata": {},
   "source": [
    "## vi-means-c method\n",
    "Подбор числа пересчетов"
   ]
  },
  {
   "cell_type": "code",
   "execution_count": 31,
   "metadata": {
    "collapsed": true
   },
   "outputs": [
    {
     "name": "stdout",
     "output_type": "stream",
     "text": [
      "5\n",
      "Hyper-parameters at iteration 0 : [ 10.   20.    0.1]\n",
      "\tHyper-parameters at outter iteration 0 : [ 10.   20.    0.1]\n",
      "Hyper-parameters at iteration 0 : [ 10.   20.    0.1]\n",
      "Hyper-parameters at iteration 1 : [ 22.98070246  13.4171241    0.07036224]\n",
      "\tHyper-parameters at outter iteration 1 : [  2.38945599e+01   1.29453125e+01   1.00000000e-02]\n",
      "Hyper-parameters at iteration 0 : [  2.38945599e+01   1.29453125e+01   1.00000000e-02]\n",
      "Hyper-parameters at iteration 1 : [  2.42633333e+01   1.22886593e+01   1.00000000e-02]\n",
      "\tHyper-parameters at outter iteration 2 : [  2.55060059e+01   1.00758467e+01   1.00000000e-02]\n",
      "Hyper-parameters at iteration 0 : [  2.55060059e+01   1.00758467e+01   1.00000000e-02]\n",
      "Hyper-parameters at iteration 1 : [  2.53599060e+01   1.08521287e+01   1.00000000e-02]\n",
      "\tHyper-parameters at outter iteration 3 : [  2.53591311e+01   1.08562391e+01   1.00000000e-02]\n",
      "Hyper-parameters at iteration 0 : [  2.53591311e+01   1.08562391e+01   1.00000000e-02]\n",
      "Hyper-parameters at iteration 1 : [  2.53443732e+01   1.09338965e+01   1.00000000e-02]\n",
      "\tHyper-parameters at outter iteration 4 : [  2.53443924e+01   1.09337951e+01   1.00000000e-02]\n",
      "Hyper-parameters at iteration 0 : [  2.53443924e+01   1.09337951e+01   1.00000000e-02]\n",
      "Hyper-parameters at iteration 1 : [  2.53591075e+01   1.08900032e+01   1.00000000e-02]\n",
      "\tHyper-parameters at outter iteration 5 : [  2.53944160e+01   1.07849878e+01   1.00000000e-02]\n",
      "Hyper-parameters at iteration 0 : [  2.53944160e+01   1.07849878e+01   1.00000000e-02]\n",
      "\tHyper-parameters at outter iteration 6 : [  2.53944160e+01   1.07849878e+01   1.00000000e-02]\n",
      "\n",
      "10\n",
      "Hyper-parameters at iteration 0 : [ 10.   20.    0.1]\n",
      "\tHyper-parameters at outter iteration 0 : [ 10.   20.    0.1]\n",
      "Hyper-parameters at iteration 0 : [ 10.   20.    0.1]\n",
      "Hyper-parameters at iteration 1 : [ 15.38160179  17.26506581   0.08768664]\n",
      "Hyper-parameters at iteration 2 : [ 15.38164784  17.2650582    0.08768661]\n",
      "\tHyper-parameters at outter iteration 1 : [  1.22187083e+02   1.00000000e-02   1.00000000e-02]\n",
      "Hyper-parameters at iteration 0 : [  1.22187083e+02   1.00000000e-02   1.00000000e-02]\n",
      "Hyper-parameters at iteration 1 : [ 0.01  0.01  0.01]\n",
      "\tHyper-parameters at outter iteration 2 : [ 0.01  0.01  0.01]\n",
      "Hyper-parameters at iteration 0 : [ 0.01  0.01  0.01]\n",
      "\tHyper-parameters at outter iteration 3 : [ 0.01  0.01  0.01]\n",
      "Hyper-parameters at iteration 0 : [ 0.01  0.01  0.01]\n",
      "\tHyper-parameters at outter iteration 4 : [ 0.01  0.01  0.01]\n",
      "Hyper-parameters at iteration 0 : [ 0.01  0.01  0.01]\n",
      "\tHyper-parameters at outter iteration 5 : [ 0.01  0.01  0.01]\n",
      "Hyper-parameters at iteration 0 : [ 0.01  0.01  0.01]\n",
      "\tHyper-parameters at outter iteration 6 : [ 0.01  0.01  0.01]\n",
      "\n",
      "15\n",
      "Hyper-parameters at iteration 0 : [ 10.   20.    0.1]\n",
      "\tHyper-parameters at outter iteration 0 : [ 10.   20.    0.1]\n",
      "Hyper-parameters at iteration 0 : [ 10.   20.    0.1]\n",
      "Hyper-parameters at iteration 1 : [ 15.38160179  17.26506581   0.08768664]\n",
      "Hyper-parameters at iteration 2 : [ 15.38164784  17.2650582    0.08768661]\n",
      "\tHyper-parameters at outter iteration 1 : [ 15.38172234  17.26504616   0.08768655]\n",
      "Hyper-parameters at iteration 0 : [ 15.38172234  17.26504616   0.08768655]\n",
      "Hyper-parameters at iteration 1 : [ 24.54154355  13.63038526   0.07132239]\n",
      "Hyper-parameters at iteration 2 : [  2.31450238e+01   1.42057775e+01   1.00000000e-02]\n",
      "Hyper-parameters at iteration 3 : [  2.34888168e+01   1.40693899e+01   1.00000000e-02]\n",
      "Hyper-parameters at iteration 4 : [  2.38041939e+01   1.39443515e+01   1.00000000e-02]\n",
      "\tHyper-parameters at outter iteration 2 : [  2.38042051e+01   1.39443470e+01   1.00000000e-02]\n",
      "Hyper-parameters at iteration 0 : [  2.38042051e+01   1.39443470e+01   1.00000000e-02]\n",
      "\tHyper-parameters at outter iteration 3 : [  2.38042051e+01   1.39443470e+01   1.00000000e-02]\n",
      "Hyper-parameters at iteration 0 : [  2.38042051e+01   1.39443470e+01   1.00000000e-02]\n",
      "Hyper-parameters at iteration 1 : [  2.71320489e+01   1.19333562e+01   1.00000000e-02]\n",
      "Hyper-parameters at iteration 2 : [  2.71160764e+01   1.19430088e+01   1.00000000e-02]\n",
      "Hyper-parameters at iteration 3 : [  2.71160763e+01   1.19430089e+01   1.00000000e-02]\n",
      "\tHyper-parameters at outter iteration 4 : [  2.71160763e+01   1.19430089e+01   1.00000000e-02]\n",
      "Hyper-parameters at iteration 0 : [  2.71160763e+01   1.19430089e+01   1.00000000e-02]\n",
      "\tHyper-parameters at outter iteration 5 : [  2.71160763e+01   1.19430089e+01   1.00000000e-02]\n",
      "Hyper-parameters at iteration 0 : [  2.71160763e+01   1.19430089e+01   1.00000000e-02]\n",
      "Hyper-parameters at iteration 1 : [  2.71160765e+01   1.19430085e+01   1.00000000e-02]\n",
      "\tHyper-parameters at outter iteration 6 : [  2.71160765e+01   1.19430085e+01   1.00000000e-02]\n",
      "\n",
      "20\n",
      "Hyper-parameters at iteration 0 : [ 10.   20.    0.1]\n",
      "\tHyper-parameters at outter iteration 0 : [ 10.   20.    0.1]\n",
      "Hyper-parameters at iteration 0 : [ 10.   20.    0.1]\n",
      "Hyper-parameters at iteration 1 : [ 15.38160179  17.26506581   0.08768664]\n",
      "Hyper-parameters at iteration 2 : [ 15.38164784  17.2650582    0.08768661]\n",
      "Hyper-parameters at iteration 3 : [ 15.38172234  17.26504616   0.08768655]\n",
      "\tHyper-parameters at outter iteration 1 : [ 15.38172234  17.26504616   0.08768655]\n",
      "Hyper-parameters at iteration 0 : [ 15.38172234  17.26504616   0.08768655]\n",
      "Hyper-parameters at iteration 1 : [ 24.54154355  13.63038526   0.07132239]\n",
      "Hyper-parameters at iteration 2 : [  2.31450238e+01   1.42057775e+01   1.00000000e-02]\n",
      "Hyper-parameters at iteration 3 : [  2.34888168e+01   1.40693899e+01   1.00000000e-02]\n",
      "Hyper-parameters at iteration 4 : [  2.38041939e+01   1.39443515e+01   1.00000000e-02]\n",
      "\tHyper-parameters at outter iteration 2 : [  2.38041939e+01   1.39443515e+01   1.00000000e-02]\n",
      "Hyper-parameters at iteration 0 : [  2.38041939e+01   1.39443515e+01   1.00000000e-02]\n",
      "Hyper-parameters at iteration 1 : [  2.55689807e+01   1.27184316e+01   1.00000000e-02]\n",
      "Hyper-parameters at iteration 2 : [  2.61247228e+01   1.23323711e+01   1.00000000e-02]\n",
      "Hyper-parameters at iteration 3 : [  2.61202822e+01   1.23354570e+01   1.00000000e-02]\n",
      "\tHyper-parameters at outter iteration 3 : [  2.61202822e+01   1.23354570e+01   1.00000000e-02]\n",
      "Hyper-parameters at iteration 0 : [  2.61202822e+01   1.23354570e+01   1.00000000e-02]\n",
      "Hyper-parameters at iteration 1 : [  2.61202822e+01   1.23354570e+01   1.00000000e-02]\n",
      "\tHyper-parameters at outter iteration 4 : [  2.61202822e+01   1.23354570e+01   1.00000000e-02]\n",
      "Hyper-parameters at iteration 0 : [  2.61202822e+01   1.23354570e+01   1.00000000e-02]\n",
      "Hyper-parameters at iteration 1 : [  2.67294176e+01   1.16902603e+01   1.00000000e-02]\n",
      "\tHyper-parameters at outter iteration 5 : [  2.67294176e+01   1.16902603e+01   1.00000000e-02]\n",
      "Hyper-parameters at iteration 0 : [  2.67294176e+01   1.16902603e+01   1.00000000e-02]\n",
      "Hyper-parameters at iteration 1 : [  2.70074916e+01   1.12566220e+01   1.00000000e-02]\n",
      "Hyper-parameters at iteration 2 : [  2.69722223e+01   1.13116844e+01   1.00000000e-02]\n",
      "Hyper-parameters at iteration 3 : [  2.69750600e+01   1.13075336e+01   1.00000000e-02]\n",
      "Hyper-parameters at iteration 4 : [  2.69900849e+01   1.12844910e+01   1.00000000e-02]\n",
      "\tHyper-parameters at outter iteration 6 : [  2.69900849e+01   1.12844909e+01   1.00000000e-02]\n",
      "\n"
     ]
    },
    {
     "name": "stderr",
     "output_type": "stream",
     "text": [
      "/Users/IzmailovPavel/Documents/Education/Course Project/Code/GP/optimization.py:367: OptimizeWarning: Unknown solver options: num_recomputes\n",
      "  out = op.minimize(func, x0, jac=jac, callback=callback, **kwargs)\n"
     ]
    }
   ],
   "source": [
    "maxfuns = [5, 10, 15, 20]\n",
    "results = []\n",
    "for maxfun in maxfuns:\n",
    "    print(maxfun)\n",
    "    model_covariance_obj = SquaredExponential(np.copy(cov_params))\n",
    "    vi_gp = GPC(model_covariance_obj, method='vi')\n",
    "    opts = {'maxfun':maxfun, 'mydisp': True, 'num_updates':3}\n",
    "    results.append(vi_gp.fit(x_tr, y_tr, inputs=inputs, optimizer_options=opts, max_out_iter=7))\n",
    "    print()"
   ]
  },
  {
   "cell_type": "code",
   "execution_count": 37,
   "metadata": {
    "collapsed": false
   },
   "outputs": [
    {
     "name": "stdout",
     "output_type": "stream",
     "text": [
      "0\n",
      "1\n",
      "2\n",
      "3\n"
     ]
    },
    {
     "data": {
      "text/plain": [
       "<matplotlib.text.Text at 0x10df8c6a0>"
      ]
     },
     "execution_count": 37,
     "metadata": {},
     "output_type": "execute_result"
    },
    {
     "data": {
      "image/png": "[encoded data removed]",
      "text/plain": [
       "<matplotlib.figure.Figure at 0x10df68358>"
      ]
     },
     "metadata": {},
     "output_type": "display_data"
    }
   ],
   "source": [
    "metric = lambda w: vi_gp.get_prediction_quality(w, x_test, y_test)\n",
    "for i in range(len(maxfuns)):\n",
    "    vi_x_lst, vi_y_lst = results[i].plot_performance(metric, 't', freq=1)\n",
    "    plt.plot(vi_x_lst[1:], vi_y_lst[1:], label=maxfuns[i])\n",
    "    print(i)\n",
    "plt.ylim([0.85, 1.])\n",
    "plt.legend()\n",
    "plt.xlabel('Seconds')\n",
    "plt.ylabel('Accuracy')"
   ]
  },
  {
   "cell_type": "markdown",
   "metadata": {},
   "source": [
    "Обучение лучшего варианта"
   ]
  },
  {
   "cell_type": "code",
   "execution_count": 5,
   "metadata": {
    "collapsed": true
   },
   "outputs": [
    {
     "name": "stdout",
     "output_type": "stream",
     "text": [
      "Hyper-parameters at iteration 0 : [ 10.   20.    0.1]\n",
      "\tHyper-parameters at outter iteration 0 : [ 10.   20.    0.1]\n",
      "Hyper-parameters at iteration 0 : [ 10.   20.    0.1]\n",
      "Hyper-parameters at iteration 1 : [ 15.34724139  17.28252779   0.08776526]\n",
      "\tHyper-parameters at outter iteration 1 : [ 25.04423088  12.34747978   0.0630691 ]\n",
      "Hyper-parameters at iteration 0 : [ 25.04423088  12.34747978   0.0630691 ]\n",
      "Hyper-parameters at iteration 1 : [ 25.59073785  11.56181394   0.05410709]\n",
      "Hyper-parameters at iteration 2 : [  2.48322021e+01   1.26534443e+01   1.00000000e-02]\n",
      "\tHyper-parameters at outter iteration 2 : [  2.48345551e+01   1.26500577e+01   1.00000000e-02]\n",
      "Hyper-parameters at iteration 0 : [  2.48345551e+01   1.26500577e+01   1.00000000e-02]\n",
      "\tHyper-parameters at outter iteration 3 : [  2.48345551e+01   1.26500577e+01   1.00000000e-02]\n",
      "Hyper-parameters at iteration 0 : [  2.48345551e+01   1.26500577e+01   1.00000000e-02]\n",
      "\tHyper-parameters at outter iteration 4 : [  2.48345551e+01   1.26500577e+01   1.00000000e-02]\n",
      "Hyper-parameters at iteration 0 : [  2.48345551e+01   1.26500577e+01   1.00000000e-02]\n",
      "\tHyper-parameters at outter iteration 5 : [  2.48345615e+01   1.26500533e+01   1.00000000e-02]\n",
      "Hyper-parameters at iteration 0 : [  2.48345615e+01   1.26500533e+01   1.00000000e-02]\n",
      "\tHyper-parameters at outter iteration 6 : [  2.48345615e+01   1.26500533e+01   1.00000000e-02]\n",
      "Hyper-parameters at iteration 0 : [  2.48345615e+01   1.26500533e+01   1.00000000e-02]\n",
      "\tHyper-parameters at outter iteration 7 : [  2.48345615e+01   1.26500533e+01   1.00000000e-02]\n",
      "Hyper-parameters at iteration 0 : [  2.48345615e+01   1.26500533e+01   1.00000000e-02]\n",
      "Hyper-parameters at iteration 1 : [  2.77336796e+01   1.09362150e+01   1.00000000e-02]\n",
      "\tHyper-parameters at outter iteration 8 : [  2.76606797e+01   1.09792206e+01   1.00000000e-02]\n",
      "Hyper-parameters at iteration 0 : [  2.76606797e+01   1.09792206e+01   1.00000000e-02]\n",
      "Hyper-parameters at iteration 1 : [  2.76610039e+01   1.10785838e+01   1.00000000e-02]\n",
      "\tHyper-parameters at outter iteration 9 : [  2.76711197e+01   1.10283168e+01   1.00000000e-02]\n",
      "Hyper-parameters at iteration 0 : [  2.76711197e+01   1.10283168e+01   1.00000000e-02]\n",
      "\tHyper-parameters at outter iteration 10 : [  2.76711197e+01   1.10283168e+01   1.00000000e-02]\n",
      "Hyper-parameters at iteration 0 : [  2.76711197e+01   1.10283168e+01   1.00000000e-02]\n",
      "Hyper-parameters at iteration 1 : [  2.77811356e+01   1.07691815e+01   1.00000000e-02]\n",
      "\tHyper-parameters at outter iteration 11 : [  2.77987308e+01   1.07264165e+01   1.00000000e-02]\n",
      "Hyper-parameters at iteration 0 : [  2.77987308e+01   1.07264165e+01   1.00000000e-02]\n",
      "Hyper-parameters at iteration 1 : [  2.77993394e+01   1.07267105e+01   1.00000000e-02]\n",
      "Hyper-parameters at iteration 2 : [  2.78004443e+01   1.07267119e+01   1.00000000e-02]\n",
      "\tHyper-parameters at outter iteration 12 : [  2.78234723e+01   1.07262967e+01   1.00000000e-02]\n",
      "Hyper-parameters at iteration 0 : [  2.78234723e+01   1.07262967e+01   1.00000000e-02]\n",
      "\tHyper-parameters at outter iteration 13 : [  2.78234723e+01   1.07262967e+01   1.00000000e-02]\n",
      "Hyper-parameters at iteration 0 : [  2.78234723e+01   1.07262967e+01   1.00000000e-02]\n",
      "\tHyper-parameters at outter iteration 14 : [  2.78234723e+01   1.07262967e+01   1.00000000e-02]\n",
      "Hyper-parameters at iteration 0 : [  2.78234723e+01   1.07262967e+01   1.00000000e-02]\n",
      "\tHyper-parameters at outter iteration 15 : [  2.78234723e+01   1.07262967e+01   1.00000000e-02]\n",
      "Hyper-parameters at iteration 0 : [  2.78234723e+01   1.07262967e+01   1.00000000e-02]\n",
      "Hyper-parameters at iteration 1 : [  2.78245941e+01   1.07293207e+01   1.00000000e-02]\n",
      "\tHyper-parameters at outter iteration 16 : [  2.78285249e+01   1.07268912e+01   1.00000000e-02]\n",
      "Hyper-parameters at iteration 0 : [  2.78285249e+01   1.07268912e+01   1.00000000e-02]\n",
      "\tHyper-parameters at outter iteration 17 : [  2.78285249e+01   1.07268911e+01   1.00000000e-02]\n",
      "Hyper-parameters at iteration 0 : [  2.78285249e+01   1.07268911e+01   1.00000000e-02]\n",
      "\tHyper-parameters at outter iteration 18 : [  2.78285249e+01   1.07268911e+01   1.00000000e-02]\n",
      "Hyper-parameters at iteration 0 : [  2.78285249e+01   1.07268911e+01   1.00000000e-02]\n",
      "\tHyper-parameters at outter iteration 19 : [  2.78285249e+01   1.07268911e+01   1.00000000e-02]\n"
     ]
    }
   ],
   "source": [
    "model_covariance_obj = SquaredExponential(np.copy(cov_params))\n",
    "vi_gp = GPC(model_covariance_obj, method='vi')\n",
    "opts = {'maxfun':5, 'mydisp': True, 'num_updates':3}\n",
    "vi_res = vi_gp.fit(x_tr, y_tr, inputs=inputs, optimizer_options=opts, max_out_iter=20)"
   ]
  },
  {
   "cell_type": "code",
   "execution_count": 6,
   "metadata": {
    "collapsed": false
   },
   "outputs": [
    {
     "data": {
      "text/plain": [
       "<matplotlib.text.Text at 0x106136048>"
      ]
     },
     "execution_count": 6,
     "metadata": {},
     "output_type": "execute_result"
    },
    {
     "data": {
      "image/png": "[encoded data removed]",
      "text/plain": [
       "<matplotlib.figure.Figure at 0x10d1e1d30>"
      ]
     },
     "metadata": {},
     "output_type": "display_data"
    }
   ],
   "source": [
    "metric = lambda w: vi_gp.get_prediction_quality(w, x_test, y_test)\n",
    "vi_x_lst, vi_y_lst = vi_res.plot_performance(metric, 't', freq=1)\n",
    "plt.plot(vi_x_lst[1:], vi_y_lst[1:], '-bx', label='vi-means-c')\n",
    "# plt.plot(svi_x_lst[1:100], svi_y_lst[1:100], '-gx', label='svi-L-BFGS-B-c')\n",
    "plt.ylim([0.9, 1.])\n",
    "plt.legend()\n",
    "plt.xlabel('Seconds')\n",
    "plt.ylabel('Accuracy')"
   ]
  },
  {
   "cell_type": "markdown",
   "metadata": {},
   "source": [
    "### Taylor\n",
    "Подбор числа пересчетов"
   ]
  },
  {
   "cell_type": "code",
   "execution_count": 7,
   "metadata": {
    "collapsed": true
   },
   "outputs": [
    {
     "name": "stdout",
     "output_type": "stream",
     "text": [
      "Hyper-parameters at iteration 0 : [ 10.   20.    0.1]\n",
      "Hyper-parameters at iteration 1 : [ 15.43672779  15.600007     0.08019013]\n",
      "Hyper-parameters at iteration 2 : [  1.67454905e+01   1.39006917e+01   1.00000000e-02]\n",
      "\tHyper-parameters at outter iteration 0 : [  1.50240713e+01   1.54041292e+01   1.00000000e-02]\n",
      "Hyper-parameters at iteration 0 : [  1.50240713e+01   1.54041292e+01   1.00000000e-02]\n",
      "\tHyper-parameters at outter iteration 1 : [  1.50244020e+01   1.54040148e+01   1.00000000e-02]\n",
      "Hyper-parameters at iteration 0 : [  1.50244020e+01   1.54040148e+01   1.00000000e-02]\n",
      "\tHyper-parameters at outter iteration 2 : [  1.50253865e+01   1.54037589e+01   1.00000000e-02]\n",
      "Hyper-parameters at iteration 0 : [  1.50253865e+01   1.54037589e+01   1.00000000e-02]\n",
      "Hyper-parameters at iteration 1 : [  2.73620806e+01   1.23041019e+01   1.00000000e-02]\n",
      "\tHyper-parameters at outter iteration 3 : [  2.73672375e+01   1.23027971e+01   1.00000000e-02]\n",
      "Hyper-parameters at iteration 0 : [  2.73672375e+01   1.23027971e+01   1.00000000e-02]\n",
      "Hyper-parameters at iteration 1 : [  2.93883490e+01   1.06982747e+01   1.00000000e-02]\n",
      "Hyper-parameters at iteration 2 : [  2.88459890e+01   1.11327665e+01   1.00000000e-02]\n",
      "\tHyper-parameters at outter iteration 4 : [  2.89504227e+01   1.10541803e+01   1.00000000e-02]\n",
      "Hyper-parameters at iteration 0 : [  2.89504227e+01   1.10541803e+01   1.00000000e-02]\n",
      "\tHyper-parameters at outter iteration 5 : [  2.89504227e+01   1.10541803e+01   1.00000000e-02]\n",
      "Hyper-parameters at iteration 0 : [  2.89504227e+01   1.10541803e+01   1.00000000e-02]\n",
      "\tHyper-parameters at outter iteration 6 : [  2.89504227e+01   1.10541803e+01   1.00000000e-02]\n",
      "Hyper-parameters at iteration 0 : [  2.89504227e+01   1.10541803e+01   1.00000000e-02]\n",
      "\tHyper-parameters at outter iteration 7 : [  2.89504227e+01   1.10541803e+01   1.00000000e-02]\n",
      "Hyper-parameters at iteration 0 : [  2.89504227e+01   1.10541803e+01   1.00000000e-02]\n",
      "\tHyper-parameters at outter iteration 8 : [  2.89504227e+01   1.10541803e+01   1.00000000e-02]\n",
      "Hyper-parameters at iteration 0 : [  2.89504227e+01   1.10541803e+01   1.00000000e-02]\n",
      "Hyper-parameters at iteration 1 : [  2.95070145e+01   1.04224024e+01   1.00000000e-02]\n",
      "\tHyper-parameters at outter iteration 9 : [  2.96229341e+01   1.02901393e+01   1.00000000e-02]\n",
      "Hyper-parameters at iteration 0 : [  2.96229341e+01   1.02901393e+01   1.00000000e-02]\n",
      "Hyper-parameters at iteration 1 : [  2.96646233e+01   1.02102359e+01   1.00000000e-02]\n",
      "\tHyper-parameters at outter iteration 10 : [  2.96646233e+01   1.02102359e+01   1.00000000e-02]\n",
      "Hyper-parameters at iteration 0 : [  2.96646233e+01   1.02102359e+01   1.00000000e-02]\n",
      "Hyper-parameters at iteration 1 : [  2.96736410e+01   1.02282176e+01   1.00000000e-02]\n",
      "\tHyper-parameters at outter iteration 11 : [  2.98170241e+01   1.02202062e+01   1.00000000e-02]\n",
      "Hyper-parameters at iteration 0 : [  2.98170241e+01   1.02202062e+01   1.00000000e-02]\n",
      "Hyper-parameters at iteration 1 : [  2.98216171e+01   1.02387808e+01   1.00000000e-02]\n",
      "\tHyper-parameters at outter iteration 12 : [  2.98251286e+01   1.02346725e+01   1.00000000e-02]\n",
      "Hyper-parameters at iteration 0 : [  2.98251286e+01   1.02346725e+01   1.00000000e-02]\n",
      "Hyper-parameters at iteration 1 : [  3.01791162e+01   1.02243162e+01   1.00000000e-02]\n",
      "Hyper-parameters at iteration 2 : [  3.03866246e+01   1.02447703e+01   1.00000000e-02]\n",
      "\tHyper-parameters at outter iteration 13 : [  3.03866250e+01   1.02447704e+01   1.00000000e-02]\n",
      "Hyper-parameters at iteration 0 : [  3.03866250e+01   1.02447704e+01   1.00000000e-02]\n",
      "Hyper-parameters at iteration 1 : [  3.03914170e+01   1.03305490e+01   1.00000000e-02]\n",
      "Hyper-parameters at iteration 2 : [  3.03932838e+01   1.02925872e+01   1.00000000e-02]\n",
      "\tHyper-parameters at outter iteration 14 : [  3.03932839e+01   1.02925858e+01   1.00000000e-02]\n",
      "Hyper-parameters at iteration 0 : [  3.03932839e+01   1.02925858e+01   1.00000000e-02]\n",
      "Hyper-parameters at iteration 1 : [  3.11405806e+01   1.03583379e+01   1.00000000e-02]\n",
      "Hyper-parameters at iteration 2 : [  3.23926053e+01   1.05126180e+01   1.00000000e-02]\n",
      "\tHyper-parameters at outter iteration 15 : [  6.75629582e+01   1.52776468e+01   1.00000000e-02]\n",
      "Hyper-parameters at iteration 0 : [  6.75629582e+01   1.52776468e+01   1.00000000e-02]\n",
      "\tHyper-parameters at outter iteration 16 : [  6.75646469e+01   1.50772890e+01   1.00000000e-02]\n",
      "Hyper-parameters at iteration 0 : [  6.75646469e+01   1.50772890e+01   1.00000000e-02]\n",
      "\tHyper-parameters at outter iteration 17 : [  6.75646469e+01   1.50772890e+01   1.00000000e-02]\n",
      "Hyper-parameters at iteration 0 : [  6.75646469e+01   1.50772890e+01   1.00000000e-02]\n",
      "\tHyper-parameters at outter iteration 18 : [  6.75646469e+01   1.50772890e+01   1.00000000e-02]\n",
      "Hyper-parameters at iteration 0 : [  6.75646469e+01   1.50772890e+01   1.00000000e-02]\n",
      "\tHyper-parameters at outter iteration 19 : [  6.75593304e+01   1.50680645e+01   1.00000000e-02]\n"
     ]
    }
   ],
   "source": [
    "model_covariance_obj = SquaredExponential(np.copy(cov_params))\n",
    "vi_gp = GPC(model_covariance_obj, method='vi')\n",
    "opts = {'bound': 'Taylor', 'maxfun':5, 'mydisp': True, 'num_updates':3}\n",
    "vi_res = vi_gp.fit(x_tr, y_tr, inputs=inputs, optimizer_options=opts, max_out_iter=20)"
   ]
  },
  {
   "cell_type": "code",
   "execution_count": 8,
   "metadata": {
    "collapsed": false
   },
   "outputs": [
    {
     "data": {
      "text/plain": [
       "<matplotlib.text.Text at 0x1068039b0>"
      ]
     },
     "execution_count": 8,
     "metadata": {},
     "output_type": "execute_result"
    },
    {
     "data": {
      "image/png": "[encoded data removed]",
      "text/plain": [
       "<matplotlib.figure.Figure at 0x10d1e1cc0>"
      ]
     },
     "metadata": {},
     "output_type": "display_data"
    }
   ],
   "source": [
    "metric = lambda w: vi_gp.get_prediction_quality(w, x_test, y_test)\n",
    "vi_t_x_lst, vi_t_y_lst = vi_res.plot_performance(metric, 't', freq=1)\n",
    "plt.plot(vi_t_x_lst[1:], vi_t_y_lst[1:], '-mx', label='vi-means-c')\n",
    "# plt.plot(svi_x_lst[1:100], svi_y_lst[1:100], '-gx', label='svi-L-BFGS-B-c')\n",
    "plt.ylim([.9, 1.])\n",
    "plt.legend()\n",
    "plt.xlabel('Seconds')\n",
    "plt.ylabel('Accuracy')"
   ]
  },
  {
   "cell_type": "markdown",
   "metadata": {},
   "source": [
    "### JJ-full"
   ]
  },
  {
   "cell_type": "code",
   "execution_count": 6,
   "metadata": {
    "collapsed": false
   },
   "outputs": [
    {
     "name": "stdout",
     "output_type": "stream",
     "text": [
      "Hyper-parameters at iteration 0 : [ 10.   20.    0.1   1.    1. ]\n",
      "Hyper-parameters at iteration 1 : [ 17.18610928  13.47387237   0.07061773   1.01520532   1.01452459]\n",
      "Hyper-parameters at iteration 2 : [  1.89013696e+01   1.19079634e+01   1.00000000e-02   1.01903986e+00\n",
      "   1.01819814e+00]\n",
      "Hyper-parameters at iteration 3 : [  1.66532717e+01   1.39520669e+01   1.00000000e-02   1.01424214e+00\n",
      "   1.01361301e+00]\n",
      "Hyper-parameters at iteration 4 : [  1.67478852e+01   1.38661400e+01   1.00000000e-02   1.01444973e+00\n",
      "   1.01381161e+00]\n",
      "Hyper-parameters at iteration 5 : [  1.68450212e+01   1.37780870e+01   1.00000000e-02   1.01466643e+00\n",
      "   1.01401905e+00]\n",
      "Hyper-parameters at iteration 6 : [  1.71263990e+01   1.35230659e+01   1.00000000e-02   1.01531522e+00\n",
      "   1.01464087e+00]\n",
      "Hyper-parameters at iteration 7 : [  1.71341354e+01   1.35160485e+01   1.00000000e-02   1.01533386e+00\n",
      "   1.01465876e+00]\n",
      "Hyper-parameters at iteration 8 : [  1.65945362e+01   1.18647457e+01   1.00000000e-02   1.02637447e+00\n",
      "   1.02558307e+00]\n",
      "Hyper-parameters at iteration 9 : [  1.67026355e+01   1.22241386e+01   1.00000000e-02   1.02408217e+00\n",
      "   1.02331476e+00]\n",
      "Hyper-parameters at iteration 10 : [  1.67097779e+01   1.22521080e+01   1.00000000e-02   1.02391998e+00\n",
      "   1.02315425e+00]\n",
      "Hyper-parameters at iteration 11 : [  1.62798516e+01   1.34310286e+01   1.00000000e-02   1.02636544e+00\n",
      "   1.02555907e+00]\n",
      "Hyper-parameters at iteration 12 : [  1.61579895e+01   1.37673495e+01   1.00000000e-02   1.02707853e+00\n",
      "   1.02626042e+00]\n",
      "Hyper-parameters at iteration 13 : [  1.61579895e+01   1.37673495e+01   1.00000000e-02   1.02707853e+00\n",
      "   1.02626042e+00]\n",
      "Hyper-parameters at iteration 14 : [  1.61580046e+01   1.37673081e+01   1.00000000e-02   1.02707844e+00\n",
      "   1.02626034e+00]\n",
      "Hyper-parameters at iteration 15 : [  1.63380299e+01   1.27642174e+01   1.00000000e-02   1.03081075e+00\n",
      "   1.02996326e+00]\n",
      "Hyper-parameters at iteration 16 : [  1.63607453e+01   1.26329899e+01   1.00000000e-02   1.03132247e+00\n",
      "   1.03047088e+00]\n",
      "Hyper-parameters at iteration 17 : [  1.63607453e+01   1.26329899e+01   1.00000000e-02   1.03132247e+00\n",
      "   1.03047088e+00]\n",
      "Hyper-parameters at iteration 18 : [  1.54463278e+01   1.38706559e+01   1.00000000e-02   1.03830275e+00\n",
      "   1.03735422e+00]\n",
      "Hyper-parameters at iteration 19 : [  1.53502522e+01   1.39998694e+01   1.00000000e-02   1.03905333e+00\n",
      "   1.03809445e+00]\n",
      "Hyper-parameters at iteration 20 : [  1.55520145e+01   1.36549448e+01   1.00000000e-02   1.03924365e+00\n",
      "   1.03828920e+00]\n",
      "Hyper-parameters at iteration 21 : [  1.63113109e+01   1.21384900e+01   1.00000000e-02   1.04517922e+00\n",
      "   1.04419027e+00]\n",
      "Hyper-parameters at iteration 22 : [  1.59256137e+01   1.25354568e+01   1.00000000e-02   1.05121615e+00\n",
      "   1.05015598e+00]\n",
      "Hyper-parameters at iteration 23 : [  1.32415591e+01   1.40392600e+01   1.00000000e-02   1.12390004e+00\n",
      "   1.12204340e+00]\n",
      "Hyper-parameters at iteration 24 : [  6.71375532e+00   1.56835264e+01   1.00000000e-02   1.34953772e+00\n",
      "   1.34526494e+00]\n",
      "Hyper-parameters at iteration 25 : [  5.08191678e+00   1.43886968e+01   1.00000000e-02   1.44786214e+00\n",
      "   1.44257372e+00]\n",
      "Hyper-parameters at iteration 26 : [ 2.26041441  4.58981392  0.01        1.83373356  1.82456566]\n",
      "Hyper-parameters at iteration 27 : [ 1.66067702  3.36928955  0.01        2.06986505  2.0583415 ]\n",
      "Hyper-parameters at iteration 28 : [ 1.5484847   4.31039056  0.01        2.42870128  2.41360245]\n",
      "Hyper-parameters at iteration 29 : [ 5.60252639  7.01866562  0.01        3.45330341  3.42809488]\n",
      "Hyper-parameters at iteration 30 : [ 5.13269815  6.08094226  0.01        3.24141745  3.21831183]\n",
      "Hyper-parameters at iteration 31 : [ 4.91710294  5.28254312  0.01        3.12691746  3.10495004]\n",
      "Hyper-parameters at iteration 32 : [ 5.14984325  5.5609919   0.01        3.16893081  3.14654808]\n",
      "Hyper-parameters at iteration 33 : [ 5.46022586  5.74197504  0.01        3.19652096  3.17386614]\n",
      "Hyper-parameters at iteration 34 : [ 6.63941871  6.32088277  0.01        3.25309741  3.22985041]\n",
      "Hyper-parameters at iteration 35 : [ 7.95007362  6.89286269  0.01        3.27219953  3.24817669]\n",
      "Hyper-parameters at iteration 36 : [  1.22267556e+01   8.64138352e+00   1.00000000e-02   3.27403767e+00\n",
      "   3.24733722e+00]\n",
      "Hyper-parameters at iteration 37 : [  1.98584480e+01   1.15163151e+01   1.00000000e-02   3.26771800e+00\n",
      "   3.23558490e+00]\n",
      "Hyper-parameters at iteration 38 : [  2.65328794e+01   1.37387391e+01   1.00000000e-02   3.24661816e+00\n",
      "   3.20925283e+00]\n",
      "Hyper-parameters at iteration 39 : [  2.75397891e+01   1.37038296e+01   1.00000000e-02   3.23642321e+00\n",
      "   3.19759217e+00]\n",
      "Hyper-parameters at iteration 40 : [  4.82509760e+01   1.64367762e+01   1.00000000e-02   3.25842271e+00\n",
      "   3.19472914e+00]\n",
      "Hyper-parameters at iteration 41 : [  3.96554649e+01   1.45864957e+01   1.00000000e-02   3.35109453e+00\n",
      "   3.29568642e+00]\n",
      "Hyper-parameters at iteration 42 : [  4.43109652e+01   1.42925928e+01   1.00000000e-02   3.68798879e+00\n",
      "   3.62435344e+00]\n",
      "Hyper-parameters at iteration 43 : [  4.38319494e+01   1.39216831e+01   1.00000000e-02   3.82928676e+00\n",
      "   3.76487027e+00]\n",
      "Hyper-parameters at iteration 44 : [  4.49750417e+01   1.41736876e+01   1.00000000e-02   3.92646884e+00\n",
      "   3.85930780e+00]\n",
      "Hyper-parameters at iteration 45 : [  4.73716255e+01   1.48722806e+01   1.00000000e-02   4.08321420e+00\n",
      "   4.00950943e+00]\n",
      "Hyper-parameters at iteration 46 : [  4.73572839e+01   1.48677377e+01   1.00000000e-02   4.09068300e+00\n",
      "   4.01668039e+00]\n",
      "Hyper-parameters at iteration 47 : [  4.69995458e+01   1.48046407e+01   1.00000000e-02   4.09815813e+00\n",
      "   4.02406027e+00]\n",
      "Hyper-parameters at iteration 48 : [  4.64718742e+01   1.42408972e+01   1.00000000e-02   4.52752503e+00\n",
      "   4.43820687e+00]\n",
      "Hyper-parameters at iteration 49 : [  4.53557596e+01   1.40572162e+01   1.00000000e-02   4.56405590e+00\n",
      "   4.46852575e+00]\n",
      "Hyper-parameters at iteration 50 : [  4.57619155e+01   1.32309323e+01   1.00000000e-02   4.57312557e+00\n",
      "   4.48822694e+00]\n",
      "Hyper-parameters at iteration 51 : [  4.29718883e+01   1.35105368e+01   1.00000000e-02   4.32176165e+00\n",
      "   4.23691055e+00]\n",
      "Hyper-parameters at iteration 52 : [  4.30666407e+01   1.37938799e+01   1.00000000e-02   4.19382139e+00\n",
      "   4.11484835e+00]\n",
      "Hyper-parameters at iteration 53 : [  4.30037707e+01   1.39795191e+01   1.00000000e-02   4.19354218e+00\n",
      "   4.11467682e+00]\n"
     ]
    }
   ],
   "source": [
    "model_covariance_obj = SquaredExponential(np.copy(cov_params))\n",
    "vi_gp = GPC(model_covariance_obj, method='vi_full')\n",
    "opts = {'maxiter':100, 'mydisp': True}\n",
    "vi_res = vi_gp.fit(x_tr, y_tr, inputs=inputs, optimizer_options=opts)"
   ]
  },
  {
   "cell_type": "code",
   "execution_count": 7,
   "metadata": {
    "collapsed": false
   },
   "outputs": [
    {
     "data": {
      "text/plain": [
       "<matplotlib.text.Text at 0x10e50b208>"
      ]
     },
     "execution_count": 7,
     "metadata": {},
     "output_type": "execute_result"
    },
    {
     "data": {
      "image/png": "[encoded data removed]",
      "text/plain": [
       "<matplotlib.figure.Figure at 0x10d97eef0>"
      ]
     },
     "metadata": {},
     "output_type": "display_data"
    }
   ],
   "source": [
    "metric = lambda w: vi_gp.get_prediction_quality(w, x_tr, y_tr, x_test, y_test)\n",
    "vi_full_x_lst, vi_full_y_lst = vi_res.plot_performance(metric, 't', freq=1)\n",
    "plt.plot(vi_full_x_lst[1:], vi_full_y_lst[1:], '-kx', label='vi-JJ-full')\n",
    "# plt.plot(svi_x_lst[1:100], svi_y_lst[1:100], '-gx', label='svi-L-BFGS-B-c')\n",
    "plt.ylim([0.9, 1.])\n",
    "plt.legend()\n",
    "plt.xlabel('Seconds')\n",
    "plt.ylabel('Accuracy')"
   ]
  },
  {
   "cell_type": "markdown",
   "metadata": {},
   "source": [
    "### Stochastic Taylor"
   ]
  },
  {
   "cell_type": "code",
   "execution_count": 14,
   "metadata": {
    "collapsed": false
   },
   "outputs": [
    {
     "name": "stdout",
     "output_type": "stream",
     "text": [
      "Iteration  1 :\n",
      "\tGradient norm 28.1776068777\n",
      "\tHyper-parameters at outter iteration 0 : [ 11.27415051  18.61077423   0.04686753]\n",
      "Iteration  1 :\n",
      "\tGradient norm 102.05988787\n",
      "\tHyper-parameters at outter iteration 1 : [  1.24482182e+01   1.73590466e+01   1.67022205e-02]\n",
      "Iteration  1 :\n",
      "\tGradient norm 96.3969687083\n",
      "\tHyper-parameters at outter iteration 2 : [ 13.50931531  16.24240613  -0.01788846]\n",
      "Iteration  1 :\n",
      "\tGradient norm 117.559503794\n",
      "\tHyper-parameters at outter iteration 3 : [ 14.5802847   15.110978     0.03456205]\n",
      "Iteration  1 :\n",
      "\tGradient norm 37.6117229924\n",
      "\tHyper-parameters at outter iteration 4 : [  1.56479837e+01   1.39916326e+01  -8.08146689e-03]\n",
      "Iteration  1 :\n",
      "\tGradient norm 101.497809677\n",
      "\tHyper-parameters at outter iteration 5 : [  1.66699841e+01   1.29277653e+01   4.53157229e-03]\n",
      "Iteration  1 :\n",
      "\tGradient norm 28.2842959414\n",
      "\tHyper-parameters at outter iteration 6 : [  1.76673174e+01   1.18971580e+01  -4.16344431e-03]\n",
      "Iteration  1 :\n",
      "\tGradient norm 12.7585909424\n",
      "\tHyper-parameters at outter iteration 7 : [  1.86325933e+01   1.09137671e+01   4.47853559e-03]\n",
      "Iteration  1 :\n",
      "\tGradient norm 0.808707771079\n",
      "\tHyper-parameters at outter iteration 8 : [  1.95353505e+01   1.00204949e+01  -3.29075678e-06]\n",
      "Iteration  1 :\n",
      "\tGradient norm 7.03728357215\n",
      "\tHyper-parameters at outter iteration 9 : [  2.03460246e+01   9.24558617e+00  -1.17610102e-02]\n",
      "Iteration  1 :\n",
      "\tGradient norm 0.0644865975353\n",
      "\tHyper-parameters at outter iteration 10 : [  2.10275305e+01   8.72289817e+00   5.77117509e-07]\n",
      "Iteration  1 :\n",
      "\tGradient norm 0.18011186483\n",
      "\tHyper-parameters at outter iteration 11 : [  2.16644494e+01   8.47386678e+00   1.01927256e-05]\n",
      "Iteration  1 :\n",
      "\tGradient norm 8.96956742761\n",
      "\tHyper-parameters at outter iteration 12 : [  2.22937787e+01   8.36981963e+00  -1.30078186e-02]\n",
      "Iteration  1 :\n",
      "\tGradient norm 0.46491131724\n",
      "\tHyper-parameters at outter iteration 13 : [  2.29295120e+01   8.29562423e+00   1.47528266e-05]\n",
      "Iteration  1 :\n",
      "\tGradient norm 0.229486083397\n",
      "\tHyper-parameters at outter iteration 14 : [  2.35652487e+01   8.30719561e+00  -6.35588639e-12]\n",
      "Iteration  1 :\n",
      "\tGradient norm 0.670095038877\n",
      "\tHyper-parameters at outter iteration 15 : [  2.41673905e+01   8.39561492e+00  -1.10823170e-09]\n",
      "Iteration  1 :\n",
      "\tGradient norm 2.46090480612\n",
      "\tHyper-parameters at outter iteration 16 : [ 24.86389784   8.39103225  -0.03349691]\n",
      "Iteration  1 :\n",
      "\tGradient norm 0.444548466557\n",
      "\tHyper-parameters at outter iteration 17 : [  2.54789788e+01   8.47964971e+00   8.93889511e-04]\n",
      "Iteration  1 :\n",
      "\tGradient norm 0.141194689797\n",
      "\tHyper-parameters at outter iteration 18 : [  2.60872643e+01   8.60062419e+00  -1.12492948e-06]\n",
      "Iteration  1 :\n",
      "\tGradient norm 0.0607013803606\n",
      "\tHyper-parameters at outter iteration 19 : [  2.67183579e+01   8.63760390e+00   1.74692969e-05]\n",
      "Iteration  1 :\n",
      "\tGradient norm 0.226640717648\n",
      "\tHyper-parameters at outter iteration 20 : [  2.74664122e+01   8.75492467e+00  -1.11402201e-05]\n",
      "Iteration  1 :\n",
      "\tGradient norm 0.491372434525\n",
      "\tHyper-parameters at outter iteration 21 : [  2.81564195e+01   8.92944714e+00  -1.08333872e-06]\n",
      "Iteration  1 :\n",
      "\tGradient norm 0.451236920407\n",
      "\tHyper-parameters at outter iteration 22 : [  2.87158838e+01   9.03817898e+00   1.16745877e-07]\n",
      "Iteration  1 :\n",
      "\tGradient norm 3.55584937639\n",
      "\tHyper-parameters at outter iteration 23 : [  2.92778764e+01   9.14449332e+00   1.48065308e-02]\n",
      "Iteration  1 :\n",
      "\tGradient norm 0.207330293059\n",
      "\tHyper-parameters at outter iteration 24 : [  2.98445304e+01   9.18025748e+00  -2.68969735e-06]\n"
     ]
    }
   ],
   "source": [
    "model_covariance_obj = SquaredExponential(np.copy(cov_params))\n",
    "vi_gp = GPC(model_covariance_obj, method='vi')\n",
    "opts = {'bound': 'Taylor', 'mode': 'adadelta', 'num_updates': 1, 'mydisp': True, 'print_freq': 1, 'step_rate': 1.,\n",
    "        'maxiter': 1, 'batch_size':1000}\n",
    "vi_res = vi_gp.fit(x_tr, y_tr, inputs=inputs, optimizer_options=opts, max_out_iter=25)"
   ]
  },
  {
   "cell_type": "code",
   "execution_count": 15,
   "metadata": {
    "collapsed": false
   },
   "outputs": [
    {
     "data": {
      "text/plain": [
       "<matplotlib.text.Text at 0x106767f60>"
      ]
     },
     "execution_count": 15,
     "metadata": {},
     "output_type": "execute_result"
    },
    {
     "data": {
      "image/png": "[encoded data removed]",
      "text/plain": [
       "<matplotlib.figure.Figure at 0x1066b1978>"
      ]
     },
     "metadata": {},
     "output_type": "display_data"
    }
   ],
   "source": [
    "metric = lambda w: vi_gp.get_prediction_quality(w, x_test, y_test)\n",
    "vi_st_x_lst, vi_st_y_lst = vi_res.plot_performance(metric, 't', freq=1)\n",
    "plt.plot(vi_st_x_lst[1:], vi_st_y_lst[1:], '-mx', label='vi-means-c')\n",
    "# plt.plot(svi_x_lst[1:100], svi_y_lst[1:100], '-gx', label='svi-L-BFGS-B-c')\n",
    "plt.ylim([.9, 1.])\n",
    "plt.legend()\n",
    "plt.xlabel('Seconds')\n",
    "plt.ylabel('Accuracy')"
   ]
  },
  {
   "cell_type": "code",
   "execution_count": 10,
   "metadata": {
    "collapsed": false
   },
   "outputs": [
    {
     "data": {
      "text/plain": [
       "0.94174999999999998"
      ]
     },
     "execution_count": 10,
     "metadata": {},
     "output_type": "execute_result"
    }
   ],
   "source": [
    "vi_st_y_lst[15]"
   ]
  },
  {
   "cell_type": "markdown",
   "metadata": {},
   "source": [
    "## svi-AdaDelta-c\n",
    "Подбор длины шага"
   ]
  },
  {
   "cell_type": "code",
   "execution_count": 20,
   "metadata": {
    "collapsed": false
   },
   "outputs": [
    {
     "name": "stdout",
     "output_type": "stream",
     "text": [
      "1.2\n",
      "1.1\n",
      "1.0\n"
     ]
    },
    {
     "name": "stderr",
     "output_type": "stream",
     "text": [
      "/Users/IzmailovPavel/Documents/Education/Course Project/Code/GP/gaussian_process_classification.py:614: RuntimeWarning: invalid value encountered in log\n",
      "  loss += np.sum(np.log(np.diag(sigma_L))) * l / N\n"
     ]
    }
   ],
   "source": [
    "results = []\n",
    "steps = [1.2, 1.1, 1.]\n",
    "for step in steps:\n",
    "    print(step)\n",
    "    model_covariance_obj = SquaredExponential(np.copy(cov_params))\n",
    "    ad_gp = GPC(model_covariance_obj, method='svi', hermgauss_deg=100)\n",
    "\n",
    "    opts = {'mode': 'adadelta', 'maxiter': 20, 'verbose': False, 'batch_size': 350, \n",
    "            'step_rate': step}#, 'print_freq':50}\n",
    "    batch_res = ad_gp.fit(x_tr, y_tr, inputs=inputs, optimizer_options=opts)\n",
    "    results.append(batch_res)"
   ]
  },
  {
   "cell_type": "code",
   "execution_count": 21,
   "metadata": {
    "collapsed": false
   },
   "outputs": [
    {
     "name": "stdout",
     "output_type": "stream",
     "text": [
      "0\n",
      "1\n",
      "2\n"
     ]
    },
    {
     "data": {
      "text/plain": [
       "<matplotlib.text.Text at 0x10da8cd30>"
      ]
     },
     "execution_count": 21,
     "metadata": {},
     "output_type": "execute_result"
    },
    {
     "data": {
      "image/png": "[encoded data removed]",
      "text/plain": [
       "<matplotlib.figure.Figure at 0x10da1a780>"
      ]
     },
     "metadata": {},
     "output_type": "display_data"
    }
   ],
   "source": [
    "metric = lambda w: ad_gp.get_prediction_quality(w, x_test, y_test)\n",
    "for i in range(len(results)):\n",
    "    svi_ad_x_lst, svi_ad_y_lst = results[i].plot_performance(metric, 't', freq=1)\n",
    "    plt.plot(svi_ad_x_lst[1:], svi_ad_y_lst[1:], label=steps[i])\n",
    "    print(i)\n",
    "plt.ylim([0.8, 1.])\n",
    "plt.legend()\n",
    "plt.xlabel('Seconds')\n",
    "plt.ylabel('Accuracy')"
   ]
  },
  {
   "cell_type": "code",
   "execution_count": 22,
   "metadata": {
    "collapsed": true
   },
   "outputs": [
    {
     "name": "stdout",
     "output_type": "stream",
     "text": [
      "Using AdaDelta optimizer\n",
      "Iteration  1 :\n",
      "\tGradient norm 8.8346584206\n",
      "Iteration  2 :\n",
      "\tGradient norm 7.19278907977\n",
      "Iteration  3 :\n",
      "\tGradient norm 13.3856414634\n",
      "Iteration  4 :\n",
      "\tGradient norm 7.87188241742\n",
      "Iteration  5 :\n",
      "\tGradient norm 8.43101824246\n",
      "Iteration  6 :\n",
      "\tGradient norm 19.320388366\n",
      "Iteration  7 :\n",
      "\tGradient norm 8.11076290142\n",
      "Iteration  8 :\n",
      "\tGradient norm 9.9716405351\n",
      "Iteration  9 :\n",
      "\tGradient norm 12.652559551\n",
      "Iteration  10 :\n",
      "\tGradient norm 12.7613938602\n",
      "Iteration  11 :\n",
      "\tGradient norm 8.5814728066\n",
      "Iteration  12 :\n",
      "\tGradient norm 23.599347291\n",
      "Iteration  13 :\n",
      "\tGradient norm 7.91119979681\n",
      "Iteration  14 :\n",
      "\tGradient norm 8.89976175494\n",
      "Iteration  15 :\n",
      "\tGradient norm 12.3944426749\n",
      "Iteration  16 :\n",
      "\tGradient norm 7.5457788762\n",
      "Iteration  17 :\n",
      "\tGradient norm 8.01256424602\n",
      "Iteration  18 :\n",
      "\tGradient norm 13.4304652137\n",
      "Iteration  19 :\n",
      "\tGradient norm 7.75074626901\n",
      "Iteration  20 :\n",
      "\tGradient norm 6.45421833831\n",
      "Iteration  21 :\n",
      "\tGradient norm 12.9885841569\n",
      "Iteration  22 :\n",
      "\tGradient norm 8.38827451034\n",
      "Iteration  23 :\n",
      "\tGradient norm 8.5763372581\n",
      "Iteration  24 :\n",
      "\tGradient norm 9.21383502502\n",
      "Iteration  25 :\n",
      "\tGradient norm 11.5215181417\n",
      "Iteration  26 :\n",
      "\tGradient norm 7.11049980523\n",
      "Iteration  27 :\n",
      "\tGradient norm 9.71265014894\n",
      "Iteration  28 :\n",
      "\tGradient norm 7.22836065052\n",
      "Iteration  29 :\n",
      "\tGradient norm 59.0189576348\n",
      "Iteration  30 :\n",
      "\tGradient norm 7.4067075157\n"
     ]
    },
    {
     "name": "stderr",
     "output_type": "stream",
     "text": [
      "/Users/IzmailovPavel/Documents/Education/Course Project/Code/GP/gaussian_process_classification.py:614: RuntimeWarning: invalid value encountered in log\n",
      "  loss += np.sum(np.log(np.diag(sigma_L))) * l / N\n"
     ]
    }
   ],
   "source": [
    "model_covariance_obj = SquaredExponential(np.copy(cov_params))\n",
    "ad_gp = GPC(model_covariance_obj, method='svi', hermgauss_deg=100)\n",
    "opts = {'mode': 'adadelta', 'maxiter': 30, 'verbose': True, 'batch_size': 350, \n",
    "        'step_rate': 1., 'print_freq':1}\n",
    "batch_res = ad_gp.fit(x_tr, y_tr, inputs=inputs, optimizer_options=opts)"
   ]
  },
  {
   "cell_type": "code",
   "execution_count": 23,
   "metadata": {
    "collapsed": false
   },
   "outputs": [
    {
     "data": {
      "text/plain": [
       "<matplotlib.text.Text at 0x10d54f240>"
      ]
     },
     "execution_count": 23,
     "metadata": {},
     "output_type": "execute_result"
    },
    {
     "data": {
      "image/png": "[encoded data removed]",
      "text/plain": [
       "<matplotlib.figure.Figure at 0x10da1b160>"
      ]
     },
     "metadata": {},
     "output_type": "display_data"
    }
   ],
   "source": [
    "metric = lambda w: ad_gp.get_prediction_quality(w, x_test, y_test)\n",
    "svi_ad_x_lst, svi_ad_y_lst = batch_res.plot_performance(metric, 't', freq=1)\n",
    "plt.plot(svi_ad_x_lst[1:], svi_ad_y_lst[1:], '-yx', label='svi-AdaDelta-c')\n",
    "plt.ylim([0.88, 1.])\n",
    "plt.legend()\n",
    "plt.xlabel('Seconds')\n",
    "plt.ylabel('Accuracy')"
   ]
  },
  {
   "cell_type": "markdown",
   "metadata": {},
   "source": [
    "## Выводы"
   ]
  },
  {
   "cell_type": "code",
   "execution_count": 8,
   "metadata": {
    "collapsed": true
   },
   "outputs": [],
   "source": [
    "svi_x_lst = np.load('../plots/vi_vs_svi_class/'+ data_name +'_svi_x.npy')\n",
    "svi_y_lst = np.load('../plots/vi_vs_svi_class/'+ data_name +'_svi_y.npy')\n",
    "svi_ad_y_lst = np.load('../plots/vi_vs_svi_class/'+ data_name +'_svi_y.npy')\n",
    "svi_ad_x_lst = np.load('../plots/vi_vs_svi_class/'+ data_name +'_svi_x.npy')\n",
    "vi_x_lst = np.load('../plots/vi_vs_svi_class/'+ data_name +'_vi_x.npy')\n",
    "vi_y_lst = np.load('../plots/vi_vs_svi_class/'+ data_name +'_vi_y.npy')\n",
    "vi_t_x_lst = np.load('../plots/vi_vs_svi_class/'+ data_name +'_vi_t_x.npy')\n",
    "vi_t_y_lst = np.load('../plots/vi_vs_svi_class/'+ data_name +'_vi_t_y.npy')"
   ]
  },
  {
   "cell_type": "code",
   "execution_count": 9,
   "metadata": {
    "collapsed": false
   },
   "outputs": [
    {
     "ename": "NameError",
     "evalue": "name 'svi_ad_x_lst' is not defined",
     "output_type": "error",
     "traceback": [
      "\u001b[0;31m---------------------------------------------------------------------------\u001b[0m",
      "\u001b[0;31mNameError\u001b[0m                                 Traceback (most recent call last)",
      "\u001b[0;32m<ipython-input-9-b567c00637e1>\u001b[0m in \u001b[0;36m<module>\u001b[0;34m()\u001b[0m\n\u001b[1;32m      1\u001b[0m \u001b[0mplt\u001b[0m\u001b[0;34m.\u001b[0m\u001b[0mfigure\u001b[0m\u001b[0;34m(\u001b[0m\u001b[0mfigsize\u001b[0m\u001b[0;34m=\u001b[0m\u001b[0;34m(\u001b[0m\u001b[0;36m12\u001b[0m\u001b[0;34m,\u001b[0m \u001b[0;36m7\u001b[0m\u001b[0;34m)\u001b[0m\u001b[0;34m)\u001b[0m\u001b[0;34m\u001b[0m\u001b[0m\n\u001b[1;32m      2\u001b[0m \u001b[0mplt\u001b[0m\u001b[0;34m.\u001b[0m\u001b[0mplot\u001b[0m\u001b[0;34m(\u001b[0m\u001b[0msvi_x_lst\u001b[0m\u001b[0;34m[\u001b[0m\u001b[0;36m1\u001b[0m\u001b[0;34m:\u001b[0m\u001b[0;34m]\u001b[0m\u001b[0;34m,\u001b[0m \u001b[0msvi_y_lst\u001b[0m\u001b[0;34m[\u001b[0m\u001b[0;36m1\u001b[0m\u001b[0;34m:\u001b[0m\u001b[0;34m]\u001b[0m\u001b[0;34m,\u001b[0m \u001b[0;34m'-gx'\u001b[0m\u001b[0;34m,\u001b[0m \u001b[0mlabel\u001b[0m\u001b[0;34m=\u001b[0m\u001b[0;34m'svi-L-BFGS-B-c'\u001b[0m\u001b[0;34m)\u001b[0m\u001b[0;34m\u001b[0m\u001b[0m\n\u001b[0;32m----> 3\u001b[0;31m \u001b[0mplt\u001b[0m\u001b[0;34m.\u001b[0m\u001b[0mplot\u001b[0m\u001b[0;34m(\u001b[0m\u001b[0msvi_ad_x_lst\u001b[0m\u001b[0;34m[\u001b[0m\u001b[0;36m1\u001b[0m\u001b[0;34m:\u001b[0m\u001b[0;34m]\u001b[0m\u001b[0;34m,\u001b[0m \u001b[0msvi_ad_y_lst\u001b[0m\u001b[0;34m[\u001b[0m\u001b[0;36m1\u001b[0m\u001b[0;34m:\u001b[0m\u001b[0;34m]\u001b[0m\u001b[0;34m,\u001b[0m \u001b[0;34m'-yx'\u001b[0m\u001b[0;34m,\u001b[0m \u001b[0mlabel\u001b[0m\u001b[0;34m=\u001b[0m\u001b[0;34m'svi-AdaDelta-c'\u001b[0m\u001b[0;34m)\u001b[0m\u001b[0;34m\u001b[0m\u001b[0m\n\u001b[0m\u001b[1;32m      4\u001b[0m \u001b[0mplt\u001b[0m\u001b[0;34m.\u001b[0m\u001b[0mplot\u001b[0m\u001b[0;34m(\u001b[0m\u001b[0mvi_x_lst\u001b[0m\u001b[0;34m[\u001b[0m\u001b[0;36m1\u001b[0m\u001b[0;34m:\u001b[0m\u001b[0;34m]\u001b[0m\u001b[0;34m,\u001b[0m \u001b[0mvi_y_lst\u001b[0m\u001b[0;34m[\u001b[0m\u001b[0;36m1\u001b[0m\u001b[0;34m:\u001b[0m\u001b[0;34m]\u001b[0m\u001b[0;34m,\u001b[0m \u001b[0;34m'-bx'\u001b[0m\u001b[0;34m,\u001b[0m \u001b[0mlabel\u001b[0m\u001b[0;34m=\u001b[0m\u001b[0;34m'vi-JJ'\u001b[0m\u001b[0;34m)\u001b[0m\u001b[0;34m\u001b[0m\u001b[0m\n\u001b[1;32m      5\u001b[0m \u001b[0mplt\u001b[0m\u001b[0;34m.\u001b[0m\u001b[0mplot\u001b[0m\u001b[0;34m(\u001b[0m\u001b[0mvi_t_x_lst\u001b[0m\u001b[0;34m[\u001b[0m\u001b[0;36m1\u001b[0m\u001b[0;34m:\u001b[0m\u001b[0;34m]\u001b[0m\u001b[0;34m,\u001b[0m \u001b[0mvi_t_y_lst\u001b[0m\u001b[0;34m[\u001b[0m\u001b[0;36m1\u001b[0m\u001b[0;34m:\u001b[0m\u001b[0;34m]\u001b[0m\u001b[0;34m,\u001b[0m \u001b[0;34m'-mx'\u001b[0m\u001b[0;34m,\u001b[0m \u001b[0mlabel\u001b[0m\u001b[0;34m=\u001b[0m\u001b[0;34m'vi-Taylor'\u001b[0m\u001b[0;34m)\u001b[0m\u001b[0;34m\u001b[0m\u001b[0m\n",
      "\u001b[0;31mNameError\u001b[0m: name 'svi_ad_x_lst' is not defined"
     ]
    },
    {
     "data": {
      "image/png": "[encoded data removed]",
      "text/plain": [
       "<matplotlib.figure.Figure at 0x10e694c88>"
      ]
     },
     "metadata": {},
     "output_type": "display_data"
    }
   ],
   "source": [
    "plt.figure(figsize=(12, 7))\n",
    "plt.plot(svi_x_lst[1:], svi_y_lst[1:], '-gx', label='svi-L-BFGS-B-c')\n",
    "plt.plot(svi_ad_x_lst[1:], svi_ad_y_lst[1:], '-yx', label='svi-AdaDelta-c')\n",
    "plt.plot(vi_x_lst[1:], vi_y_lst[1:], '-bx', label='vi-JJ')\n",
    "plt.plot(vi_t_x_lst[1:], vi_t_y_lst[1:], '-mx', label='vi-Taylor')\n",
    "plt.ylim([0.8, .95])\n",
    "plt.legend()\n",
    "plt.xlabel('Seconds')\n",
    "plt.ylabel('Accuracy')"
   ]
  },
  {
   "cell_type": "code",
   "execution_count": 31,
   "metadata": {
    "collapsed": true
   },
   "outputs": [],
   "source": [
    "np.save('../plots/vi_vs_svi_class/'+ data_name +'_svi_x.npy', svi_x_lst)\n",
    "np.save('../plots/vi_vs_svi_class/'+ data_name +'_svi_y.npy', svi_y_lst)\n",
    "np.save('../plots/vi_vs_svi_class/'+ data_name +'_vi_x.npy', vi_x_lst)\n",
    "np.save('../plots/vi_vs_svi_class/'+ data_name +'_vi_y.npy', vi_y_lst)\n",
    "np.save('../plots/vi_vs_svi_class/'+ data_name +'_ad_x.npy', svi_ad_x_lst)\n",
    "np.save('../plots/vi_vs_svi_class/'+ data_name +'_ad_y.npy', svi_ad_y_lst)"
   ]
  },
  {
   "cell_type": "code",
   "execution_count": 32,
   "metadata": {
    "collapsed": true
   },
   "outputs": [],
   "source": [
    "np.save('../plots/vi_vs_svi_class/'+ data_name +'_vi_x.npy', vi_x_lst)\n",
    "np.save('../plots/vi_vs_svi_class/'+ data_name +'_vi_y.npy', vi_y_lst)\n",
    "np.save('../plots/vi_vs_svi_class/'+ data_name +'_vi_t_x.npy', vi_t_x_lst)\n",
    "np.save('../plots/vi_vs_svi_class/'+ data_name +'_vi_t_y.npy', vi_t_y_lst)"
   ]
  }
 ],
 "metadata": {
  "kernelspec": {
   "display_name": "Python 3",
   "language": "python",
   "name": "python3"
  },
  "language_info": {
   "codemirror_mode": {
    "name": "ipython",
    "version": 3
   },
   "file_extension": ".py",
   "mimetype": "text/x-python",
   "name": "python",
   "nbconvert_exporter": "python",
   "pygments_lexer": "ipython3",
   "version": "3.4.3"
  }
 },
 "nbformat": 4,
 "nbformat_minor": 0
}
