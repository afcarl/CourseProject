{
 "cells": [
  {
   "cell_type": "markdown",
   "metadata": {},
   "source": [
    "# German Numer"
   ]
  },
  {
   "cell_type": "code",
   "execution_count": 1,
   "metadata": {
    "collapsed": false
   },
   "outputs": [],
   "source": [
    "import sys\n",
    "sys.path.append('/Users/IzmailovPavel/Documents/Education/Course Project/Code')\n",
    "import numpy as np\n",
    "import matplotlib as mpl\n",
    "\n",
    "from matplotlib import pyplot as plt\n",
    "\n",
    "from GP.covariance_functions import SquaredExponential\n",
    "from GP.gaussian_process_classification import GPC\n",
    "\n",
    "from sklearn.cluster import KMeans\n",
    "\n",
    "from vi_svi_class_experiments import run_methods\n",
    "from sklearn.datasets import load_svmlight_file\n",
    "from sklearn.preprocessing import StandardScaler\n",
    "from sklearn.utils import shuffle\n",
    "%matplotlib inline\n",
    "%load_ext autoreload\n",
    "%autoreload 2"
   ]
  },
  {
   "cell_type": "markdown",
   "metadata": {},
   "source": [
    "## Loading german numer"
   ]
  },
  {
   "cell_type": "code",
   "execution_count": 2,
   "metadata": {
    "collapsed": false
   },
   "outputs": [
    {
     "name": "stdout",
     "output_type": "stream",
     "text": [
      "of objects: 800\n",
      "of features: 24\n",
      "german\n"
     ]
    }
   ],
   "source": [
    "x_tr, y_tr = load_svmlight_file('../../../../Programming/DataSets/Classification/german_numer(1000,24).txt')\n",
    "x_tr, y_tr = shuffle(x_tr, y_tr, random_state=241)\n",
    "data_name = 'german'\n",
    "file_name = data_name\n",
    "\n",
    "x_tr = x_tr.T\n",
    "x_tr = x_tr.toarray()\n",
    "scaler = StandardScaler()\n",
    "x_tr = scaler.fit_transform(x_tr)\n",
    "\n",
    "x_tr = (x_tr + 1) / 2\n",
    "y_tr = y_tr.reshape((y_tr.size, 1))\n",
    "x_test = x_tr[:, int(x_tr.shape[1] * 0.8):]\n",
    "y_test = y_tr[int(x_tr.shape[1] * 0.8):, :]\n",
    "y_tr = y_tr[:int(x_tr.shape[1] * 0.8), :]\n",
    "x_tr = x_tr[:, : int(x_tr.shape[1] * 0.8)]\n",
    "dim, num = x_tr.shape\n",
    "print('of objects:', num)\n",
    "print('of features:', dim)\n",
    "print(data_name)"
   ]
  },
  {
   "cell_type": "markdown",
   "metadata": {},
   "source": [
    "## K-Means cluster centers"
   ]
  },
  {
   "cell_type": "code",
   "execution_count": 3,
   "metadata": {
    "collapsed": false
   },
   "outputs": [
    {
     "name": "stdout",
     "output_type": "stream",
     "text": [
      "Finding means...\n",
      "...found\n"
     ]
    }
   ],
   "source": [
    "ind_num = 50\n",
    "print('Finding means...')\n",
    "means = KMeans(n_clusters=ind_num, n_init=3, max_iter=100, random_state=241)\n",
    "means.fit(x_tr.T)\n",
    "inputs = means.cluster_centers_.T\n",
    "print('...found')"
   ]
  },
  {
   "cell_type": "code",
   "execution_count": 4,
   "metadata": {
    "collapsed": true
   },
   "outputs": [],
   "source": [
    "with open('../plots/vi_vs_svi_class/'+ data_name +'_title.txt', 'w') as f:\n",
    "    title = data_name + ' dataset, ' + 'n = ' + str(num) + ', d = ' + str(dim) + ', m = ' + str(ind_num)\n",
    "    f.write(title)"
   ]
  },
  {
   "cell_type": "code",
   "execution_count": 37,
   "metadata": {
    "collapsed": true
   },
   "outputs": [],
   "source": [
    "cov_params = np.array([3., 2., 1e-1])#np.array([1., .5, 0.01])"
   ]
  },
  {
   "cell_type": "markdown",
   "metadata": {},
   "source": [
    "## svi-L-BFGS-B-c method"
   ]
  },
  {
   "cell_type": "code",
   "execution_count": 38,
   "metadata": {
    "collapsed": true
   },
   "outputs": [],
   "source": [
    "model_covariance_obj = SquaredExponential(np.copy(cov_params))\n",
    "svi_gp = GPC(model_covariance_obj, method='svi')"
   ]
  },
  {
   "cell_type": "code",
   "execution_count": 39,
   "metadata": {
    "collapsed": false
   },
   "outputs": [],
   "source": [
    "opts = {'mode': 'full', 'maxiter': 200, 'mydisp': False}\n",
    "svi_res = svi_gp.fit(x_tr, y_tr, inputs=inputs, optimizer_options=opts)"
   ]
  },
  {
   "cell_type": "code",
   "execution_count": 40,
   "metadata": {
    "collapsed": false
   },
   "outputs": [],
   "source": [
    "metric = lambda w: svi_gp.get_prediction_quality(w, x_test, y_test)\n",
    "svi_x_lst, svi_y_lst = svi_res.plot_performance(metric, 't', freq=1)"
   ]
  },
  {
   "cell_type": "code",
   "execution_count": 41,
   "metadata": {
    "collapsed": false
   },
   "outputs": [
    {
     "data": {
      "text/plain": [
       "<matplotlib.text.Text at 0x10fa87390>"
      ]
     },
     "execution_count": 41,
     "metadata": {},
     "output_type": "execute_result"
    },
    {
     "data": {
      "image/png": "[encoded data removed]",
      "text/plain": [
       "<matplotlib.figure.Figure at 0x10d0e0b70>"
      ]
     },
     "metadata": {},
     "output_type": "display_data"
    }
   ],
   "source": [
    "plt.plot(svi_x_lst[1:], svi_y_lst[1:], '-gx', label='svi-L-BFGS-B-c')\n",
    "plt.ylim([0.6, 0.8])\n",
    "plt.legend()\n",
    "plt.xlabel('Seconds')\n",
    "plt.ylabel('Accuracy')"
   ]
  },
  {
   "cell_type": "markdown",
   "metadata": {},
   "source": [
    "## vi-means-c method\n",
    "Подбор числа пересчетов"
   ]
  },
  {
   "cell_type": "code",
   "execution_count": 42,
   "metadata": {
    "collapsed": false
   },
   "outputs": [
    {
     "name": "stdout",
     "output_type": "stream",
     "text": [
      "5\n",
      "\n",
      "10\n",
      "\n",
      "15\n",
      "\n",
      "20\n",
      "\n"
     ]
    }
   ],
   "source": [
    "maxfuns = [5, 10, 15, 20]\n",
    "results = []\n",
    "for maxfun in maxfuns:\n",
    "    print(maxfun)\n",
    "    model_covariance_obj = SquaredExponential(np.copy(cov_params))\n",
    "    vi_gp = GPC(model_covariance_obj, method='vi')\n",
    "    opts = {'maxfun':maxfun, 'mydisp': False, 'num_updates':3}\n",
    "    results.append(vi_gp.fit(x_tr, y_tr, inputs=inputs, optimizer_options=opts, max_out_iter=100))\n",
    "    print()"
   ]
  },
  {
   "cell_type": "code",
   "execution_count": 43,
   "metadata": {
    "collapsed": false
   },
   "outputs": [
    {
     "name": "stdout",
     "output_type": "stream",
     "text": [
      "0\n",
      "1\n",
      "2\n",
      "3\n"
     ]
    },
    {
     "data": {
      "text/plain": [
       "<matplotlib.text.Text at 0x10fb7e588>"
      ]
     },
     "execution_count": 43,
     "metadata": {},
     "output_type": "execute_result"
    },
    {
     "data": {
      "image/png": "[encoded data removed]",
      "text/plain": [
       "<matplotlib.figure.Figure at 0x10faa32e8>"
      ]
     },
     "metadata": {},
     "output_type": "display_data"
    }
   ],
   "source": [
    "metric = lambda w: vi_gp.get_prediction_quality(w, x_test, y_test)\n",
    "for i in range(len(maxfuns)):\n",
    "    vi_x_lst, vi_y_lst = results[i].plot_performance(metric, 't', freq=10)\n",
    "    plt.plot(vi_x_lst[1:], vi_y_lst[1:], label=maxfuns[i])\n",
    "    print(i)\n",
    "plt.ylim([.7, .8])\n",
    "plt.legend()\n",
    "plt.xlabel('Seconds')\n",
    "plt.ylabel('Accuracy')"
   ]
  },
  {
   "cell_type": "code",
   "execution_count": 25,
   "metadata": {
    "collapsed": false
   },
   "outputs": [],
   "source": [
    "model_covariance_obj = SquaredExponential(np.copy(cov_params))\n",
    "vi_gp = GPC(model_covariance_obj, method='vi')\n",
    "opts = {'maxfun':5, 'mydisp': False, 'num_updates':3}\n",
    "vi_res = vi_gp.fit(x_tr, y_tr, inputs=inputs, optimizer_options=opts, max_out_iter=100)"
   ]
  },
  {
   "cell_type": "code",
   "execution_count": 26,
   "metadata": {
    "collapsed": false
   },
   "outputs": [
    {
     "data": {
      "text/plain": [
       "<matplotlib.text.Text at 0x10d5c66d8>"
      ]
     },
     "execution_count": 26,
     "metadata": {},
     "output_type": "execute_result"
    },
    {
     "data": {
      "image/png": "[encoded data removed]",
      "text/plain": [
       "<matplotlib.figure.Figure at 0x10da5c7b8>"
      ]
     },
     "metadata": {},
     "output_type": "display_data"
    }
   ],
   "source": [
    "metric = lambda w: vi_gp.get_prediction_quality(w, x_test, y_test)\n",
    "vi_x_lst, vi_y_lst = vi_res.plot_performance(metric, 't', freq=1)\n",
    "plt.plot(vi_x_lst[1:100], vi_y_lst[1:100], '-bx', label='vi-means-c')\n",
    "# plt.plot(svi_x_lst[1:100], svi_y_lst[1:100], '-gx', label='svi-L-BFGS-B-c')\n",
    "plt.ylim([0.7, 0.76])\n",
    "plt.legend()\n",
    "plt.xlabel('Seconds')\n",
    "plt.ylabel('Accuracy')"
   ]
  },
  {
   "cell_type": "markdown",
   "metadata": {},
   "source": [
    "### Taylor\n",
    "Подбор числа пересчетов"
   ]
  },
  {
   "cell_type": "code",
   "execution_count": 35,
   "metadata": {
    "collapsed": false,
    "scrolled": true
   },
   "outputs": [
    {
     "name": "stdout",
     "output_type": "stream",
     "text": [
      "5\n",
      "\n",
      "10\n",
      "\n",
      "15\n",
      "\n",
      "20\n",
      "\n"
     ]
    }
   ],
   "source": [
    "maxfuns = [5, 10, 15, 20]\n",
    "results = []\n",
    "for maxfun in maxfuns:\n",
    "    print(maxfun)\n",
    "    model_covariance_obj = SquaredExponential(np.copy(cov_params))\n",
    "    vi_gp = GPC(model_covariance_obj, method='vi')\n",
    "    opts = {'bound': 'Taylor', 'maxfun':maxfun, 'mydisp': False, 'num_updates':5}\n",
    "    results.append(vi_gp.fit(x_tr, y_tr, inputs=inputs, optimizer_options=opts, max_out_iter=20))\n",
    "    print()"
   ]
  },
  {
   "cell_type": "code",
   "execution_count": 36,
   "metadata": {
    "collapsed": false
   },
   "outputs": [
    {
     "name": "stdout",
     "output_type": "stream",
     "text": [
      "0\n",
      "1\n",
      "2\n",
      "3\n"
     ]
    },
    {
     "data": {
      "text/plain": [
       "<matplotlib.text.Text at 0x10edb90b8>"
      ]
     },
     "execution_count": 36,
     "metadata": {},
     "output_type": "execute_result"
    },
    {
     "data": {
      "image/png": "[encoded data removed]",
      "text/plain": [
       "<matplotlib.figure.Figure at 0x10ee23e48>"
      ]
     },
     "metadata": {},
     "output_type": "display_data"
    }
   ],
   "source": [
    "metric = lambda w: vi_gp.get_prediction_quality(w, x_test, y_test)\n",
    "for i in range(len(maxfuns)):\n",
    "    temp_vi_x_lst, temp_vi_y_lst = results[i].plot_performance(metric, 't', freq=1)\n",
    "    plt.plot(temp_vi_x_lst[1:], temp_vi_y_lst[1:], label=maxfuns[i])\n",
    "    print(i)\n",
    "plt.ylim([.6, .8])\n",
    "plt.legend()\n",
    "plt.xlabel('Seconds')\n",
    "plt.ylabel('Accuracy')"
   ]
  },
  {
   "cell_type": "markdown",
   "metadata": {},
   "source": [
    "## svi-AdaDelta-c\n",
    "Подберем шаг для метода"
   ]
  },
  {
   "cell_type": "code",
   "execution_count": 15,
   "metadata": {
    "collapsed": false
   },
   "outputs": [],
   "source": [
    "results = []\n",
    "steps = [1., 0.5, 0.3, 0.1, 0.01]\n",
    "for step in steps:\n",
    "    model_covariance_obj = SquaredExponential(np.copy(cov_params))\n",
    "    ad_gp = GPC(model_covariance_obj, method='svi', hermgauss_deg=100)\n",
    "\n",
    "    opts = {'mode': 'adadelta', 'maxiter': 500, 'verbose': False, 'batch_size':100, \n",
    "            'step_rate': step}#, 'print_freq':50}\n",
    "    batch_res = ad_gp.fit(x_tr, y_tr, inputs=inputs, optimizer_options=opts)\n",
    "    results.append(batch_res)"
   ]
  },
  {
   "cell_type": "code",
   "execution_count": 16,
   "metadata": {
    "collapsed": false
   },
   "outputs": [
    {
     "data": {
      "text/plain": [
       "<matplotlib.text.Text at 0x10d3a8668>"
      ]
     },
     "execution_count": 16,
     "metadata": {},
     "output_type": "execute_result"
    },
    {
     "data": {
      "image/png": "[encoded data removed]",
      "text/plain": [
       "<matplotlib.figure.Figure at 0x10d38b0f0>"
      ]
     },
     "metadata": {},
     "output_type": "display_data"
    }
   ],
   "source": [
    "metric = lambda w: ad_gp.get_prediction_quality(w, x_test, y_test)\n",
    "for i in range(len(results)):\n",
    "    svi_ad_x_lst, svi_ad_y_lst = results[i].plot_performance(metric, 't', freq=10)\n",
    "    plt.plot(svi_ad_x_lst[1:], svi_ad_y_lst[1:], label=steps[i])\n",
    "plt.ylim([0.6, 0.8])\n",
    "plt.legend()\n",
    "plt.xlabel('Seconds')\n",
    "plt.ylabel('Accuracy')"
   ]
  },
  {
   "cell_type": "code",
   "execution_count": 17,
   "metadata": {
    "collapsed": false
   },
   "outputs": [
    {
     "name": "stdout",
     "output_type": "stream",
     "text": [
      "Iteration  100 :\n",
      "\tGradient norm 8.14481083095\n",
      "Iteration  200 :\n",
      "\tGradient norm 6.67228406456\n",
      "Iteration  300 :\n",
      "\tGradient norm 8.73089230321\n",
      "Iteration  400 :\n",
      "\tGradient norm 3.98930697739\n",
      "Iteration  500 :\n",
      "\tGradient norm 7.42699914071\n"
     ]
    }
   ],
   "source": [
    "model_covariance_obj = SquaredExponential(np.copy(cov_params))\n",
    "ad_gp = GPC(model_covariance_obj, method='svi', hermgauss_deg=100)\n",
    "opts = {'mode': 'adadelta', 'maxiter': 500, 'verbose': True, 'batch_size': 50, \n",
    "        'step_rate': 1., 'print_freq':100}\n",
    "batch_res = ad_gp.fit(x_tr, y_tr, inputs=inputs, optimizer_options=opts)"
   ]
  },
  {
   "cell_type": "code",
   "execution_count": 18,
   "metadata": {
    "collapsed": false
   },
   "outputs": [
    {
     "data": {
      "text/plain": [
       "<matplotlib.text.Text at 0x10e0f0860>"
      ]
     },
     "execution_count": 18,
     "metadata": {},
     "output_type": "execute_result"
    },
    {
     "data": {
      "image/png": "[encoded data removed]",
      "text/plain": [
       "<matplotlib.figure.Figure at 0x10e06d668>"
      ]
     },
     "metadata": {},
     "output_type": "display_data"
    }
   ],
   "source": [
    "metric = lambda w: ad_gp.get_prediction_quality(w, x_test, y_test)\n",
    "svi_ad_x_lst, svi_ad_y_lst = batch_res.plot_performance(metric, 't', freq=10)\n",
    "plt.plot(svi_ad_x_lst[1:], svi_ad_y_lst[1:], '-yx', label='svi-AdaDelta-c')\n",
    "plt.ylim([0.6, 0.8])\n",
    "plt.legend()\n",
    "plt.xlabel('Seconds')\n",
    "plt.ylabel('Accuracy')"
   ]
  },
  {
   "cell_type": "markdown",
   "metadata": {},
   "source": [
    "## Выводы"
   ]
  },
  {
   "cell_type": "code",
   "execution_count": 19,
   "metadata": {
    "collapsed": false
   },
   "outputs": [
    {
     "data": {
      "text/plain": [
       "<matplotlib.text.Text at 0x10e1792e8>"
      ]
     },
     "execution_count": 19,
     "metadata": {},
     "output_type": "execute_result"
    },
    {
     "data": {
      "image/png": "[encoded data removed]",
      "text/plain": [
       "<matplotlib.figure.Figure at 0x10e0f9780>"
      ]
     },
     "metadata": {},
     "output_type": "display_data"
    }
   ],
   "source": [
    "plt.figure(figsize=(12, 7))\n",
    "plt.plot(svi_x_lst[1:], svi_y_lst[1:], '-gx', label='svi-L-BFGS-B-c')\n",
    "plt.plot(svi_ad_x_lst[1:50], svi_ad_y_lst[1:50], '-yx', label='svi-AdaDelta-c')\n",
    "plt.plot(vi_x_lst[1:100], vi_y_lst[1:100], '-bx', label='vi-means-c')\n",
    "plt.ylim([0.6, 0.8])\n",
    "plt.legend()\n",
    "plt.xlabel('Seconds')\n",
    "plt.ylabel('Accuracy')"
   ]
  },
  {
   "cell_type": "code",
   "execution_count": 24,
   "metadata": {
    "collapsed": false
   },
   "outputs": [
    {
     "data": {
      "text/plain": [
       "<matplotlib.text.Text at 0x10e3c2358>"
      ]
     },
     "execution_count": 24,
     "metadata": {},
     "output_type": "execute_result"
    },
    {
     "data": {
      "image/png": "[encoded data removed]",
      "text/plain": [
       "<matplotlib.figure.Figure at 0x10e2036a0>"
      ]
     },
     "metadata": {},
     "output_type": "display_data"
    }
   ],
   "source": [
    "plt.figure(figsize=(12, 7))\n",
    "plt.plot(svi_x_lst[1:], svi_y_lst[1:], '-gx', label='svi-L-BFGS-B-c')\n",
    "plt.plot(svi_ad_x_lst[1:10], svi_ad_y_lst[1:10], '-yx', label='svi-AdaDelta-c')\n",
    "plt.plot(vi_x_lst[1:30], vi_y_lst[1:30], '-bx', label='vi-means-c')\n",
    "plt.ylim([0.65, 0.78])\n",
    "plt.legend()\n",
    "plt.xlabel('Seconds')\n",
    "plt.ylabel('Accuracy')"
   ]
  },
  {
   "cell_type": "code",
   "execution_count": 25,
   "metadata": {
    "collapsed": true
   },
   "outputs": [],
   "source": [
    "np.save('../plots/vi_vs_svi_class/'+ data_name +'_svi_x.npy', svi_x_lst)\n",
    "np.save('../plots/vi_vs_svi_class/'+ data_name +'_svi_y.npy', svi_y_lst)\n",
    "np.save('../plots/vi_vs_svi_class/'+ data_name +'_vi_x.npy', vi_x_lst)\n",
    "np.save('../plots/vi_vs_svi_class/'+ data_name +'_vi_y.npy', vi_y_lst)\n",
    "np.save('../plots/vi_vs_svi_class/'+ data_name +'_ad_x.npy', svi_ad_x_lst)\n",
    "np.save('../plots/vi_vs_svi_class/'+ data_name +'_ad_y.npy', svi_ad_y_lst)"
   ]
  }
 ],
 "metadata": {
  "kernelspec": {
   "display_name": "Python 3",
   "language": "python",
   "name": "python3"
  },
  "language_info": {
   "codemirror_mode": {
    "name": "ipython",
    "version": 3
   },
   "file_extension": ".py",
   "mimetype": "text/x-python",
   "name": "python",
   "nbconvert_exporter": "python",
   "pygments_lexer": "ipython3",
   "version": "3.4.3"
  }
 },
 "nbformat": 4,
 "nbformat_minor": 0
}
