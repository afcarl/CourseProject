{
 "cells": [
  {
   "cell_type": "markdown",
   "metadata": {},
   "source": [
    "# Magic Gamma Telescope"
   ]
  },
  {
   "cell_type": "code",
   "execution_count": 3,
   "metadata": {
    "collapsed": false
   },
   "outputs": [],
   "source": [
    "import sys\n",
    "sys.path.append('/Users/IzmailovPavel/Documents/Education/Course Project/Code')\n",
    "import numpy as np\n",
    "import matplotlib as mpl\n",
    "\n",
    "from matplotlib import pyplot as plt\n",
    "\n",
    "from GP.covariance_functions import SquaredExponential\n",
    "from GP.gaussian_process_classification import GPC\n",
    "\n",
    "from sklearn.cluster import KMeans\n",
    "\n",
    "from sklearn.datasets import load_svmlight_file\n",
    "from sklearn.preprocessing import StandardScaler\n",
    "from sklearn.utils import shuffle\n",
    "%matplotlib inline\n",
    "%load_ext autoreload\n",
    "%autoreload 2"
   ]
  },
  {
   "cell_type": "markdown",
   "metadata": {},
   "source": [
    "## Данные"
   ]
  },
  {
   "cell_type": "code",
   "execution_count": 4,
   "metadata": {
    "collapsed": false
   },
   "outputs": [
    {
     "name": "stdout",
     "output_type": "stream",
     "text": [
      "of objects: 15215\n",
      "of features: 10\n",
      "magic telescope\n"
     ]
    }
   ],
   "source": [
    "# x_tr, y_tr = load_svmlight_file('../../../../Programming/DataSets/Classification/magic_gamma_telescope(19020,11).txt')\n",
    "data = np.load('../../../../Programming/DataSets/Classification/magic_gamma_telescope(19020,11).npy')\n",
    "x_tr, y_tr = data[:, :-1], data[:, -1]\n",
    "x_tr, y_tr = shuffle(x_tr, y_tr, random_state=241)\n",
    "data_name = 'magic telescope'\n",
    "\n",
    "# x_tr = x_tr.T\n",
    "scaler = StandardScaler()\n",
    "x_tr = scaler.fit_transform(x_tr).T\n",
    "x_tr = (x_tr + 1) / 2\n",
    "y_tr = y_tr[:, None]\n",
    "y_tr[y_tr == 0] = -1\n",
    "x_test = x_tr[:, int(x_tr.shape[1] * 0.8):]\n",
    "y_test = y_tr[int(x_tr.shape[1] * 0.8):, :]\n",
    "y_tr = y_tr[:int(x_tr.shape[1] * 0.8), :]\n",
    "x_tr = x_tr[:, : int(x_tr.shape[1] * 0.8)]\n",
    "dim, num = x_tr.shape\n",
    "\n",
    "print('of objects:', num)\n",
    "print('of features:', dim)\n",
    "print(data_name)"
   ]
  },
  {
   "cell_type": "markdown",
   "metadata": {},
   "source": [
    "## K-Means cluster centers"
   ]
  },
  {
   "cell_type": "code",
   "execution_count": 5,
   "metadata": {
    "collapsed": false
   },
   "outputs": [
    {
     "name": "stdout",
     "output_type": "stream",
     "text": [
      "Finding means...\n",
      "...found\n"
     ]
    }
   ],
   "source": [
    "ind_num = 50\n",
    "print('Finding means...')\n",
    "means = KMeans(n_clusters=ind_num, n_init=3, max_iter=100, random_state=241)\n",
    "means.fit(x_tr.T)\n",
    "inputs = means.cluster_centers_.T\n",
    "print('...found')"
   ]
  },
  {
   "cell_type": "code",
   "execution_count": 6,
   "metadata": {
    "collapsed": true
   },
   "outputs": [],
   "source": [
    "cov_params = np.array([1., 1., 1.])"
   ]
  },
  {
   "cell_type": "markdown",
   "metadata": {},
   "source": [
    "## svi-L-BFGS-B-c method"
   ]
  },
  {
   "cell_type": "code",
   "execution_count": 15,
   "metadata": {
    "collapsed": true
   },
   "outputs": [],
   "source": [
    "model_covariance_obj = SquaredExponential(np.copy(cov_params))\n",
    "svi_gp = GPC(model_covariance_obj, method='svi')"
   ]
  },
  {
   "cell_type": "code",
   "execution_count": 16,
   "metadata": {
    "collapsed": true
   },
   "outputs": [
    {
     "name": "stdout",
     "output_type": "stream",
     "text": [
      "Hyper-parameters at iteration 0 : [ 1.  1.  1.  0.  0.]\n",
      "Hyper-parameters at iteration 1 : [ 0.99892016  1.7618086   0.99892016  0.16217421  0.1385381 ]\n",
      "Hyper-parameters at iteration 2 : [ 1.0986876   2.44237045  0.64321784  0.34083851  0.29427466]\n",
      "Hyper-parameters at iteration 3 : [ 1.3140426   3.3455302   0.42478591  0.59877486  0.51480589]\n",
      "Hyper-parameters at iteration 4 : [ 1.62698244  4.55797512  0.28463631  0.9496354   0.81380692]\n",
      "Hyper-parameters at iteration 5 : [ 2.32427819  7.41513344  0.2524348   1.76134886  1.51038573]\n",
      "Hyper-parameters at iteration 6 : [ 2.56671959  8.31409168  0.36402298  2.00132659  1.75152657]\n",
      "Hyper-parameters at iteration 7 : [ 2.67706849  8.65990159  0.33420729  2.10159057  1.84499418]\n",
      "Hyper-parameters at iteration 8 : [ 2.75379071  8.81998347  0.31009852  2.14655723  1.89854228]\n",
      "Hyper-parameters at iteration 9 : [ 2.85004476  8.90740627  0.29070601  2.16729771  1.9506942 ]\n",
      "Hyper-parameters at iteration 10 : [ 3.14915611  8.92662193  0.25475679  2.15269257  2.07905999]\n",
      "Hyper-parameters at iteration 11 : [ 3.66689373  8.49590071  0.2213655   1.98416573  2.23694797]\n",
      "Hyper-parameters at iteration 12 : [ 4.2536645   7.2762114   0.20242039  1.58083179  2.28536564]\n",
      "Hyper-parameters at iteration 13 : [ 4.40829995  6.46936737  0.20801591  1.34122443  2.20056811]\n",
      "Hyper-parameters at iteration 14 : [ 4.41851267  5.8975913   0.2329999   1.18807016  2.07751552]\n",
      "Hyper-parameters at iteration 15 : [ 4.39308364  5.59198876  0.26593881  1.12356459  1.96631267]\n",
      "Hyper-parameters at iteration 16 : [ 4.47200606  5.1854393   0.29676751  1.04361345  1.84294997]\n",
      "Hyper-parameters at iteration 17 : [ 4.84826792  4.49411265  0.33107843  0.92163959  1.68254914]\n",
      "Hyper-parameters at iteration 18 : [ 5.21104571  4.84709127  0.35582116  1.1078752   1.6821361 ]\n",
      "Hyper-parameters at iteration 19 : [ 5.25264923  4.47353662  0.32911439  0.9691172   1.5209088 ]\n",
      "Hyper-parameters at iteration 20 : [ 5.52320622  4.19198233  0.2368671   1.02077241  1.64400705]\n",
      "Hyper-parameters at iteration 21 : [ 5.48322505  4.38760477  0.15905784  1.16422627  1.72517061]\n",
      "Hyper-parameters at iteration 22 : [ 5.78140819  4.66010696  0.12075536  1.3865635   1.99940048]\n",
      "Hyper-parameters at iteration 23 : [ 6.08238676  4.62744797  0.09801192  1.34458589  2.04871459]\n",
      "Hyper-parameters at iteration 24 : [ 6.20528613  4.47015888  0.0668308   1.18932256  2.03077045]\n",
      "Hyper-parameters at iteration 25 : [ 6.5854428   4.08104005  0.09355897  0.53705225  1.85320137]\n",
      "Hyper-parameters at iteration 26 : [ 6.56172472  4.11608652  0.07437665  0.53900567  1.85008575]\n",
      "Hyper-parameters at iteration 27 : [ 6.3132169   4.35619629  0.07981422  0.66733008  1.85870564]\n",
      "Hyper-parameters at iteration 28 : [ 6.34515163  4.25343604  0.066678    0.67863905  1.89791889]\n",
      "Hyper-parameters at iteration 29 : [ 6.38571255  4.2536836   0.07168276  0.69970042  1.91598054]\n",
      "Hyper-parameters at iteration 30 : [ 6.41149899  4.23566151  0.07101026  0.71436567  1.93350501]\n",
      "Hyper-parameters at iteration 31 : [ 6.44080185  4.2041231   0.06934872  0.73524732  1.95158812]\n",
      "Hyper-parameters at iteration 32 : [ 6.50760081  4.137832    0.06279988  0.80722422  1.985913  ]\n",
      "Hyper-parameters at iteration 33 : [ 6.67552823  4.14041173  0.03971715  1.07435128  2.08983871]\n",
      "Hyper-parameters at iteration 34 : [ 6.85517155  4.11178181  0.03354281  1.15442771  2.11490153]\n",
      "Hyper-parameters at iteration 35 : [ 6.91033343  4.10834155  0.0295055   1.24109089  2.14543648]\n",
      "Hyper-parameters at iteration 36 : [ 6.93179664  4.06834891  0.02433425  1.26339422  2.1480838 ]\n",
      "Hyper-parameters at iteration 37 : [ 6.94994105  3.9479604   0.02258882  1.20433939  2.14269971]\n",
      "Hyper-parameters at iteration 38 : [ 6.93170248  3.91897875  0.01771072  1.24146361  2.15955252]\n",
      "Hyper-parameters at iteration 39 : [ 6.88786583  3.91218942  0.02062473  1.20814779  2.14438914]\n",
      "Hyper-parameters at iteration 40 : [ 6.92527091  3.91033436  0.01717965  1.23881708  2.16278693]\n",
      "Hyper-parameters at iteration 41 : [ 6.97295016  3.84979226  0.01226968  1.23448581  2.16461319]\n",
      "Hyper-parameters at iteration 42 : [ 7.02912496  3.7510563   0.01        1.24262508  2.17123761]\n",
      "Hyper-parameters at iteration 43 : [ 7.01746843  3.78511896  0.01        1.24039164  2.16277201]\n",
      "Hyper-parameters at iteration 44 : [ 7.00354705  3.81117437  0.01        1.24660128  2.16253559]\n",
      "Hyper-parameters at iteration 45 : [ 7.00173283  3.86098579  0.01        1.25622474  2.15320892]\n",
      "Hyper-parameters at iteration 46 : [ 7.00184254  3.87121826  0.01        1.26260155  2.14417267]\n",
      "Hyper-parameters at iteration 47 : [ 7.01305011  3.87217583  0.01        1.26901444  2.14147995]\n",
      "Hyper-parameters at iteration 48 : [ 7.02318908  3.87652228  0.01        1.27735989  2.13931795]\n",
      "Hyper-parameters at iteration 49 : [ 7.03128844  3.89412016  0.01        1.28845921  2.13755692]\n",
      "Hyper-parameters at iteration 50 : [ 7.03543203  3.92478548  0.01        1.29873042  2.1360703 ]\n",
      "Hyper-parameters at iteration 51 : [ 7.05416613  3.94737948  0.01        1.30817599  2.13405947]\n",
      "Hyper-parameters at iteration 52 : [ 7.09242832  3.96112517  0.01        1.30541437  2.12888479]\n",
      "Hyper-parameters at iteration 53 : [ 7.10723759  3.93951763  0.01        1.29811362  2.12747823]\n",
      "Hyper-parameters at iteration 54 : [ 7.13240208  3.91569619  0.01        1.2867247   2.12180334]\n",
      "Hyper-parameters at iteration 55 : [ 7.16893964  3.88727382  0.01        1.27072348  2.11034812]\n",
      "Hyper-parameters at iteration 56 : [ 7.2198709   3.85996473  0.01        1.24967486  2.09014808]\n",
      "Hyper-parameters at iteration 57 : [ 7.28122413  3.84668618  0.01        1.22766167  2.06074963]\n",
      "Hyper-parameters at iteration 58 : [ 7.32849694  3.84246874  0.01        1.21510434  2.03450636]\n",
      "Hyper-parameters at iteration 59 : [ 7.33074896  3.85613737  0.01        1.21719591  2.02888813]\n",
      "Hyper-parameters at iteration 60 : [ 7.35629953  3.87537359  0.01        1.21510662  2.00941615]\n",
      "Hyper-parameters at iteration 61 : [ 7.38846747  3.88929793  0.01        1.20359974  1.98622116]\n",
      "Hyper-parameters at iteration 62 : [ 7.40835831  3.8806241   0.01        1.19679049  1.9781408 ]\n",
      "Hyper-parameters at iteration 63 : [ 7.44375527  3.87567533  0.01        1.1921655   1.96138526]\n",
      "Hyper-parameters at iteration 64 : [ 7.45415052  3.87320715  0.01        1.19026924  1.9568383 ]\n",
      "Hyper-parameters at iteration 65 : [ 7.46101548  3.87406575  0.01        1.18883999  1.95334951]\n",
      "Hyper-parameters at iteration 66 : [ 7.46855611  3.87878391  0.01        1.18651133  1.94916753]\n",
      "Hyper-parameters at iteration 67 : [ 7.50265904  3.88359945  0.01        1.1747678   1.93820957]\n",
      "Hyper-parameters at iteration 68 : [ 7.51848036  3.8983327   0.01        1.17128782  1.93452415]\n",
      "Hyper-parameters at iteration 69 : [ 7.53028668  3.91582903  0.01        1.16976191  1.93537918]\n",
      "Hyper-parameters at iteration 70 : [ 7.544903    3.92772259  0.01        1.16580381  1.94250404]\n",
      "Hyper-parameters at iteration 71 : [ 7.56213222  3.93443256  0.01        1.15979609  1.949887  ]\n",
      "Hyper-parameters at iteration 72 : [ 7.5735773   3.93080301  0.01        1.15819223  1.95521169]\n",
      "Hyper-parameters at iteration 73 : [ 7.58606661  3.92378894  0.01        1.15545272  1.95871339]\n",
      "Hyper-parameters at iteration 74 : [ 7.59215039  3.92135496  0.01        1.15309721  1.95985725]\n",
      "Hyper-parameters at iteration 75 : [ 7.61187635  3.91284086  0.01        1.14341359  1.96743193]\n",
      "Hyper-parameters at iteration 76 : [ 7.61845501  3.91262045  0.01        1.14140521  1.96789448]\n",
      "Hyper-parameters at iteration 77 : [ 7.6289934   3.91509674  0.01        1.13988478  1.96891444]\n",
      "Hyper-parameters at iteration 78 : [ 7.64344403  3.91007137  0.01        1.1362307   1.97396234]\n",
      "Hyper-parameters at iteration 79 : [ 7.66868555  3.89570997  0.01        1.13203654  1.98388436]\n",
      "Hyper-parameters at iteration 80 : [ 7.67850462  3.88560791  0.01        1.12946938  1.98890015]\n",
      "Hyper-parameters at iteration 81 : [ 7.69551425  3.86933435  0.01        1.12637106  1.9929301 ]\n",
      "Hyper-parameters at iteration 82 : [ 7.71277374  3.85173885  0.01        1.12160988  1.99461673]\n",
      "Hyper-parameters at iteration 83 : [ 7.72038044  3.84448907  0.01        1.12002847  1.99360244]\n",
      "Hyper-parameters at iteration 84 : [ 7.73559549  3.83189152  0.01        1.1178836   1.99413861]\n",
      "Hyper-parameters at iteration 85 : [ 7.75982938  3.81167154  0.01        1.11367312  1.99931004]\n",
      "Hyper-parameters at iteration 86 : [ 7.76858418  3.8073679   0.01        1.11377151  2.00342972]\n",
      "Hyper-parameters at iteration 87 : [ 7.78143349  3.80066021  0.01        1.1146199   2.01266813]\n",
      "Hyper-parameters at iteration 88 : [ 7.79308687  3.79382466  0.01        1.11485442  2.02410032]\n",
      "Hyper-parameters at iteration 89 : [ 7.80085462  3.7882281   0.01        1.11373551  2.03317868]\n",
      "Hyper-parameters at iteration 90 : [ 7.81480205  3.77987402  0.01        1.11128125  2.05509026]\n",
      "Hyper-parameters at iteration 91 : [ 7.83740507  3.76399278  0.01        1.10616548  2.09334024]\n",
      "Hyper-parameters at iteration 92 : [ 7.83600141  3.76542541  0.01        1.10688557  2.09571435]\n",
      "Hyper-parameters at iteration 93 : [ 7.83846865  3.76352566  0.01        1.11010062  2.10859014]\n",
      "Hyper-parameters at iteration 94 : [ 7.84279811  3.76008352  0.01        1.11379175  2.1247793 ]\n",
      "Hyper-parameters at iteration 95 : [ 7.84869172  3.75474608  0.01        1.11663548  2.14336948]\n",
      "Hyper-parameters at iteration 96 : [ 7.86014686  3.74299579  0.01        1.12397893  2.17538448]\n",
      "Hyper-parameters at iteration 97 : [ 7.86582303  3.73588514  0.01        1.12664322  2.19076657]\n",
      "Hyper-parameters at iteration 98 : [ 7.8691211   3.72990778  0.01        1.12947789  2.19975403]\n",
      "Hyper-parameters at iteration 99 : [ 7.87024457  3.72497871  0.01        1.13358388  2.20370734]\n",
      "Hyper-parameters at iteration 100 : [ 7.86993028  3.72061522  0.01        1.14000375  2.20457443]\n",
      "Hyper-parameters at iteration 101 : [ 7.86900168  3.71215754  0.01        1.15279619  2.20472674]\n"
     ]
    }
   ],
   "source": [
    "opts = {'mode': 'full', 'maxiter': 100, 'mydisp': True}\n",
    "svi_res = svi_gp.fit(x_tr, y_tr, inputs=inputs, optimizer_options=opts)"
   ]
  },
  {
   "cell_type": "code",
   "execution_count": 17,
   "metadata": {
    "collapsed": false
   },
   "outputs": [],
   "source": [
    "metric = lambda w: svi_gp.get_prediction_quality(w, x_test, y_test)\n",
    "svi_x_lst, svi_y_lst = svi_res.plot_performance(metric, 't', freq=1)"
   ]
  },
  {
   "cell_type": "code",
   "execution_count": 18,
   "metadata": {
    "collapsed": false
   },
   "outputs": [
    {
     "data": {
      "text/plain": [
       "<matplotlib.text.Text at 0x10e4007f0>"
      ]
     },
     "execution_count": 18,
     "metadata": {},
     "output_type": "execute_result"
    },
    {
     "data": {
      "image/png": "[encoded data removed]",
      "text/plain": [
       "<matplotlib.figure.Figure at 0x10e402588>"
      ]
     },
     "metadata": {},
     "output_type": "display_data"
    }
   ],
   "source": [
    "plt.plot(svi_x_lst[1:], svi_y_lst[1:], '-gx', label='svi-L-BFGS-B-c')\n",
    "plt.ylim([0.7, 1.])\n",
    "plt.legend()\n",
    "plt.xlabel('Seconds')\n",
    "plt.ylabel('Accuracy')"
   ]
  },
  {
   "cell_type": "markdown",
   "metadata": {},
   "source": [
    "## vi-means-c method\n",
    "\n",
    "### Jaakkola-Jordan\n",
    "Подбор числа пересчетов"
   ]
  },
  {
   "cell_type": "code",
   "execution_count": 10,
   "metadata": {
    "collapsed": false
   },
   "outputs": [
    {
     "name": "stdout",
     "output_type": "stream",
     "text": [
      "5\n",
      "\n",
      "10\n",
      "\n",
      "15\n",
      "\n",
      "20\n",
      "\n"
     ]
    }
   ],
   "source": [
    "maxfuns = [5, 10, 15, 20]\n",
    "results = []\n",
    "for maxfun in maxfuns:\n",
    "    print(maxfun)\n",
    "    model_covariance_obj = SquaredExponential(np.copy(cov_params))\n",
    "    vi_gp = GPC(model_covariance_obj, method='vi')\n",
    "    opts = {'maxfun':maxfun, 'mydisp': False, 'num_updates':3}\n",
    "    results.append(vi_gp.fit(x_tr, y_tr, inputs=inputs, optimizer_options=opts, max_out_iter=10))\n",
    "    print()"
   ]
  },
  {
   "cell_type": "code",
   "execution_count": 12,
   "metadata": {
    "collapsed": false
   },
   "outputs": [
    {
     "name": "stdout",
     "output_type": "stream",
     "text": [
      "0\n",
      "1\n",
      "2\n",
      "3\n"
     ]
    },
    {
     "data": {
      "text/plain": [
       "<matplotlib.text.Text at 0x10d75c390>"
      ]
     },
     "execution_count": 12,
     "metadata": {},
     "output_type": "execute_result"
    },
    {
     "data": {
      "image/png": "[encoded data removed]",
      "text/plain": [
       "<matplotlib.figure.Figure at 0x10d4b0e48>"
      ]
     },
     "metadata": {},
     "output_type": "display_data"
    }
   ],
   "source": [
    "metric = lambda w: vi_gp.get_prediction_quality(w, x_test, y_test)\n",
    "for i in range(len(maxfuns)):\n",
    "    vi_x_lst, vi_y_lst = results[i].plot_performance(metric, 't', freq=1)\n",
    "    plt.plot(vi_x_lst[1:], vi_y_lst[1:], label=maxfuns[i])\n",
    "    print(i)\n",
    "plt.ylim([.7, .9])\n",
    "plt.legend()\n",
    "plt.xlabel('Seconds')\n",
    "plt.ylabel('Accuracy')"
   ]
  },
  {
   "cell_type": "markdown",
   "metadata": {},
   "source": [
    "Обучение лучшего варианта"
   ]
  },
  {
   "cell_type": "code",
   "execution_count": 15,
   "metadata": {
    "collapsed": true
   },
   "outputs": [
    {
     "name": "stdout",
     "output_type": "stream",
     "text": [
      "Hyper-parameters at iteration 0 : [ 1.  1.  1.]\n",
      "\tHyper-parameters at outter iteration 0 : [ 0.99724596  3.77907805  0.99724596]\n",
      "Hyper-parameters at iteration 0 : [ 0.99724596  3.77907805  0.99724596]\n",
      "Hyper-parameters at iteration 1 : [ 1.22027781  3.77780163  0.99691162]\n",
      "Hyper-parameters at iteration 2 : [ 1.24746173  3.71852067  0.01      ]\n",
      "Hyper-parameters at iteration 3 : [ 1.53077094  3.60451151  0.01      ]\n",
      "Hyper-parameters at iteration 4 : [ 2.22280322  3.23916601  0.01      ]\n",
      "\tHyper-parameters at outter iteration 1 : [ 2.67291269  2.99074334  0.01      ]\n",
      "Hyper-parameters at iteration 0 : [ 2.67291269  2.99074334  0.01      ]\n",
      "Hyper-parameters at iteration 1 : [ 6.336149    2.92933936  0.01      ]\n",
      "\tHyper-parameters at outter iteration 2 : [ 5.27950498  2.95534746  0.01      ]\n",
      "Hyper-parameters at iteration 0 : [ 5.27950498  2.95534746  0.01      ]\n",
      "Hyper-parameters at iteration 1 : [ 5.2662837   3.34346399  0.01      ]\n",
      "\tHyper-parameters at outter iteration 3 : [ 5.26782128  3.29971427  0.01      ]\n",
      "Hyper-parameters at iteration 0 : [ 5.26782128  3.29971427  0.01      ]\n",
      "Hyper-parameters at iteration 1 : [ 5.26474896  3.38371543  0.01      ]\n",
      "Hyper-parameters at iteration 2 : [ 5.26525408  3.37563991  0.01      ]\n",
      "Hyper-parameters at iteration 3 : [ 5.2655091   3.37473644  0.01      ]\n",
      "\tHyper-parameters at outter iteration 4 : [ 5.26738029  3.37174444  0.01      ]\n",
      "Hyper-parameters at iteration 0 : [ 5.26738029  3.37174444  0.01      ]\n",
      "Hyper-parameters at iteration 1 : [ 5.28191091  3.42808585  0.01      ]\n",
      "\tHyper-parameters at outter iteration 5 : [ 5.28613985  3.42108801  0.01      ]\n",
      "Hyper-parameters at iteration 0 : [ 5.28613985  3.42108801  0.01      ]\n",
      "Hyper-parameters at iteration 1 : [ 5.3613571   3.50015363  0.01      ]\n",
      "\tHyper-parameters at outter iteration 6 : [ 5.3782092   3.50278751  0.01      ]\n",
      "Hyper-parameters at iteration 0 : [ 5.3782092   3.50278751  0.01      ]\n",
      "Hyper-parameters at iteration 1 : [ 5.46846787  3.47087408  0.01      ]\n",
      "\tHyper-parameters at outter iteration 7 : [ 5.47118297  3.47042223  0.01      ]\n",
      "Hyper-parameters at iteration 0 : [ 5.47118297  3.47042223  0.01      ]\n",
      "Hyper-parameters at iteration 1 : [ 5.50037144  3.5333312   0.01      ]\n",
      "\tHyper-parameters at outter iteration 8 : [ 5.50562678  3.52770197  0.01      ]\n",
      "Hyper-parameters at iteration 0 : [ 5.50562678  3.52770197  0.01      ]\n",
      "Hyper-parameters at iteration 1 : [ 6.1373399   3.55481752  0.01      ]\n",
      "Hyper-parameters at iteration 2 : [ 5.95495041  3.5485349   0.01      ]\n",
      "Hyper-parameters at iteration 3 : [ 5.92571743  3.5492658   0.01      ]\n",
      "Hyper-parameters at iteration 4 : [ 5.88939856  3.55600633  0.01      ]\n",
      "\tHyper-parameters at outter iteration 9 : [ 5.87800544  3.57884147  0.01      ]\n",
      "Hyper-parameters at iteration 0 : [ 5.87800544  3.57884147  0.01      ]\n",
      "Hyper-parameters at iteration 1 : [ 5.89436613  3.64094535  0.01      ]\n",
      "Hyper-parameters at iteration 2 : [ 5.89524657  3.63920239  0.01      ]\n",
      "\tHyper-parameters at outter iteration 10 : [ 5.91693454  3.62748371  0.01      ]\n",
      "Hyper-parameters at iteration 0 : [ 5.91693454  3.62748371  0.01      ]\n",
      "Hyper-parameters at iteration 1 : [ 6.18684134  3.8412902   0.01      ]\n",
      "Hyper-parameters at iteration 2 : [ 6.06269171  3.74230485  0.01      ]\n",
      "Hyper-parameters at iteration 3 : [ 6.05179827  3.73303066  0.01      ]\n",
      "Hyper-parameters at iteration 4 : [ 6.04653766  3.72735244  0.01      ]\n",
      "\tHyper-parameters at outter iteration 11 : [ 6.0387104  3.712153   0.01     ]\n",
      "Hyper-parameters at iteration 0 : [ 6.0387104  3.712153   0.01     ]\n",
      "Hyper-parameters at iteration 1 : [ 6.12410766  3.6762598   0.01      ]\n",
      "\tHyper-parameters at outter iteration 12 : [ 6.12745326  3.67527599  0.01      ]\n",
      "Hyper-parameters at iteration 0 : [ 6.12745326  3.67527599  0.01      ]\n",
      "Hyper-parameters at iteration 1 : [ 6.16512214  3.73763741  0.01      ]\n",
      "\tHyper-parameters at outter iteration 13 : [ 6.17259957  3.73745028  0.01      ]\n",
      "Hyper-parameters at iteration 0 : [ 6.17259957  3.73745028  0.01      ]\n",
      "Hyper-parameters at iteration 1 : [ 6.28482541  3.70704924  0.01      ]\n",
      "\tHyper-parameters at outter iteration 14 : [ 6.32572241  3.70657599  0.01      ]\n",
      "Hyper-parameters at iteration 0 : [ 6.32572241  3.70657599  0.01      ]\n",
      "Hyper-parameters at iteration 1 : [ 6.34207021  3.76969142  0.01      ]\n",
      "\tHyper-parameters at outter iteration 15 : [ 6.34635756  3.76617672  0.01      ]\n",
      "Hyper-parameters at iteration 0 : [ 6.34635756  3.76617672  0.01      ]\n",
      "Hyper-parameters at iteration 1 : [  1.29300824e+01   5.16186370e+00   1.00000000e-02]\n",
      "Hyper-parameters at iteration 2 : [ 9.96636896  4.55931516  0.01      ]\n",
      "\tHyper-parameters at outter iteration 16 : [ 7.76619917  4.11233548  0.01      ]\n",
      "Hyper-parameters at iteration 0 : [ 7.76619917  4.11233548  0.01      ]\n",
      "Hyper-parameters at iteration 1 : [ 7.7826245   4.16195074  0.01      ]\n",
      "\tHyper-parameters at outter iteration 17 : [ 7.78262448  4.16195067  0.01      ]\n",
      "Hyper-parameters at iteration 0 : [ 7.78262448  4.16195067  0.01      ]\n",
      "Hyper-parameters at iteration 1 : [ 8.56568619  4.22314589  0.01      ]\n",
      "Hyper-parameters at iteration 2 : [ 8.49852222  4.2193683   0.01      ]\n",
      "Hyper-parameters at iteration 3 : [ 8.43551509  4.21875584  0.01      ]\n",
      "Hyper-parameters at iteration 4 : [ 8.38507945  4.22595779  0.01      ]\n",
      "\tHyper-parameters at outter iteration 18 : [ 8.38689062  4.25788696  0.01      ]\n",
      "Hyper-parameters at iteration 0 : [ 8.38689062  4.25788696  0.01      ]\n",
      "Hyper-parameters at iteration 1 : [ 8.39930826  4.31514633  0.01      ]\n",
      "Hyper-parameters at iteration 2 : [ 8.3993243   4.31456841  0.01      ]\n",
      "Hyper-parameters at iteration 3 : [ 8.40105043  4.30978411  0.01      ]\n",
      "\tHyper-parameters at outter iteration 19 : [ 8.40651977  4.30515382  0.01      ]\n",
      "Hyper-parameters at iteration 0 : [ 8.40651977  4.30515382  0.01      ]\n",
      "Hyper-parameters at iteration 1 : [ 8.67286242  4.46276618  0.01      ]\n",
      "Hyper-parameters at iteration 2 : [ 8.62345027  4.43309765  0.01      ]\n",
      "Hyper-parameters at iteration 3 : [ 8.59166699  4.41178682  0.01      ]\n",
      "\tHyper-parameters at outter iteration 20 : [ 8.60033952  4.41517619  0.01      ]\n",
      "Hyper-parameters at iteration 0 : [ 8.60033952  4.41517619  0.01      ]\n",
      "Hyper-parameters at iteration 1 : [ 8.66022578  4.36943939  0.01      ]\n",
      "\tHyper-parameters at outter iteration 21 : [ 8.66440808  4.36646439  0.01      ]\n",
      "Hyper-parameters at iteration 0 : [ 8.66440808  4.36646439  0.01      ]\n",
      "Hyper-parameters at iteration 1 : [ 8.80579873  4.48053384  0.01      ]\n",
      "Hyper-parameters at iteration 2 : [ 8.76937524  4.45080944  0.01      ]\n",
      "Hyper-parameters at iteration 3 : [ 8.76766943  4.44907024  0.01      ]\n",
      "Hyper-parameters at iteration 4 : [ 8.76251494  4.43938815  0.01      ]\n",
      "\tHyper-parameters at outter iteration 22 : [ 8.76350651  4.41907357  0.01      ]\n",
      "Hyper-parameters at iteration 0 : [ 8.76350651  4.41907357  0.01      ]\n",
      "Hyper-parameters at iteration 1 : [ 8.85291588  4.38865805  0.01      ]\n",
      "\tHyper-parameters at outter iteration 23 : [ 8.85291602  4.38865803  0.01      ]\n",
      "Hyper-parameters at iteration 0 : [ 8.85291602  4.38865803  0.01      ]\n",
      "Hyper-parameters at iteration 1 : [ 8.87792392  4.43971628  0.01      ]\n",
      "Hyper-parameters at iteration 2 : [ 8.87877964  4.44109271  0.01      ]\n",
      "\tHyper-parameters at outter iteration 24 : [ 8.88023876  4.44322009  0.01      ]\n",
      "Hyper-parameters at iteration 0 : [ 8.88023876  4.44322009  0.01      ]\n",
      "Hyper-parameters at iteration 1 : [ 9.04036253  4.40046797  0.01      ]\n",
      "Hyper-parameters at iteration 2 : [ 8.99602266  4.41264923  0.01      ]\n",
      "Hyper-parameters at iteration 3 : [ 8.99189786  4.41562325  0.01      ]\n",
      "\tHyper-parameters at outter iteration 25 : [ 8.99697983  4.43145343  0.01      ]\n",
      "Hyper-parameters at iteration 0 : [ 8.99697983  4.43145343  0.01      ]\n",
      "Hyper-parameters at iteration 1 : [ 9.06385629  4.52502344  0.01      ]\n",
      "Hyper-parameters at iteration 2 : [ 9.03836408  4.48904103  0.01      ]\n",
      "\tHyper-parameters at outter iteration 26 : [ 9.03836226  4.48903823  0.01      ]\n",
      "Hyper-parameters at iteration 0 : [ 9.03836226  4.48903823  0.01      ]\n",
      "Hyper-parameters at iteration 1 : [ 9.10567759  4.45660003  0.01      ]\n",
      "Hyper-parameters at iteration 2 : [ 9.11070955  4.45442367  0.01      ]\n",
      "\tHyper-parameters at outter iteration 27 : [ 9.11149159  4.45413779  0.01      ]\n",
      "Hyper-parameters at iteration 0 : [ 9.11149159  4.45413779  0.01      ]\n",
      "Hyper-parameters at iteration 1 : [ 9.17278005  4.5529241   0.01      ]\n",
      "Hyper-parameters at iteration 2 : [ 9.1461335   4.50965162  0.01      ]\n",
      "\tHyper-parameters at outter iteration 28 : [ 9.14613291  4.50965053  0.01      ]\n",
      "Hyper-parameters at iteration 0 : [ 9.14613291  4.50965053  0.01      ]\n",
      "Hyper-parameters at iteration 1 : [ 9.22143342  4.4776844   0.01      ]\n",
      "Hyper-parameters at iteration 2 : [ 9.22528337  4.47631148  0.01      ]\n",
      "\tHyper-parameters at outter iteration 29 : [ 9.2264619   4.47597703  0.01      ]\n",
      "Hyper-parameters at iteration 0 : [ 9.2264619   4.47597703  0.01      ]\n",
      "Hyper-parameters at iteration 1 : [ 9.27914148  4.57320956  0.01      ]\n",
      "Hyper-parameters at iteration 2 : [ 9.25636535  4.53083827  0.01      ]\n",
      "Hyper-parameters at iteration 3 : [ 9.25350462  4.52389149  0.01      ]\n",
      "\tHyper-parameters at outter iteration 30 : [ 9.25484909  4.52531946  0.01      ]\n",
      "Hyper-parameters at iteration 0 : [ 9.25484909  4.52531946  0.01      ]\n",
      "Hyper-parameters at iteration 1 : [ 9.39817749  4.49382699  0.01      ]\n",
      "Hyper-parameters at iteration 2 : [ 9.38903433  4.49621157  0.01      ]\n",
      "\tHyper-parameters at outter iteration 31 : [ 9.38900155  4.49623198  0.01      ]\n",
      "Hyper-parameters at iteration 0 : [ 9.38900155  4.49623198  0.01      ]\n",
      "Hyper-parameters at iteration 1 : [ 9.40657408  4.55385227  0.01      ]\n",
      "\tHyper-parameters at outter iteration 32 : [ 9.40657407  4.55385223  0.01      ]\n",
      "Hyper-parameters at iteration 0 : [ 9.40657407  4.55385223  0.01      ]\n",
      "Hyper-parameters at iteration 1 : [ 9.71756788  4.5353294   0.01      ]\n",
      "Hyper-parameters at iteration 2 : [ 9.7026811   4.53682822  0.01      ]\n",
      "Hyper-parameters at iteration 3 : [ 9.67352149  4.54188324  0.01      ]\n",
      "Hyper-parameters at iteration 4 : [ 9.65792556  4.55005597  0.01      ]\n",
      "\tHyper-parameters at outter iteration 33 : [ 9.6702701  4.575311   0.01     ]\n",
      "Hyper-parameters at iteration 0 : [ 9.6702701  4.575311   0.01     ]\n",
      "Hyper-parameters at iteration 1 : [ 9.71851107  4.67604095  0.01      ]\n",
      "Hyper-parameters at iteration 2 : [ 9.69606569  4.62882994  0.01      ]\n",
      "\tHyper-parameters at outter iteration 34 : [ 9.69606524  4.62882895  0.01      ]\n",
      "Hyper-parameters at iteration 0 : [ 9.69606524  4.62882895  0.01      ]\n",
      "Hyper-parameters at iteration 1 : [ 9.82640918  4.59273717  0.01      ]\n",
      "Hyper-parameters at iteration 2 : [ 9.8085395   4.59800316  0.01      ]\n",
      "\tHyper-parameters at outter iteration 35 : [ 9.80853949  4.59800319  0.01      ]\n",
      "Hyper-parameters at iteration 0 : [ 9.80853949  4.59800319  0.01      ]\n",
      "Hyper-parameters at iteration 1 : [ 9.84566755  4.69984887  0.01      ]\n",
      "Hyper-parameters at iteration 2 : [ 9.82891807  4.65350654  0.01      ]\n",
      "Hyper-parameters at iteration 3 : [ 9.82956567  4.65487811  0.01      ]\n",
      "\tHyper-parameters at outter iteration 36 : [ 9.83520525  4.65959526  0.01      ]\n",
      "Hyper-parameters at iteration 0 : [ 9.83520525  4.65959526  0.01      ]\n",
      "Hyper-parameters at iteration 1 : [ 9.96844838  4.61768594  0.01      ]\n",
      "Hyper-parameters at iteration 2 : [ 9.93506523  4.62848029  0.01      ]\n",
      "Hyper-parameters at iteration 3 : [ 9.93287569  4.62949527  0.01      ]\n",
      "Hyper-parameters at iteration 4 : [ 9.92889251  4.63416264  0.01      ]\n",
      "\tHyper-parameters at outter iteration 37 : [ 9.9300001   4.65221947  0.01      ]\n",
      "Hyper-parameters at iteration 0 : [ 9.9300001   4.65221947  0.01      ]\n",
      "Hyper-parameters at iteration 1 : [  1.00353871e+01   4.75331047e+00   1.00000000e-02]\n",
      "Hyper-parameters at iteration 2 : [  1.00014776e+01   4.72049391e+00   1.00000000e-02]\n",
      "Hyper-parameters at iteration 3 : [  1.00079540e+01   4.72519744e+00   1.00000000e-02]\n",
      "\tHyper-parameters at outter iteration 38 : [  1.00284974e+01   4.73534138e+00   1.00000000e-02]\n",
      "Hyper-parameters at iteration 0 : [  1.00284974e+01   4.73534138e+00   1.00000000e-02]\n",
      "\tHyper-parameters at outter iteration 39 : [  1.00284980e+01   4.73534079e+00   1.00000000e-02]\n"
     ]
    }
   ],
   "source": [
    "model_covariance_obj = SquaredExponential(np.copy(cov_params))\n",
    "vi_gp = GPC(model_covariance_obj, method='vi')\n",
    "opts = {'maxfun':5, 'mydisp': True, 'num_updates':3}\n",
    "vi_res = vi_gp.fit(x_tr, y_tr, inputs=inputs, optimizer_options=opts, max_out_iter=40)"
   ]
  },
  {
   "cell_type": "code",
   "execution_count": 17,
   "metadata": {
    "collapsed": false
   },
   "outputs": [
    {
     "data": {
      "text/plain": [
       "<matplotlib.text.Text at 0x10db89400>"
      ]
     },
     "execution_count": 17,
     "metadata": {},
     "output_type": "execute_result"
    },
    {
     "data": {
      "image/png": "[encoded data removed]",
      "text/plain": [
       "<matplotlib.figure.Figure at 0x10ddb75f8>"
      ]
     },
     "metadata": {},
     "output_type": "display_data"
    }
   ],
   "source": [
    "metric = lambda w: vi_gp.get_prediction_quality(w, x_test, y_test)\n",
    "vi_x_lst, vi_y_lst = vi_res.plot_performance(metric, 't', freq=1)\n",
    "plt.plot(vi_x_lst[1:], vi_y_lst[1:], '-bx', label='vi-means-c')\n",
    "# plt.plot(svi_x_lst[1:100], svi_y_lst[1:100], '-gx', label='svi-L-BFGS-B-c')\n",
    "plt.ylim([0.7, .9])\n",
    "plt.legend()\n",
    "plt.xlabel('Seconds')\n",
    "plt.ylabel('Accuracy')"
   ]
  },
  {
   "cell_type": "markdown",
   "metadata": {},
   "source": [
    "### Taylor\n",
    "Подбор числа пересчетов"
   ]
  },
  {
   "cell_type": "code",
   "execution_count": 12,
   "metadata": {
    "collapsed": false
   },
   "outputs": [
    {
     "name": "stdout",
     "output_type": "stream",
     "text": [
      "5\n",
      "\n",
      "10\n",
      "\n",
      "15\n",
      "\n",
      "20\n",
      "\n"
     ]
    }
   ],
   "source": [
    "maxfuns = [5, 10, 15, 20]\n",
    "results = []\n",
    "for maxfun in maxfuns:\n",
    "    print(maxfun)\n",
    "    model_covariance_obj = SquaredExponential(np.copy(cov_params))\n",
    "    vi_gp = GPC(model_covariance_obj, method='vi')\n",
    "    opts = {'bound': 'Taylor', 'maxfun':maxfun, 'mydisp': False, 'num_updates':3}\n",
    "    results.append(vi_gp.fit(x_tr, y_tr, inputs=inputs, optimizer_options=opts, max_out_iter=10))\n",
    "    print()"
   ]
  },
  {
   "cell_type": "code",
   "execution_count": 13,
   "metadata": {
    "collapsed": false
   },
   "outputs": [
    {
     "name": "stdout",
     "output_type": "stream",
     "text": [
      "0\n",
      "1\n",
      "2\n",
      "3\n"
     ]
    },
    {
     "data": {
      "text/plain": [
       "<matplotlib.text.Text at 0x10d853d30>"
      ]
     },
     "execution_count": 13,
     "metadata": {},
     "output_type": "execute_result"
    },
    {
     "data": {
      "image/png": "[encoded data removed]",
      "text/plain": [
       "<matplotlib.figure.Figure at 0x10efceb70>"
      ]
     },
     "metadata": {},
     "output_type": "display_data"
    }
   ],
   "source": [
    "metric = lambda w: vi_gp.get_prediction_quality(w, x_test, y_test)\n",
    "for i in range(len(maxfuns)):\n",
    "    temp_vi_x_lst, temp_vi_y_lst = results[i].plot_performance(metric, 't', freq=1)\n",
    "    plt.plot(temp_vi_x_lst[1:], temp_vi_y_lst[1:], label=maxfuns[i])\n",
    "    print(i)\n",
    "plt.ylim([.7, .9])\n",
    "plt.legend()\n",
    "plt.xlabel('Seconds')\n",
    "plt.ylabel('Accuracy')"
   ]
  },
  {
   "cell_type": "markdown",
   "metadata": {},
   "source": [
    "Обучение лучшего варианта"
   ]
  },
  {
   "cell_type": "code",
   "execution_count": 18,
   "metadata": {
    "collapsed": true
   },
   "outputs": [
    {
     "name": "stdout",
     "output_type": "stream",
     "text": [
      "Hyper-parameters at iteration 0 : [ 1.  1.  1.]\n",
      "\tHyper-parameters at outter iteration 0 : [ 0.99647681  4.55522199  0.99647681]\n",
      "Hyper-parameters at iteration 0 : [ 0.99647681  4.55522199  0.99647681]\n",
      "Hyper-parameters at iteration 1 : [ 1.10012415  4.5543768   0.99629337]\n",
      "Hyper-parameters at iteration 2 : [ 1.05087138  4.54482895  0.01      ]\n",
      "Hyper-parameters at iteration 3 : [ 1.22888424  4.51993077  0.01      ]\n",
      "Hyper-parameters at iteration 4 : [ 1.738717    4.31111002  0.01      ]\n",
      "\tHyper-parameters at outter iteration 1 : [ 2.23966725  3.96842115  0.01      ]\n",
      "Hyper-parameters at iteration 0 : [ 2.23966725  3.96842115  0.01      ]\n",
      "Hyper-parameters at iteration 1 : [ 6.99198337  3.85889679  0.01      ]\n",
      "\tHyper-parameters at outter iteration 2 : [ 5.84896927  3.89144735  0.01      ]\n",
      "Hyper-parameters at iteration 0 : [ 5.84896927  3.89144735  0.01      ]\n",
      "Hyper-parameters at iteration 1 : [ 5.90740331  3.86318741  0.01      ]\n",
      "\tHyper-parameters at outter iteration 3 : [ 5.90740535  3.8631876   0.01      ]\n",
      "Hyper-parameters at iteration 0 : [ 5.90740535  3.8631876   0.01      ]\n",
      "Hyper-parameters at iteration 1 : [ 6.23691457  3.77852211  0.01      ]\n",
      "\tHyper-parameters at outter iteration 4 : [ 6.24171334  3.77765207  0.01      ]\n",
      "Hyper-parameters at iteration 0 : [ 6.24171334  3.77765207  0.01      ]\n",
      "Hyper-parameters at iteration 1 : [ 6.42543278  3.75288677  0.01      ]\n",
      "Hyper-parameters at iteration 2 : [ 6.39327343  3.75774891  0.01      ]\n",
      "Hyper-parameters at iteration 3 : [ 6.38967325  3.75894385  0.01      ]\n",
      "Hyper-parameters at iteration 4 : [ 6.3754424   3.77117404  0.01      ]\n",
      "\tHyper-parameters at outter iteration 5 : [ 6.38482694  3.79210563  0.01      ]\n",
      "Hyper-parameters at iteration 0 : [ 6.38482694  3.79210563  0.01      ]\n",
      "Hyper-parameters at iteration 1 : [ 6.7578888   4.01471123  0.01      ]\n",
      "Hyper-parameters at iteration 2 : [ 6.68983557  3.97363891  0.01      ]\n",
      "Hyper-parameters at iteration 3 : [ 6.67330943  3.96322663  0.01      ]\n",
      "Hyper-parameters at iteration 4 : [ 6.6645394   3.95658193  0.01      ]\n",
      "\tHyper-parameters at outter iteration 6 : [ 6.63161652  3.92414861  0.01      ]\n",
      "Hyper-parameters at iteration 0 : [ 6.63161652  3.92414861  0.01      ]\n",
      "Hyper-parameters at iteration 1 : [ 6.71518936  3.88032747  0.01      ]\n",
      "\tHyper-parameters at outter iteration 7 : [ 6.71959698  3.87827787  0.01      ]\n",
      "Hyper-parameters at iteration 0 : [ 6.71959698  3.87827787  0.01      ]\n",
      "Hyper-parameters at iteration 1 : [ 6.8355244   4.00024659  0.01      ]\n",
      "Hyper-parameters at iteration 2 : [ 6.78986919  3.95188418  0.01      ]\n",
      "Hyper-parameters at iteration 3 : [ 6.78703974  3.94857477  0.01      ]\n",
      "Hyper-parameters at iteration 4 : [ 6.78400256  3.94403914  0.01      ]\n",
      "\tHyper-parameters at outter iteration 8 : [ 6.78131645  3.93601717  0.01      ]\n",
      "Hyper-parameters at iteration 0 : [ 6.78131645  3.93601717  0.01      ]\n",
      "Hyper-parameters at iteration 1 : [ 6.84132785  3.90649881  0.01      ]\n",
      "Hyper-parameters at iteration 2 : [ 6.84800662  3.90453138  0.01      ]\n",
      "\tHyper-parameters at outter iteration 9 : [ 6.86597945  3.90233771  0.01      ]\n",
      "Hyper-parameters at iteration 0 : [ 6.86597945  3.90233771  0.01      ]\n",
      "Hyper-parameters at iteration 1 : [ 6.88942088  3.95444534  0.01      ]\n",
      "\tHyper-parameters at outter iteration 10 : [ 6.89420268  3.95669061  0.01      ]\n",
      "Hyper-parameters at iteration 0 : [ 6.89420268  3.95669061  0.01      ]\n",
      "Hyper-parameters at iteration 1 : [ 7.10013726  3.91218598  0.01      ]\n",
      "Hyper-parameters at iteration 2 : [ 7.00688913  3.9327337   0.01      ]\n",
      "\tHyper-parameters at outter iteration 11 : [ 7.01671281  3.93927896  0.01      ]\n",
      "Hyper-parameters at iteration 0 : [ 7.01671281  3.93927896  0.01      ]\n",
      "Hyper-parameters at iteration 1 : [ 7.03587764  3.99119233  0.01      ]\n",
      "\tHyper-parameters at outter iteration 12 : [ 7.03587764  3.9911922   0.01      ]\n",
      "Hyper-parameters at iteration 0 : [ 7.03587764  3.9911922   0.01      ]\n",
      "Hyper-parameters at iteration 1 : [ 7.22726492  3.97182343  0.01      ]\n",
      "Hyper-parameters at iteration 2 : [ 7.21310559  3.97376832  0.01      ]\n",
      "Hyper-parameters at iteration 3 : [ 7.2028278   3.97626601  0.01      ]\n",
      "Hyper-parameters at iteration 4 : [ 7.18600803  3.98466797  0.01      ]\n",
      "\tHyper-parameters at outter iteration 13 : [ 7.18669638  3.9980614   0.01      ]\n",
      "Hyper-parameters at iteration 0 : [ 7.18669638  3.9980614   0.01      ]\n",
      "Hyper-parameters at iteration 1 : [ 7.24810453  4.09664456  0.01      ]\n",
      "Hyper-parameters at iteration 2 : [ 7.22094888  4.05273748  0.01      ]\n",
      "Hyper-parameters at iteration 3 : [ 7.22043229  4.05159388  0.01      ]\n",
      "Hyper-parameters at iteration 4 : [ 7.2180615  4.0435724  0.01     ]\n",
      "\tHyper-parameters at outter iteration 14 : [ 7.21986465  4.04118957  0.01      ]\n",
      "Hyper-parameters at iteration 0 : [ 7.21986465  4.04118957  0.01      ]\n",
      "Hyper-parameters at iteration 1 : [ 7.4130686   4.02203157  0.01      ]\n",
      "Hyper-parameters at iteration 2 : [ 7.39949525  4.02388502  0.01      ]\n",
      "Hyper-parameters at iteration 3 : [ 7.38928445  4.02641542  0.01      ]\n",
      "Hyper-parameters at iteration 4 : [ 7.37306613  4.03509044  0.01      ]\n",
      "\tHyper-parameters at outter iteration 15 : [ 7.37343603  4.05082155  0.01      ]\n",
      "Hyper-parameters at iteration 0 : [ 7.37343603  4.05082155  0.01      ]\n",
      "Hyper-parameters at iteration 1 : [ 7.44666741  4.15417983  0.01      ]\n",
      "Hyper-parameters at iteration 2 : [ 7.41466632  4.10873121  0.01      ]\n",
      "Hyper-parameters at iteration 3 : [ 7.4137577   4.10716395  0.01      ]\n",
      "Hyper-parameters at iteration 4 : [ 7.41096904  4.10086065  0.01      ]\n",
      "\tHyper-parameters at outter iteration 16 : [ 7.41036789  4.09545561  0.01      ]\n",
      "Hyper-parameters at iteration 0 : [ 7.41036789  4.09545561  0.01      ]\n",
      "Hyper-parameters at iteration 1 : [ 7.55204288  4.0706949   0.01      ]\n",
      "Hyper-parameters at iteration 2 : [ 7.54256777  4.07273657  0.01      ]\n",
      "Hyper-parameters at iteration 3 : [ 7.53522911  4.07514446  0.01      ]\n",
      "Hyper-parameters at iteration 4 : [ 7.5231599   4.08223599  0.01      ]\n",
      "\tHyper-parameters at outter iteration 17 : [ 7.5228378   4.09209179  0.01      ]\n",
      "Hyper-parameters at iteration 0 : [ 7.5228378   4.09209179  0.01      ]\n",
      "Hyper-parameters at iteration 1 : [ 7.60408375  4.19917463  0.01      ]\n",
      "Hyper-parameters at iteration 2 : [ 7.56798447  4.15132451  0.01      ]\n",
      "\tHyper-parameters at outter iteration 18 : [ 7.56795013  4.15127667  0.01      ]\n",
      "Hyper-parameters at iteration 0 : [ 7.56795013  4.15127667  0.01      ]\n",
      "Hyper-parameters at iteration 1 : [ 7.61944309  4.12171308  0.01      ]\n",
      "\tHyper-parameters at outter iteration 19 : [ 7.61944373  4.12171275  0.01      ]\n",
      "Hyper-parameters at iteration 0 : [ 7.61944373  4.12171275  0.01      ]\n",
      "Hyper-parameters at iteration 1 : [ 7.7242245   4.23886622  0.01      ]\n",
      "Hyper-parameters at iteration 2 : [ 7.67750777  4.18636452  0.01      ]\n",
      "Hyper-parameters at iteration 3 : [ 7.67506878  4.18336681  0.01      ]\n",
      "\tHyper-parameters at outter iteration 20 : [ 7.67180925  4.17924228  0.01      ]\n",
      "Hyper-parameters at iteration 0 : [ 7.67180925  4.17924228  0.01      ]\n",
      "Hyper-parameters at iteration 1 : [ 7.72345497  4.14976936  0.01      ]\n",
      "\tHyper-parameters at outter iteration 21 : [ 7.72346471  4.14976435  0.01      ]\n",
      "Hyper-parameters at iteration 0 : [ 7.72346471  4.14976435  0.01      ]\n",
      "Hyper-parameters at iteration 1 : [ 7.80909577  4.23754957  0.01      ]\n",
      "Hyper-parameters at iteration 2 : [ 7.79063929  4.2183666   0.01      ]\n",
      "\tHyper-parameters at outter iteration 22 : [ 7.79061809  4.21834301  0.01      ]\n",
      "Hyper-parameters at iteration 0 : [ 7.79061809  4.21834301  0.01      ]\n",
      "Hyper-parameters at iteration 1 : [ 7.83814905  4.18219235  0.01      ]\n",
      "Hyper-parameters at iteration 2 : [ 7.83666117  4.18352433  0.01      ]\n",
      "\tHyper-parameters at outter iteration 23 : [ 7.83634709  4.18389657  0.01      ]\n",
      "Hyper-parameters at iteration 0 : [ 7.83634709  4.18389657  0.01      ]\n",
      "Hyper-parameters at iteration 1 : [ 7.99615975  4.30691826  0.01      ]\n",
      "Hyper-parameters at iteration 2 : [ 7.95788957  4.27717828  0.01      ]\n",
      "Hyper-parameters at iteration 3 : [ 7.95510529  4.27473273  0.01      ]\n",
      "Hyper-parameters at iteration 4 : [ 7.9430296   4.26236199  0.01      ]\n",
      "\tHyper-parameters at outter iteration 24 : [ 7.94424174  4.25902686  0.01      ]\n",
      "Hyper-parameters at iteration 0 : [ 7.94424174  4.25902686  0.01      ]\n",
      "Hyper-parameters at iteration 1 : [ 7.98785589  4.2244971   0.01      ]\n",
      "\tHyper-parameters at outter iteration 25 : [ 7.98804237  4.22438989  0.01      ]\n",
      "Hyper-parameters at iteration 0 : [ 7.98804237  4.22438989  0.01      ]\n",
      "Hyper-parameters at iteration 1 : [ 8.14526797  4.34536827  0.01      ]\n",
      "Hyper-parameters at iteration 2 : [ 8.1101773   4.31809103  0.01      ]\n",
      "Hyper-parameters at iteration 3 : [ 8.10308584  4.31232906  0.01      ]\n",
      "Hyper-parameters at iteration 4 : [ 8.09550553  4.30572936  0.01      ]\n",
      "\tHyper-parameters at outter iteration 26 : [ 8.09412528  4.30331345  0.01      ]\n",
      "Hyper-parameters at iteration 0 : [ 8.09412528  4.30331345  0.01      ]\n",
      "\tHyper-parameters at outter iteration 27 : [ 8.09412528  4.30331345  0.01      ]\n",
      "Hyper-parameters at iteration 0 : [ 8.09412528  4.30331345  0.01      ]\n",
      "Hyper-parameters at iteration 1 : [ 8.1367583   4.26725449  0.01      ]\n",
      "\tHyper-parameters at outter iteration 28 : [ 8.13959653  4.26504272  0.01      ]\n",
      "Hyper-parameters at iteration 0 : [ 8.13959653  4.26504272  0.01      ]\n",
      "Hyper-parameters at iteration 1 : [ 8.33697615  4.39377184  0.01      ]\n",
      "Hyper-parameters at iteration 2 : [ 8.32269396  4.38416418  0.01      ]\n",
      "Hyper-parameters at iteration 3 : [ 8.30000384  4.36651414  0.01      ]\n",
      "\tHyper-parameters at outter iteration 29 : [ 8.29496347  4.35956526  0.01      ]\n",
      "Hyper-parameters at iteration 0 : [ 8.29496347  4.35956526  0.01      ]\n",
      "Hyper-parameters at iteration 1 : [ 8.34141376  4.32004429  0.01      ]\n",
      "\tHyper-parameters at outter iteration 30 : [ 8.34566399  4.31660838  0.01      ]\n",
      "Hyper-parameters at iteration 0 : [ 8.34566399  4.31660838  0.01      ]\n",
      "Hyper-parameters at iteration 1 : [ 8.51520215  4.44050378  0.01      ]\n",
      "Hyper-parameters at iteration 2 : [ 8.47550892  4.41122226  0.01      ]\n",
      "Hyper-parameters at iteration 3 : [ 8.47052274  4.40728013  0.01      ]\n",
      "\tHyper-parameters at outter iteration 31 : [ 8.46423021  4.40220614  0.01      ]\n",
      "Hyper-parameters at iteration 0 : [ 8.46423021  4.40220614  0.01      ]\n",
      "\tHyper-parameters at outter iteration 32 : [ 8.46425945  4.40218033  0.01      ]\n",
      "Hyper-parameters at iteration 0 : [ 8.46425945  4.40218033  0.01      ]\n",
      "\tHyper-parameters at outter iteration 33 : [ 8.46425945  4.40218033  0.01      ]\n",
      "Hyper-parameters at iteration 0 : [ 8.46425945  4.40218033  0.01      ]\n",
      "Hyper-parameters at iteration 1 : [ 8.50905255  4.36240789  0.01      ]\n",
      "\tHyper-parameters at outter iteration 34 : [ 8.51202372  4.35995168  0.01      ]\n",
      "Hyper-parameters at iteration 0 : [ 8.51202372  4.35995168  0.01      ]\n",
      "Hyper-parameters at iteration 1 : [ 8.7363329   4.50287492  0.01      ]\n",
      "Hyper-parameters at iteration 2 : [ 8.6997621   4.47928847  0.01      ]\n",
      "\tHyper-parameters at outter iteration 35 : [ 8.69962781  4.47920045  0.01      ]\n",
      "Hyper-parameters at iteration 0 : [ 8.69962781  4.47920045  0.01      ]\n",
      "\tHyper-parameters at outter iteration 36 : [ 8.69962781  4.47920045  0.01      ]\n",
      "Hyper-parameters at iteration 0 : [ 8.69962781  4.47920045  0.01      ]\n",
      "Hyper-parameters at iteration 1 : [ 8.76104752  4.42773188  0.01      ]\n",
      "\tHyper-parameters at outter iteration 37 : [ 8.76528687  4.42435169  0.01      ]\n",
      "Hyper-parameters at iteration 0 : [ 8.76528687  4.42435169  0.01      ]\n",
      "Hyper-parameters at iteration 1 : [ 9.08706721  4.60383044  0.01      ]\n",
      "Hyper-parameters at iteration 2 : [ 9.02678546  4.56990159  0.01      ]\n",
      "\tHyper-parameters at outter iteration 38 : [ 9.02676839  4.5698917   0.01      ]\n",
      "Hyper-parameters at iteration 0 : [ 9.02676839  4.5698917   0.01      ]\n",
      "Hyper-parameters at iteration 1 : [ 9.09665932  4.5110398   0.01      ]\n",
      "\tHyper-parameters at outter iteration 39 : [ 9.10096684  4.50758589  0.01      ]\n"
     ]
    }
   ],
   "source": [
    "model_covariance_obj = SquaredExponential(np.copy(cov_params))\n",
    "vi_gp = GPC(model_covariance_obj, method='vi')\n",
    "opts = {'bound': 'Taylor', 'maxfun':5, 'mydisp': True, 'num_updates':3}\n",
    "vi_res = vi_gp.fit(x_tr, y_tr, inputs=inputs, optimizer_options=opts, max_out_iter=40)"
   ]
  },
  {
   "cell_type": "code",
   "execution_count": 20,
   "metadata": {
    "collapsed": false
   },
   "outputs": [
    {
     "data": {
      "text/plain": [
       "<matplotlib.text.Text at 0x10dfd2400>"
      ]
     },
     "execution_count": 20,
     "metadata": {},
     "output_type": "execute_result"
    },
    {
     "data": {
      "image/png": "[encoded data removed]",
      "text/plain": [
       "<matplotlib.figure.Figure at 0x10db96e10>"
      ]
     },
     "metadata": {},
     "output_type": "display_data"
    }
   ],
   "source": [
    "metric = lambda w: vi_gp.get_prediction_quality(w, x_test, y_test)\n",
    "vi_t_x_lst, vi_t_y_lst = vi_res.plot_performance(metric, 't', freq=1)\n",
    "plt.plot(vi_t_x_lst[1:], vi_t_y_lst[1:], '-mx', label='vi-means-c')\n",
    "plt.ylim([0.7, .9])\n",
    "plt.legend()\n",
    "plt.xlabel('Seconds')\n",
    "plt.ylabel('Accuracy')"
   ]
  },
  {
   "cell_type": "markdown",
   "metadata": {},
   "source": [
    "### Stochastic Taylor"
   ]
  },
  {
   "cell_type": "code",
   "execution_count": 30,
   "metadata": {
    "collapsed": false
   },
   "outputs": [
    {
     "name": "stdout",
     "output_type": "stream",
     "text": [
      "Iteration  0 :\n",
      "\tGradient norm 90.9599831366\n",
      "Iteration  1 :\n",
      "\tGradient norm 31.0668066522\n",
      "\tHyper-parameters at outter iteration 0 : [ 1.22722999  1.50371066  0.41376377]\n",
      "Iteration  0 :\n",
      "\tGradient norm 8.69301372613\n",
      "Iteration  1 :\n",
      "\tGradient norm 62.8715798467\n",
      "\tHyper-parameters at outter iteration 1 : [ 1.51653061  1.82718318  0.23807999]\n",
      "Iteration  0 :\n",
      "\tGradient norm 84.9963637789\n",
      "Iteration  1 :\n",
      "\tGradient norm 19.0716040773\n",
      "\tHyper-parameters at outter iteration 2 : [ 1.8618333   2.06716541  0.20054636]\n",
      "Iteration  0 :\n",
      "\tGradient norm 40.9723809066\n",
      "Iteration  1 :\n",
      "\tGradient norm 98.2157433664\n",
      "\tHyper-parameters at outter iteration 3 : [ 2.24320488  2.22800266  0.1559168 ]\n",
      "Iteration  0 :\n",
      "\tGradient norm 16.2357525798\n",
      "Iteration  1 :\n",
      "\tGradient norm 18.8120883752\n",
      "\tHyper-parameters at outter iteration 4 : [ 2.52554953  2.32421909  0.13097822]\n",
      "Iteration  0 :\n",
      "\tGradient norm 64.5669785469\n",
      "Iteration  1 :\n",
      "\tGradient norm 23.5853066243\n",
      "\tHyper-parameters at outter iteration 5 : [ 2.79790603  2.40455894  0.1205487 ]\n",
      "Iteration  0 :\n",
      "\tGradient norm 37.2407328721\n",
      "Iteration  1 :\n",
      "\tGradient norm 60.6051181529\n",
      "\tHyper-parameters at outter iteration 6 : [ 2.99008604  2.45822386  0.10787266]\n",
      "Iteration  0 :\n",
      "\tGradient norm 5.57063788007\n",
      "Iteration  1 :\n",
      "\tGradient norm 54.1769203018\n",
      "\tHyper-parameters at outter iteration 7 : [ 3.18988232  2.5093757   0.10649165]\n",
      "Iteration  0 :\n",
      "\tGradient norm 163.451695831\n",
      "Iteration  1 :\n",
      "\tGradient norm 38.3826868994\n",
      "\tHyper-parameters at outter iteration 8 : [ 3.34782481  2.53242785  0.08796962]\n",
      "Iteration  0 :\n",
      "\tGradient norm 54.5330300671\n",
      "Iteration  1 :\n",
      "\tGradient norm 131.906610973\n",
      "\tHyper-parameters at outter iteration 9 : [ 3.51118124  2.57502177  0.0865695 ]\n",
      "Iteration  0 :\n",
      "\tGradient norm 31.3387065115\n",
      "Iteration  1 :\n",
      "\tGradient norm 150.749332258\n",
      "\tHyper-parameters at outter iteration 10 : [ 3.65038597  2.59291615  0.07218972]\n",
      "Iteration  0 :\n",
      "\tGradient norm 92.680505962\n",
      "Iteration  1 :\n",
      "\tGradient norm 63.9010316915\n",
      "\tHyper-parameters at outter iteration 11 : [ 3.74523499  2.63207888  0.07997333]\n",
      "Iteration  0 :\n",
      "\tGradient norm 196.997061893\n",
      "Iteration  1 :\n",
      "\tGradient norm 72.4388863642\n",
      "\tHyper-parameters at outter iteration 12 : [ 3.86051624  2.65692303  0.07554531]\n",
      "Iteration  0 :\n",
      "\tGradient norm 162.509703654\n",
      "Iteration  1 :\n",
      "\tGradient norm 217.76366884\n",
      "\tHyper-parameters at outter iteration 13 : [ 3.96455448  2.66695594  0.06505236]\n",
      "Iteration  0 :\n",
      "\tGradient norm 7.0364600321\n",
      "Iteration  1 :\n",
      "\tGradient norm 42.917441661\n",
      "\tHyper-parameters at outter iteration 14 : [ 4.0529196   2.68989009  0.06291677]\n",
      "Iteration  0 :\n",
      "\tGradient norm 108.490062187\n",
      "Iteration  1 :\n",
      "\tGradient norm 178.571899689\n",
      "\tHyper-parameters at outter iteration 15 : [ 4.16463456  2.71235332  0.05470524]\n",
      "Iteration  0 :\n",
      "\tGradient norm 79.0351607608\n",
      "Iteration  1 :\n",
      "\tGradient norm 118.129082416\n",
      "\tHyper-parameters at outter iteration 16 : [ 4.24897601  2.72202346  0.04388395]\n",
      "Iteration  0 :\n",
      "\tGradient norm 548.120969861\n",
      "Iteration  1 :\n",
      "\tGradient norm 119.333929555\n",
      "\tHyper-parameters at outter iteration 17 : [ 4.31981428  2.74760441  0.0430128 ]\n",
      "Iteration  0 :\n",
      "\tGradient norm 28.6935551936\n",
      "Iteration  1 :\n",
      "\tGradient norm 417.272361034\n",
      "\tHyper-parameters at outter iteration 18 : [ 4.41369456  2.76625746  0.04893438]\n",
      "Iteration  0 :\n",
      "\tGradient norm 126.272566192\n",
      "Iteration  1 :\n",
      "\tGradient norm 212.373029866\n",
      "\tHyper-parameters at outter iteration 19 : [ 4.49940532  2.76877051  0.03507485]\n",
      "Iteration  0 :\n",
      "\tGradient norm 20.2999836556\n",
      "Iteration  1 :\n",
      "\tGradient norm 88.0301009812\n",
      "\tHyper-parameters at outter iteration 20 : [ 4.579124    2.79552415  0.0344074 ]\n",
      "Iteration  0 :\n",
      "\tGradient norm 475.159010024\n",
      "Iteration  1 :\n",
      "\tGradient norm 46.753110071\n",
      "\tHyper-parameters at outter iteration 21 : [ 4.6317103   2.81499692  0.03817178]\n",
      "Iteration  0 :\n",
      "\tGradient norm 29.571652306\n",
      "Iteration  1 :\n",
      "\tGradient norm 119.348578974\n",
      "\tHyper-parameters at outter iteration 22 : [ 4.71306452  2.81640391  0.02505419]\n",
      "Iteration  0 :\n",
      "\tGradient norm 351.717672917\n",
      "Iteration  1 :\n",
      "\tGradient norm 109.66627193\n",
      "\tHyper-parameters at outter iteration 23 : [ 4.74351038  2.80593552 -0.02552843]\n",
      "Iteration  0 :\n",
      "\tGradient norm 176.664933383\n",
      "Iteration  1 :\n",
      "\tGradient norm 303.120276799\n",
      "\tHyper-parameters at outter iteration 24 : [ 4.78084135  2.82630436 -0.01620139]\n",
      "Iteration  0 :\n",
      "\tGradient norm 92.0087511089\n",
      "Iteration  1 :\n",
      "\tGradient norm 53.4596831218\n",
      "\tHyper-parameters at outter iteration 25 : [ 4.75275662  2.79238529  0.0053935 ]\n",
      "Iteration  0 :\n",
      "\tGradient norm 2.49082505837\n",
      "Iteration  1 :\n",
      "\tGradient norm 4.06184158673\n",
      "\tHyper-parameters at outter iteration 26 : [  4.89388569e+00   2.86262350e+00  -4.50687800e-03]\n",
      "Iteration  0 :\n",
      "\tGradient norm 54.785488563\n",
      "Iteration  1 :\n",
      "\tGradient norm 1.7238585026\n",
      "\tHyper-parameters at outter iteration 27 : [  5.02707525e+00   2.94655770e+00   2.63887451e-07]\n",
      "Iteration  0 :\n",
      "\tGradient norm 0.809681544494\n",
      "Iteration  1 :\n",
      "\tGradient norm 1.23927996664\n",
      "\tHyper-parameters at outter iteration 28 : [  5.20633978e+00   3.04915222e+00  -1.09099458e-03]\n",
      "Iteration  0 :\n",
      "\tGradient norm 0.314388578853\n",
      "Iteration  1 :\n",
      "\tGradient norm 11.3558426283\n",
      "\tHyper-parameters at outter iteration 29 : [  5.47891602e+00   3.14725511e+00  -6.53140763e-04]\n",
      "Iteration  0 :\n",
      "\tGradient norm 3.06437219092\n",
      "Iteration  1 :\n",
      "\tGradient norm 18.1050949013\n",
      "\tHyper-parameters at outter iteration 30 : [  5.79732467e+00   3.25394781e+00   3.57214990e-04]\n",
      "Iteration  0 :\n",
      "\tGradient norm 12.0754587944\n",
      "Iteration  1 :\n",
      "\tGradient norm 41.0758942547\n",
      "\tHyper-parameters at outter iteration 31 : [  6.14326835e+00   3.32573094e+00  -2.18261945e-03]\n",
      "Iteration  0 :\n",
      "\tGradient norm 2.13483552826\n",
      "Iteration  1 :\n",
      "\tGradient norm 0.66541938888\n",
      "\tHyper-parameters at outter iteration 32 : [  6.39999389e+00   3.39388867e+00   1.51880983e-04]\n",
      "Iteration  0 :\n",
      "\tGradient norm 2.26583594224\n",
      "Iteration  1 :\n",
      "\tGradient norm 25.4068391247\n",
      "\tHyper-parameters at outter iteration 33 : [  6.62745720e+00   3.46670434e+00  -8.31095609e-04]\n",
      "Iteration  0 :\n",
      "\tGradient norm 12.7173845432\n",
      "Iteration  1 :\n",
      "\tGradient norm 1.53812037692\n",
      "\tHyper-parameters at outter iteration 34 : [  6.96844449e+00   3.52563708e+00  -5.10036394e-05]\n",
      "Iteration  0 :\n",
      "\tGradient norm 25.85647249\n",
      "Iteration  1 :\n",
      "\tGradient norm 1.66668520308\n",
      "\tHyper-parameters at outter iteration 35 : [  7.19646126e+00   3.61430056e+00   6.19225208e-05]\n",
      "Iteration  0 :\n",
      "\tGradient norm 30.9567755868\n",
      "Iteration  1 :\n",
      "\tGradient norm 1.7970502303\n",
      "\tHyper-parameters at outter iteration 36 : [  7.45451383e+00   3.69803869e+00  -2.01963040e-03]\n",
      "Iteration  0 :\n",
      "\tGradient norm 51.7579746875\n",
      "Iteration  1 :\n",
      "\tGradient norm 0.361196707852\n",
      "\tHyper-parameters at outter iteration 37 : [  7.70680946e+00   3.74741832e+00   2.44583457e-06]\n",
      "Iteration  0 :\n",
      "\tGradient norm 60.7963277271\n",
      "Iteration  1 :\n",
      "\tGradient norm 0.13915885313\n",
      "\tHyper-parameters at outter iteration 38 : [  8.03237445e+00   3.81499884e+00   9.50497881e-06]\n",
      "Iteration  0 :\n",
      "\tGradient norm 25.0565228528\n",
      "Iteration  1 :\n",
      "\tGradient norm 0.602389189982\n",
      "\tHyper-parameters at outter iteration 39 : [  8.28833824e+00   3.88152369e+00   1.20221133e-04]\n"
     ]
    }
   ],
   "source": [
    "model_covariance_obj = SquaredExponential(np.copy(cov_params))\n",
    "vi_gp = GPC(model_covariance_obj, method='vi')\n",
    "opts = {'bound': 'Taylor', 'mode': 'adadelta', 'num_updates': 2, 'mydisp': True, 'print_freq': 1, 'step_rate': .7,\n",
    "        'maxiter': 2, 'batch_size':500}\n",
    "vi_res = vi_gp.fit(x_tr, y_tr, inputs=inputs, optimizer_options=opts, max_out_iter=40)"
   ]
  },
  {
   "cell_type": "code",
   "execution_count": 31,
   "metadata": {
    "collapsed": false
   },
   "outputs": [
    {
     "data": {
      "text/plain": [
       "<matplotlib.text.Text at 0x10e12fe80>"
      ]
     },
     "execution_count": 31,
     "metadata": {},
     "output_type": "execute_result"
    },
    {
     "data": {
      "image/png": "[encoded data removed]",
      "text/plain": [
       "<matplotlib.figure.Figure at 0x10e964208>"
      ]
     },
     "metadata": {},
     "output_type": "display_data"
    }
   ],
   "source": [
    "metric = lambda w: vi_gp.get_prediction_quality(w, x_test, y_test)\n",
    "vi_st_x_lst, vi_st_y_lst = vi_res.plot_performance(metric, 't', freq=1)\n",
    "plt.plot(vi_st_x_lst[1:], vi_st_y_lst[1:], '-mx', label='vi-means-c')\n",
    "# plt.plot(svi_x_lst[1:100], svi_y_lst[1:100], '-gx', label='svi-L-BFGS-B-c')\n",
    "plt.ylim([.75, .9])\n",
    "plt.legend()\n",
    "plt.xlabel('Seconds')\n",
    "plt.ylabel('Accuracy')"
   ]
  },
  {
   "cell_type": "markdown",
   "metadata": {},
   "source": [
    "## svi-AdaDelta-c\n",
    "Подберем шаг для метода"
   ]
  },
  {
   "cell_type": "code",
   "execution_count": 9,
   "metadata": {
    "collapsed": false
   },
   "outputs": [
    {
     "name": "stdout",
     "output_type": "stream",
     "text": [
      "1.0\n",
      "0.9\n",
      "0.8\n",
      "0.7\n",
      "0.6\n",
      "0.5\n",
      "0.4\n",
      "0.3\n"
     ]
    },
    {
     "name": "stderr",
     "output_type": "stream",
     "text": [
      "/Users/IzmailovPavel/Documents/Education/Course Project/Code/GP/gaussian_process_classification.py:614: RuntimeWarning: invalid value encountered in log\n",
      "  loss += np.sum(np.log(np.diag(sigma_L))) * l / N\n"
     ]
    }
   ],
   "source": [
    "results = []\n",
    "steps = [1., .9, .8, .7, .6, .5, .4, .3]\n",
    "for step in steps:\n",
    "    print(step)\n",
    "    model_covariance_obj = SquaredExponential(np.copy(cov_params))\n",
    "    ad_gp = GPC(model_covariance_obj, method='svi', hermgauss_deg=100)\n",
    "\n",
    "    opts = {'mode': 'adadelta', 'maxiter': 10, 'verbose': False, 'batch_size': 150, \n",
    "            'step_rate': step}#, 'print_freq':50}\n",
    "    batch_res = ad_gp.fit(x_tr, y_tr, inputs=inputs, optimizer_options=opts)\n",
    "    results.append(batch_res)"
   ]
  },
  {
   "cell_type": "code",
   "execution_count": 10,
   "metadata": {
    "collapsed": false
   },
   "outputs": [
    {
     "name": "stdout",
     "output_type": "stream",
     "text": [
      "0\n",
      "1\n",
      "2\n",
      "3\n",
      "4\n",
      "5\n",
      "6\n",
      "7\n"
     ]
    },
    {
     "data": {
      "text/plain": [
       "<matplotlib.text.Text at 0x10e19d4e0>"
      ]
     },
     "execution_count": 10,
     "metadata": {},
     "output_type": "execute_result"
    },
    {
     "data": {
      "image/png": "[encoded data removed]",
      "text/plain": [
       "<matplotlib.figure.Figure at 0x10e186cf8>"
      ]
     },
     "metadata": {},
     "output_type": "display_data"
    }
   ],
   "source": [
    "metric = lambda w: ad_gp.get_prediction_quality(w, x_test, y_test)\n",
    "for i in range(len(results)):\n",
    "    svi_ad_x_lst, svi_ad_y_lst = results[i].plot_performance(metric, 't', freq=1)\n",
    "    plt.plot(svi_ad_x_lst[1:], svi_ad_y_lst[1:], label=steps[i])\n",
    "    print(i)\n",
    "plt.ylim([0.7, 1.])\n",
    "plt.legend()\n",
    "plt.xlabel('Seconds')\n",
    "plt.ylabel('Accuracy')"
   ]
  },
  {
   "cell_type": "code",
   "execution_count": 19,
   "metadata": {
    "collapsed": false
   },
   "outputs": [
    {
     "name": "stdout",
     "output_type": "stream",
     "text": [
      "Using AdaDelta optimizer\n",
      "Iteration  9 :\n",
      "\tGradient norm 27.8335715786\n",
      "Iteration  19 :\n",
      "\tGradient norm 33.1771578331\n",
      "Iteration  29 :\n",
      "\tGradient norm 15.3333343164\n",
      "Iteration  39 :\n",
      "\tGradient norm 18.8630149146\n",
      "Iteration  49 :\n",
      "\tGradient norm 15.2269960793\n"
     ]
    }
   ],
   "source": [
    "model_covariance_obj = SquaredExponential(np.copy(cov_params))\n",
    "ad_gp = GPC(model_covariance_obj, method='svi', hermgauss_deg=100)\n",
    "opts = {'mode': 'adadelta', 'maxiter': 50, 'verbose': True, 'batch_size': 150, \n",
    "        'step_rate': .8, 'print_freq':10}\n",
    "batch_res = ad_gp.fit(x_tr, y_tr, inputs=inputs, optimizer_options=opts)"
   ]
  },
  {
   "cell_type": "code",
   "execution_count": 20,
   "metadata": {
    "collapsed": false
   },
   "outputs": [
    {
     "data": {
      "text/plain": [
       "<matplotlib.text.Text at 0x106946908>"
      ]
     },
     "execution_count": 20,
     "metadata": {},
     "output_type": "execute_result"
    },
    {
     "data": {
      "image/png": "[encoded data removed]",
      "text/plain": [
       "<matplotlib.figure.Figure at 0x10e1a0ef0>"
      ]
     },
     "metadata": {},
     "output_type": "display_data"
    }
   ],
   "source": [
    "metric = lambda w: ad_gp.get_prediction_quality(w, x_test, y_test)\n",
    "svi_ad_x_lst, svi_ad_y_lst = batch_res.plot_performance(metric, 't', freq=1)\n",
    "plt.plot(svi_ad_x_lst[1:], svi_ad_y_lst[1:], '-yx', label='svi-AdaDelta-c')\n",
    "plt.ylim([0.7, 1.])\n",
    "plt.legend()\n",
    "plt.xlabel('Seconds')\n",
    "plt.ylabel('Accuracy')"
   ]
  },
  {
   "cell_type": "markdown",
   "metadata": {},
   "source": [
    "## Выводы"
   ]
  },
  {
   "cell_type": "code",
   "execution_count": 13,
   "metadata": {
    "collapsed": true
   },
   "outputs": [],
   "source": [
    "# svi_x_lst = np.load('../plots/vi_vs_svi_class/'+ data_name +'_svi_x.npy')\n",
    "# svi_y_lst = np.load('../plots/vi_vs_svi_class/'+ data_name +'_svi_y.npy')\n",
    "# vi_x_lst = np.load('../plots/vi_vs_svi_class/'+ data_name +'_vi_x.npy')\n",
    "# vi_y_lst = np.load('../plots/vi_vs_svi_class/'+ data_name +'_vi_y.npy')\n",
    "# vi_t_x_lst = np.load('../plots/vi_vs_svi_class/'+ data_name +'_vi_t_x.npy')\n",
    "# vi_t_y_lst = np.load('../plots/vi_vs_svi_class/'+ data_name +'_vi_t_y.npy')"
   ]
  },
  {
   "cell_type": "code",
   "execution_count": 14,
   "metadata": {
    "collapsed": false
   },
   "outputs": [
    {
     "data": {
      "text/plain": [
       "<matplotlib.text.Text at 0x10e4f6400>"
      ]
     },
     "execution_count": 14,
     "metadata": {},
     "output_type": "execute_result"
    },
    {
     "data": {
      "image/png": "[encoded data removed]",
      "text/plain": [
       "<matplotlib.figure.Figure at 0x10e232390>"
      ]
     },
     "metadata": {},
     "output_type": "display_data"
    }
   ],
   "source": [
    "plt.figure(figsize=(12, 7))\n",
    "plt.plot(svi_x_lst[1:], svi_y_lst[1:], '-gx', label='svi-L-BFGS-B-c')\n",
    "plt.plot(svi_ad_x_lst[1:], svi_ad_y_lst[1:], '-yx', label='svi-AdaDelta-c')\n",
    "plt.plot(vi_x_lst[1:], vi_y_lst[1:], '-bx', label='vi-means-c')\n",
    "plt.plot(vi_t_x_lst[1:], vi_t_y_lst[1:], '-mx', label='vi-means-c')\n",
    "plt.ylim([0.7, 1.])\n",
    "plt.legend()\n",
    "plt.xlabel('Seconds')\n",
    "plt.ylabel('Accuracy')"
   ]
  },
  {
   "cell_type": "code",
   "execution_count": 24,
   "metadata": {
    "collapsed": true
   },
   "outputs": [],
   "source": [
    "np.save('../plots/vi_vs_svi_class/'+ data_name +'_svi_x.npy', svi_x_lst)\n",
    "np.save('../plots/vi_vs_svi_class/'+ data_name +'_svi_y.npy', svi_y_lst)\n",
    "np.save('../plots/vi_vs_svi_class/'+ data_name +'_vi_x.npy', vi_x_lst)\n",
    "np.save('../plots/vi_vs_svi_class/'+ data_name +'_vi_y.npy', vi_y_lst)\n",
    "np.save('../plots/vi_vs_svi_class/'+ data_name +'_vi_t_x.npy', vi_t_x_lst)\n",
    "np.save('../plots/vi_vs_svi_class/'+ data_name +'_vi_t_y.npy', vi_t_y_lst)\n",
    "np.save('../plots/vi_vs_svi_class/'+ data_name +'_ad_x.npy', svi_ad_x_lst)\n",
    "np.save('../plots/vi_vs_svi_class/'+ data_name +'_ad_y.npy', svi_ad_y_lst)"
   ]
  },
  {
   "cell_type": "code",
   "execution_count": 32,
   "metadata": {
    "collapsed": true
   },
   "outputs": [],
   "source": [
    "np.save('../plots/vi_vs_svi_class/'+ data_name +'_vi_st_x.npy', vi_st_x_lst)\n",
    "np.save('../plots/vi_vs_svi_class/'+ data_name +'_vi_st_y.npy', vi_st_y_lst)"
   ]
  },
  {
   "cell_type": "code",
   "execution_count": null,
   "metadata": {
    "collapsed": true
   },
   "outputs": [],
   "source": []
  }
 ],
 "metadata": {
  "kernelspec": {
   "display_name": "Python 3",
   "language": "python",
   "name": "python3"
  },
  "language_info": {
   "codemirror_mode": {
    "name": "ipython",
    "version": 3
   },
   "file_extension": ".py",
   "mimetype": "text/x-python",
   "name": "python",
   "nbconvert_exporter": "python",
   "pygments_lexer": "ipython3",
   "version": "3.4.3"
  }
 },
 "nbformat": 4,
 "nbformat_minor": 0
}
