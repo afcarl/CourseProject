{
 "cells": [
  {
   "cell_type": "markdown",
   "metadata": {},
   "source": [
    "# Magic Gamma Telescope"
   ]
  },
  {
   "cell_type": "code",
   "execution_count": 1,
   "metadata": {
    "collapsed": false
   },
   "outputs": [],
   "source": [
    "import sys\n",
    "sys.path.append('/Users/IzmailovPavel/Documents/Education/Course Project/Code')\n",
    "import numpy as np\n",
    "import matplotlib as mpl\n",
    "\n",
    "from matplotlib import pyplot as plt\n",
    "\n",
    "from GP.covariance_functions import SquaredExponential\n",
    "from GP.gaussian_process_classification import GPC\n",
    "\n",
    "from sklearn.cluster import KMeans\n",
    "\n",
    "from vi_svi_class_experiments import run_methods\n",
    "from sklearn.datasets import load_svmlight_file\n",
    "from sklearn.preprocessing import StandardScaler\n",
    "from sklearn.utils import shuffle\n",
    "%matplotlib inline\n",
    "%load_ext autoreload\n",
    "%autoreload 2"
   ]
  },
  {
   "cell_type": "markdown",
   "metadata": {},
   "source": [
    "## Данные"
   ]
  },
  {
   "cell_type": "code",
   "execution_count": 2,
   "metadata": {
    "collapsed": false
   },
   "outputs": [
    {
     "name": "stdout",
     "output_type": "stream",
     "text": [
      "of objects: 15215\n",
      "of features: 10\n",
      "magic telescope\n"
     ]
    }
   ],
   "source": [
    "# x_tr, y_tr = load_svmlight_file('../../../../Programming/DataSets/Classification/magic_gamma_telescope(19020,11).txt')\n",
    "data = np.load('../../../../Programming/DataSets/Classification/magic_gamma_telescope(19020,11).npy')\n",
    "x_tr, y_tr = data[:, :-1], data[:, -1]\n",
    "x_tr, y_tr = shuffle(x_tr, y_tr, random_state=241)\n",
    "data_name = 'magic telescope'\n",
    "\n",
    "# x_tr = x_tr.T\n",
    "scaler = StandardScaler()\n",
    "x_tr = scaler.fit_transform(x_tr).T\n",
    "x_tr = (x_tr + 1) / 2\n",
    "y_tr = y_tr[:, None]\n",
    "y_tr[y_tr == 0] = -1\n",
    "x_test = x_tr[:, int(x_tr.shape[1] * 0.8):]\n",
    "y_test = y_tr[int(x_tr.shape[1] * 0.8):, :]\n",
    "y_tr = y_tr[:int(x_tr.shape[1] * 0.8), :]\n",
    "x_tr = x_tr[:, : int(x_tr.shape[1] * 0.8)]\n",
    "dim, num = x_tr.shape\n",
    "\n",
    "print('of objects:', num)\n",
    "print('of features:', dim)\n",
    "print(data_name)"
   ]
  },
  {
   "cell_type": "markdown",
   "metadata": {},
   "source": [
    "## K-Means cluster centers"
   ]
  },
  {
   "cell_type": "code",
   "execution_count": 3,
   "metadata": {
    "collapsed": false
   },
   "outputs": [
    {
     "name": "stdout",
     "output_type": "stream",
     "text": [
      "Finding means...\n",
      "...found\n"
     ]
    }
   ],
   "source": [
    "ind_num = 50\n",
    "print('Finding means...')\n",
    "means = KMeans(n_clusters=ind_num, n_init=3, max_iter=100, random_state=241)\n",
    "means.fit(x_tr.T)\n",
    "inputs = means.cluster_centers_.T\n",
    "print('...found')"
   ]
  },
  {
   "cell_type": "code",
   "execution_count": 4,
   "metadata": {
    "collapsed": true
   },
   "outputs": [],
   "source": [
    "cov_params = np.array([1., 1., 1.])"
   ]
  },
  {
   "cell_type": "markdown",
   "metadata": {},
   "source": [
    "## svi-L-BFGS-B-c method"
   ]
  },
  {
   "cell_type": "code",
   "execution_count": 5,
   "metadata": {
    "collapsed": true
   },
   "outputs": [],
   "source": [
    "model_covariance_obj = SquaredExponential(np.copy(cov_params))\n",
    "svi_gp = GPC(model_covariance_obj, method='svi')"
   ]
  },
  {
   "cell_type": "code",
   "execution_count": 6,
   "metadata": {
    "collapsed": false
   },
   "outputs": [
    {
     "name": "stdout",
     "output_type": "stream",
     "text": [
      "Hyper-parameters at iteration 0 : [ 1.  1.  1.  0.  0.]\n",
      "Hyper-parameters at iteration 1 : [ 0.99892016  1.7618086   0.99892016  0.16217421  0.1385381 ]\n",
      "Hyper-parameters at iteration 2 : [ 1.0986876   2.44237045  0.64321784  0.34083851  0.29427466]\n",
      "Hyper-parameters at iteration 3 : [ 1.3140426   3.3455302   0.42478591  0.59877486  0.51480589]\n",
      "Hyper-parameters at iteration 4 : [ 1.62698244  4.55797512  0.28463631  0.9496354   0.81380692]\n",
      "Hyper-parameters at iteration 5 : [ 2.32427819  7.41513344  0.2524348   1.76134886  1.51038573]\n",
      "Hyper-parameters at iteration 6 : [ 2.56671959  8.31409168  0.36402298  2.00132659  1.75152657]\n",
      "Hyper-parameters at iteration 7 : [ 2.67706849  8.65990159  0.33420729  2.10159057  1.84499418]\n",
      "Hyper-parameters at iteration 8 : [ 2.75379071  8.81998347  0.31009852  2.14655723  1.89854228]\n",
      "Hyper-parameters at iteration 9 : [ 2.85004476  8.90740627  0.29070601  2.16729771  1.9506942 ]\n",
      "Hyper-parameters at iteration 10 : [ 3.14915611  8.92662193  0.25475679  2.15269257  2.07905999]\n",
      "Hyper-parameters at iteration 11 : [ 3.66689373  8.49590071  0.2213655   1.98416573  2.23694797]\n",
      "Hyper-parameters at iteration 12 : [ 4.2536645   7.2762114   0.20242039  1.58083179  2.28536564]\n",
      "Hyper-parameters at iteration 13 : [ 4.40829995  6.46936737  0.20801591  1.34122443  2.20056811]\n",
      "Hyper-parameters at iteration 14 : [ 4.41851267  5.8975913   0.2329999   1.18807016  2.07751552]\n",
      "Hyper-parameters at iteration 15 : [ 4.39308364  5.59198876  0.26593881  1.12356459  1.96631267]\n",
      "Hyper-parameters at iteration 16 : [ 4.47200606  5.1854393   0.29676751  1.04361345  1.84294997]\n",
      "Hyper-parameters at iteration 17 : [ 4.84826792  4.49411265  0.33107843  0.92163959  1.68254914]\n",
      "Hyper-parameters at iteration 18 : [ 5.21104571  4.84709127  0.35582116  1.1078752   1.6821361 ]\n",
      "Hyper-parameters at iteration 19 : [ 5.25264923  4.47353662  0.32911439  0.9691172   1.5209088 ]\n",
      "Hyper-parameters at iteration 20 : [ 5.52320622  4.19198233  0.2368671   1.02077241  1.64400705]\n",
      "Hyper-parameters at iteration 21 : [ 5.48322505  4.38760477  0.15905784  1.16422627  1.72517061]\n",
      "Hyper-parameters at iteration 22 : [ 5.78140819  4.66010696  0.12075536  1.3865635   1.99940048]\n",
      "Hyper-parameters at iteration 23 : [ 6.08238676  4.62744797  0.09801192  1.34458589  2.04871459]\n",
      "Hyper-parameters at iteration 24 : [ 6.20528613  4.47015888  0.0668308   1.18932256  2.03077045]\n",
      "Hyper-parameters at iteration 25 : [ 6.5854428   4.08104005  0.09355897  0.53705225  1.85320137]\n",
      "Hyper-parameters at iteration 26 : [ 6.56172472  4.11608652  0.07437665  0.53900567  1.85008575]\n",
      "Hyper-parameters at iteration 27 : [ 6.3132169   4.35619629  0.07981422  0.66733008  1.85870564]\n",
      "Hyper-parameters at iteration 28 : [ 6.34515163  4.25343604  0.066678    0.67863905  1.89791889]\n",
      "Hyper-parameters at iteration 29 : [ 6.38571255  4.2536836   0.07168276  0.69970042  1.91598054]\n",
      "Hyper-parameters at iteration 30 : [ 6.41149899  4.23566151  0.07101026  0.71436567  1.93350501]\n",
      "Hyper-parameters at iteration 31 : [ 6.44080185  4.2041231   0.06934872  0.73524732  1.95158812]\n",
      "Hyper-parameters at iteration 32 : [ 6.50760081  4.137832    0.06279988  0.80722422  1.985913  ]\n",
      "Hyper-parameters at iteration 33 : [ 6.67552823  4.14041173  0.03971715  1.07435128  2.08983871]\n",
      "Hyper-parameters at iteration 34 : [ 6.85517155  4.11178181  0.03354281  1.15442771  2.11490153]\n",
      "Hyper-parameters at iteration 35 : [ 6.91033343  4.10834155  0.0295055   1.24109089  2.14543648]\n",
      "Hyper-parameters at iteration 36 : [ 6.93179664  4.06834891  0.02433425  1.26339422  2.1480838 ]\n",
      "Hyper-parameters at iteration 37 : [ 6.94994105  3.9479604   0.02258882  1.20433939  2.14269971]\n",
      "Hyper-parameters at iteration 38 : [ 6.93170248  3.91897875  0.01771072  1.24146361  2.15955252]\n",
      "Hyper-parameters at iteration 39 : [ 6.88786583  3.91218942  0.02062473  1.20814779  2.14438914]\n",
      "Hyper-parameters at iteration 40 : [ 6.92527091  3.91033436  0.01717965  1.23881708  2.16278693]\n",
      "Hyper-parameters at iteration 41 : [ 6.97295016  3.84979226  0.01226968  1.23448581  2.16461319]\n"
     ]
    }
   ],
   "source": [
    "opts = {'mode': 'full', 'maxiter': 40, 'mydisp': True}\n",
    "svi_res = svi_gp.fit(x_tr, y_tr, inputs=inputs, optimizer_options=opts)"
   ]
  },
  {
   "cell_type": "code",
   "execution_count": 7,
   "metadata": {
    "collapsed": false
   },
   "outputs": [],
   "source": [
    "metric = lambda w: svi_gp.get_prediction_quality(w, x_test, y_test)\n",
    "svi_x_lst, svi_y_lst = svi_res.plot_performance(metric, 't', freq=1)"
   ]
  },
  {
   "cell_type": "code",
   "execution_count": 8,
   "metadata": {
    "collapsed": false
   },
   "outputs": [
    {
     "data": {
      "text/plain": [
       "<matplotlib.text.Text at 0x10d542080>"
      ]
     },
     "execution_count": 8,
     "metadata": {},
     "output_type": "execute_result"
    },
    {
     "data": {
      "image/png": "[encoded data removed]",
      "text/plain": [
       "<matplotlib.figure.Figure at 0x10d1df588>"
      ]
     },
     "metadata": {},
     "output_type": "display_data"
    }
   ],
   "source": [
    "plt.plot(svi_x_lst[1:], svi_y_lst[1:], '-gx', label='svi-L-BFGS-B-c')\n",
    "plt.ylim([0.7, 1.])\n",
    "plt.legend()\n",
    "plt.xlabel('Seconds')\n",
    "plt.ylabel('Accuracy')"
   ]
  },
  {
   "cell_type": "markdown",
   "metadata": {},
   "source": [
    "## vi-means-c method\n",
    "Подбор числа пересчетов"
   ]
  },
  {
   "cell_type": "code",
   "execution_count": 10,
   "metadata": {
    "collapsed": false
   },
   "outputs": [
    {
     "name": "stdout",
     "output_type": "stream",
     "text": [
      "5\n",
      "\n",
      "10\n",
      "\n",
      "15\n",
      "\n",
      "20\n",
      "\n"
     ]
    }
   ],
   "source": [
    "maxfuns = [5, 10, 15, 20]\n",
    "results = []\n",
    "for maxfun in maxfuns:\n",
    "    print(maxfun)\n",
    "    model_covariance_obj = SquaredExponential(np.copy(cov_params))\n",
    "    vi_gp = GPC(model_covariance_obj, method='vi')\n",
    "    opts = {'maxfun':maxfun, 'mydisp': False, 'num_updates':3}\n",
    "    results.append(vi_gp.fit(x_tr, y_tr, inputs=inputs, optimizer_options=opts, max_out_iter=10))\n",
    "    print()"
   ]
  },
  {
   "cell_type": "code",
   "execution_count": 12,
   "metadata": {
    "collapsed": false
   },
   "outputs": [
    {
     "name": "stdout",
     "output_type": "stream",
     "text": [
      "0\n",
      "1\n",
      "2\n",
      "3\n"
     ]
    },
    {
     "data": {
      "text/plain": [
       "<matplotlib.text.Text at 0x10d75c390>"
      ]
     },
     "execution_count": 12,
     "metadata": {},
     "output_type": "execute_result"
    },
    {
     "data": {
      "image/png": "[encoded data removed]",
      "text/plain": [
       "<matplotlib.figure.Figure at 0x10d4b0e48>"
      ]
     },
     "metadata": {},
     "output_type": "display_data"
    }
   ],
   "source": [
    "metric = lambda w: vi_gp.get_prediction_quality(w, x_test, y_test)\n",
    "for i in range(len(maxfuns)):\n",
    "    vi_x_lst, vi_y_lst = results[i].plot_performance(metric, 't', freq=1)\n",
    "    plt.plot(vi_x_lst[1:], vi_y_lst[1:], label=maxfuns[i])\n",
    "    print(i)\n",
    "plt.ylim([.7, .9])\n",
    "plt.legend()\n",
    "plt.xlabel('Seconds')\n",
    "plt.ylabel('Accuracy')"
   ]
  },
  {
   "cell_type": "markdown",
   "metadata": {},
   "source": [
    "Обучение лучшего варианта"
   ]
  },
  {
   "cell_type": "code",
   "execution_count": 13,
   "metadata": {
    "collapsed": true
   },
   "outputs": [
    {
     "name": "stdout",
     "output_type": "stream",
     "text": [
      "Hyper-parameters at iteration 0 : [ 1.  1.  1.]\n",
      "\tHyper-parameters at outter iteration 0 : [ 0.99731997  3.70439143  0.99731997]\n",
      "Hyper-parameters at iteration 0 : [ 0.99731997  3.70439143  0.99731997]\n",
      "Hyper-parameters at iteration 1 : [ 1.21691016  3.70313817  0.99698504]\n",
      "Hyper-parameters at iteration 2 : [ 1.26025774  3.63702527  0.01      ]\n",
      "Hyper-parameters at iteration 3 : [ 1.54131785  3.51726048  0.01      ]\n",
      "Hyper-parameters at iteration 4 : [ 2.22677235  3.20935868  0.01      ]\n",
      "\tHyper-parameters at outter iteration 1 : [ 2.66107562  3.00936064  0.01      ]\n",
      "Hyper-parameters at iteration 0 : [ 2.66107562  3.00936064  0.01      ]\n",
      "Hyper-parameters at iteration 1 : [ 6.4682564   2.94668455  0.01      ]\n",
      "\tHyper-parameters at outter iteration 2 : [ 5.36261424  2.96488717  0.01      ]\n",
      "Hyper-parameters at iteration 0 : [ 5.36261424  2.96488717  0.01      ]\n",
      "Hyper-parameters at iteration 1 : [ 5.34861818  3.38367115  0.01      ]\n",
      "\tHyper-parameters at outter iteration 3 : [ 5.35048356  3.3278561   0.01      ]\n",
      "Hyper-parameters at iteration 0 : [ 5.35048356  3.3278561   0.01      ]\n",
      "Hyper-parameters at iteration 1 : [ 5.34771051  3.40772144  0.01      ]\n",
      "Hyper-parameters at iteration 2 : [ 5.34792647  3.4015024   0.01      ]\n",
      "Hyper-parameters at iteration 3 : [ 5.34793906  3.4011403   0.01      ]\n",
      "\tHyper-parameters at outter iteration 4 : [ 5.34793988  3.40111728  0.01      ]\n",
      "Hyper-parameters at iteration 0 : [ 5.34793988  3.40111728  0.01      ]\n",
      "Hyper-parameters at iteration 1 : [ 5.36379094  3.45521179  0.01      ]\n",
      "Hyper-parameters at iteration 2 : [ 5.36373056  3.45500564  0.01      ]\n",
      "\tHyper-parameters at outter iteration 5 : [ 5.36373054  3.45500558  0.01      ]\n",
      "Hyper-parameters at iteration 0 : [ 5.36373054  3.45500558  0.01      ]\n",
      "Hyper-parameters at iteration 1 : [ 5.57931028  3.59469933  0.01      ]\n",
      "\tHyper-parameters at outter iteration 6 : [ 5.57931028  3.59469933  0.01      ]\n",
      "Hyper-parameters at iteration 0 : [ 5.57931028  3.59469933  0.01      ]\n",
      "Hyper-parameters at iteration 1 : [ 5.71240456  3.5510209   0.01      ]\n",
      "\tHyper-parameters at outter iteration 7 : [ 5.71489983  3.55020206  0.01      ]\n",
      "Hyper-parameters at iteration 0 : [ 5.71489983  3.55020206  0.01      ]\n",
      "Hyper-parameters at iteration 1 : [ 5.7442788  3.6100464  0.01     ]\n",
      "Hyper-parameters at iteration 2 : [ 5.74419024  3.60986592  0.01      ]\n",
      "\tHyper-parameters at outter iteration 8 : [ 5.74419021  3.60986587  0.01      ]\n",
      "Hyper-parameters at iteration 0 : [ 5.74419021  3.60986587  0.01      ]\n",
      "Hyper-parameters at iteration 1 : [ 5.8938452   3.58324988  0.01      ]\n",
      "Hyper-parameters at iteration 2 : [ 5.89147182  3.58367205  0.01      ]\n",
      "\tHyper-parameters at outter iteration 9 : [ 5.8914718   3.58367205  0.01      ]\n",
      "Hyper-parameters at iteration 0 : [ 5.8914718   3.58367205  0.01      ]\n",
      "Hyper-parameters at iteration 1 : [ 5.90875343  3.647124    0.01      ]\n",
      "Hyper-parameters at iteration 2 : [ 5.90863726  3.64669736  0.01      ]\n",
      "\tHyper-parameters at outter iteration 10 : [ 5.90863725  3.64669731  0.01      ]\n",
      "Hyper-parameters at iteration 0 : [ 5.90863725  3.64669731  0.01      ]\n",
      "Hyper-parameters at iteration 1 : [ 6.66340284  3.69804273  0.01      ]\n",
      "Hyper-parameters at iteration 2 : [ 6.46598505  3.68461291  0.01      ]\n",
      "Hyper-parameters at iteration 3 : [ 6.43240127  3.68232848  0.01      ]\n",
      "Hyper-parameters at iteration 4 : [ 6.43439316  3.68246415  0.01      ]\n",
      "\tHyper-parameters at outter iteration 11 : [ 6.43424373  3.6824542   0.01      ]\n",
      "Hyper-parameters at iteration 0 : [ 6.43424373  3.6824542   0.01      ]\n",
      "Hyper-parameters at iteration 1 : [ 6.432735    3.78194292  0.01      ]\n",
      "Hyper-parameters at iteration 2 : [ 6.43282041  3.77631156  0.01      ]\n",
      "Hyper-parameters at iteration 3 : [ 6.43282455  3.77604031  0.01      ]\n",
      "\tHyper-parameters at outter iteration 12 : [ 6.4328332   3.77547275  0.01      ]\n",
      "Hyper-parameters at iteration 0 : [ 6.4328332   3.77547275  0.01      ]\n",
      "Hyper-parameters at iteration 1 : [ 6.7358877   3.99184366  0.01      ]\n",
      "Hyper-parameters at iteration 2 : [ 6.60345944  3.89729419  0.01      ]\n",
      "Hyper-parameters at iteration 3 : [ 6.59186132  3.88901346  0.01      ]\n",
      "\tHyper-parameters at outter iteration 13 : [ 6.59186654  3.88901719  0.01      ]\n",
      "Hyper-parameters at iteration 0 : [ 6.59186654  3.88901719  0.01      ]\n",
      "Hyper-parameters at iteration 1 : [ 6.69347111  3.84330522  0.01      ]\n",
      "\tHyper-parameters at outter iteration 14 : [ 6.69708397  3.84167982  0.01      ]\n",
      "Hyper-parameters at iteration 0 : [ 6.69708397  3.84167982  0.01      ]\n",
      "Hyper-parameters at iteration 1 : [ 6.73943385  3.90304963  0.01      ]\n",
      "Hyper-parameters at iteration 2 : [ 6.73949394  3.90313666  0.01      ]\n",
      "\tHyper-parameters at outter iteration 15 : [ 6.73946007  3.90308725  0.01      ]\n",
      "Hyper-parameters at iteration 0 : [ 6.73946007  3.90308725  0.01      ]\n",
      "Hyper-parameters at iteration 1 : [ 6.82028193  3.86926048  0.01      ]\n",
      "Hyper-parameters at iteration 2 : [ 6.8194974   3.86958887  0.01      ]\n",
      "\tHyper-parameters at outter iteration 16 : [ 6.81949741  3.86958887  0.01      ]\n",
      "Hyper-parameters at iteration 0 : [ 6.81949741  3.86958887  0.01      ]\n",
      "Hyper-parameters at iteration 1 : [ 6.85447909  3.92857887  0.01      ]\n",
      "Hyper-parameters at iteration 2 : [ 6.85451438  3.92863837  0.01      ]\n",
      "\tHyper-parameters at outter iteration 17 : [ 6.85450188  3.92861703  0.01      ]\n",
      "Hyper-parameters at iteration 0 : [ 6.85450188  3.92861703  0.01      ]\n",
      "Hyper-parameters at iteration 1 : [ 6.95274413  3.8978561   0.01      ]\n",
      "Hyper-parameters at iteration 2 : [ 6.95530246  3.8970551   0.01      ]\n",
      "\tHyper-parameters at outter iteration 18 : [ 6.95530281  3.89705499  0.01      ]\n",
      "Hyper-parameters at iteration 0 : [ 6.95530281  3.89705499  0.01      ]\n",
      "Hyper-parameters at iteration 1 : [ 6.98046841  3.95453536  0.01      ]\n",
      "\tHyper-parameters at outter iteration 19 : [ 6.98041386  3.9544107   0.01      ]\n",
      "Hyper-parameters at iteration 0 : [ 6.98041386  3.9544107   0.01      ]\n",
      "Hyper-parameters at iteration 1 : [ 7.20364222  3.91945257  0.01      ]\n",
      "Hyper-parameters at iteration 2 : [ 7.14556255  3.92854805  0.01      ]\n",
      "Hyper-parameters at iteration 3 : [ 7.14556154  3.92854821  0.01      ]\n",
      "\tHyper-parameters at outter iteration 20 : [ 7.14559589  3.92854764  0.01      ]\n",
      "Hyper-parameters at iteration 0 : [ 7.14559589  3.92854764  0.01      ]\n",
      "Hyper-parameters at iteration 1 : [ 7.15998951  3.99119326  0.01      ]\n",
      "\tHyper-parameters at outter iteration 21 : [ 7.16002114  3.99133091  0.01      ]\n",
      "Hyper-parameters at iteration 0 : [ 7.16002114  3.99133091  0.01      ]\n",
      "Hyper-parameters at iteration 1 : [ 8.35809665  4.12765471  0.01      ]\n",
      "Hyper-parameters at iteration 2 : [ 8.20766268  4.11053774  0.01      ]\n",
      "\tHyper-parameters at outter iteration 22 : [ 8.2057482   4.11031991  0.01      ]\n",
      "Hyper-parameters at iteration 0 : [ 8.2057482   4.11031991  0.01      ]\n",
      "Hyper-parameters at iteration 1 : [ 8.19594336  4.24035085  0.01      ]\n",
      "Hyper-parameters at iteration 2 : [ 8.19644734  4.23366721  0.01      ]\n",
      "\tHyper-parameters at outter iteration 23 : [ 8.19644918  4.23364284  0.01      ]\n",
      "Hyper-parameters at iteration 0 : [ 8.19644918  4.23364284  0.01      ]\n",
      "Hyper-parameters at iteration 1 : [ 8.29470491  4.33859228  0.01      ]\n",
      "Hyper-parameters at iteration 2 : [ 8.2573412   4.29868312  0.01      ]\n",
      "Hyper-parameters at iteration 3 : [ 8.25619171  4.29745529  0.01      ]\n",
      "\tHyper-parameters at outter iteration 24 : [ 8.25326084  4.29432455  0.01      ]\n",
      "Hyper-parameters at iteration 0 : [ 8.25326084  4.29432455  0.01      ]\n",
      "Hyper-parameters at iteration 1 : [ 8.3262587   4.26303908  0.01      ]\n",
      "\tHyper-parameters at outter iteration 25 : [ 8.32625962  4.26303868  0.01      ]\n",
      "Hyper-parameters at iteration 0 : [ 8.32625962  4.26303868  0.01      ]\n",
      "Hyper-parameters at iteration 1 : [ 8.38933671  4.36510278  0.01      ]\n",
      "Hyper-parameters at iteration 2 : [ 8.36096832  4.31920027  0.01      ]\n",
      "\tHyper-parameters at outter iteration 26 : [ 8.36096827  4.3192002   0.01      ]\n",
      "Hyper-parameters at iteration 0 : [ 8.36096827  4.3192002   0.01      ]\n",
      "Hyper-parameters at iteration 1 : [ 8.44592508  4.28785891  0.01      ]\n",
      "Hyper-parameters at iteration 2 : [ 8.44797646  4.28710217  0.01      ]\n",
      "\tHyper-parameters at outter iteration 27 : [ 8.44797922  4.28710116  0.01      ]\n",
      "Hyper-parameters at iteration 0 : [ 8.44797922  4.28710116  0.01      ]\n",
      "Hyper-parameters at iteration 1 : [ 8.47528283  4.34045536  0.01      ]\n",
      "\tHyper-parameters at outter iteration 28 : [ 8.47585462  4.34157266  0.01      ]\n",
      "Hyper-parameters at iteration 0 : [ 8.47585462  4.34157266  0.01      ]\n",
      "Hyper-parameters at iteration 1 : [ 8.6399802   4.30472551  0.01      ]\n",
      "Hyper-parameters at iteration 2 : [ 8.60895554  4.31169077  0.01      ]\n",
      "\tHyper-parameters at outter iteration 29 : [ 8.60895554  4.31169077  0.01      ]\n",
      "Hyper-parameters at iteration 0 : [ 8.60895554  4.31169077  0.01      ]\n",
      "Hyper-parameters at iteration 1 : [ 8.62680977  4.36883736  0.01      ]\n",
      "\tHyper-parameters at outter iteration 30 : [ 8.62680978  4.36883738  0.01      ]\n",
      "Hyper-parameters at iteration 0 : [ 8.62680978  4.36883738  0.01      ]\n",
      "Hyper-parameters at iteration 1 : [ 9.03172673  4.36241705  0.01      ]\n",
      "Hyper-parameters at iteration 2 : [ 9.00449136  4.36284897  0.01      ]\n",
      "\tHyper-parameters at outter iteration 31 : [ 9.00449136  4.36284897  0.01      ]\n",
      "Hyper-parameters at iteration 0 : [ 9.00449136  4.36284897  0.01      ]\n",
      "Hyper-parameters at iteration 1 : [ 9.0093035   4.44471017  0.01      ]\n",
      "\tHyper-parameters at outter iteration 32 : [ 9.0093035   4.44471018  0.01      ]\n",
      "Hyper-parameters at iteration 0 : [ 9.0093035   4.44471018  0.01      ]\n",
      "Hyper-parameters at iteration 1 : [ 9.65554099  4.72308245  0.01      ]\n",
      "Hyper-parameters at iteration 2 : [ 9.58928374  4.69454152  0.01      ]\n",
      "\tHyper-parameters at outter iteration 33 : [ 9.5903528   4.69500202  0.01      ]\n",
      "Hyper-parameters at iteration 0 : [ 9.5903528   4.69500202  0.01      ]\n",
      "Hyper-parameters at iteration 1 : [ 9.69855273  4.61667956  0.01      ]\n",
      "\tHyper-parameters at outter iteration 34 : [ 9.70351209  4.61308966  0.01      ]\n",
      "Hyper-parameters at iteration 0 : [ 9.70351209  4.61308966  0.01      ]\n",
      "Hyper-parameters at iteration 1 : [ 9.90112805  4.74093904  0.01      ]\n",
      "Hyper-parameters at iteration 2 : [ 9.86985012  4.72070348  0.01      ]\n",
      "Hyper-parameters at iteration 3 : [ 9.87503769  4.72405958  0.01      ]\n",
      "\tHyper-parameters at outter iteration 35 : [ 9.86346867  4.71657462  0.01      ]\n",
      "Hyper-parameters at iteration 0 : [ 9.86346867  4.71657462  0.01      ]\n",
      "Hyper-parameters at iteration 1 : [ 9.91823067  4.66590843  0.01      ]\n",
      "\tHyper-parameters at outter iteration 36 : [ 9.92089185  4.6634463   0.01      ]\n",
      "Hyper-parameters at iteration 0 : [ 9.92089185  4.6634463   0.01      ]\n",
      "Hyper-parameters at iteration 1 : [  1.01808508e+01   4.80776231e+00   1.00000000e-02]\n",
      "\tHyper-parameters at outter iteration 37 : [  1.01819332e+01   4.80836318e+00   1.00000000e-02]\n",
      "Hyper-parameters at iteration 0 : [  1.01819332e+01   4.80836318e+00   1.00000000e-02]\n",
      "Hyper-parameters at iteration 1 : [  1.02545479e+01   4.74380428e+00   1.00000000e-02]\n",
      "\tHyper-parameters at outter iteration 38 : [  1.02569093e+01   4.74170481e+00   1.00000000e-02]\n",
      "Hyper-parameters at iteration 0 : [  1.02569093e+01   4.74170481e+00   1.00000000e-02]\n",
      "Hyper-parameters at iteration 1 : [  1.04525835e+01   4.85856147e+00   1.00000000e-02]\n",
      "\tHyper-parameters at outter iteration 39 : [  1.04525835e+01   4.85856147e+00   1.00000000e-02]\n"
     ]
    }
   ],
   "source": [
    "model_covariance_obj = SquaredExponential(np.copy(cov_params))\n",
    "vi_gp = GPC(model_covariance_obj, method='vi')\n",
    "opts = {'maxfun':5, 'mydisp': True, 'num_updates':3}\n",
    "vi_res = vi_gp.fit(x_tr, y_tr, inputs=inputs, optimizer_options=opts, max_out_iter=40)"
   ]
  },
  {
   "cell_type": "code",
   "execution_count": 15,
   "metadata": {
    "collapsed": false
   },
   "outputs": [
    {
     "data": {
      "text/plain": [
       "<matplotlib.text.Text at 0x10d503630>"
      ]
     },
     "execution_count": 15,
     "metadata": {},
     "output_type": "execute_result"
    },
    {
     "data": {
      "image/png": "[encoded data removed]",
      "text/plain": [
       "<matplotlib.figure.Figure at 0x10d4b04e0>"
      ]
     },
     "metadata": {},
     "output_type": "display_data"
    }
   ],
   "source": [
    "metric = lambda w: vi_gp.get_prediction_quality(w, x_test, y_test)\n",
    "vi_x_lst, vi_y_lst = vi_res.plot_performance(metric, 't', freq=1)\n",
    "plt.plot(vi_x_lst[1:], vi_y_lst[1:], '-bx', label='vi-means-c')\n",
    "# plt.plot(svi_x_lst[1:100], svi_y_lst[1:100], '-gx', label='svi-L-BFGS-B-c')\n",
    "plt.ylim([0.7, .9])\n",
    "plt.legend()\n",
    "plt.xlabel('Seconds')\n",
    "plt.ylabel('Accuracy')"
   ]
  },
  {
   "cell_type": "markdown",
   "metadata": {},
   "source": [
    "## svi-AdaDelta-c\n",
    "Подберем шаг для метода"
   ]
  },
  {
   "cell_type": "code",
   "execution_count": 16,
   "metadata": {
    "collapsed": false
   },
   "outputs": [
    {
     "name": "stdout",
     "output_type": "stream",
     "text": [
      "1.0\n",
      "0.5\n",
      "0.3\n",
      "0.1\n",
      "0.01\n"
     ]
    },
    {
     "name": "stderr",
     "output_type": "stream",
     "text": [
      "/Users/IzmailovPavel/Documents/Education/Course Project/Code/GP/gaussian_process_classification.py:605: RuntimeWarning: invalid value encountered in log\n",
      "  loss += np.sum(np.log(np.diag(sigma_L))) * l / N\n"
     ]
    }
   ],
   "source": [
    "results = []\n",
    "steps = [1., 0.5, 0.3, 0.1, 0.01]\n",
    "for step in steps:\n",
    "    print(step)\n",
    "    model_covariance_obj = SquaredExponential(np.copy(cov_params))\n",
    "    ad_gp = GPC(model_covariance_obj, method='svi', hermgauss_deg=100)\n",
    "\n",
    "    opts = {'mode': 'adadelta', 'maxiter': 10, 'verbose': False, 'batch_size': 50, \n",
    "            'step_rate': step}#, 'print_freq':50}\n",
    "    batch_res = ad_gp.fit(x_tr, y_tr, inputs=inputs, optimizer_options=opts)\n",
    "    results.append(batch_res)"
   ]
  },
  {
   "cell_type": "code",
   "execution_count": 17,
   "metadata": {
    "collapsed": false
   },
   "outputs": [
    {
     "name": "stdout",
     "output_type": "stream",
     "text": [
      "0\n",
      "1\n",
      "2\n",
      "3\n",
      "4\n"
     ]
    },
    {
     "data": {
      "text/plain": [
       "<matplotlib.text.Text at 0x10db72c50>"
      ]
     },
     "execution_count": 17,
     "metadata": {},
     "output_type": "execute_result"
    },
    {
     "data": {
      "image/png": "[encoded data removed]",
      "text/plain": [
       "<matplotlib.figure.Figure at 0x10dae5f98>"
      ]
     },
     "metadata": {},
     "output_type": "display_data"
    }
   ],
   "source": [
    "metric = lambda w: ad_gp.get_prediction_quality(w, x_test, y_test)\n",
    "for i in range(len(results)):\n",
    "    svi_ad_x_lst, svi_ad_y_lst = results[i].plot_performance(metric, 't', freq=1)\n",
    "    plt.plot(svi_ad_x_lst[1:], svi_ad_y_lst[1:], label=steps[i])\n",
    "    print(i)\n",
    "plt.ylim([0.7, 1.])\n",
    "plt.legend()\n",
    "plt.xlabel('Seconds')\n",
    "plt.ylabel('Accuracy')"
   ]
  },
  {
   "cell_type": "code",
   "execution_count": 19,
   "metadata": {
    "collapsed": true
   },
   "outputs": [
    {
     "name": "stdout",
     "output_type": "stream",
     "text": [
      "Iteration  0 :\n",
      "\tGradient norm 8.16221645012\n",
      "Iteration  1 :\n",
      "\tGradient norm 8.3606554876\n",
      "Iteration  2 :\n",
      "\tGradient norm 12.0025178729\n",
      "Iteration  3 :\n",
      "\tGradient norm 10.8058871791\n",
      "Iteration  4 :\n",
      "\tGradient norm 7.925259761\n",
      "Iteration  5 :\n",
      "\tGradient norm 16.2558162693\n",
      "Iteration  6 :\n",
      "\tGradient norm 66.096057298\n",
      "Iteration  7 :\n",
      "\tGradient norm 19.7446779766\n",
      "Iteration  8 :\n",
      "\tGradient norm 10.4314402703\n",
      "Iteration  9 :\n",
      "\tGradient norm 18.9060389268\n",
      "Iteration  10 :\n",
      "\tGradient norm 36.7546198349\n",
      "Iteration  11 :\n",
      "\tGradient norm 9.60172976757\n",
      "Iteration  12 :\n",
      "\tGradient norm 23.6734806582\n",
      "Iteration  13 :\n",
      "\tGradient norm 9.33486713799\n",
      "Iteration  14 :\n",
      "\tGradient norm 10.113079973\n",
      "Iteration  15 :\n",
      "\tGradient norm 9.65106950999\n",
      "Iteration  16 :\n",
      "\tGradient norm 9.77992357175\n",
      "Iteration  17 :\n",
      "\tGradient norm 11.5200480622\n",
      "Iteration  18 :\n",
      "\tGradient norm 11.7959707729\n",
      "Iteration  19 :\n",
      "\tGradient norm 12.3448013531\n"
     ]
    }
   ],
   "source": [
    "model_covariance_obj = SquaredExponential(np.copy(cov_params))\n",
    "ad_gp = GPC(model_covariance_obj, method='svi', hermgauss_deg=100)\n",
    "opts = {'mode': 'adadelta', 'maxiter': 20, 'verbose': True, 'batch_size': 50, \n",
    "        'step_rate': .5, 'print_freq':1}\n",
    "batch_res = ad_gp.fit(x_tr, y_tr, inputs=inputs, optimizer_options=opts)"
   ]
  },
  {
   "cell_type": "code",
   "execution_count": 20,
   "metadata": {
    "collapsed": false
   },
   "outputs": [
    {
     "data": {
      "text/plain": [
       "<matplotlib.text.Text at 0x10da10390>"
      ]
     },
     "execution_count": 20,
     "metadata": {},
     "output_type": "execute_result"
    },
    {
     "data": {
      "image/png": "[encoded data removed]",
      "text/plain": [
       "<matplotlib.figure.Figure at 0x10d4b02e8>"
      ]
     },
     "metadata": {},
     "output_type": "display_data"
    }
   ],
   "source": [
    "metric = lambda w: ad_gp.get_prediction_quality(w, x_test, y_test)\n",
    "svi_ad_x_lst, svi_ad_y_lst = batch_res.plot_performance(metric, 't', freq=1)\n",
    "plt.plot(svi_ad_x_lst[1:], svi_ad_y_lst[1:], '-yx', label='svi-AdaDelta-c')\n",
    "plt.ylim([0.7, 1.])\n",
    "plt.legend()\n",
    "plt.xlabel('Seconds')\n",
    "plt.ylabel('Accuracy')"
   ]
  },
  {
   "cell_type": "markdown",
   "metadata": {},
   "source": [
    "## Выводы"
   ]
  },
  {
   "cell_type": "code",
   "execution_count": 21,
   "metadata": {
    "collapsed": false
   },
   "outputs": [
    {
     "data": {
      "text/plain": [
       "<matplotlib.text.Text at 0x10e330748>"
      ]
     },
     "execution_count": 21,
     "metadata": {},
     "output_type": "execute_result"
    },
    {
     "data": {
      "image/png": "[encoded data removed]",
      "text/plain": [
       "<matplotlib.figure.Figure at 0x10da171d0>"
      ]
     },
     "metadata": {},
     "output_type": "display_data"
    }
   ],
   "source": [
    "plt.figure(figsize=(12, 7))\n",
    "plt.plot(svi_x_lst[1:], svi_y_lst[1:], '-gx', label='svi-L-BFGS-B-c')\n",
    "plt.plot(svi_ad_x_lst[1:], svi_ad_y_lst[1:], '-yx', label='svi-AdaDelta-c')\n",
    "plt.plot(vi_x_lst[1:], vi_y_lst[1:], '-bx', label='vi-means-c')\n",
    "plt.ylim([0.7, 1.])\n",
    "plt.legend()\n",
    "plt.xlabel('Seconds')\n",
    "plt.ylabel('Accuracy')"
   ]
  },
  {
   "cell_type": "code",
   "execution_count": 22,
   "metadata": {
    "collapsed": true
   },
   "outputs": [],
   "source": [
    "np.save('../plots/vi_vs_svi_class/'+ data_name +'_svi_x.npy', svi_x_lst)\n",
    "np.save('../plots/vi_vs_svi_class/'+ data_name +'_svi_y.npy', svi_y_lst)\n",
    "np.save('../plots/vi_vs_svi_class/'+ data_name +'_vi_x.npy', vi_x_lst)\n",
    "np.save('../plots/vi_vs_svi_class/'+ data_name +'_vi_y.npy', vi_y_lst)\n",
    "np.save('../plots/vi_vs_svi_class/'+ data_name +'_ad_x.npy', svi_ad_x_lst)\n",
    "np.save('../plots/vi_vs_svi_class/'+ data_name +'_ad_y.npy', svi_ad_y_lst)"
   ]
  }
 ],
 "metadata": {
  "kernelspec": {
   "display_name": "Python 3",
   "language": "python",
   "name": "python3"
  },
  "language_info": {
   "codemirror_mode": {
    "name": "ipython",
    "version": 3
   },
   "file_extension": ".py",
   "mimetype": "text/x-python",
   "name": "python",
   "nbconvert_exporter": "python",
   "pygments_lexer": "ipython3",
   "version": "3.4.3"
  }
 },
 "nbformat": 4,
 "nbformat_minor": 0
}
