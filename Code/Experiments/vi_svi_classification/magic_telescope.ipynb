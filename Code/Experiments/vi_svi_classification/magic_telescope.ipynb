{
 "cells": [
  {
   "cell_type": "markdown",
   "metadata": {},
   "source": [
    "# Magic Gamma Telescope"
   ]
  },
  {
   "cell_type": "code",
   "execution_count": 1,
   "metadata": {
    "collapsed": false
   },
   "outputs": [],
   "source": [
    "import sys\n",
    "sys.path.append('/Users/IzmailovPavel/Documents/Education/Course Project/Code')\n",
    "import numpy as np\n",
    "import matplotlib as mpl\n",
    "\n",
    "from matplotlib import pyplot as plt\n",
    "\n",
    "from GP.covariance_functions import SquaredExponential\n",
    "from GP.gaussian_process_classification import GPC\n",
    "\n",
    "from sklearn.cluster import KMeans\n",
    "\n",
    "from vi_svi_class_experiments import run_methods\n",
    "from sklearn.datasets import load_svmlight_file\n",
    "from sklearn.preprocessing import StandardScaler\n",
    "from sklearn.utils import shuffle\n",
    "%matplotlib inline\n",
    "%load_ext autoreload\n",
    "%autoreload 2"
   ]
  },
  {
   "cell_type": "markdown",
   "metadata": {},
   "source": [
    "## Данные"
   ]
  },
  {
   "cell_type": "code",
   "execution_count": 3,
   "metadata": {
    "collapsed": false
   },
   "outputs": [
    {
     "name": "stdout",
     "output_type": "stream",
     "text": [
      "of objects: 15215\n",
      "of features: 10\n",
      "magic telescope\n"
     ]
    }
   ],
   "source": [
    "# x_tr, y_tr = load_svmlight_file('../../../../Programming/DataSets/Classification/magic_gamma_telescope(19020,11).txt')\n",
    "data = np.load('../../../../Programming/DataSets/Classification/magic_gamma_telescope(19020,11).npy')\n",
    "x_tr, y_tr = data[:, :-1], data[:, -1]\n",
    "x_tr, y_tr = shuffle(x_tr, y_tr, random_state=241)\n",
    "data_name = 'magic telescope'\n",
    "\n",
    "# x_tr = x_tr.T\n",
    "scaler = StandardScaler()\n",
    "x_tr = scaler.fit_transform(x_tr).T\n",
    "x_tr = (x_tr + 1) / 2\n",
    "y_tr = y_tr[:, None]\n",
    "y_tr[y_tr == 0] = -1\n",
    "x_test = x_tr[:, int(x_tr.shape[1] * 0.8):]\n",
    "y_test = y_tr[int(x_tr.shape[1] * 0.8):, :]\n",
    "y_tr = y_tr[:int(x_tr.shape[1] * 0.8), :]\n",
    "x_tr = x_tr[:, : int(x_tr.shape[1] * 0.8)]\n",
    "dim, num = x_tr.shape\n",
    "\n",
    "print('of objects:', num)\n",
    "print('of features:', dim)\n",
    "print(data_name)"
   ]
  },
  {
   "cell_type": "markdown",
   "metadata": {},
   "source": [
    "## K-Means cluster centers"
   ]
  },
  {
   "cell_type": "code",
   "execution_count": 4,
   "metadata": {
    "collapsed": false
   },
   "outputs": [
    {
     "name": "stdout",
     "output_type": "stream",
     "text": [
      "Finding means...\n",
      "...found\n"
     ]
    }
   ],
   "source": [
    "ind_num = 50\n",
    "print('Finding means...')\n",
    "means = KMeans(n_clusters=ind_num, n_init=3, max_iter=100, random_state=241)\n",
    "means.fit(x_tr.T)\n",
    "inputs = means.cluster_centers_.T\n",
    "print('...found')"
   ]
  },
  {
   "cell_type": "code",
   "execution_count": 5,
   "metadata": {
    "collapsed": true
   },
   "outputs": [],
   "source": [
    "cov_params = np.array([1., 1., 1.])"
   ]
  },
  {
   "cell_type": "markdown",
   "metadata": {},
   "source": [
    "## svi-L-BFGS-B-c method"
   ]
  },
  {
   "cell_type": "code",
   "execution_count": 6,
   "metadata": {
    "collapsed": true
   },
   "outputs": [],
   "source": [
    "model_covariance_obj = SquaredExponential(np.copy(cov_params))\n",
    "svi_gp = GPC(model_covariance_obj, method='svi')"
   ]
  },
  {
   "cell_type": "code",
   "execution_count": 7,
   "metadata": {
    "collapsed": false
   },
   "outputs": [
    {
     "name": "stdout",
     "output_type": "stream",
     "text": [
      "Hyper-parameters at iteration 0 : [ 1.  1.  1.  0.  0.]\n",
      "Hyper-parameters at iteration 1 : [ 0.99892016  1.7618086   0.99892016  0.16217421  0.1385381 ]\n",
      "Hyper-parameters at iteration 2 : [ 1.0986876   2.44237045  0.64321784  0.34083851  0.29427466]\n",
      "Hyper-parameters at iteration 3 : [ 1.3140426   3.3455302   0.42478591  0.59877486  0.51480589]\n",
      "Hyper-parameters at iteration 4 : [ 1.62698244  4.55797512  0.28463631  0.9496354   0.81380692]\n",
      "Hyper-parameters at iteration 5 : [ 2.32427819  7.41513344  0.2524348   1.76134886  1.51038573]\n",
      "Hyper-parameters at iteration 6 : [ 2.56671959  8.31409168  0.36402298  2.00132659  1.75152657]\n",
      "Hyper-parameters at iteration 7 : [ 2.67706849  8.65990159  0.33420729  2.10159057  1.84499418]\n",
      "Hyper-parameters at iteration 8 : [ 2.75379071  8.81998347  0.31009852  2.14655723  1.89854228]\n",
      "Hyper-parameters at iteration 9 : [ 2.85004476  8.90740627  0.29070601  2.16729771  1.9506942 ]\n",
      "Hyper-parameters at iteration 10 : [ 3.14915611  8.92662193  0.25475679  2.15269257  2.07905999]\n",
      "Hyper-parameters at iteration 11 : [ 3.66689373  8.49590071  0.2213655   1.98416573  2.23694797]\n",
      "Hyper-parameters at iteration 12 : [ 4.2536645   7.2762114   0.20242039  1.58083179  2.28536564]\n",
      "Hyper-parameters at iteration 13 : [ 4.40829995  6.46936737  0.20801591  1.34122443  2.20056811]\n",
      "Hyper-parameters at iteration 14 : [ 4.41851267  5.89759131  0.2329999   1.18807016  2.07751552]\n",
      "Hyper-parameters at iteration 15 : [ 4.39308364  5.59198876  0.26593881  1.12356459  1.96631267]\n",
      "Hyper-parameters at iteration 16 : [ 4.47200606  5.1854393   0.29676751  1.04361345  1.84294997]\n",
      "Hyper-parameters at iteration 17 : [ 4.84826792  4.49411265  0.33107843  0.92163959  1.68254914]\n",
      "Hyper-parameters at iteration 18 : [ 5.21104571  4.84709127  0.35582116  1.1078752   1.6821361 ]\n",
      "Hyper-parameters at iteration 19 : [ 5.25264923  4.47353662  0.32911439  0.9691172   1.5209088 ]\n",
      "Hyper-parameters at iteration 20 : [ 5.52320622  4.19198233  0.2368671   1.02077241  1.64400705]\n",
      "Hyper-parameters at iteration 21 : [ 5.48322505  4.38760477  0.15905784  1.16422627  1.72517061]\n",
      "Hyper-parameters at iteration 22 : [ 5.78140819  4.66010697  0.12075536  1.3865635   1.99940048]\n",
      "Hyper-parameters at iteration 23 : [ 6.08238676  4.62744797  0.09801192  1.34458589  2.04871459]\n",
      "Hyper-parameters at iteration 24 : [ 6.20528613  4.47015887  0.0668308   1.18932255  2.03077045]\n",
      "Hyper-parameters at iteration 25 : [ 6.58544278  4.08104005  0.09355896  0.53705226  1.85320137]\n",
      "Hyper-parameters at iteration 26 : [ 6.5617247   4.11608652  0.07437665  0.53900569  1.85008576]\n",
      "Hyper-parameters at iteration 27 : [ 6.31321689  4.3561963   0.07981421  0.6673301   1.85870565]\n",
      "Hyper-parameters at iteration 28 : [ 6.34515161  4.25343604  0.066678    0.67863906  1.89791889]\n",
      "Hyper-parameters at iteration 29 : [ 6.38571253  4.25368359  0.07168276  0.69970043  1.91598054]\n",
      "Hyper-parameters at iteration 30 : [ 6.41149897  4.23566151  0.07101026  0.71436569  1.933505  ]\n",
      "Hyper-parameters at iteration 31 : [ 6.44080183  4.2041231   0.06934872  0.73524732  1.95158811]\n"
     ]
    }
   ],
   "source": [
    "opts = {'mode': 'full', 'maxiter': 30, 'mydisp': True}\n",
    "svi_res = svi_gp.fit(x_tr, y_tr, inputs=inputs, optimizer_options=opts)"
   ]
  },
  {
   "cell_type": "code",
   "execution_count": 8,
   "metadata": {
    "collapsed": false
   },
   "outputs": [],
   "source": [
    "metric = lambda w: svi_gp.get_prediction_quality(w, x_test, y_test)\n",
    "svi_x_lst, svi_y_lst = svi_res.plot_performance(metric, 't', freq=1)"
   ]
  },
  {
   "cell_type": "code",
   "execution_count": 11,
   "metadata": {
    "collapsed": false
   },
   "outputs": [
    {
     "data": {
      "text/plain": [
       "<matplotlib.text.Text at 0x105952c18>"
      ]
     },
     "execution_count": 11,
     "metadata": {},
     "output_type": "execute_result"
    },
    {
     "data": {
      "image/png": "[encoded data removed]",
      "text/plain": [
       "<matplotlib.figure.Figure at 0x10595f7b8>"
      ]
     },
     "metadata": {},
     "output_type": "display_data"
    }
   ],
   "source": [
    "plt.plot(svi_x_lst[1:], svi_y_lst[1:], '-gx', label='svi-L-BFGS-B-c')\n",
    "plt.ylim([0.7, 1.])\n",
    "plt.legend()\n",
    "plt.xlabel('Seconds')\n",
    "plt.ylabel('Accuracy')"
   ]
  },
  {
   "cell_type": "markdown",
   "metadata": {},
   "source": [
    "## vi-means-c method"
   ]
  },
  {
   "cell_type": "code",
   "execution_count": 31,
   "metadata": {
    "collapsed": false
   },
   "outputs": [],
   "source": [
    "model_covariance_obj = SquaredExponential(np.copy(cov_params))\n",
    "vi_gp = GPC(model_covariance_obj, method='vi')"
   ]
  },
  {
   "cell_type": "code",
   "execution_count": 32,
   "metadata": {
    "collapsed": false
   },
   "outputs": [
    {
     "name": "stdout",
     "output_type": "stream",
     "text": [
      "Hyper-parameters at iteration 0 : [ 1.  1.  1.]\n",
      "Hyper-parameters at iteration 1 : [ 0.99911072  1.89736345  0.99911072]\n",
      "Hyper-parameters at iteration 2 : [ 1.05247457  1.74741053  0.01      ]\n",
      "Hyper-parameters at iteration 3 : [ 1.15105548  1.83490237  0.01      ]\n",
      "\tHyper-parameters at outter iteration 0 : [ 1.41600205  2.04726039  0.01      ]\n",
      "Hyper-parameters at iteration 0 : [ 1.41600205  2.04726039  0.01      ]\n",
      "Hyper-parameters at iteration 1 : [ 1.66829375  2.0463898   0.01      ]\n",
      "Hyper-parameters at iteration 2 : [ 2.05139811  2.04506806  0.01      ]\n",
      "Hyper-parameters at iteration 3 : [ 2.32272042  2.04413267  0.01      ]\n",
      "\tHyper-parameters at outter iteration 1 : [ 2.48868581  2.04356222  0.01      ]\n",
      "Hyper-parameters at iteration 0 : [ 2.48868581  2.04356222  0.01      ]\n",
      "Hyper-parameters at iteration 1 : [ 2.48622656  2.33373267  0.01      ]\n",
      "Hyper-parameters at iteration 2 : [ 2.48628656  2.32669836  0.01      ]\n",
      "Hyper-parameters at iteration 3 : [ 2.48630856  2.32413978  0.01      ]\n",
      "\tHyper-parameters at outter iteration 2 : [ 2.48630859  2.3242424   0.01      ]\n",
      "Hyper-parameters at iteration 0 : [ 2.48630859  2.3242424   0.01      ]\n",
      "Hyper-parameters at iteration 1 : [ 2.63559404  2.54755917  0.01      ]\n",
      "Hyper-parameters at iteration 2 : [ 2.61364655  2.51472723  0.01      ]\n",
      "Hyper-parameters at iteration 3 : [ 2.60874197  2.50738988  0.01      ]\n",
      "\tHyper-parameters at outter iteration 3 : [ 2.60878068  2.50744768  0.01      ]\n",
      "Hyper-parameters at iteration 0 : [ 2.60878068  2.50744768  0.01      ]\n",
      "Hyper-parameters at iteration 1 : [ 3.12489011  2.48361971  0.01      ]\n",
      "Hyper-parameters at iteration 2 : [ 2.98005149  2.49030707  0.01      ]\n",
      "Hyper-parameters at iteration 3 : [ 2.9569796   2.49137284  0.01      ]\n",
      "\tHyper-parameters at outter iteration 4 : [ 2.95826846  2.49131374  0.01      ]\n",
      "Hyper-parameters at iteration 0 : [ 2.95826846  2.49131374  0.01      ]\n",
      "Hyper-parameters at iteration 1 : [ 2.96853347  2.64521728  0.01      ]\n",
      "Hyper-parameters at iteration 2 : [ 2.9675276  2.6301344  0.01     ]\n",
      "Hyper-parameters at iteration 3 : [ 2.96739297  2.62811424  0.01      ]\n",
      "\tHyper-parameters at outter iteration 5 : [ 2.96739311  2.62811615  0.01      ]\n",
      "Hyper-parameters at iteration 0 : [ 2.96739311  2.62811615  0.01      ]\n",
      "Hyper-parameters at iteration 1 : [ 4.05648444  3.06606536  0.01      ]\n",
      "Hyper-parameters at iteration 2 : [ 3.98932617  3.03903107  0.01      ]\n",
      "Hyper-parameters at iteration 3 : [ 3.93145109  3.015732    0.01      ]\n",
      "\tHyper-parameters at outter iteration 6 : [ 4.01811327  2.98614822  0.01      ]\n",
      "Hyper-parameters at iteration 0 : [ 4.01811327  2.98614822  0.01      ]\n",
      "Hyper-parameters at iteration 1 : [ 4.03610925  3.04864938  0.01      ]\n",
      "Hyper-parameters at iteration 2 : [ 4.03538516  3.04613442  0.01      ]\n",
      "Hyper-parameters at iteration 3 : [ 4.03535175  3.04601824  0.01      ]\n",
      "\tHyper-parameters at outter iteration 7 : [ 4.03534657  3.04600007  0.01      ]\n",
      "Hyper-parameters at iteration 0 : [ 4.03534657  3.04600007  0.01      ]\n",
      "Hyper-parameters at iteration 1 : [ 4.85381222  3.21359452  0.01      ]\n",
      "Hyper-parameters at iteration 2 : [ 4.81237747  3.20511043  0.01      ]\n",
      "Hyper-parameters at iteration 3 : [ 4.79023466  3.20057699  0.01      ]\n",
      "\tHyper-parameters at outter iteration 8 : [ 4.79103247  3.20074079  0.01      ]\n",
      "Hyper-parameters at iteration 0 : [ 4.79103247  3.20074079  0.01      ]\n",
      "Hyper-parameters at iteration 1 : [ 4.78237461  3.31084258  0.01      ]\n",
      "Hyper-parameters at iteration 2 : [ 4.78413625  3.28844009  0.01      ]\n",
      "Hyper-parameters at iteration 3 : [ 4.78425856  3.28688496  0.01      ]\n",
      "\tHyper-parameters at outter iteration 9 : [ 4.78425554  3.28692361  0.01      ]\n"
     ]
    }
   ],
   "source": [
    "opts = {'maxiter':2, 'mydisp': True}\n",
    "vi_res = vi_gp.fit(x_tr, y_tr, inputs=inputs, optimizer_options=opts, max_out_iter=10)"
   ]
  },
  {
   "cell_type": "code",
   "execution_count": 33,
   "metadata": {
    "collapsed": true
   },
   "outputs": [],
   "source": [
    "metric = lambda w: vi_gp.get_prediction_quality(w, x_test, y_test)\n",
    "vi_x_lst, vi_y_lst = vi_res.plot_performance(metric, 't', freq=1)"
   ]
  },
  {
   "cell_type": "code",
   "execution_count": 34,
   "metadata": {
    "collapsed": false
   },
   "outputs": [
    {
     "data": {
      "text/plain": [
       "<matplotlib.text.Text at 0x10db79860>"
      ]
     },
     "execution_count": 34,
     "metadata": {},
     "output_type": "execute_result"
    },
    {
     "data": {
      "image/png": "[encoded data removed]",
      "text/plain": [
       "<matplotlib.figure.Figure at 0x10d7e32e8>"
      ]
     },
     "metadata": {},
     "output_type": "display_data"
    }
   ],
   "source": [
    "plt.plot(vi_x_lst[1:], vi_y_lst[1:], '-bx', label='vi-means-c')\n",
    "# plt.plot(svi_x_lst[1:100], svi_y_lst[1:100], '-gx', label='svi-L-BFGS-B-c')\n",
    "plt.ylim([0.7, 1.])\n",
    "plt.legend()\n",
    "plt.xlabel('Seconds')\n",
    "plt.ylabel('Accuracy')"
   ]
  },
  {
   "cell_type": "markdown",
   "metadata": {},
   "source": [
    "## svi-AdaDelta-c\n",
    "Подберем шаг для метода"
   ]
  },
  {
   "cell_type": "code",
   "execution_count": 17,
   "metadata": {
    "collapsed": false
   },
   "outputs": [
    {
     "name": "stdout",
     "output_type": "stream",
     "text": [
      "1.0\n",
      "0.5\n",
      "0.3\n",
      "0.1\n",
      "0.01\n"
     ]
    },
    {
     "name": "stderr",
     "output_type": "stream",
     "text": [
      "/Users/IzmailovPavel/Documents/Education/Course Project/Code/GP/gaussian_process_classification.py:605: RuntimeWarning: invalid value encountered in log\n",
      "  loss += np.sum(np.log(np.diag(sigma_L))) * l / N\n"
     ]
    }
   ],
   "source": [
    "results = []\n",
    "steps = [1., 0.5, 0.3, 0.1, 0.01]\n",
    "for step in steps:\n",
    "    print(step)\n",
    "    model_covariance_obj = SquaredExponential(np.copy(cov_params))\n",
    "    ad_gp = GPC(model_covariance_obj, method='svi', hermgauss_deg=100)\n",
    "\n",
    "    opts = {'mode': 'adadelta', 'maxiter': 10, 'verbose': False, 'batch_size': 50, \n",
    "            'step_rate': step}#, 'print_freq':50}\n",
    "    batch_res = ad_gp.fit(x_tr, y_tr, inputs=inputs, optimizer_options=opts)\n",
    "    results.append(batch_res)"
   ]
  },
  {
   "cell_type": "code",
   "execution_count": 18,
   "metadata": {
    "collapsed": false
   },
   "outputs": [
    {
     "name": "stdout",
     "output_type": "stream",
     "text": [
      "0\n",
      "1\n",
      "2\n",
      "3\n",
      "4\n"
     ]
    },
    {
     "data": {
      "text/plain": [
       "<matplotlib.text.Text at 0x10d7c1f60>"
      ]
     },
     "execution_count": 18,
     "metadata": {},
     "output_type": "execute_result"
    },
    {
     "data": {
      "image/png": "[encoded data removed]",
      "text/plain": [
       "<matplotlib.figure.Figure at 0x10d9479e8>"
      ]
     },
     "metadata": {},
     "output_type": "display_data"
    }
   ],
   "source": [
    "metric = lambda w: ad_gp.get_prediction_quality(w, x_test, y_test)\n",
    "for i in range(len(results)):\n",
    "    svi_ad_x_lst, svi_ad_y_lst = results[i].plot_performance(metric, 't', freq=1)\n",
    "    plt.plot(svi_ad_x_lst[1:], svi_ad_y_lst[1:], label=steps[i])\n",
    "    print(i)\n",
    "plt.ylim([0.7, 1.])\n",
    "plt.legend()\n",
    "plt.xlabel('Seconds')\n",
    "plt.ylabel('Accuracy')"
   ]
  },
  {
   "cell_type": "code",
   "execution_count": 24,
   "metadata": {
    "collapsed": false
   },
   "outputs": [
    {
     "name": "stdout",
     "output_type": "stream",
     "text": [
      "Iteration  304 :\n",
      "\tGradient norm 3.41284204066\n",
      "Iteration  608 :\n",
      "\tGradient norm 9.03125929262\n",
      "Iteration  912 :\n",
      "\tGradient norm 5.94019805945\n",
      "Iteration  1216 :\n",
      "\tGradient norm 52.0810892827\n",
      "Iteration  1520 :\n",
      "\tGradient norm 8.31310933398\n",
      "Iteration  1824 :\n",
      "\tGradient norm 20.7098218842\n",
      "Iteration  2128 :\n",
      "\tGradient norm 13.2085872655\n",
      "Iteration  2432 :\n",
      "\tGradient norm 15.7135752891\n",
      "Iteration  2736 :\n",
      "\tGradient norm 12.8245148112\n",
      "Iteration  3040 :\n",
      "\tGradient norm 14.5316590963\n",
      "Iteration  3344 :\n",
      "\tGradient norm 9.97716786707\n",
      "Iteration  3648 :\n",
      "\tGradient norm 8.94135999049\n",
      "Iteration  3952 :\n",
      "\tGradient norm 10.1420663256\n",
      "Iteration  4256 :\n",
      "\tGradient norm 12.0014238375\n",
      "Iteration  4560 :\n",
      "\tGradient norm 10.7736752605\n",
      "Iteration  4864 :\n",
      "\tGradient norm 9.80725208638\n",
      "Iteration  5168 :\n",
      "\tGradient norm 14.2764178965\n",
      "Iteration  5472 :\n",
      "\tGradient norm 7.41626878492\n",
      "Iteration  5776 :\n",
      "\tGradient norm 11.0474909283\n",
      "Iteration  6080 :\n",
      "\tGradient norm 9.46029609933\n"
     ]
    }
   ],
   "source": [
    "model_covariance_obj = SquaredExponential(np.copy(cov_params))\n",
    "ad_gp = GPC(model_covariance_obj, method='svi', hermgauss_deg=100)\n",
    "opts = {'mode': 'adadelta', 'maxiter': 20, 'verbose': True, 'batch_size': 50, \n",
    "        'step_rate': .3, 'print_freq':1}\n",
    "batch_res = ad_gp.fit(x_tr, y_tr, inputs=inputs, optimizer_options=opts)"
   ]
  },
  {
   "cell_type": "code",
   "execution_count": 25,
   "metadata": {
    "collapsed": false
   },
   "outputs": [
    {
     "data": {
      "text/plain": [
       "<matplotlib.text.Text at 0x10e6eb588>"
      ]
     },
     "execution_count": 25,
     "metadata": {},
     "output_type": "execute_result"
    },
    {
     "data": {
      "image/png": "[encoded data removed]",
      "text/plain": [
       "<matplotlib.figure.Figure at 0x10dab0da0>"
      ]
     },
     "metadata": {},
     "output_type": "display_data"
    }
   ],
   "source": [
    "metric = lambda w: ad_gp.get_prediction_quality(w, x_test, y_test)\n",
    "svi_ad_x_lst, svi_ad_y_lst = batch_res.plot_performance(metric, 't', freq=1)\n",
    "plt.plot(svi_ad_x_lst[1:], svi_ad_y_lst[1:], '-yx', label='svi-AdaDelta-c')\n",
    "plt.ylim([0.7, 1.])\n",
    "plt.legend()\n",
    "plt.xlabel('Seconds')\n",
    "plt.ylabel('Accuracy')"
   ]
  },
  {
   "cell_type": "markdown",
   "metadata": {},
   "source": [
    "## Выводы"
   ]
  },
  {
   "cell_type": "code",
   "execution_count": 35,
   "metadata": {
    "collapsed": false
   },
   "outputs": [
    {
     "data": {
      "text/plain": [
       "<matplotlib.text.Text at 0x10e3b79e8>"
      ]
     },
     "execution_count": 35,
     "metadata": {},
     "output_type": "execute_result"
    },
    {
     "data": {
      "image/png": "[encoded data removed]",
      "text/plain": [
       "<matplotlib.figure.Figure at 0x10db5ada0>"
      ]
     },
     "metadata": {},
     "output_type": "display_data"
    }
   ],
   "source": [
    "plt.figure(figsize=(12, 7))\n",
    "plt.plot(svi_x_lst[1:], svi_y_lst[1:], '-gx', label='svi-L-BFGS-B-c')\n",
    "plt.plot(svi_ad_x_lst[1:], svi_ad_y_lst[1:], '-yx', label='svi-AdaDelta-c')\n",
    "plt.plot(vi_x_lst[1:], vi_y_lst[1:], '-bx', label='vi-means-c')\n",
    "plt.ylim([0.7, 1.])\n",
    "plt.legend()\n",
    "plt.xlabel('Seconds')\n",
    "plt.ylabel('Accuracy')"
   ]
  },
  {
   "cell_type": "code",
   "execution_count": 53,
   "metadata": {
    "collapsed": true
   },
   "outputs": [],
   "source": [
    "np.save('../plots/vi_vs_svi_class/'+ data_name +'_svi_x.npy', svi_x_lst)\n",
    "np.save('../plots/vi_vs_svi_class/'+ data_name +'_svi_y.npy', svi_y_lst)\n",
    "np.save('../plots/vi_vs_svi_class/'+ data_name +'_vi_x.npy', vi_x_lst)\n",
    "np.save('../plots/vi_vs_svi_class/'+ data_name +'_vi_y.npy', vi_y_lst)\n",
    "np.save('../plots/vi_vs_svi_class/'+ data_name +'_ad_x.npy', svi_ad_x_lst)\n",
    "np.save('../plots/vi_vs_svi_class/'+ data_name +'_ad_y.npy', svi_ad_y_lst)"
   ]
  },
  {
   "cell_type": "code",
   "execution_count": null,
   "metadata": {
    "collapsed": true
   },
   "outputs": [],
   "source": []
  }
 ],
 "metadata": {
  "kernelspec": {
   "display_name": "Python 3",
   "language": "python",
   "name": "python3"
  },
  "language_info": {
   "codemirror_mode": {
    "name": "ipython",
    "version": 3
   },
   "file_extension": ".py",
   "mimetype": "text/x-python",
   "name": "python",
   "nbconvert_exporter": "python",
   "pygments_lexer": "ipython3",
   "version": "3.4.3"
  }
 },
 "nbformat": 4,
 "nbformat_minor": 0
}
