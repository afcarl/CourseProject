{
 "cells": [
  {
   "cell_type": "markdown",
   "metadata": {},
   "source": [
    "# Mushrooms"
   ]
  },
  {
   "cell_type": "code",
   "execution_count": 1,
   "metadata": {
    "collapsed": false
   },
   "outputs": [],
   "source": [
    "import sys\n",
    "sys.path.append('/Users/IzmailovPavel/Documents/Education/Course Project/Code')\n",
    "import numpy as np\n",
    "import matplotlib as mpl\n",
    "\n",
    "from matplotlib import pyplot as plt\n",
    "\n",
    "from GP.covariance_functions import SquaredExponential\n",
    "from GP.gaussian_process_classification import GPC\n",
    "\n",
    "from sklearn.cluster import KMeans\n",
    "\n",
    "from vi_svi_class_experiments import run_methods\n",
    "from sklearn.datasets import load_svmlight_file\n",
    "from sklearn.preprocessing import StandardScaler\n",
    "from sklearn.utils import shuffle\n",
    "%matplotlib inline\n",
    "%load_ext autoreload\n",
    "%autoreload 2"
   ]
  },
  {
   "cell_type": "markdown",
   "metadata": {},
   "source": [
    "## Данные"
   ]
  },
  {
   "cell_type": "code",
   "execution_count": 7,
   "metadata": {
    "collapsed": false
   },
   "outputs": [
    {
     "name": "stdout",
     "output_type": "stream",
     "text": [
      "of objects: 6499\n",
      "of features: 112\n",
      "mushrooms\n"
     ]
    }
   ],
   "source": [
    "x_tr, y_tr = load_svmlight_file('../../../../Programming/DataSets\\\n",
    "/Classification/mushrooms(8124,112).txt')\n",
    "x_tr, y_tr = shuffle(x_tr, y_tr, random_state=241)\n",
    "y_tr[y_tr == 2] = -1\n",
    "# exit(0)\n",
    "data_name = 'mushrooms'\n",
    "\n",
    "x_tr = x_tr.T\n",
    "x_tr = x_tr.toarray()\n",
    "scaler = StandardScaler()\n",
    "x_tr = scaler.fit_transform(x_tr)\n",
    "\n",
    "x_tr = (x_tr + 1) / 2\n",
    "y_tr = y_tr.reshape((y_tr.size, 1))\n",
    "x_test = x_tr[:, int(x_tr.shape[1] * 0.8):]\n",
    "y_test = y_tr[int(x_tr.shape[1] * 0.8):, :]\n",
    "y_tr = y_tr[:int(x_tr.shape[1] * 0.8), :]\n",
    "x_tr = x_tr[:, : int(x_tr.shape[1] * 0.8)]\n",
    "dim, num = x_tr.shape\n",
    "print('of objects:', num)\n",
    "print('of features:', dim)\n",
    "print(data_name)"
   ]
  },
  {
   "cell_type": "markdown",
   "metadata": {},
   "source": [
    "## K-Means cluster centers"
   ]
  },
  {
   "cell_type": "code",
   "execution_count": 15,
   "metadata": {
    "collapsed": false
   },
   "outputs": [
    {
     "name": "stdout",
     "output_type": "stream",
     "text": [
      "Finding means...\n",
      "...found\n"
     ]
    }
   ],
   "source": [
    "ind_num = 50\n",
    "print('Finding means...')\n",
    "means = KMeans(n_clusters=ind_num, n_init=3, max_iter=100, random_state=241)\n",
    "means.fit(x_tr.T)\n",
    "inputs = means.cluster_centers_.T\n",
    "print('...found')"
   ]
  },
  {
   "cell_type": "code",
   "execution_count": 16,
   "metadata": {
    "collapsed": true
   },
   "outputs": [],
   "source": [
    "cov_params = np.array([2., 1., 1.])"
   ]
  },
  {
   "cell_type": "markdown",
   "metadata": {},
   "source": [
    "## svi-L-BFGS-B-c method"
   ]
  },
  {
   "cell_type": "code",
   "execution_count": 17,
   "metadata": {
    "collapsed": true
   },
   "outputs": [],
   "source": [
    "model_covariance_obj = SquaredExponential(np.copy(cov_params))\n",
    "svi_gp = GPC(model_covariance_obj, method='svi')"
   ]
  },
  {
   "cell_type": "code",
   "execution_count": 21,
   "metadata": {
    "collapsed": false
   },
   "outputs": [],
   "source": [
    "opts = {'mode': 'full', 'maxiter': 20, 'mydisp': False}\n",
    "svi_res = svi_gp.fit(x_tr, y_tr, inputs=inputs, optimizer_options=opts)"
   ]
  },
  {
   "cell_type": "code",
   "execution_count": 22,
   "metadata": {
    "collapsed": false
   },
   "outputs": [],
   "source": [
    "metric = lambda w: svi_gp.get_prediction_quality(w, x_test, y_test)\n",
    "svi_x_lst, svi_y_lst = svi_res.plot_performance(metric, 't', freq=1)"
   ]
  },
  {
   "cell_type": "code",
   "execution_count": 25,
   "metadata": {
    "collapsed": false
   },
   "outputs": [
    {
     "data": {
      "text/plain": [
       "<matplotlib.text.Text at 0x10d8f5e48>"
      ]
     },
     "execution_count": 25,
     "metadata": {},
     "output_type": "execute_result"
    },
    {
     "data": {
      "image/png": "[encoded data removed]",
      "text/plain": [
       "<matplotlib.figure.Figure at 0x10d8ec828>"
      ]
     },
     "metadata": {},
     "output_type": "display_data"
    }
   ],
   "source": [
    "plt.plot(svi_x_lst[1:], svi_y_lst[1:], '-gx', label='svi-L-BFGS-B-c')\n",
    "plt.ylim([0.8, 1.02])\n",
    "plt.legend()\n",
    "plt.xlabel('Seconds')\n",
    "plt.ylabel('Accuracy')"
   ]
  },
  {
   "cell_type": "markdown",
   "metadata": {},
   "source": [
    "## vi-means-c method"
   ]
  },
  {
   "cell_type": "code",
   "execution_count": 27,
   "metadata": {
    "collapsed": false
   },
   "outputs": [],
   "source": [
    "model_covariance_obj = SquaredExponential(np.copy(cov_params))\n",
    "vi_gp = GPC(model_covariance_obj, method='vi')"
   ]
  },
  {
   "cell_type": "code",
   "execution_count": 49,
   "metadata": {
    "collapsed": false
   },
   "outputs": [
    {
     "name": "stdout",
     "output_type": "stream",
     "text": [
      "Hyper-parameters at iteration 0 : [  1.23719035e+02   1.58614383e+02   1.00000000e-02]\n",
      "Hyper-parameters at iteration 1 : [  1.25820394e+02   1.57101348e+02   1.00000000e-02]\n",
      "Hyper-parameters at iteration 2 : [  1.36486631e+02   1.50819247e+02   1.00000000e-02]\n",
      "Hyper-parameters at iteration 3 : [  1.40287483e+02   1.49741787e+02   1.00000000e-02]\n",
      "Hyper-parameters at iteration 4 : [  1.41438696e+02   1.49495042e+02   1.00000000e-02]\n",
      "Hyper-parameters at iteration 5 : [  1.41438935e+02   1.49495133e+02   1.00000000e-02]\n",
      "Hyper-parameters at iteration 6 : [  1.41493239e+02   1.49494700e+02   1.00000000e-02]\n",
      "Hyper-parameters at iteration 7 : [  1.41493239e+02   1.49494700e+02   1.00000000e-02]\n",
      "\tHyper-parameters at outter iteration 0 : [  1.41493239e+02   1.49494700e+02   1.00000000e-02]\n",
      "Hyper-parameters at iteration 0 : [  1.41493239e+02   1.49494700e+02   1.00000000e-02]\n",
      "Hyper-parameters at iteration 1 : [  1.41139282e+02   1.50115132e+02   1.00000000e-02]\n",
      "Hyper-parameters at iteration 2 : [  1.40339197e+02   1.51510866e+02   1.00000000e-02]\n",
      "Hyper-parameters at iteration 3 : [  1.38512329e+02   1.54699376e+02   1.00000000e-02]\n",
      "Hyper-parameters at iteration 4 : [  1.38512358e+02   1.54699329e+02   1.00000000e-02]\n",
      "Hyper-parameters at iteration 5 : [  1.38512358e+02   1.54699329e+02   1.00000000e-02]\n",
      "\tHyper-parameters at outter iteration 1 : [  1.38512358e+02   1.54699329e+02   1.00000000e-02]\n",
      "Hyper-parameters at iteration 0 : [  1.38512358e+02   1.54699329e+02   1.00000000e-02]\n",
      "Hyper-parameters at iteration 1 : [  1.38512358e+02   1.54699329e+02   1.00000000e-02]\n",
      "\tHyper-parameters at outter iteration 2 : [  1.38512358e+02   1.54699329e+02   1.00000000e-02]\n",
      "Hyper-parameters at iteration 0 : [  1.38512358e+02   1.54699329e+02   1.00000000e-02]\n",
      "Hyper-parameters at iteration 1 : [  1.38137541e+02   1.55154375e+02   1.00000000e-02]\n",
      "Hyper-parameters at iteration 2 : [  1.33062897e+02   1.61319791e+02   1.00000000e-02]\n",
      "Hyper-parameters at iteration 3 : [  1.33796053e+02   1.60429467e+02   1.00000000e-02]\n",
      "Hyper-parameters at iteration 4 : [  1.34137771e+02   1.60021748e+02   1.00000000e-02]\n",
      "Hyper-parameters at iteration 5 : [  1.34115418e+02   1.60050609e+02   1.00000000e-02]\n",
      "Hyper-parameters at iteration 6 : [  1.34119398e+02   1.60047687e+02   1.00000000e-02]\n",
      "Hyper-parameters at iteration 7 : [  1.34119398e+02   1.60047687e+02   1.00000000e-02]\n",
      "\tHyper-parameters at outter iteration 3 : [  1.34119398e+02   1.60047687e+02   1.00000000e-02]\n",
      "Hyper-parameters at iteration 0 : [  1.34119398e+02   1.60047687e+02   1.00000000e-02]\n",
      "Hyper-parameters at iteration 1 : [  1.34037235e+02   1.60270073e+02   1.00000000e-02]\n",
      "\tHyper-parameters at outter iteration 4 : [  1.34037235e+02   1.60270073e+02   1.00000000e-02]\n"
     ]
    }
   ],
   "source": [
    "opts = {'maxiter':7, 'mydisp': True}\n",
    "vi_res = vi_gp.fit(x_tr, y_tr, inputs=inputs, optimizer_options=opts, max_out_iter=5)"
   ]
  },
  {
   "cell_type": "code",
   "execution_count": 50,
   "metadata": {
    "collapsed": true
   },
   "outputs": [],
   "source": [
    "metric = lambda w: vi_gp.get_prediction_quality(w, x_test, y_test)\n",
    "vi_x_lst, vi_y_lst = vi_res.plot_performance(metric, 't', freq=1)"
   ]
  },
  {
   "cell_type": "code",
   "execution_count": 51,
   "metadata": {
    "collapsed": false
   },
   "outputs": [
    {
     "data": {
      "text/plain": [
       "<matplotlib.text.Text at 0x112e95a90>"
      ]
     },
     "execution_count": 51,
     "metadata": {},
     "output_type": "execute_result"
    },
    {
     "data": {
      "image/png": "[encoded data removed]",
      "text/plain": [
       "<matplotlib.figure.Figure at 0x10db96a58>"
      ]
     },
     "metadata": {},
     "output_type": "display_data"
    }
   ],
   "source": [
    "plt.plot(vi_x_lst[1:], vi_y_lst[1:], '-bx', label='vi-means-c')\n",
    "# plt.plot(svi_x_lst[1:100], svi_y_lst[1:100], '-gx', label='svi-L-BFGS-B-c')\n",
    "plt.ylim([0.8, 1.02])\n",
    "plt.legend()\n",
    "plt.xlabel('Seconds')\n",
    "plt.ylabel('Accuracy')"
   ]
  },
  {
   "cell_type": "markdown",
   "metadata": {},
   "source": [
    "## svi-AdaDelta-c\n",
    "Подберем шаг для метода"
   ]
  },
  {
   "cell_type": "code",
   "execution_count": 32,
   "metadata": {
    "collapsed": false
   },
   "outputs": [],
   "source": [
    "results = []\n",
    "steps = [1., 0.5, 0.3, 0.1, 0.01]\n",
    "for step in steps:\n",
    "    model_covariance_obj = SquaredExponential(np.copy(cov_params))\n",
    "    ad_gp = GPC(model_covariance_obj, method='svi', hermgauss_deg=100)\n",
    "\n",
    "    opts = {'mode': 'adadelta', 'maxiter': 5, 'verbose': False, 'batch_size': 50, \n",
    "            'step_rate': step}#, 'print_freq':50}\n",
    "    batch_res = ad_gp.fit(x_tr, y_tr, inputs=inputs, optimizer_options=opts)\n",
    "    results.append(batch_res)"
   ]
  },
  {
   "cell_type": "code",
   "execution_count": 35,
   "metadata": {
    "collapsed": false
   },
   "outputs": [
    {
     "name": "stdout",
     "output_type": "stream",
     "text": [
      "0\n",
      "1\n",
      "2\n",
      "3\n",
      "4\n"
     ]
    },
    {
     "data": {
      "text/plain": [
       "<matplotlib.text.Text at 0x10d6533c8>"
      ]
     },
     "execution_count": 35,
     "metadata": {},
     "output_type": "execute_result"
    },
    {
     "data": {
      "image/png": "[encoded data removed]",
      "text/plain": [
       "<matplotlib.figure.Figure at 0x110153208>"
      ]
     },
     "metadata": {},
     "output_type": "display_data"
    }
   ],
   "source": [
    "metric = lambda w: ad_gp.get_prediction_quality(w, x_test, y_test)\n",
    "for i in range(len(results)):\n",
    "    svi_ad_x_lst, svi_ad_y_lst = results[i].plot_performance(metric, 't', freq=1)\n",
    "    plt.plot(svi_ad_x_lst[1:], svi_ad_y_lst[1:], label=steps[i])\n",
    "    print(i)\n",
    "plt.ylim([0.97, 1.])\n",
    "plt.legend()\n",
    "plt.xlabel('Seconds')\n",
    "plt.ylabel('Accuracy')"
   ]
  },
  {
   "cell_type": "code",
   "execution_count": 36,
   "metadata": {
    "collapsed": false
   },
   "outputs": [
    {
     "name": "stdout",
     "output_type": "stream",
     "text": [
      "Iteration  129 :\n",
      "\tGradient norm 1.08949024817\n",
      "Iteration  258 :\n",
      "\tGradient norm 0.791558643679\n",
      "Iteration  387 :\n",
      "\tGradient norm 0.634559055699\n",
      "Iteration  516 :\n",
      "\tGradient norm 0.817936159442\n",
      "Iteration  645 :\n",
      "\tGradient norm 0.551689501616\n",
      "Iteration  774 :\n",
      "\tGradient norm 0.552114259728\n",
      "Iteration  903 :\n",
      "\tGradient norm 1.80968885872\n",
      "Iteration  1032 :\n",
      "\tGradient norm 0.339629376675\n",
      "Iteration  1161 :\n",
      "\tGradient norm 0.493524677532\n",
      "Iteration  1290 :\n",
      "\tGradient norm 0.831290466513\n"
     ]
    }
   ],
   "source": [
    "model_covariance_obj = SquaredExponential(np.copy(cov_params))\n",
    "ad_gp = GPC(model_covariance_obj, method='svi', hermgauss_deg=100)\n",
    "opts = {'mode': 'adadelta', 'maxiter': 10, 'verbose': True, 'batch_size': 50, \n",
    "        'step_rate': 1., 'print_freq':1}\n",
    "batch_res = ad_gp.fit(x_tr, y_tr, inputs=inputs, optimizer_options=opts)"
   ]
  },
  {
   "cell_type": "code",
   "execution_count": 37,
   "metadata": {
    "collapsed": false
   },
   "outputs": [
    {
     "data": {
      "text/plain": [
       "<matplotlib.text.Text at 0x103ca3b70>"
      ]
     },
     "execution_count": 37,
     "metadata": {},
     "output_type": "execute_result"
    },
    {
     "data": {
      "image/png": "[encoded data removed]",
      "text/plain": [
       "<matplotlib.figure.Figure at 0x110145c18>"
      ]
     },
     "metadata": {},
     "output_type": "display_data"
    }
   ],
   "source": [
    "metric = lambda w: ad_gp.get_prediction_quality(w, x_test, y_test)\n",
    "svi_ad_x_lst, svi_ad_y_lst = batch_res.plot_performance(metric, 't', freq=1)\n",
    "plt.plot(svi_ad_x_lst[1:], svi_ad_y_lst[1:], '-yx', label='svi-AdaDelta-c')\n",
    "plt.ylim([0.97, 1.])\n",
    "plt.legend()\n",
    "plt.xlabel('Seconds')\n",
    "plt.ylabel('Accuracy')"
   ]
  },
  {
   "cell_type": "markdown",
   "metadata": {},
   "source": [
    "## Выводы"
   ]
  },
  {
   "cell_type": "code",
   "execution_count": 52,
   "metadata": {
    "collapsed": false
   },
   "outputs": [
    {
     "data": {
      "text/plain": [
       "<matplotlib.text.Text at 0x10d775cc0>"
      ]
     },
     "execution_count": 52,
     "metadata": {},
     "output_type": "execute_result"
    },
    {
     "data": {
      "image/png": "[encoded data removed]",
      "text/plain": [
       "<matplotlib.figure.Figure at 0x112e95630>"
      ]
     },
     "metadata": {},
     "output_type": "display_data"
    }
   ],
   "source": [
    "plt.figure(figsize=(12, 7))\n",
    "plt.plot(svi_x_lst[1:], svi_y_lst[1:], '-gx', label='svi-L-BFGS-B-c')\n",
    "plt.plot(svi_ad_x_lst[1:], svi_ad_y_lst[1:], '-yx', label='svi-AdaDelta-c')\n",
    "plt.plot(vi_x_lst[1:], vi_y_lst[1:], '-bx', label='vi-means-c')\n",
    "plt.ylim([0.8, 1.])\n",
    "plt.legend()\n",
    "plt.xlabel('Seconds')\n",
    "plt.ylabel('Accuracy')"
   ]
  },
  {
   "cell_type": "code",
   "execution_count": 53,
   "metadata": {
    "collapsed": true
   },
   "outputs": [],
   "source": [
    "np.save('../plots/vi_vs_svi_class/'+ data_name +'_svi_x.npy', svi_x_lst)\n",
    "np.save('../plots/vi_vs_svi_class/'+ data_name +'_svi_y.npy', svi_y_lst)\n",
    "np.save('../plots/vi_vs_svi_class/'+ data_name +'_vi_x.npy', vi_x_lst)\n",
    "np.save('../plots/vi_vs_svi_class/'+ data_name +'_vi_y.npy', vi_y_lst)\n",
    "np.save('../plots/vi_vs_svi_class/'+ data_name +'_ad_x.npy', svi_ad_x_lst)\n",
    "np.save('../plots/vi_vs_svi_class/'+ data_name +'_ad_y.npy', svi_ad_y_lst)"
   ]
  },
  {
   "cell_type": "code",
   "execution_count": null,
   "metadata": {
    "collapsed": true
   },
   "outputs": [],
   "source": []
  }
 ],
 "metadata": {
  "kernelspec": {
   "display_name": "Python 3",
   "language": "python",
   "name": "python3"
  },
  "language_info": {
   "codemirror_mode": {
    "name": "ipython",
    "version": 3
   },
   "file_extension": ".py",
   "mimetype": "text/x-python",
   "name": "python",
   "nbconvert_exporter": "python",
   "pygments_lexer": "ipython3",
   "version": "3.4.3"
  }
 },
 "nbformat": 4,
 "nbformat_minor": 0
}
