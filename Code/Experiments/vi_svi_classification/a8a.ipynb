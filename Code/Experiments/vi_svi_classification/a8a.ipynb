{
 "cells": [
  {
   "cell_type": "markdown",
   "metadata": {},
   "source": [
    "# Magic Gamma Telescope"
   ]
  },
  {
   "cell_type": "code",
   "execution_count": 1,
   "metadata": {
    "collapsed": false
   },
   "outputs": [],
   "source": [
    "import sys\n",
    "sys.path.append('/Users/IzmailovPavel/Documents/Education/Course Project/Code')\n",
    "import numpy as np\n",
    "import matplotlib as mpl\n",
    "\n",
    "from matplotlib import pyplot as plt\n",
    "\n",
    "from GP.covariance_functions import SquaredExponential\n",
    "from GP.gaussian_process_classification import GPC\n",
    "\n",
    "from sklearn.cluster import KMeans\n",
    "\n",
    "from vi_svi_class_experiments import run_methods\n",
    "from sklearn.datasets import load_svmlight_file\n",
    "from sklearn.preprocessing import StandardScaler\n",
    "from sklearn.utils import shuffle\n",
    "%matplotlib inline\n",
    "%load_ext autoreload\n",
    "%autoreload 2"
   ]
  },
  {
   "cell_type": "markdown",
   "metadata": {},
   "source": [
    "\n",
    "## Данные"
   ]
  },
  {
   "cell_type": "code",
   "execution_count": 3,
   "metadata": {
    "collapsed": false
   },
   "outputs": [
    {
     "name": "stdout",
     "output_type": "stream",
     "text": [
      "18156 123\n",
      "a8a\n"
     ]
    }
   ],
   "source": [
    "x_tr, y_tr = load_svmlight_file('../../../../Programming/DataSets/Classification/a8a(22606,123).txt')\n",
    "x_tr, y_tr = shuffle(x_tr, y_tr, random_state=241)\n",
    "data_name = 'a8a'\n",
    "file_name = data_name\n",
    "\n",
    "x_tr = x_tr.toarray()\n",
    "scaler = StandardScaler()\n",
    "x_tr = scaler.fit_transform(x_tr).T\n",
    "\n",
    "x_tr = (x_tr + 1) / 2\n",
    "y_tr = y_tr.reshape((y_tr.size, 1))\n",
    "x_test = x_tr[:, int(x_tr.shape[1] * 0.8):]\n",
    "y_test = y_tr[int(x_tr.shape[1] * 0.8):, :]\n",
    "y_tr = y_tr[:int(x_tr.shape[1] * 0.8), :]\n",
    "x_tr = x_tr[:, : int(x_tr.shape[1] * 0.8)]\n",
    "dim, num = x_tr.shape\n",
    "print(num, dim)\n",
    "print(data_name)"
   ]
  },
  {
   "cell_type": "markdown",
   "metadata": {},
   "source": [
    "## K-Means cluster centers"
   ]
  },
  {
   "cell_type": "code",
   "execution_count": 4,
   "metadata": {
    "collapsed": false
   },
   "outputs": [
    {
     "name": "stdout",
     "output_type": "stream",
     "text": [
      "Finding means...\n",
      "...found\n"
     ]
    }
   ],
   "source": [
    "ind_num = 300\n",
    "print('Finding means...')\n",
    "means = KMeans(n_clusters=ind_num, n_init=3, max_iter=100, random_state=241)\n",
    "means.fit(x_tr.T)\n",
    "inputs = means.cluster_centers_.T\n",
    "print('...found')"
   ]
  },
  {
   "cell_type": "code",
   "execution_count": 5,
   "metadata": {
    "collapsed": true
   },
   "outputs": [],
   "source": [
    "with open('../plots/vi_vs_svi_class/'+ data_name +'_title.txt', 'w') as f:\n",
    "    title = data_name + ' dataset, ' + 'n = ' + str(num) + ', d = ' + str(dim) + ', m = ' + str(ind_num)\n",
    "    f.write(title)"
   ]
  },
  {
   "cell_type": "code",
   "execution_count": 6,
   "metadata": {
    "collapsed": true
   },
   "outputs": [],
   "source": [
    "cov_params = np.array([30., 20. , .01])"
   ]
  },
  {
   "cell_type": "markdown",
   "metadata": {},
   "source": [
    "## svi-L-BFGS-B-c method"
   ]
  },
  {
   "cell_type": "code",
   "execution_count": 5,
   "metadata": {
    "collapsed": true
   },
   "outputs": [],
   "source": [
    "model_covariance_obj = SquaredExponential(np.copy(cov_params))\n",
    "svi_gp = GPC(model_covariance_obj, method='svi')"
   ]
  },
  {
   "cell_type": "code",
   "execution_count": 19,
   "metadata": {
    "collapsed": true
   },
   "outputs": [
    {
     "name": "stdout",
     "output_type": "stream",
     "text": [
      "Hyper-parameters at iteration 0 : [  4.49115541e+01   7.07856867e+01   1.00000000e-02   0.00000000e+00\n",
      "   0.00000000e+00]\n",
      "Hyper-parameters at iteration 1 : [  4.50111035e+01   7.07783097e+01   1.14229528e-01  -8.10350600e-05\n",
      "  -5.29285254e-03]\n",
      "Hyper-parameters at iteration 2 : [  4.50224171e+01   7.07774775e+01   1.26478169e-01  -9.39631334e-05\n",
      "  -5.90267059e-03]\n",
      "Hyper-parameters at iteration 3 : [  4.50616791e+01   7.07746071e+01   1.69936126e-01  -1.56159649e-04\n",
      "  -8.05472677e-03]\n",
      "Hyper-parameters at iteration 4 : [  4.50950422e+01   7.07721987e+01   2.08610739e-01  -2.43638481e-04\n",
      "  -9.95165369e-03]\n",
      "Hyper-parameters at iteration 5 : [  4.51362301e+01   7.07692947e+01   2.60400688e-01  -4.39250286e-04\n",
      "  -1.24570246e-02]\n",
      "Hyper-parameters at iteration 6 : [  4.51737152e+01   7.07668003e+01   3.16096983e-01  -8.18552132e-04\n",
      "  -1.50946771e-02]\n",
      "Hyper-parameters at iteration 7 : [  4.52005226e+01   7.07653607e+01   3.75043491e-01  -1.57580189e-03\n",
      "  -1.78080069e-02]\n",
      "Hyper-parameters at iteration 8 : [  4.52032796e+01   7.07661188e+01   4.29497875e-01  -2.95618626e-03\n",
      "  -2.02487722e-02]\n",
      "Hyper-parameters at iteration 9 : [  4.51694136e+01   7.07703214e+01   4.78939672e-01  -5.46491066e-03\n",
      "  -2.25047411e-02]\n",
      "Hyper-parameters at iteration 10 : [  4.50662841e+01   7.07813681e+01   5.30011750e-01  -1.06715284e-02\n",
      "  -2.52549680e-02]\n",
      "Hyper-parameters at iteration 11 : [  4.48283560e+01   7.08058628e+01   5.74066501e-01  -2.15853702e-02\n",
      "  -2.95402938e-02]\n",
      "Hyper-parameters at iteration 12 : [  4.44345872e+01   7.08469955e+01   5.75275030e-01  -4.19637408e-02\n",
      "  -3.95744985e-02]\n",
      "Hyper-parameters at iteration 13 : [ 44.15159607  70.94025156   0.55332651  -0.18292885  -0.23368076]\n",
      "Hyper-parameters at iteration 14 : [ 44.0416128   71.0192953    0.42661767  -0.35392014  -0.45661253]\n",
      "Hyper-parameters at iteration 15 : [ 44.46098479  71.10281391   0.2845422   -0.64074124  -0.85483729]\n",
      "Hyper-parameters at iteration 16 : [ 44.48368195  71.08710044   0.38350523  -0.60700956  -0.80860787]\n",
      "Hyper-parameters at iteration 17 : [ 44.22049375  71.16554123   0.43812211  -0.81405961  -1.01665129]\n",
      "Hyper-parameters at iteration 18 : [ 44.11243973  71.31225151   0.4857232   -1.29388645  -1.52839425]\n",
      "Hyper-parameters at iteration 19 : [ 43.99816588  71.48674512   0.5000112   -1.80111515  -2.02193947]\n",
      "Hyper-parameters at iteration 20 : [ 43.76681335  71.97963569   0.54248244  -2.99585614  -3.23703584]\n",
      "Hyper-parameters at iteration 21 : [ 43.13721308  72.24754871   0.41980413  -3.56513045  -3.54408345]\n",
      "Hyper-parameters at iteration 22 : [ 43.37524504  72.1988293    0.4687241   -3.36198985  -3.45953091]\n",
      "Hyper-parameters at iteration 23 : [ 43.37935849  72.17864145   0.43702103  -3.270995    -3.37121974]\n",
      "Hyper-parameters at iteration 24 : [ 43.24283095  72.17552775   0.28309727  -3.0670888   -3.14163337]\n",
      "Hyper-parameters at iteration 25 : [ 43.2428549   72.18397859   0.32845731  -3.16128546  -3.23035673]\n",
      "Hyper-parameters at iteration 26 : [ 43.20329759  72.20500392   0.31428548  -3.18704922  -3.25227346]\n",
      "Hyper-parameters at iteration 27 : [ 42.94998114  72.38693728   0.27895523  -3.44409942  -3.49017461]\n",
      "Hyper-parameters at iteration 28 : [ 42.76792922  72.48817057   0.32192554  -3.55262543  -3.56906301]\n",
      "Hyper-parameters at iteration 29 : [ 42.72578313  72.54269286   0.32347821  -3.68702032  -3.70583669]\n",
      "Hyper-parameters at iteration 30 : [ 42.63166493  72.62933747   0.31468985  -3.8209039   -3.84220374]\n",
      "Hyper-parameters at iteration 31 : [ 42.42813007  72.66649906   0.29958188  -3.67071429  -3.69546668]\n",
      "Hyper-parameters at iteration 32 : [ 41.8596818   73.17164261   0.26039351  -4.28965446  -4.32579586]\n",
      "Hyper-parameters at iteration 33 : [ 42.09639838  73.0076878    0.29494828  -4.06511534  -4.15999376]\n",
      "Hyper-parameters at iteration 34 : [ 42.10716687  72.97001639   0.2911545   -3.9919247   -4.07496403]\n",
      "Hyper-parameters at iteration 35 : [ 42.05704597  73.01477988   0.25955269  -4.07836865  -4.16376044]\n",
      "Hyper-parameters at iteration 36 : [ 42.00236346  73.04839409   0.25170683  -4.07029219  -4.17020649]\n",
      "Hyper-parameters at iteration 37 : [ 41.89905256  73.08731941   0.19455067  -3.97576571  -4.14774776]\n",
      "Hyper-parameters at iteration 38 : [ 41.59210279  73.33847837   0.18643435  -4.19864851  -4.44505576]\n",
      "Hyper-parameters at iteration 39 : [ 41.38856883  73.47017275   0.18813934  -4.33341901  -4.59365852]\n",
      "Hyper-parameters at iteration 40 : [ 41.43790528  73.44483327   0.18831611  -4.33416307  -4.58805449]\n",
      "Hyper-parameters at iteration 41 : [ 41.4020264   73.49333684   0.16637055  -4.40596874  -4.67113503]\n",
      "Hyper-parameters at iteration 42 : [ 41.37695536  73.50870177   0.15291277  -4.40551572  -4.68614463]\n",
      "Hyper-parameters at iteration 43 : [ 41.26943724  73.57085678   0.13433177  -4.40657264  -4.73783215]\n",
      "Hyper-parameters at iteration 44 : [ 41.35033287  73.50596767   0.14768433  -4.31529792  -4.66057519]\n",
      "Hyper-parameters at iteration 45 : [ 41.30029168  73.54555394   0.1478043   -4.36265677  -4.71031739]\n",
      "Hyper-parameters at iteration 46 : [ 41.20086445  73.61836115   0.13300981  -4.41463749  -4.79377354]\n",
      "Hyper-parameters at iteration 47 : [ 41.16880118  73.64840712   0.11566603  -4.46063176  -4.84436491]\n",
      "Hyper-parameters at iteration 48 : [ 41.18207345  73.65155147   0.12277669  -4.48491135  -4.86543598]\n",
      "Hyper-parameters at iteration 49 : [ 41.17643748  73.64871543   0.11846714  -4.47558616  -4.85522152]\n",
      "Hyper-parameters at iteration 50 : [ 41.09030583  73.70137818   0.09946461  -4.50328788  -4.90851469]\n",
      "Hyper-parameters at iteration 51 : [ 41.12691959  73.67142722   0.09645014  -4.47406559  -4.86790869]\n",
      "Hyper-parameters at iteration 52 : [ 41.11976093  73.67113086   0.10409027  -4.46048897  -4.85785473]\n",
      "Hyper-parameters at iteration 53 : [ 41.06951772  73.69297682   0.09982081  -4.44501061  -4.85978107]\n",
      "Hyper-parameters at iteration 54 : [ 41.06092038  73.70272869   0.09050729  -4.44790668  -4.87357498]\n",
      "Hyper-parameters at iteration 55 : [ 41.05474505  73.69883665   0.09292931  -4.42779746  -4.85777439]\n",
      "Hyper-parameters at iteration 56 : [ 41.05953315  73.69856342   0.08737769  -4.42260943  -4.85762361]\n",
      "Hyper-parameters at iteration 57 : [ 41.08066618  73.66833657   0.08750206  -4.37267543  -4.79849313]\n",
      "Hyper-parameters at iteration 58 : [  4.10388133e+01   7.37142052e+01   5.92829758e-02  -4.43106842e+00\n",
      "  -4.85523020e+00]\n",
      "Hyper-parameters at iteration 59 : [ 41.04084084  73.70349691   0.07666052  -4.41185783  -4.83636854]\n",
      "Hyper-parameters at iteration 60 : [  4.10304272e+01   7.37105754e+01   7.27989152e-02  -4.41478724e+00\n",
      "  -4.84239259e+00]\n",
      "Hyper-parameters at iteration 61 : [  4.10024818e+01   7.37286529e+01   6.00095225e-02  -4.42361413e+00\n",
      "  -4.85598106e+00]\n",
      "Hyper-parameters at iteration 62 : [  4.09958508e+01   7.37323323e+01   6.08541056e-02  -4.42437408e+00\n",
      "  -4.85561208e+00]\n",
      "Hyper-parameters at iteration 63 : [  4.09865289e+01   7.37294440e+01   6.31669956e-02  -4.40706846e+00\n",
      "  -4.83405521e+00]\n",
      "Hyper-parameters at iteration 64 : [  4.09595671e+01   7.37503635e+01   6.40824355e-02  -4.42311189e+00\n",
      "  -4.85088155e+00]\n",
      "Hyper-parameters at iteration 65 : [  4.09764322e+01   7.37389272e+01   6.58460275e-02  -4.41523010e+00\n",
      "  -4.84050041e+00]\n",
      "Hyper-parameters at iteration 66 : [  4.09783883e+01   7.37396313e+01   6.01903674e-02  -4.41582653e+00\n",
      "  -4.83900030e+00]\n",
      "Hyper-parameters at iteration 67 : [  4.09750519e+01   7.37410241e+01   5.82443021e-02  -4.41309734e+00\n",
      "  -4.83350592e+00]\n",
      "Hyper-parameters at iteration 68 : [  4.09469248e+01   7.37579604e+01   5.42490373e-02  -4.41647028e+00\n",
      "  -4.83581470e+00]\n",
      "Hyper-parameters at iteration 69 : [  4.08927366e+01   7.37913738e+01   4.48085948e-02  -4.42613598e+00\n",
      "  -4.84051599e+00]\n",
      "Hyper-parameters at iteration 70 : [  4.08541643e+01   7.38124664e+01   4.32009556e-02  -4.42580013e+00\n",
      "  -4.84628477e+00]\n",
      "Hyper-parameters at iteration 71 : [  4.08368829e+01   7.38257368e+01   3.93371645e-02  -4.43604153e+00\n",
      "  -4.85628614e+00]\n",
      "Hyper-parameters at iteration 72 : [  4.08190648e+01   7.38369480e+01   3.46560245e-02  -4.44023874e+00\n",
      "  -4.86276627e+00]\n",
      "Hyper-parameters at iteration 73 : [  4.08266965e+01   7.38333067e+01   4.00553928e-02  -4.43985604e+00\n",
      "  -4.85995694e+00]\n",
      "Hyper-parameters at iteration 74 : [  4.08321295e+01   7.38297094e+01   3.88942161e-02  -4.43752461e+00\n",
      "  -4.85583089e+00]\n",
      "Hyper-parameters at iteration 75 : [  4.08288290e+01   7.38319071e+01   3.75058805e-02  -4.43815796e+00\n",
      "  -4.85596458e+00]\n",
      "Hyper-parameters at iteration 76 : [  4.08182007e+01   7.38389360e+01   3.39228126e-02  -4.44057167e+00\n",
      "  -4.85656003e+00]\n",
      "Hyper-parameters at iteration 77 : [  4.08006067e+01   7.38502726e+01   2.98648530e-02  -4.44434231e+00\n",
      "  -4.86047538e+00]\n",
      "Hyper-parameters at iteration 78 : [  4.07689258e+01   7.38697446e+01   2.43951252e-02  -4.44997300e+00\n",
      "  -4.86885367e+00]\n",
      "Hyper-parameters at iteration 79 : [  4.07632809e+01   7.38735412e+01   2.23230896e-02  -4.45126216e+00\n",
      "  -4.87293058e+00]\n",
      "Hyper-parameters at iteration 80 : [  4.07409197e+01   7.38866448e+01   2.46109605e-02  -4.45662724e+00\n",
      "  -4.88337883e+00]\n",
      "Hyper-parameters at iteration 81 : [  4.07336343e+01   7.38906204e+01   2.55729554e-02  -4.45422922e+00\n",
      "  -4.88200026e+00]\n",
      "Hyper-parameters at iteration 82 : [  4.07282906e+01   7.38946514e+01   2.28509740e-02  -4.45718713e+00\n",
      "  -4.88545296e+00]\n",
      "Hyper-parameters at iteration 83 : [  4.06989013e+01   7.39141756e+01   1.62138000e-02  -4.46580276e+00\n",
      "  -4.89309954e+00]\n",
      "Hyper-parameters at iteration 84 : [  4.06881047e+01   7.39211999e+01   1.60538534e-02  -4.46940655e+00\n",
      "  -4.89710821e+00]\n",
      "Hyper-parameters at iteration 85 : [  4.06713267e+01   7.39312736e+01   1.29618100e-02  -4.47287070e+00\n",
      "  -4.90342705e+00]\n",
      "Hyper-parameters at iteration 86 : [  4.06561685e+01   7.39411488e+01   1.51658400e-02  -4.47766874e+00\n",
      "  -4.90903166e+00]\n",
      "Hyper-parameters at iteration 87 : [  4.06470948e+01   7.39472114e+01   1.25171548e-02  -4.48152207e+00\n",
      "  -4.91287425e+00]\n",
      "Hyper-parameters at iteration 88 : [  4.06419207e+01   7.39506597e+01   1.00000000e-02  -4.48395354e+00\n",
      "  -4.91432912e+00]\n",
      "Hyper-parameters at iteration 89 : [  4.06390797e+01   7.39524892e+01   1.00000000e-02  -4.48454360e+00\n",
      "  -4.91445938e+00]\n",
      "Hyper-parameters at iteration 90 : [  4.06350137e+01   7.39549366e+01   1.00000000e-02  -4.48519042e+00\n",
      "  -4.91526994e+00]\n",
      "Hyper-parameters at iteration 91 : [  4.06257265e+01   7.39607101e+01   1.00000000e-02  -4.48733651e+00\n",
      "  -4.91809968e+00]\n",
      "Hyper-parameters at iteration 92 : [  4.06140659e+01   7.39678777e+01   1.00000000e-02  -4.49001560e+00\n",
      "  -4.92245378e+00]\n",
      "Hyper-parameters at iteration 93 : [  4.05913657e+01   7.39820598e+01   1.00000000e-02  -4.49622257e+00\n",
      "  -4.92940631e+00]\n",
      "Hyper-parameters at iteration 94 : [  4.05562631e+01   7.40044763e+01   1.00000000e-02  -4.50431987e+00\n",
      "  -4.93797432e+00]\n",
      "Hyper-parameters at iteration 95 : [  4.05532302e+01   7.40062065e+01   1.00000000e-02  -4.50576344e+00\n",
      "  -4.94044344e+00]\n",
      "Hyper-parameters at iteration 96 : [  4.05389686e+01   7.40152546e+01   1.00000000e-02  -4.51047160e+00\n",
      "  -4.94553729e+00]\n",
      "Hyper-parameters at iteration 97 : [  4.05151672e+01   7.40303427e+01   1.00000000e-02  -4.51718776e+00\n",
      "  -4.95281755e+00]\n",
      "Hyper-parameters at iteration 98 : [  4.04883743e+01   7.40473226e+01   1.00000000e-02  -4.52431499e+00\n",
      "  -4.96057900e+00]\n",
      "Hyper-parameters at iteration 99 : [  4.04657183e+01   7.40616590e+01   1.00000000e-02  -4.53004076e+00\n",
      "  -4.96687310e+00]\n",
      "Hyper-parameters at iteration 100 : [  4.04566656e+01   7.40672962e+01   1.00000000e-02  -4.53162174e+00\n",
      "  -4.96884111e+00]\n",
      "Hyper-parameters at iteration 101 : [  4.04431467e+01   7.40758922e+01   1.00000000e-02  -4.53512955e+00\n",
      "  -4.97248479e+00]\n"
     ]
    }
   ],
   "source": [
    "opts = {'mode': 'full', 'maxiter': 100, 'mydisp': True}\n",
    "svi_res = svi_gp.fit(x_tr, y_tr, inputs=inputs, optimizer_options=opts)"
   ]
  },
  {
   "cell_type": "code",
   "execution_count": 20,
   "metadata": {
    "collapsed": false
   },
   "outputs": [],
   "source": [
    "metric = lambda w: svi_gp.get_prediction_quality(w, x_test, y_test)\n",
    "svi_x_lst, svi_y_lst = svi_res.plot_performance(metric, 't', freq=1)"
   ]
  },
  {
   "cell_type": "code",
   "execution_count": 21,
   "metadata": {
    "collapsed": false
   },
   "outputs": [
    {
     "data": {
      "text/plain": [
       "<matplotlib.text.Text at 0x105fc2320>"
      ]
     },
     "execution_count": 21,
     "metadata": {},
     "output_type": "execute_result"
    },
    {
     "data": {
      "image/png": "[encoded data removed]",
      "text/plain": [
       "<matplotlib.figure.Figure at 0x10dad7eb8>"
      ]
     },
     "metadata": {},
     "output_type": "display_data"
    }
   ],
   "source": [
    "plt.plot(svi_x_lst[1:], svi_y_lst[1:], '-gx', label='svi-L-BFGS-B-c')\n",
    "plt.ylim([0.7, 1.])\n",
    "plt.legend()\n",
    "plt.xlabel('Seconds')\n",
    "plt.ylabel('Accuracy')"
   ]
  },
  {
   "cell_type": "markdown",
   "metadata": {},
   "source": [
    "## vi-means-c method\n",
    "Подбор числа пересчетов"
   ]
  },
  {
   "cell_type": "code",
   "execution_count": 10,
   "metadata": {
    "collapsed": false
   },
   "outputs": [
    {
     "name": "stdout",
     "output_type": "stream",
     "text": [
      "5\n",
      "\n",
      "10\n",
      "\n",
      "15\n",
      "\n",
      "20\n",
      "\n"
     ]
    }
   ],
   "source": [
    "maxfuns = [5, 10, 15, 20]\n",
    "results = []\n",
    "for maxfun in maxfuns:\n",
    "    print(maxfun)\n",
    "    model_covariance_obj = SquaredExponential(np.copy(cov_params))\n",
    "    vi_gp = GPC(model_covariance_obj, method='vi')\n",
    "    opts = {'maxfun':maxfun, 'mydisp': False, 'num_updates':3}\n",
    "    results.append(vi_gp.fit(x_tr, y_tr, inputs=inputs, optimizer_options=opts, max_out_iter=10))\n",
    "    print()"
   ]
  },
  {
   "cell_type": "code",
   "execution_count": 12,
   "metadata": {
    "collapsed": false
   },
   "outputs": [
    {
     "name": "stdout",
     "output_type": "stream",
     "text": [
      "0\n",
      "1\n",
      "2\n",
      "3\n"
     ]
    },
    {
     "data": {
      "text/plain": [
       "<matplotlib.text.Text at 0x10d75c390>"
      ]
     },
     "execution_count": 12,
     "metadata": {},
     "output_type": "execute_result"
    },
    {
     "data": {
      "image/png": "[encoded data removed]",
      "text/plain": [
       "<matplotlib.figure.Figure at 0x10d4b0e48>"
      ]
     },
     "metadata": {},
     "output_type": "display_data"
    }
   ],
   "source": [
    "metric = lambda w: vi_gp.get_prediction_quality(w, x_test, y_test)\n",
    "for i in range(len(maxfuns)):\n",
    "    vi_x_lst, vi_y_lst = results[i].plot_performance(metric, 't', freq=1)\n",
    "    plt.plot(vi_x_lst[1:], vi_y_lst[1:], label=maxfuns[i])\n",
    "    print(i)\n",
    "plt.ylim([.7, .9])\n",
    "plt.legend()\n",
    "plt.xlabel('Seconds')\n",
    "plt.ylabel('Accuracy')"
   ]
  },
  {
   "cell_type": "markdown",
   "metadata": {},
   "source": [
    "Обучение лучшего варианта"
   ]
  },
  {
   "cell_type": "code",
   "execution_count": 7,
   "metadata": {
    "collapsed": true
   },
   "outputs": [
    {
     "name": "stdout",
     "output_type": "stream",
     "text": [
      "Hyper-parameters at iteration 0 : [  3.00000000e+01   2.00000000e+01   1.00000000e-02]\n",
      "Hyper-parameters at iteration 1 : [  1.30200492e+01   2.06624155e+02   1.00000000e-02]\n",
      "Hyper-parameters at iteration 2 : [  1.89029221e+01   2.07173909e+02   1.00000000e-02]\n",
      "\tHyper-parameters at outter iteration 0 : [  5.15256170e+01   2.62455685e+02   1.00000000e-02]\n",
      "Hyper-parameters at iteration 0 : [  5.15256170e+01   2.62455685e+02   1.00000000e-02]\n",
      "Hyper-parameters at iteration 1 : [  51.5262685   262.45615206    0.31188375]\n",
      "\tHyper-parameters at outter iteration 1 : [  5.15259492e+01   2.62455802e+02   1.56481493e-01]\n",
      "Hyper-parameters at iteration 0 : [  5.15259492e+01   2.62455802e+02   1.56481493e-01]\n",
      "Hyper-parameters at iteration 1 : [  5.17995799e+01   2.62824567e+02   1.25348823e-01]\n",
      "Hyper-parameters at iteration 2 : [  5.19654208e+01   2.63048029e+02   1.12689855e-01]\n",
      "\tHyper-parameters at outter iteration 2 : [  5.19886428e+01   2.63079847e+02   1.05300974e-01]\n",
      "Hyper-parameters at iteration 0 : [  5.19886428e+01   2.63079847e+02   1.05300974e-01]\n",
      "\tHyper-parameters at outter iteration 3 : [  5.19886470e+01   2.63079844e+02   1.05300846e-01]\n",
      "Hyper-parameters at iteration 0 : [  5.19886470e+01   2.63079844e+02   1.05300846e-01]\n",
      "Hyper-parameters at iteration 1 : [  5.20092028e+01   2.63124977e+02   1.04796579e-01]\n",
      "\tHyper-parameters at outter iteration 4 : [  5.20092036e+01   2.63124970e+02   1.04773574e-01]\n",
      "Hyper-parameters at iteration 0 : [  5.20092036e+01   2.63124970e+02   1.04773574e-01]\n",
      "\tHyper-parameters at outter iteration 5 : [  5.20092036e+01   2.63124970e+02   1.04773574e-01]\n",
      "Hyper-parameters at iteration 0 : [  5.20092036e+01   2.63124970e+02   1.04773574e-01]\n",
      "Hyper-parameters at iteration 1 : [  5.20135496e+01   2.63124471e+02   1.04706340e-01]\n",
      "\tHyper-parameters at outter iteration 6 : [  5.20135508e+01   2.63124471e+02   1.04691745e-01]\n",
      "Hyper-parameters at iteration 0 : [  5.20135508e+01   2.63124471e+02   1.04691745e-01]\n",
      "\tHyper-parameters at outter iteration 7 : [  5.20135508e+01   2.63124471e+02   1.04691745e-01]\n",
      "Hyper-parameters at iteration 0 : [  5.20135508e+01   2.63124471e+02   1.04691745e-01]\n",
      "Hyper-parameters at iteration 1 : [  5.29382185e+01   2.64243591e+02   9.07251007e-02]\n",
      "Hyper-parameters at iteration 2 : [  5.31821800e+01   2.64538172e+02   8.46810940e-02]\n",
      "\tHyper-parameters at outter iteration 8 : [  5.31775787e+01   2.64532300e+02   8.31686602e-02]\n",
      "Hyper-parameters at iteration 0 : [  5.31775787e+01   2.64532300e+02   8.31686602e-02]\n",
      "\tHyper-parameters at outter iteration 9 : [  5.31775787e+01   2.64532300e+02   8.31686602e-02]\n",
      "Hyper-parameters at iteration 0 : [  5.31775787e+01   2.64532300e+02   8.31686602e-02]\n",
      "Hyper-parameters at iteration 1 : [  5.30120199e+01   2.64303312e+02   4.55899653e-02]\n",
      "\tHyper-parameters at outter iteration 10 : [  2.67513801e+01   2.52211004e+02   1.00000000e-02]\n",
      "Hyper-parameters at iteration 0 : [  2.67513801e+01   2.52211004e+02   1.00000000e-02]\n",
      "Hyper-parameters at iteration 1 : [  2.90049324e+01   2.52977105e+02   1.00000000e-02]\n",
      "\tHyper-parameters at outter iteration 11 : [  2.73459008e+01   2.52407633e+02   1.00000000e-02]\n",
      "Hyper-parameters at iteration 0 : [  2.73459008e+01   2.52407633e+02   1.00000000e-02]\n",
      "\tHyper-parameters at outter iteration 12 : [  2.73459008e+01   2.52407633e+02   1.00000000e-02]\n",
      "Hyper-parameters at iteration 0 : [  2.73459008e+01   2.52407633e+02   1.00000000e-02]\n",
      "Hyper-parameters at iteration 1 : [  2.76514509e+01   2.52519312e+02   1.00000000e-02]\n",
      "\tHyper-parameters at outter iteration 13 : [  2.73389613e+01   2.52402422e+02   1.00000000e-02]\n",
      "Hyper-parameters at iteration 0 : [  2.73389613e+01   2.52402422e+02   1.00000000e-02]\n",
      "Hyper-parameters at iteration 1 : [  2.77412990e+01   2.52492098e+02   1.00000000e-02]\n",
      "\tHyper-parameters at outter iteration 14 : [  2.77425669e+01   2.52491904e+02   1.00000000e-02]\n",
      "Hyper-parameters at iteration 0 : [  2.77425669e+01   2.52491904e+02   1.00000000e-02]\n",
      "\tHyper-parameters at outter iteration 15 : [  2.77425669e+01   2.52491904e+02   1.00000000e-02]\n",
      "Hyper-parameters at iteration 0 : [  2.77425669e+01   2.52491904e+02   1.00000000e-02]\n",
      "Hyper-parameters at iteration 1 : [  2.77413832e+01   2.52491501e+02   1.00000000e-02]\n",
      "\tHyper-parameters at outter iteration 16 : [  2.77413832e+01   2.52491501e+02   1.00000000e-02]\n",
      "Hyper-parameters at iteration 0 : [  2.77413832e+01   2.52491501e+02   1.00000000e-02]\n",
      "Hyper-parameters at iteration 1 : [  2.90637153e+01   2.52770776e+02   1.00000000e-02]\n",
      "\tHyper-parameters at outter iteration 17 : [  3.07665774e+01   2.53134709e+02   1.00000000e-02]\n",
      "Hyper-parameters at iteration 0 : [  3.07665774e+01   2.53134709e+02   1.00000000e-02]\n",
      "\tHyper-parameters at outter iteration 18 : [  3.07665763e+01   2.53134707e+02   1.00000000e-02]\n",
      "Hyper-parameters at iteration 0 : [  3.07665763e+01   2.53134707e+02   1.00000000e-02]\n",
      "Hyper-parameters at iteration 1 : [  8.65717607e+01   3.85441428e+02   1.00000000e-02]\n",
      "Hyper-parameters at iteration 2 : [  6.42401089e+01   3.32491398e+02   1.11912266e-01]\n",
      "\tHyper-parameters at outter iteration 19 : [  6.42401054e+01   3.32491389e+02   1.11912216e-01]\n"
     ]
    }
   ],
   "source": [
    "model_covariance_obj = SquaredExponential(np.copy(cov_params))\n",
    "vi_gp = GPC(model_covariance_obj, method='vi')\n",
    "opts = {'maxfun':5, 'mydisp': True, 'num_updates':3}\n",
    "vi_res = vi_gp.fit(x_tr, y_tr, inputs=inputs, optimizer_options=opts, max_out_iter=20)"
   ]
  },
  {
   "cell_type": "code",
   "execution_count": 8,
   "metadata": {
    "collapsed": false
   },
   "outputs": [
    {
     "data": {
      "text/plain": [
       "<matplotlib.text.Text at 0x10d3aa128>"
      ]
     },
     "execution_count": 8,
     "metadata": {},
     "output_type": "execute_result"
    },
    {
     "data": {
      "image/png": "[encoded data removed]",
      "text/plain": [
       "<matplotlib.figure.Figure at 0x105ec1390>"
      ]
     },
     "metadata": {},
     "output_type": "display_data"
    }
   ],
   "source": [
    "metric = lambda w: vi_gp.get_prediction_quality(w, x_test, y_test)\n",
    "vi_x_lst, vi_y_lst = vi_res.plot_performance(metric, 't', freq=1)\n",
    "plt.plot(vi_x_lst[1:], vi_y_lst[1:], '-bx', label='vi-means-c')\n",
    "# plt.plot(svi_x_lst[1:100], svi_y_lst[1:100], '-gx', label='svi-L-BFGS-B-c')\n",
    "plt.ylim([0.7, .9])\n",
    "plt.legend()\n",
    "plt.xlabel('Seconds')\n",
    "plt.ylabel('Accuracy')"
   ]
  },
  {
   "cell_type": "markdown",
   "metadata": {},
   "source": [
    "### Taylor\n",
    "Подбор числа пересчетов"
   ]
  },
  {
   "cell_type": "code",
   "execution_count": 9,
   "metadata": {
    "collapsed": true
   },
   "outputs": [
    {
     "name": "stdout",
     "output_type": "stream",
     "text": [
      "5\n",
      "\n",
      "10\n",
      "\n",
      "15\n"
     ]
    },
    {
     "ename": "KeyboardInterrupt",
     "evalue": "",
     "output_type": "error",
     "traceback": [
      "\u001b[0;31m---------------------------------------------------------------------------\u001b[0m",
      "\u001b[0;31mKeyboardInterrupt\u001b[0m                         Traceback (most recent call last)",
      "\u001b[0;32m<ipython-input-9-96cde0403a15>\u001b[0m in \u001b[0;36m<module>\u001b[0;34m()\u001b[0m\n\u001b[1;32m      6\u001b[0m     \u001b[0mvi_gp\u001b[0m \u001b[0;34m=\u001b[0m \u001b[0mGPC\u001b[0m\u001b[0;34m(\u001b[0m\u001b[0mmodel_covariance_obj\u001b[0m\u001b[0;34m,\u001b[0m \u001b[0mmethod\u001b[0m\u001b[0;34m=\u001b[0m\u001b[0;34m'vi'\u001b[0m\u001b[0;34m)\u001b[0m\u001b[0;34m\u001b[0m\u001b[0m\n\u001b[1;32m      7\u001b[0m     \u001b[0mopts\u001b[0m \u001b[0;34m=\u001b[0m \u001b[0;34m{\u001b[0m\u001b[0;34m'bound'\u001b[0m\u001b[0;34m:\u001b[0m \u001b[0;34m'Taylor'\u001b[0m\u001b[0;34m,\u001b[0m \u001b[0;34m'maxfun'\u001b[0m\u001b[0;34m:\u001b[0m\u001b[0mmaxfun\u001b[0m\u001b[0;34m,\u001b[0m \u001b[0;34m'mydisp'\u001b[0m\u001b[0;34m:\u001b[0m \u001b[0;32mFalse\u001b[0m\u001b[0;34m,\u001b[0m \u001b[0;34m'num_updates'\u001b[0m\u001b[0;34m:\u001b[0m\u001b[0;36m3\u001b[0m\u001b[0;34m}\u001b[0m\u001b[0;34m\u001b[0m\u001b[0m\n\u001b[0;32m----> 8\u001b[0;31m     \u001b[0mresults\u001b[0m\u001b[0;34m.\u001b[0m\u001b[0mappend\u001b[0m\u001b[0;34m(\u001b[0m\u001b[0mvi_gp\u001b[0m\u001b[0;34m.\u001b[0m\u001b[0mfit\u001b[0m\u001b[0;34m(\u001b[0m\u001b[0mx_tr\u001b[0m\u001b[0;34m,\u001b[0m \u001b[0my_tr\u001b[0m\u001b[0;34m,\u001b[0m \u001b[0minputs\u001b[0m\u001b[0;34m=\u001b[0m\u001b[0minputs\u001b[0m\u001b[0;34m,\u001b[0m \u001b[0moptimizer_options\u001b[0m\u001b[0;34m=\u001b[0m\u001b[0mopts\u001b[0m\u001b[0;34m,\u001b[0m \u001b[0mmax_out_iter\u001b[0m\u001b[0;34m=\u001b[0m\u001b[0;36m10\u001b[0m\u001b[0;34m)\u001b[0m\u001b[0;34m)\u001b[0m\u001b[0;34m\u001b[0m\u001b[0m\n\u001b[0m\u001b[1;32m      9\u001b[0m     \u001b[0mprint\u001b[0m\u001b[0;34m(\u001b[0m\u001b[0;34m)\u001b[0m\u001b[0;34m\u001b[0m\u001b[0m\n",
      "\u001b[0;32m/Users/IzmailovPavel/Documents/Education/Course Project/Code/GP/gaussian_process_classification.py\u001b[0m in \u001b[0;36mfit\u001b[0;34m(self, *args, **kwargs)\u001b[0m\n\u001b[1;32m    272\u001b[0m                 \u001b[0;32melif\u001b[0m \u001b[0moptions\u001b[0m\u001b[0;34m[\u001b[0m\u001b[0;34m'bound'\u001b[0m\u001b[0;34m]\u001b[0m \u001b[0;34m==\u001b[0m \u001b[0;34m'Taylor'\u001b[0m\u001b[0;34m:\u001b[0m\u001b[0;34m\u001b[0m\u001b[0m\n\u001b[1;32m    273\u001b[0m                     \u001b[0;32mdel\u001b[0m \u001b[0moptions\u001b[0m\u001b[0;34m[\u001b[0m\u001b[0;34m'bound'\u001b[0m\u001b[0;34m]\u001b[0m\u001b[0;34m\u001b[0m\u001b[0m\n\u001b[0;32m--> 274\u001b[0;31m                     \u001b[0;32mreturn\u001b[0m \u001b[0mself\u001b[0m\u001b[0;34m.\u001b[0m\u001b[0m_vi_taylor_fit\u001b[0m\u001b[0;34m(\u001b[0m\u001b[0;34m*\u001b[0m\u001b[0margs\u001b[0m\u001b[0;34m,\u001b[0m \u001b[0;34m**\u001b[0m\u001b[0mkwargs\u001b[0m\u001b[0;34m)\u001b[0m\u001b[0;34m\u001b[0m\u001b[0m\n\u001b[0m\u001b[1;32m    275\u001b[0m                 \u001b[0;32melse\u001b[0m\u001b[0;34m:\u001b[0m\u001b[0;34m\u001b[0m\u001b[0m\n\u001b[1;32m    276\u001b[0m                     \u001b[0;32mdel\u001b[0m \u001b[0moptions\u001b[0m\u001b[0;34m[\u001b[0m\u001b[0;34m'bound'\u001b[0m\u001b[0;34m]\u001b[0m\u001b[0;34m\u001b[0m\u001b[0m\n",
      "\u001b[0;32m/Users/IzmailovPavel/Documents/Education/Course Project/Code/GP/gaussian_process_classification.py\u001b[0m in \u001b[0;36m_vi_taylor_fit\u001b[0;34m(self, data_points, target_values, num_inputs, inputs, max_out_iter, optimizer_options)\u001b[0m\n\u001b[1;32m   1013\u001b[0m \u001b[0;34m\u001b[0m\u001b[0m\n\u001b[1;32m   1014\u001b[0m             it_res, it_w_list, it_time_list = minimize_wrapper(oracle, params, method='L-BFGS-B', mydisp=mydisp, bounds=bnds,\n\u001b[0;32m-> 1015\u001b[0;31m                                                                options=options)\n\u001b[0m\u001b[1;32m   1016\u001b[0m \u001b[0;34m\u001b[0m\u001b[0m\n\u001b[1;32m   1017\u001b[0m             \u001b[0mparams\u001b[0m \u001b[0;34m=\u001b[0m \u001b[0mit_res\u001b[0m\u001b[0;34m[\u001b[0m\u001b[0;34m'x'\u001b[0m\u001b[0;34m]\u001b[0m\u001b[0;34m\u001b[0m\u001b[0m\n",
      "\u001b[0;32m/Users/IzmailovPavel/Documents/Education/Course Project/Code/GP/optimization.py\u001b[0m in \u001b[0;36mminimize_wrapper\u001b[0;34m(func, x0, mydisp, jac, **kwargs)\u001b[0m\n\u001b[1;32m    365\u001b[0m     \u001b[0mcallback\u001b[0m\u001b[0;34m(\u001b[0m\u001b[0mx0\u001b[0m\u001b[0;34m)\u001b[0m\u001b[0;34m\u001b[0m\u001b[0m\n\u001b[1;32m    366\u001b[0m \u001b[0;34m\u001b[0m\u001b[0m\n\u001b[0;32m--> 367\u001b[0;31m     \u001b[0mout\u001b[0m \u001b[0;34m=\u001b[0m \u001b[0mop\u001b[0m\u001b[0;34m.\u001b[0m\u001b[0mminimize\u001b[0m\u001b[0;34m(\u001b[0m\u001b[0mfunc\u001b[0m\u001b[0;34m,\u001b[0m \u001b[0mx0\u001b[0m\u001b[0;34m,\u001b[0m \u001b[0mjac\u001b[0m\u001b[0;34m=\u001b[0m\u001b[0mjac\u001b[0m\u001b[0;34m,\u001b[0m \u001b[0mcallback\u001b[0m\u001b[0;34m=\u001b[0m\u001b[0mcallback\u001b[0m\u001b[0;34m,\u001b[0m \u001b[0;34m**\u001b[0m\u001b[0mkwargs\u001b[0m\u001b[0;34m)\u001b[0m\u001b[0;34m\u001b[0m\u001b[0m\n\u001b[0m\u001b[1;32m    368\u001b[0m \u001b[0;34m\u001b[0m\u001b[0m\n\u001b[1;32m    369\u001b[0m     \u001b[0;32mreturn\u001b[0m \u001b[0mout\u001b[0m\u001b[0;34m,\u001b[0m \u001b[0mw_list\u001b[0m\u001b[0;34m,\u001b[0m \u001b[0mtime_list\u001b[0m\u001b[0;34m\u001b[0m\u001b[0m\n",
      "\u001b[0;32m/Library/Frameworks/Python.framework/Versions/3.4/lib/python3.4/site-packages/scipy/optimize/_minimize.py\u001b[0m in \u001b[0;36mminimize\u001b[0;34m(fun, x0, args, method, jac, hess, hessp, bounds, constraints, tol, callback, options)\u001b[0m\n\u001b[1;32m    442\u001b[0m     \u001b[0;32melif\u001b[0m \u001b[0mmeth\u001b[0m \u001b[0;34m==\u001b[0m \u001b[0;34m'l-bfgs-b'\u001b[0m\u001b[0;34m:\u001b[0m\u001b[0;34m\u001b[0m\u001b[0m\n\u001b[1;32m    443\u001b[0m         return _minimize_lbfgsb(fun, x0, args, jac, bounds,\n\u001b[0;32m--> 444\u001b[0;31m                                 callback=callback, **options)\n\u001b[0m\u001b[1;32m    445\u001b[0m     \u001b[0;32melif\u001b[0m \u001b[0mmeth\u001b[0m \u001b[0;34m==\u001b[0m \u001b[0;34m'tnc'\u001b[0m\u001b[0;34m:\u001b[0m\u001b[0;34m\u001b[0m\u001b[0m\n\u001b[1;32m    446\u001b[0m         return _minimize_tnc(fun, x0, args, jac, bounds, callback=callback,\n",
      "\u001b[0;32m/Library/Frameworks/Python.framework/Versions/3.4/lib/python3.4/site-packages/scipy/optimize/lbfgsb.py\u001b[0m in \u001b[0;36m_minimize_lbfgsb\u001b[0;34m(fun, x0, args, jac, bounds, disp, maxcor, ftol, gtol, eps, maxfun, maxiter, iprint, callback, **unknown_options)\u001b[0m\n\u001b[1;32m    318\u001b[0m                 \u001b[0;31m# minimization routine wants f and g at the current x\u001b[0m\u001b[0;34m\u001b[0m\u001b[0;34m\u001b[0m\u001b[0m\n\u001b[1;32m    319\u001b[0m                 \u001b[0;31m# Overwrite f and g:\u001b[0m\u001b[0;34m\u001b[0m\u001b[0;34m\u001b[0m\u001b[0m\n\u001b[0;32m--> 320\u001b[0;31m                 \u001b[0mf\u001b[0m\u001b[0;34m,\u001b[0m \u001b[0mg\u001b[0m \u001b[0;34m=\u001b[0m \u001b[0mfunc_and_grad\u001b[0m\u001b[0;34m(\u001b[0m\u001b[0mx\u001b[0m\u001b[0;34m)\u001b[0m\u001b[0;34m\u001b[0m\u001b[0m\n\u001b[0m\u001b[1;32m    321\u001b[0m         \u001b[0;32melif\u001b[0m \u001b[0mtask_str\u001b[0m\u001b[0;34m.\u001b[0m\u001b[0mstartswith\u001b[0m\u001b[0;34m(\u001b[0m\u001b[0;34mb'NEW_X'\u001b[0m\u001b[0;34m)\u001b[0m\u001b[0;34m:\u001b[0m\u001b[0;34m\u001b[0m\u001b[0m\n\u001b[1;32m    322\u001b[0m             \u001b[0;31m# new iteration\u001b[0m\u001b[0;34m\u001b[0m\u001b[0;34m\u001b[0m\u001b[0m\n",
      "\u001b[0;32m/Library/Frameworks/Python.framework/Versions/3.4/lib/python3.4/site-packages/scipy/optimize/lbfgsb.py\u001b[0m in \u001b[0;36mfunc_and_grad\u001b[0;34m(x)\u001b[0m\n\u001b[1;32m    269\u001b[0m     \u001b[0;32melse\u001b[0m\u001b[0;34m:\u001b[0m\u001b[0;34m\u001b[0m\u001b[0m\n\u001b[1;32m    270\u001b[0m         \u001b[0;32mdef\u001b[0m \u001b[0mfunc_and_grad\u001b[0m\u001b[0;34m(\u001b[0m\u001b[0mx\u001b[0m\u001b[0;34m)\u001b[0m\u001b[0;34m:\u001b[0m\u001b[0;34m\u001b[0m\u001b[0m\n\u001b[0;32m--> 271\u001b[0;31m             \u001b[0mf\u001b[0m \u001b[0;34m=\u001b[0m \u001b[0mfun\u001b[0m\u001b[0;34m(\u001b[0m\u001b[0mx\u001b[0m\u001b[0;34m,\u001b[0m \u001b[0;34m*\u001b[0m\u001b[0margs\u001b[0m\u001b[0;34m)\u001b[0m\u001b[0;34m\u001b[0m\u001b[0m\n\u001b[0m\u001b[1;32m    272\u001b[0m             \u001b[0mg\u001b[0m \u001b[0;34m=\u001b[0m \u001b[0mjac\u001b[0m\u001b[0;34m(\u001b[0m\u001b[0mx\u001b[0m\u001b[0;34m,\u001b[0m \u001b[0;34m*\u001b[0m\u001b[0margs\u001b[0m\u001b[0;34m)\u001b[0m\u001b[0;34m\u001b[0m\u001b[0m\n\u001b[1;32m    273\u001b[0m             \u001b[0;32mreturn\u001b[0m \u001b[0mf\u001b[0m\u001b[0;34m,\u001b[0m \u001b[0mg\u001b[0m\u001b[0;34m\u001b[0m\u001b[0m\n",
      "\u001b[0;32m/Library/Frameworks/Python.framework/Versions/3.4/lib/python3.4/site-packages/scipy/optimize/optimize.py\u001b[0m in \u001b[0;36mfunction_wrapper\u001b[0;34m(*wrapper_args)\u001b[0m\n\u001b[1;32m    283\u001b[0m     \u001b[0;32mdef\u001b[0m \u001b[0mfunction_wrapper\u001b[0m\u001b[0;34m(\u001b[0m\u001b[0;34m*\u001b[0m\u001b[0mwrapper_args\u001b[0m\u001b[0;34m)\u001b[0m\u001b[0;34m:\u001b[0m\u001b[0;34m\u001b[0m\u001b[0m\n\u001b[1;32m    284\u001b[0m         \u001b[0mncalls\u001b[0m\u001b[0;34m[\u001b[0m\u001b[0;36m0\u001b[0m\u001b[0;34m]\u001b[0m \u001b[0;34m+=\u001b[0m \u001b[0;36m1\u001b[0m\u001b[0;34m\u001b[0m\u001b[0m\n\u001b[0;32m--> 285\u001b[0;31m         \u001b[0;32mreturn\u001b[0m \u001b[0mfunction\u001b[0m\u001b[0;34m(\u001b[0m\u001b[0;34m*\u001b[0m\u001b[0;34m(\u001b[0m\u001b[0mwrapper_args\u001b[0m \u001b[0;34m+\u001b[0m \u001b[0margs\u001b[0m\u001b[0;34m)\u001b[0m\u001b[0;34m)\u001b[0m\u001b[0;34m\u001b[0m\u001b[0m\n\u001b[0m\u001b[1;32m    286\u001b[0m \u001b[0;34m\u001b[0m\u001b[0m\n\u001b[1;32m    287\u001b[0m     \u001b[0;32mreturn\u001b[0m \u001b[0mncalls\u001b[0m\u001b[0;34m,\u001b[0m \u001b[0mfunction_wrapper\u001b[0m\u001b[0;34m\u001b[0m\u001b[0m\n",
      "\u001b[0;32m/Library/Frameworks/Python.framework/Versions/3.4/lib/python3.4/site-packages/scipy/optimize/optimize.py\u001b[0m in \u001b[0;36m__call__\u001b[0;34m(self, x, *args)\u001b[0m\n\u001b[1;32m     61\u001b[0m     \u001b[0;32mdef\u001b[0m \u001b[0m__call__\u001b[0m\u001b[0;34m(\u001b[0m\u001b[0mself\u001b[0m\u001b[0;34m,\u001b[0m \u001b[0mx\u001b[0m\u001b[0;34m,\u001b[0m \u001b[0;34m*\u001b[0m\u001b[0margs\u001b[0m\u001b[0;34m)\u001b[0m\u001b[0;34m:\u001b[0m\u001b[0;34m\u001b[0m\u001b[0m\n\u001b[1;32m     62\u001b[0m         \u001b[0mself\u001b[0m\u001b[0;34m.\u001b[0m\u001b[0mx\u001b[0m \u001b[0;34m=\u001b[0m \u001b[0mnumpy\u001b[0m\u001b[0;34m.\u001b[0m\u001b[0masarray\u001b[0m\u001b[0;34m(\u001b[0m\u001b[0mx\u001b[0m\u001b[0;34m)\u001b[0m\u001b[0;34m.\u001b[0m\u001b[0mcopy\u001b[0m\u001b[0;34m(\u001b[0m\u001b[0;34m)\u001b[0m\u001b[0;34m\u001b[0m\u001b[0m\n\u001b[0;32m---> 63\u001b[0;31m         \u001b[0mfg\u001b[0m \u001b[0;34m=\u001b[0m \u001b[0mself\u001b[0m\u001b[0;34m.\u001b[0m\u001b[0mfun\u001b[0m\u001b[0;34m(\u001b[0m\u001b[0mx\u001b[0m\u001b[0;34m,\u001b[0m \u001b[0;34m*\u001b[0m\u001b[0margs\u001b[0m\u001b[0;34m)\u001b[0m\u001b[0;34m\u001b[0m\u001b[0m\n\u001b[0m\u001b[1;32m     64\u001b[0m         \u001b[0mself\u001b[0m\u001b[0;34m.\u001b[0m\u001b[0mjac\u001b[0m \u001b[0;34m=\u001b[0m \u001b[0mfg\u001b[0m\u001b[0;34m[\u001b[0m\u001b[0;36m1\u001b[0m\u001b[0;34m]\u001b[0m\u001b[0;34m\u001b[0m\u001b[0m\n\u001b[1;32m     65\u001b[0m         \u001b[0;32mreturn\u001b[0m \u001b[0mfg\u001b[0m\u001b[0;34m[\u001b[0m\u001b[0;36m0\u001b[0m\u001b[0;34m]\u001b[0m\u001b[0;34m\u001b[0m\u001b[0m\n",
      "\u001b[0;32m/Users/IzmailovPavel/Documents/Education/Course Project/Code/GP/gaussian_process_classification.py\u001b[0m in \u001b[0;36moracle\u001b[0;34m(x)\u001b[0m\n\u001b[1;32m    988\u001b[0m \u001b[0;34m\u001b[0m\u001b[0m\n\u001b[1;32m    989\u001b[0m         \u001b[0;32mdef\u001b[0m \u001b[0moracle\u001b[0m\u001b[0;34m(\u001b[0m\u001b[0mx\u001b[0m\u001b[0;34m)\u001b[0m\u001b[0;34m:\u001b[0m\u001b[0;34m\u001b[0m\u001b[0m\n\u001b[0;32m--> 990\u001b[0;31m             \u001b[0mfun\u001b[0m\u001b[0;34m,\u001b[0m \u001b[0mgrad\u001b[0m \u001b[0;34m=\u001b[0m \u001b[0mself\u001b[0m\u001b[0;34m.\u001b[0m\u001b[0m_vi_taylor_elbo\u001b[0m\u001b[0;34m(\u001b[0m\u001b[0mdata_points\u001b[0m\u001b[0;34m,\u001b[0m \u001b[0mtarget_values\u001b[0m\u001b[0;34m,\u001b[0m \u001b[0mx\u001b[0m\u001b[0;34m,\u001b[0m \u001b[0minputs\u001b[0m\u001b[0;34m,\u001b[0m \u001b[0mxi\u001b[0m\u001b[0;34m)\u001b[0m\u001b[0;34m\u001b[0m\u001b[0m\n\u001b[0m\u001b[1;32m    991\u001b[0m             \u001b[0;32mreturn\u001b[0m \u001b[0;34m-\u001b[0m\u001b[0mfun\u001b[0m\u001b[0;34m,\u001b[0m \u001b[0;34m-\u001b[0m\u001b[0mgrad\u001b[0m\u001b[0;34m\u001b[0m\u001b[0m\n\u001b[1;32m    992\u001b[0m \u001b[0;34m\u001b[0m\u001b[0m\n",
      "\u001b[0;32m/Users/IzmailovPavel/Documents/Education/Course Project/Code/GP/gaussian_process_classification.py\u001b[0m in \u001b[0;36m_vi_taylor_elbo\u001b[0;34m(self, points, targets, params, ind_points, xi)\u001b[0m\n\u001b[1;32m   1069\u001b[0m             \u001b[0;32mif\u001b[0m \u001b[0mparam\u001b[0m \u001b[0;34m!=\u001b[0m \u001b[0mlen\u001b[0m\u001b[0;34m(\u001b[0m\u001b[0mparams\u001b[0m\u001b[0;34m)\u001b[0m \u001b[0;34m-\u001b[0m \u001b[0;36m1\u001b[0m\u001b[0;34m:\u001b[0m\u001b[0;34m\u001b[0m\u001b[0m\n\u001b[1;32m   1070\u001b[0m                 \u001b[0mdK_mm\u001b[0m \u001b[0;34m=\u001b[0m \u001b[0mfunc\u001b[0m\u001b[0;34m(\u001b[0m\u001b[0mind_points\u001b[0m\u001b[0;34m,\u001b[0m \u001b[0mind_points\u001b[0m\u001b[0;34m)\u001b[0m\u001b[0;34m\u001b[0m\u001b[0m\n\u001b[0;32m-> 1071\u001b[0;31m                 \u001b[0mdK_nm\u001b[0m \u001b[0;34m=\u001b[0m \u001b[0mfunc\u001b[0m\u001b[0;34m(\u001b[0m\u001b[0mpoints\u001b[0m\u001b[0;34m,\u001b[0m \u001b[0mind_points\u001b[0m\u001b[0;34m)\u001b[0m\u001b[0;34m\u001b[0m\u001b[0m\n\u001b[0m\u001b[1;32m   1072\u001b[0m                 \u001b[0mdK_mn\u001b[0m \u001b[0;34m=\u001b[0m \u001b[0mdK_nm\u001b[0m\u001b[0;34m.\u001b[0m\u001b[0mT\u001b[0m\u001b[0;34m\u001b[0m\u001b[0m\n\u001b[1;32m   1073\u001b[0m                 \u001b[0mdB\u001b[0m \u001b[0;34m=\u001b[0m \u001b[0;36m4\u001b[0m \u001b[0;34m*\u001b[0m \u001b[0mdK_mn\u001b[0m\u001b[0;34m.\u001b[0m\u001b[0mdot\u001b[0m\u001b[0;34m(\u001b[0m\u001b[0mPsi_xi\u001b[0m\u001b[0;34m*\u001b[0m\u001b[0mK_nm\u001b[0m\u001b[0;34m)\u001b[0m \u001b[0;34m+\u001b[0m \u001b[0mdK_mm\u001b[0m\u001b[0;34m\u001b[0m\u001b[0m\n",
      "\u001b[0;32m/Users/IzmailovPavel/Documents/Education/Course Project/Code/GP/covariance_functions.py\u001b[0m in \u001b[0;36mwrapper\u001b[0;34m(self, x, y, *args, **kwargs)\u001b[0m\n\u001b[1;32m     41\u001b[0m \u001b[0;32mdef\u001b[0m \u001b[0mstationary_cov\u001b[0m\u001b[0;34m(\u001b[0m\u001b[0mfun\u001b[0m\u001b[0;34m)\u001b[0m\u001b[0;34m:\u001b[0m\u001b[0;34m\u001b[0m\u001b[0m\n\u001b[1;32m     42\u001b[0m     \u001b[0;32mdef\u001b[0m \u001b[0mwrapper\u001b[0m\u001b[0;34m(\u001b[0m\u001b[0mself\u001b[0m\u001b[0;34m,\u001b[0m \u001b[0mx\u001b[0m\u001b[0;34m,\u001b[0m \u001b[0my\u001b[0m\u001b[0;34m,\u001b[0m \u001b[0;34m*\u001b[0m\u001b[0margs\u001b[0m\u001b[0;34m,\u001b[0m \u001b[0;34m**\u001b[0m\u001b[0mkwargs\u001b[0m\u001b[0;34m)\u001b[0m\u001b[0;34m:\u001b[0m\u001b[0;34m\u001b[0m\u001b[0m\n\u001b[0;32m---> 43\u001b[0;31m         \u001b[0mdists\u001b[0m \u001b[0;34m=\u001b[0m \u001b[0mpairwise_distance\u001b[0m\u001b[0;34m(\u001b[0m\u001b[0mx\u001b[0m\u001b[0;34m,\u001b[0m \u001b[0my\u001b[0m\u001b[0;34m)\u001b[0m\u001b[0;34m\u001b[0m\u001b[0m\n\u001b[0m\u001b[1;32m     44\u001b[0m         \u001b[0;32mreturn\u001b[0m \u001b[0mfun\u001b[0m\u001b[0;34m(\u001b[0m\u001b[0mself\u001b[0m\u001b[0;34m,\u001b[0m \u001b[0mdists\u001b[0m\u001b[0;34m,\u001b[0m \u001b[0;34m*\u001b[0m\u001b[0margs\u001b[0m\u001b[0;34m,\u001b[0m \u001b[0;34m**\u001b[0m\u001b[0mkwargs\u001b[0m\u001b[0;34m)\u001b[0m\u001b[0;34m\u001b[0m\u001b[0m\n\u001b[1;32m     45\u001b[0m     \u001b[0;32mreturn\u001b[0m \u001b[0mwrapper\u001b[0m\u001b[0;34m\u001b[0m\u001b[0m\n",
      "\u001b[0;32m/Users/IzmailovPavel/Documents/Education/Course Project/Code/GP/covariance_functions.py\u001b[0m in \u001b[0;36mpairwise_distance\u001b[0;34m(x, y)\u001b[0m\n\u001b[1;32m     34\u001b[0m     \u001b[0;31m# d = np.square(x_norm) + np.square(y_norm) - 2 * x.T.dot(y)\u001b[0m\u001b[0;34m\u001b[0m\u001b[0;34m\u001b[0m\u001b[0m\n\u001b[1;32m     35\u001b[0m     \u001b[0;31m# d[d < 0] = 0\u001b[0m\u001b[0;34m\u001b[0m\u001b[0;34m\u001b[0m\u001b[0m\n\u001b[0;32m---> 36\u001b[0;31m     \u001b[0;32mreturn\u001b[0m \u001b[0mcdist\u001b[0m\u001b[0;34m(\u001b[0m\u001b[0mx\u001b[0m\u001b[0;34m.\u001b[0m\u001b[0mT\u001b[0m\u001b[0;34m,\u001b[0m \u001b[0my\u001b[0m\u001b[0;34m.\u001b[0m\u001b[0mT\u001b[0m\u001b[0;34m)\u001b[0m\u001b[0;34m\u001b[0m\u001b[0m\n\u001b[0m\u001b[1;32m     37\u001b[0m     \u001b[0;31m# print(np.min(d))\u001b[0m\u001b[0;34m\u001b[0m\u001b[0;34m\u001b[0m\u001b[0m\n\u001b[1;32m     38\u001b[0m     \u001b[0;31m# return np.sqrt(d)\u001b[0m\u001b[0;34m\u001b[0m\u001b[0;34m\u001b[0m\u001b[0m\n",
      "\u001b[0;32m/Library/Frameworks/Python.framework/Versions/3.4/lib/python3.4/site-packages/scipy/spatial/distance.py\u001b[0m in \u001b[0;36mcdist\u001b[0;34m(XA, XB, metric, p, V, VI, w)\u001b[0m\n\u001b[1;32m   2073\u001b[0m         \u001b[0;32mif\u001b[0m \u001b[0mmstr\u001b[0m \u001b[0;32min\u001b[0m \u001b[0mset\u001b[0m\u001b[0;34m(\u001b[0m\u001b[0;34m[\u001b[0m\u001b[0;34m'euclidean'\u001b[0m\u001b[0;34m,\u001b[0m \u001b[0;34m'euclid'\u001b[0m\u001b[0;34m,\u001b[0m \u001b[0;34m'eu'\u001b[0m\u001b[0;34m,\u001b[0m \u001b[0;34m'e'\u001b[0m\u001b[0;34m]\u001b[0m\u001b[0;34m)\u001b[0m\u001b[0;34m:\u001b[0m\u001b[0;34m\u001b[0m\u001b[0m\n\u001b[1;32m   2074\u001b[0m             _distance_wrap.cdist_euclidean_wrap(_convert_to_double(XA),\n\u001b[0;32m-> 2075\u001b[0;31m                                                 _convert_to_double(XB), dm)\n\u001b[0m\u001b[1;32m   2076\u001b[0m         \u001b[0;32melif\u001b[0m \u001b[0mmstr\u001b[0m \u001b[0;32min\u001b[0m \u001b[0mset\u001b[0m\u001b[0;34m(\u001b[0m\u001b[0;34m[\u001b[0m\u001b[0;34m'sqeuclidean'\u001b[0m\u001b[0;34m,\u001b[0m \u001b[0;34m'sqe'\u001b[0m\u001b[0;34m,\u001b[0m \u001b[0;34m'sqeuclid'\u001b[0m\u001b[0;34m]\u001b[0m\u001b[0;34m)\u001b[0m\u001b[0;34m:\u001b[0m\u001b[0;34m\u001b[0m\u001b[0m\n\u001b[1;32m   2077\u001b[0m             _distance_wrap.cdist_sqeuclidean_wrap(_convert_to_double(XA),\n",
      "\u001b[0;31mKeyboardInterrupt\u001b[0m: "
     ]
    }
   ],
   "source": [
    "maxfuns = [5, 10, 15, 20]\n",
    "results = []\n",
    "for maxfun in maxfuns:\n",
    "    print(maxfun)\n",
    "    model_covariance_obj = SquaredExponential(np.copy(cov_params))\n",
    "    vi_gp = GPC(model_covariance_obj, method='vi')\n",
    "    opts = {'bound': 'Taylor', 'maxfun':maxfun, 'mydisp': False, 'num_updates':3}\n",
    "    results.append(vi_gp.fit(x_tr, y_tr, inputs=inputs, optimizer_options=opts, max_out_iter=10))\n",
    "    print()"
   ]
  },
  {
   "cell_type": "code",
   "execution_count": 12,
   "metadata": {
    "collapsed": true
   },
   "outputs": [
    {
     "ename": "TypeError",
     "evalue": "'NoneType' object is not subscriptable",
     "output_type": "error",
     "traceback": [
      "\u001b[0;31m---------------------------------------------------------------------------\u001b[0m",
      "\u001b[0;31mTypeError\u001b[0m                                 Traceback (most recent call last)",
      "\u001b[0;32m<ipython-input-12-f1d2f7e1bf15>\u001b[0m in \u001b[0;36m<module>\u001b[0;34m()\u001b[0m\n\u001b[1;32m      2\u001b[0m \u001b[0mmetric\u001b[0m \u001b[0;34m=\u001b[0m \u001b[0;32mlambda\u001b[0m \u001b[0mw\u001b[0m\u001b[0;34m:\u001b[0m \u001b[0mvi_gp\u001b[0m\u001b[0;34m.\u001b[0m\u001b[0mget_prediction_quality\u001b[0m\u001b[0;34m(\u001b[0m\u001b[0mw\u001b[0m\u001b[0;34m,\u001b[0m \u001b[0mx_test\u001b[0m\u001b[0;34m,\u001b[0m \u001b[0my_test\u001b[0m\u001b[0;34m)\u001b[0m\u001b[0;34m\u001b[0m\u001b[0m\n\u001b[1;32m      3\u001b[0m \u001b[0;32mfor\u001b[0m \u001b[0mi\u001b[0m \u001b[0;32min\u001b[0m \u001b[0mrange\u001b[0m\u001b[0;34m(\u001b[0m\u001b[0mlen\u001b[0m\u001b[0;34m(\u001b[0m\u001b[0mmaxfuns\u001b[0m\u001b[0;34m)\u001b[0m\u001b[0;34m)\u001b[0m\u001b[0;34m:\u001b[0m\u001b[0;34m\u001b[0m\u001b[0m\n\u001b[0;32m----> 4\u001b[0;31m     \u001b[0mtemp_vi_x_lst\u001b[0m\u001b[0;34m,\u001b[0m \u001b[0mtemp_vi_y_lst\u001b[0m \u001b[0;34m=\u001b[0m \u001b[0mresults\u001b[0m\u001b[0;34m[\u001b[0m\u001b[0mi\u001b[0m\u001b[0;34m]\u001b[0m\u001b[0;34m.\u001b[0m\u001b[0mplot_performance\u001b[0m\u001b[0;34m(\u001b[0m\u001b[0mmetric\u001b[0m\u001b[0;34m,\u001b[0m \u001b[0;34m't'\u001b[0m\u001b[0;34m,\u001b[0m \u001b[0mfreq\u001b[0m\u001b[0;34m=\u001b[0m\u001b[0;36m1\u001b[0m\u001b[0;34m)\u001b[0m\u001b[0;34m\u001b[0m\u001b[0m\n\u001b[0m\u001b[1;32m      5\u001b[0m     \u001b[0mplt\u001b[0m\u001b[0;34m.\u001b[0m\u001b[0mplot\u001b[0m\u001b[0;34m(\u001b[0m\u001b[0mtemp_vi_x_lst\u001b[0m\u001b[0;34m[\u001b[0m\u001b[0;36m1\u001b[0m\u001b[0;34m:\u001b[0m\u001b[0;34m]\u001b[0m\u001b[0;34m,\u001b[0m \u001b[0mtemp_vi_y_lst\u001b[0m\u001b[0;34m[\u001b[0m\u001b[0;36m1\u001b[0m\u001b[0;34m:\u001b[0m\u001b[0;34m]\u001b[0m\u001b[0;34m,\u001b[0m \u001b[0mlabel\u001b[0m\u001b[0;34m=\u001b[0m\u001b[0mmaxfuns\u001b[0m\u001b[0;34m[\u001b[0m\u001b[0mi\u001b[0m\u001b[0;34m]\u001b[0m\u001b[0;34m)\u001b[0m\u001b[0;34m\u001b[0m\u001b[0m\n\u001b[1;32m      6\u001b[0m     \u001b[0mprint\u001b[0m\u001b[0;34m(\u001b[0m\u001b[0mi\u001b[0m\u001b[0;34m)\u001b[0m\u001b[0;34m\u001b[0m\u001b[0m\n",
      "\u001b[0;32m/Users/IzmailovPavel/Documents/Education/Course Project/Code/GP/gp_res.py\u001b[0m in \u001b[0;36mplot_performance\u001b[0;34m(self, metrics, it_time, freq)\u001b[0m\n\u001b[1;32m     22\u001b[0m \u001b[0;34m\u001b[0m\u001b[0m\n\u001b[1;32m     23\u001b[0m     \u001b[0;32mdef\u001b[0m \u001b[0mplot_performance\u001b[0m\u001b[0;34m(\u001b[0m\u001b[0mself\u001b[0m\u001b[0;34m,\u001b[0m \u001b[0mmetrics\u001b[0m\u001b[0;34m,\u001b[0m \u001b[0mit_time\u001b[0m\u001b[0;34m=\u001b[0m\u001b[0;34m'i'\u001b[0m\u001b[0;34m,\u001b[0m \u001b[0mfreq\u001b[0m\u001b[0;34m=\u001b[0m\u001b[0;36m1\u001b[0m\u001b[0;34m)\u001b[0m\u001b[0;34m:\u001b[0m\u001b[0;34m\u001b[0m\u001b[0m\n\u001b[0;32m---> 24\u001b[0;31m         \u001b[0my_lst\u001b[0m \u001b[0;34m=\u001b[0m \u001b[0;34m[\u001b[0m\u001b[0mmetrics\u001b[0m\u001b[0;34m(\u001b[0m\u001b[0mself\u001b[0m\u001b[0;34m.\u001b[0m\u001b[0mparams\u001b[0m\u001b[0;34m[\u001b[0m\u001b[0mi\u001b[0m\u001b[0;34m]\u001b[0m\u001b[0;34m)\u001b[0m \u001b[0;32mfor\u001b[0m \u001b[0mi\u001b[0m \u001b[0;32min\u001b[0m \u001b[0mrange\u001b[0m\u001b[0;34m(\u001b[0m\u001b[0mlen\u001b[0m\u001b[0;34m(\u001b[0m\u001b[0mself\u001b[0m\u001b[0;34m.\u001b[0m\u001b[0mparams\u001b[0m\u001b[0;34m)\u001b[0m\u001b[0;34m)\u001b[0m \u001b[0;32mif\u001b[0m \u001b[0;32mnot\u001b[0m \u001b[0;34m(\u001b[0m\u001b[0mi\u001b[0m \u001b[0;34m%\u001b[0m \u001b[0mfreq\u001b[0m\u001b[0;34m)\u001b[0m\u001b[0;34m]\u001b[0m\u001b[0;34m\u001b[0m\u001b[0m\n\u001b[0m\u001b[1;32m     25\u001b[0m         \u001b[0;32mif\u001b[0m \u001b[0mit_time\u001b[0m \u001b[0;34m==\u001b[0m \u001b[0;34m'i'\u001b[0m\u001b[0;34m:\u001b[0m\u001b[0;34m\u001b[0m\u001b[0m\n\u001b[1;32m     26\u001b[0m             \u001b[0mx_lst\u001b[0m \u001b[0;34m=\u001b[0m \u001b[0;34m[\u001b[0m\u001b[0mself\u001b[0m\u001b[0;34m.\u001b[0m\u001b[0miters\u001b[0m\u001b[0;34m[\u001b[0m\u001b[0mi\u001b[0m\u001b[0;34m]\u001b[0m \u001b[0;32mfor\u001b[0m \u001b[0mi\u001b[0m \u001b[0;32min\u001b[0m \u001b[0mrange\u001b[0m\u001b[0;34m(\u001b[0m\u001b[0mlen\u001b[0m\u001b[0;34m(\u001b[0m\u001b[0mself\u001b[0m\u001b[0;34m.\u001b[0m\u001b[0miters\u001b[0m\u001b[0;34m)\u001b[0m\u001b[0;34m)\u001b[0m \u001b[0;32mif\u001b[0m \u001b[0;32mnot\u001b[0m\u001b[0;34m(\u001b[0m\u001b[0mi\u001b[0m\u001b[0;34m%\u001b[0m\u001b[0mfreq\u001b[0m\u001b[0;34m)\u001b[0m\u001b[0;34m]\u001b[0m\u001b[0;34m\u001b[0m\u001b[0m\n",
      "\u001b[0;32m/Users/IzmailovPavel/Documents/Education/Course Project/Code/GP/gp_res.py\u001b[0m in \u001b[0;36m<listcomp>\u001b[0;34m(.0)\u001b[0m\n\u001b[1;32m     22\u001b[0m \u001b[0;34m\u001b[0m\u001b[0m\n\u001b[1;32m     23\u001b[0m     \u001b[0;32mdef\u001b[0m \u001b[0mplot_performance\u001b[0m\u001b[0;34m(\u001b[0m\u001b[0mself\u001b[0m\u001b[0;34m,\u001b[0m \u001b[0mmetrics\u001b[0m\u001b[0;34m,\u001b[0m \u001b[0mit_time\u001b[0m\u001b[0;34m=\u001b[0m\u001b[0;34m'i'\u001b[0m\u001b[0;34m,\u001b[0m \u001b[0mfreq\u001b[0m\u001b[0;34m=\u001b[0m\u001b[0;36m1\u001b[0m\u001b[0;34m)\u001b[0m\u001b[0;34m:\u001b[0m\u001b[0;34m\u001b[0m\u001b[0m\n\u001b[0;32m---> 24\u001b[0;31m         \u001b[0my_lst\u001b[0m \u001b[0;34m=\u001b[0m \u001b[0;34m[\u001b[0m\u001b[0mmetrics\u001b[0m\u001b[0;34m(\u001b[0m\u001b[0mself\u001b[0m\u001b[0;34m.\u001b[0m\u001b[0mparams\u001b[0m\u001b[0;34m[\u001b[0m\u001b[0mi\u001b[0m\u001b[0;34m]\u001b[0m\u001b[0;34m)\u001b[0m \u001b[0;32mfor\u001b[0m \u001b[0mi\u001b[0m \u001b[0;32min\u001b[0m \u001b[0mrange\u001b[0m\u001b[0;34m(\u001b[0m\u001b[0mlen\u001b[0m\u001b[0;34m(\u001b[0m\u001b[0mself\u001b[0m\u001b[0;34m.\u001b[0m\u001b[0mparams\u001b[0m\u001b[0;34m)\u001b[0m\u001b[0;34m)\u001b[0m \u001b[0;32mif\u001b[0m \u001b[0;32mnot\u001b[0m \u001b[0;34m(\u001b[0m\u001b[0mi\u001b[0m \u001b[0;34m%\u001b[0m \u001b[0mfreq\u001b[0m\u001b[0;34m)\u001b[0m\u001b[0;34m]\u001b[0m\u001b[0;34m\u001b[0m\u001b[0m\n\u001b[0m\u001b[1;32m     25\u001b[0m         \u001b[0;32mif\u001b[0m \u001b[0mit_time\u001b[0m \u001b[0;34m==\u001b[0m \u001b[0;34m'i'\u001b[0m\u001b[0;34m:\u001b[0m\u001b[0;34m\u001b[0m\u001b[0m\n\u001b[1;32m     26\u001b[0m             \u001b[0mx_lst\u001b[0m \u001b[0;34m=\u001b[0m \u001b[0;34m[\u001b[0m\u001b[0mself\u001b[0m\u001b[0;34m.\u001b[0m\u001b[0miters\u001b[0m\u001b[0;34m[\u001b[0m\u001b[0mi\u001b[0m\u001b[0;34m]\u001b[0m \u001b[0;32mfor\u001b[0m \u001b[0mi\u001b[0m \u001b[0;32min\u001b[0m \u001b[0mrange\u001b[0m\u001b[0;34m(\u001b[0m\u001b[0mlen\u001b[0m\u001b[0;34m(\u001b[0m\u001b[0mself\u001b[0m\u001b[0;34m.\u001b[0m\u001b[0miters\u001b[0m\u001b[0;34m)\u001b[0m\u001b[0;34m)\u001b[0m \u001b[0;32mif\u001b[0m \u001b[0;32mnot\u001b[0m\u001b[0;34m(\u001b[0m\u001b[0mi\u001b[0m\u001b[0;34m%\u001b[0m\u001b[0mfreq\u001b[0m\u001b[0;34m)\u001b[0m\u001b[0;34m]\u001b[0m\u001b[0;34m\u001b[0m\u001b[0m\n",
      "\u001b[0;32m<ipython-input-12-f1d2f7e1bf15>\u001b[0m in \u001b[0;36m<lambda>\u001b[0;34m(w)\u001b[0m\n\u001b[1;32m      1\u001b[0m \u001b[0mvi_gp\u001b[0m \u001b[0;34m=\u001b[0m \u001b[0mGPC\u001b[0m\u001b[0;34m(\u001b[0m\u001b[0mmodel_covariance_obj\u001b[0m\u001b[0;34m,\u001b[0m \u001b[0mmethod\u001b[0m\u001b[0;34m=\u001b[0m\u001b[0;34m'vi'\u001b[0m\u001b[0;34m)\u001b[0m\u001b[0;34m\u001b[0m\u001b[0m\n\u001b[0;32m----> 2\u001b[0;31m \u001b[0mmetric\u001b[0m \u001b[0;34m=\u001b[0m \u001b[0;32mlambda\u001b[0m \u001b[0mw\u001b[0m\u001b[0;34m:\u001b[0m \u001b[0mvi_gp\u001b[0m\u001b[0;34m.\u001b[0m\u001b[0mget_prediction_quality\u001b[0m\u001b[0;34m(\u001b[0m\u001b[0mw\u001b[0m\u001b[0;34m,\u001b[0m \u001b[0mx_test\u001b[0m\u001b[0;34m,\u001b[0m \u001b[0my_test\u001b[0m\u001b[0;34m)\u001b[0m\u001b[0;34m\u001b[0m\u001b[0m\n\u001b[0m\u001b[1;32m      3\u001b[0m \u001b[0;32mfor\u001b[0m \u001b[0mi\u001b[0m \u001b[0;32min\u001b[0m \u001b[0mrange\u001b[0m\u001b[0;34m(\u001b[0m\u001b[0mlen\u001b[0m\u001b[0;34m(\u001b[0m\u001b[0mmaxfuns\u001b[0m\u001b[0;34m)\u001b[0m\u001b[0;34m)\u001b[0m\u001b[0;34m:\u001b[0m\u001b[0;34m\u001b[0m\u001b[0m\n\u001b[1;32m      4\u001b[0m     \u001b[0mtemp_vi_x_lst\u001b[0m\u001b[0;34m,\u001b[0m \u001b[0mtemp_vi_y_lst\u001b[0m \u001b[0;34m=\u001b[0m \u001b[0mresults\u001b[0m\u001b[0;34m[\u001b[0m\u001b[0mi\u001b[0m\u001b[0;34m]\u001b[0m\u001b[0;34m.\u001b[0m\u001b[0mplot_performance\u001b[0m\u001b[0;34m(\u001b[0m\u001b[0mmetric\u001b[0m\u001b[0;34m,\u001b[0m \u001b[0;34m't'\u001b[0m\u001b[0;34m,\u001b[0m \u001b[0mfreq\u001b[0m\u001b[0;34m=\u001b[0m\u001b[0;36m1\u001b[0m\u001b[0;34m)\u001b[0m\u001b[0;34m\u001b[0m\u001b[0m\n\u001b[1;32m      5\u001b[0m     \u001b[0mplt\u001b[0m\u001b[0;34m.\u001b[0m\u001b[0mplot\u001b[0m\u001b[0;34m(\u001b[0m\u001b[0mtemp_vi_x_lst\u001b[0m\u001b[0;34m[\u001b[0m\u001b[0;36m1\u001b[0m\u001b[0;34m:\u001b[0m\u001b[0;34m]\u001b[0m\u001b[0;34m,\u001b[0m \u001b[0mtemp_vi_y_lst\u001b[0m\u001b[0;34m[\u001b[0m\u001b[0;36m1\u001b[0m\u001b[0;34m:\u001b[0m\u001b[0;34m]\u001b[0m\u001b[0;34m,\u001b[0m \u001b[0mlabel\u001b[0m\u001b[0;34m=\u001b[0m\u001b[0mmaxfuns\u001b[0m\u001b[0;34m[\u001b[0m\u001b[0mi\u001b[0m\u001b[0;34m]\u001b[0m\u001b[0;34m)\u001b[0m\u001b[0;34m\u001b[0m\u001b[0m\n",
      "\u001b[0;32m/Users/IzmailovPavel/Documents/Education/Course Project/Code/GP/gaussian_process_classification.py\u001b[0m in \u001b[0;36mget_prediction_quality\u001b[0;34m(self, *args, **kwargs)\u001b[0m\n\u001b[1;32m    922\u001b[0m         \u001b[0;32mif\u001b[0m \u001b[0mself\u001b[0m\u001b[0;34m.\u001b[0m\u001b[0mmethod\u001b[0m \u001b[0;34m==\u001b[0m \u001b[0;34m'vi'\u001b[0m\u001b[0;34m:\u001b[0m\u001b[0;34m\u001b[0m\u001b[0m\n\u001b[1;32m    923\u001b[0m             \u001b[0;31m# raise ValueError('Not implemented yet')\u001b[0m\u001b[0;34m\u001b[0m\u001b[0;34m\u001b[0m\u001b[0m\n\u001b[0;32m--> 924\u001b[0;31m             \u001b[0;32mreturn\u001b[0m \u001b[0mself\u001b[0m\u001b[0;34m.\u001b[0m\u001b[0m_vi_get_prediction_quality\u001b[0m\u001b[0;34m(\u001b[0m\u001b[0;34m*\u001b[0m\u001b[0margs\u001b[0m\u001b[0;34m,\u001b[0m \u001b[0;34m**\u001b[0m\u001b[0mkwargs\u001b[0m\u001b[0;34m)\u001b[0m\u001b[0;34m\u001b[0m\u001b[0m\n\u001b[0m\u001b[1;32m    925\u001b[0m         \u001b[0;32melif\u001b[0m \u001b[0mself\u001b[0m\u001b[0;34m.\u001b[0m\u001b[0mmethod\u001b[0m \u001b[0;34m==\u001b[0m \u001b[0;34m'svi'\u001b[0m\u001b[0;34m:\u001b[0m\u001b[0;34m\u001b[0m\u001b[0m\n\u001b[1;32m    926\u001b[0m             \u001b[0;32mreturn\u001b[0m \u001b[0mself\u001b[0m\u001b[0;34m.\u001b[0m\u001b[0m_svi_get_prediction_quality\u001b[0m\u001b[0;34m(\u001b[0m\u001b[0;34m*\u001b[0m\u001b[0margs\u001b[0m\u001b[0;34m,\u001b[0m \u001b[0;34m**\u001b[0m\u001b[0mkwargs\u001b[0m\u001b[0;34m)\u001b[0m\u001b[0;34m\u001b[0m\u001b[0m\n",
      "\u001b[0;32m/Users/IzmailovPavel/Documents/Education/Course Project/Code/GP/gaussian_process_classification.py\u001b[0m in \u001b[0;36m_vi_get_prediction_quality\u001b[0;34m(self, params, test_points, test_targets)\u001b[0m\n\u001b[1;32m    913\u001b[0m         \u001b[0mtheta\u001b[0m\u001b[0;34m,\u001b[0m \u001b[0mmu\u001b[0m\u001b[0;34m,\u001b[0m \u001b[0mSigma\u001b[0m \u001b[0;34m=\u001b[0m \u001b[0mparams\u001b[0m\u001b[0;34m\u001b[0m\u001b[0m\n\u001b[1;32m    914\u001b[0m         \u001b[0mnew_gp\u001b[0m\u001b[0;34m.\u001b[0m\u001b[0mcovariance_obj\u001b[0m\u001b[0;34m.\u001b[0m\u001b[0mset_params\u001b[0m\u001b[0;34m(\u001b[0m\u001b[0mtheta\u001b[0m\u001b[0;34m)\u001b[0m\u001b[0;34m\u001b[0m\u001b[0m\n\u001b[0;32m--> 915\u001b[0;31m         \u001b[0mnew_gp\u001b[0m\u001b[0;34m.\u001b[0m\u001b[0minducing_inputs\u001b[0m \u001b[0;34m=\u001b[0m \u001b[0;34m(\u001b[0m\u001b[0mnew_gp\u001b[0m\u001b[0;34m.\u001b[0m\u001b[0minducing_inputs\u001b[0m\u001b[0;34m[\u001b[0m\u001b[0;36m0\u001b[0m\u001b[0;34m]\u001b[0m\u001b[0;34m,\u001b[0m \u001b[0mmu\u001b[0m\u001b[0;34m,\u001b[0m \u001b[0mSigma\u001b[0m\u001b[0;34m)\u001b[0m\u001b[0;34m\u001b[0m\u001b[0m\n\u001b[0m\u001b[1;32m    916\u001b[0m         \u001b[0mpredicted_y_test\u001b[0m \u001b[0;34m=\u001b[0m \u001b[0mnew_gp\u001b[0m\u001b[0;34m.\u001b[0m\u001b[0mpredict\u001b[0m\u001b[0;34m(\u001b[0m\u001b[0mtest_points\u001b[0m\u001b[0;34m)\u001b[0m\u001b[0;34m\u001b[0m\u001b[0m\n\u001b[1;32m    917\u001b[0m         \u001b[0;31m# return f1_score(test_targets, predicted_y_test)\u001b[0m\u001b[0;34m\u001b[0m\u001b[0;34m\u001b[0m\u001b[0m\n",
      "\u001b[0;31mTypeError\u001b[0m: 'NoneType' object is not subscriptable"
     ]
    }
   ],
   "source": [
    "vi_gp = GPC(model_covariance_obj, method='vi')\n",
    "metric = lambda w: vi_gp.get_prediction_quality(w, x_test, y_test)\n",
    "for i in range(len(maxfuns)):\n",
    "    temp_vi_x_lst, temp_vi_y_lst = results[i].plot_performance(metric, 't', freq=1)\n",
    "    plt.plot(temp_vi_x_lst[1:], temp_vi_y_lst[1:], label=maxfuns[i])\n",
    "    print(i)\n",
    "plt.ylim([.7, .9])\n",
    "plt.legend()\n",
    "plt.xlabel('Seconds')\n",
    "plt.ylabel('Accuracy')"
   ]
  },
  {
   "cell_type": "markdown",
   "metadata": {},
   "source": [
    "Лучший вариант"
   ]
  },
  {
   "cell_type": "code",
   "execution_count": 15,
   "metadata": {
    "collapsed": false,
    "scrolled": true
   },
   "outputs": [
    {
     "name": "stdout",
     "output_type": "stream",
     "text": [
      "Hyper-parameters at iteration 0 : [  3.00000000e+01   2.00000000e+01   1.00000000e-02]\n",
      "Hyper-parameters at iteration 1 : [  1.30875106e+01   5.38913466e+02   1.00000000e-02]\n",
      "Hyper-parameters at iteration 2 : [  6.27046637e+01   5.59863235e+02   1.00000000e-02]\n",
      "Hyper-parameters at iteration 3 : [  7.83412021e+01   5.64772344e+02   1.02901156e-01]\n",
      "\tHyper-parameters at outter iteration 0 : [  7.03818198e+01   5.59572885e+02   8.90437991e-02]\n",
      "Hyper-parameters at iteration 0 : [  7.03818198e+01   5.59572885e+02   8.90437991e-02]\n",
      "\tHyper-parameters at outter iteration 1 : [  7.03822029e+01   5.59572408e+02   8.90310296e-02]\n",
      "Hyper-parameters at iteration 0 : [  7.03822029e+01   5.59572408e+02   8.90310296e-02]\n",
      "Hyper-parameters at iteration 1 : [  7.05427371e+01   5.59831921e+02   8.32889253e-02]\n",
      "\tHyper-parameters at outter iteration 2 : [  7.05426757e+01   5.59831821e+02   8.32630766e-02]\n",
      "Hyper-parameters at iteration 0 : [  7.05426757e+01   5.59831821e+02   8.32630766e-02]\n",
      "Hyper-parameters at iteration 1 : [  7.15295959e+01   5.60457577e+02   7.42865370e-02]\n",
      "\tHyper-parameters at outter iteration 3 : [  7.15295959e+01   5.60457577e+02   7.42865370e-02]\n",
      "Hyper-parameters at iteration 0 : [  7.15295959e+01   5.60457577e+02   7.42865370e-02]\n",
      "Hyper-parameters at iteration 1 : [  7.15312624e+01   5.60472829e+02   7.40364451e-02]\n",
      "\tHyper-parameters at outter iteration 4 : [  7.15312611e+01   5.60472816e+02   7.40318766e-02]\n",
      "Hyper-parameters at iteration 0 : [  7.15312611e+01   5.60472816e+02   7.40318766e-02]\n",
      "\tHyper-parameters at outter iteration 5 : [  7.15312611e+01   5.60472816e+02   7.40318766e-02]\n",
      "Hyper-parameters at iteration 0 : [  7.15312611e+01   5.60472816e+02   7.40318766e-02]\n",
      "\tHyper-parameters at outter iteration 6 : [  7.15312611e+01   5.60472816e+02   7.40318766e-02]\n",
      "Hyper-parameters at iteration 0 : [  7.15312611e+01   5.60472816e+02   7.40318766e-02]\n",
      "Hyper-parameters at iteration 1 : [  7.20914750e+01   5.60792076e+02   6.90580911e-02]\n",
      "Hyper-parameters at iteration 2 : [  7.21502382e+01   5.60825228e+02   6.71903407e-02]\n",
      "\tHyper-parameters at outter iteration 7 : [  7.21518351e+01   5.60826123e+02   6.63821743e-02]\n",
      "Hyper-parameters at iteration 0 : [  7.21518351e+01   5.60826123e+02   6.63821743e-02]\n",
      "Hyper-parameters at iteration 1 : [  7.22336561e+01   5.60943795e+02   6.58209902e-02]\n",
      "\tHyper-parameters at outter iteration 8 : [  7.22220692e+01   5.60931896e+02   3.72746727e-02]\n",
      "Hyper-parameters at iteration 0 : [  7.22220692e+01   5.60931896e+02   3.72746727e-02]\n",
      "Hyper-parameters at iteration 1 : [  7.22229887e+01   5.60931808e+02   2.93788142e-01]\n",
      "Hyper-parameters at iteration 2 : [  7.22228736e+01   5.60931812e+02   2.22719171e-01]\n",
      "\tHyper-parameters at outter iteration 9 : [  7.22228844e+01   5.60931544e+02   1.45149192e-01]\n",
      "Hyper-parameters at iteration 0 : [  7.22228844e+01   5.60931544e+02   1.45149192e-01]\n",
      "Hyper-parameters at iteration 1 : [  7.32072462e+01   5.61200546e+02   1.11528445e-01]\n",
      "Hyper-parameters at iteration 2 : [  7.48734585e+01   5.61655706e+02   9.34221490e-02]\n",
      "\tHyper-parameters at outter iteration 10 : [  7.56766222e+01   5.61875136e+02   8.60045085e-02]\n",
      "Hyper-parameters at iteration 0 : [  7.56766222e+01   5.61875136e+02   8.60045085e-02]\n",
      "\tHyper-parameters at outter iteration 11 : [  7.58088814e+01   5.61974481e+02   8.14840235e-02]\n",
      "Hyper-parameters at iteration 0 : [  7.58088814e+01   5.61974481e+02   8.14840235e-02]\n",
      "\tHyper-parameters at outter iteration 12 : [  7.58088814e+01   5.61974481e+02   8.14840235e-02]\n",
      "Hyper-parameters at iteration 0 : [  7.58088814e+01   5.61974481e+02   8.14840235e-02]\n",
      "Hyper-parameters at iteration 1 : [  7.58110509e+01   5.61976920e+02   8.14393971e-02]\n",
      "\tHyper-parameters at outter iteration 13 : [  7.58110522e+01   5.61976921e+02   8.14307655e-02]\n",
      "Hyper-parameters at iteration 0 : [  7.58110522e+01   5.61976921e+02   8.14307655e-02]\n",
      "\tHyper-parameters at outter iteration 14 : [  7.57970413e+01   5.61983905e+02   7.82715870e-02]\n",
      "Hyper-parameters at iteration 0 : [  7.57970413e+01   5.61983905e+02   7.82715870e-02]\n",
      "Hyper-parameters at iteration 1 : [  7.68632477e+01   5.65035150e+02   6.75490685e-02]\n",
      "Hyper-parameters at iteration 2 : [  7.71782950e+01   5.65936687e+02   8.09041462e-02]\n",
      "Hyper-parameters at iteration 3 : [  7.85372097e+01   5.69825407e+02   1.00545000e-01]\n",
      "\tHyper-parameters at outter iteration 15 : [  7.85348671e+01   5.69792061e+02   9.99364737e-02]\n",
      "Hyper-parameters at iteration 0 : [  7.85348671e+01   5.69792061e+02   9.99364737e-02]\n",
      "Hyper-parameters at iteration 1 : [  7.86188040e+01   5.69800350e+02   9.89536337e-02]\n",
      "\tHyper-parameters at outter iteration 16 : [  7.85857727e+01   5.69796115e+02   5.12619431e-02]\n",
      "Hyper-parameters at iteration 0 : [  7.85857727e+01   5.69796115e+02   5.12619431e-02]\n",
      "Hyper-parameters at iteration 1 : [  7.85862374e+01   5.69796033e+02   2.27082492e-01]\n",
      "Hyper-parameters at iteration 2 : [  7.85861946e+01   5.69796061e+02   1.70701646e-01]\n",
      "\tHyper-parameters at outter iteration 17 : [  7.85859427e+01   5.69795517e+02   1.26933942e-01]\n",
      "Hyper-parameters at iteration 0 : [  7.85859427e+01   5.69795517e+02   1.26933942e-01]\n",
      "Hyper-parameters at iteration 1 : [  7.86177700e+01   5.70075763e+02   1.05918705e-01]\n",
      "\tHyper-parameters at outter iteration 18 : [  7.90523514e+01   5.73886675e+02   1.00000000e-02]\n",
      "Hyper-parameters at iteration 0 : [  7.90523514e+01   5.73886675e+02   1.00000000e-02]\n",
      "Hyper-parameters at iteration 1 : [  7.90533572e+01   5.73879110e+02   3.17750306e-01]\n",
      "\tHyper-parameters at outter iteration 19 : [  7.90531196e+01   5.73882589e+02   1.70186849e-01]\n"
     ]
    }
   ],
   "source": [
    "model_covariance_obj = SquaredExponential(np.copy(cov_params))\n",
    "vi_gp = GPC(model_covariance_obj, method='vi')\n",
    "opts = {'bound': 'Taylor', 'maxfun':5, 'mydisp': True, 'num_updates':3}\n",
    "vi_res = vi_gp.fit(x_tr, y_tr, inputs=inputs, optimizer_options=opts, max_out_iter=20)"
   ]
  },
  {
   "cell_type": "code",
   "execution_count": 16,
   "metadata": {
    "collapsed": false
   },
   "outputs": [
    {
     "data": {
      "text/plain": [
       "<matplotlib.text.Text at 0x10dd081d0>"
      ]
     },
     "execution_count": 16,
     "metadata": {},
     "output_type": "execute_result"
    },
    {
     "data": {
      "image/png": "[encoded data removed]",
      "text/plain": [
       "<matplotlib.figure.Figure at 0x10dcfa438>"
      ]
     },
     "metadata": {},
     "output_type": "display_data"
    }
   ],
   "source": [
    "metric = lambda w: vi_gp.get_prediction_quality(w, x_test, y_test)\n",
    "vi_t_x_lst, vi_t_y_lst = vi_res.plot_performance(metric, 't', freq=1)\n",
    "plt.plot(vi_t_x_lst[1:], vi_t_y_lst[1:], '-mx', label='vi-means-c')\n",
    "# plt.plot(svi_x_lst[1:100], svi_y_lst[1:100], '-gx', label='svi-L-BFGS-B-c')\n",
    "plt.ylim([.7, .9])\n",
    "plt.legend()\n",
    "plt.xlabel('Seconds')\n",
    "plt.ylabel('Accuracy')"
   ]
  },
  {
   "cell_type": "markdown",
   "metadata": {},
   "source": [
    "### Stochastic Taylor"
   ]
  },
  {
   "cell_type": "code",
   "execution_count": 11,
   "metadata": {
    "collapsed": false
   },
   "outputs": [
    {
     "name": "stdout",
     "output_type": "stream",
     "text": [
      "Iteration  0 :\n",
      "\tGradient norm 39.5916792905\n",
      "\tHyper-parameters at outter iteration 0 : [  2.94050034e+01   2.05873988e+01   2.45726542e-02]\n",
      "Iteration  0 :\n",
      "\tGradient norm 22.0069053916\n",
      "\tHyper-parameters at outter iteration 1 : [  2.88052481e+01   2.11793447e+01   1.95267701e-02]\n",
      "Iteration  0 :\n",
      "\tGradient norm 14.9481917361\n",
      "\tHyper-parameters at outter iteration 2 : [  2.80125615e+01   2.19575224e+01  -6.39837225e-03]\n",
      "Iteration  0 :\n",
      "\tGradient norm 10.9518289207\n",
      "\tHyper-parameters at outter iteration 3 : [  2.73975598e+01   2.25648292e+01  -8.92276876e-03]\n",
      "Iteration  0 :\n",
      "\tGradient norm 33.4369199458\n",
      "\tHyper-parameters at outter iteration 4 : [  2.67920522e+01   2.31638653e+01  -1.14470014e-02]\n",
      "Iteration  0 :\n",
      "\tGradient norm 25.6837086435\n",
      "\tHyper-parameters at outter iteration 5 : [  2.60168505e+01   2.39293296e+01   1.91774282e-02]\n",
      "Iteration  0 :\n",
      "\tGradient norm 4.73488768259\n",
      "\tHyper-parameters at outter iteration 6 : [  2.53970062e+01   2.45346978e+01  -6.16596378e-06]\n",
      "Iteration  0 :\n",
      "\tGradient norm 9.83439482991\n",
      "\tHyper-parameters at outter iteration 7 : [  2.47669665e+01   2.51465778e+01   9.12862060e-03]\n",
      "Iteration  0 :\n",
      "\tGradient norm 13.1127744692\n",
      "\tHyper-parameters at outter iteration 8 : [  2.41540572e+01   2.57382720e+01   8.05049180e-04]\n",
      "Iteration  0 :\n",
      "\tGradient norm 15.7435114314\n",
      "\tHyper-parameters at outter iteration 9 : [  2.35189343e+01   2.63588376e+01   2.48467628e-02]\n",
      "Iteration  0 :\n",
      "\tGradient norm 2.33905546642\n",
      "\tHyper-parameters at outter iteration 10 : [  2.29153553e+01   2.69477452e+01   2.00103312e-07]\n",
      "Iteration  0 :\n",
      "\tGradient norm 5.06132577201\n",
      "\tHyper-parameters at outter iteration 11 : [  2.23381907e+01   2.75084914e+01   5.24637242e-03]\n",
      "Iteration  0 :\n",
      "\tGradient norm 17.4245620739\n",
      "\tHyper-parameters at outter iteration 12 : [  2.17247603e+01   2.81086318e+01  -1.23879982e-02]\n",
      "Iteration  0 :\n",
      "\tGradient norm 1.46177326931\n",
      "\tHyper-parameters at outter iteration 13 : [  2.11587242e+01   2.86628595e+01  -2.89993560e-05]\n",
      "Iteration  0 :\n",
      "\tGradient norm 1.40660327842\n",
      "\tHyper-parameters at outter iteration 14 : [  2.05460173e+01   2.92607729e+01  -1.01830355e-04]\n",
      "Iteration  0 :\n",
      "\tGradient norm 1.53940184246\n",
      "\tHyper-parameters at outter iteration 15 : [  1.99519785e+01   2.98378434e+01  -2.85767743e-06]\n",
      "Iteration  0 :\n",
      "\tGradient norm 1.02921041212\n",
      "\tHyper-parameters at outter iteration 16 : [  1.93721283e+01   3.04120316e+01  -1.21562232e-05]\n",
      "Iteration  0 :\n",
      "\tGradient norm 1.17978598067\n",
      "\tHyper-parameters at outter iteration 17 : [  1.87624551e+01   3.10221817e+01   8.53323994e-04]\n",
      "Iteration  0 :\n",
      "\tGradient norm 0.892240762425\n",
      "\tHyper-parameters at outter iteration 18 : [  1.81453828e+01   3.16474446e+01  -5.73488201e-05]\n",
      "Iteration  0 :\n",
      "\tGradient norm 0.109390920399\n",
      "\tHyper-parameters at outter iteration 19 : [  1.75701333e+01   3.21931408e+01  -1.26657025e-05]\n"
     ]
    }
   ],
   "source": [
    "model_covariance_obj = SquaredExponential(np.copy(cov_params))\n",
    "vi_gp = GPC(model_covariance_obj, method='vi')\n",
    "opts = {'bound': 'Taylor', 'mode': 'adadelta', 'num_updates': 1, 'mydisp': True, 'print_freq': 1, 'step_rate': 1.,\n",
    "        'maxiter': 1, 'batch_size':1000}\n",
    "vi_res = vi_gp.fit(x_tr, y_tr, inputs=inputs, optimizer_options=opts, max_out_iter=20)"
   ]
  },
  {
   "cell_type": "code",
   "execution_count": 12,
   "metadata": {
    "collapsed": false
   },
   "outputs": [
    {
     "data": {
      "text/plain": [
       "<matplotlib.text.Text at 0x106791dd8>"
      ]
     },
     "execution_count": 12,
     "metadata": {},
     "output_type": "execute_result"
    },
    {
     "data": {
      "image/png": "[encoded data removed]",
      "text/plain": [
       "<matplotlib.figure.Figure at 0x106796f98>"
      ]
     },
     "metadata": {},
     "output_type": "display_data"
    }
   ],
   "source": [
    "metric = lambda w: vi_gp.get_prediction_quality(w, x_test, y_test)\n",
    "vi_st_x_lst, vi_st_y_lst = vi_res.plot_performance(metric, 't', freq=1)\n",
    "plt.plot(vi_st_x_lst[1:], vi_st_y_lst[1:], '-kx', label='vi-means-c Stochastic')\n",
    "plt.ylim([.8, .85])\n",
    "# plt.legend()\n",
    "plt.xlabel('Seconds')\n",
    "plt.ylabel('Accuracy')"
   ]
  },
  {
   "cell_type": "markdown",
   "metadata": {},
   "source": [
    "## svi-AdaDelta-c\n",
    "Подберем шаг для метода"
   ]
  },
  {
   "cell_type": "code",
   "execution_count": 22,
   "metadata": {
    "collapsed": false
   },
   "outputs": [
    {
     "name": "stdout",
     "output_type": "stream",
     "text": [
      "1.0\n",
      "0.5\n",
      "0.3\n",
      "0.1\n",
      "0.01\n"
     ]
    }
   ],
   "source": [
    "results = []\n",
    "steps = [1., 0.5, 0.3, 0.1, 0.01]\n",
    "for step in steps:\n",
    "    print(step)\n",
    "    model_covariance_obj = SquaredExponential(np.copy(cov_params))\n",
    "    ad_gp = GPC(model_covariance_obj, method='svi', hermgauss_deg=100)\n",
    "\n",
    "    opts = {'mode': 'adadelta', 'maxiter': 10, 'verbose': False, 'batch_size': 50, \n",
    "            'step_rate': step}#, 'print_freq':50}\n",
    "    batch_res = ad_gp.fit(x_tr, y_tr, inputs=inputs, optimizer_options=opts)\n",
    "    results.append(batch_res)"
   ]
  },
  {
   "cell_type": "code",
   "execution_count": 23,
   "metadata": {
    "collapsed": false
   },
   "outputs": [
    {
     "name": "stdout",
     "output_type": "stream",
     "text": [
      "0\n",
      "1\n",
      "2\n",
      "3\n",
      "4\n"
     ]
    },
    {
     "data": {
      "text/plain": [
       "<matplotlib.text.Text at 0x10e29ec50>"
      ]
     },
     "execution_count": 23,
     "metadata": {},
     "output_type": "execute_result"
    },
    {
     "data": {
      "image/png": "[encoded data removed]",
      "text/plain": [
       "<matplotlib.figure.Figure at 0x10e22b470>"
      ]
     },
     "metadata": {},
     "output_type": "display_data"
    }
   ],
   "source": [
    "metric = lambda w: ad_gp.get_prediction_quality(w, x_test, y_test)\n",
    "for i in range(len(results)):\n",
    "    svi_ad_x_lst, svi_ad_y_lst = results[i].plot_performance(metric, 't', freq=1)\n",
    "    plt.plot(svi_ad_x_lst[1:], svi_ad_y_lst[1:], label=steps[i])\n",
    "    print(i)\n",
    "plt.ylim([0.7, 1.])\n",
    "plt.legend()\n",
    "plt.xlabel('Seconds')\n",
    "plt.ylabel('Accuracy')"
   ]
  },
  {
   "cell_type": "code",
   "execution_count": 32,
   "metadata": {
    "collapsed": true
   },
   "outputs": [
    {
     "name": "stdout",
     "output_type": "stream",
     "text": [
      "Iteration  0 :\n",
      "\tGradient norm 16.992891933\n",
      "Iteration  1 :\n",
      "\tGradient norm 16.8966220792\n",
      "Iteration  2 :\n",
      "\tGradient norm 11.4420433255\n",
      "Iteration  3 :\n",
      "\tGradient norm 17.2119046613\n",
      "Iteration  4 :\n",
      "\tGradient norm 12.5996472058\n",
      "Iteration  5 :\n",
      "\tGradient norm 4.79841075653\n",
      "Iteration  6 :\n",
      "\tGradient norm 7.00657438865\n",
      "Iteration  7 :\n",
      "\tGradient norm 5.60460486767\n",
      "Iteration  8 :\n",
      "\tGradient norm 8.59201540456\n",
      "Iteration  9 :\n",
      "\tGradient norm 8.067834139\n",
      "Iteration  10 :\n",
      "\tGradient norm 12.2792703253\n",
      "Iteration  11 :\n",
      "\tGradient norm 4.54774122217\n",
      "Iteration  12 :\n",
      "\tGradient norm 12.9948175367\n",
      "Iteration  13 :\n",
      "\tGradient norm 16.9134018255\n",
      "Iteration  14 :\n",
      "\tGradient norm 7.69947844073\n",
      "Iteration  15 :\n",
      "\tGradient norm 5.06893182522\n",
      "Iteration  16 :\n",
      "\tGradient norm 5.3151366975\n",
      "Iteration  17 :\n",
      "\tGradient norm 6.74741514301\n",
      "Iteration  18 :\n",
      "\tGradient norm 6.14948890077\n",
      "Iteration  19 :\n",
      "\tGradient norm 4.63347064548\n"
     ]
    }
   ],
   "source": [
    "model_covariance_obj = SquaredExponential(np.copy(cov_params))\n",
    "ad_gp = GPC(model_covariance_obj, method='svi', hermgauss_deg=100)\n",
    "opts = {'mode': 'adadelta', 'maxiter': 20, 'verbose': True, 'batch_size': 200, \n",
    "        'step_rate': 1., 'print_freq':1}\n",
    "batch_res = ad_gp.fit(x_tr, y_tr, inputs=inputs, optimizer_options=opts)"
   ]
  },
  {
   "cell_type": "code",
   "execution_count": 33,
   "metadata": {
    "collapsed": false
   },
   "outputs": [
    {
     "data": {
      "text/plain": [
       "<matplotlib.text.Text at 0x1135afd30>"
      ]
     },
     "execution_count": 33,
     "metadata": {},
     "output_type": "execute_result"
    },
    {
     "data": {
      "image/png": "[encoded data removed]",
      "text/plain": [
       "<matplotlib.figure.Figure at 0x10e596c18>"
      ]
     },
     "metadata": {},
     "output_type": "display_data"
    }
   ],
   "source": [
    "metric = lambda w: ad_gp.get_prediction_quality(w, x_test, y_test)\n",
    "svi_ad_x_lst, svi_ad_y_lst = batch_res.plot_performance(metric, 't', freq=1)\n",
    "plt.plot(svi_ad_x_lst[1:], svi_ad_y_lst[1:], '-yx', label='svi-AdaDelta-c')\n",
    "plt.ylim([0.7, 1.])\n",
    "plt.legend()\n",
    "plt.xlabel('Seconds')\n",
    "plt.ylabel('Accuracy')"
   ]
  },
  {
   "cell_type": "markdown",
   "metadata": {},
   "source": [
    "## Выводы"
   ]
  },
  {
   "cell_type": "code",
   "execution_count": 34,
   "metadata": {
    "collapsed": false
   },
   "outputs": [
    {
     "data": {
      "text/plain": [
       "<matplotlib.text.Text at 0x10d6fe2e8>"
      ]
     },
     "execution_count": 34,
     "metadata": {},
     "output_type": "execute_result"
    },
    {
     "data": {
      "image/png": "[encoded data removed]",
      "text/plain": [
       "<matplotlib.figure.Figure at 0x10d3eeb00>"
      ]
     },
     "metadata": {},
     "output_type": "display_data"
    }
   ],
   "source": [
    "plt.figure(figsize=(12, 7))\n",
    "plt.plot(svi_x_lst[1:], svi_y_lst[1:], '-gx', label='svi-L-BFGS-B-c')\n",
    "plt.plot(svi_ad_x_lst[1:], svi_ad_y_lst[1:], '-yx', label='svi-AdaDelta-c')\n",
    "plt.plot(vi_x_lst[1:], vi_y_lst[1:], '-bx', label='vi-means-c')\n",
    "plt.ylim([0.7, 1.])\n",
    "plt.legend()\n",
    "plt.xlabel('Seconds')\n",
    "plt.ylabel('Accuracy')"
   ]
  },
  {
   "cell_type": "code",
   "execution_count": 17,
   "metadata": {
    "collapsed": true
   },
   "outputs": [],
   "source": [
    "np.save('../plots/vi_vs_svi_class/'+ data_name +'_vi_x.npy', vi_x_lst)\n",
    "np.save('../plots/vi_vs_svi_class/'+ data_name +'_vi_y.npy', vi_y_lst)\n",
    "np.save('../plots/vi_vs_svi_class/'+ data_name +'_vi_t_x.npy', vi_t_x_lst)\n",
    "np.save('../plots/vi_vs_svi_class/'+ data_name +'_vi_t_y.npy', vi_t_y_lst)"
   ]
  },
  {
   "cell_type": "code",
   "execution_count": 35,
   "metadata": {
    "collapsed": true
   },
   "outputs": [],
   "source": [
    "np.save('../plots/vi_vs_svi_class/'+ data_name +'_svi_x.npy', svi_x_lst)\n",
    "np.save('../plots/vi_vs_svi_class/'+ data_name +'_svi_y.npy', svi_y_lst)\n",
    "np.save('../plots/vi_vs_svi_class/'+ data_name +'_vi_x.npy', vi_x_lst)\n",
    "np.save('../plots/vi_vs_svi_class/'+ data_name +'_vi_y.npy', vi_y_lst)\n",
    "np.save('../plots/vi_vs_svi_class/'+ data_name +'_ad_x.npy', svi_ad_x_lst)\n",
    "np.save('../plots/vi_vs_svi_class/'+ data_name +'_ad_y.npy', svi_ad_y_lst)"
   ]
  },
  {
   "cell_type": "code",
   "execution_count": 14,
   "metadata": {
    "collapsed": true
   },
   "outputs": [],
   "source": [
    "np.save('../plots/vi_vs_svi_class/'+ data_name +'_vi_st_x.npy', vi_st_x_lst)\n",
    "np.save('../plots/vi_vs_svi_class/'+ data_name +'_vi_st_y.npy', vi_st_y_lst)"
   ]
  },
  {
   "cell_type": "code",
   "execution_count": null,
   "metadata": {
    "collapsed": true
   },
   "outputs": [],
   "source": []
  }
 ],
 "metadata": {
  "kernelspec": {
   "display_name": "Python 3",
   "language": "python",
   "name": "python3"
  },
  "language_info": {
   "codemirror_mode": {
    "name": "ipython",
    "version": 3
   },
   "file_extension": ".py",
   "mimetype": "text/x-python",
   "name": "python",
   "nbconvert_exporter": "python",
   "pygments_lexer": "ipython3",
   "version": "3.4.3"
  }
 },
 "nbformat": 4,
 "nbformat_minor": 0
}
