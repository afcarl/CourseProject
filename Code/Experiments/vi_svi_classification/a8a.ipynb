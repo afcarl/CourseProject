{
 "cells": [
  {
   "cell_type": "markdown",
   "metadata": {},
   "source": [
    "# a8a"
   ]
  },
  {
   "cell_type": "code",
   "execution_count": 1,
   "metadata": {
    "collapsed": false
   },
   "outputs": [],
   "source": [
    "import sys\n",
    "sys.path.append('/Users/IzmailovPavel/Documents/Education/Course Project/Code')\n",
    "import numpy as np\n",
    "import matplotlib as mpl\n",
    "\n",
    "from matplotlib import pyplot as plt\n",
    "\n",
    "from GP.covariance_functions import SquaredExponential\n",
    "from GP.gaussian_process_classification import GPC\n",
    "\n",
    "from sklearn.cluster import KMeans\n",
    "\n",
    "from sklearn.datasets import load_svmlight_file\n",
    "from sklearn.preprocessing import StandardScaler\n",
    "from sklearn.utils import shuffle\n",
    "%matplotlib inline\n",
    "%load_ext autoreload\n",
    "%autoreload 2"
   ]
  },
  {
   "cell_type": "markdown",
   "metadata": {},
   "source": [
    "\n",
    "## Данные"
   ]
  },
  {
   "cell_type": "code",
   "execution_count": 2,
   "metadata": {
    "collapsed": false
   },
   "outputs": [
    {
     "name": "stdout",
     "output_type": "stream",
     "text": [
      "18156 123\n",
      "a8a\n"
     ]
    }
   ],
   "source": [
    "x_tr, y_tr = load_svmlight_file('../../../../Programming/DataSets/Classification/a8a(22606,123).txt')\n",
    "x_tr, y_tr = shuffle(x_tr, y_tr, random_state=241)\n",
    "data_name = 'a8a'\n",
    "file_name = data_name\n",
    "\n",
    "x_tr = x_tr.toarray()\n",
    "scaler = StandardScaler()\n",
    "x_tr = scaler.fit_transform(x_tr).T\n",
    "\n",
    "x_tr = (x_tr + 1) / 2\n",
    "y_tr = y_tr.reshape((y_tr.size, 1))\n",
    "x_test = x_tr[:, int(x_tr.shape[1] * 0.8):]\n",
    "y_test = y_tr[int(x_tr.shape[1] * 0.8):, :]\n",
    "y_tr = y_tr[:int(x_tr.shape[1] * 0.8), :]\n",
    "x_tr = x_tr[:, : int(x_tr.shape[1] * 0.8)]\n",
    "dim, num = x_tr.shape\n",
    "print(num, dim)\n",
    "print(data_name)"
   ]
  },
  {
   "cell_type": "markdown",
   "metadata": {},
   "source": [
    "## K-Means cluster centers"
   ]
  },
  {
   "cell_type": "code",
   "execution_count": 3,
   "metadata": {
    "collapsed": false
   },
   "outputs": [
    {
     "name": "stdout",
     "output_type": "stream",
     "text": [
      "Finding means...\n",
      "...found\n"
     ]
    }
   ],
   "source": [
    "ind_num = 800\n",
    "print('Finding means...')\n",
    "means = KMeans(n_clusters=ind_num, n_init=3, max_iter=100, random_state=241)\n",
    "means.fit(x_tr.T)\n",
    "inputs = means.cluster_centers_.T\n",
    "print('...found')"
   ]
  },
  {
   "cell_type": "code",
   "execution_count": 4,
   "metadata": {
    "collapsed": true
   },
   "outputs": [],
   "source": [
    "with open('../plots/vi_vs_svi_class/'+ data_name +'_title.txt', 'w') as f:\n",
    "    title = data_name + ' dataset, ' + 'n = ' + str(num) + ', d = ' + str(dim) + ', m = ' + str(ind_num)\n",
    "    f.write(title)"
   ]
  },
  {
   "cell_type": "code",
   "execution_count": 5,
   "metadata": {
    "collapsed": true
   },
   "outputs": [],
   "source": [
    "cov_params = np.array([3., 2. , .01])"
   ]
  },
  {
   "cell_type": "markdown",
   "metadata": {},
   "source": [
    "## svi-L-BFGS-B-c method"
   ]
  },
  {
   "cell_type": "code",
   "execution_count": 6,
   "metadata": {
    "collapsed": true
   },
   "outputs": [],
   "source": [
    "model_covariance_obj = SquaredExponential(np.copy(cov_params))\n",
    "svi_gp = GPC(model_covariance_obj, method='svi')"
   ]
  },
  {
   "cell_type": "code",
   "execution_count": 7,
   "metadata": {
    "collapsed": false
   },
   "outputs": [
    {
     "name": "stdout",
     "output_type": "stream",
     "text": [
      "Hyper-parameters at iteration 0 : [ 3.    2.    0.01  0.    0.  ]\n",
      "Hyper-parameters at iteration 1 : [  2.99705128e+00   2.98422067e+00   1.00000000e-02  -1.68270069e-03\n",
      "  -7.86975085e-03]\n",
      "Hyper-parameters at iteration 2 : [ 2.78325379  3.6059069   0.04349921 -0.00428656 -0.01897555]\n",
      "Hyper-parameters at iteration 3 : [ 2.20355619  4.06409928  0.52037085 -0.00834689 -0.0358068 ]\n",
      "Hyper-parameters at iteration 4 : [ 1.73335657  4.6068364   0.86573851 -0.01257347 -0.05222703]\n",
      "Hyper-parameters at iteration 5 : [ 1.36179725  4.51700936  0.74210106 -0.01470447 -0.0583591 ]\n",
      "Hyper-parameters at iteration 6 : [ 0.9135236   4.27052882  0.49932677 -0.02161689 -0.07760084]\n",
      "Hyper-parameters at iteration 7 : [ 0.69063556  4.29709275  0.49721021 -0.02401519 -0.08495785]\n",
      "Hyper-parameters at iteration 8 : [ 0.49835457  4.36188093  0.53147822 -0.02668605 -0.09229525]\n",
      "Hyper-parameters at iteration 9 : [ 0.25852888  4.41467851  0.54717517 -0.03234009 -0.10664471]\n",
      "Hyper-parameters at iteration 10 : [ 0.14160269  4.54871668  0.57907099 -0.04010958 -0.12363929]\n",
      "Hyper-parameters at iteration 11 : [ 0.20777133  4.65780378  0.58879115 -0.04576735 -0.1348463 ]\n",
      "Hyper-parameters at iteration 12 : [ 0.50147289  5.53033819  0.58093986 -0.10377234 -0.2536182 ]\n",
      "Hyper-parameters at iteration 13 : [  1.9255303   10.26236017   0.49532564  -0.42552997  -0.91352713]\n",
      "Hyper-parameters at iteration 14 : [  2.70152787  12.83793543   0.45170422  -0.60828825  -1.25507731]\n",
      "Hyper-parameters at iteration 15 : [  3.97658529  17.35846302   0.48562975  -0.92315037  -1.83138975]\n",
      "Hyper-parameters at iteration 16 : [  4.35437034  19.56318603   0.5656619   -1.02618451  -1.88683727]\n",
      "Hyper-parameters at iteration 17 : [  5.13640721  23.72222129   0.60220823  -1.22326211  -1.98865214]\n",
      "Hyper-parameters at iteration 18 : [  5.4852623   26.24013471   0.48195159  -1.30454483  -1.95344467]\n",
      "Hyper-parameters at iteration 19 : [  5.83506413  29.16822524   0.50955391  -1.3971103   -1.84638419]\n",
      "Hyper-parameters at iteration 20 : [  5.95051654  30.79167454   0.51885459  -1.42940062  -1.71390823]\n",
      "Hyper-parameters at iteration 21 : [  5.97197788  32.07122722   0.54426359  -1.46011121  -1.64494956]\n",
      "Hyper-parameters at iteration 22 : [  5.9040669   36.67338438   0.57038878  -1.55564949  -1.38300414]\n",
      "Hyper-parameters at iteration 23 : [  5.70600449  40.28482403   0.56995927  -1.6258405   -1.19913774]\n",
      "Hyper-parameters at iteration 24 : [  6.04382864  41.99505096   0.53536123  -1.68684172  -1.1339942 ]\n",
      "Hyper-parameters at iteration 25 : [  6.79943841  41.99884454   0.46920804  -1.7443636   -1.18598922]\n",
      "Hyper-parameters at iteration 26 : [  7.32130067  40.8016646    0.44993792  -1.764121    -1.30937274]\n",
      "Hyper-parameters at iteration 27 : [  7.97447983  40.98110862   0.42639636  -1.82441573  -1.35338882]\n",
      "Hyper-parameters at iteration 28 : [  8.99792113  42.28728614   0.39844134  -1.93926778  -1.32204904]\n",
      "Hyper-parameters at iteration 29 : [  9.55568707  42.3084298    0.42870205  -1.98452205  -1.31860869]\n",
      "Hyper-parameters at iteration 30 : [  9.95216864  43.2832687    0.42997266  -2.03644907  -1.24429731]\n",
      "Hyper-parameters at iteration 31 : [ 10.40112892  42.70638138   0.4082413   -2.06163496  -1.23542616]\n",
      "Hyper-parameters at iteration 32 : [ 10.37257332  41.67516278   0.40593439  -2.0367628   -1.19869624]\n",
      "Hyper-parameters at iteration 33 : [ 10.16039751  40.00945807   0.38688272  -1.98161542  -1.12275315]\n",
      "Hyper-parameters at iteration 34 : [  9.59507191  40.64420008   0.41923578  -1.95195911  -0.78981563]\n",
      "Hyper-parameters at iteration 35 : [  9.55150002  39.11976349   0.3779022   -1.9184176   -0.89743428]\n",
      "Hyper-parameters at iteration 36 : [  9.4254421   39.04520854   0.35891018  -1.91940804  -0.99255719]\n",
      "Hyper-parameters at iteration 37 : [  9.57481807  39.86617071   0.32779486  -1.98456271  -1.07513196]\n",
      "Hyper-parameters at iteration 38 : [ 10.11177929  40.49026039   0.29056545  -2.05224099  -1.01772434]\n",
      "Hyper-parameters at iteration 39 : [ 11.26849107  43.64867905   0.23751434  -2.29599607  -1.13219093]\n",
      "Hyper-parameters at iteration 40 : [ 11.49988472  44.01462522   0.23844766  -2.32964071  -1.14248839]\n",
      "Hyper-parameters at iteration 41 : [ 11.42500938  43.78965988   0.22855706  -2.31775997  -1.14661233]\n",
      "Hyper-parameters at iteration 42 : [ 11.56544281  42.70589365   0.23398786  -2.30627635  -1.11791296]\n",
      "Hyper-parameters at iteration 43 : [ 11.50462108  42.83666091   0.23361256  -2.30568709  -1.10728389]\n",
      "Hyper-parameters at iteration 44 : [ 11.36468149  42.53757832   0.24201007  -2.27918439  -1.09224207]\n",
      "Hyper-parameters at iteration 45 : [ 11.70045376  43.15926675   0.21186986  -2.33961817  -1.17851419]\n",
      "Hyper-parameters at iteration 46 : [ 12.05821417  42.72376659   0.20234943  -2.36736926  -1.16526434]\n",
      "Hyper-parameters at iteration 47 : [ 12.39745327  42.25611657   0.19614018  -2.40012824  -1.15892106]\n",
      "Hyper-parameters at iteration 48 : [ 12.53015368  42.01457362   0.19041595  -2.41263405  -1.1244056 ]\n",
      "Hyper-parameters at iteration 49 : [ 12.56889742  42.0276003    0.17602194  -2.42390662  -1.0985461 ]\n",
      "Hyper-parameters at iteration 50 : [ 12.64713951  42.11108983   0.16222961  -2.43414462  -1.08664828]\n",
      "Hyper-parameters at iteration 51 : [ 12.48562454  42.45811228   0.14597186  -2.43091855  -1.07657739]\n"
     ]
    }
   ],
   "source": [
    "opts = {'mode': 'full', 'maxiter': 50, 'mydisp': True}\n",
    "svi_res = svi_gp.fit(x_tr, y_tr, inputs=inputs, optimizer_options=opts)"
   ]
  },
  {
   "cell_type": "code",
   "execution_count": 8,
   "metadata": {
    "collapsed": false
   },
   "outputs": [],
   "source": [
    "metric = lambda w: svi_gp.get_prediction_quality(w, x_test, y_test)\n",
    "svi_x_lst, svi_y_lst = svi_res.plot_performance(metric, 't', freq=1)"
   ]
  },
  {
   "cell_type": "code",
   "execution_count": 14,
   "metadata": {
    "collapsed": false
   },
   "outputs": [
    {
     "data": {
      "text/plain": [
       "<matplotlib.text.Text at 0x113eaa5f8>"
      ]
     },
     "execution_count": 14,
     "metadata": {},
     "output_type": "execute_result"
    },
    {
     "data": {
      "image/png": "[encoded data removed]",
      "text/plain": [
       "<matplotlib.figure.Figure at 0x10eb9e588>"
      ]
     },
     "metadata": {},
     "output_type": "display_data"
    }
   ],
   "source": [
    "plt.plot(svi_x_lst[1:], svi_y_lst[1:], '-gx', label='svi-L-BFGS-B-c')\n",
    "plt.ylim([0.7, .9])\n",
    "plt.legend()\n",
    "plt.xlabel('Seconds')\n",
    "plt.ylabel('Accuracy')"
   ]
  },
  {
   "cell_type": "markdown",
   "metadata": {},
   "source": [
    "## vi-means-c method\n"
   ]
  },
  {
   "cell_type": "code",
   "execution_count": 14,
   "metadata": {
    "collapsed": false
   },
   "outputs": [
    {
     "name": "stdout",
     "output_type": "stream",
     "text": [
      "Hyper-parameters at iteration 0 : [ 3.    2.    0.01]\n",
      "Hyper-parameters at iteration 1 : [  1.96869180e+00   3.46229293e+02   1.00000000e-02]\n",
      "Hyper-parameters at iteration 2 : [  1.61095798e+01   3.57749790e+02   1.00000000e-02]\n",
      "\tHyper-parameters at outter iteration 0 : [  2.49891640e+01   3.64348313e+02   1.00000000e-02]\n",
      "Hyper-parameters at iteration 0 : [  2.49891640e+01   3.64348313e+02   1.00000000e-02]\n",
      "Hyper-parameters at iteration 1 : [  2.52153100e+01   3.64179064e+02   1.00000000e-02]\n",
      "\tHyper-parameters at outter iteration 1 : [  2.52156004e+01   3.64178846e+02   1.00000000e-02]\n",
      "Hyper-parameters at iteration 0 : [  2.52156004e+01   3.64178846e+02   1.00000000e-02]\n",
      "Hyper-parameters at iteration 1 : [  2.90859512e+01   3.45333068e+02   1.00000000e-02]\n",
      "\tHyper-parameters at outter iteration 2 : [  2.90859512e+01   3.45333068e+02   1.00000000e-02]\n",
      "Hyper-parameters at iteration 0 : [  2.90859512e+01   3.45333068e+02   1.00000000e-02]\n",
      "\tHyper-parameters at outter iteration 3 : [  2.81080024e+01   3.45615640e+02   1.00000000e-02]\n",
      "Hyper-parameters at iteration 0 : [  2.81080024e+01   3.45615640e+02   1.00000000e-02]\n",
      "Hyper-parameters at iteration 1 : [  2.90542823e+01   3.45545954e+02   1.00000000e-02]\n",
      "\tHyper-parameters at outter iteration 4 : [  2.90549266e+01   3.45545906e+02   1.00000000e-02]\n"
     ]
    }
   ],
   "source": [
    "model_covariance_obj = SquaredExponential(np.copy(cov_params))\n",
    "vi_gp = GPC(model_covariance_obj, method='vi')\n",
    "opts = {'maxfun':5, 'mydisp': True, 'num_updates':3}\n",
    "vi_res = vi_gp.fit(x_tr, y_tr, inputs=inputs, optimizer_options=opts, max_out_iter=5)"
   ]
  },
  {
   "cell_type": "code",
   "execution_count": 15,
   "metadata": {
    "collapsed": false
   },
   "outputs": [
    {
     "data": {
      "text/plain": [
       "<matplotlib.text.Text at 0x10dd837b8>"
      ]
     },
     "execution_count": 15,
     "metadata": {},
     "output_type": "execute_result"
    },
    {
     "data": {
      "image/png": "[encoded data removed]",
      "text/plain": [
       "<matplotlib.figure.Figure at 0x10cdf6f28>"
      ]
     },
     "metadata": {},
     "output_type": "display_data"
    }
   ],
   "source": [
    "metric = lambda w: vi_gp.get_prediction_quality(w, x_test, y_test)\n",
    "vi_x_lst, vi_y_lst = vi_res.plot_performance(metric, 't', freq=1)\n",
    "plt.plot(vi_x_lst[1:], vi_y_lst[1:], '-bx', label='vi-means-c')\n",
    "# plt.plot(svi_x_lst[1:100], svi_y_lst[1:100], '-gx', label='svi-L-BFGS-B-c')\n",
    "plt.ylim([0.7, .9])\n",
    "plt.legend()\n",
    "plt.xlabel('Seconds')\n",
    "plt.ylabel('Accuracy')"
   ]
  },
  {
   "cell_type": "markdown",
   "metadata": {},
   "source": [
    "### Taylor"
   ]
  },
  {
   "cell_type": "code",
   "execution_count": 17,
   "metadata": {
    "collapsed": false,
    "scrolled": true
   },
   "outputs": [
    {
     "name": "stdout",
     "output_type": "stream",
     "text": [
      "Hyper-parameters at iteration 0 : [ 3.    2.    0.01]\n",
      "Hyper-parameters at iteration 1 : [  1.00000000e-02   1.00000000e+03   1.00000000e-02]\n",
      "Hyper-parameters at iteration 2 : [  1.31746746e+01   1.00000000e+03   1.00000000e-02]\n",
      "Hyper-parameters at iteration 3 : [  1.31910533e+01   9.99778425e+02   1.00000000e-02]\n",
      "\tHyper-parameters at outter iteration 0 : [  1.31924897e+01   9.99767976e+02   1.00000000e-02]\n",
      "Hyper-parameters at iteration 0 : [  1.31924897e+01   9.99767976e+02   1.00000000e-02]\n",
      "Hyper-parameters at iteration 1 : [  1.61060717e+01   9.99709877e+02   1.00000000e-02]\n",
      "\tHyper-parameters at outter iteration 1 : [  1.67814018e+01   9.99673399e+02   1.00000000e-02]\n",
      "Hyper-parameters at iteration 0 : [  1.67814018e+01   9.99673399e+02   1.00000000e-02]\n",
      "Hyper-parameters at iteration 1 : [  1.69137237e+01   9.99670449e+02   1.00000000e-02]\n",
      "\tHyper-parameters at outter iteration 2 : [  1.72661038e+01   9.99636309e+02   1.00000000e-02]\n",
      "Hyper-parameters at iteration 0 : [  1.72661038e+01   9.99636309e+02   1.00000000e-02]\n",
      "\tHyper-parameters at outter iteration 3 : [  1.72543357e+01   9.99634937e+02   1.00000000e-02]\n",
      "Hyper-parameters at iteration 0 : [  1.72543357e+01   9.99634937e+02   1.00000000e-02]\n",
      "Hyper-parameters at iteration 1 : [  2.07469403e+01   9.99581280e+02   1.00000000e-02]\n",
      "\tHyper-parameters at outter iteration 4 : [  2.07621244e+01   9.99581035e+02   1.00000000e-02]\n"
     ]
    }
   ],
   "source": [
    "model_covariance_obj = SquaredExponential(np.copy(cov_params))\n",
    "vi_gp = GPC(model_covariance_obj, method='vi')\n",
    "opts = {'bound': 'Taylor', 'maxfun':5, 'mydisp': True, 'num_updates':3}\n",
    "vi_res = vi_gp.fit(x_tr, y_tr, inputs=inputs, optimizer_options=opts, max_out_iter=5)"
   ]
  },
  {
   "cell_type": "code",
   "execution_count": 19,
   "metadata": {
    "collapsed": false
   },
   "outputs": [
    {
     "data": {
      "text/plain": [
       "<matplotlib.text.Text at 0x10dbec198>"
      ]
     },
     "execution_count": 19,
     "metadata": {},
     "output_type": "execute_result"
    },
    {
     "data": {
      "image/png": "[encoded data removed]",
      "text/plain": [
       "<matplotlib.figure.Figure at 0x10cdf6a20>"
      ]
     },
     "metadata": {},
     "output_type": "display_data"
    }
   ],
   "source": [
    "metric = lambda w: vi_gp.get_prediction_quality(w, x_test, y_test)\n",
    "vi_t_x_lst, vi_t_y_lst = vi_res.plot_performance(metric, 't', freq=1)\n",
    "plt.plot(vi_t_x_lst[1:], vi_t_y_lst[1:], '-mx', label='vi-means-c')\n",
    "# plt.plot(svi_x_lst[1:100], svi_y_lst[1:100], '-gx', label='svi-L-BFGS-B-c')\n",
    "plt.ylim([.7, .9])\n",
    "plt.legend()\n",
    "plt.xlabel('Seconds')\n",
    "plt.ylabel('Accuracy')"
   ]
  },
  {
   "cell_type": "markdown",
   "metadata": {},
   "source": [
    "### JJ-full\n",
    "#### Standard"
   ]
  },
  {
   "cell_type": "code",
   "execution_count": 6,
   "metadata": {
    "collapsed": false
   },
   "outputs": [
    {
     "name": "stdout",
     "output_type": "stream",
     "text": [
      "Standard mode\n",
      "Hyper-parameters at iteration 0 : [ 3.    2.    0.01  1.    1.  ]\n",
      "Hyper-parameters at iteration 1 : [ 2.99700449  2.99983812  0.01        1.00013863  1.00008601]\n",
      "Hyper-parameters at iteration 2 : [ 3.06304734  4.32044119  0.01        1.00034376  1.00020574]\n",
      "Hyper-parameters at iteration 3 : [ 3.00253224  5.08715746  0.01        1.00050887  1.00029142]\n",
      "Hyper-parameters at iteration 4 : [ 2.70069273  5.96151341  0.01        1.0007851   1.0004298 ]\n",
      "Hyper-parameters at iteration 5 : [ 2.03961093  6.58765676  0.01        1.00114598  1.00061762]\n",
      "Hyper-parameters at iteration 6 : [ 0.97860031  6.80557252  0.01        1.00162762  1.00087847]\n",
      "Hyper-parameters at iteration 7 : [ 1.03137824  7.4157309   0.01        1.00290841  1.00150306]\n",
      "Hyper-parameters at iteration 8 : [ 1.29004262  9.03337841  0.01        1.00778776  1.00359167]\n",
      "Hyper-parameters at iteration 9 : [  1.36958919e+00   1.04206118e+01   1.00000000e-02   1.01504176e+00\n",
      "   1.00634738e+00]\n",
      "Hyper-parameters at iteration 10 : [  1.55752281e+00   1.20192456e+01   1.00000000e-02   1.02499787e+00\n",
      "   1.00986563e+00]\n",
      "Hyper-parameters at iteration 11 : [  1.82732908e+00   1.43180618e+01   1.00000000e-02   1.09072389e+00\n",
      "   1.02641294e+00]\n"
     ]
    }
   ],
   "source": [
    "model_covariance_obj = SquaredExponential(np.copy(cov_params))\n",
    "vi_gp = GPC(model_covariance_obj, method='vi_full')\n",
    "opts = {'maxiter':10, 'mydisp': True, 'hybrid': False}\n",
    "vi_res = vi_gp.fit(x_tr, y_tr, inputs=inputs, optimizer_options=opts)"
   ]
  },
  {
   "cell_type": "code",
   "execution_count": 7,
   "metadata": {
    "collapsed": false
   },
   "outputs": [
    {
     "data": {
      "text/plain": [
       "<matplotlib.text.Text at 0x112487fd0>"
      ]
     },
     "execution_count": 7,
     "metadata": {},
     "output_type": "execute_result"
    },
    {
     "data": {
      "image/png": "[encoded data removed]",
      "text/plain": [
       "<matplotlib.figure.Figure at 0x105fc0390>"
      ]
     },
     "metadata": {},
     "output_type": "display_data"
    }
   ],
   "source": [
    "metric = lambda w: vi_gp.get_prediction_quality(w, x_tr, y_tr, x_test, y_test)\n",
    "vi_full_x_lst, vi_full_y_lst = vi_res.plot_performance(metric, 't', freq=1)\n",
    "plt.plot(vi_full_x_lst[1:], vi_full_y_lst[1:], '-kx', label='vi-JJ-full')\n",
    "# plt.plot(svi_x_lst[1:100], svi_y_lst[1:100], '-gx', label='svi-L-BFGS-B-c')\n",
    "plt.ylim([.7, .9])\n",
    "plt.legend()\n",
    "plt.xlabel('Seconds')\n",
    "plt.ylabel('Accuracy')"
   ]
  },
  {
   "cell_type": "markdown",
   "metadata": {},
   "source": [
    "#### Hybrid"
   ]
  },
  {
   "cell_type": "code",
   "execution_count": 8,
   "metadata": {
    "collapsed": false
   },
   "outputs": [
    {
     "name": "stdout",
     "output_type": "stream",
     "text": [
      "Hybrid mode\n",
      "\tAnalytic updates number:3\n",
      "Hyper-parameters at iteration 0 : [ 3.    2.    0.01  1.    1.  ]\n",
      "Hyper-parameters at iteration 1 : [ 2.99700449  2.99983812  0.01        1.00013863  1.00008601]\n",
      "Hyper-parameters at iteration 2 : [ 3.06304734  4.32044119  0.01        1.00034376  1.00020574]\n",
      "Hyper-parameters at iteration 3 : [ 3.00253224  5.08715746  0.01        1.00050887  1.00029142]\n",
      "Hyper-parameters at iteration 4 : [ 2.70069273  5.96151341  0.01        1.0007851   1.0004298 ]\n",
      "Hyper-parameters at iteration 5 : [ 2.03961093  6.58765676  0.01        1.00114598  1.00061762]\n",
      "Hyper-parameters at iteration 0 : [ 0.97860031  6.80557252  0.01        3.61585545  2.27561247]\n",
      "Hyper-parameters at iteration 1 : [ 1.17846351  6.87730081  0.01        3.61590656  2.27562599]\n",
      "Hyper-parameters at iteration 2 : [ 1.16445958  6.94970536  0.01        3.61595675  2.27564021]\n",
      "Hyper-parameters at iteration 3 : [ 1.1538421   7.91839269  0.01        3.61671705  2.27583878]\n",
      "Hyper-parameters at iteration 4 : [ 1.26636517  8.96685297  0.01        3.61782871  2.27607038]\n",
      "Hyper-parameters at iteration 0 : [  1.51895886e+00   1.03612614e+01   1.00000000e-02   5.31896579e+00\n",
      "   2.45509338e+00]\n",
      "Hyper-parameters at iteration 1 : [  1.78077871e+00   1.03899473e+01   1.00000000e-02   5.31903987e+00\n",
      "   2.45510347e+00]\n",
      "Hyper-parameters at iteration 2 : [  1.73944195e+00   1.06773235e+01   1.00000000e-02   5.31941891e+00\n",
      "   2.45519113e+00]\n",
      "Hyper-parameters at iteration 3 : [  1.79165244e+00   1.14837938e+01   1.00000000e-02   5.32058584e+00\n",
      "   2.45544462e+00]\n"
     ]
    }
   ],
   "source": [
    "model_covariance_obj = SquaredExponential(np.copy(cov_params))\n",
    "vi_gp = GPC(model_covariance_obj, method='vi_full')\n",
    "opts = {'mydisp': True, 'hybrid': True, 'maxfun':5, 'maxoutiter': 3}\n",
    "vi_res = vi_gp.fit(x_tr, y_tr, inputs=inputs, optimizer_options=opts)"
   ]
  },
  {
   "cell_type": "code",
   "execution_count": 9,
   "metadata": {
    "collapsed": false
   },
   "outputs": [
    {
     "data": {
      "text/plain": [
       "<matplotlib.text.Text at 0x112440c18>"
      ]
     },
     "execution_count": 9,
     "metadata": {},
     "output_type": "execute_result"
    },
    {
     "data": {
      "image/png": "[encoded data removed]",
      "text/plain": [
       "<matplotlib.figure.Figure at 0x104cf3eb8>"
      ]
     },
     "metadata": {},
     "output_type": "display_data"
    }
   ],
   "source": [
    "metric = lambda w: vi_gp.get_prediction_quality(w, x_tr, y_tr, x_test, y_test)\n",
    "vi_h_x_lst, vi_h_y_lst = vi_res.plot_performance(metric, 't', freq=1)\n",
    "plt.plot(vi_h_x_lst[1:], vi_h_y_lst[1:], '-rx', label='vi-JJ-hybrid')\n",
    "plt.ylim([.7, .9])\n",
    "plt.legend()\n",
    "plt.xlabel('Seconds')\n",
    "plt.ylabel('Accuracy')"
   ]
  },
  {
   "cell_type": "markdown",
   "metadata": {},
   "source": [
    "## svi-AdaDelta-c\n",
    "Подберем шаг для метода"
   ]
  },
  {
   "cell_type": "code",
   "execution_count": 25,
   "metadata": {
    "collapsed": false
   },
   "outputs": [
    {
     "name": "stdout",
     "output_type": "stream",
     "text": [
      "1.0\n",
      "Using AdaDelta optimizer\n",
      "Iteration  0 :\n",
      "\tGradient norm 21.4385852605\n",
      "Iteration  1 :\n",
      "\tGradient norm 23.5209739946\n",
      "Iteration  2 :\n",
      "\tGradient norm 4.43004268898\n",
      "Iteration  3 :\n",
      "\tGradient norm 11.9079159693\n",
      "Iteration  4 :\n",
      "\tGradient norm 17.2474819173\n",
      "0.5\n",
      "Using AdaDelta optimizer\n",
      "Iteration  0 :\n",
      "\tGradient norm 45.4483579813\n",
      "Iteration  1 :\n",
      "\tGradient norm 31.9389963731\n",
      "Iteration  2 :\n",
      "\tGradient norm 16.9789839387\n",
      "Iteration  3 :\n",
      "\tGradient norm 8.77759981868\n"
     ]
    },
    {
     "ename": "KeyboardInterrupt",
     "evalue": "",
     "output_type": "error",
     "traceback": [
      "\u001b[0;31m---------------------------------------------------------------------------\u001b[0m",
      "\u001b[0;31mKeyboardInterrupt\u001b[0m                         Traceback (most recent call last)",
      "\u001b[0;32m<ipython-input-25-2d9fe538b1eb>\u001b[0m in \u001b[0;36m<module>\u001b[0;34m()\u001b[0m\n\u001b[1;32m      8\u001b[0m     opts = {'mode': 'adadelta', 'maxiter': 5, 'verbose': True, 'batch_size': 200, \n\u001b[1;32m      9\u001b[0m             'step_rate': step}#, 'print_freq':50}\n\u001b[0;32m---> 10\u001b[0;31m     \u001b[0mbatch_res\u001b[0m \u001b[0;34m=\u001b[0m \u001b[0mad_gp\u001b[0m\u001b[0;34m.\u001b[0m\u001b[0mfit\u001b[0m\u001b[0;34m(\u001b[0m\u001b[0mx_tr\u001b[0m\u001b[0;34m,\u001b[0m \u001b[0my_tr\u001b[0m\u001b[0;34m,\u001b[0m \u001b[0minputs\u001b[0m\u001b[0;34m=\u001b[0m\u001b[0minputs\u001b[0m\u001b[0;34m,\u001b[0m \u001b[0moptimizer_options\u001b[0m\u001b[0;34m=\u001b[0m\u001b[0mopts\u001b[0m\u001b[0;34m)\u001b[0m\u001b[0;34m\u001b[0m\u001b[0m\n\u001b[0m\u001b[1;32m     11\u001b[0m     \u001b[0mresults\u001b[0m\u001b[0;34m.\u001b[0m\u001b[0mappend\u001b[0m\u001b[0;34m(\u001b[0m\u001b[0mbatch_res\u001b[0m\u001b[0;34m)\u001b[0m\u001b[0;34m\u001b[0m\u001b[0m\n",
      "\u001b[0;32m/Users/IzmailovPavel/Documents/Education/Course Project/Code/GP/gaussian_process_classification.py\u001b[0m in \u001b[0;36mfit\u001b[0;34m(self, *args, **kwargs)\u001b[0m\n\u001b[1;32m    266\u001b[0m             \u001b[0;32mreturn\u001b[0m \u001b[0mself\u001b[0m\u001b[0;34m.\u001b[0m\u001b[0m_brute_alternative_fit\u001b[0m\u001b[0;34m(\u001b[0m\u001b[0;34m*\u001b[0m\u001b[0margs\u001b[0m\u001b[0;34m,\u001b[0m \u001b[0;34m**\u001b[0m\u001b[0mkwargs\u001b[0m\u001b[0;34m)\u001b[0m\u001b[0;34m\u001b[0m\u001b[0m\n\u001b[1;32m    267\u001b[0m         \u001b[0;32melif\u001b[0m \u001b[0mself\u001b[0m\u001b[0;34m.\u001b[0m\u001b[0mmethod\u001b[0m \u001b[0;34m==\u001b[0m \u001b[0;34m'svi'\u001b[0m\u001b[0;34m:\u001b[0m\u001b[0;34m\u001b[0m\u001b[0m\n\u001b[0;32m--> 268\u001b[0;31m             \u001b[0;32mreturn\u001b[0m \u001b[0mself\u001b[0m\u001b[0;34m.\u001b[0m\u001b[0m_svi_fit\u001b[0m\u001b[0;34m(\u001b[0m\u001b[0;34m*\u001b[0m\u001b[0margs\u001b[0m\u001b[0;34m,\u001b[0m \u001b[0;34m**\u001b[0m\u001b[0mkwargs\u001b[0m\u001b[0;34m)\u001b[0m\u001b[0;34m\u001b[0m\u001b[0m\n\u001b[0m\u001b[1;32m    269\u001b[0m         \u001b[0;32melif\u001b[0m \u001b[0mself\u001b[0m\u001b[0;34m.\u001b[0m\u001b[0mmethod\u001b[0m \u001b[0;34m==\u001b[0m \u001b[0;34m'vi_full'\u001b[0m\u001b[0;34m:\u001b[0m\u001b[0;34m\u001b[0m\u001b[0m\n\u001b[1;32m    270\u001b[0m             \u001b[0;32mreturn\u001b[0m \u001b[0mself\u001b[0m\u001b[0;34m.\u001b[0m\u001b[0m_vi_jj_full_fit\u001b[0m\u001b[0;34m(\u001b[0m\u001b[0;34m*\u001b[0m\u001b[0margs\u001b[0m\u001b[0;34m,\u001b[0m \u001b[0;34m**\u001b[0m\u001b[0mkwargs\u001b[0m\u001b[0;34m)\u001b[0m\u001b[0;34m\u001b[0m\u001b[0m\n",
      "\u001b[0;32m/Users/IzmailovPavel/Documents/Education/Course Project/Code/GP/gaussian_process_classification.py\u001b[0m in \u001b[0;36m_svi_fit\u001b[0;34m(self, data_points, target_values, num_inputs, inputs, optimizer_options)\u001b[0m\n\u001b[1;32m    532\u001b[0m         \u001b[0;32melif\u001b[0m \u001b[0mmode\u001b[0m \u001b[0;34m==\u001b[0m \u001b[0;34m'adadelta'\u001b[0m\u001b[0;34m:\u001b[0m\u001b[0;34m\u001b[0m\u001b[0m\n\u001b[1;32m    533\u001b[0m             res, w_list, time_list = climin_wrapper(oracle=adadelta_fun, w0=param_vec, train_points=data_points,\n\u001b[0;32m--> 534\u001b[0;31m                                                     train_targets=target_values, options=opts, method='AdaDelta')\n\u001b[0m\u001b[1;32m    535\u001b[0m \u001b[0;34m\u001b[0m\u001b[0m\n\u001b[1;32m    536\u001b[0m         \u001b[0mtheta\u001b[0m\u001b[0;34m,\u001b[0m \u001b[0mmu\u001b[0m\u001b[0;34m,\u001b[0m \u001b[0msigma_L\u001b[0m \u001b[0;34m=\u001b[0m \u001b[0mself\u001b[0m\u001b[0;34m.\u001b[0m\u001b[0m_svi_get_parameters\u001b[0m\u001b[0;34m(\u001b[0m\u001b[0mres\u001b[0m\u001b[0;34m)\u001b[0m\u001b[0;34m\u001b[0m\u001b[0m\n",
      "\u001b[0;32m/Users/IzmailovPavel/Documents/Education/Course Project/Code/GP/optimization.py\u001b[0m in \u001b[0;36mclimin_wrapper\u001b[0;34m(oracle, w0, train_points, train_targets, options, method)\u001b[0m\n\u001b[1;32m    549\u001b[0m     \u001b[0;32mif\u001b[0m \u001b[0moptions\u001b[0m\u001b[0;34m[\u001b[0m\u001b[0;34m'verbose'\u001b[0m\u001b[0;34m]\u001b[0m\u001b[0;34m:\u001b[0m\u001b[0;34m\u001b[0m\u001b[0m\n\u001b[1;32m    550\u001b[0m         \u001b[0mprint\u001b[0m\u001b[0;34m(\u001b[0m\u001b[0;34m'Using '\u001b[0m \u001b[0;34m+\u001b[0m \u001b[0mmethod\u001b[0m \u001b[0;34m+\u001b[0m \u001b[0;34m' optimizer'\u001b[0m\u001b[0;34m)\u001b[0m\u001b[0;34m\u001b[0m\u001b[0m\n\u001b[0;32m--> 551\u001b[0;31m     \u001b[0;32mfor\u001b[0m \u001b[0minfo\u001b[0m \u001b[0;32min\u001b[0m \u001b[0mopt\u001b[0m\u001b[0;34m:\u001b[0m\u001b[0;34m\u001b[0m\u001b[0m\n\u001b[0m\u001b[1;32m    552\u001b[0m         \u001b[0mi\u001b[0m \u001b[0;34m=\u001b[0m \u001b[0minfo\u001b[0m\u001b[0;34m[\u001b[0m\u001b[0;34m'n_iter'\u001b[0m\u001b[0;34m]\u001b[0m\u001b[0;34m\u001b[0m\u001b[0m\n\u001b[1;32m    553\u001b[0m         \u001b[0;32mif\u001b[0m \u001b[0mi\u001b[0m \u001b[0;34m>\u001b[0m \u001b[0mn_iterations\u001b[0m\u001b[0;34m:\u001b[0m\u001b[0;34m\u001b[0m\u001b[0m\n",
      "\u001b[0;32m/Library/Frameworks/Python.framework/Versions/3.4/lib/python3.4/site-packages/climin/base.py\u001b[0m in \u001b[0;36m__iter__\u001b[0;34m(self)\u001b[0m\n\u001b[1;32m     82\u001b[0m \u001b[0;34m\u001b[0m\u001b[0m\n\u001b[1;32m     83\u001b[0m     \u001b[0;32mdef\u001b[0m \u001b[0m__iter__\u001b[0m\u001b[0;34m(\u001b[0m\u001b[0mself\u001b[0m\u001b[0;34m)\u001b[0m\u001b[0;34m:\u001b[0m\u001b[0;34m\u001b[0m\u001b[0m\n\u001b[0;32m---> 84\u001b[0;31m         \u001b[0;32mfor\u001b[0m \u001b[0minfo\u001b[0m \u001b[0;32min\u001b[0m \u001b[0mself\u001b[0m\u001b[0;34m.\u001b[0m\u001b[0m_iterate\u001b[0m\u001b[0;34m(\u001b[0m\u001b[0;34m)\u001b[0m\u001b[0;34m:\u001b[0m\u001b[0;34m\u001b[0m\u001b[0m\n\u001b[0m\u001b[1;32m     85\u001b[0m             \u001b[0;32myield\u001b[0m \u001b[0mself\u001b[0m\u001b[0;34m.\u001b[0m\u001b[0mextended_info\u001b[0m\u001b[0;34m(\u001b[0m\u001b[0;34m**\u001b[0m\u001b[0minfo\u001b[0m\u001b[0;34m)\u001b[0m\u001b[0;34m\u001b[0m\u001b[0m\n\u001b[1;32m     86\u001b[0m \u001b[0;34m\u001b[0m\u001b[0m\n",
      "\u001b[0;32m/Library/Frameworks/Python.framework/Versions/3.4/lib/python3.4/site-packages/climin/adadelta.py\u001b[0m in \u001b[0;36m_iterate\u001b[0;34m(self)\u001b[0m\n\u001b[1;32m    112\u001b[0m             \u001b[0mself\u001b[0m\u001b[0;34m.\u001b[0m\u001b[0mwrt\u001b[0m \u001b[0;34m-=\u001b[0m \u001b[0mstep1\u001b[0m\u001b[0;34m\u001b[0m\u001b[0m\n\u001b[1;32m    113\u001b[0m \u001b[0;34m\u001b[0m\u001b[0m\n\u001b[0;32m--> 114\u001b[0;31m             \u001b[0mgradient\u001b[0m \u001b[0;34m=\u001b[0m \u001b[0mself\u001b[0m\u001b[0;34m.\u001b[0m\u001b[0mfprime\u001b[0m\u001b[0;34m(\u001b[0m\u001b[0mself\u001b[0m\u001b[0;34m.\u001b[0m\u001b[0mwrt\u001b[0m\u001b[0;34m,\u001b[0m \u001b[0;34m*\u001b[0m\u001b[0margs\u001b[0m\u001b[0;34m,\u001b[0m \u001b[0;34m**\u001b[0m\u001b[0mkwargs\u001b[0m\u001b[0;34m)\u001b[0m\u001b[0;34m\u001b[0m\u001b[0m\n\u001b[0m\u001b[1;32m    115\u001b[0m \u001b[0;34m\u001b[0m\u001b[0m\n\u001b[1;32m    116\u001b[0m             \u001b[0mself\u001b[0m\u001b[0;34m.\u001b[0m\u001b[0mgms\u001b[0m \u001b[0;34m=\u001b[0m \u001b[0;34m(\u001b[0m\u001b[0md\u001b[0m \u001b[0;34m*\u001b[0m \u001b[0mself\u001b[0m\u001b[0;34m.\u001b[0m\u001b[0mgms\u001b[0m\u001b[0;34m)\u001b[0m \u001b[0;34m+\u001b[0m \u001b[0;34m(\u001b[0m\u001b[0;36m1\u001b[0m \u001b[0;34m-\u001b[0m \u001b[0md\u001b[0m\u001b[0;34m)\u001b[0m \u001b[0;34m*\u001b[0m \u001b[0mgradient\u001b[0m \u001b[0;34m**\u001b[0m \u001b[0;36m2\u001b[0m\u001b[0;34m\u001b[0m\u001b[0m\n",
      "\u001b[0;32m/Users/IzmailovPavel/Documents/Education/Course Project/Code/GP/gaussian_process_classification.py\u001b[0m in \u001b[0;36madadelta_fun\u001b[0;34m(w, train_points, train_targets)\u001b[0m\n\u001b[1;32m    508\u001b[0m         \u001b[0;32mdef\u001b[0m \u001b[0madadelta_fun\u001b[0m\u001b[0;34m(\u001b[0m\u001b[0mw\u001b[0m\u001b[0;34m,\u001b[0m \u001b[0mtrain_points\u001b[0m\u001b[0;34m,\u001b[0m \u001b[0mtrain_targets\u001b[0m\u001b[0;34m)\u001b[0m\u001b[0;34m:\u001b[0m\u001b[0;34m\u001b[0m\u001b[0m\n\u001b[1;32m    509\u001b[0m             _, grad = self._svi_elbo_batch_approx_oracle(train_points, train_targets, inputs, parameter_vec=w,\n\u001b[0;32m--> 510\u001b[0;31m                                        indices=range(train_targets.size), N=n)\n\u001b[0m\u001b[1;32m    511\u001b[0m             \u001b[0;32mreturn\u001b[0m \u001b[0;34m-\u001b[0m\u001b[0mgrad\u001b[0m\u001b[0;34m[\u001b[0m\u001b[0;34m:\u001b[0m\u001b[0;34m,\u001b[0m \u001b[0;36m0\u001b[0m\u001b[0;34m]\u001b[0m\u001b[0;34m\u001b[0m\u001b[0m\n\u001b[1;32m    512\u001b[0m \u001b[0;34m\u001b[0m\u001b[0m\n",
      "\u001b[0;32m/Users/IzmailovPavel/Documents/Education/Course Project/Code/GP/gaussian_process_classification.py\u001b[0m in \u001b[0;36m_svi_elbo_batch_approx_oracle\u001b[0;34m(self, data_points, target_values, inducing_inputs, parameter_vec, indices, N)\u001b[0m\n\u001b[1;32m    606\u001b[0m         \u001b[0;31m# Derivatives\u001b[0m\u001b[0;34m\u001b[0m\u001b[0;34m\u001b[0m\u001b[0m\n\u001b[1;32m    607\u001b[0m         \u001b[0mderivative_matrix_list\u001b[0m \u001b[0;34m=\u001b[0m \u001b[0mself\u001b[0m\u001b[0;34m.\u001b[0m\u001b[0mcovariance_obj\u001b[0m\u001b[0;34m.\u001b[0m\u001b[0mget_derivative_function_list\u001b[0m\u001b[0;34m(\u001b[0m\u001b[0mparams\u001b[0m\u001b[0;34m)\u001b[0m\u001b[0;34m\u001b[0m\u001b[0m\n\u001b[0;32m--> 608\u001b[0;31m         \u001b[0md_K_mm__d_theta_lst\u001b[0m \u001b[0;34m=\u001b[0m \u001b[0;34m[\u001b[0m\u001b[0mfun\u001b[0m\u001b[0;34m(\u001b[0m\u001b[0minducing_inputs\u001b[0m\u001b[0;34m,\u001b[0m \u001b[0minducing_inputs\u001b[0m\u001b[0;34m)\u001b[0m \u001b[0;32mfor\u001b[0m \u001b[0mfun\u001b[0m \u001b[0;32min\u001b[0m \u001b[0mderivative_matrix_list\u001b[0m\u001b[0;34m]\u001b[0m\u001b[0;34m\u001b[0m\u001b[0m\n\u001b[0m\u001b[1;32m    609\u001b[0m         \u001b[0md_k_i__d_theta_lst\u001b[0m \u001b[0;34m=\u001b[0m \u001b[0;34m[\u001b[0m\u001b[0mfun\u001b[0m\u001b[0;34m(\u001b[0m\u001b[0minducing_inputs\u001b[0m\u001b[0;34m,\u001b[0m \u001b[0mdata_points\u001b[0m\u001b[0;34m[\u001b[0m\u001b[0;34m:\u001b[0m\u001b[0;34m,\u001b[0m \u001b[0mi\u001b[0m\u001b[0;34m]\u001b[0m\u001b[0;34m)\u001b[0m \u001b[0;32mfor\u001b[0m \u001b[0mfun\u001b[0m \u001b[0;32min\u001b[0m \u001b[0mderivative_matrix_list\u001b[0m\u001b[0;34m]\u001b[0m\u001b[0;34m\u001b[0m\u001b[0m\n\u001b[1;32m    610\u001b[0m         \u001b[0md_K_mm__d_sigma_n\u001b[0m \u001b[0;34m=\u001b[0m \u001b[0mself\u001b[0m\u001b[0;34m.\u001b[0m\u001b[0mcovariance_obj\u001b[0m\u001b[0;34m.\u001b[0m\u001b[0mget_noise_derivative\u001b[0m\u001b[0;34m(\u001b[0m\u001b[0mpoints_num\u001b[0m\u001b[0;34m=\u001b[0m\u001b[0mm\u001b[0m\u001b[0;34m)\u001b[0m\u001b[0;34m\u001b[0m\u001b[0m\n",
      "\u001b[0;32m/Users/IzmailovPavel/Documents/Education/Course Project/Code/GP/gaussian_process_classification.py\u001b[0m in \u001b[0;36m<listcomp>\u001b[0;34m(.0)\u001b[0m\n\u001b[1;32m    606\u001b[0m         \u001b[0;31m# Derivatives\u001b[0m\u001b[0;34m\u001b[0m\u001b[0;34m\u001b[0m\u001b[0m\n\u001b[1;32m    607\u001b[0m         \u001b[0mderivative_matrix_list\u001b[0m \u001b[0;34m=\u001b[0m \u001b[0mself\u001b[0m\u001b[0;34m.\u001b[0m\u001b[0mcovariance_obj\u001b[0m\u001b[0;34m.\u001b[0m\u001b[0mget_derivative_function_list\u001b[0m\u001b[0;34m(\u001b[0m\u001b[0mparams\u001b[0m\u001b[0;34m)\u001b[0m\u001b[0;34m\u001b[0m\u001b[0m\n\u001b[0;32m--> 608\u001b[0;31m         \u001b[0md_K_mm__d_theta_lst\u001b[0m \u001b[0;34m=\u001b[0m \u001b[0;34m[\u001b[0m\u001b[0mfun\u001b[0m\u001b[0;34m(\u001b[0m\u001b[0minducing_inputs\u001b[0m\u001b[0;34m,\u001b[0m \u001b[0minducing_inputs\u001b[0m\u001b[0;34m)\u001b[0m \u001b[0;32mfor\u001b[0m \u001b[0mfun\u001b[0m \u001b[0;32min\u001b[0m \u001b[0mderivative_matrix_list\u001b[0m\u001b[0;34m]\u001b[0m\u001b[0;34m\u001b[0m\u001b[0m\n\u001b[0m\u001b[1;32m    609\u001b[0m         \u001b[0md_k_i__d_theta_lst\u001b[0m \u001b[0;34m=\u001b[0m \u001b[0;34m[\u001b[0m\u001b[0mfun\u001b[0m\u001b[0;34m(\u001b[0m\u001b[0minducing_inputs\u001b[0m\u001b[0;34m,\u001b[0m \u001b[0mdata_points\u001b[0m\u001b[0;34m[\u001b[0m\u001b[0;34m:\u001b[0m\u001b[0;34m,\u001b[0m \u001b[0mi\u001b[0m\u001b[0;34m]\u001b[0m\u001b[0;34m)\u001b[0m \u001b[0;32mfor\u001b[0m \u001b[0mfun\u001b[0m \u001b[0;32min\u001b[0m \u001b[0mderivative_matrix_list\u001b[0m\u001b[0;34m]\u001b[0m\u001b[0;34m\u001b[0m\u001b[0m\n\u001b[1;32m    610\u001b[0m         \u001b[0md_K_mm__d_sigma_n\u001b[0m \u001b[0;34m=\u001b[0m \u001b[0mself\u001b[0m\u001b[0;34m.\u001b[0m\u001b[0mcovariance_obj\u001b[0m\u001b[0;34m.\u001b[0m\u001b[0mget_noise_derivative\u001b[0m\u001b[0;34m(\u001b[0m\u001b[0mpoints_num\u001b[0m\u001b[0;34m=\u001b[0m\u001b[0mm\u001b[0m\u001b[0;34m)\u001b[0m\u001b[0;34m\u001b[0m\u001b[0m\n",
      "\u001b[0;32m/Users/IzmailovPavel/Documents/Education/Course Project/Code/GP/covariance_functions.py\u001b[0m in \u001b[0;36mwrapper\u001b[0;34m(self, x, y, *args, **kwargs)\u001b[0m\n\u001b[1;32m     42\u001b[0m     \u001b[0;32mdef\u001b[0m \u001b[0mwrapper\u001b[0m\u001b[0;34m(\u001b[0m\u001b[0mself\u001b[0m\u001b[0;34m,\u001b[0m \u001b[0mx\u001b[0m\u001b[0;34m,\u001b[0m \u001b[0my\u001b[0m\u001b[0;34m,\u001b[0m \u001b[0;34m*\u001b[0m\u001b[0margs\u001b[0m\u001b[0;34m,\u001b[0m \u001b[0;34m**\u001b[0m\u001b[0mkwargs\u001b[0m\u001b[0;34m)\u001b[0m\u001b[0;34m:\u001b[0m\u001b[0;34m\u001b[0m\u001b[0m\n\u001b[1;32m     43\u001b[0m         \u001b[0mdists\u001b[0m \u001b[0;34m=\u001b[0m \u001b[0mpairwise_distance\u001b[0m\u001b[0;34m(\u001b[0m\u001b[0mx\u001b[0m\u001b[0;34m,\u001b[0m \u001b[0my\u001b[0m\u001b[0;34m)\u001b[0m\u001b[0;34m\u001b[0m\u001b[0m\n\u001b[0;32m---> 44\u001b[0;31m         \u001b[0;32mreturn\u001b[0m \u001b[0mfun\u001b[0m\u001b[0;34m(\u001b[0m\u001b[0mself\u001b[0m\u001b[0;34m,\u001b[0m \u001b[0mdists\u001b[0m\u001b[0;34m,\u001b[0m \u001b[0;34m*\u001b[0m\u001b[0margs\u001b[0m\u001b[0;34m,\u001b[0m \u001b[0;34m**\u001b[0m\u001b[0mkwargs\u001b[0m\u001b[0;34m)\u001b[0m\u001b[0;34m\u001b[0m\u001b[0m\n\u001b[0m\u001b[1;32m     45\u001b[0m     \u001b[0;32mreturn\u001b[0m \u001b[0mwrapper\u001b[0m\u001b[0;34m\u001b[0m\u001b[0m\n\u001b[1;32m     46\u001b[0m \u001b[0;34m\u001b[0m\u001b[0m\n",
      "\u001b[0;32m/Users/IzmailovPavel/Documents/Education/Course Project/Code/GP/covariance_functions.py\u001b[0m in \u001b[0;36m_dse_dl\u001b[0;34m(self, r)\u001b[0m\n\u001b[1;32m    169\u001b[0m     \u001b[0;34m@\u001b[0m\u001b[0mstationary_cov\u001b[0m\u001b[0;34m\u001b[0m\u001b[0m\n\u001b[1;32m    170\u001b[0m     \u001b[0;32mdef\u001b[0m \u001b[0m_dse_dl\u001b[0m\u001b[0;34m(\u001b[0m\u001b[0mself\u001b[0m\u001b[0;34m,\u001b[0m \u001b[0mr\u001b[0m\u001b[0;34m)\u001b[0m\u001b[0;34m:\u001b[0m\u001b[0;34m\u001b[0m\u001b[0m\n\u001b[0;32m--> 171\u001b[0;31m         \u001b[0;32mreturn\u001b[0m \u001b[0;34m(\u001b[0m\u001b[0mnp\u001b[0m\u001b[0;34m.\u001b[0m\u001b[0mexp\u001b[0m\u001b[0;34m(\u001b[0m\u001b[0;34m-\u001b[0m\u001b[0mr\u001b[0m\u001b[0;34m**\u001b[0m\u001b[0;36m2\u001b[0m \u001b[0;34m/\u001b[0m \u001b[0;34m(\u001b[0m\u001b[0;36m2\u001b[0m\u001b[0;34m*\u001b[0m\u001b[0;34m(\u001b[0m\u001b[0mself\u001b[0m\u001b[0;34m.\u001b[0m\u001b[0ml\u001b[0m\u001b[0;34m**\u001b[0m\u001b[0;36m2\u001b[0m\u001b[0;34m)\u001b[0m\u001b[0;34m)\u001b[0m\u001b[0;34m)\u001b[0m \u001b[0;34m*\u001b[0m \u001b[0mself\u001b[0m\u001b[0;34m.\u001b[0m\u001b[0msigma_f\u001b[0m\u001b[0;34m**\u001b[0m\u001b[0;36m2\u001b[0m\u001b[0;34m)\u001b[0m \u001b[0;34m*\u001b[0m \u001b[0;34m(\u001b[0m\u001b[0mr\u001b[0m\u001b[0;34m**\u001b[0m\u001b[0;36m2\u001b[0m \u001b[0;34m/\u001b[0m \u001b[0;34m(\u001b[0m\u001b[0mself\u001b[0m\u001b[0;34m.\u001b[0m\u001b[0ml\u001b[0m \u001b[0;34m**\u001b[0m \u001b[0;36m3\u001b[0m\u001b[0;34m)\u001b[0m\u001b[0;34m)\u001b[0m\u001b[0;34m\u001b[0m\u001b[0m\n\u001b[0m\u001b[1;32m    172\u001b[0m \u001b[0;34m\u001b[0m\u001b[0m\n\u001b[1;32m    173\u001b[0m     \u001b[0;34m@\u001b[0m\u001b[0mstationary_cov\u001b[0m\u001b[0;34m\u001b[0m\u001b[0m\n",
      "\u001b[0;31mKeyboardInterrupt\u001b[0m: "
     ]
    }
   ],
   "source": [
    "results = []\n",
    "steps = [1., 0.5, 0.1]\n",
    "for step in steps:\n",
    "    print(step)\n",
    "    model_covariance_obj = SquaredExponential(np.copy(cov_params))\n",
    "    ad_gp = GPC(model_covariance_obj, method='svi', hermgauss_deg=100)\n",
    "\n",
    "    opts = {'mode': 'adadelta', 'maxiter': 5, 'verbose': True, 'batch_size': 200, \n",
    "            'step_rate': step}#, 'print_freq':50}\n",
    "    batch_res = ad_gp.fit(x_tr, y_tr, inputs=inputs, optimizer_options=opts)\n",
    "    results.append(batch_res)"
   ]
  },
  {
   "cell_type": "code",
   "execution_count": 46,
   "metadata": {
    "collapsed": false
   },
   "outputs": [
    {
     "name": "stdout",
     "output_type": "stream",
     "text": [
      "0\n",
      "1\n",
      "2\n"
     ]
    },
    {
     "data": {
      "text/plain": [
       "<matplotlib.text.Text at 0x10e662160>"
      ]
     },
     "execution_count": 46,
     "metadata": {},
     "output_type": "execute_result"
    },
    {
     "data": {
      "image/png": "[encoded data removed]",
      "text/plain": [
       "<matplotlib.figure.Figure at 0x10e903748>"
      ]
     },
     "metadata": {},
     "output_type": "display_data"
    }
   ],
   "source": [
    "metric = lambda w: ad_gp.get_prediction_quality(w, x_test, y_test)\n",
    "for i in range(len(results)):\n",
    "    svi_ad_x_lst, svi_ad_y_lst = results[i].plot_performance(metric, 't', freq=1)\n",
    "    plt.plot(svi_ad_x_lst[1:], svi_ad_y_lst[1:], label=steps[i])\n",
    "    print(i)\n",
    "plt.ylim([0.7, 1.])\n",
    "plt.legend()\n",
    "plt.xlabel('Seconds')\n",
    "plt.ylabel('Accuracy')"
   ]
  },
  {
   "cell_type": "code",
   "execution_count": null,
   "metadata": {
    "collapsed": false
   },
   "outputs": [],
   "source": [
    "model_covariance_obj = SquaredExponential(np.copy(cov_params))\n",
    "ad_gp = GPC(model_covariance_obj, method='svi', hermgauss_deg=100)\n",
    "opts = {'mode': 'adadelta', 'maxiter': 5, 'verbose': True, 'batch_size': 200, \n",
    "        'step_rate': 1., 'print_freq':1}\n",
    "batch_res = ad_gp.fit(x_tr, y_tr, inputs=inputs, optimizer_options=opts)"
   ]
  },
  {
   "cell_type": "code",
   "execution_count": null,
   "metadata": {
    "collapsed": false
   },
   "outputs": [],
   "source": [
    "metric = lambda w: ad_gp.get_prediction_quality(w, x_test, y_test)\n",
    "svi_ad_x_lst, svi_ad_y_lst = batch_res.plot_performance(metric, 't', freq=1)\n",
    "plt.plot(svi_ad_x_lst[1:], svi_ad_y_lst[1:], '-yx', label='svi-AdaDelta-c')\n",
    "plt.ylim([0.7, 1.])\n",
    "plt.legend()\n",
    "plt.xlabel('Seconds')\n",
    "plt.ylabel('Accuracy')"
   ]
  },
  {
   "cell_type": "markdown",
   "metadata": {},
   "source": [
    "## Выводы"
   ]
  },
  {
   "cell_type": "code",
   "execution_count": 26,
   "metadata": {
    "collapsed": true
   },
   "outputs": [],
   "source": [
    "svi_ad_x_lst = np.load('../plots/vi_vs_svi_class/'+ data_name +'_ad_x.npy')\n",
    "svi_ad_y_lst = np.load('../plots/vi_vs_svi_class/'+ data_name +'_ad_y.npy')"
   ]
  },
  {
   "cell_type": "code",
   "execution_count": 10,
   "metadata": {
    "collapsed": true
   },
   "outputs": [],
   "source": [
    "svi_x_lst = np.load('../plots/vi_vs_svi_class/'+ data_name +'_svi_x.npy')\n",
    "svi_y_lst = np.load('../plots/vi_vs_svi_class/'+ data_name +'_svi_y.npy')\n",
    "vi_x_lst = np.load('../plots/vi_vs_svi_class/'+ data_name +'_vi_x.npy')\n",
    "vi_y_lst = np.load('../plots/vi_vs_svi_class/'+ data_name +'_vi_y.npy')\n",
    "# vi_t_x_lst = np.load('../plots/vi_vs_svi_class/'+ data_name +'_vi_t_x.npy')\n",
    "# vi_t_y_lst = np.load('../plots/vi_vs_svi_class/'+ data_name +'_vi_t_y.npy')\n",
    "svi_ad_x_lst = np.load('../plots/vi_vs_svi_class/'+ data_name +'_ad_x.npy')\n",
    "svi_ad_y_lst = np.load('../plots/vi_vs_svi_class/'+ data_name +'_ad_y.npy')\n",
    "# vi_full_x_lst = np.load('../plots/vi_vs_svi_class/'+ data_name +'_vi_f_x.npy')\n",
    "# vi_full_y_lst = np.load('../plots/vi_vs_svi_class/'+ data_name +'_vi_f_y.npy')"
   ]
  },
  {
   "cell_type": "code",
   "execution_count": 22,
   "metadata": {
    "collapsed": false
   },
   "outputs": [
    {
     "data": {
      "text/plain": [
       "<matplotlib.text.Text at 0x10e4471d0>"
      ]
     },
     "execution_count": 22,
     "metadata": {},
     "output_type": "execute_result"
    },
    {
     "data": {
      "image/png": "[encoded data removed]",
      "text/plain": [
       "<matplotlib.figure.Figure at 0x10dfe65f8>"
      ]
     },
     "metadata": {},
     "output_type": "display_data"
    }
   ],
   "source": [
    "plt.figure(figsize=(12, 7))\n",
    "plt.plot(svi_x_lst[1:], svi_y_lst[1:], '-gx', label='svi-L-BFGS-B')\n",
    "plt.plot(svi_ad_x_lst[1:], svi_ad_y_lst[1:], '-yx', label='svi-AdaDelta')\n",
    "plt.plot(vi_x_lst[1:], vi_y_lst[1:], '-bx', label='vi-JJ')\n",
    "plt.plot(vi_t_x_lst[1:], vi_t_y_lst[1:], '-mx', label='vi-Taylor')\n",
    "plt.plot(vi_h_x_lst[1:], vi_h_y_lst[1:], '-rx', label='vi-JJ-hybrid')\n",
    "plt.plot(vi_full_x_lst[1:], vi_full_y_lst[1:], '-kx', label='vi-JJ-full')\n",
    "plt.ylim([0.75, .9])\n",
    "plt.xlim([0., 500.])\n",
    "plt.legend()\n",
    "plt.xlabel('Seconds')\n",
    "plt.ylabel('Accuracy')\n",
    "plt.title(data_name+' dataset, n = ' + str(num) + ', d = ' + str(dim) + ', m = '+ str(ind_num))"
   ]
  },
  {
   "cell_type": "code",
   "execution_count": 23,
   "metadata": {
    "collapsed": true
   },
   "outputs": [],
   "source": [
    "np.save('../plots/vi_vs_svi_class/'+ data_name +'/svi_x.npy', svi_x_lst)\n",
    "np.save('../plots/vi_vs_svi_class/'+ data_name +'/svi_y.npy', svi_y_lst)\n",
    "np.save('../plots/vi_vs_svi_class/'+ data_name +'/ad_x.npy', svi_ad_x_lst)\n",
    "np.save('../plots/vi_vs_svi_class/'+ data_name +'/ad_y.npy', svi_ad_y_lst)\n",
    "np.save('../plots/vi_vs_svi_class/'+ data_name +'/vi_x.npy', vi_x_lst)\n",
    "np.save('../plots/vi_vs_svi_class/'+ data_name +'/vi_y.npy', vi_y_lst)\n",
    "np.save('../plots/vi_vs_svi_class/'+ data_name +'/vi_t_x.npy', vi_t_x_lst)\n",
    "np.save('../plots/vi_vs_svi_class/'+ data_name +'/vi_t_y.npy', vi_t_y_lst)\n",
    "np.save('../plots/vi_vs_svi_class/'+ data_name +'/vi_h_x.npy', vi_h_x_lst)\n",
    "np.save('../plots/vi_vs_svi_class/'+ data_name +'/vi_h_y.npy', vi_h_y_lst)\n",
    "np.save('../plots/vi_vs_svi_class/'+ data_name +'/vi_f_x.npy', vi_full_x_lst)\n",
    "np.save('../plots/vi_vs_svi_class/'+ data_name +'/vi_f_y.npy', vi_full_y_lst)"
   ]
  }
 ],
 "metadata": {
  "kernelspec": {
   "display_name": "Python 3",
   "language": "python",
   "name": "python3"
  },
  "language_info": {
   "codemirror_mode": {
    "name": "ipython",
    "version": 3
   },
   "file_extension": ".py",
   "mimetype": "text/x-python",
   "name": "python",
   "nbconvert_exporter": "python",
   "pygments_lexer": "ipython3",
   "version": "3.4.3"
  }
 },
 "nbformat": 4,
 "nbformat_minor": 0
}
