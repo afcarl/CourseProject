{
 "cells": [
  {
   "cell_type": "markdown",
   "metadata": {},
   "source": [
    "# IJCNN"
   ]
  },
  {
   "cell_type": "code",
   "execution_count": 1,
   "metadata": {
    "collapsed": false
   },
   "outputs": [],
   "source": [
    "import sys\n",
    "sys.path.append('/Users/IzmailovPavel/Documents/Education/Course Project/Code')\n",
    "import numpy as np\n",
    "import matplotlib as mpl\n",
    "\n",
    "from matplotlib import pyplot as plt\n",
    "\n",
    "from GP.covariance_functions import SquaredExponential\n",
    "from GP.gaussian_process_classification import GPC\n",
    "\n",
    "from sklearn.cluster import KMeans\n",
    "\n",
    "from sklearn.datasets import load_svmlight_file\n",
    "from sklearn.preprocessing import StandardScaler\n",
    "from sklearn.utils import shuffle\n",
    "%matplotlib inline\n",
    "%load_ext autoreload\n",
    "%autoreload 2"
   ]
  },
  {
   "cell_type": "markdown",
   "metadata": {},
   "source": [
    "## Данные"
   ]
  },
  {
   "cell_type": "code",
   "execution_count": 2,
   "metadata": {
    "collapsed": false
   },
   "outputs": [
    {
     "name": "stdout",
     "output_type": "stream",
     "text": [
      "of objects: 35000\n",
      "of features: 22\n",
      "ijcnn\n"
     ]
    }
   ],
   "source": [
    "x_tr, y_tr = load_svmlight_file('../../../../Programming/DataSets/Classification/ijcnn1(49990,22).txt')\n",
    "x_tr, y_tr = shuffle(x_tr, y_tr, random_state=241)\n",
    "x_test, y_test = load_svmlight_file('../../../../Programming/DataSets/Classification/ijcnn1_test(91701,22).txt')\n",
    "x_test, y_test = shuffle(x_test, y_test, random_state=230)\n",
    "x_test = x_test[:8000, :]\n",
    "y_test = y_test[:8000]\n",
    "data_name = 'ijcnn'\n",
    "\n",
    "x_tr = x_tr.toarray()\n",
    "x_test = x_test.toarray()\n",
    "scaler = StandardScaler()\n",
    "x_tr = scaler.fit_transform(x_tr).T\n",
    "x_test = scaler.transform(x_test).T\n",
    "\n",
    "x_tr = (x_tr + 1) / 2\n",
    "x_test = (x_test + 1) / 2\n",
    "y_tr = y_tr[:, None]\n",
    "y_test = y_test[:, None]\n",
    "y_tr[y_tr == 0] = -1\n",
    "y_test[y_test == 0] = -1\n",
    "dim, num = x_tr.shape\n",
    "\n",
    "print('of objects:', num)\n",
    "print('of features:', dim)\n",
    "print(data_name)"
   ]
  },
  {
   "cell_type": "markdown",
   "metadata": {},
   "source": [
    "## K-Means cluster centers"
   ]
  },
  {
   "cell_type": "code",
   "execution_count": 3,
   "metadata": {
    "collapsed": false
   },
   "outputs": [
    {
     "name": "stdout",
     "output_type": "stream",
     "text": [
      "Finding means...\n",
      "...found\n"
     ]
    }
   ],
   "source": [
    "ind_num = 500\n",
    "print('Finding means...')\n",
    "means = KMeans(n_clusters=ind_num, n_init=3, max_iter=100, random_state=241)\n",
    "means.fit(x_tr.T)\n",
    "inputs = means.cluster_centers_.T\n",
    "print('...found')"
   ]
  },
  {
   "cell_type": "code",
   "execution_count": 16,
   "metadata": {
    "collapsed": true
   },
   "outputs": [],
   "source": [
    "cov_params = np.array([1., 1., .1])"
   ]
  },
  {
   "cell_type": "markdown",
   "metadata": {},
   "source": [
    "## svi-L-BFGS-B-c method"
   ]
  },
  {
   "cell_type": "code",
   "execution_count": 33,
   "metadata": {
    "collapsed": true
   },
   "outputs": [],
   "source": [
    "model_covariance_obj = SquaredExponential(np.copy(cov_params))\n",
    "svi_gp = GPC(model_covariance_obj, method='svi')"
   ]
  },
  {
   "cell_type": "code",
   "execution_count": null,
   "metadata": {
    "collapsed": false
   },
   "outputs": [
    {
     "name": "stdout",
     "output_type": "stream",
     "text": [
      "Hyper-parameters at iteration 0 : [ 10.   20.    0.1   0.    0. ]\n",
      "Hyper-parameters at iteration 1 : [  1.00012780e+01   1.99962267e+01   5.21819681e-01  -1.94654840e-02\n",
      "  -1.16229340e-01]\n",
      "Hyper-parameters at iteration 2 : [  9.97990063  19.99353314   0.26460446  -0.16966981  -0.80989622]\n",
      "Hyper-parameters at iteration 3 : [  9.97719232  19.98869996   0.17598408  -0.24182403  -1.10739343]\n",
      "Hyper-parameters at iteration 4 : [  9.97600085  19.98146191   0.18842116  -0.33011074  -1.46743958]\n",
      "Hyper-parameters at iteration 5 : [  9.97489348  19.96836291   0.25521643  -0.50467553  -2.017685  ]\n",
      "Hyper-parameters at iteration"
     ]
    }
   ],
   "source": [
    "opts = {'mode': 'full', 'maxiter': 100, 'mydisp': True}\n",
    "svi_res = svi_gp.fit(x_tr, y_tr, inputs=inputs, optimizer_options=opts)"
   ]
  },
  {
   "cell_type": "code",
   "execution_count": 28,
   "metadata": {
    "collapsed": false
   },
   "outputs": [],
   "source": [
    "metric = lambda w: svi_gp.get_prediction_quality(w, x_test, y_test)\n",
    "svi_x_lst, svi_y_lst = svi_res.plot_performance(metric, 't', freq=1)"
   ]
  },
  {
   "cell_type": "code",
   "execution_count": 29,
   "metadata": {
    "collapsed": false
   },
   "outputs": [
    {
     "data": {
      "text/plain": [
       "<matplotlib.text.Text at 0x10db04f28>"
      ]
     },
     "execution_count": 29,
     "metadata": {},
     "output_type": "execute_result"
    },
    {
     "data": {
      "image/png": "[encoded data removed]",
      "text/plain": [
       "<matplotlib.figure.Figure at 0x10db9d748>"
      ]
     },
     "metadata": {},
     "output_type": "display_data"
    }
   ],
   "source": [
    "plt.plot(svi_x_lst[1:], svi_y_lst[1:], '-gx', label='svi-L-BFGS-B-c')\n",
    "plt.ylim([0.85, .95])\n",
    "plt.legend()\n",
    "plt.xlabel('Seconds')\n",
    "plt.ylabel('Accuracy')"
   ]
  },
  {
   "cell_type": "markdown",
   "metadata": {},
   "source": [
    "## vi-means-c method\n"
   ]
  },
  {
   "cell_type": "code",
   "execution_count": 11,
   "metadata": {
    "collapsed": false
   },
   "outputs": [
    {
     "name": "stdout",
     "output_type": "stream",
     "text": [
      "Hyper-parameters at iteration 0 : [ 3.   2.   0.1]\n",
      "\tHyper-parameters at outter iteration 0 : [ 2.98923493  5.44738271  0.09967597]\n",
      "Hyper-parameters at iteration 0 : [ 2.98923493  5.44738271  0.09967597]\n",
      "Hyper-parameters at iteration 1 : [ 23.56298381   5.19512812   0.09551566]\n",
      "\tHyper-parameters at outter iteration 1 : [  2.67346114e+01   8.18511548e+00   1.00000000e-02]\n",
      "Hyper-parameters at iteration 0 : [  2.67346114e+01   8.18511548e+00   1.00000000e-02]\n",
      "\tHyper-parameters at outter iteration 2 : [  2.57736252e+01   7.89114774e+00   1.00000000e-02]\n",
      "Hyper-parameters at iteration 0 : [  2.57736252e+01   7.89114774e+00   1.00000000e-02]\n",
      "\tHyper-parameters at outter iteration 3 : [  2.58344718e+01   9.60381012e+00   1.00000000e-02]\n",
      "Hyper-parameters at iteration 0 : [  2.58344718e+01   9.60381012e+00   1.00000000e-02]\n",
      "\tHyper-parameters at outter iteration 4 : [  2.59078145e+01   1.04675914e+01   1.00000000e-02]\n",
      "Hyper-parameters at iteration 0 : [  2.59078145e+01   1.04675914e+01   1.00000000e-02]\n",
      "Hyper-parameters at iteration 1 : [  2.30473682e+01   9.31253723e+00   1.00000000e-02]\n",
      "\tHyper-parameters at outter iteration 5 : [  2.30473682e+01   9.31253606e+00   1.00000000e-02]\n",
      "Hyper-parameters at iteration 0 : [  2.30473682e+01   9.31253606e+00   1.00000000e-02]\n",
      "\tHyper-parameters at outter iteration 6 : [  2.30474122e+01   9.31251844e+00   1.00000000e-02]\n",
      "Hyper-parameters at iteration 0 : [  2.30474122e+01   9.31251844e+00   1.00000000e-02]\n",
      "\tHyper-parameters at outter iteration 7 : [  2.30499086e+01   9.31204477e+00   1.00000000e-02]\n",
      "Hyper-parameters at iteration 0 : [  2.30499086e+01   9.31204477e+00   1.00000000e-02]\n",
      "\tHyper-parameters at outter iteration 8 : [  2.30499086e+01   9.31204477e+00   1.00000000e-02]\n",
      "Hyper-parameters at iteration 0 : [  2.30499086e+01   9.31204477e+00   1.00000000e-02]\n",
      "\tHyper-parameters at outter iteration 9 : [  2.29344263e+01   9.24441385e+00   1.00000000e-02]\n"
     ]
    }
   ],
   "source": [
    "model_covariance_obj = SquaredExponential(np.copy(cov_params))\n",
    "vi_gp = GPC(model_covariance_obj, method='vi')\n",
    "opts = {'maxfun':5, 'mydisp': True, 'num_updates':3}\n",
    "vi_res = vi_gp.fit(x_tr, y_tr, inputs=inputs, optimizer_options=opts, max_out_iter=10)"
   ]
  },
  {
   "cell_type": "code",
   "execution_count": 12,
   "metadata": {
    "collapsed": false
   },
   "outputs": [
    {
     "data": {
      "text/plain": [
       "<matplotlib.text.Text at 0x10e823048>"
      ]
     },
     "execution_count": 12,
     "metadata": {},
     "output_type": "execute_result"
    },
    {
     "data": {
      "image/png": "[encoded data removed]",
      "text/plain": [
       "<matplotlib.figure.Figure at 0x10e867f60>"
      ]
     },
     "metadata": {},
     "output_type": "display_data"
    }
   ],
   "source": [
    "metric = lambda w: vi_gp.get_prediction_quality(w, x_test, y_test)\n",
    "vi_x_lst, vi_y_lst = vi_res.plot_performance(metric, 't', freq=1)\n",
    "plt.plot(vi_x_lst[1:], vi_y_lst[1:], '-bx', label='vi-means-c')\n",
    "# plt.plot(svi_x_lst[1:100], svi_y_lst[1:100], '-gx', label='svi-L-BFGS-B-c')\n",
    "plt.ylim([0.9, 1.])\n",
    "plt.legend()\n",
    "plt.xlabel('Seconds')\n",
    "plt.ylabel('Accuracy')"
   ]
  },
  {
   "cell_type": "markdown",
   "metadata": {},
   "source": [
    "### Taylor\n",
    "Подбор числа пересчетов"
   ]
  },
  {
   "cell_type": "code",
   "execution_count": 7,
   "metadata": {
    "collapsed": true
   },
   "outputs": [
    {
     "name": "stdout",
     "output_type": "stream",
     "text": [
      "Hyper-parameters at iteration 0 : [ 10.   20.    0.1]\n",
      "Hyper-parameters at iteration 1 : [ 15.43672779  15.600007     0.08019013]\n",
      "Hyper-parameters at iteration 2 : [  1.67454905e+01   1.39006917e+01   1.00000000e-02]\n",
      "\tHyper-parameters at outter iteration 0 : [  1.50240713e+01   1.54041292e+01   1.00000000e-02]\n",
      "Hyper-parameters at iteration 0 : [  1.50240713e+01   1.54041292e+01   1.00000000e-02]\n",
      "\tHyper-parameters at outter iteration 1 : [  1.50244020e+01   1.54040148e+01   1.00000000e-02]\n",
      "Hyper-parameters at iteration 0 : [  1.50244020e+01   1.54040148e+01   1.00000000e-02]\n",
      "\tHyper-parameters at outter iteration 2 : [  1.50253865e+01   1.54037589e+01   1.00000000e-02]\n",
      "Hyper-parameters at iteration 0 : [  1.50253865e+01   1.54037589e+01   1.00000000e-02]\n",
      "Hyper-parameters at iteration 1 : [  2.73620806e+01   1.23041019e+01   1.00000000e-02]\n",
      "\tHyper-parameters at outter iteration 3 : [  2.73672375e+01   1.23027971e+01   1.00000000e-02]\n",
      "Hyper-parameters at iteration 0 : [  2.73672375e+01   1.23027971e+01   1.00000000e-02]\n",
      "Hyper-parameters at iteration 1 : [  2.93883490e+01   1.06982747e+01   1.00000000e-02]\n",
      "Hyper-parameters at iteration 2 : [  2.88459890e+01   1.11327665e+01   1.00000000e-02]\n",
      "\tHyper-parameters at outter iteration 4 : [  2.89504227e+01   1.10541803e+01   1.00000000e-02]\n",
      "Hyper-parameters at iteration 0 : [  2.89504227e+01   1.10541803e+01   1.00000000e-02]\n",
      "\tHyper-parameters at outter iteration 5 : [  2.89504227e+01   1.10541803e+01   1.00000000e-02]\n",
      "Hyper-parameters at iteration 0 : [  2.89504227e+01   1.10541803e+01   1.00000000e-02]\n",
      "\tHyper-parameters at outter iteration 6 : [  2.89504227e+01   1.10541803e+01   1.00000000e-02]\n",
      "Hyper-parameters at iteration 0 : [  2.89504227e+01   1.10541803e+01   1.00000000e-02]\n",
      "\tHyper-parameters at outter iteration 7 : [  2.89504227e+01   1.10541803e+01   1.00000000e-02]\n",
      "Hyper-parameters at iteration 0 : [  2.89504227e+01   1.10541803e+01   1.00000000e-02]\n",
      "\tHyper-parameters at outter iteration 8 : [  2.89504227e+01   1.10541803e+01   1.00000000e-02]\n",
      "Hyper-parameters at iteration 0 : [  2.89504227e+01   1.10541803e+01   1.00000000e-02]\n",
      "Hyper-parameters at iteration 1 : [  2.95070145e+01   1.04224024e+01   1.00000000e-02]\n",
      "\tHyper-parameters at outter iteration 9 : [  2.96229341e+01   1.02901393e+01   1.00000000e-02]\n",
      "Hyper-parameters at iteration 0 : [  2.96229341e+01   1.02901393e+01   1.00000000e-02]\n",
      "Hyper-parameters at iteration 1 : [  2.96646233e+01   1.02102359e+01   1.00000000e-02]\n",
      "\tHyper-parameters at outter iteration 10 : [  2.96646233e+01   1.02102359e+01   1.00000000e-02]\n",
      "Hyper-parameters at iteration 0 : [  2.96646233e+01   1.02102359e+01   1.00000000e-02]\n",
      "Hyper-parameters at iteration 1 : [  2.96736410e+01   1.02282176e+01   1.00000000e-02]\n",
      "\tHyper-parameters at outter iteration 11 : [  2.98170241e+01   1.02202062e+01   1.00000000e-02]\n",
      "Hyper-parameters at iteration 0 : [  2.98170241e+01   1.02202062e+01   1.00000000e-02]\n",
      "Hyper-parameters at iteration 1 : [  2.98216171e+01   1.02387808e+01   1.00000000e-02]\n",
      "\tHyper-parameters at outter iteration 12 : [  2.98251286e+01   1.02346725e+01   1.00000000e-02]\n",
      "Hyper-parameters at iteration 0 : [  2.98251286e+01   1.02346725e+01   1.00000000e-02]\n",
      "Hyper-parameters at iteration 1 : [  3.01791162e+01   1.02243162e+01   1.00000000e-02]\n",
      "Hyper-parameters at iteration 2 : [  3.03866246e+01   1.02447703e+01   1.00000000e-02]\n",
      "\tHyper-parameters at outter iteration 13 : [  3.03866250e+01   1.02447704e+01   1.00000000e-02]\n",
      "Hyper-parameters at iteration 0 : [  3.03866250e+01   1.02447704e+01   1.00000000e-02]\n",
      "Hyper-parameters at iteration 1 : [  3.03914170e+01   1.03305490e+01   1.00000000e-02]\n",
      "Hyper-parameters at iteration 2 : [  3.03932838e+01   1.02925872e+01   1.00000000e-02]\n",
      "\tHyper-parameters at outter iteration 14 : [  3.03932839e+01   1.02925858e+01   1.00000000e-02]\n",
      "Hyper-parameters at iteration 0 : [  3.03932839e+01   1.02925858e+01   1.00000000e-02]\n",
      "Hyper-parameters at iteration 1 : [  3.11405806e+01   1.03583379e+01   1.00000000e-02]\n",
      "Hyper-parameters at iteration 2 : [  3.23926053e+01   1.05126180e+01   1.00000000e-02]\n",
      "\tHyper-parameters at outter iteration 15 : [  6.75629582e+01   1.52776468e+01   1.00000000e-02]\n",
      "Hyper-parameters at iteration 0 : [  6.75629582e+01   1.52776468e+01   1.00000000e-02]\n",
      "\tHyper-parameters at outter iteration 16 : [  6.75646469e+01   1.50772890e+01   1.00000000e-02]\n",
      "Hyper-parameters at iteration 0 : [  6.75646469e+01   1.50772890e+01   1.00000000e-02]\n",
      "\tHyper-parameters at outter iteration 17 : [  6.75646469e+01   1.50772890e+01   1.00000000e-02]\n",
      "Hyper-parameters at iteration 0 : [  6.75646469e+01   1.50772890e+01   1.00000000e-02]\n",
      "\tHyper-parameters at outter iteration 18 : [  6.75646469e+01   1.50772890e+01   1.00000000e-02]\n",
      "Hyper-parameters at iteration 0 : [  6.75646469e+01   1.50772890e+01   1.00000000e-02]\n",
      "\tHyper-parameters at outter iteration 19 : [  6.75593304e+01   1.50680645e+01   1.00000000e-02]\n"
     ]
    }
   ],
   "source": [
    "model_covariance_obj = SquaredExponential(np.copy(cov_params))\n",
    "vi_gp = GPC(model_covariance_obj, method='vi')\n",
    "opts = {'bound': 'Taylor', 'maxfun':5, 'mydisp': True, 'num_updates':3}\n",
    "vi_res = vi_gp.fit(x_tr, y_tr, inputs=inputs, optimizer_options=opts, max_out_iter=20)"
   ]
  },
  {
   "cell_type": "code",
   "execution_count": 8,
   "metadata": {
    "collapsed": false
   },
   "outputs": [
    {
     "data": {
      "text/plain": [
       "<matplotlib.text.Text at 0x1068039b0>"
      ]
     },
     "execution_count": 8,
     "metadata": {},
     "output_type": "execute_result"
    },
    {
     "data": {
      "image/png": "[encoded data removed]",
      "text/plain": [
       "<matplotlib.figure.Figure at 0x10d1e1cc0>"
      ]
     },
     "metadata": {},
     "output_type": "display_data"
    }
   ],
   "source": [
    "metric = lambda w: vi_gp.get_prediction_quality(w, x_test, y_test)\n",
    "vi_t_x_lst, vi_t_y_lst = vi_res.plot_performance(metric, 't', freq=1)\n",
    "plt.plot(vi_t_x_lst[1:], vi_t_y_lst[1:], '-mx', label='vi-means-c')\n",
    "# plt.plot(svi_x_lst[1:100], svi_y_lst[1:100], '-gx', label='svi-L-BFGS-B-c')\n",
    "plt.ylim([.9, 1.])\n",
    "plt.legend()\n",
    "plt.xlabel('Seconds')\n",
    "plt.ylabel('Accuracy')"
   ]
  },
  {
   "cell_type": "markdown",
   "metadata": {},
   "source": [
    "### JJ-full"
   ]
  },
  {
   "cell_type": "code",
   "execution_count": 21,
   "metadata": {
    "collapsed": false
   },
   "outputs": [
    {
     "name": "stdout",
     "output_type": "stream",
     "text": [
      "Hyper-parameters at iteration 0 : [ 1.   1.   0.1  1.   1. ]\n",
      "Hyper-parameters at iteration 1 : [ 0.99900907  1.99993725  0.09990992  1.00005681  1.00004286]\n",
      "Hyper-parameters at iteration 2 : [ 1.11756693  2.02474222  0.01        1.00006959  1.00005342]\n",
      "Hyper-parameters at iteration 3 : [ 1.1707368   2.03387484  0.01        1.00007631  1.00005895]\n",
      "Hyper-parameters at iteration 4 : [ 1.48809796  2.12048545  0.01        1.00015098  1.00012016]\n",
      "Hyper-parameters at iteration 5 : [ 1.69919773  2.21945918  0.01        1.00024945  1.00020117]\n",
      "Hyper-parameters at iteration 6 : [ 2.05811791  2.43423554  0.01        1.00056212  1.00046084]\n",
      "Hyper-parameters at iteration 7 : [ 2.52731028  2.74433231  0.01        1.00128826  1.00107117]\n",
      "Hyper-parameters at iteration 8 : [ 3.06977448  3.10097135  0.01        1.00221506  1.00185216]\n",
      "Hyper-parameters at iteration 9 : [ 3.48193729  3.36130513  0.01        1.00295835  1.00247975]\n",
      "Hyper-parameters at iteration 10 : [ 3.72493004  3.50367598  0.01        1.00343185  1.00288069]\n",
      "Hyper-parameters at iteration 11 : [ 3.96825877  3.63251131  0.01        1.00395676  1.00332664]\n",
      "Hyper-parameters at iteration 12 : [ 4.38741683  3.81696779  0.01        1.00493883  1.0041628 ]\n",
      "Hyper-parameters at iteration 13 : [ 5.20355012  4.10365642  0.01        1.00704731  1.00596193]\n",
      "Hyper-parameters at iteration 14 : [ 6.62340446  4.52579351  0.01        1.01120847  1.00952309]\n",
      "Hyper-parameters at iteration 15 : [  1.16116630e+01   6.04717908e+00   1.00000000e-02   1.02640705e+00\n",
      "   1.02254502e+00]\n",
      "Hyper-parameters at iteration 16 : [  1.00448196e+01   5.17044175e+00   1.00000000e-02   1.02262674e+00\n",
      "   1.01933018e+00]\n",
      "Hyper-parameters at iteration 17 : [  1.16584416e+01   5.49620134e+00   1.00000000e-02   1.02841907e+00\n",
      "   1.02431114e+00]\n",
      "Hyper-parameters at iteration 18 : [  1.37176087e+01   5.54135846e+00   1.00000000e-02   1.03756781e+00\n",
      "   1.03220887e+00]\n",
      "Hyper-parameters at iteration 19 : [  1.38402357e+01   5.52895240e+00   1.00000000e-02   1.03831144e+00\n",
      "   1.03285304e+00]\n"
     ]
    }
   ],
   "source": [
    "model_covariance_obj = SquaredExponential(np.copy(cov_params))\n",
    "vi_gp = GPC(model_covariance_obj, method='vi_full')\n",
    "opts = {'maxiter': 18, 'mydisp': True}\n",
    "vi_res = vi_gp.fit(x_tr, y_tr, inputs=inputs, optimizer_options=opts)"
   ]
  },
  {
   "cell_type": "code",
   "execution_count": 22,
   "metadata": {
    "collapsed": false
   },
   "outputs": [
    {
     "data": {
      "text/plain": [
       "<matplotlib.text.Text at 0x11b880be0>"
      ]
     },
     "execution_count": 22,
     "metadata": {},
     "output_type": "execute_result"
    },
    {
     "data": {
      "image/png": "[encoded data removed]",
      "text/plain": [
       "<matplotlib.figure.Figure at 0x10f0bb4e0>"
      ]
     },
     "metadata": {},
     "output_type": "display_data"
    }
   ],
   "source": [
    "metric = lambda w: vi_gp.get_prediction_quality(w, x_tr, y_tr, x_test, y_test)\n",
    "vi_full_x_lst, vi_full_y_lst = vi_res.plot_performance(metric, 't', freq=1)\n",
    "plt.plot(vi_full_x_lst[1:], vi_full_y_lst[1:], '-kx', label='vi-JJ-full')\n",
    "# plt.plot(svi_x_lst[1:100], svi_y_lst[1:100], '-gx', label='svi-L-BFGS-B-c')\n",
    "plt.ylim([0.9, 1.])\n",
    "plt.legend()\n",
    "plt.xlabel('Seconds')\n",
    "plt.ylabel('Accuracy')"
   ]
  },
  {
   "cell_type": "markdown",
   "metadata": {},
   "source": [
    "### Stochastic Taylor"
   ]
  },
  {
   "cell_type": "code",
   "execution_count": 14,
   "metadata": {
    "collapsed": false
   },
   "outputs": [
    {
     "name": "stdout",
     "output_type": "stream",
     "text": [
      "Iteration  1 :\n",
      "\tGradient norm 28.1776068777\n",
      "\tHyper-parameters at outter iteration 0 : [ 11.27415051  18.61077423   0.04686753]\n",
      "Iteration  1 :\n",
      "\tGradient norm 102.05988787\n",
      "\tHyper-parameters at outter iteration 1 : [  1.24482182e+01   1.73590466e+01   1.67022205e-02]\n",
      "Iteration  1 :\n",
      "\tGradient norm 96.3969687083\n",
      "\tHyper-parameters at outter iteration 2 : [ 13.50931531  16.24240613  -0.01788846]\n",
      "Iteration  1 :\n",
      "\tGradient norm 117.559503794\n",
      "\tHyper-parameters at outter iteration 3 : [ 14.5802847   15.110978     0.03456205]\n",
      "Iteration  1 :\n",
      "\tGradient norm 37.6117229924\n",
      "\tHyper-parameters at outter iteration 4 : [  1.56479837e+01   1.39916326e+01  -8.08146689e-03]\n",
      "Iteration  1 :\n",
      "\tGradient norm 101.497809677\n",
      "\tHyper-parameters at outter iteration 5 : [  1.66699841e+01   1.29277653e+01   4.53157229e-03]\n",
      "Iteration  1 :\n",
      "\tGradient norm 28.2842959414\n",
      "\tHyper-parameters at outter iteration 6 : [  1.76673174e+01   1.18971580e+01  -4.16344431e-03]\n",
      "Iteration  1 :\n",
      "\tGradient norm 12.7585909424\n",
      "\tHyper-parameters at outter iteration 7 : [  1.86325933e+01   1.09137671e+01   4.47853559e-03]\n",
      "Iteration  1 :\n",
      "\tGradient norm 0.808707771079\n",
      "\tHyper-parameters at outter iteration 8 : [  1.95353505e+01   1.00204949e+01  -3.29075678e-06]\n",
      "Iteration  1 :\n",
      "\tGradient norm 7.03728357215\n",
      "\tHyper-parameters at outter iteration 9 : [  2.03460246e+01   9.24558617e+00  -1.17610102e-02]\n",
      "Iteration  1 :\n",
      "\tGradient norm 0.0644865975353\n",
      "\tHyper-parameters at outter iteration 10 : [  2.10275305e+01   8.72289817e+00   5.77117509e-07]\n",
      "Iteration  1 :\n",
      "\tGradient norm 0.18011186483\n",
      "\tHyper-parameters at outter iteration 11 : [  2.16644494e+01   8.47386678e+00   1.01927256e-05]\n",
      "Iteration  1 :\n",
      "\tGradient norm 8.96956742761\n",
      "\tHyper-parameters at outter iteration 12 : [  2.22937787e+01   8.36981963e+00  -1.30078186e-02]\n",
      "Iteration  1 :\n",
      "\tGradient norm 0.46491131724\n",
      "\tHyper-parameters at outter iteration 13 : [  2.29295120e+01   8.29562423e+00   1.47528266e-05]\n",
      "Iteration  1 :\n",
      "\tGradient norm 0.229486083397\n",
      "\tHyper-parameters at outter iteration 14 : [  2.35652487e+01   8.30719561e+00  -6.35588639e-12]\n",
      "Iteration  1 :\n",
      "\tGradient norm 0.670095038877\n",
      "\tHyper-parameters at outter iteration 15 : [  2.41673905e+01   8.39561492e+00  -1.10823170e-09]\n",
      "Iteration  1 :\n",
      "\tGradient norm 2.46090480612\n",
      "\tHyper-parameters at outter iteration 16 : [ 24.86389784   8.39103225  -0.03349691]\n",
      "Iteration  1 :\n",
      "\tGradient norm 0.444548466557\n",
      "\tHyper-parameters at outter iteration 17 : [  2.54789788e+01   8.47964971e+00   8.93889511e-04]\n",
      "Iteration  1 :\n",
      "\tGradient norm 0.141194689797\n",
      "\tHyper-parameters at outter iteration 18 : [  2.60872643e+01   8.60062419e+00  -1.12492948e-06]\n",
      "Iteration  1 :\n",
      "\tGradient norm 0.0607013803606\n",
      "\tHyper-parameters at outter iteration 19 : [  2.67183579e+01   8.63760390e+00   1.74692969e-05]\n",
      "Iteration  1 :\n",
      "\tGradient norm 0.226640717648\n",
      "\tHyper-parameters at outter iteration 20 : [  2.74664122e+01   8.75492467e+00  -1.11402201e-05]\n",
      "Iteration  1 :\n",
      "\tGradient norm 0.491372434525\n",
      "\tHyper-parameters at outter iteration 21 : [  2.81564195e+01   8.92944714e+00  -1.08333872e-06]\n",
      "Iteration  1 :\n",
      "\tGradient norm 0.451236920407\n",
      "\tHyper-parameters at outter iteration 22 : [  2.87158838e+01   9.03817898e+00   1.16745877e-07]\n",
      "Iteration  1 :\n",
      "\tGradient norm 3.55584937639\n",
      "\tHyper-parameters at outter iteration 23 : [  2.92778764e+01   9.14449332e+00   1.48065308e-02]\n",
      "Iteration  1 :\n",
      "\tGradient norm 0.207330293059\n",
      "\tHyper-parameters at outter iteration 24 : [  2.98445304e+01   9.18025748e+00  -2.68969735e-06]\n"
     ]
    }
   ],
   "source": [
    "model_covariance_obj = SquaredExponential(np.copy(cov_params))\n",
    "vi_gp = GPC(model_covariance_obj, method='vi')\n",
    "opts = {'bound': 'Taylor', 'mode': 'adadelta', 'num_updates': 1, 'mydisp': True, 'print_freq': 1, 'step_rate': 1.,\n",
    "        'maxiter': 1, 'batch_size':1000}\n",
    "vi_res = vi_gp.fit(x_tr, y_tr, inputs=inputs, optimizer_options=opts, max_out_iter=25)"
   ]
  },
  {
   "cell_type": "code",
   "execution_count": 15,
   "metadata": {
    "collapsed": false
   },
   "outputs": [
    {
     "data": {
      "text/plain": [
       "<matplotlib.text.Text at 0x106767f60>"
      ]
     },
     "execution_count": 15,
     "metadata": {},
     "output_type": "execute_result"
    },
    {
     "data": {
      "image/png": "[encoded data removed]",
      "text/plain": [
       "<matplotlib.figure.Figure at 0x1066b1978>"
      ]
     },
     "metadata": {},
     "output_type": "display_data"
    }
   ],
   "source": [
    "metric = lambda w: vi_gp.get_prediction_quality(w, x_test, y_test)\n",
    "vi_st_x_lst, vi_st_y_lst = vi_res.plot_performance(metric, 't', freq=1)\n",
    "plt.plot(vi_st_x_lst[1:], vi_st_y_lst[1:], '-mx', label='vi-means-c')\n",
    "# plt.plot(svi_x_lst[1:100], svi_y_lst[1:100], '-gx', label='svi-L-BFGS-B-c')\n",
    "plt.ylim([.9, 1.])\n",
    "plt.legend()\n",
    "plt.xlabel('Seconds')\n",
    "plt.ylabel('Accuracy')"
   ]
  },
  {
   "cell_type": "code",
   "execution_count": 10,
   "metadata": {
    "collapsed": false
   },
   "outputs": [
    {
     "data": {
      "text/plain": [
       "0.94174999999999998"
      ]
     },
     "execution_count": 10,
     "metadata": {},
     "output_type": "execute_result"
    }
   ],
   "source": [
    "vi_st_y_lst[15]"
   ]
  },
  {
   "cell_type": "markdown",
   "metadata": {},
   "source": [
    "## svi-AdaDelta-c\n",
    "Подбор длины шага"
   ]
  },
  {
   "cell_type": "code",
   "execution_count": 20,
   "metadata": {
    "collapsed": false
   },
   "outputs": [
    {
     "name": "stdout",
     "output_type": "stream",
     "text": [
      "1.2\n",
      "1.1\n",
      "1.0\n"
     ]
    },
    {
     "name": "stderr",
     "output_type": "stream",
     "text": [
      "/Users/IzmailovPavel/Documents/Education/Course Project/Code/GP/gaussian_process_classification.py:614: RuntimeWarning: invalid value encountered in log\n",
      "  loss += np.sum(np.log(np.diag(sigma_L))) * l / N\n"
     ]
    }
   ],
   "source": [
    "results = []\n",
    "steps = [1.2, 1.1, 1.]\n",
    "for step in steps:\n",
    "    print(step)\n",
    "    model_covariance_obj = SquaredExponential(np.copy(cov_params))\n",
    "    ad_gp = GPC(model_covariance_obj, method='svi', hermgauss_deg=100)\n",
    "\n",
    "    opts = {'mode': 'adadelta', 'maxiter': 20, 'verbose': False, 'batch_size': 350, \n",
    "            'step_rate': step}#, 'print_freq':50}\n",
    "    batch_res = ad_gp.fit(x_tr, y_tr, inputs=inputs, optimizer_options=opts)\n",
    "    results.append(batch_res)"
   ]
  },
  {
   "cell_type": "code",
   "execution_count": 21,
   "metadata": {
    "collapsed": false
   },
   "outputs": [
    {
     "name": "stdout",
     "output_type": "stream",
     "text": [
      "0\n",
      "1\n",
      "2\n"
     ]
    },
    {
     "data": {
      "text/plain": [
       "<matplotlib.text.Text at 0x10da8cd30>"
      ]
     },
     "execution_count": 21,
     "metadata": {},
     "output_type": "execute_result"
    },
    {
     "data": {
      "image/png": "[encoded data removed]",
      "text/plain": [
       "<matplotlib.figure.Figure at 0x10da1a780>"
      ]
     },
     "metadata": {},
     "output_type": "display_data"
    }
   ],
   "source": [
    "metric = lambda w: ad_gp.get_prediction_quality(w, x_test, y_test)\n",
    "for i in range(len(results)):\n",
    "    svi_ad_x_lst, svi_ad_y_lst = results[i].plot_performance(metric, 't', freq=1)\n",
    "    plt.plot(svi_ad_x_lst[1:], svi_ad_y_lst[1:], label=steps[i])\n",
    "    print(i)\n",
    "plt.ylim([0.8, 1.])\n",
    "plt.legend()\n",
    "plt.xlabel('Seconds')\n",
    "plt.ylabel('Accuracy')"
   ]
  },
  {
   "cell_type": "code",
   "execution_count": 22,
   "metadata": {
    "collapsed": true
   },
   "outputs": [
    {
     "name": "stdout",
     "output_type": "stream",
     "text": [
      "Using AdaDelta optimizer\n",
      "Iteration  1 :\n",
      "\tGradient norm 8.8346584206\n",
      "Iteration  2 :\n",
      "\tGradient norm 7.19278907977\n",
      "Iteration  3 :\n",
      "\tGradient norm 13.3856414634\n",
      "Iteration  4 :\n",
      "\tGradient norm 7.87188241742\n",
      "Iteration  5 :\n",
      "\tGradient norm 8.43101824246\n",
      "Iteration  6 :\n",
      "\tGradient norm 19.320388366\n",
      "Iteration  7 :\n",
      "\tGradient norm 8.11076290142\n",
      "Iteration  8 :\n",
      "\tGradient norm 9.9716405351\n",
      "Iteration  9 :\n",
      "\tGradient norm 12.652559551\n",
      "Iteration  10 :\n",
      "\tGradient norm 12.7613938602\n",
      "Iteration  11 :\n",
      "\tGradient norm 8.5814728066\n",
      "Iteration  12 :\n",
      "\tGradient norm 23.599347291\n",
      "Iteration  13 :\n",
      "\tGradient norm 7.91119979681\n",
      "Iteration  14 :\n",
      "\tGradient norm 8.89976175494\n",
      "Iteration  15 :\n",
      "\tGradient norm 12.3944426749\n",
      "Iteration  16 :\n",
      "\tGradient norm 7.5457788762\n",
      "Iteration  17 :\n",
      "\tGradient norm 8.01256424602\n",
      "Iteration  18 :\n",
      "\tGradient norm 13.4304652137\n",
      "Iteration  19 :\n",
      "\tGradient norm 7.75074626901\n",
      "Iteration  20 :\n",
      "\tGradient norm 6.45421833831\n",
      "Iteration  21 :\n",
      "\tGradient norm 12.9885841569\n",
      "Iteration  22 :\n",
      "\tGradient norm 8.38827451034\n",
      "Iteration  23 :\n",
      "\tGradient norm 8.5763372581\n",
      "Iteration  24 :\n",
      "\tGradient norm 9.21383502502\n",
      "Iteration  25 :\n",
      "\tGradient norm 11.5215181417\n",
      "Iteration  26 :\n",
      "\tGradient norm 7.11049980523\n",
      "Iteration  27 :\n",
      "\tGradient norm 9.71265014894\n",
      "Iteration  28 :\n",
      "\tGradient norm 7.22836065052\n",
      "Iteration  29 :\n",
      "\tGradient norm 59.0189576348\n",
      "Iteration  30 :\n",
      "\tGradient norm 7.4067075157\n"
     ]
    },
    {
     "name": "stderr",
     "output_type": "stream",
     "text": [
      "/Users/IzmailovPavel/Documents/Education/Course Project/Code/GP/gaussian_process_classification.py:614: RuntimeWarning: invalid value encountered in log\n",
      "  loss += np.sum(np.log(np.diag(sigma_L))) * l / N\n"
     ]
    }
   ],
   "source": [
    "model_covariance_obj = SquaredExponential(np.copy(cov_params))\n",
    "ad_gp = GPC(model_covariance_obj, method='svi', hermgauss_deg=100)\n",
    "opts = {'mode': 'adadelta', 'maxiter': 30, 'verbose': True, 'batch_size': 350, \n",
    "        'step_rate': 1., 'print_freq':1}\n",
    "batch_res = ad_gp.fit(x_tr, y_tr, inputs=inputs, optimizer_options=opts)"
   ]
  },
  {
   "cell_type": "code",
   "execution_count": 23,
   "metadata": {
    "collapsed": false
   },
   "outputs": [
    {
     "data": {
      "text/plain": [
       "<matplotlib.text.Text at 0x10d54f240>"
      ]
     },
     "execution_count": 23,
     "metadata": {},
     "output_type": "execute_result"
    },
    {
     "data": {
      "image/png": "[encoded data removed]",
      "text/plain": [
       "<matplotlib.figure.Figure at 0x10da1b160>"
      ]
     },
     "metadata": {},
     "output_type": "display_data"
    }
   ],
   "source": [
    "metric = lambda w: ad_gp.get_prediction_quality(w, x_test, y_test)\n",
    "svi_ad_x_lst, svi_ad_y_lst = batch_res.plot_performance(metric, 't', freq=1)\n",
    "plt.plot(svi_ad_x_lst[1:], svi_ad_y_lst[1:], '-yx', label='svi-AdaDelta-c')\n",
    "plt.ylim([0.88, 1.])\n",
    "plt.legend()\n",
    "plt.xlabel('Seconds')\n",
    "plt.ylabel('Accuracy')"
   ]
  },
  {
   "cell_type": "markdown",
   "metadata": {},
   "source": [
    "## Выводы"
   ]
  },
  {
   "cell_type": "code",
   "execution_count": 26,
   "metadata": {
    "collapsed": true
   },
   "outputs": [],
   "source": [
    "# svi_x_lst = np.load('../plots/vi_vs_svi_class/'+ data_name +'_svi_x.npy')\n",
    "# svi_y_lst = np.load('../plots/vi_vs_svi_class/'+ data_name +'_svi_y.npy')\n",
    "# vi_x_lst = np.load('../plots/vi_vs_svi_class/'+ data_name +'_vi_x.npy')\n",
    "# vi_y_lst = np.load('../plots/vi_vs_svi_class/'+ data_name +'_vi_y.npy')\n",
    "# vi_t_x_lst = np.load('../plots/vi_vs_svi_class/'+ data_name +'_vi_t_x.npy')\n",
    "# vi_t_y_lst = np.load('../plots/vi_vs_svi_class/'+ data_name +'_vi_t_y.npy')"
   ]
  },
  {
   "cell_type": "code",
   "execution_count": 30,
   "metadata": {
    "collapsed": false
   },
   "outputs": [
    {
     "data": {
      "text/plain": [
       "<matplotlib.text.Text at 0x10e642518>"
      ]
     },
     "execution_count": 30,
     "metadata": {},
     "output_type": "execute_result"
    },
    {
     "data": {
      "image/png": "[encoded data removed]",
      "text/plain": [
       "<matplotlib.figure.Figure at 0x10e636630>"
      ]
     },
     "metadata": {},
     "output_type": "display_data"
    }
   ],
   "source": [
    "plt.figure(figsize=(12, 7))\n",
    "plt.plot(svi_x_lst[1:], svi_y_lst[1:], '-gx', label='svi-L-BFGS-B-c')\n",
    "plt.plot(svi_ad_x_lst[1:], svi_ad_y_lst[1:], '-yx', label='svi-AdaDelta-c')\n",
    "plt.plot(vi_x_lst[1:], vi_y_lst[1:], '-bx', label='vi-JJ')\n",
    "plt.plot(vi_t_x_lst[1:], vi_t_y_lst[1:], '-mx', label='vi-Taylor')\n",
    "plt.ylim([0.8, .95])\n",
    "plt.legend()\n",
    "plt.xlabel('Seconds')\n",
    "plt.ylabel('Accuracy')"
   ]
  },
  {
   "cell_type": "code",
   "execution_count": 31,
   "metadata": {
    "collapsed": true
   },
   "outputs": [],
   "source": [
    "np.save('../plots/vi_vs_svi_class/'+ data_name +'_svi_x.npy', svi_x_lst)\n",
    "np.save('../plots/vi_vs_svi_class/'+ data_name +'_svi_y.npy', svi_y_lst)\n",
    "np.save('../plots/vi_vs_svi_class/'+ data_name +'_vi_x.npy', vi_x_lst)\n",
    "np.save('../plots/vi_vs_svi_class/'+ data_name +'_vi_y.npy', vi_y_lst)\n",
    "np.save('../plots/vi_vs_svi_class/'+ data_name +'_ad_x.npy', svi_ad_x_lst)\n",
    "np.save('../plots/vi_vs_svi_class/'+ data_name +'_ad_y.npy', svi_ad_y_lst)"
   ]
  },
  {
   "cell_type": "code",
   "execution_count": 32,
   "metadata": {
    "collapsed": true
   },
   "outputs": [],
   "source": [
    "np.save('../plots/vi_vs_svi_class/'+ data_name +'_vi_x.npy', vi_x_lst)\n",
    "np.save('../plots/vi_vs_svi_class/'+ data_name +'_vi_y.npy', vi_y_lst)\n",
    "np.save('../plots/vi_vs_svi_class/'+ data_name +'_vi_t_x.npy', vi_t_x_lst)\n",
    "np.save('../plots/vi_vs_svi_class/'+ data_name +'_vi_t_y.npy', vi_t_y_lst)"
   ]
  }
 ],
 "metadata": {
  "kernelspec": {
   "display_name": "Python 3",
   "language": "python",
   "name": "python3"
  },
  "language_info": {
   "codemirror_mode": {
    "name": "ipython",
    "version": 3
   },
   "file_extension": ".py",
   "mimetype": "text/x-python",
   "name": "python",
   "nbconvert_exporter": "python",
   "pygments_lexer": "ipython3",
   "version": "3.4.3"
  }
 },
 "nbformat": 4,
 "nbformat_minor": 0
}
