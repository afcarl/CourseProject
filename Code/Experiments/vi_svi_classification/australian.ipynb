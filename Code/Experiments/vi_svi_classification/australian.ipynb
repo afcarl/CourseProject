{
 "cells": [
  {
   "cell_type": "markdown",
   "metadata": {},
   "source": [
    "# Australian"
   ]
  },
  {
   "cell_type": "code",
   "execution_count": 1,
   "metadata": {
    "collapsed": false
   },
   "outputs": [],
   "source": [
    "import sys\n",
    "sys.path.append('/Users/IzmailovPavel/Documents/Education/Course Project/Code')\n",
    "import numpy as np\n",
    "import matplotlib as mpl\n",
    "\n",
    "from matplotlib import pyplot as plt\n",
    "\n",
    "from GP.covariance_functions import SquaredExponential\n",
    "from GP.gaussian_process_classification import GPC\n",
    "\n",
    "from sklearn.cluster import KMeans\n",
    "\n",
    "from vi_svi_class_experiments import run_methods\n",
    "from sklearn.datasets import load_svmlight_file\n",
    "from sklearn.preprocessing import StandardScaler\n",
    "from sklearn.utils import shuffle\n",
    "%matplotlib inline\n",
    "%load_ext autoreload\n",
    "%autoreload 2"
   ]
  },
  {
   "cell_type": "markdown",
   "metadata": {},
   "source": [
    "## Loading german numer"
   ]
  },
  {
   "cell_type": "code",
   "execution_count": 3,
   "metadata": {
    "collapsed": false
   },
   "outputs": [
    {
     "name": "stdout",
     "output_type": "stream",
     "text": [
      "of objects: 552\n",
      "of features 14\n",
      "australian\n"
     ]
    }
   ],
   "source": [
    "x_tr, y_tr = load_svmlight_file('../../../../Programming/DataSets/Classification/australian_scale(690,14).txt')\n",
    "x_tr, y_tr = shuffle(x_tr, y_tr, random_state=241)\n",
    "data_name = 'australian'\n",
    "file_name = data_name\n",
    "\n",
    "x_tr = x_tr.toarray()\n",
    "scaler = StandardScaler()\n",
    "x_tr = scaler.fit_transform(x_tr).T\n",
    "\n",
    "x_tr = (x_tr + 1) / 2\n",
    "y_tr = y_tr.reshape((y_tr.size, 1))\n",
    "x_test = x_tr[:, int(x_tr.shape[1] * 0.8):]\n",
    "y_test = y_tr[int(x_tr.shape[1] * 0.8):, :]\n",
    "y_tr = y_tr[:int(x_tr.shape[1] * 0.8), :]\n",
    "x_tr = x_tr[:, : int(x_tr.shape[1] * 0.8)]\n",
    "dim, num = x_tr.shape\n",
    "print('of objects:', num)\n",
    "print('of features', dim)\n",
    "print(data_name)"
   ]
  },
  {
   "cell_type": "markdown",
   "metadata": {},
   "source": [
    "## K-Means cluster centers"
   ]
  },
  {
   "cell_type": "code",
   "execution_count": 36,
   "metadata": {
    "collapsed": false
   },
   "outputs": [
    {
     "name": "stdout",
     "output_type": "stream",
     "text": [
      "Finding means...\n",
      "...found\n"
     ]
    }
   ],
   "source": [
    "ind_num = 10\n",
    "print('Finding means...')\n",
    "means = KMeans(n_clusters=ind_num, n_init=3, max_iter=100, random_state=241)\n",
    "means.fit(x_tr.T)\n",
    "inputs = means.cluster_centers_.T\n",
    "print('...found')"
   ]
  },
  {
   "cell_type": "code",
   "execution_count": 42,
   "metadata": {
    "collapsed": true
   },
   "outputs": [],
   "source": [
    "cov_params = np.array([5., .5, 0.1])"
   ]
  },
  {
   "cell_type": "markdown",
   "metadata": {},
   "source": [
    "## svi-L-BFGS-B-c method"
   ]
  },
  {
   "cell_type": "code",
   "execution_count": 43,
   "metadata": {
    "collapsed": true
   },
   "outputs": [],
   "source": [
    "model_covariance_obj = SquaredExponential(np.copy(cov_params))\n",
    "svi_gp = GPC(model_covariance_obj, method='svi')"
   ]
  },
  {
   "cell_type": "code",
   "execution_count": 44,
   "metadata": {
    "collapsed": false
   },
   "outputs": [],
   "source": [
    "opts = {'mode': 'full', 'maxiter': 200, 'mydisp': False}\n",
    "svi_res = svi_gp.fit(x_tr, y_tr, inputs=inputs, optimizer_options=opts)"
   ]
  },
  {
   "cell_type": "code",
   "execution_count": 45,
   "metadata": {
    "collapsed": false
   },
   "outputs": [],
   "source": [
    "metric = lambda w: svi_gp.get_prediction_quality(w, x_test, y_test)\n",
    "svi_x_lst, svi_y_lst = svi_res.plot_performance(metric, 't', freq=1)"
   ]
  },
  {
   "cell_type": "code",
   "execution_count": 46,
   "metadata": {
    "collapsed": false
   },
   "outputs": [
    {
     "data": {
      "text/plain": [
       "<matplotlib.text.Text at 0x10ea44860>"
      ]
     },
     "execution_count": 46,
     "metadata": {},
     "output_type": "execute_result"
    },
    {
     "data": {
      "image/png": "[encoded data removed]",
      "text/plain": [
       "<matplotlib.figure.Figure at 0x10e40fba8>"
      ]
     },
     "metadata": {},
     "output_type": "display_data"
    }
   ],
   "source": [
    "plt.plot(svi_x_lst[1:], svi_y_lst[1:], '-gx', label='svi-L-BFGS-B-c')\n",
    "plt.ylim([0.7, 1.])\n",
    "plt.legend()\n",
    "plt.xlabel('Seconds')\n",
    "plt.ylabel('Accuracy')"
   ]
  },
  {
   "cell_type": "markdown",
   "metadata": {},
   "source": [
    "## vi-means-c method"
   ]
  },
  {
   "cell_type": "code",
   "execution_count": 47,
   "metadata": {
    "collapsed": false
   },
   "outputs": [],
   "source": [
    "model_covariance_obj = SquaredExponential(np.copy(cov_params))\n",
    "vi_gp = GPC(model_covariance_obj, method='vi')"
   ]
  },
  {
   "cell_type": "code",
   "execution_count": 48,
   "metadata": {
    "collapsed": false
   },
   "outputs": [],
   "source": [
    "opts = {'maxiter':5, 'mydisp': False}\n",
    "vi_res = vi_gp.fit(x_tr, y_tr, inputs=inputs, optimizer_options=opts, max_out_iter=100)"
   ]
  },
  {
   "cell_type": "code",
   "execution_count": 49,
   "metadata": {
    "collapsed": true
   },
   "outputs": [],
   "source": [
    "metric = lambda w: vi_gp.get_prediction_quality(w, x_test, y_test)\n",
    "vi_x_lst, vi_y_lst = vi_res.plot_performance(metric, 't', freq=1)"
   ]
  },
  {
   "cell_type": "code",
   "execution_count": 51,
   "metadata": {
    "collapsed": false
   },
   "outputs": [
    {
     "data": {
      "text/plain": [
       "<matplotlib.text.Text at 0x10e9ebb70>"
      ]
     },
     "execution_count": 51,
     "metadata": {},
     "output_type": "execute_result"
    },
    {
     "data": {
      "image/png": "[encoded data removed]",
      "text/plain": [
       "<matplotlib.figure.Figure at 0x10ea00ba8>"
      ]
     },
     "metadata": {},
     "output_type": "display_data"
    }
   ],
   "source": [
    "plt.plot(vi_x_lst[1:100], vi_y_lst[1:100], '-bx', label='vi-means-c')\n",
    "# plt.plot(svi_x_lst[1:100], svi_y_lst[1:100], '-gx', label='svi-L-BFGS-B-c')\n",
    "plt.ylim([0.7, 0.9])\n",
    "plt.legend()\n",
    "plt.xlabel('Seconds')\n",
    "plt.ylabel('Accuracy')"
   ]
  },
  {
   "cell_type": "markdown",
   "metadata": {},
   "source": [
    "## svi-AdaDelta-c\n",
    "Подберем шаг для метода"
   ]
  },
  {
   "cell_type": "code",
   "execution_count": 52,
   "metadata": {
    "collapsed": false
   },
   "outputs": [],
   "source": [
    "results = []\n",
    "steps = [1., 0.5, 0.3, 0.1, 0.01]\n",
    "for step in steps:\n",
    "    model_covariance_obj = SquaredExponential(np.copy(cov_params))\n",
    "    ad_gp = GPC(model_covariance_obj, method='svi', hermgauss_deg=100)\n",
    "\n",
    "    opts = {'mode': 'adadelta', 'maxiter': 100, 'verbose': False, 'batch_size': 50, \n",
    "            'step_rate': step}#, 'print_freq':50}\n",
    "    batch_res = ad_gp.fit(x_tr, y_tr, inputs=inputs, optimizer_options=opts)\n",
    "    results.append(batch_res)"
   ]
  },
  {
   "cell_type": "code",
   "execution_count": 54,
   "metadata": {
    "collapsed": false
   },
   "outputs": [
    {
     "data": {
      "text/plain": [
       "<matplotlib.text.Text at 0x10ef946a0>"
      ]
     },
     "execution_count": 54,
     "metadata": {},
     "output_type": "execute_result"
    },
    {
     "data": {
      "image/png": "[encoded data removed]",
      "text/plain": [
       "<matplotlib.figure.Figure at 0x10ef7d518>"
      ]
     },
     "metadata": {},
     "output_type": "display_data"
    }
   ],
   "source": [
    "metric = lambda w: ad_gp.get_prediction_quality(w, x_test, y_test)\n",
    "for i in range(len(results)):\n",
    "    svi_ad_x_lst, svi_ad_y_lst = results[i].plot_performance(metric, 't', freq=5)\n",
    "    plt.plot(svi_ad_x_lst[1:], svi_ad_y_lst[1:], label=steps[i])\n",
    "plt.ylim([0.6, 0.9])\n",
    "plt.legend()\n",
    "plt.xlabel('Seconds')\n",
    "plt.ylabel('Accuracy')"
   ]
  },
  {
   "cell_type": "markdown",
   "metadata": {},
   "source": [
    "## Выводы\n",
    "На этих данных ничего интересного"
   ]
  },
  {
   "cell_type": "code",
   "execution_count": null,
   "metadata": {
    "collapsed": true
   },
   "outputs": [],
   "source": []
  }
 ],
 "metadata": {
  "kernelspec": {
   "display_name": "Python 3",
   "language": "python",
   "name": "python3"
  },
  "language_info": {
   "codemirror_mode": {
    "name": "ipython",
    "version": 3
   },
   "file_extension": ".py",
   "mimetype": "text/x-python",
   "name": "python",
   "nbconvert_exporter": "python",
   "pygments_lexer": "ipython3",
   "version": "3.4.3"
  }
 },
 "nbformat": 4,
 "nbformat_minor": 0
}
