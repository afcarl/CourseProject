{
 "cells": [
  {
   "cell_type": "markdown",
   "metadata": {},
   "source": [
    "# CodRNA"
   ]
  },
  {
   "cell_type": "code",
   "execution_count": 1,
   "metadata": {
    "collapsed": false
   },
   "outputs": [],
   "source": [
    "import sys\n",
    "sys.path.append('/Users/IzmailovPavel/Documents/Education/Course Project/Code')\n",
    "import numpy as np\n",
    "import matplotlib as mpl\n",
    "\n",
    "from matplotlib import pyplot as plt\n",
    "\n",
    "from GP.covariance_functions import SquaredExponential\n",
    "from GP.gaussian_process_classification import GPC\n",
    "\n",
    "from sklearn.cluster import KMeans\n",
    "from sklearn.svm import SVC\n",
    "from sklearn.metrics import accuracy_score\n",
    "\n",
    "from sklearn.datasets import load_svmlight_file\n",
    "from sklearn.preprocessing import StandardScaler\n",
    "from sklearn.utils import shuffle\n",
    "%matplotlib inline\n",
    "%load_ext autoreload\n",
    "%autoreload 2"
   ]
  },
  {
   "cell_type": "markdown",
   "metadata": {},
   "source": [
    "## Данные"
   ]
  },
  {
   "cell_type": "code",
   "execution_count": 2,
   "metadata": {
    "collapsed": false
   },
   "outputs": [
    {
     "name": "stdout",
     "output_type": "stream",
     "text": [
      "of objects: 59535\n",
      "of features: 8\n",
      "cod-rna\n"
     ]
    },
    {
     "name": "stderr",
     "output_type": "stream",
     "text": [
      "/Library/Frameworks/Python.framework/Versions/3.4/lib/python3.4/site-packages/IPython/kernel/__main__.py:5: VisibleDeprecationWarning: using a non-integer number instead of an integer will result in an error in the future\n"
     ]
    }
   ],
   "source": [
    "x_tr, y_tr = load_svmlight_file('../../../../Programming/DataSets/Classification/cod-rna(59535,8).txt')\n",
    "x_test, y_test = load_svmlight_file('../../../../Programming/DataSets/Classification/cod-rna_test(271617,8).txt')\n",
    "x_test, y_test = shuffle(x_test, y_test, random_state=241)\n",
    "x_test = x_test[:1e4]\n",
    "y_test = y_test[:1e4]\n",
    "\n",
    "data_name = 'cod-rna'\n",
    "\n",
    "x_tr = x_tr.toarray()\n",
    "x_test = x_test.toarray()\n",
    "scaler = StandardScaler()\n",
    "x_tr = scaler.fit_transform(x_tr).T\n",
    "x_test = scaler.transform(x_test).T\n",
    "\n",
    "x_tr = (x_tr + 1) / 2\n",
    "x_test = (x_test + 1) / 2\n",
    "y_tr = y_tr[:, None]\n",
    "y_test = y_test[:, None]\n",
    "y_tr[y_tr == 0] = -1\n",
    "y_test[y_test == 0] = -1\n",
    "dim, num = x_tr.shape\n",
    "\n",
    "print('of objects:', num)\n",
    "print('of features:', dim)\n",
    "print(data_name)"
   ]
  },
  {
   "cell_type": "markdown",
   "metadata": {},
   "source": [
    "## K-Means cluster centers"
   ]
  },
  {
   "cell_type": "code",
   "execution_count": 3,
   "metadata": {
    "collapsed": false
   },
   "outputs": [
    {
     "name": "stdout",
     "output_type": "stream",
     "text": [
      "Finding means...\n",
      "...found\n"
     ]
    }
   ],
   "source": [
    "ind_num = 400\n",
    "print('Finding means...')\n",
    "means = KMeans(n_clusters=ind_num, n_init=1, max_iter=10, random_state=241)\n",
    "means.fit(x_tr.T)\n",
    "inputs = means.cluster_centers_.T\n",
    "print('...found')"
   ]
  },
  {
   "cell_type": "code",
   "execution_count": 4,
   "metadata": {
    "collapsed": true
   },
   "outputs": [],
   "source": [
    "with open('../plots/vi_vs_svi_class/'+ data_name +'_title.txt', 'w') as f:\n",
    "    title = data_name + ' dataset, ' + 'n = ' + str(num) + ', d = ' + str(dim) + ', m = ' + str(ind_num)\n",
    "    f.write(title)"
   ]
  },
  {
   "cell_type": "code",
   "execution_count": 5,
   "metadata": {
    "collapsed": true
   },
   "outputs": [],
   "source": [
    "cov_params = np.array([4., 2., .5])"
   ]
  },
  {
   "cell_type": "markdown",
   "metadata": {},
   "source": [
    "## SVM\n",
    "Here we train an SVM for reference"
   ]
  },
  {
   "cell_type": "code",
   "execution_count": 25,
   "metadata": {
    "collapsed": false
   },
   "outputs": [
    {
     "name": "stderr",
     "output_type": "stream",
     "text": [
      "/Library/Frameworks/Python.framework/Versions/3.4/lib/python3.4/site-packages/sklearn/svm/base.py:472: DataConversionWarning: A column-vector y was passed when a 1d array was expected. Please change the shape of y to (n_samples, ), for example using ravel().\n",
      "  y_ = column_or_1d(y, warn=True)\n"
     ]
    },
    {
     "data": {
      "text/plain": [
       "SVC(C=100.0, cache_size=200, class_weight=None, coef0=0.0, degree=3,\n",
       "  gamma=0.0, kernel='rbf', max_iter=-1, probability=False,\n",
       "  random_state=None, shrinking=True, tol=0.001, verbose=False)"
      ]
     },
     "execution_count": 25,
     "metadata": {},
     "output_type": "execute_result"
    }
   ],
   "source": [
    "svm = SVC(C=1e2)\n",
    "svm.fit(x_tr.T, y_tr)"
   ]
  },
  {
   "cell_type": "code",
   "execution_count": 26,
   "metadata": {
    "collapsed": false
   },
   "outputs": [
    {
     "data": {
      "text/plain": [
       "0.9657"
      ]
     },
     "execution_count": 26,
     "metadata": {},
     "output_type": "execute_result"
    }
   ],
   "source": [
    "predicted = svm.predict(x_test.T)\n",
    "accuracy_score(y_test, predicted)"
   ]
  },
  {
   "cell_type": "markdown",
   "metadata": {},
   "source": [
    "## svi-L-BFGS-B-c method"
   ]
  },
  {
   "cell_type": "code",
   "execution_count": 7,
   "metadata": {
    "collapsed": true
   },
   "outputs": [],
   "source": [
    "model_covariance_obj = SquaredExponential(np.copy(cov_params))\n",
    "svi_gp = GPC(model_covariance_obj, method='svi')"
   ]
  },
  {
   "cell_type": "code",
   "execution_count": 8,
   "metadata": {
    "collapsed": false,
    "scrolled": true
   },
   "outputs": [
    {
     "name": "stdout",
     "output_type": "stream",
     "text": [
      "Hyper-parameters at iteration 0 : [ 4.   2.   0.5  0.   0. ]\n",
      "Hyper-parameters at iteration 1 : [ 3.99794946  2.5128914   0.49974818 -0.05528539  0.04620212]\n",
      "Hyper-parameters at iteration 2 : [ 4.05570678  3.13629751  0.33711133 -0.17588693  0.14848544]\n",
      "Hyper-parameters at iteration 3 : [ 4.22636909  5.75629333  0.249456   -0.61754213  0.5219927 ]\n",
      "Hyper-parameters at iteration 4 : [  4.55282713  11.53224056   0.54860709  -1.54047939   1.3011188 ]\n",
      "Hyper-parameters at iteration 5 : [  4.75841787  14.07048355   0.49744749  -1.98370006   1.67543732]\n",
      "Hyper-parameters at iteration 6 : [  5.38437464  19.46623605   0.35071089  -2.94230193   2.48348037]\n",
      "Hyper-parameters at iteration 7 : [  5.45800511  20.30255339   0.41472547  -3.07856524   2.59808072]\n",
      "Hyper-parameters at iteration 8 : [  5.70124757  22.54761774   0.46023644  -3.46526133   2.92369043]\n",
      "Hyper-parameters at iteration 9 : [  6.00295206  24.32626517   0.49241449  -3.78243086   3.18996551]\n",
      "Hyper-parameters at iteration 10 : [  6.82959392  26.08517836   0.52940892  -4.13556201   3.48261941]\n",
      "Hyper-parameters at iteration 11 : [ 10.01476616  23.30657937   0.53827716  -3.99003652   3.31291271]\n",
      "Hyper-parameters at iteration 12 : [ 13.04770661  21.05005418   0.57035701  -4.16816116   3.36221753]\n",
      "Hyper-parameters at iteration 13 : [ 18.98225015  13.77116975   0.58878935  -4.18689396   3.14921049]\n",
      "Hyper-parameters at iteration 14 : [ 25.03236276   5.01972392   0.57184818  -4.08259198   2.81100581]\n",
      "Hyper-parameters at iteration 15 : [ 25.30773324   8.37972815   0.48259554  -4.72808903   3.37134123]\n",
      "Hyper-parameters at iteration 16 : [ 26.62121997   7.29090023   0.46639797  -4.84690845   3.42046994]\n",
      "Hyper-parameters at iteration 17 : [ 29.82506221   4.24544953   0.50522508  -5.18653879   3.57963503]\n",
      "Hyper-parameters at iteration 18 : [ 29.98694521   4.19789841   0.47091529  -5.35319201   3.71535151]\n",
      "Hyper-parameters at iteration 19 : [ 29.42440283   3.89721557   0.38053767  -5.31789214   3.69343114]\n",
      "Hyper-parameters at iteration 20 : [ 27.70557114   5.33525586   0.37638832  -5.30764456   3.74252184]\n",
      "Hyper-parameters at iteration 21 : [ 28.23710846   4.71881216   0.46304216  -5.49035246   3.83779113]\n",
      "Hyper-parameters at iteration 22 : [ 27.67084406   4.59642507   0.41835483  -5.32176555   3.71113508]\n",
      "Hyper-parameters at iteration 23 : [ 26.88915852   4.41448571   0.37602645  -5.09416298   3.52433573]\n",
      "Hyper-parameters at iteration 24 : [ 26.43918834   4.31306947   0.37278052  -4.97935256   3.40899024]\n",
      "Hyper-parameters at iteration 25 : [ 25.28876638   4.02603136   0.35189646  -4.77400391   3.05284855]\n",
      "Hyper-parameters at iteration 26 : [ 25.75251218   3.54083238   0.28906036  -5.02735835   2.96421499]\n",
      "Hyper-parameters at iteration 27 : [ 25.13088973   4.68402596   0.28224563  -5.44056052   2.80437482]\n",
      "Hyper-parameters at iteration 28 : [ 27.26208723   3.92630069   0.26426864  -5.70997497   3.1177882 ]\n",
      "Hyper-parameters at iteration 29 : [ 30.1027058    3.17257759   0.1828322   -6.26821996   3.28821892]\n",
      "Hyper-parameters at iteration 30 : [ 29.6402853    3.1073606    0.13108421  -6.33408695   3.27829657]\n",
      "Hyper-parameters at iteration 31 : [ 28.12600219   3.78164905   0.1384006   -6.07647273   3.14832981]\n",
      "Hyper-parameters at iteration 32 : [ 28.0666372    3.69554654   0.17196695  -6.07538559   3.10564609]\n",
      "Hyper-parameters at iteration 33 : [ 28.24493388   3.40283931   0.15628677  -6.06838235   3.04985469]\n",
      "Hyper-parameters at iteration 34 : [ 27.82205608   3.42150909   0.15423444  -5.99039509   2.99528448]\n",
      "Hyper-parameters at iteration 35 : [ 27.5380233    3.44801467   0.15251495  -5.93949663   2.94582603]\n",
      "Hyper-parameters at iteration 36 : [ 27.13193173   3.4379328    0.14980172  -5.86317069   2.87191488]\n",
      "Hyper-parameters at iteration 37 : [ 26.5876276    3.17729839   0.09383534  -5.85362992   2.68524485]\n",
      "Hyper-parameters at iteration 38 : [ 26.75009493   3.05170963   0.06729211  -5.95889407   2.66192586]\n",
      "Hyper-parameters at iteration 39 : [ 27.71580217   3.0908582    0.07515861  -6.1863945    2.82233463]\n",
      "Hyper-parameters at iteration 40 : [ 28.33151496   3.07931229   0.06643799  -6.26904266   2.9261724 ]\n",
      "Hyper-parameters at iteration 41 : [ 28.20820874   3.02930941   0.06776671  -6.25289298   2.8949722 ]\n",
      "Hyper-parameters at iteration 42 : [ 28.14961904   3.03879886   0.066739    -6.25036202   2.88758477]\n",
      "Hyper-parameters at iteration 43 : [ 27.89441889   2.9576291    0.06724112  -6.19474614   2.83781195]\n",
      "Hyper-parameters at iteration 44 : [ 28.97269037   2.7349251    0.05629561  -6.49589721   2.90600494]\n",
      "Hyper-parameters at iteration 45 : [ 28.94126201   2.80087307   0.0518917   -6.49068479   2.91006352]\n",
      "Hyper-parameters at iteration 46 : [ 29.00829611   2.81306657   0.04824583  -6.5061147    2.9076335 ]\n",
      "Hyper-parameters at iteration 47 : [ 28.910352     2.85481421   0.0598946   -6.47633813   2.89712986]\n",
      "Hyper-parameters at iteration 48 : [ 28.872304     2.81762549   0.05840815  -6.48470521   2.8766148 ]\n",
      "Hyper-parameters at iteration 49 : [ 29.01258468   2.74087355   0.03988363  -6.52510997   2.91230027]\n",
      "Hyper-parameters at iteration 50 : [ 28.79792767   2.67542791   0.03434949  -6.47352902   2.86836656]\n",
      "Hyper-parameters at iteration 51 : [ 28.80075301   2.6761199    0.03064673  -6.49776368   2.87889747]\n",
      "Hyper-parameters at iteration 52 : [ 28.89423209   2.6937428    0.03450215  -6.53172544   2.91145136]\n",
      "Hyper-parameters at iteration 53 : [  2.90901619e+01   2.66075207e+00   2.79865399e-02  -6.59492516e+00\n",
      "   2.92826280e+00]\n",
      "Hyper-parameters at iteration 54 : [ 29.04702954   2.67497799   0.03057528  -6.58165025   2.9180998 ]\n",
      "Hyper-parameters at iteration 55 : [  2.91650326e+01   2.58043328e+00   2.56566726e-02  -6.62183123e+00\n",
      "   2.91765926e+00]\n",
      "Hyper-parameters at iteration 56 : [  2.92329049e+01   2.52258229e+00   1.86273927e-02  -6.65206158e+00\n",
      "   2.91812855e+00]\n",
      "Hyper-parameters at iteration 57 : [  2.90577216e+01   2.52937449e+00   2.25082639e-02  -6.63921507e+00\n",
      "   2.88041738e+00]\n",
      "Hyper-parameters at iteration 58 : [  2.89787558e+01   2.59017983e+00   2.13555321e-02  -6.62455453e+00\n",
      "   2.88154045e+00]\n",
      "Hyper-parameters at iteration 59 : [  2.90279314e+01   2.57583115e+00   2.11794186e-02  -6.64134525e+00\n",
      "   2.88194597e+00]\n",
      "Hyper-parameters at iteration 60 : [  2.90939390e+01   2.57013047e+00   2.02344109e-02  -6.66331735e+00\n",
      "   2.88739213e+00]\n",
      "Hyper-parameters at iteration 61 : [  2.93258676e+01   2.57508448e+00   1.93829838e-02  -6.72836019e+00\n",
      "   2.91500317e+00]\n"
     ]
    }
   ],
   "source": [
    "opts = {'mode': 'full', 'maxiter': 60, 'mydisp': True}\n",
    "svi_res = svi_gp.fit(x_tr, y_tr, inputs=inputs, optimizer_options=opts)"
   ]
  },
  {
   "cell_type": "code",
   "execution_count": 9,
   "metadata": {
    "collapsed": false
   },
   "outputs": [],
   "source": [
    "metric = lambda w: svi_gp.get_prediction_quality(w, x_test, y_test)\n",
    "svi_x_lst, svi_y_lst = svi_res.plot_performance(metric, 't', freq=1)"
   ]
  },
  {
   "cell_type": "code",
   "execution_count": 10,
   "metadata": {
    "collapsed": false
   },
   "outputs": [
    {
     "data": {
      "text/plain": [
       "<matplotlib.text.Text at 0x1066310b8>"
      ]
     },
     "execution_count": 10,
     "metadata": {},
     "output_type": "execute_result"
    },
    {
     "data": {
      "image/png": "[encoded data removed]",
      "text/plain": [
       "<matplotlib.figure.Figure at 0x10d1e9be0>"
      ]
     },
     "metadata": {},
     "output_type": "display_data"
    }
   ],
   "source": [
    "plt.plot(svi_x_lst[1:], svi_y_lst[1:], '-gx', label='svi-L-BFGS-B-c')\n",
    "plt.ylim([0.94, .97])\n",
    "plt.legend()\n",
    "plt.xlabel('Seconds')\n",
    "plt.ylabel('Accuracy')"
   ]
  },
  {
   "cell_type": "code",
   "execution_count": 11,
   "metadata": {
    "collapsed": false
   },
   "outputs": [
    {
     "data": {
      "text/plain": [
       "0.96320000000000006"
      ]
     },
     "execution_count": 11,
     "metadata": {},
     "output_type": "execute_result"
    }
   ],
   "source": [
    "svi_y_lst[-1]"
   ]
  },
  {
   "cell_type": "markdown",
   "metadata": {},
   "source": [
    "## vi-means-c method"
   ]
  },
  {
   "cell_type": "code",
   "execution_count": 12,
   "metadata": {
    "collapsed": false
   },
   "outputs": [
    {
     "name": "stdout",
     "output_type": "stream",
     "text": [
      "Hyper-parameters at iteration 0 : [ 4.   2.   0.5]\n",
      "Hyper-parameters at iteration 1 : [ 4.0199986   2.14897526  0.49932556]\n",
      "Hyper-parameters at iteration 2 : [ 4.01663511  1.90350038  0.01      ]\n",
      "\tHyper-parameters at outter iteration 0 : [ 4.01537346  1.87229465  0.01      ]\n",
      "Hyper-parameters at iteration 0 : [ 4.01537346  1.87229465  0.01      ]\n",
      "Hyper-parameters at iteration 1 : [ 9.84006938  1.8078366   0.01      ]\n",
      "\tHyper-parameters at outter iteration 1 : [  1.00216119e+01   2.01481274e+00   1.00000000e-02]\n",
      "Hyper-parameters at iteration 0 : [  1.00216119e+01   2.01481274e+00   1.00000000e-02]\n",
      "Hyper-parameters at iteration 1 : [  1.00221735e+01   2.01455554e+00   1.00000000e-02]\n",
      "\tHyper-parameters at outter iteration 2 : [  1.00224941e+01   2.01442122e+00   1.00000000e-02]\n",
      "Hyper-parameters at iteration 0 : [  1.00224941e+01   2.01442122e+00   1.00000000e-02]\n",
      "\tHyper-parameters at outter iteration 3 : [  1.00240530e+01   2.15060396e+00   1.00000000e-02]\n",
      "Hyper-parameters at iteration 0 : [  1.00240530e+01   2.15060396e+00   1.00000000e-02]\n",
      "Hyper-parameters at iteration 1 : [  1.00270454e+01   2.15031004e+00   1.00000000e-02]\n",
      "Hyper-parameters at iteration 2 : [  1.00270491e+01   2.15030980e+00   1.00000000e-02]\n",
      "\tHyper-parameters at outter iteration 4 : [  1.00270491e+01   2.15030980e+00   1.00000000e-02]\n",
      "Hyper-parameters at iteration 0 : [  1.00270491e+01   2.15030980e+00   1.00000000e-02]\n",
      "Hyper-parameters at iteration 1 : [  1.00290206e+01   2.15008695e+00   1.00000000e-02]\n",
      "Hyper-parameters at iteration 2 : [  1.00336458e+01   2.14965936e+00   1.00000000e-02]\n",
      "\tHyper-parameters at outter iteration 5 : [  1.00336459e+01   2.14965936e+00   1.00000000e-02]\n",
      "Hyper-parameters at iteration 0 : [  1.00336459e+01   2.14965936e+00   1.00000000e-02]\n",
      "Hyper-parameters at iteration 1 : [  1.00336472e+01   2.14965919e+00   1.00000000e-02]\n",
      "\tHyper-parameters at outter iteration 6 : [  1.00336509e+01   2.14965906e+00   1.00000000e-02]\n",
      "Hyper-parameters at iteration 0 : [  1.00336509e+01   2.14965906e+00   1.00000000e-02]\n",
      "Hyper-parameters at iteration 1 : [  1.08612078e+01   2.06349353e+00   1.00000000e-02]\n",
      "\tHyper-parameters at outter iteration 7 : [  1.12290921e+01   2.03960849e+00   1.00000000e-02]\n",
      "Hyper-parameters at iteration 0 : [  1.12290921e+01   2.03960849e+00   1.00000000e-02]\n",
      "Hyper-parameters at iteration 1 : [  1.12421930e+01   2.05665513e+00   1.00000000e-02]\n",
      "\tHyper-parameters at outter iteration 8 : [  1.12421956e+01   2.05665492e+00   1.00000000e-02]\n",
      "Hyper-parameters at iteration 0 : [  1.12421956e+01   2.05665492e+00   1.00000000e-02]\n",
      "Hyper-parameters at iteration 1 : [  1.14650290e+01   2.02580916e+00   1.00000000e-02]\n",
      "\tHyper-parameters at outter iteration 9 : [  1.14918607e+01   2.02062192e+00   1.00000000e-02]\n"
     ]
    }
   ],
   "source": [
    "model_covariance_obj = SquaredExponential(np.copy(cov_params))\n",
    "vi_gp = GPC(model_covariance_obj, method='vi')\n",
    "opts = {'maxfun':5, 'mydisp': True, 'num_updates':3}\n",
    "vi_res = vi_gp.fit(x_tr, y_tr, inputs=inputs, optimizer_options=opts, max_out_iter=10)"
   ]
  },
  {
   "cell_type": "code",
   "execution_count": 13,
   "metadata": {
    "collapsed": false
   },
   "outputs": [
    {
     "name": "stdout",
     "output_type": "stream",
     "text": [
      "Processing parameter number1/11\n",
      "Processing parameter number2/11\n",
      "Processing parameter number3/11\n",
      "Processing parameter number4/11\n",
      "Processing parameter number5/11\n",
      "Processing parameter number6/11\n",
      "Processing parameter number7/11\n",
      "Processing parameter number8/11\n",
      "Processing parameter number9/11\n",
      "Processing parameter number10/11\n",
      "Processing parameter number11/11\n"
     ]
    },
    {
     "data": {
      "text/plain": [
       "<matplotlib.text.Text at 0x10d281358>"
      ]
     },
     "execution_count": 13,
     "metadata": {},
     "output_type": "execute_result"
    },
    {
     "data": {
      "image/png": "[encoded data removed]",
      "text/plain": [
       "<matplotlib.figure.Figure at 0x105ec2668>"
      ]
     },
     "metadata": {},
     "output_type": "display_data"
    }
   ],
   "source": [
    "metric = lambda w: vi_gp.get_prediction_quality(w, x_test, y_test)\n",
    "vi_x_lst, vi_y_lst = vi_res.plot_performance(metric, 't', freq=1, verbose=True)\n",
    "plt.plot(vi_x_lst[1:], vi_y_lst[1:], '-bx', label='vi-means-c')\n",
    "# plt.plot(svi_x_lst[1:100], svi_y_lst[1:100], '-gx', label='svi-L-BFGS-B-c')\n",
    "plt.ylim([.94, .97])\n",
    "plt.legend()\n",
    "plt.xlabel('Seconds')\n",
    "plt.ylabel('Accuracy')"
   ]
  },
  {
   "cell_type": "code",
   "execution_count": 14,
   "metadata": {
    "collapsed": false
   },
   "outputs": [
    {
     "data": {
      "text/plain": [
       "0.96409999999999996"
      ]
     },
     "execution_count": 14,
     "metadata": {},
     "output_type": "execute_result"
    }
   ],
   "source": [
    "vi_y_lst[-1]"
   ]
  },
  {
   "cell_type": "markdown",
   "metadata": {},
   "source": [
    "### Taylor\n",
    "Подбор числа пересчетов"
   ]
  },
  {
   "cell_type": "code",
   "execution_count": 15,
   "metadata": {
    "collapsed": false
   },
   "outputs": [
    {
     "name": "stdout",
     "output_type": "stream",
     "text": [
      "Hyper-parameters at iteration 0 : [ 4.   2.   0.5]\n",
      "\tHyper-parameters at outter iteration 0 : [ 3.99050632  3.52915557  0.49883411]\n",
      "Hyper-parameters at iteration 0 : [ 3.99050632  3.52915557  0.49883411]\n",
      "Hyper-parameters at iteration 1 : [ 20.56994931   2.92379077   0.41474491]\n",
      "Hyper-parameters at iteration 2 : [  2.19519679e+01   4.23313835e+00   1.00000000e-02]\n",
      "\tHyper-parameters at outter iteration 1 : [  5.65592463e+01   1.22590339e+01   1.00000000e-02]\n",
      "Hyper-parameters at iteration 0 : [  5.65592463e+01   1.22590339e+01   1.00000000e-02]\n",
      "Hyper-parameters at iteration 1 : [ 56.56107896  12.25513824   0.32803385]\n",
      "\tHyper-parameters at outter iteration 2 : [ 56.56064247  12.25418529   0.20112031]\n",
      "Hyper-parameters at iteration 0 : [ 56.56064247  12.25418529   0.20112031]\n",
      "\tHyper-parameters at outter iteration 3 : [ 56.5645912   12.46160075   0.20098982]\n",
      "Hyper-parameters at iteration 0 : [ 56.5645912   12.46160075   0.20098982]\n",
      "\tHyper-parameters at outter iteration 4 : [ 56.56500047  12.46685588   0.20097696]\n",
      "Hyper-parameters at iteration 0 : [ 56.56500047  12.46685588   0.20097696]\n",
      "\tHyper-parameters at outter iteration 5 : [ 59.42997558   6.58179949   0.11075273]\n",
      "Hyper-parameters at iteration 0 : [ 59.42997558   6.58179949   0.11075273]\n",
      "\tHyper-parameters at outter iteration 6 : [ 59.45625587  10.48004913   0.11035737]\n",
      "Hyper-parameters at iteration 0 : [ 59.45625587  10.48004913   0.11035737]\n",
      "\tHyper-parameters at outter iteration 7 : [ 59.45676561  10.51051297   0.11034918]\n",
      "Hyper-parameters at iteration 0 : [ 59.45676561  10.51051297   0.11034918]\n",
      "Hyper-parameters at iteration 1 : [ 59.45780149  10.50873983   0.11033223]\n",
      "\tHyper-parameters at outter iteration 8 : [  5.94311179e+01   1.05565143e+01   1.00000000e-02]\n",
      "Hyper-parameters at iteration 0 : [  5.94311179e+01   1.05565143e+01   1.00000000e-02]\n",
      "Hyper-parameters at iteration 1 : [ 59.43314466  10.83796896   0.36108252]\n",
      "Hyper-parameters at iteration 2 : [ 59.43304579  10.81651863   0.33277675]\n",
      "\tHyper-parameters at outter iteration 9 : [  5.94335168e+01   1.08487753e+01   1.00000000e-02]\n",
      "Hyper-parameters at iteration 0 : [  5.94335168e+01   1.08487753e+01   1.00000000e-02]\n",
      "Hyper-parameters at iteration 1 : [ 59.43549608  10.86196766   0.37849775]\n",
      "\tHyper-parameters at outter iteration 10 : [ 59.43499228  10.85888224   0.23219855]\n",
      "Hyper-parameters at iteration 0 : [ 59.43499228  10.85888224   0.23219855]\n",
      "Hyper-parameters at iteration 1 : [ 59.43564349  10.85739069   0.232168  ]\n",
      "Hyper-parameters at iteration 2 : [ 59.43630077  10.85605068   0.22631261]\n",
      "Hyper-parameters at iteration 3 : [ 59.44158657  10.84768956   0.09451789]\n",
      "\tHyper-parameters at outter iteration 11 : [ 59.44629686  10.8394208    0.08572953]\n",
      "Hyper-parameters at iteration 0 : [ 59.44629686  10.8394208    0.08572953]\n",
      "Hyper-parameters at iteration 1 : [ 59.44921682  10.83432696   0.08569391]\n",
      "Hyper-parameters at iteration 2 : [ 59.46337742  10.80986759   0.07337987]\n",
      "\tHyper-parameters at outter iteration 12 : [ 59.46427877  10.80832823   0.07215389]\n",
      "Hyper-parameters at iteration 0 : [ 59.46427877  10.80832823   0.07215389]\n",
      "Hyper-parameters at iteration 1 : [ 59.46983903  10.79884838   0.07209933]\n",
      "\tHyper-parameters at outter iteration 13 : [ 59.4806182   10.78059231   0.06597167]\n",
      "Hyper-parameters at iteration 0 : [ 59.4806182   10.78059231   0.06597167]\n",
      "Hyper-parameters at iteration 1 : [ 59.48099969  10.77995334   0.06596835]\n",
      "\tHyper-parameters at outter iteration 14 : [ 59.4806578   10.78052773   0.06587274]\n",
      "Hyper-parameters at iteration 0 : [ 59.4806578   10.78052773   0.06587274]\n",
      "Hyper-parameters at iteration 1 : [ 59.48674841  10.77000655   0.06581816]\n",
      "Hyper-parameters at iteration 2 : [ 59.49237894  10.76035701   0.06169259]\n",
      "\tHyper-parameters at outter iteration 15 : [  5.94941233e+01   1.07574525e+01   5.52904553e-02]\n",
      "Hyper-parameters at iteration 0 : [  5.94941233e+01   1.07574525e+01   5.52904553e-02]\n",
      "\tHyper-parameters at outter iteration 16 : [  6.02899148e+01   9.32567704e+00   4.92568615e-02]\n",
      "Hyper-parameters at iteration 0 : [  6.02899148e+01   9.32567704e+00   4.92568615e-02]\n",
      "\tHyper-parameters at outter iteration 17 : [  6.03040203e+01   9.99343692e+00   4.91844888e-02]\n",
      "Hyper-parameters at iteration 0 : [  6.03040203e+01   9.99343692e+00   4.91844888e-02]\n",
      "Hyper-parameters at iteration 1 : [  6.03142505e+01   9.97735016e+00   4.91213491e-02]\n",
      "\tHyper-parameters at outter iteration 18 : [  6.03170723e+01   9.97294985e+00   4.61819577e-02]\n",
      "Hyper-parameters at iteration 0 : [  6.03170723e+01   9.97294985e+00   4.61819577e-02]\n",
      "\tHyper-parameters at outter iteration 19 : [  6.03386740e+01   1.35749686e+01   4.60503167e-02]\n"
     ]
    }
   ],
   "source": [
    "model_covariance_obj = SquaredExponential(np.copy(cov_params))\n",
    "vi_gp = GPC(model_covariance_obj, method='vi')\n",
    "opts = {'bound': 'Taylor', 'maxfun':5, 'mydisp': True, 'num_updates':3}\n",
    "vi_res = vi_gp.fit(x_tr, y_tr, inputs=inputs, optimizer_options=opts, max_out_iter=20)"
   ]
  },
  {
   "cell_type": "code",
   "execution_count": 16,
   "metadata": {
    "collapsed": false
   },
   "outputs": [
    {
     "data": {
      "text/plain": [
       "<matplotlib.text.Text at 0x10dec1d30>"
      ]
     },
     "execution_count": 16,
     "metadata": {},
     "output_type": "execute_result"
    },
    {
     "data": {
      "image/png": "[encoded data removed]",
      "text/plain": [
       "<matplotlib.figure.Figure at 0x10dea4860>"
      ]
     },
     "metadata": {},
     "output_type": "display_data"
    }
   ],
   "source": [
    "metric = lambda w: vi_gp.get_prediction_quality(w, x_test, y_test)\n",
    "vi_t_x_lst, vi_t_y_lst = vi_res.plot_performance(metric, 't', freq=1)\n",
    "plt.plot(vi_t_x_lst[1:], vi_t_y_lst[1:], '-mx', label='vi-means-c')\n",
    "# plt.plot(svi_x_lst[1:100], svi_y_lst[1:100], '-gx', label='svi-L-BFGS-B-c')\n",
    "plt.ylim([.94, .97])\n",
    "plt.legend()\n",
    "plt.xlabel('Seconds')\n",
    "plt.ylabel('Accuracy')"
   ]
  },
  {
   "cell_type": "code",
   "execution_count": 17,
   "metadata": {
    "collapsed": false
   },
   "outputs": [
    {
     "data": {
      "text/plain": [
       "0.96219999999999994"
      ]
     },
     "execution_count": 17,
     "metadata": {},
     "output_type": "execute_result"
    }
   ],
   "source": [
    "vi_t_y_lst[-1]"
   ]
  },
  {
   "cell_type": "markdown",
   "metadata": {},
   "source": [
    "### JJ-full\n",
    "#### Standard"
   ]
  },
  {
   "cell_type": "code",
   "execution_count": 6,
   "metadata": {
    "collapsed": false
   },
   "outputs": [
    {
     "name": "stdout",
     "output_type": "stream",
     "text": [
      "Standard mode\n",
      "Hyper-parameters at iteration 0 : [ 4.   2.   0.5  1.   1. ]\n",
      "Hyper-parameters at iteration 1 : [ 3.98824554  2.26603878  0.49820234  1.00006573  1.0001529 ]\n",
      "Hyper-parameters at iteration 2 : [ 4.01113459  1.79078803  0.30264296  0.99995065  0.99988615]\n",
      "Hyper-parameters at iteration 3 : [ 4.03054797  1.52143845  0.01        0.9998905   0.99974561]\n",
      "Hyper-parameters at iteration 4 : [ 4.03382031  1.67403888  0.01        0.99993035  0.99984212]\n",
      "Hyper-parameters at iteration 5 : [ 4.03492808  1.67368138  0.01        0.99993063  0.99984295]\n",
      "Hyper-parameters at iteration 6 : [ 4.18945236  1.66606571  0.01        0.99998002  0.99998401]\n",
      "Hyper-parameters at iteration 7 : [ 4.60054202  1.65385585  0.01        1.00011406  1.00036591]\n",
      "Hyper-parameters at iteration 8 : [ 5.15122724  1.69430748  0.01        1.00031083  1.00092047]\n",
      "Hyper-parameters at iteration 9 : [ 9.47155755  2.09896503  0.01        1.00188072  1.00533655]\n",
      "Hyper-parameters at iteration 10 : [ 9.25156705  2.07467708  0.01        1.00180012  1.00511063]\n",
      "Hyper-parameters at iteration 11 : [ 9.73725391  2.09782111  0.01        1.00197033  1.00559205]\n"
     ]
    }
   ],
   "source": [
    "model_covariance_obj = SquaredExponential(np.copy(cov_params))\n",
    "vi_gp = GPC(model_covariance_obj, method='vi_full')\n",
    "opts = {'maxiter':10, 'mydisp': True, 'hybrid': False}\n",
    "vi_res = vi_gp.fit(x_tr, y_tr, inputs=inputs, optimizer_options=opts)"
   ]
  },
  {
   "cell_type": "code",
   "execution_count": 7,
   "metadata": {
    "collapsed": false
   },
   "outputs": [
    {
     "data": {
      "text/plain": [
       "<matplotlib.text.Text at 0x10d198048>"
      ]
     },
     "execution_count": 7,
     "metadata": {},
     "output_type": "execute_result"
    },
    {
     "data": {
      "image/png": "[encoded data removed]",
      "text/plain": [
       "<matplotlib.figure.Figure at 0x1058c06d8>"
      ]
     },
     "metadata": {},
     "output_type": "display_data"
    }
   ],
   "source": [
    "metric = lambda w: vi_gp.get_prediction_quality(w, x_tr, y_tr, x_test, y_test)\n",
    "vi_full_x_lst, vi_full_y_lst = vi_res.plot_performance(metric, 't', freq=1)\n",
    "plt.plot(vi_full_x_lst[1:], vi_full_y_lst[1:], '-kx', label='vi-JJ-full')\n",
    "# plt.plot(svi_x_lst[1:100], svi_y_lst[1:100], '-gx', label='svi-L-BFGS-B-c')\n",
    "plt.ylim([0.94, .97])\n",
    "plt.legend()\n",
    "plt.xlabel('Seconds')\n",
    "plt.ylabel('Accuracy')"
   ]
  },
  {
   "cell_type": "markdown",
   "metadata": {},
   "source": [
    "#### Hybrid"
   ]
  },
  {
   "cell_type": "code",
   "execution_count": 8,
   "metadata": {
    "collapsed": false
   },
   "outputs": [
    {
     "name": "stdout",
     "output_type": "stream",
     "text": [
      "Hybrid mode\n",
      "\tAnalytic updates number:3\n",
      "Hyper-parameters at iteration 0 : [ 4.   2.   0.5  1.   1. ]\n",
      "Hyper-parameters at iteration 1 : [ 3.98824554  2.26603878  0.49820234  1.00006573  1.0001529 ]\n",
      "Hyper-parameters at iteration 2 : [ 4.01113459  1.79078803  0.30264296  0.99995065  0.99988615]\n",
      "Hyper-parameters at iteration 3 : [ 4.03054797  1.52143845  0.01        0.9998905   0.99974561]\n",
      "Hyper-parameters at iteration 0 : [ 4.03882694  1.90751533  0.01        2.03605681  2.31431281]\n",
      "Hyper-parameters at iteration 1 : [ 5.03550068  1.88766579  0.01        2.03624922  2.31453998]\n",
      "Hyper-parameters at iteration 2 : [ 5.68576256  1.86011904  0.01        2.03639042  2.3147019 ]\n",
      "Hyper-parameters at iteration 3 : [ 6.11028572  1.87367757  0.01        2.0364848   2.3148095 ]\n",
      "Hyper-parameters at iteration 0 : [ 7.4948843   1.94603642  0.01        2.65108396  2.89613317]\n",
      "Hyper-parameters at iteration 1 : [ 7.80427863  1.90565833  0.01        2.65133062  2.89636697]\n"
     ]
    }
   ],
   "source": [
    "model_covariance_obj = SquaredExponential(np.copy(cov_params))\n",
    "vi_gp = GPC(model_covariance_obj, method='vi_full')\n",
    "opts = {'mydisp': True, 'hybrid': True, 'maxfun':5, 'maxoutiter': 3}\n",
    "vi_res = vi_gp.fit(x_tr, y_tr, inputs=inputs, optimizer_options=opts)"
   ]
  },
  {
   "cell_type": "code",
   "execution_count": 9,
   "metadata": {
    "collapsed": false
   },
   "outputs": [
    {
     "data": {
      "text/plain": [
       "<matplotlib.text.Text at 0x10f22edd8>"
      ]
     },
     "execution_count": 9,
     "metadata": {},
     "output_type": "execute_result"
    },
    {
     "data": {
      "image/png": "[encoded data removed]",
      "text/plain": [
       "<matplotlib.figure.Figure at 0x1058955f8>"
      ]
     },
     "metadata": {},
     "output_type": "display_data"
    }
   ],
   "source": [
    "metric = lambda w: vi_gp.get_prediction_quality(w, x_tr, y_tr, x_test, y_test)\n",
    "vi_h_x_lst, vi_h_y_lst = vi_res.plot_performance(metric, 't', freq=1)\n",
    "plt.plot(vi_h_x_lst[1:], vi_h_y_lst[1:], '-rx', label='vi-JJ-hybrid')\n",
    "plt.ylim([0.94, .97])\n",
    "plt.legend()\n",
    "plt.xlabel('Seconds')\n",
    "plt.ylabel('Accuracy')"
   ]
  },
  {
   "cell_type": "markdown",
   "metadata": {},
   "source": [
    "## svi-AdaDelta-c\n",
    "Подбор длины шага"
   ]
  },
  {
   "cell_type": "code",
   "execution_count": 6,
   "metadata": {
    "collapsed": false
   },
   "outputs": [
    {
     "name": "stdout",
     "output_type": "stream",
     "text": [
      "1.2\n",
      "Using AdaDelta optimizer\n",
      "Iteration  0 :\n",
      "\tGradient norm 37.6137491804\n",
      "Iteration  1 :\n",
      "\tGradient norm 6.32709014152\n",
      "Iteration  2 :\n",
      "\tGradient norm 60.3226481758\n",
      "Iteration  3 :\n",
      "\tGradient norm 42.8334453296\n",
      "Iteration  4 :\n",
      "\tGradient norm 12.8336539456\n",
      "Iteration  5 :\n",
      "\tGradient norm 46.1527368433\n",
      "Iteration  6 :\n",
      "\tGradient norm 23.1028517943\n",
      "1.1\n",
      "Using AdaDelta optimizer\n",
      "Iteration  0 :\n",
      "\tGradient norm 71.3572115589\n",
      "Iteration  1 :\n",
      "\tGradient norm 109.713541485\n",
      "Iteration  2 :\n",
      "\tGradient norm 17.0223524106\n",
      "Iteration  3 :\n",
      "\tGradient norm 143.789343845\n",
      "Iteration  4 :\n",
      "\tGradient norm 16.5367017543\n",
      "Iteration  5 :\n",
      "\tGradient norm 14.5658030495\n",
      "Iteration  6 :\n",
      "\tGradient norm 10.6426346299\n",
      "1.0\n",
      "Using AdaDelta optimizer\n",
      "Iteration  0 :\n",
      "\tGradient norm 24.5586599529\n",
      "Iteration  1 :\n",
      "\tGradient norm 52.059380602\n",
      "Iteration  2 :\n",
      "\tGradient norm 85.1658441521\n",
      "Iteration  3 :\n",
      "\tGradient norm 38.259313095\n",
      "Iteration  4 :\n",
      "\tGradient norm 33.2581326026\n",
      "Iteration  5 :\n",
      "\tGradient norm 25.9294846534\n",
      "Iteration  6 :\n",
      "\tGradient norm 28.4039397272\n",
      "0.9\n",
      "Using AdaDelta optimizer\n",
      "Iteration  0 :\n",
      "\tGradient norm 68.2853774519\n",
      "Iteration  1 :\n",
      "\tGradient norm 55.3009845146\n",
      "Iteration  2 :\n",
      "\tGradient norm 26.167222398\n",
      "Iteration  3 :\n",
      "\tGradient norm 25.6341442622\n",
      "Iteration  4 :\n",
      "\tGradient norm 34.9394312319\n",
      "Iteration  5 :\n",
      "\tGradient norm 89.8956404203\n",
      "Iteration  6 :\n",
      "\tGradient norm 9.84609686723\n",
      "0.8\n",
      "Using AdaDelta optimizer\n",
      "Iteration  0 :\n",
      "\tGradient norm 54.8536680474\n",
      "Iteration  1 :\n",
      "\tGradient norm 27.5596556292\n",
      "Iteration  2 :\n",
      "\tGradient norm 20.5404400632\n",
      "Iteration  3 :\n",
      "\tGradient norm 53.3035439405\n",
      "Iteration  4 :\n",
      "\tGradient norm 14.5887851775\n",
      "Iteration  5 :\n",
      "\tGradient norm 33.8291665752\n",
      "Iteration  6 :\n",
      "\tGradient norm 57.1217174798\n",
      "0.7\n",
      "Using AdaDelta optimizer\n",
      "Iteration  0 :\n",
      "\tGradient norm 28.5421423369\n",
      "Iteration  1 :\n",
      "\tGradient norm 41.8343020848\n",
      "Iteration  2 :\n",
      "\tGradient norm 64.269972195\n",
      "Iteration  3 :\n",
      "\tGradient norm 25.3499989194\n",
      "Iteration  4 :\n",
      "\tGradient norm 23.3835990598\n",
      "Iteration  5 :\n",
      "\tGradient norm 26.6461337934\n",
      "Iteration  6 :\n",
      "\tGradient norm 71.7938240357\n",
      "0.6\n",
      "Using AdaDelta optimizer\n",
      "Iteration  0 :\n",
      "\tGradient norm 29.7620570365\n",
      "Iteration  1 :\n",
      "\tGradient norm 27.5401393206\n",
      "Iteration  2 :\n",
      "\tGradient norm 29.156263083\n",
      "Iteration  3 :\n",
      "\tGradient norm 29.951206862\n",
      "Iteration  4 :\n",
      "\tGradient norm 34.2575296607\n",
      "Iteration  5 :\n",
      "\tGradient norm 17.2763977706\n",
      "Iteration  6 :\n",
      "\tGradient norm 19.6378024191\n",
      "0.5\n",
      "Using AdaDelta optimizer\n",
      "Iteration  0 :\n",
      "\tGradient norm 42.614036067\n",
      "Iteration  1 :\n",
      "\tGradient norm 33.381374958\n",
      "Iteration  2 :\n",
      "\tGradient norm 31.900882856\n",
      "Iteration  3 :\n",
      "\tGradient norm 24.9419566928\n",
      "Iteration  4 :\n",
      "\tGradient norm 28.7706025009\n",
      "Iteration  5 :\n",
      "\tGradient norm 54.6688463552\n",
      "Iteration  6 :\n",
      "\tGradient norm 45.5908995764\n"
     ]
    },
    {
     "name": "stderr",
     "output_type": "stream",
     "text": [
      "/Users/IzmailovPavel/Documents/Education/Course Project/Code/GP/gaussian_process_classification.py:614: RuntimeWarning: invalid value encountered in log\n",
      "  loss += np.sum(np.log(np.diag(sigma_L))) * l / N\n"
     ]
    }
   ],
   "source": [
    "results = []\n",
    "steps = [1.2, 1.1, 1., .9, .8, .7, .6, .5]\n",
    "for step in steps:\n",
    "    print(step)\n",
    "    model_covariance_obj = SquaredExponential(np.copy(cov_params))\n",
    "    ad_gp = GPC(model_covariance_obj, method='svi', hermgauss_deg=100)\n",
    "\n",
    "    opts = {'mode': 'adadelta', 'maxiter': 7, 'verbose': True, 'batch_size': 500, \n",
    "            'step_rate': step}#, 'print_freq':50}\n",
    "    batch_res = ad_gp.fit(x_tr, y_tr, inputs=inputs, optimizer_options=opts)\n",
    "    results.append(batch_res)"
   ]
  },
  {
   "cell_type": "code",
   "execution_count": 8,
   "metadata": {
    "collapsed": false
   },
   "outputs": [
    {
     "name": "stdout",
     "output_type": "stream",
     "text": [
      "0\n",
      "1\n",
      "2\n",
      "3\n",
      "4\n",
      "5\n",
      "6\n",
      "7\n"
     ]
    },
    {
     "data": {
      "text/plain": [
       "<matplotlib.text.Text at 0x10d34eda0>"
      ]
     },
     "execution_count": 8,
     "metadata": {},
     "output_type": "execute_result"
    },
    {
     "data": {
      "image/png": "[encoded data removed]",
      "text/plain": [
       "<matplotlib.figure.Figure at 0x106c61ba8>"
      ]
     },
     "metadata": {},
     "output_type": "display_data"
    }
   ],
   "source": [
    "metric = lambda w: ad_gp.get_prediction_quality(w, x_test, y_test)\n",
    "for i in range(len(results)):\n",
    "    svi_ad_x_lst, svi_ad_y_lst = results[i].plot_performance(metric, 't', freq=1)\n",
    "    plt.plot(svi_ad_x_lst[1:], svi_ad_y_lst[1:], label=steps[i])\n",
    "    print(i)\n",
    "plt.ylim([0.9, 1.])\n",
    "plt.legend()\n",
    "plt.xlabel('Seconds')\n",
    "plt.ylabel('Accuracy')"
   ]
  },
  {
   "cell_type": "code",
   "execution_count": 12,
   "metadata": {
    "collapsed": false
   },
   "outputs": [
    {
     "name": "stdout",
     "output_type": "stream",
     "text": [
      "Using AdaDelta optimizer\n",
      "Iteration  9 :\n",
      "\tGradient norm 24.6264275801\n",
      "Iteration  19 :\n",
      "\tGradient norm 7.99485573635\n",
      "Iteration  29 :\n",
      "\tGradient norm 40.7951178436\n",
      "Iteration  39 :\n",
      "\tGradient norm 18.2651163724\n"
     ]
    },
    {
     "name": "stderr",
     "output_type": "stream",
     "text": [
      "/Users/IzmailovPavel/Documents/Education/Course Project/Code/GP/gaussian_process_classification.py:614: RuntimeWarning: invalid value encountered in log\n",
      "  loss += np.sum(np.log(np.diag(sigma_L))) * l / N\n"
     ]
    }
   ],
   "source": [
    "model_covariance_obj = SquaredExponential(np.copy(cov_params))\n",
    "ad_gp = GPC(model_covariance_obj, method='svi', hermgauss_deg=100)\n",
    "opts = {'mode': 'adadelta', 'maxiter': 40, 'verbose': True, 'batch_size': 500, \n",
    "        'step_rate': 1., 'print_freq':10}\n",
    "batch_res = ad_gp.fit(x_tr, y_tr, inputs=inputs, optimizer_options=opts)"
   ]
  },
  {
   "cell_type": "code",
   "execution_count": 13,
   "metadata": {
    "collapsed": false
   },
   "outputs": [
    {
     "data": {
      "text/plain": [
       "<matplotlib.text.Text at 0x107780518>"
      ]
     },
     "execution_count": 13,
     "metadata": {},
     "output_type": "execute_result"
    },
    {
     "data": {
      "image/png": "[encoded data removed]",
      "text/plain": [
       "<matplotlib.figure.Figure at 0x10d358f98>"
      ]
     },
     "metadata": {},
     "output_type": "display_data"
    }
   ],
   "source": [
    "metric = lambda w: ad_gp.get_prediction_quality(w, x_test, y_test)\n",
    "svi_ad_x_lst, svi_ad_y_lst = batch_res.plot_performance(metric, 't', freq=1)\n",
    "plt.plot(svi_ad_x_lst[1:], svi_ad_y_lst[1:], '-yx', label='svi-AdaDelta-c')\n",
    "plt.ylim([.9, .97])\n",
    "plt.legend()\n",
    "plt.xlabel('Seconds')\n",
    "plt.ylabel('Accuracy')"
   ]
  },
  {
   "cell_type": "code",
   "execution_count": 11,
   "metadata": {
    "collapsed": false
   },
   "outputs": [
    {
     "data": {
      "text/plain": [
       "0.93140000000000001"
      ]
     },
     "execution_count": 11,
     "metadata": {},
     "output_type": "execute_result"
    }
   ],
   "source": [
    "svi_ad_y_lst[-1]"
   ]
  },
  {
   "cell_type": "code",
   "execution_count": 19,
   "metadata": {
    "collapsed": false
   },
   "outputs": [
    {
     "data": {
      "text/plain": [
       "1101.1368098258972"
      ]
     },
     "execution_count": 19,
     "metadata": {},
     "output_type": "execute_result"
    }
   ],
   "source": [
    "max(vi_t_x_lst)"
   ]
  },
  {
   "cell_type": "markdown",
   "metadata": {},
   "source": [
    "## Выводы"
   ]
  },
  {
   "cell_type": "code",
   "execution_count": 10,
   "metadata": {
    "collapsed": true
   },
   "outputs": [],
   "source": [
    "svi_x_lst = np.load('../plots/vi_vs_svi_class/'+ data_name +'_svi_x.npy')\n",
    "svi_y_lst = np.load('../plots/vi_vs_svi_class/'+ data_name +'_svi_y.npy')\n",
    "svi_ad_x_lst = np.load('../plots/vi_vs_svi_class/'+ data_name +'_ad_x.npy')\n",
    "svi_ad_y_lst = np.load('../plots/vi_vs_svi_class/'+ data_name +'_ad_y.npy')\n",
    "vi_x_lst = np.load('../plots/vi_vs_svi_class/'+ data_name +'_vi_x.npy')\n",
    "vi_y_lst = np.load('../plots/vi_vs_svi_class/'+ data_name +'_vi_y.npy')\n",
    "vi_t_x_lst = np.load('../plots/vi_vs_svi_class/'+ data_name +'_vi_t_x.npy')\n",
    "vi_t_y_lst = np.load('../plots/vi_vs_svi_class/'+ data_name +'_vi_t_y.npy')"
   ]
  },
  {
   "cell_type": "code",
   "execution_count": 18,
   "metadata": {
    "collapsed": false
   },
   "outputs": [
    {
     "data": {
      "text/plain": [
       "<matplotlib.text.Text at 0x10e3db6a0>"
      ]
     },
     "execution_count": 18,
     "metadata": {},
     "output_type": "execute_result"
    },
    {
     "data": {
      "image/png": "[encoded data removed]",
      "text/plain": [
       "<matplotlib.figure.Figure at 0x105950940>"
      ]
     },
     "metadata": {},
     "output_type": "display_data"
    }
   ],
   "source": [
    "plt.figure(figsize=(12, 7))\n",
    "plt.plot(svi_x_lst[1:], svi_y_lst[1:], '-gx', label='svi-L-BFGS-B-c')\n",
    "plt.plot(svi_ad_x_lst[1:], svi_ad_y_lst[1:], '-yx', label='svi-AdaDelta-c')\n",
    "plt.plot(vi_x_lst[1:], vi_y_lst[1:], '-bx', label='vi-means-c')\n",
    "plt.plot(vi_t_x_lst[1:], vi_t_y_lst[1:], '-mx', label='vi-Taylor')\n",
    "plt.plot(vi_h_x_lst[1:], vi_h_y_lst[1:], '-rx', label='vi-JJ-hybrid')\n",
    "plt.plot(vi_full_x_lst[1:], vi_full_y_lst[1:], '-kx', label='vi-JJ-full')\n",
    "plt.ylim([0.9, .97])\n",
    "plt.legend()\n",
    "plt.xlabel('Seconds')\n",
    "plt.ylabel('Accuracy')\n",
    "plt.title(data_name+' dataset, n = ' + str(num) + ', d = ' + str(dim) + ', m = '+ str(ind_num))"
   ]
  },
  {
   "cell_type": "code",
   "execution_count": 20,
   "metadata": {
    "collapsed": false
   },
   "outputs": [
    {
     "data": {
      "text/plain": [
       "<matplotlib.text.Text at 0x10eb96860>"
      ]
     },
     "execution_count": 20,
     "metadata": {},
     "output_type": "execute_result"
    },
    {
     "data": {
      "image/png": "[encoded data removed]",
      "text/plain": [
       "<matplotlib.figure.Figure at 0x10e6fb898>"
      ]
     },
     "metadata": {},
     "output_type": "display_data"
    }
   ],
   "source": [
    "plt.figure(figsize=(12, 7))\n",
    "plt.plot(svi_x_lst[1:], svi_y_lst[1:], '-gx', label='svi-L-BFGS-B-c')\n",
    "plt.plot(svi_ad_x_lst[1:], svi_ad_y_lst[1:], '-yx', label='svi-AdaDelta-c')\n",
    "plt.plot(vi_x_lst[1:], vi_y_lst[1:], '-bx', label='vi-JJ')\n",
    "plt.plot(vi_t_x_lst[1:], vi_t_y_lst[1:], '-mx', label='vi-Taylor')\n",
    "plt.plot(vi_h_x_lst[1:], vi_h_y_lst[1:], '-rx', label='vi-JJ-hybrid')\n",
    "plt.plot(vi_full_x_lst[1:], vi_full_y_lst[1:], '-kx', label='vi-JJ-full')\n",
    "plt.ylim([0.9, .97])\n",
    "plt.xlim([0., 750])\n",
    "plt.legend(loc=4)\n",
    "plt.xlabel('Seconds')\n",
    "plt.ylabel('Accuracy')\n",
    "plt.title(data_name+' dataset, n = ' + str(num) + ', d = ' + str(dim) + ', m = '+ str(ind_num))"
   ]
  },
  {
   "cell_type": "code",
   "execution_count": 23,
   "metadata": {
    "collapsed": false
   },
   "outputs": [],
   "source": [
    "np.save('../plots/vi_vs_svi_class/'+ data_name +'/svi_x.npy', svi_x_lst)\n",
    "np.save('../plots/vi_vs_svi_class/'+ data_name +'/svi_y.npy', svi_y_lst)\n",
    "np.save('../plots/vi_vs_svi_class/'+ data_name +'/ad_x.npy', svi_ad_x_lst)\n",
    "np.save('../plots/vi_vs_svi_class/'+ data_name +'/ad_y.npy', svi_ad_y_lst)\n",
    "np.save('../plots/vi_vs_svi_class/'+ data_name +'/vi_x.npy', vi_x_lst)\n",
    "np.save('../plots/vi_vs_svi_class/'+ data_name +'/vi_y.npy', vi_y_lst)\n",
    "np.save('../plots/vi_vs_svi_class/'+ data_name +'/vi_t_x.npy', vi_t_x_lst)\n",
    "np.save('../plots/vi_vs_svi_class/'+ data_name +'/vi_t_y.npy', vi_t_y_lst)\n",
    "np.save('../plots/vi_vs_svi_class/'+ data_name +'/vi_h_x.npy', vi_h_x_lst)\n",
    "np.save('../plots/vi_vs_svi_class/'+ data_name +'/vi_h_y.npy', vi_h_y_lst)\n",
    "np.save('../plots/vi_vs_svi_class/'+ data_name +'/vi_f_x.npy', vi_full_x_lst)\n",
    "np.save('../plots/vi_vs_svi_class/'+ data_name +'/vi_f_y.npy', vi_full_y_lst)"
   ]
  },
  {
   "cell_type": "code",
   "execution_count": null,
   "metadata": {
    "collapsed": true
   },
   "outputs": [],
   "source": []
  }
 ],
 "metadata": {
  "kernelspec": {
   "display_name": "Python 3",
   "language": "python",
   "name": "python3"
  },
  "language_info": {
   "codemirror_mode": {
    "name": "ipython",
    "version": 3
   },
   "file_extension": ".py",
   "mimetype": "text/x-python",
   "name": "python",
   "nbconvert_exporter": "python",
   "pygments_lexer": "ipython3",
   "version": "3.4.3"
  }
 },
 "nbformat": 4,
 "nbformat_minor": 0
}
