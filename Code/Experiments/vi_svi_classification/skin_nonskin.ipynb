{
 "cells": [
  {
   "cell_type": "markdown",
   "metadata": {},
   "source": [
    "# Skin-NonSkin"
   ]
  },
  {
   "cell_type": "code",
   "execution_count": 2,
   "metadata": {
    "collapsed": false
   },
   "outputs": [],
   "source": [
    "import sys\n",
    "sys.path.append('/Users/IzmailovPavel/Documents/Education/Course Project/Code')\n",
    "import numpy as np\n",
    "import matplotlib as mpl\n",
    "\n",
    "from matplotlib import pyplot as plt\n",
    "\n",
    "from GP.covariance_functions import SquaredExponential\n",
    "from GP.gaussian_process_classification import GPC\n",
    "\n",
    "from sklearn.cluster import KMeans\n",
    "from sklearn.svm import SVC\n",
    "from sklearn.metrics import accuracy_score\n",
    "\n",
    "from sklearn.datasets import load_svmlight_file\n",
    "from sklearn.preprocessing import StandardScaler\n",
    "from sklearn.utils import shuffle\n",
    "%matplotlib inline\n",
    "%load_ext autoreload\n",
    "%autoreload 2"
   ]
  },
  {
   "cell_type": "markdown",
   "metadata": {},
   "source": [
    "## Данные"
   ]
  },
  {
   "cell_type": "code",
   "execution_count": 3,
   "metadata": {
    "collapsed": false
   },
   "outputs": [
    {
     "name": "stdout",
     "output_type": "stream",
     "text": [
      "of objects: 196045\n",
      "of features: 3\n",
      "skin_nonskin\n"
     ]
    }
   ],
   "source": [
    "x_tr, y_tr = load_svmlight_file('../../../../Programming/DataSets/Classification/skin_nonskin(245057,3).txt')\n",
    "x_tr, y_tr = shuffle(x_tr, y_tr, random_state=241)\n",
    "\n",
    "x_test = x_tr[int(x_tr.shape[0] * 0.8):, :]\n",
    "y_test = y_tr[int(x_tr.shape[0] * 0.8):]\n",
    "y_tr = y_tr[:int(x_tr.shape[0] * 0.8)]\n",
    "x_tr = x_tr[: int(x_tr.shape[0] * 0.8), :]\n",
    "\n",
    "data_name = 'skin_nonskin'\n",
    "\n",
    "x_tr = x_tr.toarray()\n",
    "x_test = x_test.toarray()\n",
    "scaler = StandardScaler()\n",
    "x_tr = scaler.fit_transform(x_tr).T\n",
    "x_test = scaler.transform(x_test).T\n",
    "\n",
    "x_tr = (x_tr + 1) / 2\n",
    "x_test = (x_test + 1) / 2\n",
    "y_tr = y_tr[:, None]\n",
    "y_test = y_test[:, None]\n",
    "y_tr[y_tr == 2] = -1\n",
    "y_test[y_test == 2] = -1\n",
    "dim, num = x_tr.shape\n",
    "\n",
    "print('of objects:', num)\n",
    "print('of features:', dim)\n",
    "print(data_name)"
   ]
  },
  {
   "cell_type": "markdown",
   "metadata": {},
   "source": [
    "## K-Means cluster centers"
   ]
  },
  {
   "cell_type": "code",
   "execution_count": 7,
   "metadata": {
    "collapsed": false
   },
   "outputs": [
    {
     "name": "stdout",
     "output_type": "stream",
     "text": [
      "Finding means...\n",
      "...found\n"
     ]
    }
   ],
   "source": [
    "ind_num = 20\n",
    "print('Finding means...')\n",
    "means = KMeans(n_clusters=ind_num, n_init=3, max_iter=100, random_state=241)\n",
    "means.fit(x_tr.T)\n",
    "inputs = means.cluster_centers_.T\n",
    "print('...found')"
   ]
  },
  {
   "cell_type": "code",
   "execution_count": 8,
   "metadata": {
    "collapsed": false
   },
   "outputs": [],
   "source": [
    "with open('../plots/vi_vs_svi_class/'+ data_name +'_title.txt', 'w') as f:\n",
    "    title = 'skin\\_nonskin dataset, ' + 'n = ' + str(num) + ', d = ' + str(dim) + ', m = ' + str(ind_num)\n",
    "    f.write(title)"
   ]
  },
  {
   "cell_type": "code",
   "execution_count": 9,
   "metadata": {
    "collapsed": true
   },
   "outputs": [],
   "source": [
    "cov_params = np.array([5., 2., .3])"
   ]
  },
  {
   "cell_type": "markdown",
   "metadata": {},
   "source": [
    "## SVM\n",
    "Here we train an SVM for reference"
   ]
  },
  {
   "cell_type": "code",
   "execution_count": 19,
   "metadata": {
    "collapsed": false
   },
   "outputs": [
    {
     "name": "stderr",
     "output_type": "stream",
     "text": [
      "/Library/Frameworks/Python.framework/Versions/3.4/lib/python3.4/site-packages/sklearn/svm/base.py:472: DataConversionWarning: A column-vector y was passed when a 1d array was expected. Please change the shape of y to (n_samples, ), for example using ravel().\n",
      "  y_ = column_or_1d(y, warn=True)\n"
     ]
    },
    {
     "data": {
      "text/plain": [
       "SVC(C=1.0, cache_size=200, class_weight=None, coef0=0.0, degree=3, gamma=0.0,\n",
       "  kernel='rbf', max_iter=-1, probability=False, random_state=None,\n",
       "  shrinking=True, tol=0.001, verbose=False)"
      ]
     },
     "execution_count": 19,
     "metadata": {},
     "output_type": "execute_result"
    }
   ],
   "source": [
    "svm = SVC(C=1e0)\n",
    "svm.fit(x_tr.T, y_tr)"
   ]
  },
  {
   "cell_type": "code",
   "execution_count": 22,
   "metadata": {
    "collapsed": false
   },
   "outputs": [
    {
     "data": {
      "text/plain": [
       "0.99457275769199383"
      ]
     },
     "execution_count": 22,
     "metadata": {},
     "output_type": "execute_result"
    }
   ],
   "source": [
    "predicted = svm.predict(x_test.T)\n",
    "accuracy_score(y_test, predicted)"
   ]
  },
  {
   "cell_type": "markdown",
   "metadata": {},
   "source": [
    "## svi-L-BFGS-B-c method"
   ]
  },
  {
   "cell_type": "code",
   "execution_count": 18,
   "metadata": {
    "collapsed": true
   },
   "outputs": [],
   "source": [
    "model_covariance_obj = SquaredExponential(np.copy(cov_params))\n",
    "svi_gp = GPC(model_covariance_obj, method='svi')"
   ]
  },
  {
   "cell_type": "code",
   "execution_count": 19,
   "metadata": {
    "collapsed": false,
    "scrolled": true
   },
   "outputs": [
    {
     "name": "stdout",
     "output_type": "stream",
     "text": [
      "Hyper-parameters at iteration 0 : [ 5.   2.   0.3  0.   0. ]\n",
      "Hyper-parameters at iteration 1 : [ 4.99979475  2.04104992  0.29998807  0.128254   -0.3775251 ]\n",
      "Hyper-parameters at iteration 2 : [ 5.04869467  1.93221015  0.1457531   0.61011769 -1.74956675]\n",
      "Hyper-parameters at iteration 3 : [ 5.07817104  1.93178787  0.07604555  1.0185674  -2.41632599]\n",
      "Hyper-parameters at iteration 4 : [ 5.14593629  1.97078348  0.25075945  2.0428713  -4.02890188]\n",
      "Hyper-parameters at iteration 5 : [ 5.17173546  1.94061281  0.22766717  2.35129097 -4.50065535]\n",
      "Hyper-parameters at iteration 6 : [ 5.21617241  1.81677039  0.1831105   2.89215852 -5.32972502]\n",
      "Hyper-parameters at iteration 7 : [ 5.23802869  1.70738981  0.17482503  3.16080889 -5.75755204]\n",
      "Hyper-parameters at iteration 8 : [ 5.26722608  1.47869212  0.18778388  3.5097189  -6.34826654]\n",
      "Hyper-parameters at iteration 9 : [ 5.28157281  1.20112134  0.22018018  3.72457899 -6.77934246]\n",
      "Hyper-parameters at iteration 10 : [ 5.24182642  0.92314999  0.25829313  3.86369979 -7.22765943]\n",
      "Hyper-parameters at iteration 11 : [ 5.15959229  0.98077887  0.26695404  3.70489197 -7.16249572]\n",
      "Hyper-parameters at iteration 12 : [ 4.6572946   1.02975398  0.32934349  2.94675273 -7.21167232]\n",
      "Hyper-parameters at iteration 13 : [ 4.3585095   1.10526936  0.33597538  2.87755773 -7.75538227]\n",
      "Hyper-parameters at iteration 14 : [ 3.7432468   1.19132752  0.26346094  2.80383026 -8.94592703]\n",
      "Hyper-parameters at iteration 15 : [ 3.46789583  1.22714273  0.31993065  3.05020676 -9.9275894 ]\n",
      "Hyper-parameters at iteration 16 : [  2.96177843   1.19727343   0.28709275   3.33822861 -11.48020753]\n",
      "Hyper-parameters at iteration 17 : [  2.52638967   1.14578281   0.24967868   3.51174789 -12.73446316]\n",
      "Hyper-parameters at iteration 18 : [  2.18997713   1.07421924   0.27611014   3.7127578  -13.84191592]\n",
      "Hyper-parameters at iteration 19 : [  2.20217632   1.0211668    0.27462869   3.74508708 -13.91132216]\n",
      "Hyper-parameters at iteration 20 : [  2.2239651    1.04484081   0.26790303   3.72412771 -13.82977949]\n",
      "Hyper-parameters at iteration 21 : [  2.27708368   1.0918699    0.26052172   3.70414166 -13.77056255]\n",
      "Hyper-parameters at iteration 22 : [  2.33712244   1.09655537   0.26236532   3.73215133 -13.87978553]\n",
      "Hyper-parameters at iteration 23 : [  2.35401204   1.04954046   0.27966212   3.83226428 -14.34477318]\n",
      "Hyper-parameters at iteration 24 : [  2.36563596   0.95819473   0.31922111   4.12418698 -15.48517237]\n",
      "Hyper-parameters at iteration 25 : [  2.45953879   0.91429605   0.35371337   4.35117648 -16.25452732]\n",
      "Hyper-parameters at iteration 26 : [  2.74429664   0.88456204   0.41744782   4.82369344 -17.76956103]\n",
      "Hyper-parameters at iteration 27 : [  3.15090099   0.91853156   0.48473894   5.54384791 -20.14850731]\n",
      "Hyper-parameters at iteration 28 : [  2.99244452   0.95997867   0.4888043    6.72209414 -25.09546863]\n",
      "Hyper-parameters at iteration 29 : [  3.22665993   0.95621259   0.5324487    6.78245437 -25.05326071]\n",
      "Hyper-parameters at iteration 30 : [  3.52861064   0.98534846   0.51091851   6.89984321 -25.21100585]\n",
      "Hyper-parameters at iteration 31 : [  4.01348497   1.00551223   0.59558487   7.24627958 -26.06556364]\n",
      "Hyper-parameters at iteration 32 : [  4.23915442   1.01620049   0.62909948   7.43769336 -26.61919771]\n",
      "Hyper-parameters at iteration 33 : [  4.52975503   1.02600958   0.6713264    7.68791173 -27.42104675]\n",
      "Hyper-parameters at iteration 34 : [  4.91631884   1.02299475   0.73595421   8.13063495 -29.08902082]\n",
      "Hyper-parameters at iteration 35 : [  5.21027059   1.00153005   0.78422272   8.65768784 -31.11129349]\n",
      "Hyper-parameters at iteration 36 : [  5.26085776   1.03001706   0.76095209   8.58227552 -30.75403437]\n",
      "Hyper-parameters at iteration 37 : [  5.21459189   1.01647704   0.74648502   8.66804204 -31.09160525]\n",
      "Hyper-parameters at iteration 38 : [  5.07077176   1.00668136   0.71347105   8.71162926 -31.2600572 ]\n",
      "Hyper-parameters at iteration 39 : [  4.95959283   0.99987818   0.69148811   8.73289309 -31.27251065]\n",
      "Hyper-parameters at iteration 40 : [  4.8197971    0.98696552   0.66862882   8.79948477 -31.25050808]\n",
      "Hyper-parameters at iteration 41 : [  4.93847205   0.98875433   0.66528934   8.88300584 -30.95467325]\n",
      "Hyper-parameters at iteration 42 : [  4.90285359   0.98268765   0.67157651   8.90648061 -31.03646994]\n",
      "Hyper-parameters at iteration 43 : [  5.43259574   1.00195834   0.69910859   9.14967659 -30.31619754]\n",
      "Hyper-parameters at iteration 44 : [  5.4800359    0.98017701   0.80499225  10.41175086 -34.96408308]\n",
      "Hyper-parameters at iteration 45 : [  5.65258741   1.01016352   0.77499825  10.08462638 -33.6041624 ]\n",
      "Hyper-parameters at iteration 46 : [  5.60484331   1.01106797   0.75556292   9.91945852 -32.91381838]\n",
      "Hyper-parameters at iteration 47 : [  5.5341021    1.02462719   0.70532868   9.78970828 -31.90572691]\n",
      "Hyper-parameters at iteration 48 : [  5.64377495   1.00463205   0.72637738   9.88901772 -32.15887204]\n",
      "Hyper-parameters at iteration 49 : [  5.50468718   1.00882839   0.71226215  10.0804784  -32.75347063]\n",
      "Hyper-parameters at iteration 50 : [  5.46987809   1.00473446   0.72169951  10.62133203 -34.63261437]\n",
      "Hyper-parameters at iteration 51 : [  5.48620442   1.00639342   0.74091678  10.5847777  -34.56689034]\n",
      "Hyper-parameters at iteration 52 : [  5.56219893   0.99770119   0.7596615   10.87266494 -35.51322042]\n",
      "Hyper-parameters at iteration 53 : [  5.68181361   0.97924397   0.78815225  11.30968103 -37.1086943 ]\n",
      "Hyper-parameters at iteration 54 : [  5.83440433   0.9635935    0.8017048   11.64049404 -38.45641635]\n",
      "Hyper-parameters at iteration 55 : [  6.06567011   0.9727008    0.78406006  11.48806929 -37.61444533]\n",
      "Hyper-parameters at iteration 56 : [  6.18817693   0.99813683   0.75590746  11.59676183 -38.07721736]\n",
      "Hyper-parameters at iteration 57 : [  6.26841663   0.99939338   0.76638135  11.4402527  -37.57096342]\n",
      "Hyper-parameters at iteration 58 : [  6.10348846   0.99156776   0.73418204  11.04682504 -36.61372063]\n",
      "Hyper-parameters at iteration 59 : [  6.09491027   1.00471659   0.72053323  10.5472129  -35.51281662]\n",
      "Hyper-parameters at iteration 60 : [  6.10582368   0.99826732   0.70415165  10.24973643 -34.84529881]\n",
      "Hyper-parameters at iteration 61 : [  5.96506883   1.0009491    0.69246872  10.68951183 -37.13643181]\n",
      "Hyper-parameters at iteration 62 : [  6.35297867   0.98247609   0.67712032  11.11389165 -39.01096752]\n",
      "Hyper-parameters at iteration 63 : [  6.76558006   0.99120409   0.72144042  11.49190746 -40.24082992]\n",
      "Hyper-parameters at iteration 64 : [  7.53778971   1.00091867   0.79304001  12.0980397  -42.06677706]\n",
      "Hyper-parameters at iteration 65 : [  7.70615193   1.00282387   0.80241424  12.27646188 -42.54648642]\n",
      "Hyper-parameters at iteration 66 : [  8.02284467   1.00479205   0.79392687  12.5681401  -43.72252863]\n",
      "Hyper-parameters at iteration 67 : [  8.07214712   1.02788126   0.70845664  11.91263406 -42.17427924]\n",
      "Hyper-parameters at iteration 68 : [  8.1112992    1.00145475   0.72907788  11.7121485  -41.74638558]\n",
      "Hyper-parameters at iteration 69 : [  8.16108258   1.0220232    0.69380655  11.28044323 -40.18643276]\n",
      "Hyper-parameters at iteration 70 : [  8.20629877   1.04468019   0.67441319  10.81803267 -38.56391368]\n",
      "Hyper-parameters at iteration 71 : [  8.27035949   1.05145723   0.67440927  10.94582708 -39.10871228]\n",
      "Hyper-parameters at iteration 72 : [  8.40971546   1.05968793   0.65378743  10.84166014 -39.32285241]\n",
      "Hyper-parameters at iteration 73 : [  8.38536843   1.05814078   0.67916224  11.02672591 -40.23851678]\n",
      "Hyper-parameters at iteration 74 : [  8.64957396   1.05513358   0.67589346  11.13699211 -41.00495692]\n",
      "Hyper-parameters at iteration 75 : [  9.53461769   1.05583596   0.68161931  11.50163323 -43.62676098]\n",
      "Hyper-parameters at iteration 76 : [  9.78364846   1.05437337   0.68712386  11.71922487 -44.99697345]\n",
      "Hyper-parameters at iteration 77 : [ 10.20909283   1.06198728   0.70115759  11.57148654 -45.58798624]\n",
      "Hyper-parameters at iteration 78 : [ 10.19085985   1.0671412    0.68401151  11.70602232 -46.43525058]\n",
      "Hyper-parameters at iteration 79 : [ 10.26989707   1.06593384   0.6827791   11.68864014 -46.67729581]\n",
      "Hyper-parameters at iteration 80 : [ 10.37111947   1.08544447   0.65201048  11.56985648 -46.36943487]\n",
      "Hyper-parameters at iteration 81 : [ 10.284582     1.07062447   0.65786522  11.59531669 -46.65500785]\n",
      "Hyper-parameters at iteration 82 : [ 10.23331087   1.06307123   0.66411502  11.58618522 -46.75448265]\n",
      "Hyper-parameters at iteration 83 : [ 10.25268763   1.05633491   0.66875418  11.55492245 -47.03389108]\n",
      "Hyper-parameters at iteration 84 : [ 10.38694335   1.05617394   0.69715069  11.74341672 -48.14483491]\n",
      "Hyper-parameters at iteration 85 : [ 10.56041954   1.05352872   0.69209421  11.76662117 -48.78929233]\n",
      "Hyper-parameters at iteration 86 : [ 10.84092943   1.05502857   0.68372841  11.84656361 -49.73936851]\n",
      "Hyper-parameters at iteration 87 : [ 11.23164504   1.06015868   0.66727251  11.9332678  -50.95797944]\n",
      "Hyper-parameters at iteration 88 : [ 11.85511293   1.07091728   0.64111074  11.85934223 -52.32511695]\n",
      "Hyper-parameters at iteration 89 : [ 12.45156732   1.07570967   0.62957538  11.88723641 -53.30684251]\n",
      "Hyper-parameters at iteration 90 : [ 13.00372747   1.08773263   0.60721335  11.58607349 -53.75661629]\n",
      "Hyper-parameters at iteration 91 : [ 13.16652571   1.10729803   0.57059934  11.46530116 -53.76072624]\n",
      "Hyper-parameters at iteration 92 : [ 13.13706687   1.07329982   0.62768652  11.16934466 -53.52473895]\n",
      "Hyper-parameters at iteration 93 : [ 12.96838048   1.09095457   0.63224141  10.58293936 -51.00466009]\n",
      "Hyper-parameters at iteration 94 : [ 13.24322552   1.09928993   0.60557809  10.57720328 -51.27938444]\n",
      "Hyper-parameters at iteration 95 : [ 13.39329098   1.09944142   0.57932252  10.5209676  -51.30502569]\n",
      "Hyper-parameters at iteration 96 : [ 13.48922746   1.09939364   0.5682666   10.46434404 -51.10704946]\n",
      "Hyper-parameters at iteration 97 : [ 13.59928923   1.10119854   0.55542092  10.39165356 -50.7399254 ]\n",
      "Hyper-parameters at iteration 98 : [ 13.50213182   1.10314474   0.544372    10.16122663 -49.68005   ]\n",
      "Hyper-parameters at iteration 99 : [ 13.7525307    1.11236104   0.55650149  10.34661956 -50.55174797]\n",
      "Hyper-parameters at iteration 100 : [ 13.60136816   1.11121144   0.55335074  10.21679489 -49.9203236 ]\n",
      "Hyper-parameters at iteration 101 : [ 13.71240236   1.10969917   0.54678916  10.03894436 -49.58335587]\n"
     ]
    }
   ],
   "source": [
    "opts = {'mode': 'full', 'maxiter': 100, 'mydisp': True}\n",
    "svi_res = svi_gp.fit(x_tr, y_tr, inputs=inputs, optimizer_options=opts)"
   ]
  },
  {
   "cell_type": "code",
   "execution_count": 20,
   "metadata": {
    "collapsed": false
   },
   "outputs": [],
   "source": [
    "metric = lambda w: svi_gp.get_prediction_quality(w, x_test, y_test)\n",
    "svi_x_lst, svi_y_lst = svi_res.plot_performance(metric, 't', freq=1)"
   ]
  },
  {
   "cell_type": "code",
   "execution_count": 21,
   "metadata": {
    "collapsed": false
   },
   "outputs": [
    {
     "data": {
      "text/plain": [
       "<matplotlib.text.Text at 0x1067f9b00>"
      ]
     },
     "execution_count": 21,
     "metadata": {},
     "output_type": "execute_result"
    },
    {
     "data": {
      "image/png": "[encoded data removed]",
      "text/plain": [
       "<matplotlib.figure.Figure at 0x106770ac8>"
      ]
     },
     "metadata": {},
     "output_type": "display_data"
    }
   ],
   "source": [
    "plt.plot(svi_x_lst[1:], svi_y_lst[1:], '-gx', label='svi-L-BFGS-B-c')\n",
    "plt.ylim([0.9, 1.])\n",
    "plt.legend()\n",
    "plt.xlabel('Seconds')\n",
    "plt.ylabel('Accuracy')"
   ]
  },
  {
   "cell_type": "code",
   "execution_count": 22,
   "metadata": {
    "collapsed": false
   },
   "outputs": [
    {
     "data": {
      "text/plain": [
       "0.99693952501428218"
      ]
     },
     "execution_count": 22,
     "metadata": {},
     "output_type": "execute_result"
    }
   ],
   "source": [
    "svi_y_lst[-1]"
   ]
  },
  {
   "cell_type": "markdown",
   "metadata": {},
   "source": [
    "## vi-means-c method\n",
    "Подбор числа пересчетов"
   ]
  },
  {
   "cell_type": "code",
   "execution_count": 78,
   "metadata": {
    "collapsed": true
   },
   "outputs": [
    {
     "name": "stdout",
     "output_type": "stream",
     "text": [
      "5\n",
      "Hyper-parameters at iteration 0 : [ 5.   2.   0.3]\n",
      "Hyper-parameters at iteration 1 : [ 10.50989908   1.95756164   0.29381552]\n",
      "Hyper-parameters at iteration 2 : [ 7.78610979  1.82450465  0.01      ]\n",
      "\tHyper-parameters at outter iteration 0 : [ 7.59514399  1.78864158  0.01      ]\n",
      "Hyper-parameters at iteration 0 : [ 7.59514399  1.78864158  0.01      ]\n",
      "Hyper-parameters at iteration 1 : [  1.33665407e+01   1.74886444e+00   1.00000000e-02]\n",
      "Hyper-parameters at iteration 2 : [  1.30704430e+01   1.75118942e+00   1.00000000e-02]\n",
      "\tHyper-parameters at outter iteration 1 : [  1.25613971e+01   1.75468222e+00   1.00000000e-02]\n",
      "Hyper-parameters at iteration 0 : [  1.25613971e+01   1.75468222e+00   1.00000000e-02]\n",
      "Hyper-parameters at iteration 1 : [  1.40213595e+01   1.69390498e+00   1.00000000e-02]\n",
      "Hyper-parameters at iteration 2 : [  1.34777661e+01   1.71672598e+00   1.00000000e-02]\n",
      "Hyper-parameters at iteration 3 : [  1.33802612e+01   1.72115815e+00   1.00000000e-02]\n",
      "\tHyper-parameters at outter iteration 2 : [  1.33866305e+01   1.72115316e+00   1.00000000e-02]\n",
      "Hyper-parameters at iteration 0 : [  1.33866305e+01   1.72115316e+00   1.00000000e-02]\n",
      "Hyper-parameters at iteration 1 : [  1.38979863e+01   1.68563354e+00   1.00000000e-02]\n",
      "Hyper-parameters at iteration 2 : [  1.36935993e+01   1.70000237e+00   1.00000000e-02]\n",
      "\tHyper-parameters at outter iteration 3 : [  1.36935502e+01   1.70001822e+00   1.00000000e-02]\n",
      "Hyper-parameters at iteration 0 : [  1.36935502e+01   1.70001822e+00   1.00000000e-02]\n",
      "Hyper-parameters at iteration 1 : [  1.41105323e+01   1.66437834e+00   1.00000000e-02]\n",
      "Hyper-parameters at iteration 2 : [  1.39644933e+01   1.67697706e+00   1.00000000e-02]\n",
      "\tHyper-parameters at outter iteration 4 : [  1.39646252e+01   1.67696657e+00   1.00000000e-02]\n",
      "Hyper-parameters at iteration 0 : [  1.39646252e+01   1.67696657e+00   1.00000000e-02]\n",
      "Hyper-parameters at iteration 1 : [  1.42392552e+01   1.64356874e+00   1.00000000e-02]\n",
      "Hyper-parameters at iteration 2 : [  1.42269572e+01   1.64506917e+00   1.00000000e-02]\n",
      "\tHyper-parameters at outter iteration 5 : [  1.42085091e+01   1.64723664e+00   1.00000000e-02]\n",
      "Hyper-parameters at iteration 0 : [  1.42085091e+01   1.64723664e+00   1.00000000e-02]\n",
      "Hyper-parameters at iteration 1 : [  1.42701018e+01   1.63054912e+00   1.00000000e-02]\n",
      "\tHyper-parameters at outter iteration 6 : [  1.43212178e+01   1.61667354e+00   1.00000000e-02]\n",
      "\n",
      "10\n",
      "Hyper-parameters at iteration 0 : [ 5.   2.   0.3]\n",
      "Hyper-parameters at iteration 1 : [ 10.50989908   1.95756164   0.29381552]\n",
      "Hyper-parameters at iteration 2 : [ 7.78610979  1.82450465  0.01      ]\n",
      "\tHyper-parameters at outter iteration 0 : [ 2.94808228  0.91593082  0.01      ]\n",
      "Hyper-parameters at iteration 0 : [ 2.94808228  0.91593082  0.01      ]\n",
      "Hyper-parameters at iteration 1 : [ 2.64053301  0.82110082  0.01      ]\n",
      "Hyper-parameters at iteration 2 : [ 2.15786093  0.79289982  0.01      ]\n",
      "Hyper-parameters at iteration 3 : [ 1.76500161  0.78705215  0.01      ]\n",
      "Hyper-parameters at iteration 4 : [ 1.76327951  0.7955002   0.01      ]\n",
      "Hyper-parameters at iteration 5 : [ 1.76407294  0.79502904  0.01      ]\n",
      "\tHyper-parameters at outter iteration 1 : [ 1.76375992  0.79500493  0.01      ]\n",
      "Hyper-parameters at iteration 0 : [ 1.76375992  0.79500493  0.01      ]\n",
      "Hyper-parameters at iteration 1 : [ 1.93647509  0.79392638  0.01      ]\n",
      "Hyper-parameters at iteration 2 : [ 1.77043488  0.75367804  0.01      ]\n",
      "Hyper-parameters at iteration 3 : [ 1.74775379  0.75155667  0.01      ]\n",
      "Hyper-parameters at iteration 4 : [ 1.75046258  0.75174813  0.01      ]\n",
      "\tHyper-parameters at outter iteration 2 : [ 1.7504622   0.75174813  0.01      ]\n",
      "Hyper-parameters at iteration 0 : [ 1.7504622   0.75174813  0.01      ]\n",
      "Hyper-parameters at iteration 1 : [ 1.88154474  0.75091309  0.01      ]\n",
      "Hyper-parameters at iteration 2 : [ 1.81288979  0.73380914  0.01      ]\n",
      "Hyper-parameters at iteration 3 : [ 1.80487227  0.73327577  0.01      ]\n",
      "Hyper-parameters at iteration 4 : [ 1.80501393  0.73330013  0.01      ]\n",
      "\tHyper-parameters at outter iteration 3 : [ 1.80501393  0.73330013  0.01      ]\n",
      "Hyper-parameters at iteration 0 : [ 1.80501393  0.73330013  0.01      ]\n",
      "Hyper-parameters at iteration 1 : [ 1.91259765  0.73254339  0.01      ]\n",
      "Hyper-parameters at iteration 2 : [ 1.88599687  0.72618213  0.01      ]\n",
      "Hyper-parameters at iteration 3 : [ 1.88355574  0.72610914  0.01      ]\n",
      "Hyper-parameters at iteration 4 : [ 1.88347046  0.72611149  0.01      ]\n",
      "\tHyper-parameters at outter iteration 4 : [ 1.88347046  0.72611149  0.01      ]\n",
      "Hyper-parameters at iteration 0 : [ 1.88347046  0.72611149  0.01      ]\n",
      "Hyper-parameters at iteration 1 : [ 1.97534595  0.72538035  0.01      ]\n",
      "Hyper-parameters at iteration 2 : [ 1.97297828  0.72485668  0.01      ]\n",
      "Hyper-parameters at iteration 3 : [ 1.97271752  0.72485735  0.01      ]\n",
      "\tHyper-parameters at outter iteration 5 : [ 1.97271752  0.72485735  0.01      ]\n",
      "Hyper-parameters at iteration 0 : [ 1.97271752  0.72485735  0.01      ]\n",
      "Hyper-parameters at iteration 1 : [ 2.05250429  0.72413126  0.01      ]\n",
      "Hyper-parameters at iteration 2 : [ 2.06631573  0.72698722  0.01      ]\n",
      "Hyper-parameters at iteration 3 : [ 2.06705746  0.72698261  0.01      ]\n",
      "\tHyper-parameters at outter iteration 6 : [ 2.06705746  0.72698261  0.01      ]\n",
      "\n",
      "15\n",
      "Hyper-parameters at iteration 0 : [ 5.   2.   0.3]\n",
      "Hyper-parameters at iteration 1 : [ 10.50989908   1.95756164   0.29381552]\n",
      "Hyper-parameters at iteration 2 : [ 7.78610979  1.82450465  0.01      ]\n",
      "Hyper-parameters at iteration 3 : [ 2.94808228  0.91593082  0.01      ]\n",
      "Hyper-parameters at iteration 4 : [ 2.76308256  0.88327026  0.01      ]\n",
      "\tHyper-parameters at outter iteration 0 : [ 1.84507324  0.85323883  0.01      ]\n",
      "Hyper-parameters at iteration 0 : [ 1.84507324  0.85323883  0.01      ]\n",
      "Hyper-parameters at iteration 1 : [ 2.02279966  0.85138788  0.01      ]\n",
      "Hyper-parameters at iteration 2 : [ 1.31916486  0.70251519  0.01      ]\n",
      "Hyper-parameters at iteration 3 : [ 1.68611759  0.75956569  0.01      ]\n",
      "Hyper-parameters at iteration 4 : [ 1.57103342  0.7545282   0.01      ]\n",
      "Hyper-parameters at iteration 5 : [ 1.56253898  0.75024596  0.01      ]\n",
      "Hyper-parameters at iteration 6 : [ 1.56394926  0.75115032  0.01      ]\n",
      "Hyper-parameters at iteration 7 : [ 1.56399516  0.75114828  0.01      ]\n",
      "\tHyper-parameters at outter iteration 1 : [ 1.56399516  0.75114828  0.01      ]\n",
      "Hyper-parameters at iteration 0 : [ 1.56399516  0.75114828  0.01      ]\n",
      "Hyper-parameters at iteration 1 : [ 1.72374809  0.75042115  0.01      ]\n",
      "Hyper-parameters at iteration 2 : [ 1.61749667  0.71980563  0.01      ]\n",
      "Hyper-parameters at iteration 3 : [ 1.60038414  0.71837245  0.01      ]\n",
      "Hyper-parameters at iteration 4 : [ 1.60134897  0.71847636  0.01      ]\n",
      "Hyper-parameters at iteration 5 : [ 1.60133599  0.71847542  0.01      ]\n",
      "\tHyper-parameters at outter iteration 2 : [ 1.60133599  0.71847542  0.01      ]\n",
      "Hyper-parameters at iteration 0 : [ 1.60133599  0.71847542  0.01      ]\n",
      "Hyper-parameters at iteration 1 : [ 1.72302649  0.71785352  0.01      ]\n",
      "Hyper-parameters at iteration 2 : [ 1.68368531  0.70662595  0.01      ]\n",
      "Hyper-parameters at iteration 3 : [ 1.67854281  0.706355    0.01      ]\n",
      "Hyper-parameters at iteration 4 : [ 1.67851937  0.70635661  0.01      ]\n",
      "\tHyper-parameters at outter iteration 3 : [ 1.67851937  0.70635661  0.01      ]\n",
      "Hyper-parameters at iteration 0 : [ 1.67851937  0.70635661  0.01      ]\n",
      "Hyper-parameters at iteration 1 : [ 1.77996555  0.70576009  0.01      ]\n",
      "Hyper-parameters at iteration 2 : [ 1.77099024  0.70336119  0.01      ]\n",
      "Hyper-parameters at iteration 3 : [ 1.76991572  0.70335057  0.01      ]\n",
      "Hyper-parameters at iteration 4 : [ 1.76990189  0.70335066  0.01      ]\n",
      "\tHyper-parameters at outter iteration 4 : [ 1.76990189  0.70335066  0.01      ]\n",
      "Hyper-parameters at iteration 0 : [ 1.76990189  0.70335066  0.01      ]\n",
      "Hyper-parameters at iteration 1 : [ 1.85748943  0.70275143  0.01      ]\n",
      "Hyper-parameters at iteration 2 : [ 1.86661886  0.70502907  0.01      ]\n",
      "Hyper-parameters at iteration 3 : [ 1.86709014  0.70502732  0.01      ]\n",
      "\tHyper-parameters at outter iteration 5 : [ 1.86709014  0.70502732  0.01      ]\n",
      "Hyper-parameters at iteration 0 : [ 1.86709014  0.70502732  0.01      ]\n",
      "Hyper-parameters at iteration 1 : [ 1.86801544  0.70675532  0.01      ]\n",
      "Hyper-parameters at iteration 2 : [ 1.8882987   0.70726698  0.01      ]\n",
      "Hyper-parameters at iteration 3 : [ 1.9604541   0.70914043  0.01      ]\n",
      "Hyper-parameters at iteration 4 : [ 1.96640629  0.70929919  0.01      ]\n",
      "Hyper-parameters at iteration 5 : [ 1.96681499  0.70931014  0.01      ]\n",
      "\tHyper-parameters at outter iteration 6 : [ 1.96681499  0.70931014  0.01      ]\n",
      "\n",
      "20\n",
      "Hyper-parameters at iteration 0 : [ 5.   2.   0.3]\n",
      "Hyper-parameters at iteration 1 : [ 10.50989908   1.95756164   0.29381552]\n",
      "Hyper-parameters at iteration 2 : [ 7.78610979  1.82450465  0.01      ]\n",
      "Hyper-parameters at iteration 3 : [ 2.94808228  0.91593082  0.01      ]\n",
      "Hyper-parameters at iteration 4 : [ 2.76308256  0.88327026  0.01      ]\n",
      "Hyper-parameters at iteration 5 : [ 1.84507324  0.85323883  0.01      ]\n",
      "Hyper-parameters at iteration 6 : [ 1.23799086  0.81237778  0.01      ]\n",
      "Hyper-parameters at iteration 7 : [ 1.32814128  0.90885616  0.01      ]\n",
      "Hyper-parameters at iteration 8 : [ 1.31483623  0.87148995  0.01      ]\n",
      "\tHyper-parameters at outter iteration 0 : [ 1.29043374  0.8653113   0.01      ]\n",
      "Hyper-parameters at iteration 0 : [ 1.29043374  0.8653113   0.01      ]\n",
      "Hyper-parameters at iteration 1 : [ 2.69097947  0.86401506  0.01      ]\n",
      "Hyper-parameters at iteration 2 : [ 1.99615392  0.76541405  0.01      ]\n",
      "Hyper-parameters at iteration 3 : [ 1.67554336  0.74792612  0.01      ]\n",
      "Hyper-parameters at iteration 4 : [ 1.60932178  0.76066457  0.01      ]\n",
      "Hyper-parameters at iteration 5 : [ 1.51025372  0.75050369  0.01      ]\n",
      "Hyper-parameters at iteration 6 : [ 1.54587388  0.75344058  0.01      ]\n",
      "Hyper-parameters at iteration 7 : [ 1.54370362  0.75334778  0.01      ]\n",
      "Hyper-parameters at iteration 8 : [ 1.54370279  0.75334771  0.01      ]\n",
      "\tHyper-parameters at outter iteration 1 : [ 1.54370279  0.75334771  0.01      ]\n",
      "Hyper-parameters at iteration 0 : [ 1.54370279  0.75334771  0.01      ]\n",
      "Hyper-parameters at iteration 1 : [ 1.70920911  0.75262481  0.01      ]\n",
      "Hyper-parameters at iteration 2 : [ 1.59459962  0.71922835  0.01      ]\n",
      "Hyper-parameters at iteration 3 : [ 1.57569732  0.71764998  0.01      ]\n",
      "Hyper-parameters at iteration 4 : [ 1.5769058   0.71777612  0.01      ]\n",
      "\tHyper-parameters at outter iteration 2 : [ 1.5769058   0.71777612  0.01      ]\n",
      "Hyper-parameters at iteration 0 : [ 1.5769058   0.71777612  0.01      ]\n",
      "Hyper-parameters at iteration 1 : [ 1.70068679  0.71716478  0.01      ]\n",
      "Hyper-parameters at iteration 2 : [ 1.65822327  0.70481393  0.01      ]\n",
      "Hyper-parameters at iteration 3 : [ 1.65246113  0.70448678  0.01      ]\n",
      "Hyper-parameters at iteration 4 : [ 1.65246059  0.70448683  0.01      ]\n",
      "\tHyper-parameters at outter iteration 3 : [ 1.65246059  0.70448683  0.01      ]\n",
      "Hyper-parameters at iteration 0 : [ 1.65246059  0.70448683  0.01      ]\n",
      "Hyper-parameters at iteration 1 : [ 1.75577564  0.70390346  0.01      ]\n",
      "Hyper-parameters at iteration 2 : [ 1.74514916  0.70099669  0.01      ]\n",
      "Hyper-parameters at iteration 3 : [ 1.74385135  0.70097955  0.01      ]\n",
      "Hyper-parameters at iteration 4 : [ 1.74376163  0.70098016  0.01      ]\n",
      "\tHyper-parameters at outter iteration 4 : [ 1.74376163  0.70098016  0.01      ]\n",
      "Hyper-parameters at iteration 0 : [ 1.74376163  0.70098016  0.01      ]\n",
      "Hyper-parameters at iteration 1 : [ 1.83294329  0.70039435  0.01      ]\n",
      "Hyper-parameters at iteration 2 : [ 1.84094261  0.70244013  0.01      ]\n",
      "Hyper-parameters at iteration 3 : [ 1.84132493  0.70243869  0.01      ]\n",
      "\tHyper-parameters at outter iteration 5 : [ 1.84132493  0.70243869  0.01      ]\n",
      "Hyper-parameters at iteration 0 : [ 1.84132493  0.70243869  0.01      ]\n",
      "Hyper-parameters at iteration 1 : [ 1.84236051  0.704115    0.01      ]\n",
      "Hyper-parameters at iteration 2 : [ 1.8649036   0.70467216  0.01      ]\n",
      "Hyper-parameters at iteration 3 : [ 1.93504759  0.70646553  0.01      ]\n",
      "Hyper-parameters at iteration 4 : [ 1.9409365   0.70662447  0.01      ]\n",
      "Hyper-parameters at iteration 5 : [ 1.94106     0.70662783  0.01      ]\n",
      "\tHyper-parameters at outter iteration 6 : [ 1.94106     0.70662783  0.01      ]\n",
      "\n"
     ]
    }
   ],
   "source": [
    "maxfuns = [5, 10, 15, 20]\n",
    "results = []\n",
    "for maxfun in maxfuns:\n",
    "    print(maxfun)\n",
    "    model_covariance_obj = SquaredExponential(np.copy(cov_params))\n",
    "    vi_gp = GPC(model_covariance_obj, method='vi')\n",
    "    opts = {'maxfun':maxfun, 'mydisp': True, 'num_updates':3}\n",
    "    results.append(vi_gp.fit(x_tr, y_tr, inputs=inputs, optimizer_options=opts, max_out_iter=7))\n",
    "    print()"
   ]
  },
  {
   "cell_type": "code",
   "execution_count": 79,
   "metadata": {
    "collapsed": false
   },
   "outputs": [
    {
     "name": "stdout",
     "output_type": "stream",
     "text": [
      "0\n",
      "1\n",
      "2\n",
      "3\n"
     ]
    },
    {
     "data": {
      "text/plain": [
       "<matplotlib.text.Text at 0x10ed06860>"
      ]
     },
     "execution_count": 79,
     "metadata": {},
     "output_type": "execute_result"
    },
    {
     "data": {
      "image/png": "[encoded data removed]",
      "text/plain": [
       "<matplotlib.figure.Figure at 0x10dd15ef0>"
      ]
     },
     "metadata": {},
     "output_type": "display_data"
    }
   ],
   "source": [
    "metric = lambda w: vi_gp.get_prediction_quality(w, x_test, y_test)\n",
    "for i in range(len(maxfuns)):\n",
    "    vi_x_lst, vi_y_lst = results[i].plot_performance(metric, 't', freq=1)\n",
    "    plt.plot(vi_x_lst[1:], vi_y_lst[1:], label=maxfuns[i])\n",
    "    print(i)\n",
    "plt.ylim([0.9, 1.])\n",
    "plt.legend()\n",
    "plt.xlabel('Seconds')\n",
    "plt.ylabel('Accuracy')"
   ]
  },
  {
   "cell_type": "markdown",
   "metadata": {},
   "source": [
    "Обучение лучшего варианта"
   ]
  },
  {
   "cell_type": "code",
   "execution_count": 21,
   "metadata": {
    "collapsed": false,
    "scrolled": true
   },
   "outputs": [],
   "source": [
    "model_covariance_obj = SquaredExponential(np.copy(cov_params))\n",
    "vi_gp = GPC(model_covariance_obj, method='vi')\n",
    "opts = {'maxfun':5, 'mydisp': False, 'num_updates':3}\n",
    "vi_res = vi_gp.fit(x_tr, y_tr, inputs=inputs, optimizer_options=opts, max_out_iter=50)"
   ]
  },
  {
   "cell_type": "code",
   "execution_count": 24,
   "metadata": {
    "collapsed": false
   },
   "outputs": [
    {
     "data": {
      "text/plain": [
       "<matplotlib.text.Text at 0x10f251748>"
      ]
     },
     "execution_count": 24,
     "metadata": {},
     "output_type": "execute_result"
    },
    {
     "data": {
      "image/png": "[encoded data removed]",
      "text/plain": [
       "<matplotlib.figure.Figure at 0x10d2c9780>"
      ]
     },
     "metadata": {},
     "output_type": "display_data"
    }
   ],
   "source": [
    "metric = lambda w: vi_gp.get_prediction_quality(w, x_test, y_test)\n",
    "vi_x_lst, vi_y_lst = vi_res.plot_performance(metric, 't', freq=1, verbose=False)\n",
    "plt.plot(vi_x_lst[1:], vi_y_lst[1:], '-bx', label='vi-means-c')\n",
    "# plt.plot(svi_x_lst[1:100], svi_y_lst[1:100], '-gx', label='svi-L-BFGS-B-c')\n",
    "plt.ylim([.9, 1.])\n",
    "plt.legend()\n",
    "plt.xlabel('Seconds')\n",
    "plt.ylabel('Accuracy')"
   ]
  },
  {
   "cell_type": "code",
   "execution_count": 25,
   "metadata": {
    "collapsed": false
   },
   "outputs": [
    {
     "data": {
      "text/plain": [
       "0.99755162001142572"
      ]
     },
     "execution_count": 25,
     "metadata": {},
     "output_type": "execute_result"
    }
   ],
   "source": [
    "vi_y_lst[-1]"
   ]
  },
  {
   "cell_type": "markdown",
   "metadata": {},
   "source": [
    "### Taylor\n",
    "Подбор числа пересчетов"
   ]
  },
  {
   "cell_type": "code",
   "execution_count": null,
   "metadata": {
    "collapsed": true
   },
   "outputs": [],
   "source": [
    "model_covariance_obj = SquaredExponential(np.copy(cov_params))\n",
    "vi_gp = GPC(model_covariance_obj, method='vi')\n",
    "opts = {'bound': 'Taylor', 'maxfun':5, 'mydisp': True, 'num_updates':3}\n",
    "vi_res = vi_gp.fit(x_tr, y_tr, inputs=inputs, optimizer_options=opts, max_out_iter=50)"
   ]
  },
  {
   "cell_type": "code",
   "execution_count": null,
   "metadata": {
    "collapsed": false
   },
   "outputs": [],
   "source": [
    "metric = lambda w: vi_gp.get_prediction_quality(w, x_test, y_test)\n",
    "vi_t_x_lst, vi_t_y_lst = vi_res.plot_performance(metric, 't', freq=1)\n",
    "plt.plot(vi_t_x_lst[1:], vi_t_y_lst[1:], '-mx', label='vi-means-c')\n",
    "# plt.plot(svi_x_lst[1:100], svi_y_lst[1:100], '-gx', label='svi-L-BFGS-B-c')\n",
    "plt.ylim([.9, 1.])\n",
    "plt.legend()\n",
    "plt.xlabel('Seconds')\n",
    "plt.ylabel('Accuracy')"
   ]
  },
  {
   "cell_type": "code",
   "execution_count": 31,
   "metadata": {
    "collapsed": false
   },
   "outputs": [
    {
     "data": {
      "text/plain": [
       "0.99838814984085533"
      ]
     },
     "execution_count": 31,
     "metadata": {},
     "output_type": "execute_result"
    }
   ],
   "source": [
    "vi_t_y_lst[-1]"
   ]
  },
  {
   "cell_type": "markdown",
   "metadata": {},
   "source": [
    "### JJ-full\n",
    "#### Standard"
   ]
  },
  {
   "cell_type": "code",
   "execution_count": 10,
   "metadata": {
    "collapsed": false
   },
   "outputs": [
    {
     "name": "stdout",
     "output_type": "stream",
     "text": [
      "Standard mode\n",
      "Hyper-parameters at iteration 0 : [ 5.   2.   0.3  1.   1. ]\n",
      "Hyper-parameters at iteration 1 : [ 5.98994834  1.99131823  0.29873482  1.00006521  1.00031274]\n",
      "Hyper-parameters at iteration 2 : [ 4.42320585  1.48951563  0.01        0.99996446  0.99983811]\n",
      "Hyper-parameters at iteration 3 : [ 0.43496029  0.76739855  0.01        0.99969691  0.99860896]\n",
      "Hyper-parameters at iteration 4 : [ 0.33158085  0.58314737  0.01        0.99961894  0.99827866]\n",
      "Hyper-parameters at iteration 5 : [ 0.58590614  0.57724498  0.01        0.99958828  0.99815343]\n",
      "Hyper-parameters at iteration 6 : [ 0.53205887  0.50282888  0.01        0.99957042  0.99807914]\n",
      "Hyper-parameters at iteration 7 : [ 0.48461937  0.47994434  0.01        0.99956904  0.99807666]\n",
      "Hyper-parameters at iteration 8 : [ 0.47274304  0.48423847  0.01        0.9995723   0.99809589]\n",
      "Hyper-parameters at iteration 9 : [ 0.47059758  0.48584132  0.01        0.99957383  0.99810719]\n",
      "Hyper-parameters at iteration 10 : [ 0.46987855  0.48632388  0.01        0.99957519  0.99811845]\n",
      "Hyper-parameters at iteration 11 : [ 0.46710233  0.48831204  0.01        0.99958515  0.99820256]\n",
      "Hyper-parameters at iteration 12 : [ 0.46371487  0.49084305  0.01        0.99960762  0.99839511]\n",
      "Hyper-parameters at iteration 13 : [ 0.45796008  0.49555649  0.01        0.999676    0.99898533]\n",
      "Hyper-parameters at iteration 14 : [ 0.44978133  0.50327961  0.01        0.99985315  1.00052337]\n",
      "Hyper-parameters at iteration 15 : [ 0.43837286  0.51699547  0.01        1.00032981  1.00467669]\n",
      "Hyper-parameters at iteration 16 : [ 0.42476662  0.54198855  0.01        1.00158864  1.01566877]\n",
      "Hyper-parameters at iteration 17 : [ 0.41418896  0.59017724  0.01        1.00492732  1.0448595 ]\n",
      "Hyper-parameters at iteration 18 : [ 0.426233   0.67862    0.01       1.013084   1.1162306]\n",
      "Hyper-parameters at iteration 19 : [ 0.51158732  0.8244263   0.01        1.03076173  1.27099694]\n",
      "Hyper-parameters at iteration 20 : [ 3.14895197  4.47205208  0.01        1.51182268  5.48314652]\n",
      "Hyper-parameters at iteration 21 : [ 2.01043086  2.75257381  0.01        1.28892194  3.53152966]\n",
      "Hyper-parameters at iteration 22 : [ 2.68897824  2.94790629  0.01        1.32828518  3.87667958]\n",
      "Hyper-parameters at iteration 23 : [ 4.05857068  2.66850735  0.01        1.34027787  3.98312896]\n",
      "Hyper-parameters at iteration 24 : [ 5.97214427  2.6737346   0.01        1.40032427  4.51064597]\n",
      "Hyper-parameters at iteration 25 : [ 8.30872402  2.45452491  0.01        1.45073988  4.9543774 ]\n",
      "Hyper-parameters at iteration 26 : [  1.09186335e+01   2.55866596e+00   1.00000000e-02   1.54111596e+00\n",
      "   5.74810617e+00]\n",
      "Hyper-parameters at iteration 27 : [  1.30340950e+01   2.31631769e+00   1.00000000e-02   1.58819414e+00\n",
      "   6.16251904e+00]\n",
      "Hyper-parameters at iteration 28 : [  1.30070422e+01   2.32110753e+00   1.00000000e-02   1.58768093e+00\n",
      "   6.15799778e+00]\n",
      "Hyper-parameters at iteration 29 : [  1.27291592e+01   2.31972119e+00   1.00000000e-02   1.57854119e+00\n",
      "   6.07770923e+00]\n",
      "Hyper-parameters at iteration 30 : [  1.23996254e+01   2.31259515e+00   1.00000000e-02   1.56666322e+00\n",
      "   5.97341155e+00]\n",
      "Hyper-parameters at iteration 31 : [  1.23995002e+01   2.31258271e+00   1.00000000e-02   1.56665393e+00\n",
      "   5.97333024e+00]\n",
      "Hyper-parameters at iteration 32 : [  1.21036916e+01   2.29295733e+00   1.00000000e-02   1.55069350e+00\n",
      "   5.83350352e+00]\n",
      "Hyper-parameters at iteration 33 : [  1.45206036e+01   2.07228970e+00   1.00000000e-02   1.54629503e+00\n",
      "   5.83303911e+00]\n",
      "Hyper-parameters at iteration 34 : [  1.39224340e+01   2.13825605e+00   1.00000000e-02   1.54738251e+00\n",
      "   5.83315388e+00]\n",
      "Hyper-parameters at iteration 35 : [  1.48045741e+01   2.10957857e+00   1.00000000e-02   1.54577106e+00\n",
      "   5.83298344e+00]\n",
      "Hyper-parameters at iteration 36 : [  1.71210025e+01   2.02492174e+00   1.00000000e-02   1.54152166e+00\n",
      "   5.83253352e+00]\n",
      "Hyper-parameters at iteration 37 : [  1.71083775e+01   2.02572578e+00   1.00000000e-02   1.54154402e+00\n",
      "   5.83253586e+00]\n",
      "Hyper-parameters at iteration 38 : [  1.71089138e+01   2.02571934e+00   1.00000000e-02   1.54154302e+00\n",
      "   5.83253575e+00]\n",
      "Hyper-parameters at iteration 39 : [  1.71089138e+01   2.02571934e+00   1.00000000e-02   1.54154302e+00\n",
      "   5.83253575e+00]\n"
     ]
    }
   ],
   "source": [
    "model_covariance_obj = SquaredExponential(np.copy(cov_params))\n",
    "vi_gp = GPC(model_covariance_obj, method='vi_full')\n",
    "opts = {'maxiter':50, 'mydisp': True, 'hybrid': False}\n",
    "vi_res = vi_gp.fit(x_tr, y_tr, inputs=inputs, optimizer_options=opts)"
   ]
  },
  {
   "cell_type": "code",
   "execution_count": 11,
   "metadata": {
    "collapsed": false
   },
   "outputs": [
    {
     "data": {
      "text/plain": [
       "<matplotlib.text.Text at 0x10fedec88>"
      ]
     },
     "execution_count": 11,
     "metadata": {},
     "output_type": "execute_result"
    },
    {
     "data": {
      "image/png": "[encoded data removed]",
      "text/plain": [
       "<matplotlib.figure.Figure at 0x1059746d8>"
      ]
     },
     "metadata": {},
     "output_type": "display_data"
    }
   ],
   "source": [
    "metric = lambda w: vi_gp.get_prediction_quality(w, x_tr, y_tr, x_test, y_test)\n",
    "vi_full_x_lst, vi_full_y_lst = vi_res.plot_performance(metric, 't', freq=1)\n",
    "plt.plot(vi_full_x_lst[1:], vi_full_y_lst[1:], '-kx', label='vi-JJ-full')\n",
    "plt.ylim([0.9, 1.])\n",
    "plt.legend()\n",
    "plt.xlabel('Seconds')\n",
    "plt.ylabel('Accuracy')"
   ]
  },
  {
   "cell_type": "markdown",
   "metadata": {},
   "source": [
    "#### Hybrid"
   ]
  },
  {
   "cell_type": "code",
   "execution_count": 34,
   "metadata": {
    "collapsed": false
   },
   "outputs": [
    {
     "name": "stdout",
     "output_type": "stream",
     "text": [
      "Hybrid mode\n",
      "\tAnalytic updates number:3\n",
      "Outter iteration 0\n",
      "Hyper-parameters at iteration 0 : [ 5.   2.   0.3  1.   1. ]\n",
      "Hyper-parameters at iteration 1 : [ 5.98994834  1.99131823  0.29873482  1.00006521  1.00031274]\n",
      "Hyper-parameters at iteration 2 : [ 4.42320585  1.48951563  0.01        0.99996446  0.99983811]\n",
      "Outter iteration 1\n",
      "Hyper-parameters at iteration 0 : [ 0.43496029  0.76739855  0.01        0.83879003  3.3363651 ]\n",
      "Hyper-parameters at iteration 1 : [ 1.43486016  0.7666409   0.01        0.83879875  3.3364018 ]\n",
      "Hyper-parameters at iteration 2 : [ 1.36534821  0.69191454  0.01        0.83879843  3.3363999 ]\n",
      "Hyper-parameters at iteration 3 : [ 1.29848357  0.68470518  0.01        0.83879838  3.33639811]\n",
      "Outter iteration 2\n",
      "Hyper-parameters at iteration 0 : [ 1.08958272  0.67280513  0.01        2.21666533  4.05478991]\n",
      "Hyper-parameters at iteration 1 : [ 1.25729517  0.67242828  0.01        2.21668085  4.05480025]\n",
      "Hyper-parameters at iteration 2 : [ 1.20377345  0.64910418  0.01        2.21667629  4.0547972 ]\n",
      "Hyper-parameters at iteration 3 : [ 1.17287955  0.64771116  0.01        2.21667398  4.05479554]\n",
      "Outter iteration 3\n",
      "Hyper-parameters at iteration 0 : [ 1.17174283  0.64786841  0.01        3.10873601  4.50933125]\n",
      "Hyper-parameters at iteration 1 : [ 1.34253917  0.64752462  0.01        3.10874998  4.50933782]\n",
      "Hyper-parameters at iteration 2 : [ 1.32679564  0.64179372  0.01        3.108749    4.50933735]\n",
      "Hyper-parameters at iteration 3 : [ 1.30603285  0.64172392  0.01        3.10874766  4.50933669]\n",
      "Outter iteration 4\n",
      "Hyper-parameters at iteration 0 : [ 1.30299427  0.64177381  0.01        3.84430326  4.84353631]\n",
      "Hyper-parameters at iteration 1 : [ 1.43283911  0.64140119  0.01        3.84431689  4.84354165]\n",
      "Hyper-parameters at iteration 2 : [ 1.4364534   0.64380685  0.01        3.84431753  4.8435419 ]\n",
      "Hyper-parameters at iteration 3 : [ 1.42231447  0.6435441   0.01        3.84431624  4.84354139]\n",
      "Outter iteration 5\n",
      "Hyper-parameters at iteration 0 : [ 1.42007566  0.64350698  0.01        4.49137144  5.11103613]\n",
      "Hyper-parameters at iteration 1 : [ 1.42348658  0.64757011  0.01        4.49137185  5.11103628]\n",
      "Hyper-parameters at iteration 2 : [ 1.42476993  0.64632274  0.01        4.49137199  5.11103633]\n",
      "Hyper-parameters at iteration 3 : [ 1.43350256  0.64435219  0.01        4.49137298  5.11103671]\n",
      "Hyper-parameters at iteration 4 : [ 1.45577784  0.64302768  0.01        4.49137556  5.11103768]\n",
      "Outter iteration 6\n",
      "Hyper-parameters at iteration 0 : [ 1.49508202  0.64399172  0.01        5.10087047  5.33377831]\n",
      "Hyper-parameters at iteration 1 : [ 1.49725858  0.65122183  0.01        5.1008707   5.33377839]\n",
      "Hyper-parameters at iteration 2 : [ 1.49791437  0.64852374  0.01        5.10087073  5.33377841]\n",
      "Hyper-parameters at iteration 3 : [ 1.49995107  0.6478457   0.01        5.1008709   5.33377848]\n",
      "Hyper-parameters at iteration 4 : [ 1.516476    0.64573944  0.01        5.10087228  5.33377904]\n",
      "Outter iteration 7\n",
      "Hyper-parameters at iteration 0 : [ 1.54560787  0.64508781  0.01        5.66733612  5.5260457 ]\n",
      "Hyper-parameters at iteration 1 : [ 1.547984    0.65410734  0.01        5.66733631  5.52604576]\n",
      "Hyper-parameters at iteration 2 : [ 1.54871565  0.65073458  0.01        5.66733633  5.52604578]\n",
      "Hyper-parameters at iteration 3 : [ 1.55084785  0.65004002  0.01        5.66733644  5.52604583]\n",
      "Hyper-parameters at iteration 4 : [ 1.57063921  0.64753436  0.01        5.66733756  5.52604632]\n",
      "Outter iteration 8\n",
      "Hyper-parameters at iteration 0 : [ 1.60499071  0.64672421  0.01        6.19876719  5.69589488]\n",
      "Hyper-parameters at iteration 1 : [ 1.60724336  0.65733735  0.01        6.19876735  5.69589493]\n",
      "Hyper-parameters at iteration 2 : [ 1.60796731  0.65335298  0.01        6.19876736  5.69589495]\n",
      "Hyper-parameters at iteration 3 : [ 1.6098937   0.65276212  0.01        6.19876744  5.69589499]\n",
      "Hyper-parameters at iteration 4 : [ 1.63217421  0.65007954  0.01        6.1987684   5.69589546]\n",
      "Outter iteration 9\n",
      "Hyper-parameters at iteration 0 : [ 1.66928557  0.64928385  0.01        6.69544899  5.84911081]\n",
      "Hyper-parameters at iteration 1 : [ 1.67153058  0.66117621  0.01        6.69544913  5.84911086]\n",
      "Hyper-parameters at iteration 2 : [ 1.6721568   0.65672199  0.01        6.69544913  5.84911087]\n",
      "Hyper-parameters at iteration 3 : [ 1.67386516  0.65622834  0.01        6.69544918  5.8491109 ]\n",
      "Hyper-parameters at iteration 4 : [ 1.6977676   0.65351147  0.01        6.69545002  5.84911138]\n",
      "Outter iteration 10\n",
      "Hyper-parameters at iteration 0 : [ 1.73628221  0.65278144  0.01        7.15863646  5.989673  ]\n",
      "Hyper-parameters at iteration 1 : [ 1.73851821  0.66561723  0.01        7.1586366   5.98967304]\n",
      "Hyper-parameters at iteration 2 : [ 1.73903323  0.66082777  0.01        7.15863659  5.98967305]\n",
      "Hyper-parameters at iteration 3 : [ 1.74054984  0.66041093  0.01        7.15863663  5.98967308]\n",
      "Hyper-parameters at iteration 4 : [ 1.76518886  0.65774428  0.01        7.15863735  5.98967356]\n",
      "Outter iteration 11\n",
      "Hyper-parameters at iteration 0 : [ 1.80407271  0.65707091  0.01        7.59019329  6.12036159]\n",
      "Hyper-parameters at iteration 1 : [ 1.80622126  0.67053569  0.01        7.59019342  6.12036164]\n",
      "Hyper-parameters at iteration 2 : [ 1.80666137  0.66553245  0.01        7.5901934   6.12036165]\n",
      "Hyper-parameters at iteration 3 : [ 1.81347182  0.6637305   0.01        7.59019356  6.12036177]\n",
      "Outter iteration 12\n",
      "Hyper-parameters at iteration 0 : [ 1.83270759  0.66259679  0.01        7.9747753   6.24426099]\n",
      "Hyper-parameters at iteration 1 : [ 1.83514569  0.67467343  0.01        7.9747754   6.24426102]\n",
      "Hyper-parameters at iteration 2 : [ 1.83574152  0.67025018  0.01        7.97477539  6.24426103]\n",
      "Hyper-parameters at iteration 3 : [ 1.83748137  0.66973943  0.01        7.97477542  6.24426106]\n",
      "Hyper-parameters at iteration 4 : [ 1.86198483  0.66683949  0.01        7.97477586  6.24426142]\n",
      "Outter iteration 13\n",
      "Hyper-parameters at iteration 0 : [ 1.90356074  0.66574389  0.01        8.36227846  6.35924751]\n",
      "Hyper-parameters at iteration 1 : [ 1.90583288  0.67900814  0.01        8.36227856  6.35924754]\n",
      "Hyper-parameters at iteration 2 : [ 1.90627869  0.67413706  0.01        8.36227854  6.35924755]\n",
      "Hyper-parameters at iteration 3 : [ 1.90769843  0.67375521  0.01        8.36227856  6.35924757]\n",
      "Hyper-parameters at iteration 4 : [ 1.93298862  0.67102364  0.01        8.36227894  6.35924797]\n",
      "Outter iteration 14\n",
      "Hyper-parameters at iteration 0 : [ 1.97399666  0.67014513  0.01        8.71989248  6.46891013]\n",
      "Hyper-parameters at iteration 1 : [ 1.97606522  0.68407646  0.01        8.71989258  6.46891017]\n",
      "Hyper-parameters at iteration 2 : [ 1.97643373  0.67895635  0.01        8.71989256  6.46891017]\n",
      "Hyper-parameters at iteration 3 : [ 1.9825426   0.67739581  0.01        8.71989262  6.46891027]\n",
      "Outter iteration 15\n",
      "Hyper-parameters at iteration 0 : [ 2.00254104  0.67609406  0.01        9.03193764  6.57541745]\n",
      "Hyper-parameters at iteration 1 : [ 2.00481379  0.68855804  0.01        9.03193772  6.57541748]\n",
      "Hyper-parameters at iteration 2 : [ 2.00530572  0.68401662  0.01        9.0319377   6.57541749]\n",
      "Hyper-parameters at iteration 3 : [ 2.00679654  0.6836054   0.01        9.03193772  6.57541751]\n",
      "Hyper-parameters at iteration 4 : [ 2.03202269  0.68076464  0.01        9.03193795  6.57541785]\n",
      "Outter iteration 16\n",
      "Hyper-parameters at iteration 0 : [ 2.07455847  0.67963974  0.01        9.35494418  6.67574051]\n",
      "Hyper-parameters at iteration 1 : [ 2.07661611  0.69315402  0.01        9.35494427  6.67574054]\n",
      "Hyper-parameters at iteration 2 : [ 2.07698981  0.6882031   0.01        9.35494424  6.67574055]\n",
      "Hyper-parameters at iteration 3 : [ 2.083112    0.68664808  0.01        9.35494428  6.67574064]\n",
      "Outter iteration 17\n",
      "Hyper-parameters at iteration 0 : [ 2.10369276  0.68526513  0.01        9.63026103  6.77420277]\n",
      "Hyper-parameters at iteration 1 : [ 2.10588537  0.69749241  0.01        9.6302611   6.7742028 ]\n",
      "Hyper-parameters at iteration 2 : [ 2.10636417  0.69303835  0.01        9.63026108  6.7742028 ]\n",
      "Hyper-parameters at iteration 3 : [ 2.10780291  0.69264634  0.01        9.63026108  6.77420282]\n",
      "Hyper-parameters at iteration 4 : [ 2.13315863  0.689798    0.01        9.63026122  6.77420314]\n",
      "Outter iteration 18\n",
      "Hyper-parameters at iteration 0 : [ 2.17643758  0.68857695  0.01        9.92077794  6.86747608]\n",
      "Hyper-parameters at iteration 1 : [ 2.17841381  0.70192939  0.01        9.92077801  6.86747611]\n",
      "Hyper-parameters at iteration 2 : [ 2.17877024  0.69702914  0.01        9.92077799  6.86747611]\n",
      "Hyper-parameters at iteration 3 : [ 2.18461839  0.69557435  0.01        9.920778    6.86747619]\n",
      "Outter iteration 19\n",
      "Hyper-parameters at iteration 0 : [  2.20570745e+00   6.94113868e-01   1.00000000e-02   1.01642470e+01\n",
      "   6.95973485e+00]\n",
      "Hyper-parameters at iteration 1 : [  2.20778491e+00   7.06232127e-01   1.00000000e-02   1.01642470e+01\n",
      "   6.95973488e+00]\n",
      "Hyper-parameters at iteration 2 : [  2.20823326e+00   7.01796253e-01   1.00000000e-02   1.01642470e+01\n",
      "   6.95973488e+00]\n",
      "Hyper-parameters at iteration 3 : [  2.21497342e+00   7.00010456e-01   1.00000000e-02   1.01642470e+01\n",
      "   6.95973496e+00]\n",
      "Outter iteration 20\n",
      "Hyper-parameters at iteration 0 : [  2.23520373e+00   6.98624431e-01   1.00000000e-02   1.03992554e+01\n",
      "   7.04918759e+00]\n",
      "Hyper-parameters at iteration 1 : [  2.23733120e+00   7.09929999e-01   1.00000000e-02   1.03992554e+01\n",
      "   7.04918761e+00]\n",
      "Hyper-parameters at iteration 2 : [  2.23785286e+00   7.05795861e-01   1.00000000e-02   1.03992554e+01\n",
      "   7.04918761e+00]\n",
      "Hyper-parameters at iteration 3 : [  2.23934581e+00   7.05376925e-01   1.00000000e-02   1.03992554e+01\n",
      "   7.04918763e+00]\n",
      "Hyper-parameters at iteration 4 : [  2.26412818e+00   7.02460934e-01   1.00000000e-02   1.03992555e+01\n",
      "   7.04918790e+00]\n",
      "Outter iteration 21\n",
      "Hyper-parameters at iteration 0 : [  2.30817300e+00   7.00975784e-01   1.00000000e-02   1.06547889e+01\n",
      "   7.13419964e+00]\n",
      "Hyper-parameters at iteration 1 : [  2.31012173e+00   7.13695339e-01   1.00000000e-02   1.06547889e+01\n",
      "   7.13419967e+00]\n",
      "Hyper-parameters at iteration 2 : [  2.31048582e+00   7.08995205e-01   1.00000000e-02   1.06547889e+01\n",
      "   7.13419967e+00]\n",
      "Hyper-parameters at iteration 3 : [  2.31637370e+00   7.07534277e-01   1.00000000e-02   1.06547889e+01\n",
      "   7.13419974e+00]\n",
      "Outter iteration 22\n",
      "Hyper-parameters at iteration 0 : [  2.33804061e+00   7.05986838e-01   1.00000000e-02   1.08616759e+01\n",
      "   7.21901232e+00]\n",
      "Hyper-parameters at iteration 1 : [  2.34003218e+00   7.17681006e-01   1.00000000e-02   1.08616760e+01\n",
      "   7.21901234e+00]\n",
      "Hyper-parameters at iteration 2 : [  2.34047038e+00   7.13358330e-01   1.00000000e-02   1.08616760e+01\n",
      "   7.21901234e+00]\n",
      "Hyper-parameters at iteration 3 : [  2.34701129e+00   7.11642715e-01   1.00000000e-02   1.08616760e+01\n",
      "   7.21901242e+00]\n",
      "Outter iteration 23\n",
      "Hyper-parameters at iteration 0 : [  2.36757617e+00   7.10177333e-01   1.00000000e-02   1.10625757e+01\n",
      "   7.30180198e+00]\n",
      "Hyper-parameters at iteration 1 : [  2.36958542e+00   7.21161840e-01   1.00000000e-02   1.10625757e+01\n",
      "   7.30180200e+00]\n",
      "Hyper-parameters at iteration 2 : [  2.37008209e+00   7.17095970e-01   1.00000000e-02   1.10625757e+01\n",
      "   7.30180201e+00]\n",
      "Hyper-parameters at iteration 3 : [  2.37149681e+00   7.16706584e-01   1.00000000e-02   1.10625757e+01\n",
      "   7.30180202e+00]\n",
      "Hyper-parameters at iteration 4 : [  2.39643949e+00   7.13799833e-01   1.00000000e-02   1.10625757e+01\n",
      "   7.30180227e+00]\n",
      "Outter iteration 24\n",
      "Hyper-parameters at iteration 0 : [  2.44114168e+00   7.12234651e-01   1.00000000e-02   1.12884260e+01\n",
      "   7.38080325e+00]\n",
      "Hyper-parameters at iteration 1 : [  2.44298838e+00   7.24682917e-01   1.00000000e-02   1.12884260e+01\n",
      "   7.38080327e+00]\n",
      "Hyper-parameters at iteration 2 : [  2.44332900e+00   7.20024359e-01   1.00000000e-02   1.12884260e+01\n",
      "   7.38080327e+00]\n",
      "Hyper-parameters at iteration 3 : [  2.44889934e+00   7.18678325e-01   1.00000000e-02   1.12884260e+01\n",
      "   7.38080334e+00]\n",
      "Outter iteration 25\n",
      "Hyper-parameters at iteration 0 : [  2.47123615e+00   7.17044219e-01   1.00000000e-02   1.14659356e+01\n",
      "   7.46008134e+00]\n",
      "Hyper-parameters at iteration 1 : [  2.47310060e+00   7.28528989e-01   1.00000000e-02   1.14659357e+01\n",
      "   7.46008136e+00]\n",
      "Hyper-parameters at iteration 2 : [  2.47350494e+00   7.24222351e-01   1.00000000e-02   1.14659356e+01\n",
      "   7.46008136e+00]\n",
      "Hyper-parameters at iteration 3 : [  2.47958706e+00   7.22679327e-01   1.00000000e-02   1.14659356e+01\n",
      "   7.46008142e+00]\n",
      "Outter iteration 26\n",
      "Hyper-parameters at iteration 0 : [  2.50093320e+00   7.21103196e-01   1.00000000e-02   1.16398883e+01\n",
      "   7.53785442e+00]\n",
      "Hyper-parameters at iteration 1 : [  2.50279891e+00   7.31909409e-01   1.00000000e-02   1.16398884e+01\n",
      "   7.53785444e+00]\n",
      "Hyper-parameters at iteration 2 : [  2.50325324e+00   7.27846650e-01   1.00000000e-02   1.16398884e+01\n",
      "   7.53785444e+00]\n",
      "Hyper-parameters at iteration 3 : [  2.50974624e+00   7.26126668e-01   1.00000000e-02   1.16398883e+01\n",
      "   7.53785450e+00]\n",
      "Outter iteration 27\n",
      "Hyper-parameters at iteration 0 : [  2.52991418e+00   7.24641980e-01   1.00000000e-02   1.18087680e+01\n",
      "   7.61412456e+00]\n",
      "Hyper-parameters at iteration 1 : [  2.53177444e+00   7.34939061e-01   1.00000000e-02   1.18087680e+01\n",
      "   7.61412458e+00]\n",
      "Hyper-parameters at iteration 2 : [  2.53226873e+00   7.31057553e-01   1.00000000e-02   1.18087680e+01\n",
      "   7.61412458e+00]\n",
      "Hyper-parameters at iteration 3 : [  2.53363550e+00   7.30682283e-01   1.00000000e-02   1.18087680e+01\n",
      "   7.61412459e+00]\n",
      "Hyper-parameters at iteration 4 : [  2.55820810e+00   7.27788691e-01   1.00000000e-02   1.18087679e+01\n",
      "   7.61412481e+00]\n",
      "Outter iteration 28\n",
      "Hyper-parameters at iteration 0 : [  2.60311044e+00   7.26089021e-01   1.00000000e-02   1.20069546e+01\n",
      "   7.68707810e+00]\n",
      "Hyper-parameters at iteration 1 : [  2.60485247e+00   7.37971901e-01   1.00000000e-02   1.20069546e+01\n",
      "   7.68707812e+00]\n",
      "Hyper-parameters at iteration 2 : [  2.60518137e+00   7.33438383e-01   1.00000000e-02   1.20069546e+01\n",
      "   7.68707813e+00]\n",
      "Hyper-parameters at iteration 3 : [  2.61053445e+00   7.32168579e-01   1.00000000e-02   1.20069545e+01\n",
      "   7.68707818e+00]\n",
      "Outter iteration 29\n",
      "Hyper-parameters at iteration 0 : [  2.63343661e+00   7.30453390e-01   1.00000000e-02   1.21560847e+01\n",
      "   7.76063030e+00]\n",
      "Hyper-parameters at iteration 1 : [  2.63516887e+00   7.41506888e-01   1.00000000e-02   1.21560847e+01\n",
      "   7.76063032e+00]\n",
      "Hyper-parameters at iteration 2 : [  2.63554997e+00   7.37280057e-01   1.00000000e-02   1.21560847e+01\n",
      "   7.76063032e+00]\n",
      "Hyper-parameters at iteration 3 : [  2.64126553e+00   7.35866919e-01   1.00000000e-02   1.21560847e+01\n",
      "   7.76063038e+00]\n",
      "Outter iteration 30\n",
      "Hyper-parameters at iteration 0 : [  2.66316744e+00   7.34203412e-01   1.00000000e-02   1.23034479e+01\n",
      "   7.83313378e+00]\n",
      "Hyper-parameters at iteration 1 : [  2.66488584e+00   7.44664921e-01   1.00000000e-02   1.23034479e+01\n",
      "   7.83313380e+00]\n",
      "Hyper-parameters at iteration 2 : [  2.66530611e+00   7.40647720e-01   1.00000000e-02   1.23034479e+01\n",
      "   7.83313380e+00]\n",
      "Hyper-parameters at iteration 3 : [  2.67130808e+00   7.39110569e-01   1.00000000e-02   1.23034479e+01\n",
      "   7.83313386e+00]\n",
      "Outter iteration 31\n",
      "Hyper-parameters at iteration 0 : [  2.69220542e+00   7.37513359e-01   1.00000000e-02   1.24476239e+01\n",
      "   7.90454017e+00]\n",
      "Hyper-parameters at iteration 1 : [  2.69390735e+00   7.47519502e-01   1.00000000e-02   1.24476239e+01\n",
      "   7.90454018e+00]\n",
      "Hyper-parameters at iteration 2 : [  2.69435927e+00   7.43664638e-01   1.00000000e-02   1.24476239e+01\n",
      "   7.90454019e+00]\n",
      "Hyper-parameters at iteration 3 : [  2.70059513e+00   7.42018087e-01   1.00000000e-02   1.24476238e+01\n",
      "   7.90454024e+00]\n",
      "Outter iteration 32\n",
      "Hyper-parameters at iteration 0 : [  2.72052835e+00   7.40494622e-01   1.00000000e-02   1.25880878e+01\n",
      "   7.97485354e+00]\n",
      "Hyper-parameters at iteration 1 : [  2.72221429e+00   7.50144402e-01   1.00000000e-02   1.25880879e+01\n",
      "   7.97485355e+00]\n",
      "Hyper-parameters at iteration 2 : [  2.72269076e+00   7.46412334e-01   1.00000000e-02   1.25880878e+01\n",
      "   7.97485356e+00]\n",
      "Hyper-parameters at iteration 3 : [  2.72911650e+00   7.44674021e-01   1.00000000e-02   1.25880878e+01\n",
      "   7.97485361e+00]\n",
      "Outter iteration 33\n",
      "Hyper-parameters at iteration 0 : [  2.74826444e+00   7.43216847e-01   1.00000000e-02   1.27247800e+01\n",
      "   8.04409870e+00]\n",
      "Hyper-parameters at iteration 1 : [  2.74999118e+00   7.52592321e-01   1.00000000e-02   1.27247800e+01\n",
      "   8.04409871e+00]\n",
      "Hyper-parameters at iteration 2 : [  2.75046719e+00   7.48952297e-01   1.00000000e-02   1.27247800e+01\n",
      "   8.04409871e+00]\n",
      "Hyper-parameters at iteration 3 : [  2.75178322e+00   7.48589092e-01   1.00000000e-02   1.27247800e+01\n",
      "   8.04409872e+00]\n",
      "Hyper-parameters at iteration 4 : [  2.77559892e+00   7.45729874e-01   1.00000000e-02   1.27247798e+01\n",
      "   8.04409891e+00]\n",
      "Outter iteration 34\n",
      "Hyper-parameters at iteration 0 : [  2.82026497e+00   7.43871356e-01   1.00000000e-02   1.28954834e+01\n",
      "   8.11046728e+00]\n",
      "Hyper-parameters at iteration 1 : [  2.82187640e+00   7.54943001e-01   1.00000000e-02   1.28954834e+01\n",
      "   8.11046729e+00]\n",
      "Hyper-parameters at iteration 2 : [  2.82219678e+00   7.50595361e-01   1.00000000e-02   1.28954834e+01\n",
      "   8.11046729e+00]\n",
      "Hyper-parameters at iteration 3 : [  2.82732876e+00   7.49396703e-01   1.00000000e-02   1.28954833e+01\n",
      "   8.11046734e+00]\n",
      "Outter iteration 35\n",
      "Hyper-parameters at iteration 0 : [  2.85066169e+00   7.47602486e-01   1.00000000e-02   1.30158009e+01\n",
      "   8.17763867e+00]\n",
      "Hyper-parameters at iteration 1 : [  2.85224220e+00   7.58037928e-01   1.00000000e-02   1.30158009e+01\n",
      "   8.17763869e+00]\n",
      "Hyper-parameters at iteration 2 : [  2.85259979e+00   7.53925695e-01   1.00000000e-02   1.30158009e+01\n",
      "   8.17763869e+00]\n",
      "Hyper-parameters at iteration 3 : [  2.85793904e+00   7.52640474e-01   1.00000000e-02   1.30158009e+01\n",
      "   8.17763874e+00]\n",
      "Outter iteration 36\n",
      "Hyper-parameters at iteration 0 : [  2.88038603e+00   7.50889632e-01   1.00000000e-02   1.31357095e+01\n",
      "   8.24418629e+00]\n",
      "Hyper-parameters at iteration 1 : [  2.88193743e+00   7.60844667e-01   1.00000000e-02   1.31357095e+01\n",
      "   8.24418631e+00]\n",
      "Hyper-parameters at iteration 2 : [  2.88232426e+00   7.56910660e-01   1.00000000e-02   1.31357095e+01\n",
      "   8.24418631e+00]\n",
      "Hyper-parameters at iteration 3 : [  2.88782569e+00   7.55550121e-01   1.00000000e-02   1.31357094e+01\n",
      "   8.24418636e+00]\n",
      "Outter iteration 37\n",
      "Hyper-parameters at iteration 0 : [  2.90937275e+00   7.53852129e-01   1.00000000e-02   1.32538439e+01\n",
      "   8.31003385e+00]\n",
      "Hyper-parameters at iteration 1 : [  2.91091025e+00   7.63451538e-01   1.00000000e-02   1.32538439e+01\n",
      "   8.31003386e+00]\n",
      "Hyper-parameters at iteration 2 : [  2.91131359e+00   7.59635476e-01   1.00000000e-02   1.32538439e+01\n",
      "   8.31003387e+00]\n",
      "Hyper-parameters at iteration 3 : [  2.91693821e+00   7.58216507e-01   1.00000000e-02   1.32538438e+01\n",
      "   8.31003391e+00]\n",
      "Outter iteration 38\n",
      "Hyper-parameters at iteration 0 : [  2.93784167e+00   7.56559031e-01   1.00000000e-02   1.33698182e+01\n",
      "   8.37514661e+00]\n",
      "Hyper-parameters at iteration 1 : [  2.93940888e+00   7.65868450e-01   1.00000000e-02   1.33698182e+01\n",
      "   8.37514662e+00]\n",
      "Hyper-parameters at iteration 2 : [  2.93981043e+00   7.62157729e-01   1.00000000e-02   1.33698182e+01\n",
      "   8.37514662e+00]\n",
      "Hyper-parameters at iteration 3 : [  2.94553484e+00   7.60685308e-01   1.00000000e-02   1.33698181e+01\n",
      "   8.37514667e+00]\n",
      "Outter iteration 39\n",
      "Hyper-parameters at iteration 0 : [  2.96577951e+00   7.59073749e-01   1.00000000e-02   1.34832780e+01\n",
      "   8.43952750e+00]\n",
      "Hyper-parameters at iteration 1 : [  2.96737165e+00   7.68153271e-01   1.00000000e-02   1.34832780e+01\n",
      "   8.43952752e+00]\n",
      "Hyper-parameters at iteration 2 : [  2.96776913e+00   7.64519080e-01   1.00000000e-02   1.34832780e+01\n",
      "   8.43952752e+00]\n",
      "Hyper-parameters at iteration 3 : [  2.97356728e+00   7.63006426e-01   1.00000000e-02   1.34832780e+01\n",
      "   8.43952756e+00]\n",
      "Outter iteration 40\n",
      "Hyper-parameters at iteration 0 : [  2.99334191e+00   7.61428885e-01   1.00000000e-02   1.35942672e+01\n",
      "   8.50318563e+00]\n",
      "Hyper-parameters at iteration 1 : [  2.99495179e+00   7.70313467e-01   1.00000000e-02   1.35942672e+01\n",
      "   8.50318565e+00]\n",
      "Hyper-parameters at iteration 2 : [  2.99534567e+00   7.66746535e-01   1.00000000e-02   1.35942672e+01\n",
      "   8.50318565e+00]\n",
      "Hyper-parameters at iteration 3 : [  3.00119730e+00   7.65201524e-01   1.00000000e-02   1.35942671e+01\n",
      "   8.50318569e+00]\n",
      "Outter iteration 41\n",
      "Hyper-parameters at iteration 0 : [  3.02055088e+00   7.63654993e-01   1.00000000e-02   1.37027693e+01\n",
      "   8.56614171e+00]\n",
      "Hyper-parameters at iteration 1 : [  3.02217428e+00   7.72378401e-01   1.00000000e-02   1.37027693e+01\n",
      "   8.56614172e+00]\n",
      "Hyper-parameters at iteration 2 : [  3.02256350e+00   7.68863980e-01   1.00000000e-02   1.37027693e+01\n",
      "   8.56614172e+00]\n",
      "Hyper-parameters at iteration 3 : [  3.02844922e+00   7.67295474e-01   1.00000000e-02   1.37027693e+01\n",
      "   8.56614177e+00]\n",
      "Outter iteration 42\n",
      "Hyper-parameters at iteration 0 : [  3.04746782e+00   7.65773801e-01   1.00000000e-02   1.38088330e+01\n",
      "   8.62841962e+00]\n",
      "Hyper-parameters at iteration 1 : [  3.04910187e+00   7.74367530e-01   1.00000000e-02   1.38088331e+01\n",
      "   8.62841964e+00]\n",
      "Hyper-parameters at iteration 2 : [  3.04948470e+00   7.70889454e-01   1.00000000e-02   1.38088330e+01\n",
      "   8.62841964e+00]\n",
      "Hyper-parameters at iteration 3 : [  3.05538484e+00   7.69308260e-01   1.00000000e-02   1.38088330e+01\n",
      "   8.62841968e+00]\n",
      "Outter iteration 43\n",
      "Hyper-parameters at iteration 0 : [  3.07420376e+00   7.67799988e-01   1.00000000e-02   1.39125725e+01\n",
      "   8.69004283e+00]\n",
      "Hyper-parameters at iteration 1 : [  3.07584353e+00   7.76281381e-01   1.00000000e-02   1.39125725e+01\n",
      "   8.69004284e+00]\n",
      "Hyper-parameters at iteration 2 : [  3.07622033e+00   7.72835819e-01   1.00000000e-02   1.39125725e+01\n",
      "   8.69004284e+00]\n",
      "Hyper-parameters at iteration 3 : [  3.08211989e+00   7.71248703e-01   1.00000000e-02   1.39125725e+01\n",
      "   8.69004289e+00]\n",
      "Outter iteration 44\n",
      "Hyper-parameters at iteration 0 : [  3.10078276e+00   7.69749892e-01   1.00000000e-02   1.40140258e+01\n",
      "   8.75103823e+00]\n",
      "Hyper-parameters at iteration 1 : [  3.10242577e+00   7.78141257e-01   1.00000000e-02   1.40140258e+01\n",
      "   8.75103824e+00]\n",
      "Hyper-parameters at iteration 2 : [  3.10279528e+00   7.74716740e-01   1.00000000e-02   1.40140258e+01\n",
      "   8.75103824e+00]\n",
      "Hyper-parameters at iteration 3 : [  3.10867827e+00   7.73132104e-01   1.00000000e-02   1.40140257e+01\n",
      "   8.75103829e+00]\n",
      "Outter iteration 45\n",
      "Hyper-parameters at iteration 0 : [  3.12727769e+00   7.71634149e-01   1.00000000e-02   1.41132891e+01\n",
      "   8.81143103e+00]\n",
      "Hyper-parameters at iteration 1 : [  3.12891716e+00   7.79933220e-01   1.00000000e-02   1.41132891e+01\n",
      "   8.81143104e+00]\n",
      "Hyper-parameters at iteration 2 : [  3.12928243e+00   7.76541379e-01   1.00000000e-02   1.41132891e+01\n",
      "   8.81143105e+00]\n",
      "Hyper-parameters at iteration 3 : [  3.13514323e+00   7.74958618e-01   1.00000000e-02   1.41132891e+01\n",
      "   8.81143109e+00]\n",
      "Outter iteration 46\n",
      "Hyper-parameters at iteration 0 : [  3.15358235e+00   7.73470091e-01   1.00000000e-02   1.42102914e+01\n",
      "   8.87125270e+00]\n",
      "Hyper-parameters at iteration 1 : [  3.15522114e+00   7.81708406e-01   1.00000000e-02   1.42102915e+01\n",
      "   8.87125271e+00]\n",
      "Hyper-parameters at iteration 2 : [  3.15557745e+00   7.78322838e-01   1.00000000e-02   1.42102914e+01\n",
      "   8.87125271e+00]\n",
      "Hyper-parameters at iteration 3 : [  3.16139855e+00   7.76754305e-01   1.00000000e-02   1.42102914e+01\n",
      "   8.87125275e+00]\n",
      "Outter iteration 47\n",
      "Hyper-parameters at iteration 0 : [  3.17989031e+00   7.75256036e-01   1.00000000e-02   1.43052725e+01\n",
      "   8.93052309e+00]\n",
      "Hyper-parameters at iteration 1 : [  3.18152254e+00   7.83431082e-01   1.00000000e-02   1.43052725e+01\n",
      "   8.93052310e+00]\n",
      "Hyper-parameters at iteration 2 : [  3.18187270e+00   7.80062246e-01   1.00000000e-02   1.43052725e+01\n",
      "   8.93052310e+00]\n",
      "Hyper-parameters at iteration 3 : [  3.18764974e+00   7.78507769e-01   1.00000000e-02   1.43052725e+01\n",
      "   8.93052314e+00]\n",
      "Outter iteration 48\n",
      "Hyper-parameters at iteration 0 : [  3.20612581e+00   7.77005499e-01   1.00000000e-02   1.43981901e+01\n",
      "   8.98926943e+00]\n",
      "Hyper-parameters at iteration 1 : [  3.20775187e+00   7.85134987e-01   1.00000000e-02   1.43981901e+01\n",
      "   8.98926944e+00]\n",
      "Hyper-parameters at iteration 2 : [  3.20809369e+00   7.81769670e-01   1.00000000e-02   1.43981901e+01\n",
      "   8.98926945e+00]\n",
      "Hyper-parameters at iteration 3 : [  3.21381554e+00   7.80236336e-01   1.00000000e-02   1.43981900e+01\n",
      "   8.98926948e+00]\n",
      "Outter iteration 49\n",
      "Hyper-parameters at iteration 0 : [  3.23238494e+00   7.78720507e-01   1.00000000e-02   1.44891823e+01\n",
      "   9.04751264e+00]\n",
      "Hyper-parameters at iteration 1 : [  3.23400171e+00   7.86808687e-01   1.00000000e-02   1.44891823e+01\n",
      "   9.04751265e+00]\n",
      "Hyper-parameters at iteration 2 : [  3.23433597e+00   7.83448103e-01   1.00000000e-02   1.44891823e+01\n",
      "   9.04751266e+00]\n",
      "Hyper-parameters at iteration 3 : [  3.23999663e+00   7.81937519e-01   1.00000000e-02   1.44891822e+01\n",
      "   9.04751269e+00]\n"
     ]
    }
   ],
   "source": [
    "model_covariance_obj = SquaredExponential(np.copy(cov_params))\n",
    "vi_gp = GPC(model_covariance_obj, method='vi_full')\n",
    "opts = {'mydisp': True, 'hybrid': True, 'maxfun':5, 'maxoutiter': 50}\n",
    "vi_res = vi_gp.fit(x_tr, y_tr, inputs=inputs, optimizer_options=opts)"
   ]
  },
  {
   "cell_type": "code",
   "execution_count": 35,
   "metadata": {
    "collapsed": false
   },
   "outputs": [
    {
     "data": {
      "text/plain": [
       "<matplotlib.text.Text at 0x1146fc400>"
      ]
     },
     "execution_count": 35,
     "metadata": {},
     "output_type": "execute_result"
    },
    {
     "data": {
      "image/png": "[encoded data removed]",
      "text/plain": [
       "<matplotlib.figure.Figure at 0x112cfb828>"
      ]
     },
     "metadata": {},
     "output_type": "display_data"
    }
   ],
   "source": [
    "metric = lambda w: vi_gp.get_prediction_quality(w, x_tr, y_tr, x_test, y_test)\n",
    "vi_h_x_lst, vi_h_y_lst = vi_res.plot_performance(metric, 't', freq=1)\n",
    "plt.plot(vi_h_x_lst[1:], vi_h_y_lst[1:], '-rx', label='vi-JJ-hybrid')\n",
    "plt.ylim([0.9, 1.])\n",
    "plt.legend(loc=4)\n",
    "plt.xlabel('Seconds')\n",
    "plt.ylabel('Accuracy')"
   ]
  },
  {
   "cell_type": "markdown",
   "metadata": {},
   "source": [
    "## svi-AdaDelta-c\n",
    "Подбор длины шага"
   ]
  },
  {
   "cell_type": "code",
   "execution_count": 7,
   "metadata": {
    "collapsed": false
   },
   "outputs": [
    {
     "name": "stdout",
     "output_type": "stream",
     "text": [
      "1.1\n",
      "1.0\n",
      "0.9\n",
      "0.8\n",
      "0.7\n",
      "0.6\n",
      "0.5\n"
     ]
    },
    {
     "name": "stderr",
     "output_type": "stream",
     "text": [
      "/Users/IzmailovPavel/Documents/Education/Course Project/Code/GP/gaussian_process_classification.py:614: RuntimeWarning: invalid value encountered in log\n",
      "  loss += np.sum(np.log(np.diag(sigma_L))) * l / N\n"
     ]
    }
   ],
   "source": [
    "results = []\n",
    "steps = [1.1, 1., .9, .8, .7, .6, .5]\n",
    "for step in steps:\n",
    "    print(step)\n",
    "    model_covariance_obj = SquaredExponential(np.copy(cov_params))\n",
    "    ad_gp = GPC(model_covariance_obj, method='svi', hermgauss_deg=100)\n",
    "\n",
    "    opts = {'mode': 'adadelta', 'maxiter': 10, 'verbose': False, 'batch_size': 2000, \n",
    "            'step_rate': step}#, 'print_freq':50}\n",
    "    batch_res = ad_gp.fit(x_tr, y_tr, inputs=inputs, optimizer_options=opts)\n",
    "    results.append(batch_res)"
   ]
  },
  {
   "cell_type": "code",
   "execution_count": 9,
   "metadata": {
    "collapsed": false
   },
   "outputs": [
    {
     "name": "stdout",
     "output_type": "stream",
     "text": [
      "0\n",
      "1\n",
      "2\n",
      "3\n",
      "4\n",
      "5\n",
      "6\n"
     ]
    },
    {
     "data": {
      "text/plain": [
       "<matplotlib.text.Text at 0x10d28e438>"
      ]
     },
     "execution_count": 9,
     "metadata": {},
     "output_type": "execute_result"
    },
    {
     "data": {
      "image/png": "[encoded data removed]",
      "text/plain": [
       "<matplotlib.figure.Figure at 0x10d281a20>"
      ]
     },
     "metadata": {},
     "output_type": "display_data"
    }
   ],
   "source": [
    "metric = lambda w: ad_gp.get_prediction_quality(w, x_test, y_test)\n",
    "for i in range(len(results)):\n",
    "    svi_ad_x_lst, svi_ad_y_lst = results[i].plot_performance(metric, 't', freq=1)\n",
    "    plt.plot(svi_ad_x_lst[1:], svi_ad_y_lst[1:], label=steps[i])\n",
    "    print(i)\n",
    "plt.ylim([0.95, 1.])\n",
    "plt.legend()\n",
    "plt.xlabel('Seconds')\n",
    "plt.ylabel('Accuracy')"
   ]
  },
  {
   "cell_type": "code",
   "execution_count": 26,
   "metadata": {
    "collapsed": false
   },
   "outputs": [
    {
     "name": "stdout",
     "output_type": "stream",
     "text": [
      "Using AdaDelta optimizer\n",
      "Iteration  9 :\n",
      "\tGradient norm 27.7928532712\n",
      "Iteration  19 :\n",
      "\tGradient norm 9.42858104017\n",
      "Iteration  29 :\n",
      "\tGradient norm 32.5679181279\n",
      "Iteration  39 :\n",
      "\tGradient norm 33.4624879395\n",
      "Iteration  49 :\n",
      "\tGradient norm 62.8738258768\n"
     ]
    },
    {
     "name": "stderr",
     "output_type": "stream",
     "text": [
      "/Users/IzmailovPavel/Documents/Education/Course Project/Code/GP/gaussian_process_classification.py:614: RuntimeWarning: invalid value encountered in log\n",
      "  loss += np.sum(np.log(np.diag(sigma_L))) * l / N\n"
     ]
    }
   ],
   "source": [
    "model_covariance_obj = SquaredExponential(np.copy(cov_params))\n",
    "ad_gp = GPC(model_covariance_obj, method='svi', hermgauss_deg=100)\n",
    "opts = {'mode': 'adadelta', 'maxiter': 50, 'verbose': True, 'batch_size': 2000, \n",
    "        'step_rate': 1., 'print_freq':10}\n",
    "batch_res = ad_gp.fit(x_tr, y_tr, inputs=inputs, optimizer_options=opts)"
   ]
  },
  {
   "cell_type": "code",
   "execution_count": 27,
   "metadata": {
    "collapsed": false
   },
   "outputs": [
    {
     "data": {
      "text/plain": [
       "<matplotlib.text.Text at 0x10ebac898>"
      ]
     },
     "execution_count": 27,
     "metadata": {},
     "output_type": "execute_result"
    },
    {
     "data": {
      "image/png": "[encoded data removed]",
      "text/plain": [
       "<matplotlib.figure.Figure at 0x10f2a9860>"
      ]
     },
     "metadata": {},
     "output_type": "display_data"
    }
   ],
   "source": [
    "metric = lambda w: ad_gp.get_prediction_quality(w, x_test, y_test)\n",
    "svi_ad_x_lst, svi_ad_y_lst = batch_res.plot_performance(metric, 't', freq=1)\n",
    "plt.plot(svi_ad_x_lst[1:], svi_ad_y_lst[1:], '-yx', label='svi-AdaDelta-c')\n",
    "plt.ylim([.9, 1.])\n",
    "plt.legend()\n",
    "plt.xlabel('Seconds')\n",
    "plt.ylabel('Accuracy')"
   ]
  },
  {
   "cell_type": "code",
   "execution_count": 28,
   "metadata": {
    "collapsed": false
   },
   "outputs": [
    {
     "data": {
      "text/plain": [
       "0.99716395984656814"
      ]
     },
     "execution_count": 28,
     "metadata": {},
     "output_type": "execute_result"
    }
   ],
   "source": [
    "svi_ad_y_lst[-1]"
   ]
  },
  {
   "cell_type": "markdown",
   "metadata": {},
   "source": [
    "## Выводы"
   ]
  },
  {
   "cell_type": "code",
   "execution_count": 26,
   "metadata": {
    "collapsed": true
   },
   "outputs": [],
   "source": [
    "svi_x_lst = np.load('../plots/vi_vs_svi_class/old_plots/'+ data_name +'_svi_x.npy')\n",
    "svi_y_lst = np.load('../plots/vi_vs_svi_class/old_plots/'+ data_name +'_svi_y.npy')\n",
    "vi_x_lst = np.load('../plots/vi_vs_svi_class/old_plots/'+ data_name +'_vi_x.npy')\n",
    "vi_y_lst = np.load('../plots/vi_vs_svi_class/old_plots/'+ data_name +'_vi_y.npy')\n",
    "vi_t_x_lst = np.load('../plots/vi_vs_svi_class/old_plots/'+ data_name +'_vi_t_x.npy')\n",
    "vi_t_y_lst = np.load('../plots/vi_vs_svi_class/old_plots/'+ data_name +'_vi_t_y.npy')\n",
    "svi_ad_x_lst = np.load('../plots/vi_vs_svi_class/old_plots/'+ data_name +'_ad_x.npy')\n",
    "svi_ad_y_lst = np.load('../plots/vi_vs_svi_class/old_plots/'+ data_name +'_ad_y.npy')\n",
    "# vi_full_x_lst = np.load('../plots/vi_vs_svi_class/old_plots/'+ data_name +'_vi_f_x.npy')\n",
    "# vi_full_y_lst = np.load('../plots/vi_vs_svi_class/old_plots/'+ data_name +'_vi_f_y.npy')"
   ]
  },
  {
   "cell_type": "code",
   "execution_count": 38,
   "metadata": {
    "collapsed": false
   },
   "outputs": [
    {
     "data": {
      "text/plain": [
       "<matplotlib.text.Text at 0x1146c9208>"
      ]
     },
     "execution_count": 38,
     "metadata": {},
     "output_type": "execute_result"
    },
    {
     "data": {
      "image/png": "[encoded data removed]",
      "text/plain": [
       "<matplotlib.figure.Figure at 0x10f5cef98>"
      ]
     },
     "metadata": {},
     "output_type": "display_data"
    }
   ],
   "source": [
    "plt.figure(figsize=(12, 7))\n",
    "plt.plot(svi_x_lst[1:], svi_y_lst[1:], '-gx', label='svi-L-BFGS-B')\n",
    "plt.plot(svi_ad_x_lst[1:], svi_ad_y_lst[1:], '-yx', label='svi-AdaDelta')\n",
    "plt.plot(vi_x_lst[1:], vi_y_lst[1:], '-bx', label='vi-JJ')\n",
    "plt.plot(vi_t_x_lst[1:], vi_t_y_lst[1:], '-mx', label='vi-Taylor')\n",
    "plt.plot(vi_h_x_lst[1:], vi_h_y_lst[1:], '-rx', label='vi-JJ-hybrid')\n",
    "plt.plot(vi_full_x_lst[1:], vi_full_y_lst[1:], '-kx', label='vi-JJ-full')\n",
    "plt.ylim([0.95, 1.])\n",
    "plt.legend(loc=4)\n",
    "plt.xlabel('Seconds')\n",
    "plt.ylabel('Accuracy')\n",
    "plt.title(data_name+' dataset, n = ' + str(num) + ', d = ' + str(dim) + ', m = '+ str(ind_num))"
   ]
  },
  {
   "cell_type": "code",
   "execution_count": 40,
   "metadata": {
    "collapsed": true
   },
   "outputs": [],
   "source": [
    "np.save('../plots/vi_vs_svi_class/'+ data_name +'/svi_x.npy', svi_x_lst)\n",
    "np.save('../plots/vi_vs_svi_class/'+ data_name +'/svi_y.npy', svi_y_lst)\n",
    "np.save('../plots/vi_vs_svi_class/'+ data_name +'/ad_x.npy', svi_ad_x_lst)\n",
    "np.save('../plots/vi_vs_svi_class/'+ data_name +'/ad_y.npy', svi_ad_y_lst)\n",
    "np.save('../plots/vi_vs_svi_class/'+ data_name +'/vi_x.npy', vi_x_lst)\n",
    "np.save('../plots/vi_vs_svi_class/'+ data_name +'/vi_y.npy', vi_y_lst)\n",
    "np.save('../plots/vi_vs_svi_class/'+ data_name +'/vi_t_x.npy', vi_t_x_lst)\n",
    "np.save('../plots/vi_vs_svi_class/'+ data_name +'/vi_t_y.npy', vi_t_y_lst)\n",
    "np.save('../plots/vi_vs_svi_class/'+ data_name +'/vi_h_x.npy', vi_h_x_lst)\n",
    "np.save('../plots/vi_vs_svi_class/'+ data_name +'/vi_h_y.npy', vi_h_y_lst)\n",
    "np.save('../plots/vi_vs_svi_class/'+ data_name +'/vi_f_x.npy', vi_full_x_lst)\n",
    "np.save('../plots/vi_vs_svi_class/'+ data_name +'/vi_f_y.npy', vi_full_y_lst)"
   ]
  }
 ],
 "metadata": {
  "kernelspec": {
   "display_name": "Python 3",
   "language": "python",
   "name": "python3"
  },
  "language_info": {
   "codemirror_mode": {
    "name": "ipython",
    "version": 3
   },
   "file_extension": ".py",
   "mimetype": "text/x-python",
   "name": "python",
   "nbconvert_exporter": "python",
   "pygments_lexer": "ipython3",
   "version": "3.4.3"
  }
 },
 "nbformat": 4,
 "nbformat_minor": 0
}
