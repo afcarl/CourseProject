{
 "cells": [
  {
   "cell_type": "markdown",
   "metadata": {},
   "source": [
    "# Skin-NonSkin"
   ]
  },
  {
   "cell_type": "code",
   "execution_count": 1,
   "metadata": {
    "collapsed": false
   },
   "outputs": [],
   "source": [
    "import sys\n",
    "sys.path.append('/Users/IzmailovPavel/Documents/Education/Course Project/Code')\n",
    "import numpy as np\n",
    "import matplotlib as mpl\n",
    "\n",
    "from matplotlib import pyplot as plt\n",
    "\n",
    "from GP.covariance_functions import SquaredExponential\n",
    "from GP.gaussian_process_classification import GPC\n",
    "\n",
    "from sklearn.cluster import KMeans\n",
    "from sklearn.svm import SVC\n",
    "from sklearn.metrics import accuracy_score\n",
    "\n",
    "from vi_svi_class_experiments import run_methods\n",
    "from sklearn.datasets import load_svmlight_file\n",
    "from sklearn.preprocessing import StandardScaler\n",
    "from sklearn.utils import shuffle\n",
    "%matplotlib inline\n",
    "%load_ext autoreload\n",
    "%autoreload 2"
   ]
  },
  {
   "cell_type": "markdown",
   "metadata": {},
   "source": [
    "## Данные"
   ]
  },
  {
   "cell_type": "code",
   "execution_count": 9,
   "metadata": {
    "collapsed": false
   },
   "outputs": [
    {
     "name": "stdout",
     "output_type": "stream",
     "text": [
      "of objects: 196045\n",
      "of features: 3\n",
      "skin_nonskin\n"
     ]
    }
   ],
   "source": [
    "x_tr, y_tr = load_svmlight_file('../../../../Programming/DataSets/Classification/skin_nonskin(245057,3).txt')\n",
    "x_tr, y_tr = shuffle(x_tr, y_tr, random_state=241)\n",
    "\n",
    "x_test = x_tr[int(x_tr.shape[0] * 0.8):, :]\n",
    "y_test = y_tr[int(x_tr.shape[0] * 0.8):]\n",
    "y_tr = y_tr[:int(x_tr.shape[0] * 0.8)]\n",
    "x_tr = x_tr[: int(x_tr.shape[0] * 0.8), :]\n",
    "\n",
    "data_name = 'skin_nonskin'\n",
    "\n",
    "x_tr = x_tr.toarray()\n",
    "x_test = x_test.toarray()\n",
    "scaler = StandardScaler()\n",
    "x_tr = scaler.fit_transform(x_tr).T\n",
    "x_test = scaler.transform(x_test).T\n",
    "\n",
    "x_tr = (x_tr + 1) / 2\n",
    "x_test = (x_test + 1) / 2\n",
    "y_tr = y_tr[:, None]\n",
    "y_test = y_test[:, None]\n",
    "y_tr[y_tr == 2] = -1\n",
    "y_test[y_test == 2] = -1\n",
    "dim, num = x_tr.shape\n",
    "\n",
    "print('of objects:', num)\n",
    "print('of features:', dim)\n",
    "print(data_name)"
   ]
  },
  {
   "cell_type": "markdown",
   "metadata": {},
   "source": [
    "## K-Means cluster centers"
   ]
  },
  {
   "cell_type": "code",
   "execution_count": 49,
   "metadata": {
    "collapsed": false
   },
   "outputs": [
    {
     "name": "stdout",
     "output_type": "stream",
     "text": [
      "Finding means...\n",
      "...found\n"
     ]
    }
   ],
   "source": [
    "ind_num = 20\n",
    "print('Finding means...')\n",
    "means = KMeans(n_clusters=ind_num, n_init=3, max_iter=100, random_state=241)\n",
    "means.fit(x_tr.T)\n",
    "inputs = means.cluster_centers_.T\n",
    "print('...found')"
   ]
  },
  {
   "cell_type": "code",
   "execution_count": 47,
   "metadata": {
    "collapsed": true
   },
   "outputs": [],
   "source": [
    "cov_params = np.array([5., 2., .3])"
   ]
  },
  {
   "cell_type": "markdown",
   "metadata": {},
   "source": [
    "## SVM\n",
    "Here we train an SVM for reference"
   ]
  },
  {
   "cell_type": "code",
   "execution_count": 19,
   "metadata": {
    "collapsed": false
   },
   "outputs": [
    {
     "name": "stderr",
     "output_type": "stream",
     "text": [
      "/Library/Frameworks/Python.framework/Versions/3.4/lib/python3.4/site-packages/sklearn/svm/base.py:472: DataConversionWarning: A column-vector y was passed when a 1d array was expected. Please change the shape of y to (n_samples, ), for example using ravel().\n",
      "  y_ = column_or_1d(y, warn=True)\n"
     ]
    },
    {
     "data": {
      "text/plain": [
       "SVC(C=1.0, cache_size=200, class_weight=None, coef0=0.0, degree=3, gamma=0.0,\n",
       "  kernel='rbf', max_iter=-1, probability=False, random_state=None,\n",
       "  shrinking=True, tol=0.001, verbose=False)"
      ]
     },
     "execution_count": 19,
     "metadata": {},
     "output_type": "execute_result"
    }
   ],
   "source": [
    "svm = SVC(C=1e0)\n",
    "svm.fit(x_tr.T, y_tr)"
   ]
  },
  {
   "cell_type": "code",
   "execution_count": 22,
   "metadata": {
    "collapsed": false
   },
   "outputs": [
    {
     "data": {
      "text/plain": [
       "0.99457275769199383"
      ]
     },
     "execution_count": 22,
     "metadata": {},
     "output_type": "execute_result"
    }
   ],
   "source": [
    "predicted = svm.predict(x_test.T)\n",
    "accuracy_score(y_test, predicted)"
   ]
  },
  {
   "cell_type": "markdown",
   "metadata": {},
   "source": [
    "## svi-L-BFGS-B-c method"
   ]
  },
  {
   "cell_type": "code",
   "execution_count": 89,
   "metadata": {
    "collapsed": true
   },
   "outputs": [],
   "source": [
    "model_covariance_obj = SquaredExponential(np.copy(cov_params))\n",
    "svi_gp = GPC(model_covariance_obj, method='svi')"
   ]
  },
  {
   "cell_type": "code",
   "execution_count": 90,
   "metadata": {
    "collapsed": false
   },
   "outputs": [
    {
     "name": "stdout",
     "output_type": "stream",
     "text": [
      "Hyper-parameters at iteration 0 : [ 5.   2.   0.3  0.   0. ]\n",
      "Hyper-parameters at iteration 1 : [ 4.99979475  2.04104992  0.29998807  0.128254   -0.3775251 ]\n",
      "Hyper-parameters at iteration 2 : [ 5.04869467  1.93221015  0.1457531   0.61011769 -1.74956675]\n",
      "Hyper-parameters at iteration 3 : [ 5.07817104  1.93178787  0.07604555  1.0185674  -2.41632599]\n",
      "Hyper-parameters at iteration 4 : [ 5.14593629  1.97078348  0.25075945  2.0428713  -4.02890188]\n",
      "Hyper-parameters at iteration 5 : [ 5.17173546  1.94061281  0.22766717  2.35129097 -4.50065535]\n",
      "Hyper-parameters at iteration 6 : [ 5.21617241  1.81677039  0.1831105   2.89215852 -5.32972502]\n",
      "Hyper-parameters at iteration 7 : [ 5.23802869  1.70738981  0.17482503  3.16080889 -5.75755204]\n",
      "Hyper-parameters at iteration 8 : [ 5.26722608  1.47869212  0.18778388  3.5097189  -6.34826654]\n",
      "Hyper-parameters at iteration 9 : [ 5.28157281  1.20112134  0.22018018  3.72457899 -6.77934246]\n",
      "Hyper-parameters at iteration 10 : [ 5.24182642  0.92314999  0.25829313  3.86369979 -7.22765943]\n",
      "Hyper-parameters at iteration 11 : [ 5.15959229  0.98077887  0.26695404  3.70489197 -7.16249572]\n",
      "Hyper-parameters at iteration 12 : [ 4.6572946   1.02975398  0.32934349  2.94675273 -7.21167232]\n",
      "Hyper-parameters at iteration 13 : [ 4.3585095   1.10526936  0.33597538  2.87755773 -7.75538227]\n",
      "Hyper-parameters at iteration 14 : [ 3.7432468   1.19132752  0.26346094  2.80383026 -8.94592703]\n",
      "Hyper-parameters at iteration 15 : [ 3.46789583  1.22714273  0.31993065  3.05020676 -9.9275894 ]\n",
      "Hyper-parameters at iteration 16 : [  2.96177843   1.19727343   0.28709275   3.33822861 -11.48020753]\n",
      "Hyper-parameters at iteration 17 : [  2.52638967   1.14578281   0.24967868   3.51174789 -12.73446316]\n",
      "Hyper-parameters at iteration 18 : [  2.18997713   1.07421924   0.27611014   3.7127578  -13.84191592]\n",
      "Hyper-parameters at iteration 19 : [  2.20217632   1.0211668    0.27462869   3.74508708 -13.91132216]\n",
      "Hyper-parameters at iteration 20 : [  2.2239651    1.04484081   0.26790303   3.72412771 -13.82977949]\n",
      "Hyper-parameters at iteration 21 : [  2.27708368   1.0918699    0.26052172   3.70414166 -13.77056255]\n",
      "Hyper-parameters at iteration 22 : [  2.33712244   1.09655537   0.26236532   3.73215133 -13.87978553]\n",
      "Hyper-parameters at iteration 23 : [  2.35401204   1.04954046   0.27966212   3.83226428 -14.34477318]\n",
      "Hyper-parameters at iteration 24 : [  2.36563596   0.95819473   0.31922111   4.12418698 -15.48517237]\n",
      "Hyper-parameters at iteration 25 : [  2.45953879   0.91429605   0.35371337   4.35117648 -16.25452732]\n",
      "Hyper-parameters at iteration 26 : [  2.74429664   0.88456204   0.41744782   4.82369344 -17.76956103]\n",
      "Hyper-parameters at iteration 27 : [  3.15090099   0.91853156   0.48473894   5.54384791 -20.14850731]\n",
      "Hyper-parameters at iteration 28 : [  2.99244452   0.95997867   0.4888043    6.72209414 -25.09546863]\n",
      "Hyper-parameters at iteration 29 : [  3.22665993   0.95621259   0.5324487    6.78245437 -25.05326071]\n",
      "Hyper-parameters at iteration 30 : [  3.52861064   0.98534846   0.51091851   6.89984321 -25.21100585]\n",
      "Hyper-parameters at iteration 31 : [  4.01348497   1.00551223   0.59558487   7.24627958 -26.06556364]\n",
      "Hyper-parameters at iteration 32 : [  4.23915442   1.01620049   0.62909948   7.43769336 -26.61919771]\n",
      "Hyper-parameters at iteration 33 : [  4.52975503   1.02600958   0.6713264    7.68791173 -27.42104675]\n",
      "Hyper-parameters at iteration 34 : [  4.91631884   1.02299475   0.73595421   8.13063495 -29.08902082]\n",
      "Hyper-parameters at iteration 35 : [  5.21027059   1.00153005   0.78422272   8.65768784 -31.11129349]\n",
      "Hyper-parameters at iteration 36 : [  5.26085776   1.03001706   0.76095209   8.58227552 -30.75403437]\n",
      "Hyper-parameters at iteration 37 : [  5.21459189   1.01647704   0.74648502   8.66804204 -31.09160525]\n",
      "Hyper-parameters at iteration 38 : [  5.07077176   1.00668136   0.71347105   8.71162926 -31.2600572 ]\n",
      "Hyper-parameters at iteration 39 : [  4.95959283   0.99987818   0.69148811   8.73289309 -31.27251065]\n",
      "Hyper-parameters at iteration 40 : [  4.8197971    0.98696552   0.66862882   8.79948477 -31.25050808]\n",
      "Hyper-parameters at iteration 41 : [  4.93847205   0.98875433   0.66528934   8.88300584 -30.95467325]\n",
      "Hyper-parameters at iteration 42 : [  4.90285359   0.98268765   0.67157651   8.90648061 -31.03646994]\n",
      "Hyper-parameters at iteration 43 : [  5.43259574   1.00195834   0.69910859   9.14967659 -30.31619754]\n",
      "Hyper-parameters at iteration 44 : [  5.4800359    0.98017701   0.80499225  10.41175086 -34.96408308]\n",
      "Hyper-parameters at iteration 45 : [  5.65258741   1.01016352   0.77499825  10.08462638 -33.6041624 ]\n",
      "Hyper-parameters at iteration 46 : [  5.60484331   1.01106797   0.75556292   9.91945852 -32.91381838]\n",
      "Hyper-parameters at iteration 47 : [  5.5341021    1.02462719   0.70532868   9.78970828 -31.90572691]\n",
      "Hyper-parameters at iteration 48 : [  5.64377495   1.00463205   0.72637738   9.88901772 -32.15887204]\n",
      "Hyper-parameters at iteration 49 : [  5.50468718   1.00882839   0.71226215  10.0804784  -32.75347063]\n",
      "Hyper-parameters at iteration 50 : [  5.46987809   1.00473446   0.72169951  10.62133203 -34.63261437]\n",
      "Hyper-parameters at iteration 51 : [  5.48620442   1.00639342   0.74091678  10.5847777  -34.56689034]\n",
      "Hyper-parameters at iteration 52 : [  5.56219893   0.99770119   0.7596615   10.87266494 -35.51322042]\n",
      "Hyper-parameters at iteration 53 : [  5.68181361   0.97924397   0.78815225  11.30968103 -37.1086943 ]\n",
      "Hyper-parameters at iteration 54 : [  5.83440433   0.9635935    0.8017048   11.64049404 -38.45641635]\n",
      "Hyper-parameters at iteration 55 : [  6.06567011   0.9727008    0.78406006  11.48806929 -37.61444533]\n",
      "Hyper-parameters at iteration 56 : [  6.18817693   0.99813683   0.75590746  11.59676183 -38.07721736]\n",
      "Hyper-parameters at iteration 57 : [  6.26841663   0.99939338   0.76638135  11.4402527  -37.57096342]\n",
      "Hyper-parameters at iteration 58 : [  6.10348846   0.99156776   0.73418204  11.04682504 -36.61372063]\n",
      "Hyper-parameters at iteration 59 : [  6.09491027   1.00471659   0.72053323  10.5472129  -35.51281662]\n",
      "Hyper-parameters at iteration 60 : [  6.10582368   0.99826732   0.70415165  10.24973643 -34.84529881]\n",
      "Hyper-parameters at iteration 61 : [  5.96506883   1.0009491    0.69246872  10.68951183 -37.13643181]\n",
      "Hyper-parameters at iteration 62 : [  6.35297867   0.98247609   0.67712032  11.11389165 -39.01096752]\n",
      "Hyper-parameters at iteration 63 : [  6.76558006   0.99120409   0.72144042  11.49190746 -40.24082992]\n",
      "Hyper-parameters at iteration 64 : [  7.53778971   1.00091867   0.79304001  12.0980397  -42.06677706]\n",
      "Hyper-parameters at iteration 65 : [  7.70615193   1.00282387   0.80241424  12.27646188 -42.54648642]\n",
      "Hyper-parameters at iteration 66 : [  8.02284467   1.00479205   0.79392687  12.5681401  -43.72252863]\n",
      "Hyper-parameters at iteration 67 : [  8.07214712   1.02788126   0.70845664  11.91263406 -42.17427924]\n",
      "Hyper-parameters at iteration 68 : [  8.1112992    1.00145475   0.72907788  11.7121485  -41.74638558]\n",
      "Hyper-parameters at iteration 69 : [  8.16108258   1.0220232    0.69380655  11.28044323 -40.18643276]\n",
      "Hyper-parameters at iteration 70 : [  8.20629877   1.04468019   0.67441319  10.81803267 -38.56391368]\n",
      "Hyper-parameters at iteration 71 : [  8.27035949   1.05145723   0.67440927  10.94582708 -39.10871228]\n",
      "Hyper-parameters at iteration 72 : [  8.40971546   1.05968793   0.65378743  10.84166014 -39.32285241]\n",
      "Hyper-parameters at iteration 73 : [  8.38536843   1.05814078   0.67916224  11.02672591 -40.23851678]\n",
      "Hyper-parameters at iteration 74 : [  8.64957396   1.05513358   0.67589346  11.13699211 -41.00495692]\n",
      "Hyper-parameters at iteration 75 : [  9.53461769   1.05583596   0.68161931  11.50163323 -43.62676098]\n",
      "Hyper-parameters at iteration 76 : [  9.78364846   1.05437337   0.68712386  11.71922487 -44.99697345]\n",
      "Hyper-parameters at iteration 77 : [ 10.20909283   1.06198728   0.70115759  11.57148654 -45.58798624]\n",
      "Hyper-parameters at iteration 78 : [ 10.19085985   1.0671412    0.68401151  11.70602232 -46.43525058]\n",
      "Hyper-parameters at iteration 79 : [ 10.26989707   1.06593384   0.6827791   11.68864014 -46.67729581]\n",
      "Hyper-parameters at iteration 80 : [ 10.37111947   1.08544447   0.65201048  11.56985648 -46.36943487]\n",
      "Hyper-parameters at iteration 81 : [ 10.284582     1.07062447   0.65786522  11.59531669 -46.65500785]\n",
      "Hyper-parameters at iteration 82 : [ 10.23331087   1.06307123   0.66411502  11.58618522 -46.75448265]\n",
      "Hyper-parameters at iteration 83 : [ 10.25268763   1.05633491   0.66875418  11.55492245 -47.03389108]\n",
      "Hyper-parameters at iteration 84 : [ 10.38694335   1.05617394   0.69715069  11.74341672 -48.14483491]\n",
      "Hyper-parameters at iteration 85 : [ 10.56041954   1.05352872   0.69209421  11.76662117 -48.78929233]\n",
      "Hyper-parameters at iteration 86 : [ 10.84092943   1.05502857   0.68372841  11.84656361 -49.73936851]\n",
      "Hyper-parameters at iteration 87 : [ 11.23164504   1.06015868   0.66727251  11.9332678  -50.95797944]\n",
      "Hyper-parameters at iteration 88 : [ 11.85511293   1.07091728   0.64111074  11.85934223 -52.32511695]\n",
      "Hyper-parameters at iteration 89 : [ 12.45156732   1.07570967   0.62957538  11.88723641 -53.30684251]\n",
      "Hyper-parameters at iteration 90 : [ 13.00372747   1.08773263   0.60721335  11.58607349 -53.75661629]\n",
      "Hyper-parameters at iteration 91 : [ 13.16652571   1.10729803   0.57059934  11.46530116 -53.76072624]\n",
      "Hyper-parameters at iteration 92 : [ 13.13706687   1.07329982   0.62768652  11.16934466 -53.52473895]\n",
      "Hyper-parameters at iteration 93 : [ 12.96838048   1.09095457   0.63224141  10.58293936 -51.00466009]\n",
      "Hyper-parameters at iteration 94 : [ 13.24322552   1.09928993   0.60557809  10.57720328 -51.27938444]\n",
      "Hyper-parameters at iteration 95 : [ 13.39329098   1.09944142   0.57932252  10.5209676  -51.30502569]\n",
      "Hyper-parameters at iteration 96 : [ 13.48922746   1.09939364   0.5682666   10.46434404 -51.10704946]\n",
      "Hyper-parameters at iteration 97 : [ 13.59928923   1.10119854   0.55542092  10.39165356 -50.7399254 ]\n",
      "Hyper-parameters at iteration 98 : [ 13.50213182   1.10314474   0.544372    10.16122663 -49.68005   ]\n",
      "Hyper-parameters at iteration 99 : [ 13.7525307    1.11236104   0.55650149  10.34661956 -50.55174797]\n",
      "Hyper-parameters at iteration 100 : [ 13.60136816   1.11121144   0.55335074  10.21679489 -49.9203236 ]\n",
      "Hyper-parameters at iteration 101 : [ 13.71240236   1.10969917   0.54678916  10.03894436 -49.58335587]\n"
     ]
    }
   ],
   "source": [
    "opts = {'mode': 'full', 'maxiter': 100, 'mydisp': True}\n",
    "svi_res = svi_gp.fit(x_tr, y_tr, inputs=inputs, optimizer_options=opts)"
   ]
  },
  {
   "cell_type": "code",
   "execution_count": 91,
   "metadata": {
    "collapsed": false
   },
   "outputs": [],
   "source": [
    "metric = lambda w: svi_gp.get_prediction_quality(w, x_test, y_test)\n",
    "svi_x_lst, svi_y_lst = svi_res.plot_performance(metric, 't', freq=1)"
   ]
  },
  {
   "cell_type": "code",
   "execution_count": 92,
   "metadata": {
    "collapsed": false
   },
   "outputs": [
    {
     "data": {
      "text/plain": [
       "<matplotlib.text.Text at 0x10e3a9d30>"
      ]
     },
     "execution_count": 92,
     "metadata": {},
     "output_type": "execute_result"
    },
    {
     "data": {
      "image/png": "[encoded data removed]",
      "text/plain": [
       "<matplotlib.figure.Figure at 0x10f5ff208>"
      ]
     },
     "metadata": {},
     "output_type": "display_data"
    }
   ],
   "source": [
    "plt.plot(svi_x_lst[1:], svi_y_lst[1:], '-gx', label='svi-L-BFGS-B-c')\n",
    "plt.ylim([0.9, 1.])\n",
    "plt.legend()\n",
    "plt.xlabel('Seconds')\n",
    "plt.ylabel('Accuracy')"
   ]
  },
  {
   "cell_type": "code",
   "execution_count": 77,
   "metadata": {
    "collapsed": false
   },
   "outputs": [
    {
     "data": {
      "text/plain": [
       "0.99277727903370605"
      ]
     },
     "execution_count": 77,
     "metadata": {},
     "output_type": "execute_result"
    }
   ],
   "source": [
    "svi_y_lst[-1]"
   ]
  },
  {
   "cell_type": "markdown",
   "metadata": {},
   "source": [
    "## vi-means-c method\n",
    "Подбор числа пересчетов"
   ]
  },
  {
   "cell_type": "code",
   "execution_count": 78,
   "metadata": {
    "collapsed": false
   },
   "outputs": [
    {
     "name": "stdout",
     "output_type": "stream",
     "text": [
      "5\n",
      "Hyper-parameters at iteration 0 : [ 5.   2.   0.3]\n",
      "Hyper-parameters at iteration 1 : [ 10.50989908   1.95756164   0.29381552]\n",
      "Hyper-parameters at iteration 2 : [ 7.78610979  1.82450465  0.01      ]\n",
      "\tHyper-parameters at outter iteration 0 : [ 7.59514399  1.78864158  0.01      ]\n",
      "Hyper-parameters at iteration 0 : [ 7.59514399  1.78864158  0.01      ]\n",
      "Hyper-parameters at iteration 1 : [  1.33665407e+01   1.74886444e+00   1.00000000e-02]\n",
      "Hyper-parameters at iteration 2 : [  1.30704430e+01   1.75118942e+00   1.00000000e-02]\n",
      "\tHyper-parameters at outter iteration 1 : [  1.25613971e+01   1.75468222e+00   1.00000000e-02]\n",
      "Hyper-parameters at iteration 0 : [  1.25613971e+01   1.75468222e+00   1.00000000e-02]\n",
      "Hyper-parameters at iteration 1 : [  1.40213595e+01   1.69390498e+00   1.00000000e-02]\n",
      "Hyper-parameters at iteration 2 : [  1.34777661e+01   1.71672598e+00   1.00000000e-02]\n",
      "Hyper-parameters at iteration 3 : [  1.33802612e+01   1.72115815e+00   1.00000000e-02]\n",
      "\tHyper-parameters at outter iteration 2 : [  1.33866305e+01   1.72115316e+00   1.00000000e-02]\n",
      "Hyper-parameters at iteration 0 : [  1.33866305e+01   1.72115316e+00   1.00000000e-02]\n",
      "Hyper-parameters at iteration 1 : [  1.38979863e+01   1.68563354e+00   1.00000000e-02]\n",
      "Hyper-parameters at iteration 2 : [  1.36935993e+01   1.70000237e+00   1.00000000e-02]\n",
      "\tHyper-parameters at outter iteration 3 : [  1.36935502e+01   1.70001822e+00   1.00000000e-02]\n",
      "Hyper-parameters at iteration 0 : [  1.36935502e+01   1.70001822e+00   1.00000000e-02]\n",
      "Hyper-parameters at iteration 1 : [  1.41105323e+01   1.66437834e+00   1.00000000e-02]\n",
      "Hyper-parameters at iteration 2 : [  1.39644933e+01   1.67697706e+00   1.00000000e-02]\n",
      "\tHyper-parameters at outter iteration 4 : [  1.39646252e+01   1.67696657e+00   1.00000000e-02]\n",
      "Hyper-parameters at iteration 0 : [  1.39646252e+01   1.67696657e+00   1.00000000e-02]\n",
      "Hyper-parameters at iteration 1 : [  1.42392552e+01   1.64356874e+00   1.00000000e-02]\n",
      "Hyper-parameters at iteration 2 : [  1.42269572e+01   1.64506917e+00   1.00000000e-02]\n",
      "\tHyper-parameters at outter iteration 5 : [  1.42085091e+01   1.64723664e+00   1.00000000e-02]\n",
      "Hyper-parameters at iteration 0 : [  1.42085091e+01   1.64723664e+00   1.00000000e-02]\n",
      "Hyper-parameters at iteration 1 : [  1.42701018e+01   1.63054912e+00   1.00000000e-02]\n",
      "\tHyper-parameters at outter iteration 6 : [  1.43212178e+01   1.61667354e+00   1.00000000e-02]\n",
      "\n",
      "10\n",
      "Hyper-parameters at iteration 0 : [ 5.   2.   0.3]\n",
      "Hyper-parameters at iteration 1 : [ 10.50989908   1.95756164   0.29381552]\n",
      "Hyper-parameters at iteration 2 : [ 7.78610979  1.82450465  0.01      ]\n",
      "\tHyper-parameters at outter iteration 0 : [ 2.94808228  0.91593082  0.01      ]\n",
      "Hyper-parameters at iteration 0 : [ 2.94808228  0.91593082  0.01      ]\n",
      "Hyper-parameters at iteration 1 : [ 2.64053301  0.82110082  0.01      ]\n",
      "Hyper-parameters at iteration 2 : [ 2.15786093  0.79289982  0.01      ]\n",
      "Hyper-parameters at iteration 3 : [ 1.76500161  0.78705215  0.01      ]\n",
      "Hyper-parameters at iteration 4 : [ 1.76327951  0.7955002   0.01      ]\n",
      "Hyper-parameters at iteration 5 : [ 1.76407294  0.79502904  0.01      ]\n",
      "\tHyper-parameters at outter iteration 1 : [ 1.76375992  0.79500493  0.01      ]\n",
      "Hyper-parameters at iteration 0 : [ 1.76375992  0.79500493  0.01      ]\n",
      "Hyper-parameters at iteration 1 : [ 1.93647509  0.79392638  0.01      ]\n",
      "Hyper-parameters at iteration 2 : [ 1.77043488  0.75367804  0.01      ]\n",
      "Hyper-parameters at iteration 3 : [ 1.74775379  0.75155667  0.01      ]\n",
      "Hyper-parameters at iteration 4 : [ 1.75046258  0.75174813  0.01      ]\n",
      "\tHyper-parameters at outter iteration 2 : [ 1.7504622   0.75174813  0.01      ]\n",
      "Hyper-parameters at iteration 0 : [ 1.7504622   0.75174813  0.01      ]\n",
      "Hyper-parameters at iteration 1 : [ 1.88154474  0.75091309  0.01      ]\n",
      "Hyper-parameters at iteration 2 : [ 1.81288979  0.73380914  0.01      ]\n",
      "Hyper-parameters at iteration 3 : [ 1.80487227  0.73327577  0.01      ]\n",
      "Hyper-parameters at iteration 4 : [ 1.80501393  0.73330013  0.01      ]\n",
      "\tHyper-parameters at outter iteration 3 : [ 1.80501393  0.73330013  0.01      ]\n",
      "Hyper-parameters at iteration 0 : [ 1.80501393  0.73330013  0.01      ]\n",
      "Hyper-parameters at iteration 1 : [ 1.91259765  0.73254339  0.01      ]\n",
      "Hyper-parameters at iteration 2 : [ 1.88599687  0.72618213  0.01      ]\n",
      "Hyper-parameters at iteration 3 : [ 1.88355574  0.72610914  0.01      ]\n",
      "Hyper-parameters at iteration 4 : [ 1.88347046  0.72611149  0.01      ]\n",
      "\tHyper-parameters at outter iteration 4 : [ 1.88347046  0.72611149  0.01      ]\n",
      "Hyper-parameters at iteration 0 : [ 1.88347046  0.72611149  0.01      ]\n",
      "Hyper-parameters at iteration 1 : [ 1.97534595  0.72538035  0.01      ]\n",
      "Hyper-parameters at iteration 2 : [ 1.97297828  0.72485668  0.01      ]\n",
      "Hyper-parameters at iteration 3 : [ 1.97271752  0.72485735  0.01      ]\n",
      "\tHyper-parameters at outter iteration 5 : [ 1.97271752  0.72485735  0.01      ]\n",
      "Hyper-parameters at iteration 0 : [ 1.97271752  0.72485735  0.01      ]\n",
      "Hyper-parameters at iteration 1 : [ 2.05250429  0.72413126  0.01      ]\n",
      "Hyper-parameters at iteration 2 : [ 2.06631573  0.72698722  0.01      ]\n",
      "Hyper-parameters at iteration 3 : [ 2.06705746  0.72698261  0.01      ]\n",
      "\tHyper-parameters at outter iteration 6 : [ 2.06705746  0.72698261  0.01      ]\n",
      "\n",
      "15\n",
      "Hyper-parameters at iteration 0 : [ 5.   2.   0.3]\n",
      "Hyper-parameters at iteration 1 : [ 10.50989908   1.95756164   0.29381552]\n",
      "Hyper-parameters at iteration 2 : [ 7.78610979  1.82450465  0.01      ]\n",
      "Hyper-parameters at iteration 3 : [ 2.94808228  0.91593082  0.01      ]\n",
      "Hyper-parameters at iteration 4 : [ 2.76308256  0.88327026  0.01      ]\n",
      "\tHyper-parameters at outter iteration 0 : [ 1.84507324  0.85323883  0.01      ]\n",
      "Hyper-parameters at iteration 0 : [ 1.84507324  0.85323883  0.01      ]\n",
      "Hyper-parameters at iteration 1 : [ 2.02279966  0.85138788  0.01      ]\n",
      "Hyper-parameters at iteration 2 : [ 1.31916486  0.70251519  0.01      ]\n",
      "Hyper-parameters at iteration 3 : [ 1.68611759  0.75956569  0.01      ]\n",
      "Hyper-parameters at iteration 4 : [ 1.57103342  0.7545282   0.01      ]\n",
      "Hyper-parameters at iteration 5 : [ 1.56253898  0.75024596  0.01      ]\n",
      "Hyper-parameters at iteration 6 : [ 1.56394926  0.75115032  0.01      ]\n",
      "Hyper-parameters at iteration 7 : [ 1.56399516  0.75114828  0.01      ]\n",
      "\tHyper-parameters at outter iteration 1 : [ 1.56399516  0.75114828  0.01      ]\n",
      "Hyper-parameters at iteration 0 : [ 1.56399516  0.75114828  0.01      ]\n",
      "Hyper-parameters at iteration 1 : [ 1.72374809  0.75042115  0.01      ]\n",
      "Hyper-parameters at iteration 2 : [ 1.61749667  0.71980563  0.01      ]\n",
      "Hyper-parameters at iteration 3 : [ 1.60038414  0.71837245  0.01      ]\n",
      "Hyper-parameters at iteration 4 : [ 1.60134897  0.71847636  0.01      ]\n",
      "Hyper-parameters at iteration 5 : [ 1.60133599  0.71847542  0.01      ]\n",
      "\tHyper-parameters at outter iteration 2 : [ 1.60133599  0.71847542  0.01      ]\n",
      "Hyper-parameters at iteration 0 : [ 1.60133599  0.71847542  0.01      ]\n",
      "Hyper-parameters at iteration 1 : [ 1.72302649  0.71785352  0.01      ]\n",
      "Hyper-parameters at iteration 2 : [ 1.68368531  0.70662595  0.01      ]\n",
      "Hyper-parameters at iteration 3 : [ 1.67854281  0.706355    0.01      ]\n",
      "Hyper-parameters at iteration 4 : [ 1.67851937  0.70635661  0.01      ]\n",
      "\tHyper-parameters at outter iteration 3 : [ 1.67851937  0.70635661  0.01      ]\n",
      "Hyper-parameters at iteration 0 : [ 1.67851937  0.70635661  0.01      ]\n",
      "Hyper-parameters at iteration 1 : [ 1.77996555  0.70576009  0.01      ]\n",
      "Hyper-parameters at iteration 2 : [ 1.77099024  0.70336119  0.01      ]\n",
      "Hyper-parameters at iteration 3 : [ 1.76991572  0.70335057  0.01      ]\n",
      "Hyper-parameters at iteration 4 : [ 1.76990189  0.70335066  0.01      ]\n",
      "\tHyper-parameters at outter iteration 4 : [ 1.76990189  0.70335066  0.01      ]\n",
      "Hyper-parameters at iteration 0 : [ 1.76990189  0.70335066  0.01      ]\n",
      "Hyper-parameters at iteration 1 : [ 1.85748943  0.70275143  0.01      ]\n",
      "Hyper-parameters at iteration 2 : [ 1.86661886  0.70502907  0.01      ]\n",
      "Hyper-parameters at iteration 3 : [ 1.86709014  0.70502732  0.01      ]\n",
      "\tHyper-parameters at outter iteration 5 : [ 1.86709014  0.70502732  0.01      ]\n",
      "Hyper-parameters at iteration 0 : [ 1.86709014  0.70502732  0.01      ]\n",
      "Hyper-parameters at iteration 1 : [ 1.86801544  0.70675532  0.01      ]\n",
      "Hyper-parameters at iteration 2 : [ 1.8882987   0.70726698  0.01      ]\n",
      "Hyper-parameters at iteration 3 : [ 1.9604541   0.70914043  0.01      ]\n",
      "Hyper-parameters at iteration 4 : [ 1.96640629  0.70929919  0.01      ]\n",
      "Hyper-parameters at iteration 5 : [ 1.96681499  0.70931014  0.01      ]\n",
      "\tHyper-parameters at outter iteration 6 : [ 1.96681499  0.70931014  0.01      ]\n",
      "\n",
      "20\n",
      "Hyper-parameters at iteration 0 : [ 5.   2.   0.3]\n",
      "Hyper-parameters at iteration 1 : [ 10.50989908   1.95756164   0.29381552]\n",
      "Hyper-parameters at iteration 2 : [ 7.78610979  1.82450465  0.01      ]\n",
      "Hyper-parameters at iteration 3 : [ 2.94808228  0.91593082  0.01      ]\n",
      "Hyper-parameters at iteration 4 : [ 2.76308256  0.88327026  0.01      ]\n",
      "Hyper-parameters at iteration 5 : [ 1.84507324  0.85323883  0.01      ]\n",
      "Hyper-parameters at iteration 6 : [ 1.23799086  0.81237778  0.01      ]\n",
      "Hyper-parameters at iteration 7 : [ 1.32814128  0.90885616  0.01      ]\n",
      "Hyper-parameters at iteration 8 : [ 1.31483623  0.87148995  0.01      ]\n",
      "\tHyper-parameters at outter iteration 0 : [ 1.29043374  0.8653113   0.01      ]\n",
      "Hyper-parameters at iteration 0 : [ 1.29043374  0.8653113   0.01      ]\n",
      "Hyper-parameters at iteration 1 : [ 2.69097947  0.86401506  0.01      ]\n",
      "Hyper-parameters at iteration 2 : [ 1.99615392  0.76541405  0.01      ]\n",
      "Hyper-parameters at iteration 3 : [ 1.67554336  0.74792612  0.01      ]\n",
      "Hyper-parameters at iteration 4 : [ 1.60932178  0.76066457  0.01      ]\n",
      "Hyper-parameters at iteration 5 : [ 1.51025372  0.75050369  0.01      ]\n",
      "Hyper-parameters at iteration 6 : [ 1.54587388  0.75344058  0.01      ]\n",
      "Hyper-parameters at iteration 7 : [ 1.54370362  0.75334778  0.01      ]\n",
      "Hyper-parameters at iteration 8 : [ 1.54370279  0.75334771  0.01      ]\n",
      "\tHyper-parameters at outter iteration 1 : [ 1.54370279  0.75334771  0.01      ]\n",
      "Hyper-parameters at iteration 0 : [ 1.54370279  0.75334771  0.01      ]\n",
      "Hyper-parameters at iteration 1 : [ 1.70920911  0.75262481  0.01      ]\n",
      "Hyper-parameters at iteration 2 : [ 1.59459962  0.71922835  0.01      ]\n",
      "Hyper-parameters at iteration 3 : [ 1.57569732  0.71764998  0.01      ]\n",
      "Hyper-parameters at iteration 4 : [ 1.5769058   0.71777612  0.01      ]\n",
      "\tHyper-parameters at outter iteration 2 : [ 1.5769058   0.71777612  0.01      ]\n",
      "Hyper-parameters at iteration 0 : [ 1.5769058   0.71777612  0.01      ]\n",
      "Hyper-parameters at iteration 1 : [ 1.70068679  0.71716478  0.01      ]\n",
      "Hyper-parameters at iteration 2 : [ 1.65822327  0.70481393  0.01      ]\n",
      "Hyper-parameters at iteration 3 : [ 1.65246113  0.70448678  0.01      ]\n",
      "Hyper-parameters at iteration 4 : [ 1.65246059  0.70448683  0.01      ]\n",
      "\tHyper-parameters at outter iteration 3 : [ 1.65246059  0.70448683  0.01      ]\n",
      "Hyper-parameters at iteration 0 : [ 1.65246059  0.70448683  0.01      ]\n",
      "Hyper-parameters at iteration 1 : [ 1.75577564  0.70390346  0.01      ]\n",
      "Hyper-parameters at iteration 2 : [ 1.74514916  0.70099669  0.01      ]\n",
      "Hyper-parameters at iteration 3 : [ 1.74385135  0.70097955  0.01      ]\n",
      "Hyper-parameters at iteration 4 : [ 1.74376163  0.70098016  0.01      ]\n",
      "\tHyper-parameters at outter iteration 4 : [ 1.74376163  0.70098016  0.01      ]\n",
      "Hyper-parameters at iteration 0 : [ 1.74376163  0.70098016  0.01      ]\n",
      "Hyper-parameters at iteration 1 : [ 1.83294329  0.70039435  0.01      ]\n",
      "Hyper-parameters at iteration 2 : [ 1.84094261  0.70244013  0.01      ]\n",
      "Hyper-parameters at iteration 3 : [ 1.84132493  0.70243869  0.01      ]\n",
      "\tHyper-parameters at outter iteration 5 : [ 1.84132493  0.70243869  0.01      ]\n",
      "Hyper-parameters at iteration 0 : [ 1.84132493  0.70243869  0.01      ]\n",
      "Hyper-parameters at iteration 1 : [ 1.84236051  0.704115    0.01      ]\n",
      "Hyper-parameters at iteration 2 : [ 1.8649036   0.70467216  0.01      ]\n",
      "Hyper-parameters at iteration 3 : [ 1.93504759  0.70646553  0.01      ]\n",
      "Hyper-parameters at iteration 4 : [ 1.9409365   0.70662447  0.01      ]\n",
      "Hyper-parameters at iteration 5 : [ 1.94106     0.70662783  0.01      ]\n",
      "\tHyper-parameters at outter iteration 6 : [ 1.94106     0.70662783  0.01      ]\n",
      "\n"
     ]
    }
   ],
   "source": [
    "maxfuns = [5, 10, 15, 20]\n",
    "results = []\n",
    "for maxfun in maxfuns:\n",
    "    print(maxfun)\n",
    "    model_covariance_obj = SquaredExponential(np.copy(cov_params))\n",
    "    vi_gp = GPC(model_covariance_obj, method='vi')\n",
    "    opts = {'maxfun':maxfun, 'mydisp': True, 'num_updates':3}\n",
    "    results.append(vi_gp.fit(x_tr, y_tr, inputs=inputs, optimizer_options=opts, max_out_iter=7))\n",
    "    print()"
   ]
  },
  {
   "cell_type": "code",
   "execution_count": 79,
   "metadata": {
    "collapsed": false
   },
   "outputs": [
    {
     "name": "stdout",
     "output_type": "stream",
     "text": [
      "0\n",
      "1\n",
      "2\n",
      "3\n"
     ]
    },
    {
     "data": {
      "text/plain": [
       "<matplotlib.text.Text at 0x10ed06860>"
      ]
     },
     "execution_count": 79,
     "metadata": {},
     "output_type": "execute_result"
    },
    {
     "data": {
      "image/png": "[encoded data removed]",
      "text/plain": [
       "<matplotlib.figure.Figure at 0x10dd15ef0>"
      ]
     },
     "metadata": {},
     "output_type": "display_data"
    }
   ],
   "source": [
    "metric = lambda w: vi_gp.get_prediction_quality(w, x_test, y_test)\n",
    "for i in range(len(maxfuns)):\n",
    "    vi_x_lst, vi_y_lst = results[i].plot_performance(metric, 't', freq=1)\n",
    "    plt.plot(vi_x_lst[1:], vi_y_lst[1:], label=maxfuns[i])\n",
    "    print(i)\n",
    "plt.ylim([0.9, 1.])\n",
    "plt.legend()\n",
    "plt.xlabel('Seconds')\n",
    "plt.ylabel('Accuracy')"
   ]
  },
  {
   "cell_type": "markdown",
   "metadata": {},
   "source": [
    "Обучение лучшего варианта"
   ]
  },
  {
   "cell_type": "code",
   "execution_count": 83,
   "metadata": {
    "collapsed": false
   },
   "outputs": [
    {
     "name": "stdout",
     "output_type": "stream",
     "text": [
      "Hyper-parameters at iteration 0 : [ 5.   2.   0.3]\n",
      "Hyper-parameters at iteration 1 : [ 10.50989908   1.95756164   0.29381552]\n",
      "Hyper-parameters at iteration 2 : [ 7.78610979  1.82450465  0.01      ]\n",
      "\tHyper-parameters at outter iteration 0 : [ 7.59514399  1.78864158  0.01      ]\n",
      "Hyper-parameters at iteration 0 : [ 7.59514399  1.78864158  0.01      ]\n",
      "Hyper-parameters at iteration 1 : [  1.33665407e+01   1.74886444e+00   1.00000000e-02]\n",
      "Hyper-parameters at iteration 2 : [  1.30704430e+01   1.75118942e+00   1.00000000e-02]\n",
      "\tHyper-parameters at outter iteration 1 : [  1.25613971e+01   1.75468222e+00   1.00000000e-02]\n",
      "Hyper-parameters at iteration 0 : [  1.25613971e+01   1.75468222e+00   1.00000000e-02]\n",
      "Hyper-parameters at iteration 1 : [  1.40213595e+01   1.69390498e+00   1.00000000e-02]\n",
      "Hyper-parameters at iteration 2 : [  1.34777661e+01   1.71672598e+00   1.00000000e-02]\n",
      "Hyper-parameters at iteration 3 : [  1.33802612e+01   1.72115815e+00   1.00000000e-02]\n",
      "\tHyper-parameters at outter iteration 2 : [  1.33866305e+01   1.72115316e+00   1.00000000e-02]\n",
      "Hyper-parameters at iteration 0 : [  1.33866305e+01   1.72115316e+00   1.00000000e-02]\n",
      "Hyper-parameters at iteration 1 : [  1.38979863e+01   1.68563354e+00   1.00000000e-02]\n",
      "Hyper-parameters at iteration 2 : [  1.36935993e+01   1.70000237e+00   1.00000000e-02]\n",
      "\tHyper-parameters at outter iteration 3 : [  1.36935502e+01   1.70001822e+00   1.00000000e-02]\n",
      "Hyper-parameters at iteration 0 : [  1.36935502e+01   1.70001822e+00   1.00000000e-02]\n",
      "Hyper-parameters at iteration 1 : [  1.41105323e+01   1.66437834e+00   1.00000000e-02]\n",
      "Hyper-parameters at iteration 2 : [  1.39644933e+01   1.67697706e+00   1.00000000e-02]\n",
      "\tHyper-parameters at outter iteration 4 : [  1.39646252e+01   1.67696657e+00   1.00000000e-02]\n",
      "Hyper-parameters at iteration 0 : [  1.39646252e+01   1.67696657e+00   1.00000000e-02]\n",
      "Hyper-parameters at iteration 1 : [  1.42392552e+01   1.64356874e+00   1.00000000e-02]\n",
      "Hyper-parameters at iteration 2 : [  1.42269572e+01   1.64506917e+00   1.00000000e-02]\n",
      "\tHyper-parameters at outter iteration 5 : [  1.42085091e+01   1.64723664e+00   1.00000000e-02]\n",
      "Hyper-parameters at iteration 0 : [  1.42085091e+01   1.64723664e+00   1.00000000e-02]\n",
      "Hyper-parameters at iteration 1 : [  1.42701018e+01   1.63054912e+00   1.00000000e-02]\n",
      "\tHyper-parameters at outter iteration 6 : [  1.43212178e+01   1.61667354e+00   1.00000000e-02]\n",
      "Hyper-parameters at iteration 0 : [  1.43212178e+01   1.61667354e+00   1.00000000e-02]\n",
      "\tHyper-parameters at outter iteration 7 : [  1.43210077e+01   1.61560290e+00   1.00000000e-02]\n",
      "Hyper-parameters at iteration 0 : [  1.43210077e+01   1.61560290e+00   1.00000000e-02]\n",
      "Hyper-parameters at iteration 1 : [  1.43769422e+01   1.58630125e+00   1.00000000e-02]\n",
      "Hyper-parameters at iteration 2 : [  1.43750498e+01   1.58728559e+00   1.00000000e-02]\n",
      "\tHyper-parameters at outter iteration 8 : [  1.43745118e+01   1.58742686e+00   1.00000000e-02]\n",
      "Hyper-parameters at iteration 0 : [  1.43745118e+01   1.58742686e+00   1.00000000e-02]\n",
      "\tHyper-parameters at outter iteration 9 : [  1.43741210e+01   1.58704381e+00   1.00000000e-02]\n",
      "Hyper-parameters at iteration 0 : [  1.43741210e+01   1.58704381e+00   1.00000000e-02]\n",
      "Hyper-parameters at iteration 1 : [  1.44137312e+01   1.55700138e+00   1.00000000e-02]\n",
      "Hyper-parameters at iteration 2 : [  1.44048168e+01   1.56365341e+00   1.00000000e-02]\n",
      "\tHyper-parameters at outter iteration 10 : [  1.44048159e+01   1.56365397e+00   1.00000000e-02]\n",
      "Hyper-parameters at iteration 0 : [  1.44048159e+01   1.56365397e+00   1.00000000e-02]\n",
      "Hyper-parameters at iteration 1 : [  1.43817824e+01   1.53229788e+00   1.00000000e-02]\n",
      "Hyper-parameters at iteration 2 : [  1.43916596e+01   1.54591890e+00   1.00000000e-02]\n",
      "\tHyper-parameters at outter iteration 11 : [  1.43880241e+01   1.54122271e+00   1.00000000e-02]\n",
      "Hyper-parameters at iteration 0 : [  1.43880241e+01   1.54122271e+00   1.00000000e-02]\n",
      "Hyper-parameters at iteration 1 : [  1.42935964e+01   1.51025574e+00   1.00000000e-02]\n",
      "Hyper-parameters at iteration 2 : [  1.43122765e+01   1.51713236e+00   1.00000000e-02]\n",
      "\tHyper-parameters at outter iteration 12 : [  1.43122762e+01   1.51713784e+00   1.00000000e-02]\n",
      "Hyper-parameters at iteration 0 : [  1.43122762e+01   1.51713784e+00   1.00000000e-02]\n",
      "Hyper-parameters at iteration 1 : [  1.41865786e+01   1.49324524e+00   1.00000000e-02]\n",
      "\tHyper-parameters at outter iteration 13 : [  1.41876510e+01   1.49349334e+00   1.00000000e-02]\n",
      "Hyper-parameters at iteration 0 : [  1.41876510e+01   1.49349334e+00   1.00000000e-02]\n",
      "Hyper-parameters at iteration 1 : [  1.39676217e+01   1.46272020e+00   1.00000000e-02]\n",
      "\tHyper-parameters at outter iteration 14 : [  1.40186470e+01   1.47695620e+00   1.00000000e-02]\n",
      "Hyper-parameters at iteration 0 : [  1.40186470e+01   1.47695620e+00   1.00000000e-02]\n",
      "Hyper-parameters at iteration 1 : [  1.37717356e+01   1.44419567e+00   1.00000000e-02]\n",
      "Hyper-parameters at iteration 2 : [  1.38320621e+01   1.45614898e+00   1.00000000e-02]\n",
      "Hyper-parameters at iteration 3 : [  1.38107022e+01   1.45928742e+00   1.00000000e-02]\n",
      "\tHyper-parameters at outter iteration 15 : [  1.36385225e+01   1.45901276e+00   1.00000000e-02]\n",
      "Hyper-parameters at iteration 0 : [  1.36385225e+01   1.45901276e+00   1.00000000e-02]\n",
      "Hyper-parameters at iteration 1 : [  1.34899918e+01   1.43435855e+00   1.00000000e-02]\n",
      "Hyper-parameters at iteration 2 : [  1.34964289e+01   1.43605631e+00   1.00000000e-02]\n",
      "\tHyper-parameters at outter iteration 16 : [  1.34810361e+01   1.43760132e+00   1.00000000e-02]\n",
      "Hyper-parameters at iteration 0 : [  1.34810361e+01   1.43760132e+00   1.00000000e-02]\n",
      "Hyper-parameters at iteration 1 : [  1.32996143e+01   1.41354075e+00   1.00000000e-02]\n",
      "Hyper-parameters at iteration 2 : [  1.32031985e+01   1.42219812e+00   1.00000000e-02]\n",
      "\tHyper-parameters at outter iteration 17 : [  1.28131588e+01   1.41871948e+00   1.00000000e-02]\n",
      "Hyper-parameters at iteration 0 : [  1.28131588e+01   1.41871948e+00   1.00000000e-02]\n",
      "Hyper-parameters at iteration 1 : [  1.27144822e+01   1.39290972e+00   1.00000000e-02]\n",
      "\tHyper-parameters at outter iteration 18 : [  1.27145106e+01   1.39292126e+00   1.00000000e-02]\n",
      "Hyper-parameters at iteration 0 : [  1.27145106e+01   1.39292126e+00   1.00000000e-02]\n",
      "Hyper-parameters at iteration 1 : [  1.25198101e+01   1.36769552e+00   1.00000000e-02]\n",
      "Hyper-parameters at iteration 2 : [  1.25241040e+01   1.37281237e+00   1.00000000e-02]\n",
      "Hyper-parameters at iteration 3 : [  1.24492201e+01   1.37507365e+00   1.00000000e-02]\n",
      "\tHyper-parameters at outter iteration 19 : [  1.20375210e+01   1.37769873e+00   1.00000000e-02]\n"
     ]
    }
   ],
   "source": [
    "model_covariance_obj = SquaredExponential(np.copy(cov_params))\n",
    "vi_gp = GPC(model_covariance_obj, method='vi')\n",
    "opts = {'maxfun':5, 'mydisp': True, 'num_updates':3}\n",
    "vi_res = vi_gp.fit(x_tr, y_tr, inputs=inputs, optimizer_options=opts, max_out_iter=20)"
   ]
  },
  {
   "cell_type": "code",
   "execution_count": 84,
   "metadata": {
    "collapsed": false
   },
   "outputs": [
    {
     "name": "stdout",
     "output_type": "stream",
     "text": [
      "Processing parameter number1/21\n",
      "Processing parameter number2/21\n",
      "Processing parameter number3/21\n",
      "Processing parameter number4/21\n",
      "Processing parameter number5/21\n",
      "Processing parameter number6/21\n",
      "Processing parameter number7/21\n",
      "Processing parameter number8/21\n",
      "Processing parameter number9/21\n",
      "Processing parameter number10/21\n",
      "Processing parameter number11/21\n",
      "Processing parameter number12/21\n",
      "Processing parameter number13/21\n",
      "Processing parameter number14/21\n",
      "Processing parameter number15/21\n",
      "Processing parameter number16/21\n",
      "Processing parameter number17/21\n",
      "Processing parameter number18/21\n",
      "Processing parameter number19/21\n",
      "Processing parameter number20/21\n",
      "Processing parameter number21/21\n"
     ]
    },
    {
     "data": {
      "text/plain": [
       "<matplotlib.text.Text at 0x10f353a90>"
      ]
     },
     "execution_count": 84,
     "metadata": {},
     "output_type": "execute_result"
    },
    {
     "data": {
      "image/png": "[encoded data removed]",
      "text/plain": [
       "<matplotlib.figure.Figure at 0x10f35fdd8>"
      ]
     },
     "metadata": {},
     "output_type": "display_data"
    }
   ],
   "source": [
    "metric = lambda w: vi_gp.get_prediction_quality(w, x_test, y_test)\n",
    "vi_x_lst, vi_y_lst = vi_res.plot_performance(metric, 't', freq=1, verbose=True)\n",
    "plt.plot(vi_x_lst[1:], vi_y_lst[1:], '-bx', label='vi-means-c')\n",
    "# plt.plot(svi_x_lst[1:100], svi_y_lst[1:100], '-gx', label='svi-L-BFGS-B-c')\n",
    "plt.ylim([.9, 1.])\n",
    "plt.legend()\n",
    "plt.xlabel('Seconds')\n",
    "plt.ylabel('Accuracy')"
   ]
  },
  {
   "cell_type": "code",
   "execution_count": 85,
   "metadata": {
    "collapsed": false
   },
   "outputs": [
    {
     "data": {
      "text/plain": [
       "0.99642944584999593"
      ]
     },
     "execution_count": 85,
     "metadata": {},
     "output_type": "execute_result"
    }
   ],
   "source": [
    "vi_y_lst[-1]"
   ]
  },
  {
   "cell_type": "markdown",
   "metadata": {},
   "source": [
    "### Taylor\n",
    "Подбор числа пересчетов"
   ]
  },
  {
   "cell_type": "code",
   "execution_count": 57,
   "metadata": {
    "collapsed": false
   },
   "outputs": [
    {
     "name": "stdout",
     "output_type": "stream",
     "text": [
      "Hyper-parameters at iteration 0 : [ 5.   2.   0.3]\n",
      "Hyper-parameters at iteration 1 : [ 7.78771389  1.95936241  0.29407794]\n",
      "Hyper-parameters at iteration 2 : [ 5.90532288  1.89980991  0.01      ]\n",
      "\tHyper-parameters at outter iteration 0 : [ 6.12125042  1.89132774  0.01      ]\n",
      "Hyper-parameters at iteration 0 : [ 6.12125042  1.89132774  0.01      ]\n",
      "Hyper-parameters at iteration 1 : [  1.33363975e+01   1.78176899e+00   1.00000000e-02]\n",
      "Hyper-parameters at iteration 2 : [  1.17401918e+01   1.80994022e+00   1.00000000e-02]\n",
      "Hyper-parameters at iteration 3 : [  1.02853892e+01   1.83529501e+00   1.00000000e-02]\n",
      "\tHyper-parameters at outter iteration 1 : [  1.04273886e+01   1.83486095e+00   1.00000000e-02]\n",
      "Hyper-parameters at iteration 0 : [  1.04273886e+01   1.83486095e+00   1.00000000e-02]\n",
      "Hyper-parameters at iteration 1 : [  1.40373523e+01   1.74809487e+00   1.00000000e-02]\n",
      "Hyper-parameters at iteration 2 : [  1.39437322e+01   1.75082154e+00   1.00000000e-02]\n",
      "\tHyper-parameters at outter iteration 2 : [  1.39978979e+01   1.75417411e+00   1.00000000e-02]\n",
      "Hyper-parameters at iteration 0 : [  1.39978979e+01   1.75417411e+00   1.00000000e-02]\n",
      "Hyper-parameters at iteration 1 : [  1.80429674e+01   1.64113900e+00   1.00000000e-02]\n",
      "\tHyper-parameters at outter iteration 3 : [  1.81497868e+01   1.64755066e+00   1.00000000e-02]\n",
      "Hyper-parameters at iteration 0 : [  1.81497868e+01   1.64755066e+00   1.00000000e-02]\n",
      "Hyper-parameters at iteration 1 : [  2.46541421e+01   1.41954409e+00   1.00000000e-02]\n",
      "Hyper-parameters at iteration 2 : [  2.30743900e+01   1.53028957e+00   1.00000000e-02]\n",
      "\tHyper-parameters at outter iteration 4 : [  2.34751218e+01   1.56356264e+00   1.00000000e-02]\n",
      "Hyper-parameters at iteration 0 : [  2.34751218e+01   1.56356264e+00   1.00000000e-02]\n",
      "Hyper-parameters at iteration 1 : [  2.81681809e+01   1.33712234e+00   1.00000000e-02]\n",
      "Hyper-parameters at iteration 2 : [  2.75940338e+01   1.40151379e+00   1.00000000e-02]\n",
      "\tHyper-parameters at outter iteration 5 : [  2.79474741e+01   1.39317686e+00   1.00000000e-02]\n",
      "Hyper-parameters at iteration 0 : [  2.79474741e+01   1.39317686e+00   1.00000000e-02]\n",
      "Hyper-parameters at iteration 1 : [  2.79501880e+01   1.39291277e+00   1.00000000e-02]\n",
      "Hyper-parameters at iteration 2 : [  2.83154226e+01   1.36712274e+00   1.00000000e-02]\n",
      "\tHyper-parameters at outter iteration 6 : [  3.07283842e+01   1.15659115e+00   1.00000000e-02]\n",
      "Hyper-parameters at iteration 0 : [  3.07283842e+01   1.15659115e+00   1.00000000e-02]\n",
      "\tHyper-parameters at outter iteration 7 : [  3.07270965e+01   1.74933908e+00   1.00000000e-02]\n",
      "Hyper-parameters at iteration 0 : [  3.07270965e+01   1.74933908e+00   1.00000000e-02]\n",
      "\tHyper-parameters at outter iteration 8 : [  3.07270966e+01   1.74933937e+00   1.00000000e-02]\n",
      "Hyper-parameters at iteration 0 : [  3.07270966e+01   1.74933937e+00   1.00000000e-02]\n",
      "Hyper-parameters at iteration 1 : [  3.07435678e+01   1.74834483e+00   1.00000000e-02]\n",
      "Hyper-parameters at iteration 2 : [  3.09029075e+01   1.74144044e+00   1.00000000e-02]\n",
      "Hyper-parameters at iteration 3 : [  3.21093349e+01   1.70099451e+00   1.00000000e-02]\n",
      "\tHyper-parameters at outter iteration 9 : [  3.88232913e+01   1.55531568e+00   1.00000000e-02]\n"
     ]
    }
   ],
   "source": [
    "model_covariance_obj = SquaredExponential(np.copy(cov_params))\n",
    "vi_gp = GPC(model_covariance_obj, method='vi')\n",
    "opts = {'bound': 'Taylor', 'maxfun':5, 'mydisp': True, 'num_updates':3}\n",
    "vi_res = vi_gp.fit(x_tr, y_tr, inputs=inputs, optimizer_options=opts, max_out_iter=10)"
   ]
  },
  {
   "cell_type": "code",
   "execution_count": 58,
   "metadata": {
    "collapsed": false
   },
   "outputs": [
    {
     "data": {
      "text/plain": [
       "<matplotlib.text.Text at 0x10db7dda0>"
      ]
     },
     "execution_count": 58,
     "metadata": {},
     "output_type": "execute_result"
    },
    {
     "data": {
      "image/png": "[encoded data removed]",
      "text/plain": [
       "<matplotlib.figure.Figure at 0x10e87fdd8>"
      ]
     },
     "metadata": {},
     "output_type": "display_data"
    }
   ],
   "source": [
    "metric = lambda w: vi_gp.get_prediction_quality(w, x_test, y_test)\n",
    "vi_t_x_lst, vi_t_y_lst = vi_res.plot_performance(metric, 't', freq=1)\n",
    "plt.plot(vi_t_x_lst[1:], vi_t_y_lst[1:], '-mx', label='vi-means-c')\n",
    "# plt.plot(svi_x_lst[1:100], svi_y_lst[1:100], '-gx', label='svi-L-BFGS-B-c')\n",
    "plt.ylim([.9, 1.])\n",
    "plt.legend()\n",
    "plt.xlabel('Seconds')\n",
    "plt.ylabel('Accuracy')"
   ]
  },
  {
   "cell_type": "markdown",
   "metadata": {},
   "source": [
    "## svi-AdaDelta-c\n",
    "Подбор длины шага"
   ]
  },
  {
   "cell_type": "code",
   "execution_count": 59,
   "metadata": {
    "collapsed": false
   },
   "outputs": [
    {
     "name": "stdout",
     "output_type": "stream",
     "text": [
      "1.0\n",
      "0.5\n",
      "0.3\n",
      "0.1\n",
      "0.01\n"
     ]
    },
    {
     "name": "stderr",
     "output_type": "stream",
     "text": [
      "/Users/IzmailovPavel/Documents/Education/Course Project/Code/GP/gaussian_process_classification.py:614: RuntimeWarning: invalid value encountered in log\n",
      "  loss += np.sum(np.log(np.diag(sigma_L))) * l / N\n"
     ]
    }
   ],
   "source": [
    "results = []\n",
    "steps = [1., 0.5, 0.3, 0.1, 0.01]\n",
    "for step in steps:\n",
    "    print(step)\n",
    "    model_covariance_obj = SquaredExponential(np.copy(cov_params))\n",
    "    ad_gp = GPC(model_covariance_obj, method='svi', hermgauss_deg=100)\n",
    "\n",
    "    opts = {'mode': 'adadelta', 'maxiter': 10, 'verbose': False, 'batch_size': 5000, \n",
    "            'step_rate': step}#, 'print_freq':50}\n",
    "    batch_res = ad_gp.fit(x_tr, y_tr, inputs=inputs, optimizer_options=opts)\n",
    "    results.append(batch_res)"
   ]
  },
  {
   "cell_type": "code",
   "execution_count": 60,
   "metadata": {
    "collapsed": false
   },
   "outputs": [
    {
     "name": "stdout",
     "output_type": "stream",
     "text": [
      "0\n",
      "1\n",
      "2\n",
      "3\n",
      "4\n"
     ]
    },
    {
     "data": {
      "text/plain": [
       "<matplotlib.text.Text at 0x10f0bbcf8>"
      ]
     },
     "execution_count": 60,
     "metadata": {},
     "output_type": "execute_result"
    },
    {
     "data": {
      "image/png": "[encoded data removed]",
      "text/plain": [
       "<matplotlib.figure.Figure at 0x10e87f4a8>"
      ]
     },
     "metadata": {},
     "output_type": "display_data"
    }
   ],
   "source": [
    "metric = lambda w: ad_gp.get_prediction_quality(w, x_test, y_test)\n",
    "for i in range(len(results)):\n",
    "    svi_ad_x_lst, svi_ad_y_lst = results[i].plot_performance(metric, 't', freq=1)\n",
    "    plt.plot(svi_ad_x_lst[1:], svi_ad_y_lst[1:], label=steps[i])\n",
    "    print(i)\n",
    "plt.ylim([0.7, 1.])\n",
    "plt.legend()\n",
    "plt.xlabel('Seconds')\n",
    "plt.ylabel('Accuracy')"
   ]
  },
  {
   "cell_type": "code",
   "execution_count": 86,
   "metadata": {
    "collapsed": false
   },
   "outputs": [
    {
     "name": "stdout",
     "output_type": "stream",
     "text": [
      "Using AdaDelta optimizer\n",
      "Iteration  0 :\n",
      "\tGradient norm 396.415428672\n",
      "Iteration  1 :\n",
      "\tGradient norm 201.269651187\n",
      "Iteration  2 :\n",
      "\tGradient norm 315.451515743\n",
      "Iteration  3 :\n",
      "\tGradient norm 144.770522476\n",
      "Iteration  4 :\n",
      "\tGradient norm 186.181711253\n",
      "Iteration  5 :\n",
      "\tGradient norm 81.8465169453\n",
      "Iteration  6 :\n",
      "\tGradient norm 75.9637687322\n",
      "Iteration  7 :\n",
      "\tGradient norm 79.9765239892\n",
      "Iteration  8 :\n",
      "\tGradient norm 77.5466434029\n",
      "Iteration  9 :\n",
      "\tGradient norm 56.5417561783\n",
      "Iteration  10 :\n",
      "\tGradient norm 24.3389732493\n",
      "Iteration  11 :\n",
      "\tGradient norm 29.2358002825\n",
      "Iteration  12 :\n",
      "\tGradient norm 23.9209940473\n",
      "Iteration  13 :\n",
      "\tGradient norm 17.4684298004\n",
      "Iteration  14 :\n",
      "\tGradient norm 15.4349808364\n",
      "Iteration  15 :\n",
      "\tGradient norm 39.1552079155\n",
      "Iteration  16 :\n",
      "\tGradient norm 15.8076372486\n",
      "Iteration  17 :\n",
      "\tGradient norm 27.1421586161\n",
      "Iteration  18 :\n",
      "\tGradient norm 13.5745839138\n",
      "Iteration  19 :\n",
      "\tGradient norm 64.6058514231\n",
      "Iteration  20 :\n",
      "\tGradient norm 36.9188031898\n",
      "Iteration  21 :\n",
      "\tGradient norm 29.6118499336\n",
      "Iteration  22 :\n",
      "\tGradient norm 34.7191705956\n",
      "Iteration  23 :\n",
      "\tGradient norm 71.2783751548\n",
      "Iteration  24 :\n",
      "\tGradient norm 21.4089331635\n",
      "Iteration  25 :\n",
      "\tGradient norm 78.9496261898\n",
      "Iteration  26 :\n",
      "\tGradient norm 12.9957404742\n",
      "Iteration  27 :\n",
      "\tGradient norm 38.2883833227\n",
      "Iteration  28 :\n",
      "\tGradient norm 50.6233825827\n",
      "Iteration  29 :\n",
      "\tGradient norm 24.2670320622\n"
     ]
    },
    {
     "name": "stderr",
     "output_type": "stream",
     "text": [
      "/Users/IzmailovPavel/Documents/Education/Course Project/Code/GP/gaussian_process_classification.py:614: RuntimeWarning: invalid value encountered in log\n",
      "  loss += np.sum(np.log(np.diag(sigma_L))) * l / N\n"
     ]
    }
   ],
   "source": [
    "model_covariance_obj = SquaredExponential(np.copy(cov_params))\n",
    "ad_gp = GPC(model_covariance_obj, method='svi', hermgauss_deg=100)\n",
    "opts = {'mode': 'adadelta', 'maxiter': 30, 'verbose': True, 'batch_size': 5000, \n",
    "        'step_rate': 1., 'print_freq':1}\n",
    "batch_res = ad_gp.fit(x_tr, y_tr, inputs=inputs, optimizer_options=opts)"
   ]
  },
  {
   "cell_type": "code",
   "execution_count": 87,
   "metadata": {
    "collapsed": false
   },
   "outputs": [
    {
     "data": {
      "text/plain": [
       "<matplotlib.text.Text at 0x10f7234e0>"
      ]
     },
     "execution_count": 87,
     "metadata": {},
     "output_type": "execute_result"
    },
    {
     "data": {
      "image/png": "[encoded data removed]",
      "text/plain": [
       "<matplotlib.figure.Figure at 0x10f367c50>"
      ]
     },
     "metadata": {},
     "output_type": "display_data"
    }
   ],
   "source": [
    "metric = lambda w: ad_gp.get_prediction_quality(w, x_test, y_test)\n",
    "svi_ad_x_lst, svi_ad_y_lst = batch_res.plot_performance(metric, 't', freq=1)\n",
    "plt.plot(svi_ad_x_lst[1:], svi_ad_y_lst[1:], '-yx', label='svi-AdaDelta-c')\n",
    "plt.ylim([.9, 1.])\n",
    "plt.legend()\n",
    "plt.xlabel('Seconds')\n",
    "plt.ylabel('Accuracy')"
   ]
  },
  {
   "cell_type": "code",
   "execution_count": 88,
   "metadata": {
    "collapsed": false
   },
   "outputs": [
    {
     "data": {
      "text/plain": [
       "0.99642944584999593"
      ]
     },
     "execution_count": 88,
     "metadata": {},
     "output_type": "execute_result"
    }
   ],
   "source": [
    "svi_ad_y_lst[-1]"
   ]
  },
  {
   "cell_type": "markdown",
   "metadata": {},
   "source": [
    "## Выводы"
   ]
  },
  {
   "cell_type": "code",
   "execution_count": 99,
   "metadata": {
    "collapsed": false
   },
   "outputs": [
    {
     "data": {
      "text/plain": [
       "<matplotlib.text.Text at 0x10f942eb8>"
      ]
     },
     "execution_count": 99,
     "metadata": {},
     "output_type": "execute_result"
    },
    {
     "data": {
      "image/png": "[encoded data removed]",
      "text/plain": [
       "<matplotlib.figure.Figure at 0x11043bba8>"
      ]
     },
     "metadata": {},
     "output_type": "display_data"
    }
   ],
   "source": [
    "plt.figure(figsize=(12, 7))\n",
    "plt.plot(svi_x_lst[1:], svi_y_lst[1:], '-gx', label='svi-L-BFGS-B-c')\n",
    "plt.plot(svi_ad_x_lst[1:], svi_ad_y_lst[1:], '-yx', label='svi-AdaDelta-c')\n",
    "plt.plot(vi_x_lst[1:], vi_y_lst[1:], '-bx', label='vi-means-c')\n",
    "plt.plot(vi_t_x_lst[1:], vi_t_y_lst[1:], '-mx', label='vi-Taylor')\n",
    "plt.ylim([0.7, 1.])\n",
    "plt.legend()\n",
    "plt.xlabel('Seconds')\n",
    "plt.ylabel('Accuracy')"
   ]
  },
  {
   "cell_type": "code",
   "execution_count": 100,
   "metadata": {
    "collapsed": true
   },
   "outputs": [],
   "source": [
    "np.save('../plots/vi_vs_svi_class/'+ data_name +'_svi_x.npy', svi_x_lst)\n",
    "np.save('../plots/vi_vs_svi_class/'+ data_name +'_svi_y.npy', svi_y_lst)\n",
    "np.save('../plots/vi_vs_svi_class/'+ data_name +'_vi_x.npy', vi_x_lst)\n",
    "np.save('../plots/vi_vs_svi_class/'+ data_name +'_vi_y.npy', vi_y_lst)\n",
    "np.save('../plots/vi_vs_svi_class/'+ data_name +'_ad_x.npy', svi_ad_x_lst)\n",
    "np.save('../plots/vi_vs_svi_class/'+ data_name +'_ad_y.npy', svi_ad_y_lst)"
   ]
  },
  {
   "cell_type": "code",
   "execution_count": 101,
   "metadata": {
    "collapsed": true
   },
   "outputs": [],
   "source": [
    "np.save('../plots/vi_vs_svi_class/'+ data_name +'_vi_x.npy', vi_x_lst)\n",
    "np.save('../plots/vi_vs_svi_class/'+ data_name +'_vi_y.npy', vi_y_lst)\n",
    "np.save('../plots/vi_vs_svi_class/'+ data_name +'_vi_t_x.npy', vi_t_x_lst)\n",
    "np.save('../plots/vi_vs_svi_class/'+ data_name +'_vi_t_y.npy', vi_t_y_lst)"
   ]
  },
  {
   "cell_type": "code",
   "execution_count": 13,
   "metadata": {
    "collapsed": false
   },
   "outputs": [],
   "source": [
    "np.save('../plots/vi_vs_svi_class/'+ data_name +'_vi_st_x.npy', vi_st_x_lst)\n",
    "np.save('../plots/vi_vs_svi_class/'+ data_name +'_vi_st_y.npy', vi_st_y_lst)"
   ]
  },
  {
   "cell_type": "code",
   "execution_count": null,
   "metadata": {
    "collapsed": true
   },
   "outputs": [],
   "source": []
  }
 ],
 "metadata": {
  "kernelspec": {
   "display_name": "Python 3",
   "language": "python",
   "name": "python3"
  },
  "language_info": {
   "codemirror_mode": {
    "name": "ipython",
    "version": 3
   },
   "file_extension": ".py",
   "mimetype": "text/x-python",
   "name": "python",
   "nbconvert_exporter": "python",
   "pygments_lexer": "ipython3",
   "version": "3.4.3"
  }
 },
 "nbformat": 4,
 "nbformat_minor": 0
}
