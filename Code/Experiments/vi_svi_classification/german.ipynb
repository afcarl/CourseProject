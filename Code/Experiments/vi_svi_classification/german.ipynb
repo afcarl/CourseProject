{
 "cells": [
  {
   "cell_type": "markdown",
   "metadata": {},
   "source": [
    "# German Numer"
   ]
  },
  {
   "cell_type": "code",
   "execution_count": 1,
   "metadata": {
    "collapsed": false
   },
   "outputs": [],
   "source": [
    "import sys\n",
    "sys.path.append('/Users/IzmailovPavel/Documents/Education/Course Project/Code')\n",
    "import numpy as np\n",
    "import matplotlib as mpl\n",
    "\n",
    "from matplotlib import pyplot as plt\n",
    "\n",
    "from GP.covariance_functions import SquaredExponential\n",
    "from GP.gaussian_process_classification import GPC\n",
    "\n",
    "from sklearn.cluster import KMeans\n",
    "\n",
    "from vi_svi_class_experiments import run_methods\n",
    "from sklearn.datasets import load_svmlight_file\n",
    "from sklearn.preprocessing import StandardScaler\n",
    "from sklearn.utils import shuffle\n",
    "%matplotlib inline\n",
    "%load_ext autoreload\n",
    "%autoreload 2"
   ]
  },
  {
   "cell_type": "markdown",
   "metadata": {},
   "source": [
    "## Loading german numer"
   ]
  },
  {
   "cell_type": "code",
   "execution_count": 70,
   "metadata": {
    "collapsed": false
   },
   "outputs": [
    {
     "name": "stdout",
     "output_type": "stream",
     "text": [
      "of objects: 800\n",
      "of features: 24\n",
      "german\n"
     ]
    }
   ],
   "source": [
    "x_tr, y_tr = load_svmlight_file('../../../../Programming/DataSets/Classification/german_numer(1000,24).txt')\n",
    "x_tr, y_tr = shuffle(x_tr, y_tr, random_state=241)\n",
    "data_name = 'german'\n",
    "file_name = data_name\n",
    "\n",
    "x_tr = x_tr.T\n",
    "x_tr = x_tr.toarray()\n",
    "scaler = StandardScaler()\n",
    "x_tr = scaler.fit_transform(x_tr)\n",
    "\n",
    "x_tr = (x_tr + 1) / 2\n",
    "y_tr = y_tr.reshape((y_tr.size, 1))\n",
    "x_test = x_tr[:, int(x_tr.shape[1] * 0.8):]\n",
    "y_test = y_tr[int(x_tr.shape[1] * 0.8):, :]\n",
    "y_tr = y_tr[:int(x_tr.shape[1] * 0.8), :]\n",
    "x_tr = x_tr[:, : int(x_tr.shape[1] * 0.8)]\n",
    "dim, num = x_tr.shape\n",
    "print('of objects:', num)\n",
    "print('of features:', dim)\n",
    "print(data_name)"
   ]
  },
  {
   "cell_type": "markdown",
   "metadata": {},
   "source": [
    "## K-Means cluster centers"
   ]
  },
  {
   "cell_type": "code",
   "execution_count": 3,
   "metadata": {
    "collapsed": false
   },
   "outputs": [
    {
     "name": "stdout",
     "output_type": "stream",
     "text": [
      "Finding means...\n",
      "...found\n"
     ]
    }
   ],
   "source": [
    "ind_num = 50\n",
    "print('Finding means...')\n",
    "means = KMeans(n_clusters=ind_num, n_init=3, max_iter=100, random_state=241)\n",
    "means.fit(x_tr.T)\n",
    "inputs = means.cluster_centers_.T\n",
    "print('...found')"
   ]
  },
  {
   "cell_type": "code",
   "execution_count": 4,
   "metadata": {
    "collapsed": true
   },
   "outputs": [],
   "source": [
    "cov_params = np.array([1., .5, 0.01])"
   ]
  },
  {
   "cell_type": "markdown",
   "metadata": {},
   "source": [
    "## svi-L-BFGS-B-c method"
   ]
  },
  {
   "cell_type": "code",
   "execution_count": 7,
   "metadata": {
    "collapsed": true
   },
   "outputs": [],
   "source": [
    "model_covariance_obj = SquaredExponential(np.copy(cov_params))\n",
    "new_gp = GPC(model_covariance_obj, method='svi')"
   ]
  },
  {
   "cell_type": "code",
   "execution_count": 8,
   "metadata": {
    "collapsed": false
   },
   "outputs": [],
   "source": [
    "opts = {'mode': 'full', 'maxiter': 200, 'mydisp': False}\n",
    "svi_res = new_gp.fit(x_tr, y_tr, inputs=inputs, optimizer_options=opts)"
   ]
  },
  {
   "cell_type": "code",
   "execution_count": 9,
   "metadata": {
    "collapsed": false
   },
   "outputs": [],
   "source": [
    "metric = lambda w: new_gp.get_prediction_quality(w, x_test, y_test)\n",
    "svi_x_lst, svi_y_lst = svi_res.plot_performance(metric, 't', freq=1)"
   ]
  },
  {
   "cell_type": "code",
   "execution_count": 10,
   "metadata": {
    "collapsed": false
   },
   "outputs": [
    {
     "data": {
      "text/plain": [
       "<matplotlib.text.Text at 0x10d30f780>"
      ]
     },
     "execution_count": 10,
     "metadata": {},
     "output_type": "execute_result"
    },
    {
     "data": {
      "image/png": "[encoded data removed]",
      "text/plain": [
       "<matplotlib.figure.Figure at 0x10d1dc470>"
      ]
     },
     "metadata": {},
     "output_type": "display_data"
    }
   ],
   "source": [
    "plt.plot(svi_x_lst[1:], svi_y_lst[1:], '-gx', label='svi-L-BFGS-B-c')\n",
    "plt.ylim([0.6, 0.8])\n",
    "plt.legend()\n",
    "plt.xlabel('Seconds')\n",
    "plt.ylabel('Accuracy')"
   ]
  },
  {
   "cell_type": "code",
   "execution_count": 11,
   "metadata": {
    "collapsed": false
   },
   "outputs": [
    {
     "data": {
      "text/plain": [
       "array([  9.58838891e+00,   1.42344778e+01,   1.00000000e-02])"
      ]
     },
     "execution_count": 11,
     "metadata": {},
     "output_type": "execute_result"
    }
   ],
   "source": [
    "svi_res.params[-1][:3]"
   ]
  },
  {
   "cell_type": "markdown",
   "metadata": {},
   "source": [
    "## vi-means-c method"
   ]
  },
  {
   "cell_type": "code",
   "execution_count": 12,
   "metadata": {
    "collapsed": false
   },
   "outputs": [],
   "source": [
    "model_covariance_obj = SquaredExponential(np.copy(cov_params))\n",
    "new_gp = GPC(model_covariance_obj, method='vi')"
   ]
  },
  {
   "cell_type": "code",
   "execution_count": 13,
   "metadata": {
    "collapsed": false
   },
   "outputs": [],
   "source": [
    "opts = {'maxiter':5, 'mydisp': False}\n",
    "vi_res = new_gp.fit(x_tr, y_tr, inputs=inputs, optimizer_options=opts, max_out_iter=100)"
   ]
  },
  {
   "cell_type": "code",
   "execution_count": 14,
   "metadata": {
    "collapsed": true
   },
   "outputs": [],
   "source": [
    "metric = lambda w: new_gp.get_prediction_quality(w, x_test, y_test)\n",
    "vi_x_lst, vi_y_lst = vi_res.plot_performance(metric, 't', freq=1)"
   ]
  },
  {
   "cell_type": "code",
   "execution_count": 15,
   "metadata": {
    "collapsed": false
   },
   "outputs": [
    {
     "data": {
      "text/plain": [
       "<matplotlib.text.Text at 0x10d28aac8>"
      ]
     },
     "execution_count": 15,
     "metadata": {},
     "output_type": "execute_result"
    },
    {
     "data": {
      "image/png": "[encoded data removed]",
      "text/plain": [
       "<matplotlib.figure.Figure at 0x10d2b30f0>"
      ]
     },
     "metadata": {},
     "output_type": "display_data"
    }
   ],
   "source": [
    "plt.plot(vi_x_lst[1:100], vi_y_lst[1:100], '-bx', label='vi-means-c')\n",
    "# plt.plot(svi_x_lst[1:100], svi_y_lst[1:100], '-gx', label='svi-L-BFGS-B-c')\n",
    "plt.ylim([0.7, 0.76])\n",
    "plt.legend()\n",
    "plt.xlabel('Seconds')\n",
    "plt.ylabel('Accuracy')"
   ]
  },
  {
   "cell_type": "markdown",
   "metadata": {},
   "source": [
    "## svi-AdaDelta-c"
   ]
  },
  {
   "cell_type": "code",
   "execution_count": 61,
   "metadata": {
    "collapsed": false
   },
   "outputs": [
    {
     "name": "stdout",
     "output_type": "stream",
     "text": [
      "Iteration  800 :\n",
      "\tGradient norm 2.05710207573\n",
      "Iteration  1600 :\n",
      "\tGradient norm 1.6316523566\n",
      "Iteration  2400 :\n",
      "\tGradient norm 3.38630964978\n",
      "Iteration  3200 :\n",
      "\tGradient norm 4.41304371035\n",
      "Iteration  4000 :\n",
      "\tGradient norm 4.79071252854\n",
      "Iteration  4800 :\n",
      "\tGradient norm 5.98695340753\n",
      "Iteration  5600 :\n",
      "\tGradient norm 6.44962060059\n",
      "Iteration  6400 :\n",
      "\tGradient norm 7.22929313514\n",
      "Iteration  7200 :\n",
      "\tGradient norm 8.37064068202\n",
      "Iteration  8000 :\n",
      "\tGradient norm 9.09620355969\n"
     ]
    }
   ],
   "source": [
    "model_covariance_obj = SquaredExponential(np.copy(cov_params))\n",
    "new_gp = GPC(model_covariance_obj, method='svi', hermgauss_deg=100)\n",
    "opts = {'mode': 'adadelta', 'maxiter': 500, 'verbose': True, 'batch_size': 50, 'step_rate': 0.05,\n",
    "       'decay': 0.5, 'print_freq':50}\n",
    "batch_res = new_gp.fit(x_tr, y_tr, inputs=inputs, optimizer_options=opts)"
   ]
  },
  {
   "cell_type": "code",
   "execution_count": 63,
   "metadata": {
    "collapsed": false
   },
   "outputs": [
    {
     "data": {
      "text/plain": [
       "<matplotlib.text.Text at 0x10d36fa90>"
      ]
     },
     "execution_count": 63,
     "metadata": {},
     "output_type": "execute_result"
    },
    {
     "data": {
      "image/png": "[encoded data removed]",
      "text/plain": [
       "<matplotlib.figure.Figure at 0x112489c88>"
      ]
     },
     "metadata": {},
     "output_type": "display_data"
    }
   ],
   "source": [
    "metric = lambda w: new_gp.get_prediction_quality(w, x_test, y_test)\n",
    "svi_ad_x_lst, svi_ad_y_lst = batch_res.plot_performance(metric, 't', freq=10)\n",
    "plt.plot(svi_ad_x_lst[1:], svi_ad_y_lst[1:], '-yx', label='svi-AdaDelta-c')\n",
    "plt.ylim([0.6, 0.8])\n",
    "plt.legend()\n",
    "plt.xlabel('Seconds')\n",
    "plt.ylabel('Accuracy')"
   ]
  },
  {
   "cell_type": "markdown",
   "metadata": {},
   "source": [
    "Я попробовал разные варианты параметров для этого метода, пробовал менять начальное приближение, но он все равно не сходится к тому же решению.\n",
    "Попробуем использовать все данные на каждой итерации."
   ]
  },
  {
   "cell_type": "code",
   "execution_count": 64,
   "metadata": {
    "collapsed": false,
    "scrolled": true
   },
   "outputs": [
    {
     "name": "stdout",
     "output_type": "stream",
     "text": [
      "Iteration  50 :\n",
      "\tGradient norm 148.085348376\n",
      "Iteration  100 :\n",
      "\tGradient norm 138.238242461\n",
      "Iteration  150 :\n",
      "\tGradient norm 128.07462186\n",
      "Iteration  200 :\n",
      "\tGradient norm 117.158276955\n",
      "Iteration  250 :\n",
      "\tGradient norm 105.349028615\n",
      "Iteration  300 :\n",
      "\tGradient norm 92.394280937\n",
      "Iteration  350 :\n",
      "\tGradient norm 78.4020815668\n",
      "Iteration  400 :\n",
      "\tGradient norm 64.4031585426\n",
      "Iteration  450 :\n",
      "\tGradient norm 52.3043746659\n",
      "Iteration  500 :\n",
      "\tGradient norm 45.8000503165\n",
      "Iteration  550 :\n",
      "\tGradient norm 47.4645217784\n",
      "Iteration  600 :\n",
      "\tGradient norm 49.2200970771\n",
      "Iteration  650 :\n",
      "\tGradient norm 51.161660043\n",
      "Iteration  700 :\n",
      "\tGradient norm 52.2784228943\n",
      "Iteration  750 :\n",
      "\tGradient norm 52.0698598042\n",
      "Iteration  800 :\n",
      "\tGradient norm 50.4436335598\n",
      "Iteration  850 :\n",
      "\tGradient norm 47.8203564079\n",
      "Iteration  900 :\n",
      "\tGradient norm 45.0881325297\n",
      "Iteration  950 :\n",
      "\tGradient norm 42.4472379541\n",
      "Iteration  1000 :\n",
      "\tGradient norm 39.9251203999\n",
      "Iteration  1050 :\n",
      "\tGradient norm 37.538059444\n",
      "Iteration  1100 :\n",
      "\tGradient norm 35.2968382617\n",
      "Iteration  1150 :\n",
      "\tGradient norm 33.1285222585\n",
      "Iteration  1200 :\n",
      "\tGradient norm 31.1169739239\n",
      "Iteration  1250 :\n",
      "\tGradient norm 29.2279485175\n",
      "Iteration  1300 :\n",
      "\tGradient norm 27.4579895284\n",
      "Iteration  1350 :\n",
      "\tGradient norm 25.8165130356\n",
      "Iteration  1400 :\n",
      "\tGradient norm 24.3215649599\n",
      "Iteration  1450 :\n",
      "\tGradient norm 22.9022570051\n",
      "Iteration  1500 :\n",
      "\tGradient norm 21.6392040505\n",
      "Iteration  1550 :\n",
      "\tGradient norm 20.4927868326\n",
      "Iteration  1600 :\n",
      "\tGradient norm 19.4180199126\n",
      "Iteration  1650 :\n",
      "\tGradient norm 18.4471806991\n",
      "Iteration  1700 :\n",
      "\tGradient norm 17.5792242895\n",
      "Iteration  1750 :\n",
      "\tGradient norm 16.759281632\n",
      "Iteration  1800 :\n",
      "\tGradient norm 15.9649463385\n",
      "Iteration  1850 :\n",
      "\tGradient norm 15.2684551409\n",
      "Iteration  1900 :\n",
      "\tGradient norm 14.4858151466\n",
      "Iteration  1950 :\n",
      "\tGradient norm 13.749843127\n",
      "Iteration  2000 :\n",
      "\tGradient norm 13.0133129846\n",
      "Iteration  2050 :\n",
      "\tGradient norm 12.2906890854\n",
      "Iteration  2100 :\n",
      "\tGradient norm 11.617480023\n",
      "Iteration  2150 :\n",
      "\tGradient norm 10.98770398\n",
      "Iteration  2200 :\n",
      "\tGradient norm 10.2939170937\n",
      "Iteration  2250 :\n",
      "\tGradient norm 9.67907803985\n",
      "Iteration  2300 :\n",
      "\tGradient norm 9.08371781374\n",
      "Iteration  2350 :\n",
      "\tGradient norm 8.50282638394\n",
      "Iteration  2400 :\n",
      "\tGradient norm 7.89856132038\n",
      "Iteration  2450 :\n",
      "\tGradient norm 7.34747332829\n",
      "Iteration  2500 :\n",
      "\tGradient norm 6.7969353143\n",
      "Iteration  2550 :\n",
      "\tGradient norm 6.30649540862\n",
      "Iteration  2600 :\n",
      "\tGradient norm 5.79472235355\n",
      "Iteration  2650 :\n",
      "\tGradient norm 5.3678915684\n",
      "Iteration  2700 :\n",
      "\tGradient norm 4.97063469528\n",
      "Iteration  2750 :\n",
      "\tGradient norm 4.62954095218\n",
      "Iteration  2800 :\n",
      "\tGradient norm 4.32798574439\n",
      "Iteration  2850 :\n",
      "\tGradient norm 4.13345638002\n",
      "Iteration  2900 :\n",
      "\tGradient norm 3.95004649554\n",
      "Iteration  2950 :\n",
      "\tGradient norm 3.82252800674\n",
      "Iteration  3000 :\n",
      "\tGradient norm 3.73201454921\n",
      "Iteration  3050 :\n",
      "\tGradient norm 3.61510479578\n",
      "Iteration  3100 :\n",
      "\tGradient norm 3.51327738457\n",
      "Iteration  3150 :\n",
      "\tGradient norm 3.41542829192\n",
      "Iteration  3200 :\n",
      "\tGradient norm 3.31487990136\n",
      "Iteration  3250 :\n",
      "\tGradient norm 3.27022373343\n",
      "Iteration  3300 :\n",
      "\tGradient norm 3.15309926909\n",
      "Iteration  3350 :\n",
      "\tGradient norm 3.15492010034\n",
      "Iteration  3400 :\n",
      "\tGradient norm 2.99546878893\n",
      "Iteration  3450 :\n",
      "\tGradient norm 2.96414184752\n",
      "Iteration  3500 :\n",
      "\tGradient norm 2.99621925489\n",
      "Iteration  3550 :\n",
      "\tGradient norm 2.891396807\n",
      "Iteration  3600 :\n",
      "\tGradient norm 2.86006209753\n",
      "Iteration  3650 :\n",
      "\tGradient norm 2.74993927252\n",
      "Iteration  3700 :\n",
      "\tGradient norm 2.78122374025\n",
      "Iteration  3750 :\n",
      "\tGradient norm 2.84446836865\n",
      "Iteration  3800 :\n",
      "\tGradient norm 2.65503354799\n",
      "Iteration  3850 :\n",
      "\tGradient norm 2.70339936047\n",
      "Iteration  3900 :\n",
      "\tGradient norm 2.64043277675\n",
      "Iteration  3950 :\n",
      "\tGradient norm 2.64146649222\n",
      "Iteration  4000 :\n",
      "\tGradient norm 2.68496306159\n",
      "Iteration  4050 :\n",
      "\tGradient norm 2.63447251264\n",
      "Iteration  4100 :\n",
      "\tGradient norm 2.67608122823\n",
      "Iteration  4150 :\n",
      "\tGradient norm 2.67641478201\n",
      "Iteration  4200 :\n",
      "\tGradient norm 2.48231824396\n",
      "Iteration  4250 :\n",
      "\tGradient norm 2.74768950707\n",
      "Iteration  4300 :\n",
      "\tGradient norm 2.4582343133\n",
      "Iteration  4350 :\n",
      "\tGradient norm 2.64961350881\n",
      "Iteration  4400 :\n",
      "\tGradient norm 2.80143650294\n",
      "Iteration  4450 :\n",
      "\tGradient norm 2.54824352015\n",
      "Iteration  4500 :\n",
      "\tGradient norm 2.84392671522\n",
      "Iteration  4550 :\n",
      "\tGradient norm 2.60740966734\n",
      "Iteration  4600 :\n",
      "\tGradient norm 2.62290708444\n",
      "Iteration  4650 :\n",
      "\tGradient norm 2.6742437253\n",
      "Iteration  4700 :\n",
      "\tGradient norm 2.64111575845\n",
      "Iteration  4750 :\n",
      "\tGradient norm 2.62965716748\n",
      "Iteration  4800 :\n",
      "\tGradient norm 2.85737049111\n",
      "Iteration  4850 :\n",
      "\tGradient norm 2.69207241699\n",
      "Iteration  4900 :\n",
      "\tGradient norm 2.83758425033\n",
      "Iteration  4950 :\n",
      "\tGradient norm 2.79193271474\n",
      "Iteration  5000 :\n",
      "\tGradient norm 2.80360251583\n"
     ]
    }
   ],
   "source": [
    "model_covariance_obj = SquaredExponential(np.copy(cov_params))\n",
    "new_gp = GPC(model_covariance_obj, method='svi', hermgauss_deg=100)\n",
    "opts = {'mode': 'adadelta', 'maxiter': 5000, 'verbose': True, 'batch_size': 800, 'step_rate': 0.1,\n",
    "       'decay': 0.5, 'print_freq':50}\n",
    "non_batch_res = new_gp.fit(x_tr, y_tr, inputs=inputs, optimizer_options=opts)"
   ]
  },
  {
   "cell_type": "code",
   "execution_count": 66,
   "metadata": {
    "collapsed": false
   },
   "outputs": [
    {
     "data": {
      "text/plain": [
       "<matplotlib.text.Text at 0x11254f630>"
      ]
     },
     "execution_count": 66,
     "metadata": {},
     "output_type": "execute_result"
    },
    {
     "data": {
      "image/png": "[encoded data removed]",
      "text/plain": [
       "<matplotlib.figure.Figure at 0x112500390>"
      ]
     },
     "metadata": {},
     "output_type": "display_data"
    }
   ],
   "source": [
    "metric = lambda w: new_gp.get_prediction_quality(w, x_test, y_test)\n",
    "svi_fad_x_lst, svi_fad_y_lst = non_batch_res.plot_performance(metric, 't', freq=50)\n",
    "plt.plot(svi_fad_x_lst[1:], svi_fad_y_lst[1:], '-yx', label='svi-AdaDelta-c')\n",
    "plt.ylim([0.6, 0.8])\n",
    "plt.legend()\n",
    "plt.xlabel('Seconds')\n",
    "plt.ylabel('Accuracy')"
   ]
  },
  {
   "cell_type": "markdown",
   "metadata": {},
   "source": [
    "В данном случае метод смог сойтись к тому же качеству, что и два других."
   ]
  },
  {
   "cell_type": "markdown",
   "metadata": {},
   "source": [
    "## Выводы"
   ]
  },
  {
   "cell_type": "code",
   "execution_count": 68,
   "metadata": {
    "collapsed": false
   },
   "outputs": [
    {
     "data": {
      "text/plain": [
       "<matplotlib.text.Text at 0x112657e10>"
      ]
     },
     "execution_count": 68,
     "metadata": {},
     "output_type": "execute_result"
    },
    {
     "data": {
      "image/png": "[encoded data removed]",
      "text/plain": [
       "<matplotlib.figure.Figure at 0x1125edac8>"
      ]
     },
     "metadata": {},
     "output_type": "display_data"
    }
   ],
   "source": [
    "plt.plot(svi_x_lst[1:], svi_y_lst[1:], '-gx', label='svi-L-BFGS-B-c')\n",
    "plt.plot(svi_fad_x_lst[1:50], svi_fad_y_lst[1:50], '-yx', label='svi-AdaDelta-c')\n",
    "plt.plot(vi_x_lst[1:100], vi_y_lst[1:100], '-bx', label='vi-means-c')\n",
    "plt.ylim([0.6, 0.8])\n",
    "plt.legend()\n",
    "plt.xlabel('Seconds')\n",
    "plt.ylabel('Accuracy')"
   ]
  },
  {
   "cell_type": "markdown",
   "metadata": {},
   "source": [
    "На данном датасете метод AdaDelta сильно проиграл. Чтобы он сошелся к хорошему решению, пришлось отказаться от стохастической оптимизации, а из-за того, что он не учитывает информацию второго порядка, он сходится в таком виде очень долго."
   ]
  },
  {
   "cell_type": "code",
   "execution_count": 71,
   "metadata": {
    "collapsed": true
   },
   "outputs": [],
   "source": [
    "np.save('../plots/vi_vs_svi_class/'+ data_name +'svi_x.npy', svi_x_lst)\n",
    "np.save('../plots/vi_vs_svi_class/'+ data_name +'svi_y.npy', svi_y_lst)\n",
    "np.save('../plots/vi_vs_svi_class/'+ data_name +'vi_x.npy', vi_x_lst)\n",
    "np.save('../plots/vi_vs_svi_class/'+ data_name +'vi_y.npy', vi_y_lst)\n",
    "np.save('../plots/vi_vs_svi_class/'+ data_name +'ad_x.npy', svi_fad_x_lst)\n",
    "np.save('../plots/vi_vs_svi_class/'+ data_name +'ad_y.npy', svi_fad_y_lst)"
   ]
  }
 ],
 "metadata": {
  "kernelspec": {
   "display_name": "Python 3",
   "language": "python",
   "name": "python3"
  },
  "language_info": {
   "codemirror_mode": {
    "name": "ipython",
    "version": 3
   },
   "file_extension": ".py",
   "mimetype": "text/x-python",
   "name": "python",
   "nbconvert_exporter": "python",
   "pygments_lexer": "ipython3",
   "version": "3.4.3"
  }
 },
 "nbformat": 4,
 "nbformat_minor": 0
}
