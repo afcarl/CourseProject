{
 "cells": [
  {
   "cell_type": "markdown",
   "metadata": {},
   "source": [
    "# mnist"
   ]
  },
  {
   "cell_type": "code",
   "execution_count": 1,
   "metadata": {
    "collapsed": false
   },
   "outputs": [],
   "source": [
    "import sys\n",
    "sys.path.append('/Users/IzmailovPavel/Documents/Education/Course Project/Code')\n",
    "import numpy as np\n",
    "import matplotlib as mpl\n",
    "\n",
    "from matplotlib import pyplot as plt\n",
    "\n",
    "from GP.covariance_functions import SquaredExponential\n",
    "from GP.gaussian_process_classification import GPC\n",
    "\n",
    "from sklearn.cluster import KMeans\n",
    "\n",
    "from vi_svi_class_experiments import run_methods\n",
    "from sklearn.datasets import load_svmlight_file\n",
    "from sklearn.preprocessing import StandardScaler\n",
    "from sklearn.utils import shuffle\n",
    "%matplotlib inline\n",
    "%load_ext autoreload\n",
    "%autoreload 2"
   ]
  },
  {
   "cell_type": "markdown",
   "metadata": {},
   "source": [
    "## Данные"
   ]
  },
  {
   "cell_type": "code",
   "execution_count": 2,
   "metadata": {
    "collapsed": false
   },
   "outputs": [
    {
     "name": "stdout",
     "output_type": "stream",
     "text": [
      "of objects: 10000\n",
      "of features: 778\n",
      "mnist\n"
     ]
    }
   ],
   "source": [
    "x_tr, y_tr = load_svmlight_file('../../../../Programming/DataSets/Classification/multiclass/mnist_scale(60000,780).txt')\n",
    "x_tr, y_tr = shuffle(x_tr, y_tr, random_state=241)\n",
    "x_test, y_test = load_svmlight_file('../../../../Programming/DataSets/Classification/multiclass/mnist_scale_test(10000,780).txt')\n",
    "data_name = 'mnist'\n",
    "\n",
    "x_tr = x_tr.toarray()\n",
    "x_test = x_test.toarray()\n",
    "scaler = StandardScaler()\n",
    "x_tr = scaler.fit_transform(x_tr).T\n",
    "x_test = scaler.transform(x_test).T\n",
    "\n",
    "y_tr = (y_tr %2 == 0).astype(float)\n",
    "y_test = (y_test %2 == 0).astype(float)\n",
    "\n",
    "x_tr = (x_tr + 1) / 2\n",
    "x_test = (x_test + 1) / 2\n",
    "y_tr = y_tr[:, None]\n",
    "y_test = y_test[:, None]\n",
    "y_tr[y_tr == 0] = -1\n",
    "y_test[y_test == 0] = -1\n",
    "dim, num = x_tr.shape\n",
    "print('of objects:', num)\n",
    "print('of features:', dim)\n",
    "print(data_name)"
   ]
  },
  {
   "cell_type": "markdown",
   "metadata": {},
   "source": [
    "## K-Means cluster centers"
   ]
  },
  {
   "cell_type": "code",
   "execution_count": 3,
   "metadata": {
    "collapsed": false
   },
   "outputs": [
    {
     "name": "stdout",
     "output_type": "stream",
     "text": [
      "Finding means...\n",
      "...found\n"
     ]
    }
   ],
   "source": [
    "ind_num = 300\n",
    "print('Finding means...')\n",
    "means = KMeans(n_clusters=ind_num, n_init=3, max_iter=100, random_state=241)\n",
    "means.fit(x_tr.T)\n",
    "inputs = means.cluster_centers_.T\n",
    "print('...found')"
   ]
  },
  {
   "cell_type": "code",
   "execution_count": 19,
   "metadata": {
    "collapsed": true
   },
   "outputs": [],
   "source": [
    "cov_params = np.array([150., 200., 0.01])"
   ]
  },
  {
   "cell_type": "markdown",
   "metadata": {},
   "source": [
    "## svi-L-BFGS-B-c method"
   ]
  },
  {
   "cell_type": "code",
   "execution_count": 20,
   "metadata": {
    "collapsed": true
   },
   "outputs": [],
   "source": [
    "model_covariance_obj = SquaredExponential(np.copy(cov_params))\n",
    "svi_gp = GPC(model_covariance_obj, method='svi')"
   ]
  },
  {
   "cell_type": "code",
   "execution_count": 21,
   "metadata": {
    "collapsed": false
   },
   "outputs": [],
   "source": [
    "opts = {'mode': 'full', 'maxiter': 200, 'mydisp': False}\n",
    "svi_res = svi_gp.fit(x_tr, y_tr, inputs=inputs, optimizer_options=opts)"
   ]
  },
  {
   "cell_type": "code",
   "execution_count": 22,
   "metadata": {
    "collapsed": false
   },
   "outputs": [],
   "source": [
    "metric = lambda w: svi_gp.get_prediction_quality(w, x_test, y_test)\n",
    "svi_x_lst, svi_y_lst = svi_res.plot_performance(metric, 't', freq=10)"
   ]
  },
  {
   "cell_type": "code",
   "execution_count": 23,
   "metadata": {
    "collapsed": false
   },
   "outputs": [
    {
     "data": {
      "text/plain": [
       "<matplotlib.text.Text at 0x10dc69160>"
      ]
     },
     "execution_count": 23,
     "metadata": {},
     "output_type": "execute_result"
    },
    {
     "data": {
      "image/png": "[encoded data removed]",
      "text/plain": [
       "<matplotlib.figure.Figure at 0x10da96dd8>"
      ]
     },
     "metadata": {},
     "output_type": "display_data"
    }
   ],
   "source": [
    "plt.plot(svi_x_lst[1:], svi_y_lst[1:], '-gx', label='svi-L-BFGS-B-c')\n",
    "plt.ylim([0.5, 1.])\n",
    "plt.legend()\n",
    "plt.xlabel('Seconds')\n",
    "plt.ylabel('Accuracy')"
   ]
  },
  {
   "cell_type": "markdown",
   "metadata": {},
   "source": [
    "## vi-means-c method"
   ]
  },
  {
   "cell_type": "code",
   "execution_count": 24,
   "metadata": {
    "collapsed": false
   },
   "outputs": [],
   "source": [
    "model_covariance_obj = SquaredExponential(np.copy(cov_params))\n",
    "vi_gp = GPC(model_covariance_obj, method='vi')"
   ]
  },
  {
   "cell_type": "code",
   "execution_count": 25,
   "metadata": {
    "collapsed": false
   },
   "outputs": [
    {
     "name": "stdout",
     "output_type": "stream",
     "text": [
      "Hyper-parameters at iteration 0 : [  1.50000000e+02   2.00000000e+02   1.00000000e-02]\n",
      "Hyper-parameters at iteration 1 : [  1.10212001e+02   2.30815099e+02   1.00000000e-02]\n",
      "Hyper-parameters at iteration 2 : [  6.06714264e+01   2.47041681e+02   1.00000000e-02]\n",
      "Hyper-parameters at iteration 3 : [  5.28256712e+01   2.48744071e+02   1.00000000e-02]\n",
      "Hyper-parameters at iteration 4 : [  5.04144461e+01   2.49260599e+02   1.00000000e-02]\n",
      "Hyper-parameters at iteration 5 : [  5.09047580e+01   2.49164701e+02   1.00000000e-02]\n",
      "Hyper-parameters at iteration 6 : [  5.09047580e+01   2.49164701e+02   1.00000000e-02]\n",
      "Hyper-parameters at iteration 7 : [  5.09047580e+01   2.49164701e+02   1.00000000e-02]\n",
      "Hyper-parameters at iteration 8 : [  5.09047580e+01   2.49164701e+02   1.00000000e-02]\n",
      "\tHyper-parameters at outter iteration 0 : [  5.09047580e+01   2.49164701e+02   1.00000000e-02]\n",
      "Hyper-parameters at iteration 0 : [  5.09047580e+01   2.49164701e+02   1.00000000e-02]\n",
      "Hyper-parameters at iteration 1 : [  4.01641495e+01   2.51387179e+02   1.00000000e-02]\n",
      "Hyper-parameters at iteration 2 : [  3.57873222e+01   2.52262301e+02   1.00000000e-02]\n",
      "Hyper-parameters at iteration 3 : [  3.73799674e+01   2.51945449e+02   1.00000000e-02]\n",
      "Hyper-parameters at iteration 4 : [  3.72272308e+01   2.51976714e+02   1.00000000e-02]\n",
      "Hyper-parameters at iteration 5 : [  3.72189983e+01   2.51979546e+02   1.00000000e-02]\n",
      "Hyper-parameters at iteration 6 : [  3.72173519e+01   2.51984976e+02   1.00000000e-02]\n",
      "Hyper-parameters at iteration 7 : [  3.72173518e+01   2.51984977e+02   1.00000000e-02]\n",
      "\tHyper-parameters at outter iteration 1 : [  3.72173518e+01   2.51984977e+02   1.00000000e-02]\n",
      "Hyper-parameters at iteration 0 : [  3.72173518e+01   2.51984977e+02   1.00000000e-02]\n",
      "Hyper-parameters at iteration 1 : [  3.17096382e+01   2.52815700e+02   1.00000000e-02]\n",
      "Hyper-parameters at iteration 2 : [  3.23564796e+01   2.52719760e+02   1.00000000e-02]\n",
      "Hyper-parameters at iteration 3 : [  3.22409769e+01   2.52737281e+02   1.00000000e-02]\n",
      "Hyper-parameters at iteration 4 : [  3.22409766e+01   2.52737281e+02   1.00000000e-02]\n",
      "Hyper-parameters at iteration 5 : [  3.22409758e+01   2.52737281e+02   1.00000000e-02]\n",
      "Hyper-parameters at iteration 6 : [  3.22409758e+01   2.52737281e+02   1.00000000e-02]\n",
      "Hyper-parameters at iteration 7 : [  3.22409758e+01   2.52737281e+02   1.00000000e-02]\n",
      "\tHyper-parameters at outter iteration 2 : [  3.22409758e+01   2.52737281e+02   1.00000000e-02]\n",
      "Hyper-parameters at iteration 0 : [  3.22409758e+01   2.52737281e+02   1.00000000e-02]\n",
      "Hyper-parameters at iteration 1 : [  2.95921097e+01   2.53076885e+02   1.00000000e-02]\n",
      "Hyper-parameters at iteration 2 : [  3.02867872e+01   2.52988461e+02   1.00000000e-02]\n",
      "Hyper-parameters at iteration 3 : [  3.02262284e+01   2.52996560e+02   1.00000000e-02]\n",
      "Hyper-parameters at iteration 4 : [  3.02262284e+01   2.52996560e+02   1.00000000e-02]\n",
      "Hyper-parameters at iteration 5 : [  3.02262284e+01   2.52996560e+02   1.00000000e-02]\n",
      "\tHyper-parameters at outter iteration 3 : [  3.02262284e+01   2.52996560e+02   1.00000000e-02]\n",
      "Hyper-parameters at iteration 0 : [  3.02262284e+01   2.52996560e+02   1.00000000e-02]\n",
      "Hyper-parameters at iteration 1 : [  2.90983014e+01   2.53133484e+02   1.00000000e-02]\n",
      "Hyper-parameters at iteration 2 : [  2.94479463e+01   2.53091332e+02   1.00000000e-02]\n",
      "Hyper-parameters at iteration 3 : [  2.94479463e+01   2.53091332e+02   1.00000000e-02]\n",
      "\tHyper-parameters at outter iteration 4 : [  2.94479463e+01   2.53091332e+02   1.00000000e-02]\n",
      "Hyper-parameters at iteration 0 : [  2.94479463e+01   2.53091332e+02   1.00000000e-02]\n",
      "Hyper-parameters at iteration 1 : [  2.89851203e+01   2.53145558e+02   1.00000000e-02]\n",
      "Hyper-parameters at iteration 2 : [  2.91361094e+01   2.53128073e+02   1.00000000e-02]\n",
      "Hyper-parameters at iteration 3 : [  2.91342958e+01   2.53128446e+02   1.00000000e-02]\n",
      "Hyper-parameters at iteration 4 : [  2.91342958e+01   2.53128446e+02   1.00000000e-02]\n",
      "Hyper-parameters at iteration 5 : [  2.91342958e+01   2.53128446e+02   1.00000000e-02]\n",
      "\tHyper-parameters at outter iteration 5 : [  2.91342958e+01   2.53128446e+02   1.00000000e-02]\n",
      "Hyper-parameters at iteration 0 : [  2.91342958e+01   2.53128446e+02   1.00000000e-02]\n",
      "Hyper-parameters at iteration 1 : [  2.89570972e+01   2.53156070e+02   1.00000000e-02]\n",
      "Hyper-parameters at iteration 2 : [  2.90171463e+01   2.53146858e+02   1.00000000e-02]\n",
      "Hyper-parameters at iteration 3 : [  2.90174735e+01   2.53146639e+02   1.00000000e-02]\n",
      "Hyper-parameters at iteration 4 : [  2.90172426e+01   2.53146737e+02   1.00000000e-02]\n",
      "Hyper-parameters at iteration 5 : [  2.90172426e+01   2.53146737e+02   1.00000000e-02]\n",
      "\tHyper-parameters at outter iteration 6 : [  2.90172426e+01   2.53146737e+02   1.00000000e-02]\n",
      "Hyper-parameters at iteration 0 : [  2.90172426e+01   2.53146737e+02   1.00000000e-02]\n",
      "Hyper-parameters at iteration 1 : [  2.89500160e+01   2.53158465e+02   1.00000000e-02]\n",
      "\tHyper-parameters at outter iteration 7 : [  2.89500160e+01   2.53158465e+02   1.00000000e-02]\n",
      "Hyper-parameters at iteration 0 : [  2.89500160e+01   2.53158465e+02   1.00000000e-02]\n",
      "Hyper-parameters at iteration 1 : [  2.89507527e+01   2.53167072e+02   1.00000000e-02]\n",
      "Hyper-parameters at iteration 2 : [  2.89507527e+01   2.53167072e+02   1.00000000e-02]\n",
      "Hyper-parameters at iteration 3 : [  2.89512814e+01   2.53173257e+02   1.00000000e-02]\n",
      "\tHyper-parameters at outter iteration 8 : [  2.89512814e+01   2.53173257e+02   1.00000000e-02]\n",
      "Hyper-parameters at iteration 0 : [  2.89512814e+01   2.53173257e+02   1.00000000e-02]\n",
      "Hyper-parameters at iteration 1 : [  2.89512797e+01   2.53173259e+02   1.00000000e-02]\n",
      "Hyper-parameters at iteration 2 : [  2.89512694e+01   2.53173270e+02   1.00000000e-02]\n",
      "\tHyper-parameters at outter iteration 9 : [  2.89512694e+01   2.53173270e+02   1.00000000e-02]\n",
      "Hyper-parameters at iteration 0 : [  2.89512694e+01   2.53173270e+02   1.00000000e-02]\n",
      "Hyper-parameters at iteration 1 : [  2.89499030e+01   2.53172202e+02   1.00000000e-02]\n",
      "Hyper-parameters at iteration 2 : [  2.89499030e+01   2.53172202e+02   1.00000000e-02]\n",
      "Hyper-parameters at iteration 3 : [  2.89499030e+01   2.53172202e+02   1.00000000e-02]\n",
      "\tHyper-parameters at outter iteration 10 : [  2.89499030e+01   2.53172202e+02   1.00000000e-02]\n",
      "Hyper-parameters at iteration 0 : [  2.89499030e+01   2.53172202e+02   1.00000000e-02]\n",
      "Hyper-parameters at iteration 1 : [  2.89499030e+01   2.53172202e+02   1.00000000e-02]\n",
      "Hyper-parameters at iteration 2 : [  2.89499030e+01   2.53172202e+02   1.00000000e-02]\n",
      "\tHyper-parameters at outter iteration 11 : [  2.89499030e+01   2.53172202e+02   1.00000000e-02]\n",
      "Hyper-parameters at iteration 0 : [  2.89499030e+01   2.53172202e+02   1.00000000e-02]\n",
      "Hyper-parameters at iteration 1 : [  2.89473228e+01   2.53175912e+02   1.00000000e-02]\n",
      "Hyper-parameters at iteration 2 : [  2.89473228e+01   2.53175912e+02   1.00000000e-02]\n",
      "\tHyper-parameters at outter iteration 12 : [  2.89473228e+01   2.53175912e+02   1.00000000e-02]\n",
      "Hyper-parameters at iteration 0 : [  2.89473228e+01   2.53175912e+02   1.00000000e-02]\n",
      "Hyper-parameters at iteration 1 : [  2.89477839e+01   2.53175850e+02   1.00000000e-02]\n",
      "Hyper-parameters at iteration 2 : [  2.89479408e+01   2.53175833e+02   1.00000000e-02]\n",
      "Hyper-parameters at iteration 3 : [  2.89485673e+01   2.53175754e+02   1.00000000e-02]\n",
      "Hyper-parameters at iteration 4 : [  2.89485673e+01   2.53175754e+02   1.00000000e-02]\n",
      "Hyper-parameters at iteration 5 : [  2.89471227e+01   2.53179780e+02   1.00000000e-02]\n",
      "\tHyper-parameters at outter iteration 13 : [  2.89471227e+01   2.53179780e+02   1.00000000e-02]\n",
      "Hyper-parameters at iteration 0 : [  2.89471227e+01   2.53179780e+02   1.00000000e-02]\n",
      "Hyper-parameters at iteration 1 : [  2.89477903e+01   2.53186653e+02   1.00000000e-02]\n",
      "Hyper-parameters at iteration 2 : [  2.89477903e+01   2.53186653e+02   1.00000000e-02]\n",
      "\tHyper-parameters at outter iteration 14 : [  2.89477903e+01   2.53186653e+02   1.00000000e-02]\n",
      "Hyper-parameters at iteration 0 : [  2.89477903e+01   2.53186653e+02   1.00000000e-02]\n",
      "Hyper-parameters at iteration 1 : [  2.89494888e+01   2.53190803e+02   1.00000000e-02]\n",
      "Hyper-parameters at iteration 2 : [  2.89494888e+01   2.53190803e+02   1.00000000e-02]\n",
      "Hyper-parameters at iteration 3 : [  2.89494887e+01   2.53190803e+02   1.00000000e-02]\n",
      "\tHyper-parameters at outter iteration 15 : [  2.89494887e+01   2.53190803e+02   1.00000000e-02]\n",
      "Hyper-parameters at iteration 0 : [  2.89494887e+01   2.53190803e+02   1.00000000e-02]\n",
      "Hyper-parameters at iteration 1 : [  2.89489205e+01   2.53196890e+02   1.00000000e-02]\n",
      "Hyper-parameters at iteration 2 : [  2.89510371e+01   2.53203749e+02   1.00000000e-02]\n",
      "Hyper-parameters at iteration 3 : [  2.89504185e+01   2.53202018e+02   1.00000000e-02]\n",
      "Hyper-parameters at iteration 4 : [  2.89512173e+01   2.53206422e+02   1.00000000e-02]\n",
      "\tHyper-parameters at outter iteration 16 : [  2.89512173e+01   2.53206422e+02   1.00000000e-02]\n",
      "Hyper-parameters at iteration 0 : [  2.89512173e+01   2.53206422e+02   1.00000000e-02]\n",
      "Hyper-parameters at iteration 1 : [  2.89509659e+01   2.53206876e+02   1.00000000e-02]\n",
      "\tHyper-parameters at outter iteration 17 : [  2.89509659e+01   2.53206876e+02   1.00000000e-02]\n",
      "Hyper-parameters at iteration 0 : [  2.89509659e+01   2.53206876e+02   1.00000000e-02]\n",
      "Hyper-parameters at iteration 1 : [  2.89513445e+01   2.53208132e+02   1.00000000e-02]\n",
      "\tHyper-parameters at outter iteration 18 : [  2.89513445e+01   2.53208132e+02   1.00000000e-02]\n",
      "Hyper-parameters at iteration 0 : [  2.89513445e+01   2.53208132e+02   1.00000000e-02]\n",
      "\tHyper-parameters at outter iteration 19 : [  2.89513445e+01   2.53208132e+02   1.00000000e-02]\n",
      "Hyper-parameters at iteration 0 : [  2.89513445e+01   2.53208132e+02   1.00000000e-02]\n",
      "Hyper-parameters at iteration 1 : [  2.89512698e+01   2.53212338e+02   1.00000000e-02]\n",
      "Hyper-parameters at iteration 2 : [  2.89513199e+01   2.53212027e+02   1.00000000e-02]\n",
      "Hyper-parameters at iteration 3 : [  2.89513199e+01   2.53212027e+02   1.00000000e-02]\n",
      "Hyper-parameters at iteration 4 : [  2.89513199e+01   2.53212027e+02   1.00000000e-02]\n",
      "Hyper-parameters at iteration 5 : [  2.89513199e+01   2.53212027e+02   1.00000000e-02]\n",
      "\tHyper-parameters at outter iteration 20 : [  2.89513199e+01   2.53212027e+02   1.00000000e-02]\n",
      "Hyper-parameters at iteration 0 : [  2.89513199e+01   2.53212027e+02   1.00000000e-02]\n",
      "Hyper-parameters at iteration 1 : [  2.89512164e+01   2.53213924e+02   1.00000000e-02]\n",
      "Hyper-parameters at iteration 2 : [  2.89512165e+01   2.53213926e+02   1.00000000e-02]\n",
      "\tHyper-parameters at outter iteration 21 : [  2.89512165e+01   2.53213926e+02   1.00000000e-02]\n",
      "Hyper-parameters at iteration 0 : [  2.89512165e+01   2.53213926e+02   1.00000000e-02]\n",
      "Hyper-parameters at iteration 1 : [  2.89531673e+01   2.53217327e+02   1.00000000e-02]\n",
      "Hyper-parameters at iteration 2 : [  2.89531673e+01   2.53217327e+02   1.00000000e-02]\n",
      "Hyper-parameters at iteration 3 : [  2.89531673e+01   2.53217327e+02   1.00000000e-02]\n",
      "\tHyper-parameters at outter iteration 22 : [  2.89531673e+01   2.53217327e+02   1.00000000e-02]\n",
      "Hyper-parameters at iteration 0 : [  2.89531673e+01   2.53217327e+02   1.00000000e-02]\n",
      "\tHyper-parameters at outter iteration 23 : [  2.89531673e+01   2.53217327e+02   1.00000000e-02]\n",
      "Hyper-parameters at iteration 0 : [  2.89531673e+01   2.53217327e+02   1.00000000e-02]\n",
      "Hyper-parameters at iteration 1 : [  2.89524141e+01   2.53219434e+02   1.00000000e-02]\n",
      "\tHyper-parameters at outter iteration 24 : [  2.89524141e+01   2.53219434e+02   1.00000000e-02]\n",
      "Hyper-parameters at iteration 0 : [  2.89524141e+01   2.53219434e+02   1.00000000e-02]\n",
      "Hyper-parameters at iteration 1 : [  2.89524187e+01   2.53219410e+02   1.00000000e-02]\n",
      "Hyper-parameters at iteration 2 : [  2.89524187e+01   2.53219410e+02   1.00000000e-02]\n",
      "\tHyper-parameters at outter iteration 25 : [  2.89524187e+01   2.53219410e+02   1.00000000e-02]\n",
      "Hyper-parameters at iteration 0 : [  2.89524187e+01   2.53219410e+02   1.00000000e-02]\n",
      "\tHyper-parameters at outter iteration 26 : [  2.89524187e+01   2.53219410e+02   1.00000000e-02]\n",
      "Hyper-parameters at iteration 0 : [  2.89524187e+01   2.53219410e+02   1.00000000e-02]\n",
      "Hyper-parameters at iteration 1 : [  2.89531673e+01   2.53221680e+02   1.00000000e-02]\n",
      "Hyper-parameters at iteration 2 : [  2.89531673e+01   2.53221680e+02   1.00000000e-02]\n",
      "Hyper-parameters at iteration 3 : [  2.89531673e+01   2.53221680e+02   1.00000000e-02]\n",
      "Hyper-parameters at iteration 4 : [  2.89531673e+01   2.53221680e+02   1.00000000e-02]\n",
      "\tHyper-parameters at outter iteration 27 : [  2.89531673e+01   2.53221680e+02   1.00000000e-02]\n",
      "Hyper-parameters at iteration 0 : [  2.89531673e+01   2.53221680e+02   1.00000000e-02]\n",
      "Hyper-parameters at iteration 1 : [  2.89531674e+01   2.53221681e+02   1.00000000e-02]\n",
      "Hyper-parameters at iteration 2 : [  2.89531674e+01   2.53221681e+02   1.00000000e-02]\n",
      "\tHyper-parameters at outter iteration 28 : [  2.89531674e+01   2.53221681e+02   1.00000000e-02]\n",
      "Hyper-parameters at iteration 0 : [  2.89531674e+01   2.53221681e+02   1.00000000e-02]\n",
      "Hyper-parameters at iteration 1 : [  2.89531674e+01   2.53221681e+02   1.00000000e-02]\n",
      "\tHyper-parameters at outter iteration 29 : [  2.89531674e+01   2.53221681e+02   1.00000000e-02]\n",
      "Hyper-parameters at iteration 0 : [  2.89531674e+01   2.53221681e+02   1.00000000e-02]\n",
      "Hyper-parameters at iteration 1 : [  2.89527495e+01   2.53225585e+02   1.00000000e-02]\n",
      "Hyper-parameters at iteration 2 : [  2.89527495e+01   2.53225585e+02   1.00000000e-02]\n",
      "Hyper-parameters at iteration 3 : [  2.89527495e+01   2.53225585e+02   1.00000000e-02]\n",
      "\tHyper-parameters at outter iteration 30 : [  2.89527495e+01   2.53225585e+02   1.00000000e-02]\n",
      "Hyper-parameters at iteration 0 : [  2.89527495e+01   2.53225585e+02   1.00000000e-02]\n",
      "Hyper-parameters at iteration 1 : [  2.89526522e+01   2.53229896e+02   1.00000000e-02]\n",
      "Hyper-parameters at iteration 2 : [  2.89526522e+01   2.53229896e+02   1.00000000e-02]\n",
      "Hyper-parameters at iteration 3 : [  2.89526522e+01   2.53229896e+02   1.00000000e-02]\n",
      "Hyper-parameters at iteration 4 : [  2.89526522e+01   2.53229896e+02   1.00000000e-02]\n",
      "\tHyper-parameters at outter iteration 31 : [  2.89526522e+01   2.53229896e+02   1.00000000e-02]\n",
      "Hyper-parameters at iteration 0 : [  2.89526522e+01   2.53229896e+02   1.00000000e-02]\n",
      "Hyper-parameters at iteration 1 : [  2.89526523e+01   2.53229896e+02   1.00000000e-02]\n",
      "\tHyper-parameters at outter iteration 32 : [  2.89526523e+01   2.53229896e+02   1.00000000e-02]\n",
      "Hyper-parameters at iteration 0 : [  2.89526523e+01   2.53229896e+02   1.00000000e-02]\n",
      "Hyper-parameters at iteration 1 : [  2.89526523e+01   2.53229896e+02   1.00000000e-02]\n",
      "\tHyper-parameters at outter iteration 33 : [  2.89526523e+01   2.53229896e+02   1.00000000e-02]\n",
      "Hyper-parameters at iteration 0 : [  2.89526523e+01   2.53229896e+02   1.00000000e-02]\n",
      "Hyper-parameters at iteration 1 : [  2.89549611e+01   2.53234449e+02   1.00000000e-02]\n",
      "Hyper-parameters at iteration 2 : [  2.89549611e+01   2.53234449e+02   1.00000000e-02]\n",
      "Hyper-parameters at iteration 3 : [  2.89549611e+01   2.53234449e+02   1.00000000e-02]\n",
      "Hyper-parameters at iteration 4 : [  2.89549611e+01   2.53234449e+02   1.00000000e-02]\n",
      "\tHyper-parameters at outter iteration 34 : [  2.89549611e+01   2.53234449e+02   1.00000000e-02]\n",
      "Hyper-parameters at iteration 0 : [  2.89549611e+01   2.53234449e+02   1.00000000e-02]\n",
      "Hyper-parameters at iteration 1 : [  2.89549611e+01   2.53234449e+02   1.00000000e-02]\n",
      "\tHyper-parameters at outter iteration 35 : [  2.89549611e+01   2.53234449e+02   1.00000000e-02]\n",
      "Hyper-parameters at iteration 0 : [  2.89549611e+01   2.53234449e+02   1.00000000e-02]\n",
      "Hyper-parameters at iteration 1 : [  2.89544511e+01   2.53230967e+02   1.00000000e-02]\n",
      "Hyper-parameters at iteration 2 : [  2.89544511e+01   2.53230967e+02   1.00000000e-02]\n",
      "\tHyper-parameters at outter iteration 36 : [  2.89544511e+01   2.53230967e+02   1.00000000e-02]\n",
      "Hyper-parameters at iteration 0 : [  2.89544511e+01   2.53230967e+02   1.00000000e-02]\n",
      "Hyper-parameters at iteration 1 : [  2.89544511e+01   2.53230967e+02   1.00000000e-02]\n",
      "Hyper-parameters at iteration 2 : [  2.89544511e+01   2.53230967e+02   1.00000000e-02]\n",
      "\tHyper-parameters at outter iteration 37 : [  2.89544511e+01   2.53230967e+02   1.00000000e-02]\n",
      "Hyper-parameters at iteration 0 : [  2.89544511e+01   2.53230967e+02   1.00000000e-02]\n",
      "Hyper-parameters at iteration 1 : [  2.89539726e+01   2.53235254e+02   1.00000000e-02]\n",
      "\tHyper-parameters at outter iteration 38 : [  2.89539726e+01   2.53235254e+02   1.00000000e-02]\n",
      "Hyper-parameters at iteration 0 : [  2.89539726e+01   2.53235254e+02   1.00000000e-02]\n",
      "Hyper-parameters at iteration 1 : [  2.89546833e+01   2.53237780e+02   1.00000000e-02]\n",
      "Hyper-parameters at iteration 2 : [  2.89545828e+01   2.53237427e+02   1.00000000e-02]\n",
      "Hyper-parameters at iteration 3 : [  2.89545828e+01   2.53237427e+02   1.00000000e-02]\n",
      "\tHyper-parameters at outter iteration 39 : [  2.89545828e+01   2.53237427e+02   1.00000000e-02]\n",
      "Hyper-parameters at iteration 0 : [  2.89545828e+01   2.53237427e+02   1.00000000e-02]\n",
      "Hyper-parameters at iteration 1 : [  2.89545828e+01   2.53237427e+02   1.00000000e-02]\n",
      "\tHyper-parameters at outter iteration 40 : [  2.89545828e+01   2.53237427e+02   1.00000000e-02]\n",
      "Hyper-parameters at iteration 0 : [  2.89545828e+01   2.53237427e+02   1.00000000e-02]\n",
      "Hyper-parameters at iteration 1 : [  2.89545828e+01   2.53237427e+02   1.00000000e-02]\n",
      "Hyper-parameters at iteration 2 : [  2.89545828e+01   2.53237427e+02   1.00000000e-02]\n",
      "\tHyper-parameters at outter iteration 41 : [  2.89545828e+01   2.53237427e+02   1.00000000e-02]\n",
      "Hyper-parameters at iteration 0 : [  2.89545828e+01   2.53237427e+02   1.00000000e-02]\n",
      "Hyper-parameters at iteration 1 : [  2.89545828e+01   2.53237427e+02   1.00000000e-02]\n",
      "Hyper-parameters at iteration 2 : [  2.89545828e+01   2.53237427e+02   1.00000000e-02]\n",
      "Hyper-parameters at iteration 3 : [  2.89545828e+01   2.53237427e+02   1.00000000e-02]\n",
      "Hyper-parameters at iteration 4 : [  2.89545828e+01   2.53237427e+02   1.00000000e-02]\n",
      "Hyper-parameters at iteration 5 : [  2.89545828e+01   2.53237427e+02   1.00000000e-02]\n",
      "\tHyper-parameters at outter iteration 42 : [  2.89545828e+01   2.53237427e+02   1.00000000e-02]\n",
      "Hyper-parameters at iteration 0 : [  2.89545828e+01   2.53237427e+02   1.00000000e-02]\n",
      "Hyper-parameters at iteration 1 : [  2.89545829e+01   2.53237427e+02   1.00000000e-02]\n",
      "\tHyper-parameters at outter iteration 43 : [  2.89545829e+01   2.53237427e+02   1.00000000e-02]\n",
      "Hyper-parameters at iteration 0 : [  2.89545829e+01   2.53237427e+02   1.00000000e-02]\n",
      "Hyper-parameters at iteration 1 : [  2.89547564e+01   2.53239957e+02   1.00000000e-02]\n",
      "\tHyper-parameters at outter iteration 44 : [  2.89547564e+01   2.53239957e+02   1.00000000e-02]\n",
      "Hyper-parameters at iteration 0 : [  2.89547564e+01   2.53239957e+02   1.00000000e-02]\n",
      "Hyper-parameters at iteration 1 : [  2.89543913e+01   2.53241601e+02   1.00000000e-02]\n",
      "Hyper-parameters at iteration 2 : [  2.89560106e+01   2.53247379e+02   1.00000000e-02]\n",
      "Hyper-parameters at iteration 3 : [  2.89575086e+01   2.53254043e+02   1.00000000e-02]\n",
      "Hyper-parameters at iteration 4 : [  2.89575086e+01   2.53254043e+02   1.00000000e-02]\n",
      "Hyper-parameters at iteration 5 : [  2.89575086e+01   2.53254043e+02   1.00000000e-02]\n",
      "\tHyper-parameters at outter iteration 45 : [  2.89575086e+01   2.53254043e+02   1.00000000e-02]\n",
      "Hyper-parameters at iteration 0 : [  2.89575086e+01   2.53254043e+02   1.00000000e-02]\n",
      "\tHyper-parameters at outter iteration 46 : [  2.89575086e+01   2.53254043e+02   1.00000000e-02]\n",
      "Hyper-parameters at iteration 0 : [  2.89575086e+01   2.53254043e+02   1.00000000e-02]\n",
      "Hyper-parameters at iteration 1 : [  2.89575077e+01   2.53254046e+02   1.00000000e-02]\n",
      "Hyper-parameters at iteration 2 : [  2.89575077e+01   2.53254046e+02   1.00000000e-02]\n",
      "\tHyper-parameters at outter iteration 47 : [  2.89575077e+01   2.53254046e+02   1.00000000e-02]\n",
      "Hyper-parameters at iteration 0 : [  2.89575077e+01   2.53254046e+02   1.00000000e-02]\n",
      "Hyper-parameters at iteration 1 : [  2.89575059e+01   2.53254058e+02   1.00000000e-02]\n",
      "Hyper-parameters at iteration 2 : [  2.89575059e+01   2.53254058e+02   1.00000000e-02]\n",
      "Hyper-parameters at iteration 3 : [  2.89575059e+01   2.53254058e+02   1.00000000e-02]\n",
      "\tHyper-parameters at outter iteration 48 : [  2.89575059e+01   2.53254058e+02   1.00000000e-02]\n",
      "Hyper-parameters at iteration 0 : [  2.89575059e+01   2.53254058e+02   1.00000000e-02]\n",
      "Hyper-parameters at iteration 1 : [  2.89575055e+01   2.53254058e+02   1.00000000e-02]\n",
      "Hyper-parameters at iteration 2 : [  2.89575055e+01   2.53254058e+02   1.00000000e-02]\n",
      "\tHyper-parameters at outter iteration 49 : [  2.89575055e+01   2.53254058e+02   1.00000000e-02]\n"
     ]
    }
   ],
   "source": [
    "opts = {'maxiter':10, 'mydisp': True}\n",
    "vi_res = vi_gp.fit(x_tr, y_tr, inputs=inputs, optimizer_options=opts, max_out_iter=50)"
   ]
  },
  {
   "cell_type": "code",
   "execution_count": 26,
   "metadata": {
    "collapsed": true
   },
   "outputs": [],
   "source": [
    "metric = lambda w: vi_gp.get_prediction_quality(w, x_test, y_test)\n",
    "vi_x_lst, vi_y_lst = vi_res.plot_performance(metric, 't', freq=5)"
   ]
  },
  {
   "cell_type": "code",
   "execution_count": 27,
   "metadata": {
    "collapsed": false
   },
   "outputs": [
    {
     "data": {
      "text/plain": [
       "<matplotlib.text.Text at 0x10e7b8ba8>"
      ]
     },
     "execution_count": 27,
     "metadata": {},
     "output_type": "execute_result"
    },
    {
     "data": {
      "image/png": "[encoded data removed]",
      "text/plain": [
       "<matplotlib.figure.Figure at 0x10e7b17f0>"
      ]
     },
     "metadata": {},
     "output_type": "display_data"
    }
   ],
   "source": [
    "plt.plot(vi_x_lst[1:], vi_y_lst[1:], '-bx', label='vi-means-c')\n",
    "# plt.plot(svi_x_lst[1:100], svi_y_lst[1:100], '-gx', label='svi-L-BFGS-B-c')\n",
    "plt.ylim([0.6, 1.])\n",
    "plt.legend()\n",
    "plt.xlabel('Seconds')\n",
    "plt.ylabel('Accuracy')"
   ]
  },
  {
   "cell_type": "markdown",
   "metadata": {},
   "source": [
    "## svi-AdaDelta-c\n",
    "Подберем шаг для метода"
   ]
  },
  {
   "cell_type": "code",
   "execution_count": 28,
   "metadata": {
    "collapsed": false
   },
   "outputs": [
    {
     "name": "stderr",
     "output_type": "stream",
     "text": [
      "/Users/IzmailovPavel/Documents/Education/Course Project/Code/GP/gaussian_process_classification.py:605: RuntimeWarning: invalid value encountered in log\n",
      "  loss += np.sum(np.log(np.diag(sigma_L))) * l / N\n"
     ]
    }
   ],
   "source": [
    "results = []\n",
    "steps = [2., 1., 0.5, 0.3, 0.1, 0.01]\n",
    "for step in steps:\n",
    "    model_covariance_obj = SquaredExponential(np.copy(cov_params))\n",
    "    ad_gp = GPC(model_covariance_obj, method='svi', hermgauss_deg=100)\n",
    "\n",
    "    opts = {'mode': 'adadelta', 'maxiter': 20, 'verbose': False, 'batch_size': 200, \n",
    "            'step_rate': step}#, 'print_freq':50}\n",
    "    batch_res = ad_gp.fit(x_tr, y_tr, inputs=inputs, optimizer_options=opts)\n",
    "    results.append(batch_res)"
   ]
  },
  {
   "cell_type": "code",
   "execution_count": 29,
   "metadata": {
    "collapsed": false
   },
   "outputs": [
    {
     "name": "stdout",
     "output_type": "stream",
     "text": [
      "0\n",
      "1\n",
      "2\n",
      "3\n",
      "4\n",
      "5\n"
     ]
    },
    {
     "data": {
      "text/plain": [
       "<matplotlib.text.Text at 0x1066db7f0>"
      ]
     },
     "execution_count": 29,
     "metadata": {},
     "output_type": "execute_result"
    },
    {
     "data": {
      "image/png": "[encoded data removed]",
      "text/plain": [
       "<matplotlib.figure.Figure at 0x10e7bd668>"
      ]
     },
     "metadata": {},
     "output_type": "display_data"
    }
   ],
   "source": [
    "metric = lambda w: ad_gp.get_prediction_quality(w, x_test, y_test)\n",
    "for i in range(len(results)):\n",
    "    svi_ad_x_lst, svi_ad_y_lst = results[i].plot_performance(metric, 't', freq=4)\n",
    "    plt.plot(svi_ad_x_lst[1:], svi_ad_y_lst[1:], label=steps[i])\n",
    "    print(i)\n",
    "plt.ylim([0.6, 1.])\n",
    "plt.legend()\n",
    "plt.xlabel('Seconds')\n",
    "plt.ylabel('Accuracy')"
   ]
  },
  {
   "cell_type": "code",
   "execution_count": 30,
   "metadata": {
    "collapsed": false
   },
   "outputs": [
    {
     "name": "stdout",
     "output_type": "stream",
     "text": [
      "Iteration  50 :\n",
      "\tGradient norm 23.4228202917\n",
      "Iteration  100 :\n",
      "\tGradient norm 22.7249890059\n",
      "Iteration  150 :\n",
      "\tGradient norm 23.8282245924\n",
      "Iteration  200 :\n",
      "\tGradient norm 25.4792721019\n",
      "Iteration  250 :\n",
      "\tGradient norm 31.2177743341\n",
      "Iteration  300 :\n",
      "\tGradient norm 19.9198783927\n",
      "Iteration  350 :\n",
      "\tGradient norm 31.4732613346\n",
      "Iteration  400 :\n",
      "\tGradient norm 19.9995188911\n",
      "Iteration  450 :\n",
      "\tGradient norm 15.2013645099\n",
      "Iteration  500 :\n",
      "\tGradient norm 18.7355324636\n",
      "Iteration  550 :\n",
      "\tGradient norm 17.5951876982\n",
      "Iteration  600 :\n",
      "\tGradient norm 25.7272372386\n",
      "Iteration  650 :\n",
      "\tGradient norm 16.1253184703\n",
      "Iteration  700 :\n",
      "\tGradient norm 28.1819553307\n",
      "Iteration  750 :\n",
      "\tGradient norm 13.9651183437\n",
      "Iteration  800 :\n",
      "\tGradient norm 19.6835281795\n",
      "Iteration  850 :\n",
      "\tGradient norm 18.4336359007\n",
      "Iteration  900 :\n",
      "\tGradient norm 12.2852385119\n",
      "Iteration  950 :\n",
      "\tGradient norm 25.7352182163\n",
      "Iteration  1000 :\n",
      "\tGradient norm 16.7524589539\n",
      "Iteration  1050 :\n",
      "\tGradient norm 11.757683168\n",
      "Iteration  1100 :\n",
      "\tGradient norm 13.7899813744\n",
      "Iteration  1150 :\n",
      "\tGradient norm 22.1249727287\n",
      "Iteration  1200 :\n",
      "\tGradient norm 19.746438741\n",
      "Iteration  1250 :\n",
      "\tGradient norm 23.377309128\n",
      "Iteration  1300 :\n",
      "\tGradient norm 22.0623182857\n",
      "Iteration  1350 :\n",
      "\tGradient norm 11.2464320945\n",
      "Iteration  1400 :\n",
      "\tGradient norm 27.6583703726\n",
      "Iteration  1450 :\n",
      "\tGradient norm 16.8477378091\n",
      "Iteration  1500 :\n",
      "\tGradient norm 11.9513194851\n",
      "Iteration  1550 :\n",
      "\tGradient norm 16.8630102893\n",
      "Iteration  1600 :\n",
      "\tGradient norm 10.88556016\n",
      "Iteration  1650 :\n",
      "\tGradient norm 10.8278939128\n",
      "Iteration  1700 :\n",
      "\tGradient norm 10.3581198235\n",
      "Iteration  1750 :\n",
      "\tGradient norm 31.4855567145\n",
      "Iteration  1800 :\n",
      "\tGradient norm 31.8213478327\n",
      "Iteration  1850 :\n",
      "\tGradient norm 38.4716910326\n",
      "Iteration  1900 :\n",
      "\tGradient norm 17.2274143782\n",
      "Iteration  1950 :\n",
      "\tGradient norm 19.7551580661\n",
      "Iteration  2000 :\n",
      "\tGradient norm 91.9128113794\n",
      "Iteration  2050 :\n",
      "\tGradient norm 29.4837513707\n",
      "Iteration  2100 :\n",
      "\tGradient norm 21.9976376032\n",
      "Iteration  2150 :\n",
      "\tGradient norm 13.6349347812\n",
      "Iteration  2200 :\n",
      "\tGradient norm 17.7652475612\n",
      "Iteration  2250 :\n",
      "\tGradient norm 9.56392818893\n",
      "Iteration  2300 :\n",
      "\tGradient norm 13.2579170055\n",
      "Iteration  2350 :\n",
      "\tGradient norm 21.7040865735\n",
      "Iteration  2400 :\n",
      "\tGradient norm 10.8681955777\n",
      "Iteration  2450 :\n",
      "\tGradient norm 11.7252018426\n",
      "Iteration  2500 :\n",
      "\tGradient norm 13.7165888319\n",
      "Iteration  2550 :\n",
      "\tGradient norm 20.2751986375\n",
      "Iteration  2600 :\n",
      "\tGradient norm 14.0571821968\n",
      "Iteration  2650 :\n",
      "\tGradient norm 23.9597161095\n",
      "Iteration  2700 :\n",
      "\tGradient norm 11.1549581273\n",
      "Iteration  2750 :\n",
      "\tGradient norm 20.7815477386\n",
      "Iteration  2800 :\n",
      "\tGradient norm 27.5180039997\n",
      "Iteration  2850 :\n",
      "\tGradient norm 7.65883204963\n",
      "Iteration  2900 :\n",
      "\tGradient norm 22.8973636563\n",
      "Iteration  2950 :\n",
      "\tGradient norm 15.8517089833\n",
      "Iteration  3000 :\n",
      "\tGradient norm 13.6823147515\n",
      "Iteration  3050 :\n",
      "\tGradient norm 21.9760493167\n",
      "Iteration  3100 :\n",
      "\tGradient norm 10.8481499037\n",
      "Iteration  3150 :\n",
      "\tGradient norm 36.7413715132\n",
      "Iteration  3200 :\n",
      "\tGradient norm 13.9861305074\n",
      "Iteration  3250 :\n",
      "\tGradient norm 26.7698096909\n",
      "Iteration  3300 :\n",
      "\tGradient norm 9.52798711394\n",
      "Iteration  3350 :\n",
      "\tGradient norm 8.18299209568\n",
      "Iteration  3400 :\n",
      "\tGradient norm 11.8398921261\n",
      "Iteration  3450 :\n",
      "\tGradient norm 8.45471438682\n",
      "Iteration  3500 :\n",
      "\tGradient norm 12.6181050935\n",
      "Iteration  3550 :\n",
      "\tGradient norm 12.1623763559\n",
      "Iteration  3600 :\n",
      "\tGradient norm 18.3824188087\n",
      "Iteration  3650 :\n",
      "\tGradient norm 18.56187168\n",
      "Iteration  3700 :\n",
      "\tGradient norm 10.8523545126\n",
      "Iteration  3750 :\n",
      "\tGradient norm 16.8122288518\n",
      "Iteration  3800 :\n",
      "\tGradient norm 12.6050801145\n",
      "Iteration  3850 :\n",
      "\tGradient norm 7.89983148776\n",
      "Iteration  3900 :\n",
      "\tGradient norm 10.7345063265\n",
      "Iteration  3950 :\n",
      "\tGradient norm 19.3603182804\n",
      "Iteration  4000 :\n",
      "\tGradient norm 10.0688738638\n",
      "Iteration  4050 :\n",
      "\tGradient norm 14.5163977592\n",
      "Iteration  4100 :\n",
      "\tGradient norm 29.5689693232\n",
      "Iteration  4150 :\n",
      "\tGradient norm 8.43337361433\n",
      "Iteration  4200 :\n",
      "\tGradient norm 18.7920256335\n",
      "Iteration  4250 :\n",
      "\tGradient norm 28.263314362\n",
      "Iteration  4300 :\n",
      "\tGradient norm 23.1195914972\n",
      "Iteration  4350 :\n",
      "\tGradient norm 16.4400338031\n",
      "Iteration  4400 :\n",
      "\tGradient norm 8.58371987377\n",
      "Iteration  4450 :\n",
      "\tGradient norm 12.1426467148\n",
      "Iteration  4500 :\n",
      "\tGradient norm 13.0890356535\n",
      "Iteration  4550 :\n",
      "\tGradient norm 10.0287566985\n",
      "Iteration  4600 :\n",
      "\tGradient norm 11.6646677943\n",
      "Iteration  4650 :\n",
      "\tGradient norm 14.3608941094\n",
      "Iteration  4700 :\n",
      "\tGradient norm 8.08249993267\n",
      "Iteration  4750 :\n",
      "\tGradient norm 8.79754359171\n",
      "Iteration  4800 :\n",
      "\tGradient norm 9.2138541778\n",
      "Iteration  4850 :\n",
      "\tGradient norm 12.1391151174\n",
      "Iteration  4900 :\n",
      "\tGradient norm 13.8962069686\n",
      "Iteration  4950 :\n",
      "\tGradient norm 11.4188469335\n",
      "Iteration  5000 :\n",
      "\tGradient norm 7.74243289991\n"
     ]
    }
   ],
   "source": [
    "model_covariance_obj = SquaredExponential(np.copy(cov_params))\n",
    "ad_gp = GPC(model_covariance_obj, method='svi', hermgauss_deg=100)\n",
    "opts = {'mode': 'adadelta', 'maxiter': 100, 'verbose': True, 'batch_size': 200, \n",
    "        'step_rate': 1., 'print_freq':1}\n",
    "batch_res = ad_gp.fit(x_tr, y_tr, inputs=inputs, optimizer_options=opts)"
   ]
  },
  {
   "cell_type": "code",
   "execution_count": 31,
   "metadata": {
    "collapsed": false
   },
   "outputs": [
    {
     "data": {
      "text/plain": [
       "<matplotlib.text.Text at 0x11330ae48>"
      ]
     },
     "execution_count": 31,
     "metadata": {},
     "output_type": "execute_result"
    },
    {
     "data": {
      "image/png": "[encoded data removed]",
      "text/plain": [
       "<matplotlib.figure.Figure at 0x112612b70>"
      ]
     },
     "metadata": {},
     "output_type": "display_data"
    }
   ],
   "source": [
    "metric = lambda w: ad_gp.get_prediction_quality(w, x_test, y_test)\n",
    "svi_ad_x_lst, svi_ad_y_lst = batch_res.plot_performance(metric, 't', freq=10)\n",
    "plt.plot(svi_ad_x_lst[1:], svi_ad_y_lst[1:], '-yx', label='svi-AdaDelta-c')\n",
    "plt.ylim([0.7, 1.])\n",
    "plt.legend()\n",
    "plt.xlabel('Seconds')\n",
    "plt.ylabel('Accuracy')"
   ]
  },
  {
   "cell_type": "markdown",
   "metadata": {},
   "source": [
    "## Выводы"
   ]
  },
  {
   "cell_type": "code",
   "execution_count": 32,
   "metadata": {
    "collapsed": false
   },
   "outputs": [
    {
     "data": {
      "text/plain": [
       "<matplotlib.text.Text at 0x10ddf8cf8>"
      ]
     },
     "execution_count": 32,
     "metadata": {},
     "output_type": "execute_result"
    },
    {
     "data": {
      "image/png": "[encoded data removed]",
      "text/plain": [
       "<matplotlib.figure.Figure at 0x1133200f0>"
      ]
     },
     "metadata": {},
     "output_type": "display_data"
    }
   ],
   "source": [
    "plt.figure(figsize=(12, 7))\n",
    "plt.plot(svi_x_lst[1:], svi_y_lst[1:], '-gx', label='svi-L-BFGS-B-c')\n",
    "plt.plot(svi_ad_x_lst[1:], svi_ad_y_lst[1:], '-yx', label='svi-AdaDelta-c')\n",
    "plt.plot(vi_x_lst[1:], vi_y_lst[1:], '-bx', label='vi-means-c')\n",
    "plt.ylim([0.6, 1.])\n",
    "plt.legend()\n",
    "plt.xlabel('Seconds')\n",
    "plt.ylabel('Accuracy')"
   ]
  },
  {
   "cell_type": "code",
   "execution_count": 33,
   "metadata": {
    "collapsed": true
   },
   "outputs": [],
   "source": [
    "np.save('../plots/vi_vs_svi_class/'+ data_name +'_svi_x.npy', svi_x_lst)\n",
    "np.save('../plots/vi_vs_svi_class/'+ data_name +'_svi_y.npy', svi_y_lst)\n",
    "np.save('../plots/vi_vs_svi_class/'+ data_name +'_vi_x.npy', vi_x_lst)\n",
    "np.save('../plots/vi_vs_svi_class/'+ data_name +'_vi_y.npy', vi_y_lst)\n",
    "np.save('../plots/vi_vs_svi_class/'+ data_name +'_ad_x.npy', svi_ad_x_lst)\n",
    "np.save('../plots/vi_vs_svi_class/'+ data_name +'_ad_y.npy', svi_ad_y_lst)"
   ]
  },
  {
   "cell_type": "code",
   "execution_count": null,
   "metadata": {
    "collapsed": true
   },
   "outputs": [],
   "source": []
  }
 ],
 "metadata": {
  "kernelspec": {
   "display_name": "Python 3",
   "language": "python",
   "name": "python3"
  },
  "language_info": {
   "codemirror_mode": {
    "name": "ipython",
    "version": 3
   },
   "file_extension": ".py",
   "mimetype": "text/x-python",
   "name": "python",
   "nbconvert_exporter": "python",
   "pygments_lexer": "ipython3",
   "version": "3.4.3"
  }
 },
 "nbformat": 4,
 "nbformat_minor": 0
}
