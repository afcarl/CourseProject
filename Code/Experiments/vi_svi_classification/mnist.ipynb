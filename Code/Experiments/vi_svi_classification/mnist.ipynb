{
 "cells": [
  {
   "cell_type": "markdown",
   "metadata": {},
   "source": [
    "# mnist"
   ]
  },
  {
   "cell_type": "code",
   "execution_count": 2,
   "metadata": {
    "collapsed": false
   },
   "outputs": [],
   "source": [
    "import sys\n",
    "sys.path.append('/Users/IzmailovPavel/Documents/Education/Course Project/Code')\n",
    "import numpy as np\n",
    "import matplotlib as mpl\n",
    "\n",
    "from matplotlib import pyplot as plt\n",
    "\n",
    "from GP.covariance_functions import SquaredExponential\n",
    "from GP.gaussian_process_classification import GPC\n",
    "\n",
    "from sklearn.cluster import KMeans\n",
    "\n",
    "from sklearn.datasets import load_svmlight_file\n",
    "from sklearn.preprocessing import StandardScaler\n",
    "from sklearn.metrics import accuracy_score\n",
    "from sklearn.utils import shuffle\n",
    "%matplotlib inline\n",
    "%load_ext autoreload\n",
    "%autoreload 2"
   ]
  },
  {
   "cell_type": "markdown",
   "metadata": {},
   "source": [
    "## Данные"
   ]
  },
  {
   "cell_type": "code",
   "execution_count": 4,
   "metadata": {
    "collapsed": false
   },
   "outputs": [
    {
     "name": "stdout",
     "output_type": "stream",
     "text": [
      "of objects: 10000\n",
      "of features: 778\n",
      "mnist\n"
     ]
    }
   ],
   "source": [
    "x_tr, y_tr = load_svmlight_file('../../../../Programming/DataSets/Classification/multiclass/mnist_scale(60000,780).txt')\n",
    "x_tr, y_tr = shuffle(x_tr, y_tr, random_state=241)\n",
    "x_test, y_test = load_svmlight_file('../../../../Programming/DataSets/Classification/multiclass/mnist_scale_test(10000,780).txt')\n",
    "data_name = 'mnist'\n",
    "\n",
    "x_tr = x_tr.toarray()\n",
    "x_test = x_test.toarray()\n",
    "scaler = StandardScaler()\n",
    "x_tr = scaler.fit_transform(x_tr).T\n",
    "x_test = scaler.transform(x_test).T\n",
    "\n",
    "y_tr = (y_tr %2 == 0).astype(float)\n",
    "y_test = (y_test %2 == 0).astype(float)\n",
    "\n",
    "x_tr = (x_tr + 1) / 2\n",
    "x_test = (x_test + 1) / 2\n",
    "y_tr = y_tr[:, None]\n",
    "y_test = y_test[:, None]\n",
    "y_tr[y_tr == 0] = -1\n",
    "y_test[y_test == 0] = -1\n",
    "dim, num = x_tr.shape\n",
    "print('of objects:', num)\n",
    "print('of features:', dim)\n",
    "print(data_name)"
   ]
  },
  {
   "cell_type": "markdown",
   "metadata": {},
   "source": [
    "## K-Means cluster centers"
   ]
  },
  {
   "cell_type": "code",
   "execution_count": 5,
   "metadata": {
    "collapsed": false
   },
   "outputs": [
    {
     "name": "stdout",
     "output_type": "stream",
     "text": [
      "Finding means...\n",
      "...found\n"
     ]
    }
   ],
   "source": [
    "ind_num = 1000\n",
    "print('Finding means...')\n",
    "means = KMeans(n_clusters=ind_num, n_init=3, max_iter=100, random_state=241)\n",
    "means.fit(x_tr.T)\n",
    "inputs = means.cluster_centers_.T\n",
    "print('...found')"
   ]
  },
  {
   "cell_type": "code",
   "execution_count": 6,
   "metadata": {
    "collapsed": true
   },
   "outputs": [],
   "source": [
    "with open('../plots/vi_vs_svi_class/'+ data_name +'_title.txt', 'w') as f:\n",
    "    title = data_name + ' dataset, ' + 'n = ' + str(num) + ', d = ' + str(dim) + ', m = ' + str(ind_num)\n",
    "    f.write(title)"
   ]
  },
  {
   "cell_type": "code",
   "execution_count": 7,
   "metadata": {
    "collapsed": true
   },
   "outputs": [],
   "source": [
    "cov_params = np.array([150., 200., 0.01])"
   ]
  },
  {
   "cell_type": "markdown",
   "metadata": {},
   "source": [
    "## svi-L-BFGS-B-c method"
   ]
  },
  {
   "cell_type": "code",
   "execution_count": 20,
   "metadata": {
    "collapsed": true
   },
   "outputs": [],
   "source": [
    "model_covariance_obj = SquaredExponential(np.copy(cov_params))\n",
    "svi_gp = GPC(model_covariance_obj, method='svi')"
   ]
  },
  {
   "cell_type": "code",
   "execution_count": 21,
   "metadata": {
    "collapsed": false
   },
   "outputs": [],
   "source": [
    "opts = {'mode': 'full', 'maxiter': 200, 'mydisp': False}\n",
    "svi_res = svi_gp.fit(x_tr, y_tr, inputs=inputs, optimizer_options=opts)"
   ]
  },
  {
   "cell_type": "code",
   "execution_count": 22,
   "metadata": {
    "collapsed": false
   },
   "outputs": [],
   "source": [
    "metric = lambda w: svi_gp.get_prediction_quality(w, x_test, y_test)\n",
    "svi_x_lst, svi_y_lst = svi_res.plot_performance(metric, 't', freq=10)"
   ]
  },
  {
   "cell_type": "code",
   "execution_count": 23,
   "metadata": {
    "collapsed": false
   },
   "outputs": [
    {
     "data": {
      "text/plain": [
       "<matplotlib.text.Text at 0x10dc69160>"
      ]
     },
     "execution_count": 23,
     "metadata": {},
     "output_type": "execute_result"
    },
    {
     "data": {
      "image/png": "[encoded data removed]",
      "text/plain": [
       "<matplotlib.figure.Figure at 0x10da96dd8>"
      ]
     },
     "metadata": {},
     "output_type": "display_data"
    }
   ],
   "source": [
    "plt.plot(svi_x_lst[1:], svi_y_lst[1:], '-gx', label='svi-L-BFGS-B-c')\n",
    "plt.ylim([0.5, 1.])\n",
    "plt.legend()\n",
    "plt.xlabel('Seconds')\n",
    "plt.ylabel('Accuracy')"
   ]
  },
  {
   "cell_type": "markdown",
   "metadata": {},
   "source": [
    "## vi-means-c method\n",
    "Подбор числа пересчетов"
   ]
  },
  {
   "cell_type": "code",
   "execution_count": 7,
   "metadata": {
    "collapsed": false
   },
   "outputs": [
    {
     "name": "stdout",
     "output_type": "stream",
     "text": [
      "5\n",
      "Hyper-parameters at iteration 0 : [  1.50000000e+02   2.00000000e+02   1.00000000e-02]\n",
      "Hyper-parameters at iteration 1 : [  1.05351242e+02   2.34522356e+02   1.00000000e-02]\n",
      "Hyper-parameters at iteration 2 : [  5.60827986e+01   2.49729979e+02   1.00000000e-02]\n",
      "Hyper-parameters at iteration 3 : [  4.41149114e+01   2.51814080e+02   1.00000000e-02]\n",
      "Hyper-parameters at iteration 4 : [  4.28073715e+01   2.52036751e+02   1.00000000e-02]\n",
      "\tHyper-parameters at outter iteration 0 : [  4.31851341e+01   2.51976494e+02   1.00000000e-02]\n",
      "Hyper-parameters at iteration 0 : [  4.31851341e+01   2.51976494e+02   1.00000000e-02]\n",
      "Hyper-parameters at iteration 1 : [  3.58137817e+01   2.53257999e+02   1.00000000e-02]\n",
      "Hyper-parameters at iteration 2 : [  3.50587493e+01   2.53388500e+02   1.00000000e-02]\n",
      "Hyper-parameters at iteration 3 : [  3.52453436e+01   2.53356848e+02   1.00000000e-02]\n",
      "\tHyper-parameters at outter iteration 1 : [  3.52453436e+01   2.53356848e+02   1.00000000e-02]\n",
      "Hyper-parameters at iteration 0 : [  3.52453436e+01   2.53356848e+02   1.00000000e-02]\n",
      "Hyper-parameters at iteration 1 : [  3.17699847e+01   2.53853823e+02   1.00000000e-02]\n",
      "Hyper-parameters at iteration 2 : [  3.23920208e+01   2.53766147e+02   1.00000000e-02]\n",
      "Hyper-parameters at iteration 3 : [  3.23215927e+01   2.53776339e+02   1.00000000e-02]\n",
      "\tHyper-parameters at outter iteration 2 : [  3.23215927e+01   2.53776339e+02   1.00000000e-02]\n",
      "Hyper-parameters at iteration 0 : [  3.23215927e+01   2.53776339e+02   1.00000000e-02]\n",
      "Hyper-parameters at iteration 1 : [  3.03712869e+01   2.54039495e+02   1.00000000e-02]\n",
      "Hyper-parameters at iteration 2 : [  3.08744264e+01   2.53972126e+02   1.00000000e-02]\n",
      "\tHyper-parameters at outter iteration 3 : [  3.08744264e+01   2.53972126e+02   1.00000000e-02]\n",
      "Hyper-parameters at iteration 0 : [  3.08744264e+01   2.53972126e+02   1.00000000e-02]\n",
      "Hyper-parameters at iteration 1 : [  2.97235466e+01   2.54120437e+02   1.00000000e-02]\n",
      "Hyper-parameters at iteration 2 : [  3.00595067e+01   2.54077508e+02   1.00000000e-02]\n",
      "\tHyper-parameters at outter iteration 4 : [  3.00595065e+01   2.54077508e+02   1.00000000e-02]\n",
      "Hyper-parameters at iteration 0 : [  3.00595065e+01   2.54077508e+02   1.00000000e-02]\n",
      "Hyper-parameters at iteration 1 : [  2.94095484e+01   2.54161424e+02   1.00000000e-02]\n",
      "Hyper-parameters at iteration 2 : [  2.96115195e+01   2.54135545e+02   1.00000000e-02]\n",
      "\tHyper-parameters at outter iteration 5 : [  2.96115195e+01   2.54135545e+02   1.00000000e-02]\n",
      "Hyper-parameters at iteration 0 : [  2.96115195e+01   2.54135545e+02   1.00000000e-02]\n",
      "Hyper-parameters at iteration 1 : [  2.92494995e+01   2.54185315e+02   1.00000000e-02]\n",
      "Hyper-parameters at iteration 2 : [  2.93653306e+01   2.54169424e+02   1.00000000e-02]\n",
      "\tHyper-parameters at outter iteration 6 : [  2.93653306e+01   2.54169424e+02   1.00000000e-02]\n",
      "\n",
      "10\n",
      "Hyper-parameters at iteration 0 : [  1.50000000e+02   2.00000000e+02   1.00000000e-02]\n",
      "Hyper-parameters at iteration 1 : [  1.05351242e+02   2.34522356e+02   1.00000000e-02]\n",
      "Hyper-parameters at iteration 2 : [  5.60827986e+01   2.49729979e+02   1.00000000e-02]\n",
      "Hyper-parameters at iteration 3 : [  4.41149114e+01   2.51814080e+02   1.00000000e-02]\n",
      "Hyper-parameters at iteration 4 : [  4.28073715e+01   2.52036751e+02   1.00000000e-02]\n",
      "Hyper-parameters at iteration 5 : [  4.31851341e+01   2.51976494e+02   1.00000000e-02]\n",
      "Hyper-parameters at iteration 6 : [  4.31738560e+01   2.51982110e+02   1.00000000e-02]\n",
      "\tHyper-parameters at outter iteration 0 : [  4.31738560e+01   2.51982110e+02   1.00000000e-02]\n",
      "Hyper-parameters at iteration 0 : [  4.31738560e+01   2.51982110e+02   1.00000000e-02]\n",
      "Hyper-parameters at iteration 1 : [  3.58070621e+01   2.53263120e+02   1.00000000e-02]\n",
      "Hyper-parameters at iteration 2 : [  3.50608919e+01   2.53391696e+02   1.00000000e-02]\n",
      "Hyper-parameters at iteration 3 : [  3.52439915e+01   2.53360912e+02   1.00000000e-02]\n",
      "Hyper-parameters at iteration 4 : [  3.52404366e+01   2.53362101e+02   1.00000000e-02]\n",
      "\tHyper-parameters at outter iteration 1 : [  3.52404366e+01   2.53362101e+02   1.00000000e-02]\n",
      "Hyper-parameters at iteration 0 : [  3.52404366e+01   2.53362101e+02   1.00000000e-02]\n",
      "Hyper-parameters at iteration 1 : [  3.17698527e+01   2.53846885e+02   1.00000000e-02]\n",
      "Hyper-parameters at iteration 2 : [  3.23900951e+01   2.53761055e+02   1.00000000e-02]\n",
      "Hyper-parameters at iteration 3 : [  3.23194653e+01   2.53771014e+02   1.00000000e-02]\n",
      "Hyper-parameters at iteration 4 : [  3.23171808e+01   2.53771710e+02   1.00000000e-02]\n",
      "\tHyper-parameters at outter iteration 2 : [  3.23171808e+01   2.53771710e+02   1.00000000e-02]\n",
      "Hyper-parameters at iteration 0 : [  3.23171808e+01   2.53771710e+02   1.00000000e-02]\n",
      "Hyper-parameters at iteration 1 : [  3.03702205e+01   2.54022094e+02   1.00000000e-02]\n",
      "Hyper-parameters at iteration 2 : [  3.08720214e+01   2.53957721e+02   1.00000000e-02]\n",
      "Hyper-parameters at iteration 3 : [  3.08399123e+01   2.53961941e+02   1.00000000e-02]\n",
      "\tHyper-parameters at outter iteration 3 : [  3.08399123e+01   2.53961941e+02   1.00000000e-02]\n",
      "Hyper-parameters at iteration 0 : [  3.08399123e+01   2.53961941e+02   1.00000000e-02]\n",
      "Hyper-parameters at iteration 1 : [  2.97238602e+01   2.54102435e+02   1.00000000e-02]\n",
      "Hyper-parameters at iteration 2 : [  3.00511216e+01   2.54061326e+02   1.00000000e-02]\n",
      "\tHyper-parameters at outter iteration 4 : [  3.00511216e+01   2.54061326e+02   1.00000000e-02]\n",
      "Hyper-parameters at iteration 0 : [  3.00511216e+01   2.54061326e+02   1.00000000e-02]\n",
      "Hyper-parameters at iteration 1 : [  2.94058265e+01   2.54144394e+02   1.00000000e-02]\n",
      "Hyper-parameters at iteration 2 : [  2.96066690e+01   2.54118703e+02   1.00000000e-02]\n",
      "Hyper-parameters at iteration 3 : [  2.96022162e+01   2.54119416e+02   1.00000000e-02]\n",
      "\tHyper-parameters at outter iteration 5 : [  2.96022162e+01   2.54119416e+02   1.00000000e-02]\n",
      "Hyper-parameters at iteration 0 : [  2.96022162e+01   2.54119416e+02   1.00000000e-02]\n",
      "Hyper-parameters at iteration 1 : [  2.92463694e+01   2.54163278e+02   1.00000000e-02]\n",
      "Hyper-parameters at iteration 2 : [  2.93604438e+01   2.54149407e+02   1.00000000e-02]\n",
      "Hyper-parameters at iteration 3 : [  2.93604438e+01   2.54149407e+02   1.00000000e-02]\n",
      "\tHyper-parameters at outter iteration 6 : [  2.93604438e+01   2.54149407e+02   1.00000000e-02]\n",
      "\n",
      "15\n",
      "Hyper-parameters at iteration 0 : [  1.50000000e+02   2.00000000e+02   1.00000000e-02]\n",
      "Hyper-parameters at iteration 1 : [  1.05351242e+02   2.34522356e+02   1.00000000e-02]\n",
      "Hyper-parameters at iteration 2 : [  5.60827986e+01   2.49729979e+02   1.00000000e-02]\n",
      "Hyper-parameters at iteration 3 : [  4.41149114e+01   2.51814080e+02   1.00000000e-02]\n",
      "Hyper-parameters at iteration 4 : [  4.28073715e+01   2.52036751e+02   1.00000000e-02]\n",
      "Hyper-parameters at iteration 5 : [  4.31851341e+01   2.51976494e+02   1.00000000e-02]\n",
      "Hyper-parameters at iteration 6 : [  4.31738560e+01   2.51982110e+02   1.00000000e-02]\n",
      "\tHyper-parameters at outter iteration 0 : [  4.31738560e+01   2.51982110e+02   1.00000000e-02]\n",
      "Hyper-parameters at iteration 0 : [  4.31738560e+01   2.51982110e+02   1.00000000e-02]\n",
      "Hyper-parameters at iteration 1 : [  3.58097808e+01   2.53254040e+02   1.00000000e-02]\n",
      "Hyper-parameters at iteration 2 : [  3.50570347e+01   2.53383202e+02   1.00000000e-02]\n",
      "Hyper-parameters at iteration 3 : [  3.52420900e+01   2.53352174e+02   1.00000000e-02]\n",
      "Hyper-parameters at iteration 4 : [  3.52420900e+01   2.53352174e+02   1.00000000e-02]\n",
      "\tHyper-parameters at outter iteration 1 : [  3.52420146e+01   2.53352150e+02   1.00000000e-02]\n",
      "Hyper-parameters at iteration 0 : [  3.52420146e+01   2.53352150e+02   1.00000000e-02]\n",
      "Hyper-parameters at iteration 1 : [  3.17697098e+01   2.53840188e+02   1.00000000e-02]\n",
      "Hyper-parameters at iteration 2 : [  3.23907352e+01   2.53753253e+02   1.00000000e-02]\n",
      "Hyper-parameters at iteration 3 : [  3.23178713e+01   2.53764042e+02   1.00000000e-02]\n",
      "Hyper-parameters at iteration 4 : [  3.23145509e+01   2.53765242e+02   1.00000000e-02]\n",
      "Hyper-parameters at iteration 5 : [  3.23156103e+01   2.53765130e+02   1.00000000e-02]\n",
      "\tHyper-parameters at outter iteration 2 : [  3.23156103e+01   2.53765130e+02   1.00000000e-02]\n",
      "Hyper-parameters at iteration 0 : [  3.23156103e+01   2.53765130e+02   1.00000000e-02]\n",
      "Hyper-parameters at iteration 1 : [  3.03688746e+01   2.54028978e+02   1.00000000e-02]\n",
      "Hyper-parameters at iteration 2 : [  3.08716131e+01   2.53961347e+02   1.00000000e-02]\n",
      "Hyper-parameters at iteration 3 : [  3.08696679e+01   2.53961625e+02   1.00000000e-02]\n",
      "Hyper-parameters at iteration 4 : [  3.08535433e+01   2.53959930e+02   1.00000000e-02]\n",
      "\tHyper-parameters at outter iteration 3 : [  3.08535433e+01   2.53959930e+02   1.00000000e-02]\n",
      "Hyper-parameters at iteration 0 : [  3.08535433e+01   2.53959930e+02   1.00000000e-02]\n",
      "Hyper-parameters at iteration 1 : [  2.97233487e+01   2.54105871e+02   1.00000000e-02]\n",
      "Hyper-parameters at iteration 2 : [  3.00540848e+01   2.54063451e+02   1.00000000e-02]\n",
      "\tHyper-parameters at outter iteration 4 : [  3.00540848e+01   2.54063451e+02   1.00000000e-02]\n",
      "Hyper-parameters at iteration 0 : [  3.00540848e+01   2.54063451e+02   1.00000000e-02]\n",
      "Hyper-parameters at iteration 1 : [  2.94063214e+01   2.54146874e+02   1.00000000e-02]\n",
      "Hyper-parameters at iteration 2 : [  2.96077626e+01   2.54121184e+02   1.00000000e-02]\n",
      "\tHyper-parameters at outter iteration 5 : [  2.96077626e+01   2.54121184e+02   1.00000000e-02]\n",
      "Hyper-parameters at iteration 0 : [  2.96077626e+01   2.54121184e+02   1.00000000e-02]\n",
      "Hyper-parameters at iteration 1 : [  2.92478933e+01   2.54169760e+02   1.00000000e-02]\n",
      "Hyper-parameters at iteration 2 : [  2.93628180e+01   2.54154509e+02   1.00000000e-02]\n",
      "Hyper-parameters at iteration 3 : [  2.93614283e+01   2.54154761e+02   1.00000000e-02]\n",
      "\tHyper-parameters at outter iteration 6 : [  2.93614283e+01   2.54154761e+02   1.00000000e-02]\n",
      "\n",
      "20\n",
      "Hyper-parameters at iteration 0 : [  1.50000000e+02   2.00000000e+02   1.00000000e-02]\n",
      "Hyper-parameters at iteration 1 : [  1.05351242e+02   2.34522356e+02   1.00000000e-02]\n",
      "Hyper-parameters at iteration 2 : [  5.60827986e+01   2.49729979e+02   1.00000000e-02]\n",
      "Hyper-parameters at iteration 3 : [  4.41149114e+01   2.51814080e+02   1.00000000e-02]\n",
      "Hyper-parameters at iteration 4 : [  4.28073715e+01   2.52036751e+02   1.00000000e-02]\n",
      "Hyper-parameters at iteration 5 : [  4.31851341e+01   2.51976494e+02   1.00000000e-02]\n",
      "Hyper-parameters at iteration 6 : [  4.31738560e+01   2.51982110e+02   1.00000000e-02]\n",
      "\tHyper-parameters at outter iteration 0 : [  4.31738560e+01   2.51982110e+02   1.00000000e-02]\n",
      "Hyper-parameters at iteration 0 : [  4.31738560e+01   2.51982110e+02   1.00000000e-02]\n",
      "Hyper-parameters at iteration 1 : [  3.58070621e+01   2.53263120e+02   1.00000000e-02]\n",
      "Hyper-parameters at iteration 2 : [  3.50608919e+01   2.53391696e+02   1.00000000e-02]\n",
      "Hyper-parameters at iteration 3 : [  3.52439915e+01   2.53360912e+02   1.00000000e-02]\n",
      "Hyper-parameters at iteration 4 : [  3.52404366e+01   2.53362101e+02   1.00000000e-02]\n",
      "\tHyper-parameters at outter iteration 1 : [  3.52404366e+01   2.53362101e+02   1.00000000e-02]\n",
      "Hyper-parameters at iteration 0 : [  3.52404366e+01   2.53362101e+02   1.00000000e-02]\n",
      "Hyper-parameters at iteration 1 : [  3.17700072e+01   2.53850618e+02   1.00000000e-02]\n",
      "Hyper-parameters at iteration 2 : [  3.23892024e+01   2.53764725e+02   1.00000000e-02]\n",
      "\tHyper-parameters at outter iteration 2 : [  3.23892024e+01   2.53764725e+02   1.00000000e-02]\n",
      "Hyper-parameters at iteration 0 : [  3.23892024e+01   2.53764725e+02   1.00000000e-02]\n",
      "Hyper-parameters at iteration 1 : [  3.03722460e+01   2.54021941e+02   1.00000000e-02]\n",
      "Hyper-parameters at iteration 2 : [  3.08878833e+01   2.53956474e+02   1.00000000e-02]\n",
      "Hyper-parameters at iteration 3 : [  3.08878833e+01   2.53956474e+02   1.00000000e-02]\n",
      "\tHyper-parameters at outter iteration 3 : [  3.08878833e+01   2.53956474e+02   1.00000000e-02]\n",
      "Hyper-parameters at iteration 0 : [  3.08878833e+01   2.53956474e+02   1.00000000e-02]\n",
      "Hyper-parameters at iteration 1 : [  2.97267707e+01   2.54111547e+02   1.00000000e-02]\n",
      "Hyper-parameters at iteration 2 : [  3.00656781e+01   2.54066691e+02   1.00000000e-02]\n",
      "Hyper-parameters at iteration 3 : [  3.00652284e+01   2.54066764e+02   1.00000000e-02]\n",
      "Hyper-parameters at iteration 4 : [  3.00652284e+01   2.54066764e+02   1.00000000e-02]\n",
      "Hyper-parameters at iteration 5 : [  3.00444501e+01   2.54069149e+02   1.00000000e-02]\n",
      "Hyper-parameters at iteration 6 : [  3.00444590e+01   2.54069148e+02   1.00000000e-02]\n",
      "\tHyper-parameters at outter iteration 4 : [  3.00444948e+01   2.54069144e+02   1.00000000e-02]\n",
      "Hyper-parameters at iteration 0 : [  3.00444948e+01   2.54069144e+02   1.00000000e-02]\n",
      "Hyper-parameters at iteration 1 : [  2.94143868e+01   2.54147142e+02   1.00000000e-02]\n",
      "Hyper-parameters at iteration 2 : [  2.96096119e+01   2.54123084e+02   1.00000000e-02]\n",
      "Hyper-parameters at iteration 3 : [  2.96054706e+01   2.54123733e+02   1.00000000e-02]\n",
      "Hyper-parameters at iteration 4 : [  2.96054706e+01   2.54123733e+02   1.00000000e-02]\n",
      "\tHyper-parameters at outter iteration 5 : [  2.96053075e+01   2.54123771e+02   1.00000000e-02]\n",
      "Hyper-parameters at iteration 0 : [  2.96053075e+01   2.54123771e+02   1.00000000e-02]\n",
      "Hyper-parameters at iteration 1 : [  2.92487163e+01   2.54163005e+02   1.00000000e-02]\n",
      "Hyper-parameters at iteration 2 : [  2.93627431e+01   2.54150483e+02   1.00000000e-02]\n",
      "Hyper-parameters at iteration 3 : [  2.93627431e+01   2.54150483e+02   1.00000000e-02]\n",
      "\tHyper-parameters at outter iteration 6 : [  2.93627431e+01   2.54150483e+02   1.00000000e-02]\n",
      "\n"
     ]
    }
   ],
   "source": [
    "maxfuns = [5, 10, 15, 20]\n",
    "results = []\n",
    "for maxfun in maxfuns:\n",
    "    print(maxfun)\n",
    "    model_covariance_obj = SquaredExponential(np.copy(cov_params))\n",
    "    vi_gp = GPC(model_covariance_obj, method='vi')\n",
    "    opts = {'maxfun':maxfun, 'mydisp': True, 'num_updates':5}\n",
    "    results.append(vi_gp.fit(x_tr, y_tr, inputs=inputs, optimizer_options=opts, max_out_iter=7))\n",
    "    print()"
   ]
  },
  {
   "cell_type": "code",
   "execution_count": 8,
   "metadata": {
    "collapsed": false
   },
   "outputs": [
    {
     "name": "stdout",
     "output_type": "stream",
     "text": [
      "0\n",
      "1\n",
      "2\n",
      "3\n"
     ]
    },
    {
     "data": {
      "text/plain": [
       "<matplotlib.text.Text at 0x1067cd9b0>"
      ]
     },
     "execution_count": 8,
     "metadata": {},
     "output_type": "execute_result"
    },
    {
     "data": {
      "image/png": "[encoded data removed]",
      "text/plain": [
       "<matplotlib.figure.Figure at 0x106c86b00>"
      ]
     },
     "metadata": {},
     "output_type": "display_data"
    }
   ],
   "source": [
    "metric = lambda w: vi_gp.get_prediction_quality(w, x_test, y_test)\n",
    "for i in range(len(maxfuns)):\n",
    "    vi_x_lst, vi_y_lst = results[i].plot_performance(metric, 't', freq=1)\n",
    "    plt.plot(vi_x_lst[1:], vi_y_lst[1:], label=maxfuns[i])\n",
    "    print(i)\n",
    "plt.ylim([0.85, 1.])\n",
    "plt.legend()\n",
    "plt.xlabel('Seconds')\n",
    "plt.ylabel('Accuracy')"
   ]
  },
  {
   "cell_type": "markdown",
   "metadata": {},
   "source": [
    "Обучим лучшую модель"
   ]
  },
  {
   "cell_type": "code",
   "execution_count": 34,
   "metadata": {
    "collapsed": false,
    "scrolled": true
   },
   "outputs": [
    {
     "name": "stdout",
     "output_type": "stream",
     "text": [
      "Hyper-parameters at iteration 0 : [  1.50000000e+02   2.00000000e+02   1.00000000e-02]\n",
      "Hyper-parameters at iteration 1 : [  1.27704108e+02   2.19102963e+02   1.00000000e-02]\n",
      "Hyper-parameters at iteration 2 : [  7.13722816e+01   2.50319126e+02   1.00000000e-02]\n",
      "Hyper-parameters at iteration 3 : [  5.39990063e+01   2.58146480e+02   1.00000000e-02]\n",
      "\tHyper-parameters at outter iteration 0 : [  4.61744130e+01   2.61622445e+02   1.00000000e-02]\n",
      "Hyper-parameters at iteration 0 : [  4.61744130e+01   2.61622445e+02   1.00000000e-02]\n",
      "Hyper-parameters at iteration 1 : [  4.26221729e+01   2.62328138e+02   1.00000000e-02]\n",
      "Hyper-parameters at iteration 2 : [  3.81469554e+01   2.63252238e+02   1.00000000e-02]\n",
      "Hyper-parameters at iteration 3 : [  3.93960833e+01   2.63004472e+02   1.00000000e-02]\n",
      "\tHyper-parameters at outter iteration 1 : [  3.93959293e+01   2.63004504e+02   1.00000000e-02]\n",
      "Hyper-parameters at iteration 0 : [  3.93959293e+01   2.63004504e+02   1.00000000e-02]\n",
      "Hyper-parameters at iteration 1 : [  3.83361406e+01   2.63121942e+02   1.00000000e-02]\n",
      "Hyper-parameters at iteration 2 : [  3.77249159e+01   2.63202231e+02   1.00000000e-02]\n",
      "\tHyper-parameters at outter iteration 2 : [  3.77249159e+01   2.63202231e+02   1.00000000e-02]\n",
      "Hyper-parameters at iteration 0 : [  3.77249159e+01   2.63202231e+02   1.00000000e-02]\n",
      "Hyper-parameters at iteration 1 : [  3.73904242e+01   2.63197717e+02   1.00000000e-02]\n",
      "Hyper-parameters at iteration 2 : [  3.72279402e+01   2.63179082e+02   1.00000000e-02]\n",
      "Hyper-parameters at iteration 3 : [  3.72305080e+01   2.63174327e+02   1.00000000e-02]\n",
      "Hyper-parameters at iteration 4 : [  3.72345720e+01   2.63175742e+02   1.00000000e-02]\n",
      "\tHyper-parameters at outter iteration 3 : [  3.72362387e+01   2.63176554e+02   1.00000000e-02]\n",
      "Hyper-parameters at iteration 0 : [  3.72362387e+01   2.63176554e+02   1.00000000e-02]\n",
      "Hyper-parameters at iteration 1 : [  3.70898013e+01   2.63350384e+02   1.00000000e-02]\n",
      "\tHyper-parameters at outter iteration 4 : [  3.70898013e+01   2.63350384e+02   1.00000000e-02]\n"
     ]
    }
   ],
   "source": [
    "model_covariance_obj = SquaredExponential(np.copy(cov_params))\n",
    "vi_gp = GPC(model_covariance_obj, method='vi')\n",
    "opts = {'maxfun':5, 'mydisp': True, 'num_updates':3}\n",
    "vi_res = vi_gp.fit(x_tr, y_tr, inputs=inputs, optimizer_options=opts, max_out_iter=5)"
   ]
  },
  {
   "cell_type": "code",
   "execution_count": 35,
   "metadata": {
    "collapsed": false
   },
   "outputs": [
    {
     "name": "stdout",
     "output_type": "stream",
     "text": [
      "0.8968\n"
     ]
    }
   ],
   "source": [
    "predicted = vi_gp.predict(x_test)\n",
    "print(accuracy_score(y_test, predicted))"
   ]
  },
  {
   "cell_type": "code",
   "execution_count": 36,
   "metadata": {
    "collapsed": false
   },
   "outputs": [
    {
     "ename": "KeyboardInterrupt",
     "evalue": "",
     "output_type": "error",
     "traceback": [
      "\u001b[0;31m---------------------------------------------------------------------------\u001b[0m",
      "\u001b[0;31mKeyboardInterrupt\u001b[0m                         Traceback (most recent call last)",
      "\u001b[0;32m<ipython-input-36-ec75d8d425de>\u001b[0m in \u001b[0;36m<module>\u001b[0;34m()\u001b[0m\n\u001b[1;32m      1\u001b[0m \u001b[0mmetric\u001b[0m \u001b[0;34m=\u001b[0m \u001b[0;32mlambda\u001b[0m \u001b[0mw\u001b[0m\u001b[0;34m:\u001b[0m \u001b[0mvi_gp\u001b[0m\u001b[0;34m.\u001b[0m\u001b[0mget_prediction_quality\u001b[0m\u001b[0;34m(\u001b[0m\u001b[0mw\u001b[0m\u001b[0;34m,\u001b[0m \u001b[0mx_test\u001b[0m\u001b[0;34m,\u001b[0m \u001b[0my_test\u001b[0m\u001b[0;34m)\u001b[0m\u001b[0;34m\u001b[0m\u001b[0m\n\u001b[0;32m----> 2\u001b[0;31m \u001b[0mvi_x_lst\u001b[0m\u001b[0;34m,\u001b[0m \u001b[0mvi_y_lst\u001b[0m \u001b[0;34m=\u001b[0m \u001b[0mvi_res\u001b[0m\u001b[0;34m.\u001b[0m\u001b[0mplot_performance\u001b[0m\u001b[0;34m(\u001b[0m\u001b[0mmetric\u001b[0m\u001b[0;34m,\u001b[0m \u001b[0;34m't'\u001b[0m\u001b[0;34m,\u001b[0m \u001b[0mfreq\u001b[0m\u001b[0;34m=\u001b[0m\u001b[0;36m1\u001b[0m\u001b[0;34m)\u001b[0m\u001b[0;34m\u001b[0m\u001b[0m\n\u001b[0m\u001b[1;32m      3\u001b[0m \u001b[0mplt\u001b[0m\u001b[0;34m.\u001b[0m\u001b[0mplot\u001b[0m\u001b[0;34m(\u001b[0m\u001b[0mvi_x_lst\u001b[0m\u001b[0;34m[\u001b[0m\u001b[0;36m1\u001b[0m\u001b[0;34m:\u001b[0m\u001b[0;34m]\u001b[0m\u001b[0;34m,\u001b[0m \u001b[0mvi_y_lst\u001b[0m\u001b[0;34m[\u001b[0m\u001b[0;36m1\u001b[0m\u001b[0;34m:\u001b[0m\u001b[0;34m]\u001b[0m\u001b[0;34m,\u001b[0m \u001b[0;34m'-bx'\u001b[0m\u001b[0;34m,\u001b[0m \u001b[0mlabel\u001b[0m\u001b[0;34m=\u001b[0m\u001b[0;34m'vi-means-c'\u001b[0m\u001b[0;34m)\u001b[0m\u001b[0;34m\u001b[0m\u001b[0m\n\u001b[1;32m      4\u001b[0m \u001b[0mplt\u001b[0m\u001b[0;34m.\u001b[0m\u001b[0mylim\u001b[0m\u001b[0;34m(\u001b[0m\u001b[0;34m[\u001b[0m\u001b[0;36m0.6\u001b[0m\u001b[0;34m,\u001b[0m \u001b[0;36m1.\u001b[0m\u001b[0;34m]\u001b[0m\u001b[0;34m)\u001b[0m\u001b[0;34m\u001b[0m\u001b[0m\n\u001b[1;32m      5\u001b[0m \u001b[0mplt\u001b[0m\u001b[0;34m.\u001b[0m\u001b[0mlegend\u001b[0m\u001b[0;34m(\u001b[0m\u001b[0;34m)\u001b[0m\u001b[0;34m\u001b[0m\u001b[0m\n",
      "\u001b[0;32m/Users/IzmailovPavel/Documents/Education/Course Project/Code/GP/gp_res.py\u001b[0m in \u001b[0;36mplot_performance\u001b[0;34m(self, metrics, it_time, freq)\u001b[0m\n\u001b[1;32m     22\u001b[0m \u001b[0;34m\u001b[0m\u001b[0m\n\u001b[1;32m     23\u001b[0m     \u001b[0;32mdef\u001b[0m \u001b[0mplot_performance\u001b[0m\u001b[0;34m(\u001b[0m\u001b[0mself\u001b[0m\u001b[0;34m,\u001b[0m \u001b[0mmetrics\u001b[0m\u001b[0;34m,\u001b[0m \u001b[0mit_time\u001b[0m\u001b[0;34m=\u001b[0m\u001b[0;34m'i'\u001b[0m\u001b[0;34m,\u001b[0m \u001b[0mfreq\u001b[0m\u001b[0;34m=\u001b[0m\u001b[0;36m1\u001b[0m\u001b[0;34m)\u001b[0m\u001b[0;34m:\u001b[0m\u001b[0;34m\u001b[0m\u001b[0m\n\u001b[0;32m---> 24\u001b[0;31m         \u001b[0my_lst\u001b[0m \u001b[0;34m=\u001b[0m \u001b[0;34m[\u001b[0m\u001b[0mmetrics\u001b[0m\u001b[0;34m(\u001b[0m\u001b[0mself\u001b[0m\u001b[0;34m.\u001b[0m\u001b[0mparams\u001b[0m\u001b[0;34m[\u001b[0m\u001b[0mi\u001b[0m\u001b[0;34m]\u001b[0m\u001b[0;34m)\u001b[0m \u001b[0;32mfor\u001b[0m \u001b[0mi\u001b[0m \u001b[0;32min\u001b[0m \u001b[0mrange\u001b[0m\u001b[0;34m(\u001b[0m\u001b[0mlen\u001b[0m\u001b[0;34m(\u001b[0m\u001b[0mself\u001b[0m\u001b[0;34m.\u001b[0m\u001b[0mparams\u001b[0m\u001b[0;34m)\u001b[0m\u001b[0;34m)\u001b[0m \u001b[0;32mif\u001b[0m \u001b[0;32mnot\u001b[0m \u001b[0;34m(\u001b[0m\u001b[0mi\u001b[0m \u001b[0;34m%\u001b[0m \u001b[0mfreq\u001b[0m\u001b[0;34m)\u001b[0m\u001b[0;34m]\u001b[0m\u001b[0;34m\u001b[0m\u001b[0m\n\u001b[0m\u001b[1;32m     25\u001b[0m         \u001b[0;32mif\u001b[0m \u001b[0mit_time\u001b[0m \u001b[0;34m==\u001b[0m \u001b[0;34m'i'\u001b[0m\u001b[0;34m:\u001b[0m\u001b[0;34m\u001b[0m\u001b[0m\n\u001b[1;32m     26\u001b[0m             \u001b[0mx_lst\u001b[0m \u001b[0;34m=\u001b[0m \u001b[0;34m[\u001b[0m\u001b[0mself\u001b[0m\u001b[0;34m.\u001b[0m\u001b[0miters\u001b[0m\u001b[0;34m[\u001b[0m\u001b[0mi\u001b[0m\u001b[0;34m]\u001b[0m \u001b[0;32mfor\u001b[0m \u001b[0mi\u001b[0m \u001b[0;32min\u001b[0m \u001b[0mrange\u001b[0m\u001b[0;34m(\u001b[0m\u001b[0mlen\u001b[0m\u001b[0;34m(\u001b[0m\u001b[0mself\u001b[0m\u001b[0;34m.\u001b[0m\u001b[0miters\u001b[0m\u001b[0;34m)\u001b[0m\u001b[0;34m)\u001b[0m \u001b[0;32mif\u001b[0m \u001b[0;32mnot\u001b[0m\u001b[0;34m(\u001b[0m\u001b[0mi\u001b[0m\u001b[0;34m%\u001b[0m\u001b[0mfreq\u001b[0m\u001b[0;34m)\u001b[0m\u001b[0;34m]\u001b[0m\u001b[0;34m\u001b[0m\u001b[0m\n",
      "\u001b[0;32m/Users/IzmailovPavel/Documents/Education/Course Project/Code/GP/gp_res.py\u001b[0m in \u001b[0;36m<listcomp>\u001b[0;34m(.0)\u001b[0m\n\u001b[1;32m     22\u001b[0m \u001b[0;34m\u001b[0m\u001b[0m\n\u001b[1;32m     23\u001b[0m     \u001b[0;32mdef\u001b[0m \u001b[0mplot_performance\u001b[0m\u001b[0;34m(\u001b[0m\u001b[0mself\u001b[0m\u001b[0;34m,\u001b[0m \u001b[0mmetrics\u001b[0m\u001b[0;34m,\u001b[0m \u001b[0mit_time\u001b[0m\u001b[0;34m=\u001b[0m\u001b[0;34m'i'\u001b[0m\u001b[0;34m,\u001b[0m \u001b[0mfreq\u001b[0m\u001b[0;34m=\u001b[0m\u001b[0;36m1\u001b[0m\u001b[0;34m)\u001b[0m\u001b[0;34m:\u001b[0m\u001b[0;34m\u001b[0m\u001b[0m\n\u001b[0;32m---> 24\u001b[0;31m         \u001b[0my_lst\u001b[0m \u001b[0;34m=\u001b[0m \u001b[0;34m[\u001b[0m\u001b[0mmetrics\u001b[0m\u001b[0;34m(\u001b[0m\u001b[0mself\u001b[0m\u001b[0;34m.\u001b[0m\u001b[0mparams\u001b[0m\u001b[0;34m[\u001b[0m\u001b[0mi\u001b[0m\u001b[0;34m]\u001b[0m\u001b[0;34m)\u001b[0m \u001b[0;32mfor\u001b[0m \u001b[0mi\u001b[0m \u001b[0;32min\u001b[0m \u001b[0mrange\u001b[0m\u001b[0;34m(\u001b[0m\u001b[0mlen\u001b[0m\u001b[0;34m(\u001b[0m\u001b[0mself\u001b[0m\u001b[0;34m.\u001b[0m\u001b[0mparams\u001b[0m\u001b[0;34m)\u001b[0m\u001b[0;34m)\u001b[0m \u001b[0;32mif\u001b[0m \u001b[0;32mnot\u001b[0m \u001b[0;34m(\u001b[0m\u001b[0mi\u001b[0m \u001b[0;34m%\u001b[0m \u001b[0mfreq\u001b[0m\u001b[0;34m)\u001b[0m\u001b[0;34m]\u001b[0m\u001b[0;34m\u001b[0m\u001b[0m\n\u001b[0m\u001b[1;32m     25\u001b[0m         \u001b[0;32mif\u001b[0m \u001b[0mit_time\u001b[0m \u001b[0;34m==\u001b[0m \u001b[0;34m'i'\u001b[0m\u001b[0;34m:\u001b[0m\u001b[0;34m\u001b[0m\u001b[0m\n\u001b[1;32m     26\u001b[0m             \u001b[0mx_lst\u001b[0m \u001b[0;34m=\u001b[0m \u001b[0;34m[\u001b[0m\u001b[0mself\u001b[0m\u001b[0;34m.\u001b[0m\u001b[0miters\u001b[0m\u001b[0;34m[\u001b[0m\u001b[0mi\u001b[0m\u001b[0;34m]\u001b[0m \u001b[0;32mfor\u001b[0m \u001b[0mi\u001b[0m \u001b[0;32min\u001b[0m \u001b[0mrange\u001b[0m\u001b[0;34m(\u001b[0m\u001b[0mlen\u001b[0m\u001b[0;34m(\u001b[0m\u001b[0mself\u001b[0m\u001b[0;34m.\u001b[0m\u001b[0miters\u001b[0m\u001b[0;34m)\u001b[0m\u001b[0;34m)\u001b[0m \u001b[0;32mif\u001b[0m \u001b[0;32mnot\u001b[0m\u001b[0;34m(\u001b[0m\u001b[0mi\u001b[0m\u001b[0;34m%\u001b[0m\u001b[0mfreq\u001b[0m\u001b[0;34m)\u001b[0m\u001b[0;34m]\u001b[0m\u001b[0;34m\u001b[0m\u001b[0m\n",
      "\u001b[0;32m<ipython-input-36-ec75d8d425de>\u001b[0m in \u001b[0;36m<lambda>\u001b[0;34m(w)\u001b[0m\n\u001b[0;32m----> 1\u001b[0;31m \u001b[0mmetric\u001b[0m \u001b[0;34m=\u001b[0m \u001b[0;32mlambda\u001b[0m \u001b[0mw\u001b[0m\u001b[0;34m:\u001b[0m \u001b[0mvi_gp\u001b[0m\u001b[0;34m.\u001b[0m\u001b[0mget_prediction_quality\u001b[0m\u001b[0;34m(\u001b[0m\u001b[0mw\u001b[0m\u001b[0;34m,\u001b[0m \u001b[0mx_test\u001b[0m\u001b[0;34m,\u001b[0m \u001b[0my_test\u001b[0m\u001b[0;34m)\u001b[0m\u001b[0;34m\u001b[0m\u001b[0m\n\u001b[0m\u001b[1;32m      2\u001b[0m \u001b[0mvi_x_lst\u001b[0m\u001b[0;34m,\u001b[0m \u001b[0mvi_y_lst\u001b[0m \u001b[0;34m=\u001b[0m \u001b[0mvi_res\u001b[0m\u001b[0;34m.\u001b[0m\u001b[0mplot_performance\u001b[0m\u001b[0;34m(\u001b[0m\u001b[0mmetric\u001b[0m\u001b[0;34m,\u001b[0m \u001b[0;34m't'\u001b[0m\u001b[0;34m,\u001b[0m \u001b[0mfreq\u001b[0m\u001b[0;34m=\u001b[0m\u001b[0;36m1\u001b[0m\u001b[0;34m)\u001b[0m\u001b[0;34m\u001b[0m\u001b[0m\n\u001b[1;32m      3\u001b[0m \u001b[0mplt\u001b[0m\u001b[0;34m.\u001b[0m\u001b[0mplot\u001b[0m\u001b[0;34m(\u001b[0m\u001b[0mvi_x_lst\u001b[0m\u001b[0;34m[\u001b[0m\u001b[0;36m1\u001b[0m\u001b[0;34m:\u001b[0m\u001b[0;34m]\u001b[0m\u001b[0;34m,\u001b[0m \u001b[0mvi_y_lst\u001b[0m\u001b[0;34m[\u001b[0m\u001b[0;36m1\u001b[0m\u001b[0;34m:\u001b[0m\u001b[0;34m]\u001b[0m\u001b[0;34m,\u001b[0m \u001b[0;34m'-bx'\u001b[0m\u001b[0;34m,\u001b[0m \u001b[0mlabel\u001b[0m\u001b[0;34m=\u001b[0m\u001b[0;34m'vi-means-c'\u001b[0m\u001b[0;34m)\u001b[0m\u001b[0;34m\u001b[0m\u001b[0m\n\u001b[1;32m      4\u001b[0m \u001b[0mplt\u001b[0m\u001b[0;34m.\u001b[0m\u001b[0mylim\u001b[0m\u001b[0;34m(\u001b[0m\u001b[0;34m[\u001b[0m\u001b[0;36m0.6\u001b[0m\u001b[0;34m,\u001b[0m \u001b[0;36m1.\u001b[0m\u001b[0;34m]\u001b[0m\u001b[0;34m)\u001b[0m\u001b[0;34m\u001b[0m\u001b[0m\n\u001b[1;32m      5\u001b[0m \u001b[0mplt\u001b[0m\u001b[0;34m.\u001b[0m\u001b[0mlegend\u001b[0m\u001b[0;34m(\u001b[0m\u001b[0;34m)\u001b[0m\u001b[0;34m\u001b[0m\u001b[0m\n",
      "\u001b[0;32m/Users/IzmailovPavel/Documents/Education/Course Project/Code/GP/gaussian_process_classification.py\u001b[0m in \u001b[0;36mget_prediction_quality\u001b[0;34m(self, *args, **kwargs)\u001b[0m\n\u001b[1;32m    916\u001b[0m         \u001b[0;32mif\u001b[0m \u001b[0mself\u001b[0m\u001b[0;34m.\u001b[0m\u001b[0mmethod\u001b[0m \u001b[0;34m==\u001b[0m \u001b[0;34m'vi'\u001b[0m\u001b[0;34m:\u001b[0m\u001b[0;34m\u001b[0m\u001b[0m\n\u001b[1;32m    917\u001b[0m             \u001b[0;31m# raise ValueError('Not implemented yet')\u001b[0m\u001b[0;34m\u001b[0m\u001b[0;34m\u001b[0m\u001b[0m\n\u001b[0;32m--> 918\u001b[0;31m             \u001b[0;32mreturn\u001b[0m \u001b[0mself\u001b[0m\u001b[0;34m.\u001b[0m\u001b[0m_vi_get_prediction_quality\u001b[0m\u001b[0;34m(\u001b[0m\u001b[0;34m*\u001b[0m\u001b[0margs\u001b[0m\u001b[0;34m,\u001b[0m \u001b[0;34m**\u001b[0m\u001b[0mkwargs\u001b[0m\u001b[0;34m)\u001b[0m\u001b[0;34m\u001b[0m\u001b[0m\n\u001b[0m\u001b[1;32m    919\u001b[0m         \u001b[0;32melif\u001b[0m \u001b[0mself\u001b[0m\u001b[0;34m.\u001b[0m\u001b[0mmethod\u001b[0m \u001b[0;34m==\u001b[0m \u001b[0;34m'svi'\u001b[0m\u001b[0;34m:\u001b[0m\u001b[0;34m\u001b[0m\u001b[0m\n\u001b[1;32m    920\u001b[0m             \u001b[0;32mreturn\u001b[0m \u001b[0mself\u001b[0m\u001b[0;34m.\u001b[0m\u001b[0m_svi_get_prediction_quality\u001b[0m\u001b[0;34m(\u001b[0m\u001b[0;34m*\u001b[0m\u001b[0margs\u001b[0m\u001b[0;34m,\u001b[0m \u001b[0;34m**\u001b[0m\u001b[0mkwargs\u001b[0m\u001b[0;34m)\u001b[0m\u001b[0;34m\u001b[0m\u001b[0m\n",
      "\u001b[0;32m/Users/IzmailovPavel/Documents/Education/Course Project/Code/GP/gaussian_process_classification.py\u001b[0m in \u001b[0;36m_vi_get_prediction_quality\u001b[0;34m(self, params, test_points, test_targets)\u001b[0m\n\u001b[1;32m    908\u001b[0m         \u001b[0mnew_gp\u001b[0m\u001b[0;34m.\u001b[0m\u001b[0mcovariance_obj\u001b[0m\u001b[0;34m.\u001b[0m\u001b[0mset_params\u001b[0m\u001b[0;34m(\u001b[0m\u001b[0mtheta\u001b[0m\u001b[0;34m)\u001b[0m\u001b[0;34m\u001b[0m\u001b[0m\n\u001b[1;32m    909\u001b[0m         \u001b[0mnew_gp\u001b[0m\u001b[0;34m.\u001b[0m\u001b[0minducing_inputs\u001b[0m \u001b[0;34m=\u001b[0m \u001b[0;34m(\u001b[0m\u001b[0mnew_gp\u001b[0m\u001b[0;34m.\u001b[0m\u001b[0minducing_inputs\u001b[0m\u001b[0;34m[\u001b[0m\u001b[0;36m0\u001b[0m\u001b[0;34m]\u001b[0m\u001b[0;34m,\u001b[0m \u001b[0mmu\u001b[0m\u001b[0;34m,\u001b[0m \u001b[0mSigma\u001b[0m\u001b[0;34m)\u001b[0m\u001b[0;34m\u001b[0m\u001b[0m\n\u001b[0;32m--> 910\u001b[0;31m         \u001b[0mpredicted_y_test\u001b[0m \u001b[0;34m=\u001b[0m \u001b[0mnew_gp\u001b[0m\u001b[0;34m.\u001b[0m\u001b[0mpredict\u001b[0m\u001b[0;34m(\u001b[0m\u001b[0mtest_points\u001b[0m\u001b[0;34m)\u001b[0m\u001b[0;34m\u001b[0m\u001b[0m\n\u001b[0m\u001b[1;32m    911\u001b[0m         \u001b[0;31m# return f1_score(test_targets, predicted_y_test)\u001b[0m\u001b[0;34m\u001b[0m\u001b[0;34m\u001b[0m\u001b[0m\n\u001b[1;32m    912\u001b[0m         \u001b[0;32mreturn\u001b[0m \u001b[0;36m1\u001b[0m \u001b[0;34m-\u001b[0m \u001b[0mnp\u001b[0m\u001b[0;34m.\u001b[0m\u001b[0msum\u001b[0m\u001b[0;34m(\u001b[0m\u001b[0mtest_targets\u001b[0m \u001b[0;34m!=\u001b[0m \u001b[0mpredicted_y_test\u001b[0m\u001b[0;34m)\u001b[0m \u001b[0;34m/\u001b[0m \u001b[0mtest_targets\u001b[0m\u001b[0;34m.\u001b[0m\u001b[0msize\u001b[0m\u001b[0;34m\u001b[0m\u001b[0m\n",
      "\u001b[0;32m/Users/IzmailovPavel/Documents/Education/Course Project/Code/GP/gaussian_process_classification.py\u001b[0m in \u001b[0;36mpredict\u001b[0;34m(self, *args, **kwargs)\u001b[0m\n\u001b[1;32m    252\u001b[0m             \u001b[0;32mreturn\u001b[0m \u001b[0mself\u001b[0m\u001b[0;34m.\u001b[0m\u001b[0m_brute_predict\u001b[0m\u001b[0;34m(\u001b[0m\u001b[0;34m*\u001b[0m\u001b[0margs\u001b[0m\u001b[0;34m,\u001b[0m \u001b[0;34m**\u001b[0m\u001b[0mkwargs\u001b[0m\u001b[0;34m)\u001b[0m\u001b[0;34m\u001b[0m\u001b[0m\n\u001b[1;32m    253\u001b[0m         \u001b[0;32melif\u001b[0m \u001b[0mself\u001b[0m\u001b[0;34m.\u001b[0m\u001b[0mmethod\u001b[0m \u001b[0;34m==\u001b[0m \u001b[0;34m'svi'\u001b[0m \u001b[0;32mor\u001b[0m \u001b[0mself\u001b[0m\u001b[0;34m.\u001b[0m\u001b[0mmethod\u001b[0m \u001b[0;34m==\u001b[0m \u001b[0;34m'vi'\u001b[0m\u001b[0;34m:\u001b[0m\u001b[0;34m\u001b[0m\u001b[0m\n\u001b[0;32m--> 254\u001b[0;31m             \u001b[0;32mreturn\u001b[0m \u001b[0mself\u001b[0m\u001b[0;34m.\u001b[0m\u001b[0m_inducing_points_predict\u001b[0m\u001b[0;34m(\u001b[0m\u001b[0;34m*\u001b[0m\u001b[0margs\u001b[0m\u001b[0;34m,\u001b[0m \u001b[0;34m**\u001b[0m\u001b[0mkwargs\u001b[0m\u001b[0;34m)\u001b[0m\u001b[0;34m\u001b[0m\u001b[0m\n\u001b[0m\u001b[1;32m    255\u001b[0m         \u001b[0;32melse\u001b[0m\u001b[0;34m:\u001b[0m\u001b[0;34m\u001b[0m\u001b[0m\n\u001b[1;32m    256\u001b[0m             \u001b[0;32mraise\u001b[0m \u001b[0mValueError\u001b[0m\u001b[0;34m(\u001b[0m\u001b[0;34m\"Unknown method\"\u001b[0m\u001b[0;34m)\u001b[0m\u001b[0;34m\u001b[0m\u001b[0m\n",
      "\u001b[0;32m/Users/IzmailovPavel/Documents/Education/Course Project/Code/GP/gaussian_process_classification.py\u001b[0m in \u001b[0;36m_inducing_points_predict\u001b[0;34m(self, test_points)\u001b[0m\n\u001b[1;32m    730\u001b[0m         \u001b[0mK_mx\u001b[0m \u001b[0;34m=\u001b[0m \u001b[0mK_xm\u001b[0m\u001b[0;34m.\u001b[0m\u001b[0mT\u001b[0m\u001b[0;34m\u001b[0m\u001b[0m\n\u001b[1;32m    731\u001b[0m         \u001b[0mK_mm\u001b[0m \u001b[0;34m=\u001b[0m \u001b[0mcov_fun\u001b[0m\u001b[0;34m(\u001b[0m\u001b[0mind_points\u001b[0m\u001b[0;34m,\u001b[0m \u001b[0mind_points\u001b[0m\u001b[0;34m)\u001b[0m\u001b[0;34m\u001b[0m\u001b[0m\n\u001b[0;32m--> 732\u001b[0;31m         \u001b[0mK_xx\u001b[0m \u001b[0;34m=\u001b[0m \u001b[0mcov_fun\u001b[0m\u001b[0;34m(\u001b[0m\u001b[0mtest_points\u001b[0m\u001b[0;34m,\u001b[0m \u001b[0mtest_points\u001b[0m\u001b[0;34m)\u001b[0m\u001b[0;34m\u001b[0m\u001b[0m\n\u001b[0m\u001b[1;32m    733\u001b[0m         \u001b[0mK_mm_inv\u001b[0m \u001b[0;34m=\u001b[0m \u001b[0mnp\u001b[0m\u001b[0;34m.\u001b[0m\u001b[0mlinalg\u001b[0m\u001b[0;34m.\u001b[0m\u001b[0minv\u001b[0m\u001b[0;34m(\u001b[0m\u001b[0mK_mm\u001b[0m\u001b[0;34m)\u001b[0m\u001b[0;34m\u001b[0m\u001b[0m\n\u001b[1;32m    734\u001b[0m \u001b[0;34m\u001b[0m\u001b[0m\n",
      "\u001b[0;32m/Users/IzmailovPavel/Documents/Education/Course Project/Code/GP/covariance_functions.py\u001b[0m in \u001b[0;36mcovariance_function\u001b[0;34m(self, x, y, w)\u001b[0m\n\u001b[1;32m    113\u001b[0m \u001b[0;34m\u001b[0m\u001b[0m\n\u001b[1;32m    114\u001b[0m     \u001b[0;32mdef\u001b[0m \u001b[0mcovariance_function\u001b[0m\u001b[0;34m(\u001b[0m\u001b[0mself\u001b[0m\u001b[0;34m,\u001b[0m \u001b[0mx\u001b[0m\u001b[0;34m,\u001b[0m \u001b[0my\u001b[0m\u001b[0;34m,\u001b[0m \u001b[0mw\u001b[0m\u001b[0;34m=\u001b[0m\u001b[0;32mNone\u001b[0m\u001b[0;34m)\u001b[0m\u001b[0;34m:\u001b[0m\u001b[0;34m\u001b[0m\u001b[0m\n\u001b[0;32m--> 115\u001b[0;31m         \u001b[0;32mreturn\u001b[0m \u001b[0mself\u001b[0m\u001b[0;34m.\u001b[0m\u001b[0mst_covariance_function\u001b[0m\u001b[0;34m(\u001b[0m\u001b[0mpairwise_distance\u001b[0m\u001b[0;34m(\u001b[0m\u001b[0mx\u001b[0m\u001b[0;34m,\u001b[0m \u001b[0my\u001b[0m\u001b[0;34m)\u001b[0m\u001b[0;34m,\u001b[0m \u001b[0mw\u001b[0m\u001b[0;34m)\u001b[0m\u001b[0;34m\u001b[0m\u001b[0m\n\u001b[0m\u001b[1;32m    116\u001b[0m \u001b[0;34m\u001b[0m\u001b[0m\n\u001b[1;32m    117\u001b[0m     \u001b[0;34m@\u001b[0m\u001b[0mabstractmethod\u001b[0m\u001b[0;34m\u001b[0m\u001b[0m\n",
      "\u001b[0;32m/Users/IzmailovPavel/Documents/Education/Course Project/Code/GP/covariance_functions.py\u001b[0m in \u001b[0;36mpairwise_distance\u001b[0;34m(x, y)\u001b[0m\n\u001b[1;32m     34\u001b[0m     \u001b[0;31m# d = np.square(x_norm) + np.square(y_norm) - 2 * x.T.dot(y)\u001b[0m\u001b[0;34m\u001b[0m\u001b[0;34m\u001b[0m\u001b[0m\n\u001b[1;32m     35\u001b[0m     \u001b[0;31m# d[d < 0] = 0\u001b[0m\u001b[0;34m\u001b[0m\u001b[0;34m\u001b[0m\u001b[0m\n\u001b[0;32m---> 36\u001b[0;31m     \u001b[0;32mreturn\u001b[0m \u001b[0mcdist\u001b[0m\u001b[0;34m(\u001b[0m\u001b[0mx\u001b[0m\u001b[0;34m.\u001b[0m\u001b[0mT\u001b[0m\u001b[0;34m,\u001b[0m \u001b[0my\u001b[0m\u001b[0;34m.\u001b[0m\u001b[0mT\u001b[0m\u001b[0;34m)\u001b[0m\u001b[0;34m\u001b[0m\u001b[0m\n\u001b[0m\u001b[1;32m     37\u001b[0m     \u001b[0;31m# print(np.min(d))\u001b[0m\u001b[0;34m\u001b[0m\u001b[0;34m\u001b[0m\u001b[0m\n\u001b[1;32m     38\u001b[0m     \u001b[0;31m# return np.sqrt(d)\u001b[0m\u001b[0;34m\u001b[0m\u001b[0;34m\u001b[0m\u001b[0m\n",
      "\u001b[0;32m/Library/Frameworks/Python.framework/Versions/3.4/lib/python3.4/site-packages/scipy/spatial/distance.py\u001b[0m in \u001b[0;36mcdist\u001b[0;34m(XA, XB, metric, p, V, VI, w)\u001b[0m\n\u001b[1;32m   2073\u001b[0m         \u001b[0;32mif\u001b[0m \u001b[0mmstr\u001b[0m \u001b[0;32min\u001b[0m \u001b[0mset\u001b[0m\u001b[0;34m(\u001b[0m\u001b[0;34m[\u001b[0m\u001b[0;34m'euclidean'\u001b[0m\u001b[0;34m,\u001b[0m \u001b[0;34m'euclid'\u001b[0m\u001b[0;34m,\u001b[0m \u001b[0;34m'eu'\u001b[0m\u001b[0;34m,\u001b[0m \u001b[0;34m'e'\u001b[0m\u001b[0;34m]\u001b[0m\u001b[0;34m)\u001b[0m\u001b[0;34m:\u001b[0m\u001b[0;34m\u001b[0m\u001b[0m\n\u001b[1;32m   2074\u001b[0m             _distance_wrap.cdist_euclidean_wrap(_convert_to_double(XA),\n\u001b[0;32m-> 2075\u001b[0;31m                                                 _convert_to_double(XB), dm)\n\u001b[0m\u001b[1;32m   2076\u001b[0m         \u001b[0;32melif\u001b[0m \u001b[0mmstr\u001b[0m \u001b[0;32min\u001b[0m \u001b[0mset\u001b[0m\u001b[0;34m(\u001b[0m\u001b[0;34m[\u001b[0m\u001b[0;34m'sqeuclidean'\u001b[0m\u001b[0;34m,\u001b[0m \u001b[0;34m'sqe'\u001b[0m\u001b[0;34m,\u001b[0m \u001b[0;34m'sqeuclid'\u001b[0m\u001b[0;34m]\u001b[0m\u001b[0;34m)\u001b[0m\u001b[0;34m:\u001b[0m\u001b[0;34m\u001b[0m\u001b[0m\n\u001b[1;32m   2077\u001b[0m             _distance_wrap.cdist_sqeuclidean_wrap(_convert_to_double(XA),\n",
      "\u001b[0;31mKeyboardInterrupt\u001b[0m: "
     ]
    }
   ],
   "source": [
    "metric = lambda w: vi_gp.get_prediction_quality(w, x_test, y_test)\n",
    "vi_x_lst, vi_y_lst = vi_res.plot_performance(metric, 't', freq=1)\n",
    "plt.plot(vi_x_lst[1:], vi_y_lst[1:], '-bx', label='vi-means-c')\n",
    "plt.ylim([0.6, 1.])\n",
    "plt.legend()\n",
    "plt.xlabel('Seconds')\n",
    "plt.ylabel('Accuracy')"
   ]
  },
  {
   "cell_type": "markdown",
   "metadata": {},
   "source": [
    "### Stochastic Taylor"
   ]
  },
  {
   "cell_type": "code",
   "execution_count": 24,
   "metadata": {
    "collapsed": false
   },
   "outputs": [
    {
     "name": "stdout",
     "output_type": "stream",
     "text": [
      "Iteration  1 :\n",
      "\tGradient norm 1400.79359371\n",
      "\tHyper-parameters at outter iteration 0 : [ 147.23896239  202.65229797   -2.57340278]\n",
      "Iteration  1 :\n",
      "\tGradient norm 1651.10197892\n",
      "\tHyper-parameters at outter iteration 1 : [  1.44720370e+02   2.05165457e+02  -1.44034351e-01]\n",
      "Iteration  1 :\n",
      "\tGradient norm 139.927314296\n",
      "\tHyper-parameters at outter iteration 2 : [ 142.16970662  207.7214926     0.5086339 ]\n",
      "Iteration  1 :\n",
      "\tGradient norm 1036.21068559\n",
      "\tHyper-parameters at outter iteration 3 : [  1.39716295e+02   2.10160808e+02  -1.93664360e-02]\n",
      "Iteration  1 :\n",
      "\tGradient norm 771.582376932\n",
      "\tHyper-parameters at outter iteration 4 : [ 136.81937174  212.99893001    2.7306231 ]\n",
      "Iteration  1 :\n",
      "\tGradient norm 1352.74787073\n",
      "\tHyper-parameters at outter iteration 5 : [ 134.286629    215.52421649    0.41666768]\n",
      "Iteration  1 :\n",
      "\tGradient norm 539.250790066\n",
      "\tHyper-parameters at outter iteration 6 : [ 131.81485716  217.94267918   -0.93412001]\n",
      "Iteration  1 :\n",
      "\tGradient norm 833.986249591\n",
      "\tHyper-parameters at outter iteration 7 : [ 129.08113763  220.57143405   -2.8785258 ]\n",
      "Iteration  1 :\n",
      "\tGradient norm 1322.39569436\n",
      "\tHyper-parameters at outter iteration 8 : [ 126.4710827   223.16820887   -0.57594688]\n",
      "Iteration  1 :\n",
      "\tGradient norm 579.080000182\n",
      "\tHyper-parameters at outter iteration 9 : [ 124.45133022  224.59462689    2.49970014]\n"
     ]
    }
   ],
   "source": [
    "model_covariance_obj = SquaredExponential(np.copy(cov_params))\n",
    "vi_gp = GPC(model_covariance_obj, method='vi')\n",
    "opts = {'bound': 'Taylor', 'mode': 'adadelta', 'num_updates': 2, 'mydisp': True, 'print_freq': 1, 'step_rate': 5.,\n",
    "        'maxiter': 1, 'batch_size':5000}\n",
    "vi_res = vi_gp.fit(x_tr, y_tr, inputs=inputs, optimizer_options=opts, max_out_iter=10)"
   ]
  },
  {
   "cell_type": "code",
   "execution_count": 25,
   "metadata": {
    "collapsed": false
   },
   "outputs": [
    {
     "name": "stdout",
     "output_type": "stream",
     "text": [
      "0.8789\n"
     ]
    }
   ],
   "source": [
    "predicted = vi_gp.predict(x_test)\n",
    "print(accuracy_score(y_test, predicted))"
   ]
  },
  {
   "cell_type": "code",
   "execution_count": 26,
   "metadata": {
    "collapsed": true
   },
   "outputs": [
    {
     "ename": "KeyboardInterrupt",
     "evalue": "",
     "output_type": "error",
     "traceback": [
      "\u001b[0;31m---------------------------------------------------------------------------\u001b[0m",
      "\u001b[0;31mKeyboardInterrupt\u001b[0m                         Traceback (most recent call last)",
      "\u001b[0;32m<ipython-input-26-d33e77b5b9cb>\u001b[0m in \u001b[0;36m<module>\u001b[0;34m()\u001b[0m\n\u001b[1;32m      1\u001b[0m \u001b[0mmetric\u001b[0m \u001b[0;34m=\u001b[0m \u001b[0;32mlambda\u001b[0m \u001b[0mw\u001b[0m\u001b[0;34m:\u001b[0m \u001b[0mvi_gp\u001b[0m\u001b[0;34m.\u001b[0m\u001b[0mget_prediction_quality\u001b[0m\u001b[0;34m(\u001b[0m\u001b[0mw\u001b[0m\u001b[0;34m,\u001b[0m \u001b[0mx_test\u001b[0m\u001b[0;34m,\u001b[0m \u001b[0my_test\u001b[0m\u001b[0;34m)\u001b[0m\u001b[0;34m\u001b[0m\u001b[0m\n\u001b[0;32m----> 2\u001b[0;31m \u001b[0mvi_st_x_lst\u001b[0m\u001b[0;34m,\u001b[0m \u001b[0mvi_st_y_lst\u001b[0m \u001b[0;34m=\u001b[0m \u001b[0mvi_res\u001b[0m\u001b[0;34m.\u001b[0m\u001b[0mplot_performance\u001b[0m\u001b[0;34m(\u001b[0m\u001b[0mmetric\u001b[0m\u001b[0;34m,\u001b[0m \u001b[0;34m't'\u001b[0m\u001b[0;34m,\u001b[0m \u001b[0mfreq\u001b[0m\u001b[0;34m=\u001b[0m\u001b[0;36m2\u001b[0m\u001b[0;34m)\u001b[0m\u001b[0;34m\u001b[0m\u001b[0m\n\u001b[0m\u001b[1;32m      3\u001b[0m \u001b[0mplt\u001b[0m\u001b[0;34m.\u001b[0m\u001b[0mplot\u001b[0m\u001b[0;34m(\u001b[0m\u001b[0mvi_st_x_lst\u001b[0m\u001b[0;34m[\u001b[0m\u001b[0;36m1\u001b[0m\u001b[0;34m:\u001b[0m\u001b[0;34m]\u001b[0m\u001b[0;34m,\u001b[0m \u001b[0mvi_st_y_lst\u001b[0m\u001b[0;34m[\u001b[0m\u001b[0;36m1\u001b[0m\u001b[0;34m:\u001b[0m\u001b[0;34m]\u001b[0m\u001b[0;34m,\u001b[0m \u001b[0;34m'-mx'\u001b[0m\u001b[0;34m,\u001b[0m \u001b[0mlabel\u001b[0m\u001b[0;34m=\u001b[0m\u001b[0;34m'vi-means-c'\u001b[0m\u001b[0;34m)\u001b[0m\u001b[0;34m\u001b[0m\u001b[0m\n\u001b[1;32m      4\u001b[0m \u001b[0;31m# plt.plot(svi_x_lst[1:100], svi_y_lst[1:100], '-gx', label='svi-L-BFGS-B-c')\u001b[0m\u001b[0;34m\u001b[0m\u001b[0;34m\u001b[0m\u001b[0m\n\u001b[1;32m      5\u001b[0m \u001b[0mplt\u001b[0m\u001b[0;34m.\u001b[0m\u001b[0mylim\u001b[0m\u001b[0;34m(\u001b[0m\u001b[0;34m[\u001b[0m\u001b[0;36m0.\u001b[0m\u001b[0;34m,\u001b[0m \u001b[0;36m1.\u001b[0m\u001b[0;34m]\u001b[0m\u001b[0;34m)\u001b[0m\u001b[0;34m\u001b[0m\u001b[0m\n",
      "\u001b[0;32m/Users/IzmailovPavel/Documents/Education/Course Project/Code/GP/gp_res.py\u001b[0m in \u001b[0;36mplot_performance\u001b[0;34m(self, metrics, it_time, freq)\u001b[0m\n\u001b[1;32m     22\u001b[0m \u001b[0;34m\u001b[0m\u001b[0m\n\u001b[1;32m     23\u001b[0m     \u001b[0;32mdef\u001b[0m \u001b[0mplot_performance\u001b[0m\u001b[0;34m(\u001b[0m\u001b[0mself\u001b[0m\u001b[0;34m,\u001b[0m \u001b[0mmetrics\u001b[0m\u001b[0;34m,\u001b[0m \u001b[0mit_time\u001b[0m\u001b[0;34m=\u001b[0m\u001b[0;34m'i'\u001b[0m\u001b[0;34m,\u001b[0m \u001b[0mfreq\u001b[0m\u001b[0;34m=\u001b[0m\u001b[0;36m1\u001b[0m\u001b[0;34m)\u001b[0m\u001b[0;34m:\u001b[0m\u001b[0;34m\u001b[0m\u001b[0m\n\u001b[0;32m---> 24\u001b[0;31m         \u001b[0my_lst\u001b[0m \u001b[0;34m=\u001b[0m \u001b[0;34m[\u001b[0m\u001b[0mmetrics\u001b[0m\u001b[0;34m(\u001b[0m\u001b[0mself\u001b[0m\u001b[0;34m.\u001b[0m\u001b[0mparams\u001b[0m\u001b[0;34m[\u001b[0m\u001b[0mi\u001b[0m\u001b[0;34m]\u001b[0m\u001b[0;34m)\u001b[0m \u001b[0;32mfor\u001b[0m \u001b[0mi\u001b[0m \u001b[0;32min\u001b[0m \u001b[0mrange\u001b[0m\u001b[0;34m(\u001b[0m\u001b[0mlen\u001b[0m\u001b[0;34m(\u001b[0m\u001b[0mself\u001b[0m\u001b[0;34m.\u001b[0m\u001b[0mparams\u001b[0m\u001b[0;34m)\u001b[0m\u001b[0;34m)\u001b[0m \u001b[0;32mif\u001b[0m \u001b[0;32mnot\u001b[0m \u001b[0;34m(\u001b[0m\u001b[0mi\u001b[0m \u001b[0;34m%\u001b[0m \u001b[0mfreq\u001b[0m\u001b[0;34m)\u001b[0m\u001b[0;34m]\u001b[0m\u001b[0;34m\u001b[0m\u001b[0m\n\u001b[0m\u001b[1;32m     25\u001b[0m         \u001b[0;32mif\u001b[0m \u001b[0mit_time\u001b[0m \u001b[0;34m==\u001b[0m \u001b[0;34m'i'\u001b[0m\u001b[0;34m:\u001b[0m\u001b[0;34m\u001b[0m\u001b[0m\n\u001b[1;32m     26\u001b[0m             \u001b[0mx_lst\u001b[0m \u001b[0;34m=\u001b[0m \u001b[0;34m[\u001b[0m\u001b[0mself\u001b[0m\u001b[0;34m.\u001b[0m\u001b[0miters\u001b[0m\u001b[0;34m[\u001b[0m\u001b[0mi\u001b[0m\u001b[0;34m]\u001b[0m \u001b[0;32mfor\u001b[0m \u001b[0mi\u001b[0m \u001b[0;32min\u001b[0m \u001b[0mrange\u001b[0m\u001b[0;34m(\u001b[0m\u001b[0mlen\u001b[0m\u001b[0;34m(\u001b[0m\u001b[0mself\u001b[0m\u001b[0;34m.\u001b[0m\u001b[0miters\u001b[0m\u001b[0;34m)\u001b[0m\u001b[0;34m)\u001b[0m \u001b[0;32mif\u001b[0m \u001b[0;32mnot\u001b[0m\u001b[0;34m(\u001b[0m\u001b[0mi\u001b[0m\u001b[0;34m%\u001b[0m\u001b[0mfreq\u001b[0m\u001b[0;34m)\u001b[0m\u001b[0;34m]\u001b[0m\u001b[0;34m\u001b[0m\u001b[0m\n",
      "\u001b[0;32m/Users/IzmailovPavel/Documents/Education/Course Project/Code/GP/gp_res.py\u001b[0m in \u001b[0;36m<listcomp>\u001b[0;34m(.0)\u001b[0m\n\u001b[1;32m     22\u001b[0m \u001b[0;34m\u001b[0m\u001b[0m\n\u001b[1;32m     23\u001b[0m     \u001b[0;32mdef\u001b[0m \u001b[0mplot_performance\u001b[0m\u001b[0;34m(\u001b[0m\u001b[0mself\u001b[0m\u001b[0;34m,\u001b[0m \u001b[0mmetrics\u001b[0m\u001b[0;34m,\u001b[0m \u001b[0mit_time\u001b[0m\u001b[0;34m=\u001b[0m\u001b[0;34m'i'\u001b[0m\u001b[0;34m,\u001b[0m \u001b[0mfreq\u001b[0m\u001b[0;34m=\u001b[0m\u001b[0;36m1\u001b[0m\u001b[0;34m)\u001b[0m\u001b[0;34m:\u001b[0m\u001b[0;34m\u001b[0m\u001b[0m\n\u001b[0;32m---> 24\u001b[0;31m         \u001b[0my_lst\u001b[0m \u001b[0;34m=\u001b[0m \u001b[0;34m[\u001b[0m\u001b[0mmetrics\u001b[0m\u001b[0;34m(\u001b[0m\u001b[0mself\u001b[0m\u001b[0;34m.\u001b[0m\u001b[0mparams\u001b[0m\u001b[0;34m[\u001b[0m\u001b[0mi\u001b[0m\u001b[0;34m]\u001b[0m\u001b[0;34m)\u001b[0m \u001b[0;32mfor\u001b[0m \u001b[0mi\u001b[0m \u001b[0;32min\u001b[0m \u001b[0mrange\u001b[0m\u001b[0;34m(\u001b[0m\u001b[0mlen\u001b[0m\u001b[0;34m(\u001b[0m\u001b[0mself\u001b[0m\u001b[0;34m.\u001b[0m\u001b[0mparams\u001b[0m\u001b[0;34m)\u001b[0m\u001b[0;34m)\u001b[0m \u001b[0;32mif\u001b[0m \u001b[0;32mnot\u001b[0m \u001b[0;34m(\u001b[0m\u001b[0mi\u001b[0m \u001b[0;34m%\u001b[0m \u001b[0mfreq\u001b[0m\u001b[0;34m)\u001b[0m\u001b[0;34m]\u001b[0m\u001b[0;34m\u001b[0m\u001b[0m\n\u001b[0m\u001b[1;32m     25\u001b[0m         \u001b[0;32mif\u001b[0m \u001b[0mit_time\u001b[0m \u001b[0;34m==\u001b[0m \u001b[0;34m'i'\u001b[0m\u001b[0;34m:\u001b[0m\u001b[0;34m\u001b[0m\u001b[0m\n\u001b[1;32m     26\u001b[0m             \u001b[0mx_lst\u001b[0m \u001b[0;34m=\u001b[0m \u001b[0;34m[\u001b[0m\u001b[0mself\u001b[0m\u001b[0;34m.\u001b[0m\u001b[0miters\u001b[0m\u001b[0;34m[\u001b[0m\u001b[0mi\u001b[0m\u001b[0;34m]\u001b[0m \u001b[0;32mfor\u001b[0m \u001b[0mi\u001b[0m \u001b[0;32min\u001b[0m \u001b[0mrange\u001b[0m\u001b[0;34m(\u001b[0m\u001b[0mlen\u001b[0m\u001b[0;34m(\u001b[0m\u001b[0mself\u001b[0m\u001b[0;34m.\u001b[0m\u001b[0miters\u001b[0m\u001b[0;34m)\u001b[0m\u001b[0;34m)\u001b[0m \u001b[0;32mif\u001b[0m \u001b[0;32mnot\u001b[0m\u001b[0;34m(\u001b[0m\u001b[0mi\u001b[0m\u001b[0;34m%\u001b[0m\u001b[0mfreq\u001b[0m\u001b[0;34m)\u001b[0m\u001b[0;34m]\u001b[0m\u001b[0;34m\u001b[0m\u001b[0m\n",
      "\u001b[0;32m<ipython-input-26-d33e77b5b9cb>\u001b[0m in \u001b[0;36m<lambda>\u001b[0;34m(w)\u001b[0m\n\u001b[0;32m----> 1\u001b[0;31m \u001b[0mmetric\u001b[0m \u001b[0;34m=\u001b[0m \u001b[0;32mlambda\u001b[0m \u001b[0mw\u001b[0m\u001b[0;34m:\u001b[0m \u001b[0mvi_gp\u001b[0m\u001b[0;34m.\u001b[0m\u001b[0mget_prediction_quality\u001b[0m\u001b[0;34m(\u001b[0m\u001b[0mw\u001b[0m\u001b[0;34m,\u001b[0m \u001b[0mx_test\u001b[0m\u001b[0;34m,\u001b[0m \u001b[0my_test\u001b[0m\u001b[0;34m)\u001b[0m\u001b[0;34m\u001b[0m\u001b[0m\n\u001b[0m\u001b[1;32m      2\u001b[0m \u001b[0mvi_st_x_lst\u001b[0m\u001b[0;34m,\u001b[0m \u001b[0mvi_st_y_lst\u001b[0m \u001b[0;34m=\u001b[0m \u001b[0mvi_res\u001b[0m\u001b[0;34m.\u001b[0m\u001b[0mplot_performance\u001b[0m\u001b[0;34m(\u001b[0m\u001b[0mmetric\u001b[0m\u001b[0;34m,\u001b[0m \u001b[0;34m't'\u001b[0m\u001b[0;34m,\u001b[0m \u001b[0mfreq\u001b[0m\u001b[0;34m=\u001b[0m\u001b[0;36m2\u001b[0m\u001b[0;34m)\u001b[0m\u001b[0;34m\u001b[0m\u001b[0m\n\u001b[1;32m      3\u001b[0m \u001b[0mplt\u001b[0m\u001b[0;34m.\u001b[0m\u001b[0mplot\u001b[0m\u001b[0;34m(\u001b[0m\u001b[0mvi_st_x_lst\u001b[0m\u001b[0;34m[\u001b[0m\u001b[0;36m1\u001b[0m\u001b[0;34m:\u001b[0m\u001b[0;34m]\u001b[0m\u001b[0;34m,\u001b[0m \u001b[0mvi_st_y_lst\u001b[0m\u001b[0;34m[\u001b[0m\u001b[0;36m1\u001b[0m\u001b[0;34m:\u001b[0m\u001b[0;34m]\u001b[0m\u001b[0;34m,\u001b[0m \u001b[0;34m'-mx'\u001b[0m\u001b[0;34m,\u001b[0m \u001b[0mlabel\u001b[0m\u001b[0;34m=\u001b[0m\u001b[0;34m'vi-means-c'\u001b[0m\u001b[0;34m)\u001b[0m\u001b[0;34m\u001b[0m\u001b[0m\n\u001b[1;32m      4\u001b[0m \u001b[0;31m# plt.plot(svi_x_lst[1:100], svi_y_lst[1:100], '-gx', label='svi-L-BFGS-B-c')\u001b[0m\u001b[0;34m\u001b[0m\u001b[0;34m\u001b[0m\u001b[0m\n\u001b[1;32m      5\u001b[0m \u001b[0mplt\u001b[0m\u001b[0;34m.\u001b[0m\u001b[0mylim\u001b[0m\u001b[0;34m(\u001b[0m\u001b[0;34m[\u001b[0m\u001b[0;36m0.\u001b[0m\u001b[0;34m,\u001b[0m \u001b[0;36m1.\u001b[0m\u001b[0;34m]\u001b[0m\u001b[0;34m)\u001b[0m\u001b[0;34m\u001b[0m\u001b[0m\n",
      "\u001b[0;32m/Users/IzmailovPavel/Documents/Education/Course Project/Code/GP/gaussian_process_classification.py\u001b[0m in \u001b[0;36mget_prediction_quality\u001b[0;34m(self, *args, **kwargs)\u001b[0m\n\u001b[1;32m    916\u001b[0m         \u001b[0;32mif\u001b[0m \u001b[0mself\u001b[0m\u001b[0;34m.\u001b[0m\u001b[0mmethod\u001b[0m \u001b[0;34m==\u001b[0m \u001b[0;34m'vi'\u001b[0m\u001b[0;34m:\u001b[0m\u001b[0;34m\u001b[0m\u001b[0m\n\u001b[1;32m    917\u001b[0m             \u001b[0;31m# raise ValueError('Not implemented yet')\u001b[0m\u001b[0;34m\u001b[0m\u001b[0;34m\u001b[0m\u001b[0m\n\u001b[0;32m--> 918\u001b[0;31m             \u001b[0;32mreturn\u001b[0m \u001b[0mself\u001b[0m\u001b[0;34m.\u001b[0m\u001b[0m_vi_get_prediction_quality\u001b[0m\u001b[0;34m(\u001b[0m\u001b[0;34m*\u001b[0m\u001b[0margs\u001b[0m\u001b[0;34m,\u001b[0m \u001b[0;34m**\u001b[0m\u001b[0mkwargs\u001b[0m\u001b[0;34m)\u001b[0m\u001b[0;34m\u001b[0m\u001b[0m\n\u001b[0m\u001b[1;32m    919\u001b[0m         \u001b[0;32melif\u001b[0m \u001b[0mself\u001b[0m\u001b[0;34m.\u001b[0m\u001b[0mmethod\u001b[0m \u001b[0;34m==\u001b[0m \u001b[0;34m'svi'\u001b[0m\u001b[0;34m:\u001b[0m\u001b[0;34m\u001b[0m\u001b[0m\n\u001b[1;32m    920\u001b[0m             \u001b[0;32mreturn\u001b[0m \u001b[0mself\u001b[0m\u001b[0;34m.\u001b[0m\u001b[0m_svi_get_prediction_quality\u001b[0m\u001b[0;34m(\u001b[0m\u001b[0;34m*\u001b[0m\u001b[0margs\u001b[0m\u001b[0;34m,\u001b[0m \u001b[0;34m**\u001b[0m\u001b[0mkwargs\u001b[0m\u001b[0;34m)\u001b[0m\u001b[0;34m\u001b[0m\u001b[0m\n",
      "\u001b[0;32m/Users/IzmailovPavel/Documents/Education/Course Project/Code/GP/gaussian_process_classification.py\u001b[0m in \u001b[0;36m_vi_get_prediction_quality\u001b[0;34m(self, params, test_points, test_targets)\u001b[0m\n\u001b[1;32m    908\u001b[0m         \u001b[0mnew_gp\u001b[0m\u001b[0;34m.\u001b[0m\u001b[0mcovariance_obj\u001b[0m\u001b[0;34m.\u001b[0m\u001b[0mset_params\u001b[0m\u001b[0;34m(\u001b[0m\u001b[0mtheta\u001b[0m\u001b[0;34m)\u001b[0m\u001b[0;34m\u001b[0m\u001b[0m\n\u001b[1;32m    909\u001b[0m         \u001b[0mnew_gp\u001b[0m\u001b[0;34m.\u001b[0m\u001b[0minducing_inputs\u001b[0m \u001b[0;34m=\u001b[0m \u001b[0;34m(\u001b[0m\u001b[0mnew_gp\u001b[0m\u001b[0;34m.\u001b[0m\u001b[0minducing_inputs\u001b[0m\u001b[0;34m[\u001b[0m\u001b[0;36m0\u001b[0m\u001b[0;34m]\u001b[0m\u001b[0;34m,\u001b[0m \u001b[0mmu\u001b[0m\u001b[0;34m,\u001b[0m \u001b[0mSigma\u001b[0m\u001b[0;34m)\u001b[0m\u001b[0;34m\u001b[0m\u001b[0m\n\u001b[0;32m--> 910\u001b[0;31m         \u001b[0mpredicted_y_test\u001b[0m \u001b[0;34m=\u001b[0m \u001b[0mnew_gp\u001b[0m\u001b[0;34m.\u001b[0m\u001b[0mpredict\u001b[0m\u001b[0;34m(\u001b[0m\u001b[0mtest_points\u001b[0m\u001b[0;34m)\u001b[0m\u001b[0;34m\u001b[0m\u001b[0m\n\u001b[0m\u001b[1;32m    911\u001b[0m         \u001b[0;31m# return f1_score(test_targets, predicted_y_test)\u001b[0m\u001b[0;34m\u001b[0m\u001b[0;34m\u001b[0m\u001b[0m\n\u001b[1;32m    912\u001b[0m         \u001b[0;32mreturn\u001b[0m \u001b[0;36m1\u001b[0m \u001b[0;34m-\u001b[0m \u001b[0mnp\u001b[0m\u001b[0;34m.\u001b[0m\u001b[0msum\u001b[0m\u001b[0;34m(\u001b[0m\u001b[0mtest_targets\u001b[0m \u001b[0;34m!=\u001b[0m \u001b[0mpredicted_y_test\u001b[0m\u001b[0;34m)\u001b[0m \u001b[0;34m/\u001b[0m \u001b[0mtest_targets\u001b[0m\u001b[0;34m.\u001b[0m\u001b[0msize\u001b[0m\u001b[0;34m\u001b[0m\u001b[0m\n",
      "\u001b[0;32m/Users/IzmailovPavel/Documents/Education/Course Project/Code/GP/gaussian_process_classification.py\u001b[0m in \u001b[0;36mpredict\u001b[0;34m(self, *args, **kwargs)\u001b[0m\n\u001b[1;32m    252\u001b[0m             \u001b[0;32mreturn\u001b[0m \u001b[0mself\u001b[0m\u001b[0;34m.\u001b[0m\u001b[0m_brute_predict\u001b[0m\u001b[0;34m(\u001b[0m\u001b[0;34m*\u001b[0m\u001b[0margs\u001b[0m\u001b[0;34m,\u001b[0m \u001b[0;34m**\u001b[0m\u001b[0mkwargs\u001b[0m\u001b[0;34m)\u001b[0m\u001b[0;34m\u001b[0m\u001b[0m\n\u001b[1;32m    253\u001b[0m         \u001b[0;32melif\u001b[0m \u001b[0mself\u001b[0m\u001b[0;34m.\u001b[0m\u001b[0mmethod\u001b[0m \u001b[0;34m==\u001b[0m \u001b[0;34m'svi'\u001b[0m \u001b[0;32mor\u001b[0m \u001b[0mself\u001b[0m\u001b[0;34m.\u001b[0m\u001b[0mmethod\u001b[0m \u001b[0;34m==\u001b[0m \u001b[0;34m'vi'\u001b[0m\u001b[0;34m:\u001b[0m\u001b[0;34m\u001b[0m\u001b[0m\n\u001b[0;32m--> 254\u001b[0;31m             \u001b[0;32mreturn\u001b[0m \u001b[0mself\u001b[0m\u001b[0;34m.\u001b[0m\u001b[0m_inducing_points_predict\u001b[0m\u001b[0;34m(\u001b[0m\u001b[0;34m*\u001b[0m\u001b[0margs\u001b[0m\u001b[0;34m,\u001b[0m \u001b[0;34m**\u001b[0m\u001b[0mkwargs\u001b[0m\u001b[0;34m)\u001b[0m\u001b[0;34m\u001b[0m\u001b[0m\n\u001b[0m\u001b[1;32m    255\u001b[0m         \u001b[0;32melse\u001b[0m\u001b[0;34m:\u001b[0m\u001b[0;34m\u001b[0m\u001b[0m\n\u001b[1;32m    256\u001b[0m             \u001b[0;32mraise\u001b[0m \u001b[0mValueError\u001b[0m\u001b[0;34m(\u001b[0m\u001b[0;34m\"Unknown method\"\u001b[0m\u001b[0;34m)\u001b[0m\u001b[0;34m\u001b[0m\u001b[0m\n",
      "\u001b[0;32m/Users/IzmailovPavel/Documents/Education/Course Project/Code/GP/gaussian_process_classification.py\u001b[0m in \u001b[0;36m_inducing_points_predict\u001b[0;34m(self, test_points)\u001b[0m\n\u001b[1;32m    730\u001b[0m         \u001b[0mK_mx\u001b[0m \u001b[0;34m=\u001b[0m \u001b[0mK_xm\u001b[0m\u001b[0;34m.\u001b[0m\u001b[0mT\u001b[0m\u001b[0;34m\u001b[0m\u001b[0m\n\u001b[1;32m    731\u001b[0m         \u001b[0mK_mm\u001b[0m \u001b[0;34m=\u001b[0m \u001b[0mcov_fun\u001b[0m\u001b[0;34m(\u001b[0m\u001b[0mind_points\u001b[0m\u001b[0;34m,\u001b[0m \u001b[0mind_points\u001b[0m\u001b[0;34m)\u001b[0m\u001b[0;34m\u001b[0m\u001b[0m\n\u001b[0;32m--> 732\u001b[0;31m         \u001b[0mK_xx\u001b[0m \u001b[0;34m=\u001b[0m \u001b[0mcov_fun\u001b[0m\u001b[0;34m(\u001b[0m\u001b[0mtest_points\u001b[0m\u001b[0;34m,\u001b[0m \u001b[0mtest_points\u001b[0m\u001b[0;34m)\u001b[0m\u001b[0;34m\u001b[0m\u001b[0m\n\u001b[0m\u001b[1;32m    733\u001b[0m         \u001b[0mK_mm_inv\u001b[0m \u001b[0;34m=\u001b[0m \u001b[0mnp\u001b[0m\u001b[0;34m.\u001b[0m\u001b[0mlinalg\u001b[0m\u001b[0;34m.\u001b[0m\u001b[0minv\u001b[0m\u001b[0;34m(\u001b[0m\u001b[0mK_mm\u001b[0m\u001b[0;34m)\u001b[0m\u001b[0;34m\u001b[0m\u001b[0m\n\u001b[1;32m    734\u001b[0m \u001b[0;34m\u001b[0m\u001b[0m\n",
      "\u001b[0;32m/Users/IzmailovPavel/Documents/Education/Course Project/Code/GP/covariance_functions.py\u001b[0m in \u001b[0;36mcovariance_function\u001b[0;34m(self, x, y, w)\u001b[0m\n\u001b[1;32m    113\u001b[0m \u001b[0;34m\u001b[0m\u001b[0m\n\u001b[1;32m    114\u001b[0m     \u001b[0;32mdef\u001b[0m \u001b[0mcovariance_function\u001b[0m\u001b[0;34m(\u001b[0m\u001b[0mself\u001b[0m\u001b[0;34m,\u001b[0m \u001b[0mx\u001b[0m\u001b[0;34m,\u001b[0m \u001b[0my\u001b[0m\u001b[0;34m,\u001b[0m \u001b[0mw\u001b[0m\u001b[0;34m=\u001b[0m\u001b[0;32mNone\u001b[0m\u001b[0;34m)\u001b[0m\u001b[0;34m:\u001b[0m\u001b[0;34m\u001b[0m\u001b[0m\n\u001b[0;32m--> 115\u001b[0;31m         \u001b[0;32mreturn\u001b[0m \u001b[0mself\u001b[0m\u001b[0;34m.\u001b[0m\u001b[0mst_covariance_function\u001b[0m\u001b[0;34m(\u001b[0m\u001b[0mpairwise_distance\u001b[0m\u001b[0;34m(\u001b[0m\u001b[0mx\u001b[0m\u001b[0;34m,\u001b[0m \u001b[0my\u001b[0m\u001b[0;34m)\u001b[0m\u001b[0;34m,\u001b[0m \u001b[0mw\u001b[0m\u001b[0;34m)\u001b[0m\u001b[0;34m\u001b[0m\u001b[0m\n\u001b[0m\u001b[1;32m    116\u001b[0m \u001b[0;34m\u001b[0m\u001b[0m\n\u001b[1;32m    117\u001b[0m     \u001b[0;34m@\u001b[0m\u001b[0mabstractmethod\u001b[0m\u001b[0;34m\u001b[0m\u001b[0m\n",
      "\u001b[0;32m/Users/IzmailovPavel/Documents/Education/Course Project/Code/GP/covariance_functions.py\u001b[0m in \u001b[0;36mpairwise_distance\u001b[0;34m(x, y)\u001b[0m\n\u001b[1;32m     34\u001b[0m     \u001b[0;31m# d = np.square(x_norm) + np.square(y_norm) - 2 * x.T.dot(y)\u001b[0m\u001b[0;34m\u001b[0m\u001b[0;34m\u001b[0m\u001b[0m\n\u001b[1;32m     35\u001b[0m     \u001b[0;31m# d[d < 0] = 0\u001b[0m\u001b[0;34m\u001b[0m\u001b[0;34m\u001b[0m\u001b[0m\n\u001b[0;32m---> 36\u001b[0;31m     \u001b[0;32mreturn\u001b[0m \u001b[0mcdist\u001b[0m\u001b[0;34m(\u001b[0m\u001b[0mx\u001b[0m\u001b[0;34m.\u001b[0m\u001b[0mT\u001b[0m\u001b[0;34m,\u001b[0m \u001b[0my\u001b[0m\u001b[0;34m.\u001b[0m\u001b[0mT\u001b[0m\u001b[0;34m)\u001b[0m\u001b[0;34m\u001b[0m\u001b[0m\n\u001b[0m\u001b[1;32m     37\u001b[0m     \u001b[0;31m# print(np.min(d))\u001b[0m\u001b[0;34m\u001b[0m\u001b[0;34m\u001b[0m\u001b[0m\n\u001b[1;32m     38\u001b[0m     \u001b[0;31m# return np.sqrt(d)\u001b[0m\u001b[0;34m\u001b[0m\u001b[0;34m\u001b[0m\u001b[0m\n",
      "\u001b[0;32m/Library/Frameworks/Python.framework/Versions/3.4/lib/python3.4/site-packages/scipy/spatial/distance.py\u001b[0m in \u001b[0;36mcdist\u001b[0;34m(XA, XB, metric, p, V, VI, w)\u001b[0m\n\u001b[1;32m   2073\u001b[0m         \u001b[0;32mif\u001b[0m \u001b[0mmstr\u001b[0m \u001b[0;32min\u001b[0m \u001b[0mset\u001b[0m\u001b[0;34m(\u001b[0m\u001b[0;34m[\u001b[0m\u001b[0;34m'euclidean'\u001b[0m\u001b[0;34m,\u001b[0m \u001b[0;34m'euclid'\u001b[0m\u001b[0;34m,\u001b[0m \u001b[0;34m'eu'\u001b[0m\u001b[0;34m,\u001b[0m \u001b[0;34m'e'\u001b[0m\u001b[0;34m]\u001b[0m\u001b[0;34m)\u001b[0m\u001b[0;34m:\u001b[0m\u001b[0;34m\u001b[0m\u001b[0m\n\u001b[1;32m   2074\u001b[0m             _distance_wrap.cdist_euclidean_wrap(_convert_to_double(XA),\n\u001b[0;32m-> 2075\u001b[0;31m                                                 _convert_to_double(XB), dm)\n\u001b[0m\u001b[1;32m   2076\u001b[0m         \u001b[0;32melif\u001b[0m \u001b[0mmstr\u001b[0m \u001b[0;32min\u001b[0m \u001b[0mset\u001b[0m\u001b[0;34m(\u001b[0m\u001b[0;34m[\u001b[0m\u001b[0;34m'sqeuclidean'\u001b[0m\u001b[0;34m,\u001b[0m \u001b[0;34m'sqe'\u001b[0m\u001b[0;34m,\u001b[0m \u001b[0;34m'sqeuclid'\u001b[0m\u001b[0;34m]\u001b[0m\u001b[0;34m)\u001b[0m\u001b[0;34m:\u001b[0m\u001b[0;34m\u001b[0m\u001b[0m\n\u001b[1;32m   2077\u001b[0m             _distance_wrap.cdist_sqeuclidean_wrap(_convert_to_double(XA),\n",
      "\u001b[0;31mKeyboardInterrupt\u001b[0m: "
     ]
    }
   ],
   "source": [
    "metric = lambda w: vi_gp.get_prediction_quality(w, x_test, y_test)\n",
    "vi_st_x_lst, vi_st_y_lst = vi_res.plot_performance(metric, 't', freq=2)\n",
    "plt.plot(vi_st_x_lst[1:], vi_st_y_lst[1:], '-mx', label='vi-means-c')\n",
    "# plt.plot(svi_x_lst[1:100], svi_y_lst[1:100], '-gx', label='svi-L-BFGS-B-c')\n",
    "plt.ylim([0., 1.])\n",
    "plt.legend()\n",
    "plt.xlabel('Seconds')\n",
    "plt.ylabel('Accuracy')"
   ]
  },
  {
   "cell_type": "markdown",
   "metadata": {
    "collapsed": true
   },
   "source": [
    "###JJ-full"
   ]
  },
  {
   "cell_type": "code",
   "execution_count": 8,
   "metadata": {
    "collapsed": false
   },
   "outputs": [
    {
     "name": "stdout",
     "output_type": "stream",
     "text": [
      "Hyper-parameters at iteration 0 : [  1.50000000e+02   2.00000000e+02   1.00000000e-02   1.00000000e+00\n",
      "   1.00000000e+00]\n",
      "Hyper-parameters at iteration 1 : [  1.50000000e+02   2.00000000e+02   1.00000000e-02   1.00000000e+00\n",
      "   1.00000000e+00]\n",
      "Hyper-parameters at iteration 2 : [  1.50000000e+02   2.00000000e+02   1.00000000e-02   1.00000000e+00\n",
      "   1.00000000e+00]\n",
      "Hyper-parameters at iteration 3 : [  1.39245587e+02   2.11778847e+02   1.00000000e-02   1.04900430e+00\n",
      "   1.00564397e+00]\n",
      "Hyper-parameters at iteration 4 : [  9.28786869e+01   2.61237494e+02   1.00000000e-02   1.28350757e+00\n",
      "   1.02932750e+00]\n",
      "Hyper-parameters at iteration 5 : [  4.40513014e+01   3.35514430e+02   2.78592014e-01   1.63497336e+00\n",
      "   1.06489588e+00]\n",
      "Hyper-parameters at iteration 6 : [  4.32766397e+01   3.40309438e+02   2.88792766e-01   1.65768380e+00\n",
      "   1.06719205e+00]\n"
     ]
    }
   ],
   "source": [
    "model_covariance_obj = SquaredExponential(np.copy(cov_params))\n",
    "vi_gp = GPC(model_covariance_obj, method='vi_full')\n",
    "opts = {'maxiter':5, 'mydisp': True}\n",
    "vi_res = vi_gp.fit(x_tr, y_tr, inputs=inputs, optimizer_options=opts)"
   ]
  },
  {
   "cell_type": "code",
   "execution_count": 9,
   "metadata": {
    "collapsed": false
   },
   "outputs": [
    {
     "data": {
      "text/plain": [
       "<matplotlib.text.Text at 0x106187860>"
      ]
     },
     "execution_count": 9,
     "metadata": {},
     "output_type": "execute_result"
    },
    {
     "data": {
      "image/png": "[encoded data removed]",
      "text/plain": [
       "<matplotlib.figure.Figure at 0x10e36f3c8>"
      ]
     },
     "metadata": {},
     "output_type": "display_data"
    }
   ],
   "source": [
    "metric = lambda w: vi_gp.get_prediction_quality(w, x_tr, y_tr, x_test, y_test)\n",
    "vi_full_x_lst, vi_full_y_lst = vi_res.plot_performance(metric, 't', freq=1)\n",
    "plt.plot(vi_full_x_lst[1:], vi_full_y_lst[1:], '-kx', label='vi-JJ-full')\n",
    "# plt.plot(svi_x_lst[1:100], svi_y_lst[1:100], '-gx', label='svi-L-BFGS-B-c')\n",
    "plt.ylim([0.6, 1.])\n",
    "plt.legend()\n",
    "plt.xlabel('Seconds')\n",
    "plt.ylabel('Accuracy')"
   ]
  },
  {
   "cell_type": "markdown",
   "metadata": {},
   "source": [
    "## svi-AdaDelta-c\n",
    "Подберем шаг для метода"
   ]
  },
  {
   "cell_type": "code",
   "execution_count": 16,
   "metadata": {
    "collapsed": true
   },
   "outputs": [
    {
     "name": "stdout",
     "output_type": "stream",
     "text": [
      "2.0\n",
      "Iteration  1 :\n",
      "\tGradient norm 53.712642351\n",
      "Iteration  2 :\n",
      "\tGradient norm 86.4073433096\n",
      "Iteration  3 :\n",
      "\tGradient norm 2.36768271218\n",
      "Iteration  4 :\n",
      "\tGradient norm 1450.95951487\n",
      "Iteration  5 :\n",
      "\tGradient norm 4700.22346342\n",
      "Iteration  6 :\n",
      "\tGradient norm 770218.449211\n",
      "Iteration  7 :\n",
      "\tGradient norm 231029.091963\n",
      "Iteration  8 :\n",
      "\tGradient norm 5844451.24756\n",
      "Iteration  9 :\n",
      "\tGradient norm 3038123.06656\n",
      "Iteration  10 :\n",
      "\tGradient norm 261043539.855\n",
      "Iteration  11 :\n",
      "\tGradient norm 443746102332.0\n",
      "Iteration  12 :\n",
      "\tGradient norm 209895.092425\n",
      "Iteration  13 :\n",
      "\tGradient norm 29512.0559879\n",
      "Iteration  14 :\n",
      "\tGradient norm 2327.15290713\n",
      "Iteration  15 :\n",
      "\tGradient norm 1856.39512447\n",
      "Iteration  16 :\n",
      "\tGradient norm 0.422806480367\n",
      "Iteration  17 :\n",
      "\tGradient norm 0.0356820463438\n",
      "Iteration  18 :\n",
      "\tGradient norm 0.0348937620693\n",
      "Iteration  19 :\n",
      "\tGradient norm 0.0341579175643\n",
      "Iteration  20 :\n",
      "\tGradient norm 0.0334687855855\n",
      "\n",
      "1.0\n",
      "Iteration  1 :\n",
      "\tGradient norm 23.837929832\n",
      "Iteration  2 :\n",
      "\tGradient norm 23.4881293373\n",
      "Iteration  3 :\n",
      "\tGradient norm 21.4992069205\n",
      "Iteration  4 :\n",
      "\tGradient norm 21.4369096942\n",
      "Iteration  5 :\n",
      "\tGradient norm 25.4689998025\n",
      "Iteration  6 :\n",
      "\tGradient norm 20.8316072143\n",
      "Iteration  7 :\n",
      "\tGradient norm 20.7881981804\n",
      "Iteration  8 :\n",
      "\tGradient norm 20.7393362196\n",
      "Iteration  9 :\n",
      "\tGradient norm 26.6126105663\n",
      "Iteration  10 :\n",
      "\tGradient norm 15.3941191748\n",
      "Iteration  11 :\n",
      "\tGradient norm 23.4363219933\n",
      "Iteration  12 :\n",
      "\tGradient norm 16.1486534945\n",
      "Iteration  13 :\n",
      "\tGradient norm 18.4517977818\n",
      "Iteration  14 :\n",
      "\tGradient norm 14.5795482263\n",
      "Iteration  15 :\n",
      "\tGradient norm 27.2991648156\n",
      "Iteration  16 :\n",
      "\tGradient norm 19.4099841902\n",
      "Iteration  17 :\n",
      "\tGradient norm 12.1415619618\n",
      "Iteration  18 :\n",
      "\tGradient norm 13.2199575309\n",
      "Iteration  19 :\n",
      "\tGradient norm 16.6892335018\n",
      "Iteration  20 :\n",
      "\tGradient norm 13.2201115902\n",
      "\n",
      "0.5\n",
      "Iteration  1 :\n",
      "\tGradient norm 27.9355532337\n",
      "Iteration  2 :\n",
      "\tGradient norm 24.0675283041\n",
      "Iteration  3 :\n",
      "\tGradient norm 25.2448140886\n",
      "Iteration  4 :\n",
      "\tGradient norm 21.6058019193\n",
      "Iteration  5 :\n",
      "\tGradient norm 22.5179694688\n",
      "Iteration  6 :\n",
      "\tGradient norm 21.4304873958\n",
      "Iteration  7 :\n",
      "\tGradient norm 22.1899361196\n",
      "Iteration  8 :\n",
      "\tGradient norm 18.8940374615\n",
      "Iteration  9 :\n",
      "\tGradient norm 20.261975999\n",
      "Iteration  10 :\n",
      "\tGradient norm 20.3454169088\n",
      "Iteration  11 :\n",
      "\tGradient norm 21.6658212925\n",
      "Iteration  12 :\n",
      "\tGradient norm 20.2170689017\n",
      "Iteration  13 :\n",
      "\tGradient norm 21.2567949636\n",
      "Iteration  14 :\n",
      "\tGradient norm 18.487317917\n",
      "Iteration  15 :\n",
      "\tGradient norm 20.1465648192\n",
      "Iteration  16 :\n",
      "\tGradient norm 17.3844925747\n",
      "Iteration  17 :\n",
      "\tGradient norm 19.5466893129\n",
      "Iteration  18 :\n",
      "\tGradient norm 17.4097258932\n",
      "Iteration  19 :\n",
      "\tGradient norm 22.1042415651\n",
      "Iteration  20 :\n",
      "\tGradient norm 17.6254275237\n",
      "\n"
     ]
    },
    {
     "name": "stderr",
     "output_type": "stream",
     "text": [
      "/Users/IzmailovPavel/Documents/Education/Course Project/Code/GP/gaussian_process_classification.py:605: RuntimeWarning: invalid value encountered in log\n",
      "  loss += np.sum(np.log(np.diag(sigma_L))) * l / N\n"
     ]
    }
   ],
   "source": [
    "results = []\n",
    "steps = [2., 1., 0.5]\n",
    "for step in steps:\n",
    "    print(step)\n",
    "    model_covariance_obj = SquaredExponential(np.copy(cov_params))\n",
    "    ad_gp = GPC(model_covariance_obj, method='svi', hermgauss_deg=100)\n",
    "\n",
    "    opts = {'mode': 'adadelta', 'maxiter': 20, 'verbose': True, 'batch_size': 200, \n",
    "            'step_rate': step}#, 'print_freq':50}\n",
    "    batch_res = ad_gp.fit(x_tr, y_tr, inputs=inputs, optimizer_options=opts)\n",
    "    results.append(batch_res)\n",
    "    print()"
   ]
  },
  {
   "cell_type": "code",
   "execution_count": 17,
   "metadata": {
    "collapsed": false
   },
   "outputs": [
    {
     "name": "stdout",
     "output_type": "stream",
     "text": [
      "0\n",
      "1\n",
      "2\n"
     ]
    },
    {
     "data": {
      "text/plain": [
       "<matplotlib.text.Text at 0x111fb80f0>"
      ]
     },
     "execution_count": 17,
     "metadata": {},
     "output_type": "execute_result"
    },
    {
     "data": {
      "image/png": "[encoded data removed]",
      "text/plain": [
       "<matplotlib.figure.Figure at 0x10e6407f0>"
      ]
     },
     "metadata": {},
     "output_type": "display_data"
    }
   ],
   "source": [
    "metric = lambda w: ad_gp.get_prediction_quality(w, x_test, y_test)\n",
    "for i in range(len(results)):\n",
    "    svi_ad_x_lst, svi_ad_y_lst = results[i].plot_performance(metric, 't', freq=5)\n",
    "    plt.plot(svi_ad_x_lst[1:], svi_ad_y_lst[1:], label=steps[i])\n",
    "    print(i)\n",
    "plt.ylim([0., 1.])\n",
    "plt.legend()\n",
    "plt.xlabel('Seconds')\n",
    "plt.ylabel('Accuracy')"
   ]
  },
  {
   "cell_type": "code",
   "execution_count": null,
   "metadata": {
    "collapsed": false
   },
   "outputs": [
    {
     "name": "stdout",
     "output_type": "stream",
     "text": [
      "2.0\n",
      "Iteration "
     ]
    }
   ],
   "source": [
    "results = []\n",
    "steps = [2., 1., 0.5]\n",
    "for step in steps:\n",
    "    print(step)\n",
    "    model_covariance_obj = SquaredExponential(np.copy(cov_params))\n",
    "    ad_gp = GPC(model_covariance_obj, method='svi', hermgauss_deg=100)\n",
    "\n",
    "    opts = {'mode': 'adadelta', 'maxiter': 20, 'verbose': True, 'batch_size': 100, \n",
    "            'step_rate': step}#, 'print_freq':50}\n",
    "    batch_res = ad_gp.fit(x_tr, y_tr, inputs=inputs, optimizer_options=opts)\n",
    "    results.append(batch_res)\n",
    "    predicted = ad_gp.predict(x_test)\n",
    "    print(accuracy_score(y_test, predicted))\n",
    "    print()"
   ]
  },
  {
   "cell_type": "code",
   "execution_count": null,
   "metadata": {
    "collapsed": false
   },
   "outputs": [],
   "source": [
    "metric = lambda w: ad_gp.get_prediction_quality(w, x_test, y_test)\n",
    "for i in range(len(results)):\n",
    "\n",
    "#     svi_ad_x_lst, svi_ad_y_lst = results[i].plot_performance(metric, 't', freq=10)\n",
    "    plt.plot(svi_ad_x_lst[1:], svi_ad_y_lst[1:], label=steps[i])\n",
    "    print(i)\n",
    "plt.ylim([0., 1.])\n",
    "plt.legend()\n",
    "plt.xlabel('Seconds')\n",
    "plt.ylabel('Accuracy')"
   ]
  },
  {
   "cell_type": "code",
   "execution_count": 25,
   "metadata": {
    "collapsed": false
   },
   "outputs": [
    {
     "name": "stdout",
     "output_type": "stream",
     "text": [
      "5.0\n",
      "Iteration  1 :\n",
      "\tGradient norm 14.9745959297\n",
      "Iteration  2 :\n",
      "\tGradient norm 20174.6513172\n",
      "Iteration  3 :\n",
      "\tGradient norm 62819.1097698\n",
      "Iteration  4 :\n",
      "\tGradient norm 343569682.05\n",
      "Iteration  5 :\n",
      "\tGradient norm 2719981.3237\n",
      "Iteration  6 :\n",
      "\tGradient norm 83311508.6561\n",
      "Iteration  7 :\n",
      "\tGradient norm 154501831.991\n",
      "Iteration  8 :\n",
      "\tGradient norm 16340225.8385\n",
      "Iteration  9 :\n",
      "\tGradient norm 486098668.077\n",
      "Iteration  10 :\n",
      "\tGradient norm 4.64540164402e+12\n",
      "Iteration  11 :\n",
      "\tGradient norm 2.93476280172e+12\n",
      "Iteration  12 :\n",
      "\tGradient norm 8.84306072675e+13\n",
      "Iteration  13 :\n",
      "\tGradient norm 4.86817428757e+12\n",
      "Iteration  14 :\n",
      "\tGradient norm 4.25543838493e+16\n",
      "Iteration  15 :\n",
      "\tGradient norm 9.54978227262e+16\n",
      "Iteration  16 :\n",
      "\tGradient norm 2.10113289997e+21\n",
      "Iteration  17 :\n",
      "\tGradient norm 1.40798499421e+23\n",
      "Iteration  18 :\n",
      "\tGradient norm 3.39929204414e+19\n",
      "Iteration  19 :\n",
      "\tGradient norm 4.00636702066e+23\n",
      "Iteration  20 :\n",
      "\tGradient norm 2.97349710677e+26\n",
      "0.5074\n",
      "\n",
      "2.0\n",
      "Iteration  1 :\n",
      "\tGradient norm 60.9219527432\n",
      "Iteration  2 :\n",
      "\tGradient norm 70.1789604864\n",
      "Iteration  3 :\n",
      "\tGradient norm 101.417702751\n",
      "Iteration  4 :\n",
      "\tGradient norm 780.625190554\n",
      "Iteration  5 :\n",
      "\tGradient norm 34.0886083562\n",
      "Iteration  6 :\n",
      "\tGradient norm 6.3665758129\n",
      "Iteration  7 :\n",
      "\tGradient norm 979.961884303\n",
      "Iteration  8 :\n",
      "\tGradient norm 27.4720118682\n",
      "Iteration  9 :\n",
      "\tGradient norm 22.2186029457\n",
      "Iteration  10 :\n",
      "\tGradient norm 134.388454114\n",
      "Iteration  11 :\n",
      "\tGradient norm 14602.8677373\n",
      "Iteration  12 :\n",
      "\tGradient norm 415694.540269\n",
      "Iteration  13 :\n",
      "\tGradient norm 87224.5255465\n",
      "Iteration  14 :\n",
      "\tGradient norm 44524.0258372\n",
      "Iteration  15 :\n",
      "\tGradient norm 42169.5247851\n",
      "Iteration  16 :\n",
      "\tGradient norm 51169.3964714\n",
      "Iteration  17 :\n",
      "\tGradient norm 548784.738128\n",
      "Iteration  18 :\n",
      "\tGradient norm 40227760.8088\n",
      "Iteration  19 :\n",
      "\tGradient norm 18372.8246017\n",
      "Iteration  20 :\n",
      "\tGradient norm 9085.51911908\n",
      "0.4926\n",
      "\n",
      "1.0\n",
      "Iteration  1 :\n",
      "\tGradient norm 40.1052867022\n",
      "Iteration  2 :\n",
      "\tGradient norm 47.0098033894\n",
      "Iteration  3 :\n",
      "\tGradient norm 59.9067088698\n",
      "Iteration  4 :\n",
      "\tGradient norm 57.6075905955\n",
      "Iteration  5 :\n",
      "\tGradient norm 55.3129812155\n",
      "Iteration  6 :\n",
      "\tGradient norm 45.4610539729\n",
      "Iteration  7 :\n",
      "\tGradient norm 65.7362277019\n",
      "Iteration  8 :\n",
      "\tGradient norm 61.642019769\n",
      "Iteration  9 :\n",
      "\tGradient norm 55.9354506632\n",
      "Iteration  10 :\n",
      "\tGradient norm 53.1561321021\n",
      "Iteration  11 :\n",
      "\tGradient norm 33.9876872689\n",
      "Iteration  12 :\n",
      "\tGradient norm 63.721935038\n",
      "Iteration  13 :\n",
      "\tGradient norm 51.2058902085\n",
      "Iteration  14 :\n",
      "\tGradient norm 47.334810784\n",
      "Iteration  15 :\n",
      "\tGradient norm 29.6045213971\n",
      "Iteration  16 :\n",
      "\tGradient norm 54.1720483935\n",
      "Iteration  17 :\n",
      "\tGradient norm 29.4409126359\n",
      "Iteration  18 :\n",
      "\tGradient norm 48.5366162759\n",
      "Iteration  19 :\n",
      "\tGradient norm 65.4441244027\n",
      "Iteration  20 :\n",
      "\tGradient norm 56.5870517285\n",
      "0.7221\n",
      "\n"
     ]
    },
    {
     "name": "stderr",
     "output_type": "stream",
     "text": [
      "/Users/IzmailovPavel/Documents/Education/Course Project/Code/GP/gaussian_process_classification.py:605: RuntimeWarning: invalid value encountered in log\n",
      "  loss += np.sum(np.log(np.diag(sigma_L))) * l / N\n"
     ]
    }
   ],
   "source": [
    "results = []\n",
    "steps = [5., 2., 1.]\n",
    "for step in steps:\n",
    "    print(step)\n",
    "    model_covariance_obj = SquaredExponential(np.copy(cov_params))\n",
    "    ad_gp = GPC(model_covariance_obj, method='svi', hermgauss_deg=100)\n",
    "\n",
    "    opts = {'mode': 'adadelta', 'maxiter': 20, 'verbose': True, 'batch_size': 500, \n",
    "            'step_rate': step}#, 'print_freq':50}\n",
    "    batch_res = ad_gp.fit(x_tr, y_tr, inputs=inputs, optimizer_options=opts)\n",
    "    results.append(batch_res)\n",
    "    predicted = ad_gp.predict(x_test)\n",
    "    print(accuracy_score(y_test, predicted))\n",
    "    print()"
   ]
  },
  {
   "cell_type": "code",
   "execution_count": null,
   "metadata": {
    "collapsed": false
   },
   "outputs": [],
   "source": [
    "metric = lambda w: ad_gp.get_prediction_quality(w, x_test, y_test)\n",
    "for i in range(len(results)):\n",
    "    svi_ad_x_lst, svi_ad_y_lst = results[i].plot_performance(metric, 't', freq=5)\n",
    "    plt.plot(svi_ad_x_lst[1:], svi_ad_y_lst[1:], label=steps[i])\n",
    "    print(i)\n",
    "plt.ylim([0., 1.])\n",
    "plt.legend()\n",
    "plt.xlabel('Seconds')\n",
    "plt.ylabel('Accuracy')"
   ]
  },
  {
   "cell_type": "code",
   "execution_count": 27,
   "metadata": {
    "collapsed": false
   },
   "outputs": [
    {
     "name": "stdout",
     "output_type": "stream",
     "text": [
      "10.0\n",
      "Iteration  1 :\n",
      "\tGradient norm 102.258994639\n",
      "Iteration  2 :\n",
      "\tGradient norm 1462.41594166\n",
      "Iteration  3 :\n",
      "\tGradient norm 27391393.4927\n",
      "Iteration  4 :\n",
      "\tGradient norm 158346278.576\n",
      "Iteration  5 :\n",
      "\tGradient norm 99638289.946\n",
      "Iteration  6 :\n",
      "\tGradient norm 26310414.4965\n",
      "Iteration  7 :\n",
      "\tGradient norm 1675540.11491\n",
      "Iteration  8 :\n",
      "\tGradient norm 366035104.648\n",
      "Iteration  9 :\n",
      "\tGradient norm 17090309.823\n",
      "Iteration  10 :\n",
      "\tGradient norm 243969177.064\n",
      "Iteration  11 :\n",
      "\tGradient norm 1078421268.17\n",
      "Iteration  12 :\n",
      "\tGradient norm 1288662452.21\n",
      "Iteration  13 :\n",
      "\tGradient norm 995602557.464\n",
      "Iteration  14 :\n",
      "\tGradient norm 1106575391.99\n",
      "Iteration  15 :\n",
      "\tGradient norm 3935810248.24\n",
      "Iteration  16 :\n",
      "\tGradient norm 6153248227.85\n",
      "Iteration  17 :\n",
      "\tGradient norm 1217123332.38\n",
      "Iteration  18 :\n",
      "\tGradient norm 8639381003.43\n",
      "Iteration  19 :\n",
      "\tGradient norm 2015055749.59\n",
      "Iteration  20 :\n",
      "\tGradient norm 9001875262.91\n",
      "0.5074\n",
      "\n",
      "5.0\n",
      "Iteration  1 :\n",
      "\tGradient norm 1593.40259756\n",
      "Iteration  2 :\n",
      "\tGradient norm 245.060107415\n",
      "Iteration  3 :\n",
      "\tGradient norm 21.8727900974\n",
      "Iteration  4 :\n",
      "\tGradient norm 974.805587786\n",
      "Iteration  5 :\n",
      "\tGradient norm 1002377.1541\n",
      "Iteration  6 :\n",
      "\tGradient norm 668.310451172\n",
      "Iteration  7 :\n",
      "\tGradient norm 711.236379534\n",
      "Iteration  8 :\n",
      "\tGradient norm 1133.13534084\n",
      "Iteration  9 :\n",
      "\tGradient norm 3437.59357156\n",
      "Iteration  10 :\n",
      "\tGradient norm 1905.51322564\n",
      "Iteration  11 :\n",
      "\tGradient norm 15281.7206742\n",
      "Iteration  12 :\n",
      "\tGradient norm 260.758839565\n",
      "Iteration  13 :\n",
      "\tGradient norm 495.609040681\n",
      "Iteration  14 :\n",
      "\tGradient norm 1184.8071523\n",
      "Iteration  15 :\n",
      "\tGradient norm 757.499858289\n",
      "Iteration  16 :\n",
      "\tGradient norm 15296.9643048\n",
      "Iteration  17 :\n",
      "\tGradient norm 3402.72444882\n",
      "Iteration  18 :\n",
      "\tGradient norm 390.96133745\n",
      "Iteration  19 :\n",
      "\tGradient norm 18843.2799541\n",
      "Iteration  20 :\n",
      "\tGradient norm 1597803.67828\n",
      "0.5074\n",
      "\n",
      "2.0\n",
      "Iteration  1 :\n",
      "\tGradient norm 350.705532735\n",
      "Iteration  2 :\n",
      "\tGradient norm 299.597274478\n",
      "Iteration  3 :\n",
      "\tGradient norm 980.981489027\n",
      "Iteration  4 :\n",
      "\tGradient norm 73.6922487379\n",
      "Iteration  5 :\n",
      "\tGradient norm 324.199603203\n",
      "Iteration  6 :\n",
      "\tGradient norm 116.454938841\n",
      "Iteration  7 :\n",
      "\tGradient norm 32.0966864138\n",
      "Iteration  8 :\n",
      "\tGradient norm 1231.76539291\n",
      "Iteration  9 :\n",
      "\tGradient norm 48.7911305008\n",
      "Iteration  10 :\n",
      "\tGradient norm 7665.43806759\n",
      "Iteration  11 :\n",
      "\tGradient norm 49.8128069318\n",
      "Iteration  12 :\n",
      "\tGradient norm 8416.57365921\n",
      "Iteration  13 :\n",
      "\tGradient norm 58.0707032999\n",
      "Iteration  14 :\n",
      "\tGradient norm 313.924080066\n",
      "Iteration  15 :\n",
      "\tGradient norm 138918.505503\n",
      "Iteration  16 :\n",
      "\tGradient norm 2974.75159567\n",
      "Iteration "
     ]
    },
    {
     "name": "stderr",
     "output_type": "stream",
     "text": [
      "/Users/IzmailovPavel/Documents/Education/Course Project/Code/GP/gaussian_process_classification.py:605: RuntimeWarning: invalid value encountered in log\n",
      "  loss += np.sum(np.log(np.diag(sigma_L))) * l / N\n",
      "/Users/IzmailovPavel/Documents/Education/Course Project/Code/GP/gaussian_process_classification.py:600: RuntimeWarning: invalid value encountered in sqrt\n",
      "  S_i = np.sqrt((K_ii + np.einsum('ij,ji->i', k_i.T, K_mm_inv.dot((sigma - K_mm).dot(K_mm_inv.dot(k_i))))).T)\n"
     ]
    },
    {
     "name": "stdout",
     "output_type": "stream",
     "text": [
      " 17 :\n",
      "\tGradient norm 97.6413320908\n",
      "[[ nan]\n",
      " [ nan]\n",
      " [ nan]]\n"
     ]
    },
    {
     "ename": "NameError",
     "evalue": "name 'exit' is not defined",
     "output_type": "error",
     "traceback": [
      "\u001b[0;31m---------------------------------------------------------------------------\u001b[0m",
      "\u001b[0;31mLinAlgError\u001b[0m                               Traceback (most recent call last)",
      "\u001b[0;32m/Users/IzmailovPavel/Documents/Education/Course Project/Code/GP/gaussian_process_classification.py\u001b[0m in \u001b[0;36m_svi_elbo_batch_approx_oracle\u001b[0;34m(self, data_points, target_values, inducing_inputs, parameter_vec, indices, N)\u001b[0m\n\u001b[1;32m    573\u001b[0m         \u001b[0;32mtry\u001b[0m\u001b[0;34m:\u001b[0m\u001b[0;34m\u001b[0m\u001b[0m\n\u001b[0;32m--> 574\u001b[0;31m             \u001b[0mL\u001b[0m \u001b[0;34m=\u001b[0m \u001b[0mnp\u001b[0m\u001b[0;34m.\u001b[0m\u001b[0mlinalg\u001b[0m\u001b[0;34m.\u001b[0m\u001b[0mcholesky\u001b[0m\u001b[0;34m(\u001b[0m\u001b[0mK_mm\u001b[0m\u001b[0;34m)\u001b[0m\u001b[0;34m\u001b[0m\u001b[0m\n\u001b[0m\u001b[1;32m    575\u001b[0m         \u001b[0;32mexcept\u001b[0m\u001b[0;34m:\u001b[0m\u001b[0;34m\u001b[0m\u001b[0m\n",
      "\u001b[0;32m/Library/Frameworks/Python.framework/Versions/3.4/lib/python3.4/site-packages/numpy/linalg/linalg.py\u001b[0m in \u001b[0;36mcholesky\u001b[0;34m(a)\u001b[0m\n\u001b[1;32m    611\u001b[0m     \u001b[0msignature\u001b[0m \u001b[0;34m=\u001b[0m \u001b[0;34m'D->D'\u001b[0m \u001b[0;32mif\u001b[0m \u001b[0misComplexType\u001b[0m\u001b[0;34m(\u001b[0m\u001b[0mt\u001b[0m\u001b[0;34m)\u001b[0m \u001b[0;32melse\u001b[0m \u001b[0;34m'd->d'\u001b[0m\u001b[0;34m\u001b[0m\u001b[0m\n\u001b[0;32m--> 612\u001b[0;31m     \u001b[0mr\u001b[0m \u001b[0;34m=\u001b[0m \u001b[0mgufunc\u001b[0m\u001b[0;34m(\u001b[0m\u001b[0ma\u001b[0m\u001b[0;34m,\u001b[0m \u001b[0msignature\u001b[0m\u001b[0;34m=\u001b[0m\u001b[0msignature\u001b[0m\u001b[0;34m,\u001b[0m \u001b[0mextobj\u001b[0m\u001b[0;34m=\u001b[0m\u001b[0mextobj\u001b[0m\u001b[0;34m)\u001b[0m\u001b[0;34m\u001b[0m\u001b[0m\n\u001b[0m\u001b[1;32m    613\u001b[0m     \u001b[0;32mreturn\u001b[0m \u001b[0mwrap\u001b[0m\u001b[0;34m(\u001b[0m\u001b[0mr\u001b[0m\u001b[0;34m.\u001b[0m\u001b[0mastype\u001b[0m\u001b[0;34m(\u001b[0m\u001b[0mresult_t\u001b[0m\u001b[0;34m,\u001b[0m \u001b[0mcopy\u001b[0m\u001b[0;34m=\u001b[0m\u001b[0;32mFalse\u001b[0m\u001b[0;34m)\u001b[0m\u001b[0;34m)\u001b[0m\u001b[0;34m\u001b[0m\u001b[0m\n",
      "\u001b[0;32m/Library/Frameworks/Python.framework/Versions/3.4/lib/python3.4/site-packages/numpy/linalg/linalg.py\u001b[0m in \u001b[0;36m_raise_linalgerror_nonposdef\u001b[0;34m(err, flag)\u001b[0m\n\u001b[1;32m     92\u001b[0m \u001b[0;32mdef\u001b[0m \u001b[0m_raise_linalgerror_nonposdef\u001b[0m\u001b[0;34m(\u001b[0m\u001b[0merr\u001b[0m\u001b[0;34m,\u001b[0m \u001b[0mflag\u001b[0m\u001b[0;34m)\u001b[0m\u001b[0;34m:\u001b[0m\u001b[0;34m\u001b[0m\u001b[0m\n\u001b[0;32m---> 93\u001b[0;31m     \u001b[0;32mraise\u001b[0m \u001b[0mLinAlgError\u001b[0m\u001b[0;34m(\u001b[0m\u001b[0;34m\"Matrix is not positive definite\"\u001b[0m\u001b[0;34m)\u001b[0m\u001b[0;34m\u001b[0m\u001b[0m\n\u001b[0m\u001b[1;32m     94\u001b[0m \u001b[0;34m\u001b[0m\u001b[0m\n",
      "\u001b[0;31mLinAlgError\u001b[0m: Matrix is not positive definite",
      "\nDuring handling of the above exception, another exception occurred:\n",
      "\u001b[0;31mNameError\u001b[0m                                 Traceback (most recent call last)",
      "\u001b[0;32m<ipython-input-27-5d93f7e75efd>\u001b[0m in \u001b[0;36m<module>\u001b[0;34m()\u001b[0m\n\u001b[1;32m      8\u001b[0m     opts = {'mode': 'adadelta', 'maxiter': 20, 'verbose': True, 'batch_size': 1000, \n\u001b[1;32m      9\u001b[0m             'step_rate': step}#, 'print_freq':50}\n\u001b[0;32m---> 10\u001b[0;31m     \u001b[0mbatch_res\u001b[0m \u001b[0;34m=\u001b[0m \u001b[0mad_gp\u001b[0m\u001b[0;34m.\u001b[0m\u001b[0mfit\u001b[0m\u001b[0;34m(\u001b[0m\u001b[0mx_tr\u001b[0m\u001b[0;34m,\u001b[0m \u001b[0my_tr\u001b[0m\u001b[0;34m,\u001b[0m \u001b[0minputs\u001b[0m\u001b[0;34m=\u001b[0m\u001b[0minputs\u001b[0m\u001b[0;34m,\u001b[0m \u001b[0moptimizer_options\u001b[0m\u001b[0;34m=\u001b[0m\u001b[0mopts\u001b[0m\u001b[0;34m)\u001b[0m\u001b[0;34m\u001b[0m\u001b[0m\n\u001b[0m\u001b[1;32m     11\u001b[0m     \u001b[0mresults\u001b[0m\u001b[0;34m.\u001b[0m\u001b[0mappend\u001b[0m\u001b[0;34m(\u001b[0m\u001b[0mbatch_res\u001b[0m\u001b[0;34m)\u001b[0m\u001b[0;34m\u001b[0m\u001b[0m\n\u001b[1;32m     12\u001b[0m     \u001b[0mpredicted\u001b[0m \u001b[0;34m=\u001b[0m \u001b[0mad_gp\u001b[0m\u001b[0;34m.\u001b[0m\u001b[0mpredict\u001b[0m\u001b[0;34m(\u001b[0m\u001b[0mx_test\u001b[0m\u001b[0;34m)\u001b[0m\u001b[0;34m\u001b[0m\u001b[0m\n",
      "\u001b[0;32m/Users/IzmailovPavel/Documents/Education/Course Project/Code/GP/gaussian_process_classification.py\u001b[0m in \u001b[0;36mfit\u001b[0;34m(self, *args, **kwargs)\u001b[0m\n\u001b[1;32m    262\u001b[0m             \u001b[0;32mreturn\u001b[0m \u001b[0mself\u001b[0m\u001b[0;34m.\u001b[0m\u001b[0m_brute_alternative_fit\u001b[0m\u001b[0;34m(\u001b[0m\u001b[0;34m*\u001b[0m\u001b[0margs\u001b[0m\u001b[0;34m,\u001b[0m \u001b[0;34m**\u001b[0m\u001b[0mkwargs\u001b[0m\u001b[0;34m)\u001b[0m\u001b[0;34m\u001b[0m\u001b[0m\n\u001b[1;32m    263\u001b[0m         \u001b[0;32melif\u001b[0m \u001b[0mself\u001b[0m\u001b[0;34m.\u001b[0m\u001b[0mmethod\u001b[0m \u001b[0;34m==\u001b[0m \u001b[0;34m'svi'\u001b[0m\u001b[0;34m:\u001b[0m\u001b[0;34m\u001b[0m\u001b[0m\n\u001b[0;32m--> 264\u001b[0;31m             \u001b[0;32mreturn\u001b[0m \u001b[0mself\u001b[0m\u001b[0;34m.\u001b[0m\u001b[0m_svi_fit\u001b[0m\u001b[0;34m(\u001b[0m\u001b[0;34m*\u001b[0m\u001b[0margs\u001b[0m\u001b[0;34m,\u001b[0m \u001b[0;34m**\u001b[0m\u001b[0mkwargs\u001b[0m\u001b[0;34m)\u001b[0m\u001b[0;34m\u001b[0m\u001b[0m\n\u001b[0m\u001b[1;32m    265\u001b[0m         \u001b[0;32melif\u001b[0m \u001b[0mself\u001b[0m\u001b[0;34m.\u001b[0m\u001b[0mmethod\u001b[0m \u001b[0;34m==\u001b[0m \u001b[0;34m'vi'\u001b[0m\u001b[0;34m:\u001b[0m\u001b[0;34m\u001b[0m\u001b[0m\n\u001b[1;32m    266\u001b[0m             \u001b[0;32mreturn\u001b[0m \u001b[0mself\u001b[0m\u001b[0;34m.\u001b[0m\u001b[0m_vi_fit\u001b[0m\u001b[0;34m(\u001b[0m\u001b[0;34m*\u001b[0m\u001b[0margs\u001b[0m\u001b[0;34m,\u001b[0m \u001b[0;34m**\u001b[0m\u001b[0mkwargs\u001b[0m\u001b[0;34m)\u001b[0m\u001b[0;34m\u001b[0m\u001b[0m\n",
      "\u001b[0;32m/Users/IzmailovPavel/Documents/Education/Course Project/Code/GP/gaussian_process_classification.py\u001b[0m in \u001b[0;36m_svi_fit\u001b[0;34m(self, data_points, target_values, num_inputs, inputs, optimizer_options)\u001b[0m\n\u001b[1;32m    508\u001b[0m         \u001b[0;32melif\u001b[0m \u001b[0mmode\u001b[0m \u001b[0;34m==\u001b[0m \u001b[0;34m'adadelta'\u001b[0m\u001b[0;34m:\u001b[0m\u001b[0;34m\u001b[0m\u001b[0m\n\u001b[1;32m    509\u001b[0m             res, w_list, time_list = climin_adadelta_wrapper(oracle=adadelta_fun, w0=param_vec, train_points=data_points,\n\u001b[0;32m--> 510\u001b[0;31m                                                              train_targets=target_values, options=opts)\n\u001b[0m\u001b[1;32m    511\u001b[0m \u001b[0;34m\u001b[0m\u001b[0m\n\u001b[1;32m    512\u001b[0m         \u001b[0mtheta\u001b[0m\u001b[0;34m,\u001b[0m \u001b[0mmu\u001b[0m\u001b[0;34m,\u001b[0m \u001b[0msigma_L\u001b[0m \u001b[0;34m=\u001b[0m \u001b[0mself\u001b[0m\u001b[0;34m.\u001b[0m\u001b[0m_svi_get_parameters\u001b[0m\u001b[0;34m(\u001b[0m\u001b[0mres\u001b[0m\u001b[0;34m)\u001b[0m\u001b[0;34m\u001b[0m\u001b[0m\n",
      "\u001b[0;32m/Users/IzmailovPavel/Documents/Education/Course Project/Code/GP/optimization.py\u001b[0m in \u001b[0;36mclimin_adadelta_wrapper\u001b[0;34m(oracle, w0, train_points, train_targets, options)\u001b[0m\n\u001b[1;32m    538\u001b[0m     \u001b[0mn_iterations\u001b[0m \u001b[0;34m=\u001b[0m \u001b[0mint\u001b[0m\u001b[0;34m(\u001b[0m\u001b[0mn_epochs\u001b[0m \u001b[0;34m*\u001b[0m \u001b[0mtrain_targets\u001b[0m\u001b[0;34m.\u001b[0m\u001b[0msize\u001b[0m \u001b[0;34m/\u001b[0m \u001b[0moptions\u001b[0m\u001b[0;34m[\u001b[0m\u001b[0;34m'batch_size'\u001b[0m\u001b[0;34m]\u001b[0m\u001b[0;34m)\u001b[0m\u001b[0;34m\u001b[0m\u001b[0m\n\u001b[1;32m    539\u001b[0m     \u001b[0mprint_freq\u001b[0m \u001b[0;34m=\u001b[0m \u001b[0mint\u001b[0m\u001b[0;34m(\u001b[0m\u001b[0moptions\u001b[0m\u001b[0;34m[\u001b[0m\u001b[0;34m'print_freq'\u001b[0m\u001b[0;34m]\u001b[0m \u001b[0;34m*\u001b[0m \u001b[0mtrain_targets\u001b[0m\u001b[0;34m.\u001b[0m\u001b[0msize\u001b[0m \u001b[0;34m/\u001b[0m \u001b[0moptions\u001b[0m\u001b[0;34m[\u001b[0m\u001b[0;34m'batch_size'\u001b[0m\u001b[0;34m]\u001b[0m\u001b[0;34m)\u001b[0m\u001b[0;34m\u001b[0m\u001b[0m\n\u001b[0;32m--> 540\u001b[0;31m     \u001b[0;32mfor\u001b[0m \u001b[0minfo\u001b[0m \u001b[0;32min\u001b[0m \u001b[0mopt\u001b[0m\u001b[0;34m:\u001b[0m\u001b[0;34m\u001b[0m\u001b[0m\n\u001b[0m\u001b[1;32m    541\u001b[0m         \u001b[0mi\u001b[0m \u001b[0;34m=\u001b[0m \u001b[0minfo\u001b[0m\u001b[0;34m[\u001b[0m\u001b[0;34m'n_iter'\u001b[0m\u001b[0;34m]\u001b[0m\u001b[0;34m\u001b[0m\u001b[0m\n\u001b[1;32m    542\u001b[0m         \u001b[0;32mif\u001b[0m \u001b[0mi\u001b[0m \u001b[0;34m>\u001b[0m \u001b[0mn_iterations\u001b[0m\u001b[0;34m:\u001b[0m\u001b[0;34m\u001b[0m\u001b[0m\n",
      "\u001b[0;32m/Users/IzmailovPavel/Downloads/climin-master/climin/base.py\u001b[0m in \u001b[0;36m__iter__\u001b[0;34m(self)\u001b[0m\n\u001b[1;32m     82\u001b[0m \u001b[0;34m\u001b[0m\u001b[0m\n\u001b[1;32m     83\u001b[0m     \u001b[0;32mdef\u001b[0m \u001b[0m__iter__\u001b[0m\u001b[0;34m(\u001b[0m\u001b[0mself\u001b[0m\u001b[0;34m)\u001b[0m\u001b[0;34m:\u001b[0m\u001b[0;34m\u001b[0m\u001b[0m\n\u001b[0;32m---> 84\u001b[0;31m         \u001b[0;32mfor\u001b[0m \u001b[0minfo\u001b[0m \u001b[0;32min\u001b[0m \u001b[0mself\u001b[0m\u001b[0;34m.\u001b[0m\u001b[0m_iterate\u001b[0m\u001b[0;34m(\u001b[0m\u001b[0;34m)\u001b[0m\u001b[0;34m:\u001b[0m\u001b[0;34m\u001b[0m\u001b[0m\n\u001b[0m\u001b[1;32m     85\u001b[0m             \u001b[0;32myield\u001b[0m \u001b[0mself\u001b[0m\u001b[0;34m.\u001b[0m\u001b[0mextended_info\u001b[0m\u001b[0;34m(\u001b[0m\u001b[0;34m**\u001b[0m\u001b[0minfo\u001b[0m\u001b[0;34m)\u001b[0m\u001b[0;34m\u001b[0m\u001b[0m\n\u001b[1;32m     86\u001b[0m \u001b[0;34m\u001b[0m\u001b[0m\n",
      "\u001b[0;32m/Users/IzmailovPavel/Downloads/climin-master/climin/adadelta.py\u001b[0m in \u001b[0;36m_iterate\u001b[0;34m(self)\u001b[0m\n\u001b[1;32m    112\u001b[0m             \u001b[0mself\u001b[0m\u001b[0;34m.\u001b[0m\u001b[0mwrt\u001b[0m \u001b[0;34m-=\u001b[0m \u001b[0mstep1\u001b[0m\u001b[0;34m\u001b[0m\u001b[0m\n\u001b[1;32m    113\u001b[0m \u001b[0;34m\u001b[0m\u001b[0m\n\u001b[0;32m--> 114\u001b[0;31m             \u001b[0mgradient\u001b[0m \u001b[0;34m=\u001b[0m \u001b[0mself\u001b[0m\u001b[0;34m.\u001b[0m\u001b[0mfprime\u001b[0m\u001b[0;34m(\u001b[0m\u001b[0mself\u001b[0m\u001b[0;34m.\u001b[0m\u001b[0mwrt\u001b[0m\u001b[0;34m,\u001b[0m \u001b[0;34m*\u001b[0m\u001b[0margs\u001b[0m\u001b[0;34m,\u001b[0m \u001b[0;34m**\u001b[0m\u001b[0mkwargs\u001b[0m\u001b[0;34m)\u001b[0m\u001b[0;34m\u001b[0m\u001b[0m\n\u001b[0m\u001b[1;32m    115\u001b[0m \u001b[0;34m\u001b[0m\u001b[0m\n\u001b[1;32m    116\u001b[0m             \u001b[0mself\u001b[0m\u001b[0;34m.\u001b[0m\u001b[0mgms\u001b[0m \u001b[0;34m=\u001b[0m \u001b[0;34m(\u001b[0m\u001b[0md\u001b[0m \u001b[0;34m*\u001b[0m \u001b[0mself\u001b[0m\u001b[0;34m.\u001b[0m\u001b[0mgms\u001b[0m\u001b[0;34m)\u001b[0m \u001b[0;34m+\u001b[0m \u001b[0;34m(\u001b[0m\u001b[0;36m1\u001b[0m \u001b[0;34m-\u001b[0m \u001b[0md\u001b[0m\u001b[0;34m)\u001b[0m \u001b[0;34m*\u001b[0m \u001b[0mgradient\u001b[0m \u001b[0;34m**\u001b[0m \u001b[0;36m2\u001b[0m\u001b[0;34m\u001b[0m\u001b[0m\n",
      "\u001b[0;32m/Users/IzmailovPavel/Documents/Education/Course Project/Code/GP/gaussian_process_classification.py\u001b[0m in \u001b[0;36madadelta_fun\u001b[0;34m(w, train_points, train_targets)\u001b[0m\n\u001b[1;32m    484\u001b[0m         \u001b[0;32mdef\u001b[0m \u001b[0madadelta_fun\u001b[0m\u001b[0;34m(\u001b[0m\u001b[0mw\u001b[0m\u001b[0;34m,\u001b[0m \u001b[0mtrain_points\u001b[0m\u001b[0;34m,\u001b[0m \u001b[0mtrain_targets\u001b[0m\u001b[0;34m)\u001b[0m\u001b[0;34m:\u001b[0m\u001b[0;34m\u001b[0m\u001b[0m\n\u001b[1;32m    485\u001b[0m             _, grad = self._svi_elbo_batch_approx_oracle(train_points, train_targets, inputs, parameter_vec=w,\n\u001b[0;32m--> 486\u001b[0;31m                                        indices=range(train_targets.size), N=n)\n\u001b[0m\u001b[1;32m    487\u001b[0m             \u001b[0;32mreturn\u001b[0m \u001b[0;34m-\u001b[0m\u001b[0mgrad\u001b[0m\u001b[0;34m[\u001b[0m\u001b[0;34m:\u001b[0m\u001b[0;34m,\u001b[0m \u001b[0;36m0\u001b[0m\u001b[0;34m]\u001b[0m\u001b[0;34m\u001b[0m\u001b[0m\n\u001b[1;32m    488\u001b[0m \u001b[0;34m\u001b[0m\u001b[0m\n",
      "\u001b[0;32m/Users/IzmailovPavel/Documents/Education/Course Project/Code/GP/gaussian_process_classification.py\u001b[0m in \u001b[0;36m_svi_elbo_batch_approx_oracle\u001b[0;34m(self, data_points, target_values, inducing_inputs, parameter_vec, indices, N)\u001b[0m\n\u001b[1;32m    575\u001b[0m         \u001b[0;32mexcept\u001b[0m\u001b[0;34m:\u001b[0m\u001b[0;34m\u001b[0m\u001b[0m\n\u001b[1;32m    576\u001b[0m             \u001b[0mprint\u001b[0m\u001b[0;34m(\u001b[0m\u001b[0mparams\u001b[0m\u001b[0;34m)\u001b[0m\u001b[0;34m\u001b[0m\u001b[0m\n\u001b[0;32m--> 577\u001b[0;31m             \u001b[0mexit\u001b[0m\u001b[0;34m(\u001b[0m\u001b[0;36m0\u001b[0m\u001b[0;34m)\u001b[0m\u001b[0;34m\u001b[0m\u001b[0m\n\u001b[0m\u001b[1;32m    578\u001b[0m \u001b[0;34m\u001b[0m\u001b[0m\n\u001b[1;32m    579\u001b[0m         \u001b[0mL_inv\u001b[0m \u001b[0;34m=\u001b[0m \u001b[0mnp\u001b[0m\u001b[0;34m.\u001b[0m\u001b[0mlinalg\u001b[0m\u001b[0;34m.\u001b[0m\u001b[0minv\u001b[0m\u001b[0;34m(\u001b[0m\u001b[0mL\u001b[0m\u001b[0;34m)\u001b[0m\u001b[0;34m\u001b[0m\u001b[0m\n",
      "\u001b[0;31mNameError\u001b[0m: name 'exit' is not defined"
     ]
    }
   ],
   "source": [
    "results = []\n",
    "steps = [10., 5., 2., 1.]\n",
    "for step in steps:\n",
    "    print(step)\n",
    "    model_covariance_obj = SquaredExponential(np.copy(cov_params))\n",
    "    ad_gp = GPC(model_covariance_obj, method='svi', hermgauss_deg=100)\n",
    "\n",
    "    opts = {'mode': 'adadelta', 'maxiter': 20, 'verbose': True, 'batch_size': 1000, \n",
    "            'step_rate': step}#, 'print_freq':50}\n",
    "    batch_res = ad_gp.fit(x_tr, y_tr, inputs=inputs, optimizer_options=opts)\n",
    "    results.append(batch_res)\n",
    "    predicted = ad_gp.predict(x_test)\n",
    "    print(accuracy_score(y_test, predicted))\n",
    "    print()"
   ]
  },
  {
   "cell_type": "code",
   "execution_count": null,
   "metadata": {
    "collapsed": false
   },
   "outputs": [],
   "source": [
    "metric = lambda w: ad_gp.get_prediction_quality(w, x_test, y_test)\n",
    "for i in range(len(results)):\n",
    "    svi_ad_x_lst, svi_ad_y_lst = results[i].plot_performance(metric, 't', freq=5)\n",
    "    plt.plot(svi_ad_x_lst[1:], svi_ad_y_lst[1:], label=steps[i])\n",
    "    print(i)\n",
    "plt.ylim([0., 1.])\n",
    "plt.legend()\n",
    "plt.xlabel('Seconds')\n",
    "plt.ylabel('Accuracy')"
   ]
  },
  {
   "cell_type": "code",
   "execution_count": 30,
   "metadata": {
    "collapsed": false
   },
   "outputs": [
    {
     "name": "stdout",
     "output_type": "stream",
     "text": [
      "0.5\n",
      "Iteration  1 :\n",
      "\tGradient norm 893.784466238\n",
      "Iteration  2 :\n",
      "\tGradient norm 1209.94730007\n",
      "Iteration  3 :\n",
      "\tGradient norm 1335.7733194\n",
      "Iteration  4 :\n",
      "\tGradient norm 1346.17755284\n",
      "Iteration  5 :\n",
      "\tGradient norm 1281.35235621\n",
      "Iteration  6 :\n",
      "\tGradient norm 1187.24647676\n",
      "Iteration  7 :\n",
      "\tGradient norm 1083.17604151\n",
      "Iteration  8 :\n",
      "\tGradient norm 978.963466123\n",
      "Iteration  9 :\n",
      "\tGradient norm 879.27108324\n",
      "Iteration  10 :\n",
      "\tGradient norm 796.782180842\n",
      "Iteration  11 :\n",
      "\tGradient norm 702.855560978\n",
      "Iteration  12 :\n",
      "\tGradient norm 624.205389258\n",
      "Iteration  13 :\n",
      "\tGradient norm 553.412923403\n",
      "Iteration  14 :\n",
      "\tGradient norm 502.855516211\n",
      "Iteration  15 :\n",
      "\tGradient norm 445.614996186\n",
      "Iteration  16 :\n",
      "\tGradient norm 397.854008576\n",
      "Iteration  17 :\n",
      "\tGradient norm 353.978145295\n",
      "Iteration  18 :\n",
      "\tGradient norm 325.190007063\n",
      "Iteration  19 :\n",
      "\tGradient norm 306.735171595\n",
      "Iteration  20 :\n",
      "\tGradient norm 291.417230984\n",
      "0.5371\n",
      "\n"
     ]
    }
   ],
   "source": [
    "results = []\n",
    "steps = [0.5]\n",
    "for step in steps:\n",
    "    print(step)\n",
    "    model_covariance_obj = SquaredExponential(np.copy(cov_params))\n",
    "    ad_gp = GPC(model_covariance_obj, method='svi', hermgauss_deg=100)\n",
    "\n",
    "    opts = {'mode': 'adadelta', 'maxiter': 20, 'verbose': True, 'batch_size': 5000, \n",
    "            'step_rate': step}#, 'print_freq':50}\n",
    "    batch_res = ad_gp.fit(x_tr, y_tr, inputs=inputs, optimizer_options=opts)\n",
    "    results.append(batch_res)\n",
    "    predicted = ad_gp.predict(x_test)\n",
    "    print(accuracy_score(y_test, predicted))\n",
    "    print()"
   ]
  },
  {
   "cell_type": "code",
   "execution_count": null,
   "metadata": {
    "collapsed": true
   },
   "outputs": [],
   "source": [
    "metric = lambda w: ad_gp.get_prediction_quality(w, x_test, y_test)\n",
    "for i in range(len(results)):\n",
    "    svi_ad_x_lst, svi_ad_y_lst = results[i].plot_performance(metric, 't', freq=5)\n",
    "    plt.plot(svi_ad_x_lst[1:], svi_ad_y_lst[1:], label=steps[i])\n",
    "    print(i)\n",
    "plt.ylim([0., 1.])\n",
    "plt.legend()\n",
    "plt.xlabel('Seconds')\n",
    "plt.ylabel('Accuracy')"
   ]
  },
  {
   "cell_type": "code",
   "execution_count": null,
   "metadata": {
    "collapsed": true
   },
   "outputs": [],
   "source": []
  },
  {
   "cell_type": "code",
   "execution_count": null,
   "metadata": {
    "collapsed": true
   },
   "outputs": [],
   "source": []
  },
  {
   "cell_type": "code",
   "execution_count": null,
   "metadata": {
    "collapsed": false
   },
   "outputs": [],
   "source": [
    "model_covariance_obj = SquaredExponential(np.copy(cov_params))\n",
    "ad_gp = GPC(model_covariance_obj, method='svi', hermgauss_deg=100)\n",
    "opts = {'mode': 'adadelta', 'maxiter': 100, 'verbose': True, 'batch_size': 200, \n",
    "        'step_rate': 1., 'print_freq':1}\n",
    "batch_res = ad_gp.fit(x_tr, y_tr, inputs=inputs, optimizer_options=opts)"
   ]
  },
  {
   "cell_type": "code",
   "execution_count": null,
   "metadata": {
    "collapsed": false
   },
   "outputs": [],
   "source": [
    "metric = lambda w: ad_gp.get_prediction_quality(w, x_test, y_test)\n",
    "svi_ad_x_lst, svi_ad_y_lst = batch_res.plot_performance(metric, 't', freq=10)\n",
    "plt.plot(svi_ad_x_lst[1:], svi_ad_y_lst[1:], '-yx', label='svi-AdaDelta-c')\n",
    "plt.ylim([0., 1.])\n",
    "plt.legend()\n",
    "plt.xlabel('Seconds')\n",
    "plt.ylabel('Accuracy')"
   ]
  },
  {
   "cell_type": "markdown",
   "metadata": {},
   "source": [
    "## Выводы"
   ]
  },
  {
   "cell_type": "code",
   "execution_count": 12,
   "metadata": {
    "collapsed": false
   },
   "outputs": [
    {
     "data": {
      "text/plain": [
       "<matplotlib.text.Text at 0x10d339208>"
      ]
     },
     "execution_count": 12,
     "metadata": {},
     "output_type": "execute_result"
    },
    {
     "data": {
      "image/png": "[encoded data removed]",
      "text/plain": [
       "<matplotlib.figure.Figure at 0x10d33da90>"
      ]
     },
     "metadata": {},
     "output_type": "display_data"
    }
   ],
   "source": [
    "plt.figure(figsize=(12, 7))\n",
    "plt.plot(svi_x_lst[1:], svi_y_lst[1:], '-gx', label='svi-L-BFGS-B-c')\n",
    "plt.plot(svi_ad_x_lst[1:], svi_ad_y_lst[1:], '-yx', label='svi-AdaDelta-c')\n",
    "plt.plot(vi_x_lst[1:], vi_y_lst[1:], '-bx', label='vi-means-c')\n",
    "plt.ylim([0.6, 1.])\n",
    "plt.legend()\n",
    "plt.xlabel('Seconds')\n",
    "plt.ylabel('Accuracy')"
   ]
  },
  {
   "cell_type": "code",
   "execution_count": 13,
   "metadata": {
    "collapsed": true
   },
   "outputs": [],
   "source": [
    "np.save('../plots/vi_vs_svi_class/'+ data_name +'_svi_x.npy', svi_x_lst)\n",
    "np.save('../plots/vi_vs_svi_class/'+ data_name +'_svi_y.npy', svi_y_lst)\n",
    "np.save('../plots/vi_vs_svi_class/'+ data_name +'_vi_x.npy', vi_x_lst)\n",
    "np.save('../plots/vi_vs_svi_class/'+ data_name +'_vi_y.npy', vi_y_lst)\n",
    "np.save('../plots/vi_vs_svi_class/'+ data_name +'_ad_x.npy', svi_ad_x_lst)\n",
    "np.save('../plots/vi_vs_svi_class/'+ data_name +'_ad_y.npy', svi_ad_y_lst)"
   ]
  },
  {
   "cell_type": "code",
   "execution_count": null,
   "metadata": {
    "collapsed": true
   },
   "outputs": [],
   "source": []
  }
 ],
 "metadata": {
  "kernelspec": {
   "display_name": "Python 3",
   "language": "python",
   "name": "python3"
  },
  "language_info": {
   "codemirror_mode": {
    "name": "ipython",
    "version": 3
   },
   "file_extension": ".py",
   "mimetype": "text/x-python",
   "name": "python",
   "nbconvert_exporter": "python",
   "pygments_lexer": "ipython3",
   "version": "3.4.3"
  }
 },
 "nbformat": 4,
 "nbformat_minor": 0
}
