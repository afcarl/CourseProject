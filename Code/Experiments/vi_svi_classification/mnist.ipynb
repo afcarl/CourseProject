{
 "cells": [
  {
   "cell_type": "markdown",
   "metadata": {},
   "source": [
    "# mnist"
   ]
  },
  {
   "cell_type": "code",
   "execution_count": 1,
   "metadata": {
    "collapsed": false
   },
   "outputs": [],
   "source": [
    "import sys\n",
    "sys.path.append('/Users/IzmailovPavel/Documents/Education/Course Project/Code')\n",
    "import numpy as np\n",
    "import matplotlib as mpl\n",
    "\n",
    "from matplotlib import pyplot as plt\n",
    "\n",
    "from GP.covariance_functions import SquaredExponential\n",
    "from GP.gaussian_process_classification import GPC\n",
    "\n",
    "from sklearn.cluster import KMeans\n",
    "\n",
    "from vi_svi_class_experiments import run_methods\n",
    "from sklearn.datasets import load_svmlight_file\n",
    "from sklearn.preprocessing import StandardScaler\n",
    "from sklearn.utils import shuffle\n",
    "%matplotlib inline\n",
    "%load_ext autoreload\n",
    "%autoreload 2"
   ]
  },
  {
   "cell_type": "markdown",
   "metadata": {},
   "source": [
    "## Данные"
   ]
  },
  {
   "cell_type": "code",
   "execution_count": 2,
   "metadata": {
    "collapsed": false
   },
   "outputs": [
    {
     "name": "stdout",
     "output_type": "stream",
     "text": [
      "of objects: 10000\n",
      "of features: 778\n",
      "mnist\n"
     ]
    }
   ],
   "source": [
    "x_tr, y_tr = load_svmlight_file('../../../../Programming/DataSets/Classification/multiclass/mnist_scale(60000,780).txt')\n",
    "x_tr, y_tr = shuffle(x_tr, y_tr, random_state=241)\n",
    "x_test, y_test = load_svmlight_file('../../../../Programming/DataSets/Classification/multiclass/mnist_scale_test(10000,780).txt')\n",
    "data_name = 'mnist'\n",
    "\n",
    "x_tr = x_tr.toarray()\n",
    "x_test = x_test.toarray()\n",
    "scaler = StandardScaler()\n",
    "x_tr = scaler.fit_transform(x_tr).T\n",
    "x_test = scaler.transform(x_test).T\n",
    "\n",
    "y_tr = (y_tr %2 == 0).astype(float)\n",
    "y_test = (y_test %2 == 0).astype(float)\n",
    "\n",
    "x_tr = (x_tr + 1) / 2\n",
    "x_test = (x_test + 1) / 2\n",
    "y_tr = y_tr[:, None]\n",
    "y_test = y_test[:, None]\n",
    "y_tr[y_tr == 0] = -1\n",
    "y_test[y_test == 0] = -1\n",
    "dim, num = x_tr.shape\n",
    "print('of objects:', num)\n",
    "print('of features:', dim)\n",
    "print(data_name)"
   ]
  },
  {
   "cell_type": "markdown",
   "metadata": {},
   "source": [
    "## K-Means cluster centers"
   ]
  },
  {
   "cell_type": "code",
   "execution_count": 3,
   "metadata": {
    "collapsed": false
   },
   "outputs": [
    {
     "name": "stdout",
     "output_type": "stream",
     "text": [
      "Finding means...\n",
      "...found\n"
     ]
    }
   ],
   "source": [
    "ind_num = 300\n",
    "print('Finding means...')\n",
    "means = KMeans(n_clusters=ind_num, n_init=3, max_iter=100, random_state=241)\n",
    "means.fit(x_tr.T)\n",
    "inputs = means.cluster_centers_.T\n",
    "print('...found')"
   ]
  },
  {
   "cell_type": "code",
   "execution_count": 4,
   "metadata": {
    "collapsed": true
   },
   "outputs": [],
   "source": [
    "with open('../plots/vi_vs_svi_class/'+ data_name +'_title.txt', 'w') as f:\n",
    "    title = data_name + ' dataset, ' + 'n = ' + str(num) + ', d = ' + str(dim) + ', m = ' + str(ind_num)\n",
    "    f.write(title)"
   ]
  },
  {
   "cell_type": "code",
   "execution_count": 4,
   "metadata": {
    "collapsed": true
   },
   "outputs": [],
   "source": [
    "cov_params = np.array([150., 200., 0.01])"
   ]
  },
  {
   "cell_type": "markdown",
   "metadata": {},
   "source": [
    "## svi-L-BFGS-B-c method"
   ]
  },
  {
   "cell_type": "code",
   "execution_count": 20,
   "metadata": {
    "collapsed": true
   },
   "outputs": [],
   "source": [
    "model_covariance_obj = SquaredExponential(np.copy(cov_params))\n",
    "svi_gp = GPC(model_covariance_obj, method='svi')"
   ]
  },
  {
   "cell_type": "code",
   "execution_count": 21,
   "metadata": {
    "collapsed": false
   },
   "outputs": [],
   "source": [
    "opts = {'mode': 'full', 'maxiter': 200, 'mydisp': False}\n",
    "svi_res = svi_gp.fit(x_tr, y_tr, inputs=inputs, optimizer_options=opts)"
   ]
  },
  {
   "cell_type": "code",
   "execution_count": 22,
   "metadata": {
    "collapsed": false
   },
   "outputs": [],
   "source": [
    "metric = lambda w: svi_gp.get_prediction_quality(w, x_test, y_test)\n",
    "svi_x_lst, svi_y_lst = svi_res.plot_performance(metric, 't', freq=10)"
   ]
  },
  {
   "cell_type": "code",
   "execution_count": 23,
   "metadata": {
    "collapsed": false
   },
   "outputs": [
    {
     "data": {
      "text/plain": [
       "<matplotlib.text.Text at 0x10dc69160>"
      ]
     },
     "execution_count": 23,
     "metadata": {},
     "output_type": "execute_result"
    },
    {
     "data": {
      "image/png": "[encoded data removed]",
      "text/plain": [
       "<matplotlib.figure.Figure at 0x10da96dd8>"
      ]
     },
     "metadata": {},
     "output_type": "display_data"
    }
   ],
   "source": [
    "plt.plot(svi_x_lst[1:], svi_y_lst[1:], '-gx', label='svi-L-BFGS-B-c')\n",
    "plt.ylim([0.5, 1.])\n",
    "plt.legend()\n",
    "plt.xlabel('Seconds')\n",
    "plt.ylabel('Accuracy')"
   ]
  },
  {
   "cell_type": "markdown",
   "metadata": {},
   "source": [
    "## vi-means-c method"
   ]
  },
  {
   "cell_type": "code",
   "execution_count": 10,
   "metadata": {
    "collapsed": false
   },
   "outputs": [
    {
     "name": "stdout",
     "output_type": "stream",
     "text": [
      "Hyper-parameters at iteration 0 : [  1.50000000e+02   2.00000000e+02   1.00000000e-02]\n",
      "Hyper-parameters at iteration 1 : [  1.01226585e+02   2.37740161e+02   1.00000000e-02]\n",
      "Hyper-parameters at iteration 2 : [  5.30534752e+01   2.51815527e+02   1.00000000e-02]\n",
      "Hyper-parameters at iteration 3 : [  3.97908728e+01   2.53518488e+02   1.00000000e-02]\n",
      "Hyper-parameters at iteration 4 : [  3.71876622e+01   2.53819796e+02   1.00000000e-02]\n",
      "\tHyper-parameters at outter iteration 0 : [  3.81358301e+01   2.53711072e+02   1.00000000e-02]\n",
      "Hyper-parameters at iteration 0 : [  3.81358301e+01   2.53711072e+02   1.00000000e-02]\n",
      "Hyper-parameters at iteration 1 : [  3.29963362e+01   2.54479883e+02   1.00000000e-02]\n",
      "Hyper-parameters at iteration 2 : [  3.33467380e+01   2.54427768e+02   1.00000000e-02]\n",
      "Hyper-parameters at iteration 3 : [  3.33399630e+01   2.54428809e+02   1.00000000e-02]\n",
      "\tHyper-parameters at outter iteration 1 : [  3.33286619e+01   2.54430859e+02   1.00000000e-02]\n",
      "Hyper-parameters at iteration 0 : [  3.33286619e+01   2.54430859e+02   1.00000000e-02]\n",
      "Hyper-parameters at iteration 1 : [  3.10019903e+01   2.54748567e+02   1.00000000e-02]\n",
      "Hyper-parameters at iteration 2 : [  3.15272488e+01   2.54677288e+02   1.00000000e-02]\n",
      "\tHyper-parameters at outter iteration 2 : [  3.15272488e+01   2.54677288e+02   1.00000000e-02]\n",
      "Hyper-parameters at iteration 0 : [  3.15272488e+01   2.54677288e+02   1.00000000e-02]\n",
      "Hyper-parameters at iteration 1 : [  3.02761241e+01   2.54839745e+02   1.00000000e-02]\n",
      "Hyper-parameters at iteration 2 : [  3.06178367e+01   2.54795735e+02   1.00000000e-02]\n",
      "Hyper-parameters at iteration 3 : [  3.06043486e+01   2.54797545e+02   1.00000000e-02]\n",
      "Hyper-parameters at iteration 4 : [  3.06038237e+01   2.54797947e+02   1.00000000e-02]\n",
      "\tHyper-parameters at outter iteration 3 : [  3.06038237e+01   2.54797947e+02   1.00000000e-02]\n",
      "Hyper-parameters at iteration 0 : [  3.06038237e+01   2.54797947e+02   1.00000000e-02]\n",
      "Hyper-parameters at iteration 1 : [  2.98826978e+01   2.54885568e+02   1.00000000e-02]\n",
      "Hyper-parameters at iteration 2 : [  3.00952579e+01   2.54860071e+02   1.00000000e-02]\n",
      "Hyper-parameters at iteration 3 : [  3.00907072e+01   2.54860587e+02   1.00000000e-02]\n",
      "\tHyper-parameters at outter iteration 4 : [  3.00907072e+01   2.54860587e+02   1.00000000e-02]\n",
      "Hyper-parameters at iteration 0 : [  3.00907072e+01   2.54860587e+02   1.00000000e-02]\n",
      "Hyper-parameters at iteration 1 : [  2.96344003e+01   2.54914251e+02   1.00000000e-02]\n",
      "Hyper-parameters at iteration 2 : [  2.97736099e+01   2.54897998e+02   1.00000000e-02]\n",
      "Hyper-parameters at iteration 3 : [  2.97719916e+01   2.54898158e+02   1.00000000e-02]\n",
      "\tHyper-parameters at outter iteration 5 : [  2.97719916e+01   2.54898158e+02   1.00000000e-02]\n",
      "Hyper-parameters at iteration 0 : [  2.97719916e+01   2.54898158e+02   1.00000000e-02]\n",
      "Hyper-parameters at iteration 1 : [  2.94741263e+01   2.54935924e+02   1.00000000e-02]\n",
      "\tHyper-parameters at outter iteration 6 : [  2.94741263e+01   2.54935924e+02   1.00000000e-02]\n"
     ]
    }
   ],
   "source": [
    "model_covariance_obj = SquaredExponential(np.copy(cov_params))\n",
    "vi_gp = GPC(model_covariance_obj, method='vi')\n",
    "opts = {'maxfun':5, 'mydisp': True, 'num_updates':3}\n",
    "vi_res = vi_gp.fit(x_tr, y_tr, inputs=inputs, optimizer_options=opts, max_out_iter=7)"
   ]
  },
  {
   "cell_type": "code",
   "execution_count": 11,
   "metadata": {
    "collapsed": false
   },
   "outputs": [
    {
     "data": {
      "text/plain": [
       "<matplotlib.text.Text at 0x10d323da0>"
      ]
     },
     "execution_count": 11,
     "metadata": {},
     "output_type": "execute_result"
    },
    {
     "data": {
      "image/png": "[encoded data removed]",
      "text/plain": [
       "<matplotlib.figure.Figure at 0x10d1dd9b0>"
      ]
     },
     "metadata": {},
     "output_type": "display_data"
    }
   ],
   "source": [
    "metric = lambda w: vi_gp.get_prediction_quality(w, x_test, y_test)\n",
    "vi_x_lst, vi_y_lst = vi_res.plot_performance(metric, 't', freq=1)\n",
    "plt.plot(vi_x_lst[1:], vi_y_lst[1:], '-bx', label='vi-means-c')\n",
    "plt.ylim([0.6, 1.])\n",
    "plt.legend()\n",
    "plt.xlabel('Seconds')\n",
    "plt.ylabel('Accuracy')"
   ]
  },
  {
   "cell_type": "markdown",
   "metadata": {},
   "source": [
    "## svi-AdaDelta-c\n",
    "Подберем шаг для метода"
   ]
  },
  {
   "cell_type": "code",
   "execution_count": 28,
   "metadata": {
    "collapsed": false
   },
   "outputs": [
    {
     "name": "stderr",
     "output_type": "stream",
     "text": [
      "/Users/IzmailovPavel/Documents/Education/Course Project/Code/GP/gaussian_process_classification.py:605: RuntimeWarning: invalid value encountered in log\n",
      "  loss += np.sum(np.log(np.diag(sigma_L))) * l / N\n"
     ]
    }
   ],
   "source": [
    "results = []\n",
    "steps = [2., 1., 0.5, 0.3, 0.1, 0.01]\n",
    "for step in steps:\n",
    "    model_covariance_obj = SquaredExponential(np.copy(cov_params))\n",
    "    ad_gp = GPC(model_covariance_obj, method='svi', hermgauss_deg=100)\n",
    "\n",
    "    opts = {'mode': 'adadelta', 'maxiter': 20, 'verbose': False, 'batch_size': 200, \n",
    "            'step_rate': step}#, 'print_freq':50}\n",
    "    batch_res = ad_gp.fit(x_tr, y_tr, inputs=inputs, optimizer_options=opts)\n",
    "    results.append(batch_res)"
   ]
  },
  {
   "cell_type": "code",
   "execution_count": 29,
   "metadata": {
    "collapsed": false
   },
   "outputs": [
    {
     "name": "stdout",
     "output_type": "stream",
     "text": [
      "0\n",
      "1\n",
      "2\n",
      "3\n",
      "4\n",
      "5\n"
     ]
    },
    {
     "data": {
      "text/plain": [
       "<matplotlib.text.Text at 0x1066db7f0>"
      ]
     },
     "execution_count": 29,
     "metadata": {},
     "output_type": "execute_result"
    },
    {
     "data": {
      "image/png": "[encoded data removed]",
      "text/plain": [
       "<matplotlib.figure.Figure at 0x10e7bd668>"
      ]
     },
     "metadata": {},
     "output_type": "display_data"
    }
   ],
   "source": [
    "metric = lambda w: ad_gp.get_prediction_quality(w, x_test, y_test)\n",
    "for i in range(len(results)):\n",
    "    svi_ad_x_lst, svi_ad_y_lst = results[i].plot_performance(metric, 't', freq=4)\n",
    "    plt.plot(svi_ad_x_lst[1:], svi_ad_y_lst[1:], label=steps[i])\n",
    "    print(i)\n",
    "plt.ylim([0., 1.])\n",
    "plt.legend()\n",
    "plt.xlabel('Seconds')\n",
    "plt.ylabel('Accuracy')"
   ]
  },
  {
   "cell_type": "code",
   "execution_count": 30,
   "metadata": {
    "collapsed": false
   },
   "outputs": [
    {
     "name": "stdout",
     "output_type": "stream",
     "text": [
      "Iteration  50 :\n",
      "\tGradient norm 23.4228202917\n",
      "Iteration  100 :\n",
      "\tGradient norm 22.7249890059\n",
      "Iteration  150 :\n",
      "\tGradient norm 23.8282245924\n",
      "Iteration  200 :\n",
      "\tGradient norm 25.4792721019\n",
      "Iteration  250 :\n",
      "\tGradient norm 31.2177743341\n",
      "Iteration  300 :\n",
      "\tGradient norm 19.9198783927\n",
      "Iteration  350 :\n",
      "\tGradient norm 31.4732613346\n",
      "Iteration  400 :\n",
      "\tGradient norm 19.9995188911\n",
      "Iteration  450 :\n",
      "\tGradient norm 15.2013645099\n",
      "Iteration  500 :\n",
      "\tGradient norm 18.7355324636\n",
      "Iteration  550 :\n",
      "\tGradient norm 17.5951876982\n",
      "Iteration  600 :\n",
      "\tGradient norm 25.7272372386\n",
      "Iteration  650 :\n",
      "\tGradient norm 16.1253184703\n",
      "Iteration  700 :\n",
      "\tGradient norm 28.1819553307\n",
      "Iteration  750 :\n",
      "\tGradient norm 13.9651183437\n",
      "Iteration  800 :\n",
      "\tGradient norm 19.6835281795\n",
      "Iteration  850 :\n",
      "\tGradient norm 18.4336359007\n",
      "Iteration  900 :\n",
      "\tGradient norm 12.2852385119\n",
      "Iteration  950 :\n",
      "\tGradient norm 25.7352182163\n",
      "Iteration  1000 :\n",
      "\tGradient norm 16.7524589539\n",
      "Iteration  1050 :\n",
      "\tGradient norm 11.757683168\n",
      "Iteration  1100 :\n",
      "\tGradient norm 13.7899813744\n",
      "Iteration  1150 :\n",
      "\tGradient norm 22.1249727287\n",
      "Iteration  1200 :\n",
      "\tGradient norm 19.746438741\n",
      "Iteration  1250 :\n",
      "\tGradient norm 23.377309128\n",
      "Iteration  1300 :\n",
      "\tGradient norm 22.0623182857\n",
      "Iteration  1350 :\n",
      "\tGradient norm 11.2464320945\n",
      "Iteration  1400 :\n",
      "\tGradient norm 27.6583703726\n",
      "Iteration  1450 :\n",
      "\tGradient norm 16.8477378091\n",
      "Iteration  1500 :\n",
      "\tGradient norm 11.9513194851\n",
      "Iteration  1550 :\n",
      "\tGradient norm 16.8630102893\n",
      "Iteration  1600 :\n",
      "\tGradient norm 10.88556016\n",
      "Iteration  1650 :\n",
      "\tGradient norm 10.8278939128\n",
      "Iteration  1700 :\n",
      "\tGradient norm 10.3581198235\n",
      "Iteration  1750 :\n",
      "\tGradient norm 31.4855567145\n",
      "Iteration  1800 :\n",
      "\tGradient norm 31.8213478327\n",
      "Iteration  1850 :\n",
      "\tGradient norm 38.4716910326\n",
      "Iteration  1900 :\n",
      "\tGradient norm 17.2274143782\n",
      "Iteration  1950 :\n",
      "\tGradient norm 19.7551580661\n",
      "Iteration  2000 :\n",
      "\tGradient norm 91.9128113794\n",
      "Iteration  2050 :\n",
      "\tGradient norm 29.4837513707\n",
      "Iteration  2100 :\n",
      "\tGradient norm 21.9976376032\n",
      "Iteration  2150 :\n",
      "\tGradient norm 13.6349347812\n",
      "Iteration  2200 :\n",
      "\tGradient norm 17.7652475612\n",
      "Iteration  2250 :\n",
      "\tGradient norm 9.56392818893\n",
      "Iteration  2300 :\n",
      "\tGradient norm 13.2579170055\n",
      "Iteration  2350 :\n",
      "\tGradient norm 21.7040865735\n",
      "Iteration  2400 :\n",
      "\tGradient norm 10.8681955777\n",
      "Iteration  2450 :\n",
      "\tGradient norm 11.7252018426\n",
      "Iteration  2500 :\n",
      "\tGradient norm 13.7165888319\n",
      "Iteration  2550 :\n",
      "\tGradient norm 20.2751986375\n",
      "Iteration  2600 :\n",
      "\tGradient norm 14.0571821968\n",
      "Iteration  2650 :\n",
      "\tGradient norm 23.9597161095\n",
      "Iteration  2700 :\n",
      "\tGradient norm 11.1549581273\n",
      "Iteration  2750 :\n",
      "\tGradient norm 20.7815477386\n",
      "Iteration  2800 :\n",
      "\tGradient norm 27.5180039997\n",
      "Iteration  2850 :\n",
      "\tGradient norm 7.65883204963\n",
      "Iteration  2900 :\n",
      "\tGradient norm 22.8973636563\n",
      "Iteration  2950 :\n",
      "\tGradient norm 15.8517089833\n",
      "Iteration  3000 :\n",
      "\tGradient norm 13.6823147515\n",
      "Iteration  3050 :\n",
      "\tGradient norm 21.9760493167\n",
      "Iteration  3100 :\n",
      "\tGradient norm 10.8481499037\n",
      "Iteration  3150 :\n",
      "\tGradient norm 36.7413715132\n",
      "Iteration  3200 :\n",
      "\tGradient norm 13.9861305074\n",
      "Iteration  3250 :\n",
      "\tGradient norm 26.7698096909\n",
      "Iteration  3300 :\n",
      "\tGradient norm 9.52798711394\n",
      "Iteration  3350 :\n",
      "\tGradient norm 8.18299209568\n",
      "Iteration  3400 :\n",
      "\tGradient norm 11.8398921261\n",
      "Iteration  3450 :\n",
      "\tGradient norm 8.45471438682\n",
      "Iteration  3500 :\n",
      "\tGradient norm 12.6181050935\n",
      "Iteration  3550 :\n",
      "\tGradient norm 12.1623763559\n",
      "Iteration  3600 :\n",
      "\tGradient norm 18.3824188087\n",
      "Iteration  3650 :\n",
      "\tGradient norm 18.56187168\n",
      "Iteration  3700 :\n",
      "\tGradient norm 10.8523545126\n",
      "Iteration  3750 :\n",
      "\tGradient norm 16.8122288518\n",
      "Iteration  3800 :\n",
      "\tGradient norm 12.6050801145\n",
      "Iteration  3850 :\n",
      "\tGradient norm 7.89983148776\n",
      "Iteration  3900 :\n",
      "\tGradient norm 10.7345063265\n",
      "Iteration  3950 :\n",
      "\tGradient norm 19.3603182804\n",
      "Iteration  4000 :\n",
      "\tGradient norm 10.0688738638\n",
      "Iteration  4050 :\n",
      "\tGradient norm 14.5163977592\n",
      "Iteration  4100 :\n",
      "\tGradient norm 29.5689693232\n",
      "Iteration  4150 :\n",
      "\tGradient norm 8.43337361433\n",
      "Iteration  4200 :\n",
      "\tGradient norm 18.7920256335\n",
      "Iteration  4250 :\n",
      "\tGradient norm 28.263314362\n",
      "Iteration  4300 :\n",
      "\tGradient norm 23.1195914972\n",
      "Iteration  4350 :\n",
      "\tGradient norm 16.4400338031\n",
      "Iteration  4400 :\n",
      "\tGradient norm 8.58371987377\n",
      "Iteration  4450 :\n",
      "\tGradient norm 12.1426467148\n",
      "Iteration  4500 :\n",
      "\tGradient norm 13.0890356535\n",
      "Iteration  4550 :\n",
      "\tGradient norm 10.0287566985\n",
      "Iteration  4600 :\n",
      "\tGradient norm 11.6646677943\n",
      "Iteration  4650 :\n",
      "\tGradient norm 14.3608941094\n",
      "Iteration  4700 :\n",
      "\tGradient norm 8.08249993267\n",
      "Iteration  4750 :\n",
      "\tGradient norm 8.79754359171\n",
      "Iteration  4800 :\n",
      "\tGradient norm 9.2138541778\n",
      "Iteration  4850 :\n",
      "\tGradient norm 12.1391151174\n",
      "Iteration  4900 :\n",
      "\tGradient norm 13.8962069686\n",
      "Iteration  4950 :\n",
      "\tGradient norm 11.4188469335\n",
      "Iteration  5000 :\n",
      "\tGradient norm 7.74243289991\n"
     ]
    }
   ],
   "source": [
    "model_covariance_obj = SquaredExponential(np.copy(cov_params))\n",
    "ad_gp = GPC(model_covariance_obj, method='svi', hermgauss_deg=100)\n",
    "opts = {'mode': 'adadelta', 'maxiter': 100, 'verbose': True, 'batch_size': 200, \n",
    "        'step_rate': 1., 'print_freq':1}\n",
    "batch_res = ad_gp.fit(x_tr, y_tr, inputs=inputs, optimizer_options=opts)"
   ]
  },
  {
   "cell_type": "code",
   "execution_count": 31,
   "metadata": {
    "collapsed": false
   },
   "outputs": [
    {
     "data": {
      "text/plain": [
       "<matplotlib.text.Text at 0x11330ae48>"
      ]
     },
     "execution_count": 31,
     "metadata": {},
     "output_type": "execute_result"
    },
    {
     "data": {
      "image/png": "[encoded data removed]",
      "text/plain": [
       "<matplotlib.figure.Figure at 0x112612b70>"
      ]
     },
     "metadata": {},
     "output_type": "display_data"
    }
   ],
   "source": [
    "metric = lambda w: ad_gp.get_prediction_quality(w, x_test, y_test)\n",
    "svi_ad_x_lst, svi_ad_y_lst = batch_res.plot_performance(metric, 't', freq=10)\n",
    "plt.plot(svi_ad_x_lst[1:], svi_ad_y_lst[1:], '-yx', label='svi-AdaDelta-c')\n",
    "plt.ylim([0.7, 1.])\n",
    "plt.legend()\n",
    "plt.xlabel('Seconds')\n",
    "plt.ylabel('Accuracy')"
   ]
  },
  {
   "cell_type": "markdown",
   "metadata": {},
   "source": [
    "## Выводы"
   ]
  },
  {
   "cell_type": "code",
   "execution_count": 12,
   "metadata": {
    "collapsed": false
   },
   "outputs": [
    {
     "data": {
      "text/plain": [
       "<matplotlib.text.Text at 0x10d339208>"
      ]
     },
     "execution_count": 12,
     "metadata": {},
     "output_type": "execute_result"
    },
    {
     "data": {
      "image/png": "[encoded data removed]",
      "text/plain": [
       "<matplotlib.figure.Figure at 0x10d33da90>"
      ]
     },
     "metadata": {},
     "output_type": "display_data"
    }
   ],
   "source": [
    "plt.figure(figsize=(12, 7))\n",
    "plt.plot(svi_x_lst[1:], svi_y_lst[1:], '-gx', label='svi-L-BFGS-B-c')\n",
    "plt.plot(svi_ad_x_lst[1:], svi_ad_y_lst[1:], '-yx', label='svi-AdaDelta-c')\n",
    "plt.plot(vi_x_lst[1:], vi_y_lst[1:], '-bx', label='vi-means-c')\n",
    "plt.ylim([0.6, 1.])\n",
    "plt.legend()\n",
    "plt.xlabel('Seconds')\n",
    "plt.ylabel('Accuracy')"
   ]
  },
  {
   "cell_type": "code",
   "execution_count": 13,
   "metadata": {
    "collapsed": true
   },
   "outputs": [],
   "source": [
    "np.save('../plots/vi_vs_svi_class/'+ data_name +'_svi_x.npy', svi_x_lst)\n",
    "np.save('../plots/vi_vs_svi_class/'+ data_name +'_svi_y.npy', svi_y_lst)\n",
    "np.save('../plots/vi_vs_svi_class/'+ data_name +'_vi_x.npy', vi_x_lst)\n",
    "np.save('../plots/vi_vs_svi_class/'+ data_name +'_vi_y.npy', vi_y_lst)\n",
    "np.save('../plots/vi_vs_svi_class/'+ data_name +'_ad_x.npy', svi_ad_x_lst)\n",
    "np.save('../plots/vi_vs_svi_class/'+ data_name +'_ad_y.npy', svi_ad_y_lst)"
   ]
  },
  {
   "cell_type": "code",
   "execution_count": null,
   "metadata": {
    "collapsed": true
   },
   "outputs": [],
   "source": []
  }
 ],
 "metadata": {
  "kernelspec": {
   "display_name": "Python 3",
   "language": "python",
   "name": "python3"
  },
  "language_info": {
   "codemirror_mode": {
    "name": "ipython",
    "version": 3
   },
   "file_extension": ".py",
   "mimetype": "text/x-python",
   "name": "python",
   "nbconvert_exporter": "python",
   "pygments_lexer": "ipython3",
   "version": "3.4.3"
  }
 },
 "nbformat": 4,
 "nbformat_minor": 0
}
