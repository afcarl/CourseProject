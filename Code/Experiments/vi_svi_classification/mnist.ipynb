{
 "cells": [
  {
   "cell_type": "markdown",
   "metadata": {},
   "source": [
    "# mnist"
   ]
  },
  {
   "cell_type": "code",
   "execution_count": 1,
   "metadata": {
    "collapsed": false
   },
   "outputs": [],
   "source": [
    "import sys\n",
    "sys.path.append('/Users/IzmailovPavel/Documents/Education/Course Project/Code')\n",
    "import numpy as np\n",
    "import matplotlib as mpl\n",
    "\n",
    "from matplotlib import pyplot as plt\n",
    "\n",
    "from GP.covariance_functions import SquaredExponential\n",
    "from GP.gaussian_process_classification import GPC\n",
    "\n",
    "from sklearn.cluster import KMeans\n",
    "\n",
    "from vi_svi_class_experiments import run_methods\n",
    "from sklearn.datasets import load_svmlight_file\n",
    "from sklearn.preprocessing import StandardScaler\n",
    "from sklearn.utils import shuffle\n",
    "%matplotlib inline\n",
    "%load_ext autoreload\n",
    "%autoreload 2"
   ]
  },
  {
   "cell_type": "markdown",
   "metadata": {},
   "source": [
    "## Данные"
   ]
  },
  {
   "cell_type": "code",
   "execution_count": 2,
   "metadata": {
    "collapsed": false
   },
   "outputs": [
    {
     "name": "stdout",
     "output_type": "stream",
     "text": [
      "of objects: 10000\n",
      "of features: 778\n",
      "mnist\n"
     ]
    }
   ],
   "source": [
    "x_tr, y_tr = load_svmlight_file('../../../../Programming/DataSets/Classification/multiclass/mnist_scale(60000,780).txt')\n",
    "x_tr, y_tr = shuffle(x_tr, y_tr, random_state=241)\n",
    "x_test, y_test = load_svmlight_file('../../../../Programming/DataSets/Classification/multiclass/mnist_scale_test(10000,780).txt')\n",
    "data_name = 'mnist'\n",
    "\n",
    "x_tr = x_tr.toarray()\n",
    "x_test = x_test.toarray()\n",
    "scaler = StandardScaler()\n",
    "x_tr = scaler.fit_transform(x_tr).T\n",
    "x_test = scaler.transform(x_test).T\n",
    "\n",
    "y_tr = (y_tr %2 == 0).astype(float)\n",
    "y_test = (y_test %2 == 0).astype(float)\n",
    "\n",
    "x_tr = (x_tr + 1) / 2\n",
    "x_test = (x_test + 1) / 2\n",
    "y_tr = y_tr[:, None]\n",
    "y_test = y_test[:, None]\n",
    "y_tr[y_tr == 0] = -1\n",
    "y_test[y_test == 0] = -1\n",
    "dim, num = x_tr.shape\n",
    "print('of objects:', num)\n",
    "print('of features:', dim)\n",
    "print(data_name)"
   ]
  },
  {
   "cell_type": "markdown",
   "metadata": {},
   "source": [
    "## K-Means cluster centers"
   ]
  },
  {
   "cell_type": "code",
   "execution_count": 3,
   "metadata": {
    "collapsed": false
   },
   "outputs": [
    {
     "name": "stdout",
     "output_type": "stream",
     "text": [
      "Finding means...\n",
      "...found\n"
     ]
    }
   ],
   "source": [
    "ind_num = 300\n",
    "print('Finding means...')\n",
    "means = KMeans(n_clusters=ind_num, n_init=3, max_iter=100, random_state=241)\n",
    "means.fit(x_tr.T)\n",
    "inputs = means.cluster_centers_.T\n",
    "print('...found')"
   ]
  },
  {
   "cell_type": "code",
   "execution_count": 4,
   "metadata": {
    "collapsed": true
   },
   "outputs": [],
   "source": [
    "cov_params = np.array([150., 200., 0.01])"
   ]
  },
  {
   "cell_type": "markdown",
   "metadata": {},
   "source": [
    "## svi-L-BFGS-B-c method"
   ]
  },
  {
   "cell_type": "code",
   "execution_count": 5,
   "metadata": {
    "collapsed": true
   },
   "outputs": [],
   "source": [
    "model_covariance_obj = SquaredExponential(np.copy(cov_params))\n",
    "svi_gp = GPC(model_covariance_obj, method='svi')"
   ]
  },
  {
   "cell_type": "code",
   "execution_count": 6,
   "metadata": {
    "collapsed": false
   },
   "outputs": [],
   "source": [
    "opts = {'mode': 'full', 'maxiter': 100, 'mydisp': False}\n",
    "svi_res = svi_gp.fit(x_tr, y_tr, inputs=inputs, optimizer_options=opts)"
   ]
  },
  {
   "cell_type": "code",
   "execution_count": 7,
   "metadata": {
    "collapsed": false
   },
   "outputs": [],
   "source": [
    "metric = lambda w: svi_gp.get_prediction_quality(w, x_test, y_test)\n",
    "svi_x_lst, svi_y_lst = svi_res.plot_performance(metric, 't', freq=10)"
   ]
  },
  {
   "cell_type": "code",
   "execution_count": 8,
   "metadata": {
    "collapsed": false
   },
   "outputs": [
    {
     "data": {
      "text/plain": [
       "<matplotlib.text.Text at 0x10da81828>"
      ]
     },
     "execution_count": 8,
     "metadata": {},
     "output_type": "execute_result"
    },
    {
     "data": {
      "image/png": "[encoded data removed]",
      "text/plain": [
       "<matplotlib.figure.Figure at 0x10d9db160>"
      ]
     },
     "metadata": {},
     "output_type": "display_data"
    }
   ],
   "source": [
    "plt.plot(svi_x_lst[1:], svi_y_lst[1:], '-gx', label='svi-L-BFGS-B-c')\n",
    "plt.ylim([0.6, 1.])\n",
    "plt.legend()\n",
    "plt.xlabel('Seconds')\n",
    "plt.ylabel('Accuracy')"
   ]
  },
  {
   "cell_type": "markdown",
   "metadata": {},
   "source": [
    "## vi-means-c method"
   ]
  },
  {
   "cell_type": "code",
   "execution_count": 9,
   "metadata": {
    "collapsed": false
   },
   "outputs": [],
   "source": [
    "model_covariance_obj = SquaredExponential(np.copy(cov_params))\n",
    "vi_gp = GPC(model_covariance_obj, method='vi')"
   ]
  },
  {
   "cell_type": "code",
   "execution_count": 10,
   "metadata": {
    "collapsed": false
   },
   "outputs": [
    {
     "name": "stdout",
     "output_type": "stream",
     "text": [
      "Hyper-parameters at iteration 0 : [  1.50000000e+02   2.00000000e+02   1.00000000e-02]\n",
      "Hyper-parameters at iteration 1 : [  1.07866718e+02   2.32551937e+02   1.00000000e-02]\n",
      "Hyper-parameters at iteration 2 : [  5.82162499e+01   2.48391754e+02   1.00000000e-02]\n",
      "Hyper-parameters at iteration 3 : [  4.74352374e+01   2.50535430e+02   1.00000000e-02]\n",
      "Hyper-parameters at iteration 4 : [  4.66898756e+01   2.50682887e+02   1.00000000e-02]\n",
      "Hyper-parameters at iteration 5 : [  4.68736482e+01   2.50647561e+02   1.00000000e-02]\n",
      "Hyper-parameters at iteration 6 : [  4.68728381e+01   2.50648010e+02   1.00000000e-02]\n",
      "Hyper-parameters at iteration 7 : [  4.68774956e+01   2.50652773e+02   1.00000000e-02]\n",
      "Hyper-parameters at iteration 8 : [  4.68774958e+01   2.50652773e+02   1.00000000e-02]\n",
      "\tHyper-parameters at outter iteration 0 : [  4.68774958e+01   2.50652773e+02   1.00000000e-02]\n",
      "Hyper-parameters at iteration 0 : [  4.68774958e+01   2.50652773e+02   1.00000000e-02]\n",
      "Hyper-parameters at iteration 1 : [  3.79093527e+01   2.52361760e+02   1.00000000e-02]\n",
      "Hyper-parameters at iteration 2 : [  3.57429903e+01   2.52767195e+02   1.00000000e-02]\n",
      "Hyper-parameters at iteration 3 : [  3.63965876e+01   2.52646098e+02   1.00000000e-02]\n",
      "Hyper-parameters at iteration 4 : [  3.63609425e+01   2.52653425e+02   1.00000000e-02]\n",
      "Hyper-parameters at iteration 5 : [  3.63609425e+01   2.52653425e+02   1.00000000e-02]\n",
      "Hyper-parameters at iteration 6 : [  3.63609425e+01   2.52653425e+02   1.00000000e-02]\n",
      "\tHyper-parameters at outter iteration 1 : [  3.63609425e+01   2.52653425e+02   1.00000000e-02]\n",
      "Hyper-parameters at iteration 0 : [  3.63609425e+01   2.52653425e+02   1.00000000e-02]\n",
      "Hyper-parameters at iteration 1 : [  3.18950023e+01   2.53316534e+02   1.00000000e-02]\n",
      "Hyper-parameters at iteration 2 : [  3.25537303e+01   2.53219737e+02   1.00000000e-02]\n",
      "Hyper-parameters at iteration 3 : [  3.24593893e+01   2.53233580e+02   1.00000000e-02]\n",
      "Hyper-parameters at iteration 4 : [  3.24562189e+01   2.53234319e+02   1.00000000e-02]\n",
      "Hyper-parameters at iteration 5 : [  3.24536359e+01   2.53235157e+02   1.00000000e-02]\n",
      "Hyper-parameters at iteration 6 : [  3.24536359e+01   2.53235157e+02   1.00000000e-02]\n",
      "\tHyper-parameters at outter iteration 2 : [  3.24536359e+01   2.53235157e+02   1.00000000e-02]\n",
      "Hyper-parameters at iteration 0 : [  3.24536359e+01   2.53235157e+02   1.00000000e-02]\n",
      "Hyper-parameters at iteration 1 : [  3.00615056e+01   2.53555458e+02   1.00000000e-02]\n",
      "Hyper-parameters at iteration 2 : [  3.06732233e+01   2.53474410e+02   1.00000000e-02]\n",
      "Hyper-parameters at iteration 3 : [  3.06251992e+01   2.53481264e+02   1.00000000e-02]\n",
      "Hyper-parameters at iteration 4 : [  3.06251991e+01   2.53481264e+02   1.00000000e-02]\n",
      "Hyper-parameters at iteration 5 : [  3.06251991e+01   2.53481264e+02   1.00000000e-02]\n",
      "Hyper-parameters at iteration 6 : [  3.06251991e+01   2.53481264e+02   1.00000000e-02]\n",
      "Hyper-parameters at iteration 7 : [  3.06251991e+01   2.53481264e+02   1.00000000e-02]\n",
      "Hyper-parameters at iteration 8 : [  3.06251991e+01   2.53481264e+02   1.00000000e-02]\n",
      "\tHyper-parameters at outter iteration 3 : [  3.06251991e+01   2.53481264e+02   1.00000000e-02]\n",
      "Hyper-parameters at iteration 0 : [  3.06251991e+01   2.53481264e+02   1.00000000e-02]\n",
      "Hyper-parameters at iteration 1 : [  2.94104363e+01   2.53627886e+02   1.00000000e-02]\n",
      "Hyper-parameters at iteration 2 : [  2.97739934e+01   2.53584229e+02   1.00000000e-02]\n",
      "Hyper-parameters at iteration 3 : [  2.97700174e+01   2.53584734e+02   1.00000000e-02]\n",
      "Hyper-parameters at iteration 4 : [  2.97483081e+01   2.53593695e+02   1.00000000e-02]\n",
      "Hyper-parameters at iteration 5 : [  2.97483081e+01   2.53593695e+02   1.00000000e-02]\n",
      "Hyper-parameters at iteration 6 : [  2.97483081e+01   2.53593695e+02   1.00000000e-02]\n",
      "\tHyper-parameters at outter iteration 4 : [  2.97483081e+01   2.53593695e+02   1.00000000e-02]\n",
      "Hyper-parameters at iteration 0 : [  2.97483081e+01   2.53593695e+02   1.00000000e-02]\n",
      "Hyper-parameters at iteration 1 : [  2.91724729e+01   2.53673991e+02   1.00000000e-02]\n",
      "Hyper-parameters at iteration 2 : [  2.93560198e+01   2.53648752e+02   1.00000000e-02]\n",
      "Hyper-parameters at iteration 3 : [  2.93560198e+01   2.53648752e+02   1.00000000e-02]\n",
      "\tHyper-parameters at outter iteration 5 : [  2.93560198e+01   2.53648752e+02   1.00000000e-02]\n",
      "Hyper-parameters at iteration 0 : [  2.93560198e+01   2.53648752e+02   1.00000000e-02]\n",
      "Hyper-parameters at iteration 1 : [  2.90761337e+01   2.53686291e+02   1.00000000e-02]\n",
      "Hyper-parameters at iteration 2 : [  2.91326397e+01   2.53681709e+02   1.00000000e-02]\n",
      "Hyper-parameters at iteration 3 : [  2.91421300e+01   2.53681014e+02   1.00000000e-02]\n",
      "Hyper-parameters at iteration 4 : [  2.91421300e+01   2.53681014e+02   1.00000000e-02]\n",
      "Hyper-parameters at iteration 5 : [  2.91421300e+01   2.53681014e+02   1.00000000e-02]\n",
      "Hyper-parameters at iteration 6 : [  2.91421300e+01   2.53681014e+02   1.00000000e-02]\n",
      "\tHyper-parameters at outter iteration 6 : [  2.91421300e+01   2.53681014e+02   1.00000000e-02]\n",
      "Hyper-parameters at iteration 0 : [  2.91421300e+01   2.53681014e+02   1.00000000e-02]\n",
      "Hyper-parameters at iteration 1 : [  2.91104681e+01   2.53685916e+02   1.00000000e-02]\n",
      "Hyper-parameters at iteration 2 : [  2.90744623e+01   2.53691397e+02   1.00000000e-02]\n",
      "Hyper-parameters at iteration 3 : [  2.90744623e+01   2.53691397e+02   1.00000000e-02]\n",
      "Hyper-parameters at iteration 4 : [  2.90744623e+01   2.53691397e+02   1.00000000e-02]\n",
      "\tHyper-parameters at outter iteration 7 : [  2.90744623e+01   2.53691397e+02   1.00000000e-02]\n",
      "Hyper-parameters at iteration 0 : [  2.90744623e+01   2.53691397e+02   1.00000000e-02]\n",
      "Hyper-parameters at iteration 1 : [  2.90744623e+01   2.53691397e+02   1.00000000e-02]\n",
      "\tHyper-parameters at outter iteration 8 : [  2.90744623e+01   2.53691397e+02   1.00000000e-02]\n",
      "Hyper-parameters at iteration 0 : [  2.90744623e+01   2.53691397e+02   1.00000000e-02]\n",
      "Hyper-parameters at iteration 1 : [  2.90086333e+01   2.53702805e+02   1.00000000e-02]\n",
      "Hyper-parameters at iteration 2 : [  2.90086333e+01   2.53702805e+02   1.00000000e-02]\n",
      "\tHyper-parameters at outter iteration 9 : [  2.90086333e+01   2.53702805e+02   1.00000000e-02]\n"
     ]
    }
   ],
   "source": [
    "opts = {'maxiter':7, 'mydisp': True}\n",
    "vi_res = vi_gp.fit(x_tr, y_tr, inputs=inputs, optimizer_options=opts, max_out_iter=10)"
   ]
  },
  {
   "cell_type": "code",
   "execution_count": 11,
   "metadata": {
    "collapsed": true
   },
   "outputs": [],
   "source": [
    "metric = lambda w: vi_gp.get_prediction_quality(w, x_test, y_test)\n",
    "vi_x_lst, vi_y_lst = vi_res.plot_performance(metric, 't', freq=1)"
   ]
  },
  {
   "cell_type": "code",
   "execution_count": 12,
   "metadata": {
    "collapsed": false
   },
   "outputs": [
    {
     "data": {
      "text/plain": [
       "<matplotlib.text.Text at 0x106777a58>"
      ]
     },
     "execution_count": 12,
     "metadata": {},
     "output_type": "execute_result"
    },
    {
     "data": {
      "image/png": "[encoded data removed]",
      "text/plain": [
       "<matplotlib.figure.Figure at 0x106160240>"
      ]
     },
     "metadata": {},
     "output_type": "display_data"
    }
   ],
   "source": [
    "plt.plot(vi_x_lst[1:], vi_y_lst[1:], '-bx', label='vi-means-c')\n",
    "# plt.plot(svi_x_lst[1:100], svi_y_lst[1:100], '-gx', label='svi-L-BFGS-B-c')\n",
    "plt.ylim([0.6, 1.])\n",
    "plt.legend()\n",
    "plt.xlabel('Seconds')\n",
    "plt.ylabel('Accuracy')"
   ]
  },
  {
   "cell_type": "markdown",
   "metadata": {},
   "source": [
    "## svi-AdaDelta-c\n",
    "Подберем шаг для метода"
   ]
  },
  {
   "cell_type": "code",
   "execution_count": 13,
   "metadata": {
    "collapsed": false
   },
   "outputs": [],
   "source": [
    "results = []\n",
    "steps = [1., 0.5, 0.3, 0.1, 0.01]\n",
    "for step in steps:\n",
    "    model_covariance_obj = SquaredExponential(np.copy(cov_params))\n",
    "    ad_gp = GPC(model_covariance_obj, method='svi', hermgauss_deg=100)\n",
    "\n",
    "    opts = {'mode': 'adadelta', 'maxiter': 20, 'verbose': False, 'batch_size': 200, \n",
    "            'step_rate': step}#, 'print_freq':50}\n",
    "    batch_res = ad_gp.fit(x_tr, y_tr, inputs=inputs, optimizer_options=opts)\n",
    "    results.append(batch_res)"
   ]
  },
  {
   "cell_type": "code",
   "execution_count": 14,
   "metadata": {
    "collapsed": false
   },
   "outputs": [
    {
     "name": "stdout",
     "output_type": "stream",
     "text": [
      "0\n",
      "1\n",
      "2\n",
      "3\n",
      "4\n"
     ]
    },
    {
     "data": {
      "text/plain": [
       "<matplotlib.text.Text at 0x1067e61d0>"
      ]
     },
     "execution_count": 14,
     "metadata": {},
     "output_type": "execute_result"
    },
    {
     "data": {
      "image/png": "[encoded data removed]",
      "text/plain": [
       "<matplotlib.figure.Figure at 0x106165860>"
      ]
     },
     "metadata": {},
     "output_type": "display_data"
    }
   ],
   "source": [
    "metric = lambda w: ad_gp.get_prediction_quality(w, x_test, y_test)\n",
    "for i in range(len(results)):\n",
    "    svi_ad_x_lst, svi_ad_y_lst = results[i].plot_performance(metric, 't', freq=4)\n",
    "    plt.plot(svi_ad_x_lst[1:], svi_ad_y_lst[1:], label=steps[i])\n",
    "    print(i)\n",
    "plt.ylim([0.6, 1.])\n",
    "plt.legend()\n",
    "plt.xlabel('Seconds')\n",
    "plt.ylabel('Accuracy')"
   ]
  },
  {
   "cell_type": "code",
   "execution_count": 15,
   "metadata": {
    "collapsed": false
   },
   "outputs": [
    {
     "name": "stdout",
     "output_type": "stream",
     "text": [
      "Iteration  50 :\n",
      "\tGradient norm 28.6741265206\n",
      "Iteration  100 :\n",
      "\tGradient norm 24.4295286134\n",
      "Iteration  150 :\n",
      "\tGradient norm 24.0649137393\n",
      "Iteration  200 :\n",
      "\tGradient norm 21.9844034951\n",
      "Iteration  250 :\n",
      "\tGradient norm 24.8721967074\n",
      "Iteration  300 :\n",
      "\tGradient norm 22.8905442608\n",
      "Iteration  350 :\n",
      "\tGradient norm 19.517572266\n",
      "Iteration  400 :\n",
      "\tGradient norm 19.8760108629\n",
      "Iteration  450 :\n",
      "\tGradient norm 19.1413176227\n",
      "Iteration  500 :\n",
      "\tGradient norm 15.7222540052\n",
      "Iteration  550 :\n",
      "\tGradient norm 18.8790580627\n",
      "Iteration  600 :\n",
      "\tGradient norm 18.63624773\n",
      "Iteration  650 :\n",
      "\tGradient norm 21.0681583518\n",
      "Iteration  700 :\n",
      "\tGradient norm 15.481545094\n",
      "Iteration  750 :\n",
      "\tGradient norm 15.2366613168\n",
      "Iteration  800 :\n",
      "\tGradient norm 15.5479765744\n",
      "Iteration  850 :\n",
      "\tGradient norm 25.4640035971\n",
      "Iteration  900 :\n",
      "\tGradient norm 16.4204179424\n",
      "Iteration  950 :\n",
      "\tGradient norm 13.8567369376\n",
      "Iteration  1000 :\n",
      "\tGradient norm 16.9240961059\n",
      "Iteration  1050 :\n",
      "\tGradient norm 11.9344580131\n",
      "Iteration  1100 :\n",
      "\tGradient norm 16.4345327158\n",
      "Iteration  1150 :\n",
      "\tGradient norm 20.3536386147\n",
      "Iteration  1200 :\n",
      "\tGradient norm 12.1928550592\n",
      "Iteration  1250 :\n",
      "\tGradient norm 15.4009081106\n",
      "Iteration  1300 :\n",
      "\tGradient norm 16.2038614114\n",
      "Iteration  1350 :\n",
      "\tGradient norm 11.6845897287\n",
      "Iteration  1400 :\n",
      "\tGradient norm 27.2117298136\n",
      "Iteration  1450 :\n",
      "\tGradient norm 13.2473698727\n",
      "Iteration  1500 :\n",
      "\tGradient norm 27.8118018932\n",
      "Iteration  1550 :\n",
      "\tGradient norm 14.9656668176\n",
      "Iteration  1600 :\n",
      "\tGradient norm 30.942847859\n",
      "Iteration  1650 :\n",
      "\tGradient norm 11.3436328874\n",
      "Iteration  1700 :\n",
      "\tGradient norm 10.2286983542\n",
      "Iteration  1750 :\n",
      "\tGradient norm 12.8442348885\n",
      "Iteration  1800 :\n",
      "\tGradient norm 9.8974171137\n",
      "Iteration  1850 :\n",
      "\tGradient norm 10.0676578267\n",
      "Iteration  1900 :\n",
      "\tGradient norm 20.6810201996\n",
      "Iteration  1950 :\n",
      "\tGradient norm 33.8590082991\n",
      "Iteration  2000 :\n",
      "\tGradient norm 20.7977514611\n",
      "Iteration  2050 :\n",
      "\tGradient norm 18.5239517865\n",
      "Iteration  2100 :\n",
      "\tGradient norm 8.41010007453\n",
      "Iteration  2150 :\n",
      "\tGradient norm 10.4721750944\n",
      "Iteration  2200 :\n",
      "\tGradient norm 17.522053654\n",
      "Iteration  2250 :\n",
      "\tGradient norm 10.283095007\n",
      "Iteration  2300 :\n",
      "\tGradient norm 11.1881536756\n",
      "Iteration  2350 :\n",
      "\tGradient norm 19.6750467578\n",
      "Iteration  2400 :\n",
      "\tGradient norm 12.392734925\n",
      "Iteration  2450 :\n",
      "\tGradient norm 10.1904287895\n",
      "Iteration  2500 :\n",
      "\tGradient norm 16.5761236496\n",
      "Iteration  2550 :\n",
      "\tGradient norm 8.42458093994\n",
      "Iteration  2600 :\n",
      "\tGradient norm 9.47995819179\n",
      "Iteration  2650 :\n",
      "\tGradient norm 12.0948482124\n",
      "Iteration  2700 :\n",
      "\tGradient norm 8.9948709756\n",
      "Iteration  2750 :\n",
      "\tGradient norm 13.1292122966\n",
      "Iteration  2800 :\n",
      "\tGradient norm 12.021975648\n",
      "Iteration  2850 :\n",
      "\tGradient norm 7.21597403523\n",
      "Iteration  2900 :\n",
      "\tGradient norm 17.260354226\n",
      "Iteration  2950 :\n",
      "\tGradient norm 17.8903998495\n",
      "Iteration  3000 :\n",
      "\tGradient norm 37.7618553358\n",
      "Iteration  3050 :\n",
      "\tGradient norm 20.3204727764\n",
      "Iteration  3100 :\n",
      "\tGradient norm 11.9794173622\n",
      "Iteration  3150 :\n",
      "\tGradient norm 12.1518358081\n",
      "Iteration  3200 :\n",
      "\tGradient norm 7.38957196583\n",
      "Iteration  3250 :\n",
      "\tGradient norm 9.55763753051\n",
      "Iteration  3300 :\n",
      "\tGradient norm 20.2366774665\n",
      "Iteration  3350 :\n",
      "\tGradient norm 9.41170831616\n",
      "Iteration  3400 :\n",
      "\tGradient norm 18.5489182646\n",
      "Iteration  3450 :\n",
      "\tGradient norm 8.48537850161\n",
      "Iteration  3500 :\n",
      "\tGradient norm 20.6672611377\n",
      "Iteration  3550 :\n",
      "\tGradient norm 8.62831422148\n",
      "Iteration  3600 :\n",
      "\tGradient norm 10.4653586866\n",
      "Iteration  3650 :\n",
      "\tGradient norm 18.5728892219\n",
      "Iteration  3700 :\n",
      "\tGradient norm 8.78094026832\n",
      "Iteration  3750 :\n",
      "\tGradient norm 12.211510482\n",
      "Iteration  3800 :\n",
      "\tGradient norm 15.0749780995\n",
      "Iteration  3850 :\n",
      "\tGradient norm 20.8878362086\n",
      "Iteration  3900 :\n",
      "\tGradient norm 10.4422623104\n",
      "Iteration  3950 :\n",
      "\tGradient norm 12.9849472753\n",
      "Iteration  4000 :\n",
      "\tGradient norm 13.6140920829\n",
      "Iteration  4050 :\n",
      "\tGradient norm 9.02431560084\n",
      "Iteration  4100 :\n",
      "\tGradient norm 32.8639109341\n",
      "Iteration  4150 :\n",
      "\tGradient norm 7.72468984785\n",
      "Iteration  4200 :\n",
      "\tGradient norm 19.228108781\n",
      "Iteration  4250 :\n",
      "\tGradient norm 35.3232027468\n",
      "Iteration  4300 :\n",
      "\tGradient norm 7.81486913536\n",
      "Iteration  4350 :\n",
      "\tGradient norm 11.1123701956\n",
      "Iteration  4400 :\n",
      "\tGradient norm 7.10446209188\n",
      "Iteration  4450 :\n",
      "\tGradient norm 20.0397069768\n",
      "Iteration  4500 :\n",
      "\tGradient norm 18.2395576337\n",
      "Iteration  4550 :\n",
      "\tGradient norm 11.1857517365\n",
      "Iteration  4600 :\n",
      "\tGradient norm 13.6909947648\n",
      "Iteration  4650 :\n",
      "\tGradient norm 19.6974761647\n",
      "Iteration  4700 :\n",
      "\tGradient norm 9.6135108534\n",
      "Iteration  4750 :\n",
      "\tGradient norm 30.2053779443\n",
      "Iteration  4800 :\n",
      "\tGradient norm 11.045224142\n",
      "Iteration  4850 :\n",
      "\tGradient norm 9.47512884664\n",
      "Iteration  4900 :\n",
      "\tGradient norm 26.5130428761\n",
      "Iteration  4950 :\n",
      "\tGradient norm 30.8626188174\n",
      "Iteration  5000 :\n",
      "\tGradient norm 11.1505108953\n"
     ]
    }
   ],
   "source": [
    "model_covariance_obj = SquaredExponential(np.copy(cov_params))\n",
    "ad_gp = GPC(model_covariance_obj, method='svi', hermgauss_deg=100)\n",
    "opts = {'mode': 'adadelta', 'maxiter': 100, 'verbose': True, 'batch_size': 200, \n",
    "        'step_rate': 1., 'print_freq':1}\n",
    "batch_res = ad_gp.fit(x_tr, y_tr, inputs=inputs, optimizer_options=opts)"
   ]
  },
  {
   "cell_type": "code",
   "execution_count": 16,
   "metadata": {
    "collapsed": false
   },
   "outputs": [
    {
     "data": {
      "text/plain": [
       "<matplotlib.text.Text at 0x1067eb5c0>"
      ]
     },
     "execution_count": 16,
     "metadata": {},
     "output_type": "execute_result"
    },
    {
     "data": {
      "image/png": "[encoded data removed]",
      "text/plain": [
       "<matplotlib.figure.Figure at 0x106165908>"
      ]
     },
     "metadata": {},
     "output_type": "display_data"
    }
   ],
   "source": [
    "metric = lambda w: ad_gp.get_prediction_quality(w, x_test, y_test)\n",
    "svi_ad_x_lst, svi_ad_y_lst = batch_res.plot_performance(metric, 't', freq=10)\n",
    "plt.plot(svi_ad_x_lst[1:], svi_ad_y_lst[1:], '-yx', label='svi-AdaDelta-c')\n",
    "plt.ylim([0. 7, 1.])\n",
    "plt.legend()\n",
    "plt.xlabel('Seconds')\n",
    "plt.ylabel('Accuracy')"
   ]
  },
  {
   "cell_type": "markdown",
   "metadata": {},
   "source": [
    "## Выводы"
   ]
  },
  {
   "cell_type": "code",
   "execution_count": 17,
   "metadata": {
    "collapsed": false
   },
   "outputs": [
    {
     "data": {
      "text/plain": [
       "<matplotlib.text.Text at 0x10dc43b00>"
      ]
     },
     "execution_count": 17,
     "metadata": {},
     "output_type": "execute_result"
    },
    {
     "data": {
      "image/png": "[encoded data removed]",
      "text/plain": [
       "<matplotlib.figure.Figure at 0x113f4a898>"
      ]
     },
     "metadata": {},
     "output_type": "display_data"
    }
   ],
   "source": [
    "plt.figure(figsize=(12, 7))\n",
    "plt.plot(svi_x_lst[1:], svi_y_lst[1:], '-gx', label='svi-L-BFGS-B-c')\n",
    "plt.plot(svi_ad_x_lst[1:], svi_ad_y_lst[1:], '-yx', label='svi-AdaDelta-c')\n",
    "plt.plot(vi_x_lst[1:], vi_y_lst[1:], '-bx', label='vi-means-c')\n",
    "plt.ylim([0.6, 1.])\n",
    "plt.legend()\n",
    "plt.xlabel('Seconds')\n",
    "plt.ylabel('Accuracy')"
   ]
  },
  {
   "cell_type": "code",
   "execution_count": 18,
   "metadata": {
    "collapsed": true
   },
   "outputs": [],
   "source": [
    "np.save('../plots/vi_vs_svi_class/'+ data_name +'_svi_x.npy', svi_x_lst)\n",
    "np.save('../plots/vi_vs_svi_class/'+ data_name +'_svi_y.npy', svi_y_lst)\n",
    "np.save('../plots/vi_vs_svi_class/'+ data_name +'_vi_x.npy', vi_x_lst)\n",
    "np.save('../plots/vi_vs_svi_class/'+ data_name +'_vi_y.npy', vi_y_lst)\n",
    "np.save('../plots/vi_vs_svi_class/'+ data_name +'_ad_x.npy', svi_ad_x_lst)\n",
    "np.save('../plots/vi_vs_svi_class/'+ data_name +'_ad_y.npy', svi_ad_y_lst)"
   ]
  },
  {
   "cell_type": "code",
   "execution_count": null,
   "metadata": {
    "collapsed": true
   },
   "outputs": [],
   "source": []
  }
 ],
 "metadata": {
  "kernelspec": {
   "display_name": "Python 3",
   "language": "python",
   "name": "python3"
  },
  "language_info": {
   "codemirror_mode": {
    "name": "ipython",
    "version": 3
   },
   "file_extension": ".py",
   "mimetype": "text/x-python",
   "name": "python",
   "nbconvert_exporter": "python",
   "pygments_lexer": "ipython3",
   "version": "3.4.3"
  }
 },
 "nbformat": 4,
 "nbformat_minor": 0
}
