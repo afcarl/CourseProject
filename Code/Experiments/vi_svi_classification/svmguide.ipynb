{
 "cells": [
  {
   "cell_type": "markdown",
   "metadata": {},
   "source": [
    "# SVMguide 1"
   ]
  },
  {
   "cell_type": "code",
   "execution_count": 1,
   "metadata": {
    "collapsed": false
   },
   "outputs": [],
   "source": [
    "import sys\n",
    "sys.path.append('/Users/IzmailovPavel/Documents/Education/Course Project/Code')\n",
    "import numpy as np\n",
    "import matplotlib as mpl\n",
    "\n",
    "from matplotlib import pyplot as plt\n",
    "\n",
    "from GP.covariance_functions import SquaredExponential\n",
    "from GP.gaussian_process_classification import GPC\n",
    "\n",
    "from sklearn.cluster import KMeans\n",
    "\n",
    "from vi_svi_class_experiments import run_methods\n",
    "from sklearn.datasets import load_svmlight_file\n",
    "from sklearn.preprocessing import StandardScaler\n",
    "from sklearn.utils import shuffle\n",
    "%matplotlib inline\n",
    "%load_ext autoreload\n",
    "%autoreload 2"
   ]
  },
  {
   "cell_type": "markdown",
   "metadata": {},
   "source": [
    "## Данные"
   ]
  },
  {
   "cell_type": "code",
   "execution_count": 2,
   "metadata": {
    "collapsed": false
   },
   "outputs": [
    {
     "name": "stdout",
     "output_type": "stream",
     "text": [
      "(4000, 4)\n",
      "3089 4\n",
      "of objects: 3089\n",
      "of features: 4\n",
      "svmguide\n"
     ]
    }
   ],
   "source": [
    "x_tr, y_tr = load_svmlight_file('../../../../Programming/DataSets/Classification/svmguide1(3089,4).txt')\n",
    "x_tr, y_tr = shuffle(x_tr, y_tr, random_state=241)\n",
    "x_test, y_test = load_svmlight_file('../../../../Programming/DataSets/Classification/svmguide1_test(4000,4).txt')\n",
    "data_name = 'svmguide'\n",
    "print(x_test.shape)\n",
    "\n",
    "# x_tr = x_tr.T\n",
    "x_tr = x_tr.toarray()\n",
    "# x_test = x_test.T\n",
    "x_test = x_test.toarray()\n",
    "scaler = StandardScaler()\n",
    "x_tr = scaler.fit_transform(x_tr).T\n",
    "x_test = scaler.transform(x_test).T\n",
    "\n",
    "x_tr = (x_tr + 1) / 2\n",
    "x_test = (x_test + 1) / 2\n",
    "y_tr = y_tr[:, None]\n",
    "y_test = y_test[:, None]\n",
    "y_tr[y_tr == 0] = -1\n",
    "y_test[y_test == 0] = -1\n",
    "dim, num = x_tr.shape\n",
    "print(num, dim)\n",
    "print('of objects:', num)\n",
    "print('of features:', dim)\n",
    "print(data_name)"
   ]
  },
  {
   "cell_type": "markdown",
   "metadata": {},
   "source": [
    "## K-Means cluster centers"
   ]
  },
  {
   "cell_type": "code",
   "execution_count": 3,
   "metadata": {
    "collapsed": false
   },
   "outputs": [
    {
     "name": "stdout",
     "output_type": "stream",
     "text": [
      "Finding means...\n",
      "...found\n"
     ]
    }
   ],
   "source": [
    "ind_num = 25\n",
    "print('Finding means...')\n",
    "means = KMeans(n_clusters=ind_num, n_init=3, max_iter=100, random_state=241)\n",
    "means.fit(x_tr.T)\n",
    "inputs = means.cluster_centers_.T\n",
    "print('...found')"
   ]
  },
  {
   "cell_type": "code",
   "execution_count": 5,
   "metadata": {
    "collapsed": true
   },
   "outputs": [],
   "source": [
    "cov_params = np.array([2., 2., 1.])"
   ]
  },
  {
   "cell_type": "markdown",
   "metadata": {},
   "source": [
    "## svi-L-BFGS-B-c method"
   ]
  },
  {
   "cell_type": "code",
   "execution_count": 7,
   "metadata": {
    "collapsed": true
   },
   "outputs": [],
   "source": [
    "model_covariance_obj = SquaredExponential(np.copy(cov_params))\n",
    "svi_gp = GPC(model_covariance_obj, method='svi')"
   ]
  },
  {
   "cell_type": "code",
   "execution_count": 8,
   "metadata": {
    "collapsed": false
   },
   "outputs": [],
   "source": [
    "opts = {'mode': 'full', 'maxiter': 20, 'mydisp': False}\n",
    "svi_res = svi_gp.fit(x_tr, y_tr, inputs=inputs, optimizer_options=opts)"
   ]
  },
  {
   "cell_type": "code",
   "execution_count": 9,
   "metadata": {
    "collapsed": false
   },
   "outputs": [],
   "source": [
    "metric = lambda w: svi_gp.get_prediction_quality(w, x_test, y_test)\n",
    "svi_x_lst, svi_y_lst = svi_res.plot_performance(metric, 't', freq=1)"
   ]
  },
  {
   "cell_type": "code",
   "execution_count": 14,
   "metadata": {
    "collapsed": false
   },
   "outputs": [
    {
     "data": {
      "text/plain": [
       "<matplotlib.text.Text at 0x10d4bd470>"
      ]
     },
     "execution_count": 14,
     "metadata": {},
     "output_type": "execute_result"
    },
    {
     "data": {
      "image/png": "[encoded data removed]",
      "text/plain": [
       "<matplotlib.figure.Figure at 0x10d4baa20>"
      ]
     },
     "metadata": {},
     "output_type": "display_data"
    }
   ],
   "source": [
    "plt.plot(svi_x_lst[1:], svi_y_lst[1:], '-gx', label='svi-L-BFGS-B-c')\n",
    "plt.ylim([0.8, 1.])\n",
    "plt.legend()\n",
    "plt.xlabel('Seconds')\n",
    "plt.ylabel('Accuracy')"
   ]
  },
  {
   "cell_type": "markdown",
   "metadata": {},
   "source": [
    "## vi-means-c method"
   ]
  },
  {
   "cell_type": "code",
   "execution_count": 15,
   "metadata": {
    "collapsed": false
   },
   "outputs": [],
   "source": [
    "model_covariance_obj = SquaredExponential(np.copy(cov_params))\n",
    "vi_gp = GPC(model_covariance_obj, method='vi')"
   ]
  },
  {
   "cell_type": "code",
   "execution_count": 16,
   "metadata": {
    "collapsed": true
   },
   "outputs": [
    {
     "name": "stdout",
     "output_type": "stream",
     "text": [
      "Hyper-parameters at iteration 0 : [ 2.  2.  1.]\n",
      "Hyper-parameters at iteration 1 : [ 2.20040349  1.99586799  0.99794438]\n",
      "Hyper-parameters at iteration 2 : [ 2.30672445  1.89472275  0.01      ]\n",
      "Hyper-parameters at iteration 3 : [ 2.49842311  1.85581062  0.01      ]\n",
      "Hyper-parameters at iteration 4 : [ 3.09475489  1.73390372  0.01      ]\n",
      "Hyper-parameters at iteration 5 : [ 3.39532174  1.6740557   0.01      ]\n",
      "Hyper-parameters at iteration 6 : [ 3.53357937  1.64916687  0.01      ]\n",
      "\tHyper-parameters at outter iteration 0 : [ 3.56533913  1.64627541  0.01      ]\n",
      "Hyper-parameters at iteration 0 : [ 3.56533913  1.64627541  0.01      ]\n",
      "Hyper-parameters at iteration 1 : [ 6.3825517   1.43634439  0.01      ]\n",
      "Hyper-parameters at iteration 2 : [ 5.25410069  1.52318901  0.01      ]\n",
      "Hyper-parameters at iteration 3 : [ 4.90599704  1.55126675  0.01      ]\n",
      "Hyper-parameters at iteration 4 : [ 4.92912087  1.55063079  0.01      ]\n",
      "Hyper-parameters at iteration 5 : [ 5.04518843  1.5525984   0.01      ]\n",
      "Hyper-parameters at iteration 6 : [ 5.2716977   1.56675174  0.01      ]\n",
      "\tHyper-parameters at outter iteration 1 : [ 6.16273618  1.69481317  0.01      ]\n",
      "Hyper-parameters at iteration 0 : [ 6.16273618  1.69481317  0.01      ]\n",
      "Hyper-parameters at iteration 1 : [ 6.30415487  1.74151062  0.01      ]\n",
      "Hyper-parameters at iteration 2 : [ 6.29798761  1.73928791  0.01      ]\n",
      "Hyper-parameters at iteration 3 : [ 6.28713767  1.73473724  0.01      ]\n",
      "Hyper-parameters at iteration 4 : [ 6.27814888  1.72909661  0.01      ]\n",
      "Hyper-parameters at iteration 5 : [ 6.27891007  1.72113799  0.01      ]\n",
      "Hyper-parameters at iteration 6 : [ 6.32090677  1.71364174  0.01      ]\n",
      "\tHyper-parameters at outter iteration 2 : [ 6.48159109  1.71455761  0.01      ]\n",
      "Hyper-parameters at iteration 0 : [ 6.48159109  1.71455761  0.01      ]\n",
      "Hyper-parameters at iteration 1 : [ 6.49560437  1.70485491  0.01      ]\n",
      "Hyper-parameters at iteration 2 : [ 6.4963468   1.70446087  0.01      ]\n",
      "Hyper-parameters at iteration 3 : [ 6.49991179  1.70303982  0.01      ]\n",
      "Hyper-parameters at iteration 4 : [ 6.50621121  1.7013892   0.01      ]\n",
      "Hyper-parameters at iteration 5 : [ 6.52193865  1.69901749  0.01      ]\n",
      "Hyper-parameters at iteration 6 : [ 6.55814889  1.69672076  0.01      ]\n",
      "\tHyper-parameters at outter iteration 3 : [ 6.64633771  1.69669717  0.01      ]\n",
      "Hyper-parameters at iteration 0 : [ 6.64633771  1.69669717  0.01      ]\n",
      "Hyper-parameters at iteration 1 : [ 6.650844    1.71425327  0.01      ]\n",
      "Hyper-parameters at iteration 2 : [ 6.99671346  1.76721261  0.01      ]\n",
      "Hyper-parameters at iteration 3 : [ 7.91314801  1.86385264  0.01      ]\n",
      "Hyper-parameters at iteration 4 : [ 8.63404398  1.92000755  0.01      ]\n",
      "Hyper-parameters at iteration 5 : [ 9.171041    1.95518554  0.01      ]\n",
      "Hyper-parameters at iteration 6 : [ 9.43846541  1.97256048  0.01      ]\n",
      "\tHyper-parameters at outter iteration 4 : [ 9.52292783  1.97853132  0.01      ]\n",
      "Hyper-parameters at iteration 0 : [ 9.52292783  1.97853132  0.01      ]\n",
      "Hyper-parameters at iteration 1 : [ 9.52553815  2.00261936  0.01      ]\n",
      "Hyper-parameters at iteration 2 : [ 9.52470639  1.99454609  0.01      ]\n",
      "Hyper-parameters at iteration 3 : [ 9.52486897  1.99400472  0.01      ]\n",
      "Hyper-parameters at iteration 4 : [ 9.525598    1.99335473  0.01      ]\n",
      "Hyper-parameters at iteration 5 : [ 9.53001515  1.99144253  0.01      ]\n",
      "Hyper-parameters at iteration 6 : [ 9.53965836  1.98966336  0.01      ]\n",
      "\tHyper-parameters at outter iteration 5 : [ 9.57282024  1.98728132  0.01      ]\n",
      "Hyper-parameters at iteration 0 : [ 9.57282024  1.98728132  0.01      ]\n",
      "Hyper-parameters at iteration 1 : [ 9.57637998  2.00950789  0.01      ]\n",
      "Hyper-parameters at iteration 2 : [ 9.57534786  2.00276274  0.01      ]\n",
      "Hyper-parameters at iteration 3 : [ 9.57550441  2.00219096  0.01      ]\n",
      "Hyper-parameters at iteration 4 : [ 9.57648062  2.00123445  0.01      ]\n",
      "Hyper-parameters at iteration 5 : [ 9.58107313  1.99919344  0.01      ]\n",
      "Hyper-parameters at iteration 6 : [ 9.5929341   1.99686614  0.01      ]\n",
      "\tHyper-parameters at outter iteration 6 : [ 9.62894644  1.99409755  0.01      ]\n",
      "Hyper-parameters at iteration 0 : [ 9.62894644  1.99409755  0.01      ]\n",
      "Hyper-parameters at iteration 1 : [ 9.63303428  2.01809144  0.01      ]\n",
      "Hyper-parameters at iteration 2 : [ 9.63179303  2.01049821  0.01      ]\n",
      "Hyper-parameters at iteration 3 : [ 9.63181825  2.01032897  0.01      ]\n",
      "Hyper-parameters at iteration 4 : [ 9.63243909  2.00922057  0.01      ]\n",
      "Hyper-parameters at iteration 5 : [ 9.63428178  2.00781702  0.01      ]\n",
      "Hyper-parameters at iteration 6 : [ 9.63999123  2.0056991   0.01      ]\n",
      "\tHyper-parameters at outter iteration 7 : [ 9.655211    2.00311508  0.01      ]\n",
      "Hyper-parameters at iteration 0 : [ 9.655211    2.00311508  0.01      ]\n",
      "Hyper-parameters at iteration 1 : [ 9.65995653  2.02267679  0.01      ]\n",
      "Hyper-parameters at iteration 2 : [ 9.65878278  2.01759723  0.01      ]\n",
      "Hyper-parameters at iteration 3 : [ 9.658783   2.0175962  0.01     ]\n",
      "Hyper-parameters at iteration 4 : [ 9.66552657  2.01555813  0.01      ]\n",
      "Hyper-parameters at iteration 5 : [ 9.69553213  2.00854343  0.01      ]\n",
      "Hyper-parameters at iteration 6 : [ 9.70895799  2.00751743  0.01      ]\n",
      "\tHyper-parameters at outter iteration 8 : [ 9.82637424  2.00567893  0.01      ]\n",
      "Hyper-parameters at iteration 0 : [ 9.82637424  2.00567893  0.01      ]\n",
      "Hyper-parameters at iteration 1 : [ 9.8305078   2.05464448  0.01      ]\n",
      "Hyper-parameters at iteration 2 : [ 9.8286896   2.03242936  0.01      ]\n",
      "Hyper-parameters at iteration 3 : [ 9.8286896   2.03242936  0.01      ]\n",
      "\tHyper-parameters at outter iteration 9 : [ 9.8286896   2.03242936  0.01      ]\n",
      "Hyper-parameters at iteration 0 : [ 9.8286896   2.03242936  0.01      ]\n",
      "Hyper-parameters at iteration 1 : [ 9.83554229  2.04573815  0.01      ]\n",
      "Hyper-parameters at iteration 2 : [ 9.8345192  2.0435979  0.01     ]\n",
      "Hyper-parameters at iteration 3 : [ 9.83451532  2.04356491  0.01      ]\n",
      "Hyper-parameters at iteration 4 : [ 9.83530673  2.04264678  0.01      ]\n",
      "Hyper-parameters at iteration 5 : [ 9.84253609  2.03759904  0.01      ]\n",
      "Hyper-parameters at iteration 6 : [ 9.84903988  2.03604745  0.01      ]\n",
      "\tHyper-parameters at outter iteration 10 : [ 9.8951748   2.03131658  0.01      ]\n",
      "Hyper-parameters at iteration 0 : [ 9.8951748   2.03131658  0.01      ]\n",
      "Hyper-parameters at iteration 1 : [ 9.90069333  2.05958735  0.01      ]\n",
      "Hyper-parameters at iteration 2 : [ 9.89898991  2.05052153  0.01      ]\n",
      "Hyper-parameters at iteration 3 : [ 9.89915117  2.04958174  0.01      ]\n",
      "Hyper-parameters at iteration 4 : [ 9.90005564  2.04860617  0.01      ]\n",
      "Hyper-parameters at iteration 5 : [ 9.90615062  2.04567729  0.01      ]\n",
      "Hyper-parameters at iteration 6 : [ 9.92124908  2.04253105  0.01      ]\n",
      "\tHyper-parameters at outter iteration 11 : [ 9.96855745  2.03863327  0.01      ]\n",
      "Hyper-parameters at iteration 0 : [ 9.96855745  2.03863327  0.01      ]\n",
      "Hyper-parameters at iteration 1 : [ 9.97418468  2.07080845  0.01      ]\n",
      "Hyper-parameters at iteration 2 : [ 9.97233223  2.05982753  0.01      ]\n",
      "Hyper-parameters at iteration 3 : [ 9.97235539  2.05955485  0.01      ]\n",
      "Hyper-parameters at iteration 4 : [ 9.97288115  2.05827655  0.01      ]\n",
      "Hyper-parameters at iteration 5 : [ 9.97446417  2.0567526   0.01      ]\n",
      "Hyper-parameters at iteration 6 : [ 9.97967887  2.05441734  0.01      ]\n",
      "\tHyper-parameters at outter iteration 12 : [ 9.99562437  2.05092614  0.01      ]\n",
      "Hyper-parameters at iteration 0 : [ 9.99562437  2.05092614  0.01      ]\n",
      "Hyper-parameters at iteration 1 : [  1.00019439e+01   2.07331027e+00   1.00000000e-02]\n",
      "Hyper-parameters at iteration 2 : [  1.00004307e+01   2.06768573e+00   1.00000000e-02]\n",
      "Hyper-parameters at iteration 3 : [  1.00004513e+01   2.06747910e+00   1.00000000e-02]\n",
      "Hyper-parameters at iteration 4 : [  1.00014973e+01   2.06581560e+00   1.00000000e-02]\n",
      "Hyper-parameters at iteration 5 : [  1.00053268e+01   2.06310387e+00   1.00000000e-02]\n",
      "Hyper-parameters at iteration 6 : [  1.00142039e+01   2.06036028e+00   1.00000000e-02]\n",
      "\tHyper-parameters at outter iteration 13 : [  1.00446320e+01   2.05614360e+00   1.00000000e-02]\n",
      "Hyper-parameters at iteration 0 : [  1.00446320e+01   2.05614360e+00   1.00000000e-02]\n",
      "Hyper-parameters at iteration 1 : [  1.00510114e+01   2.08199306e+00   1.00000000e-02]\n",
      "Hyper-parameters at iteration 2 : [  1.00493123e+01   2.07480418e+00   1.00000000e-02]\n",
      "Hyper-parameters at iteration 3 : [  1.00493345e+01   2.07457418e+00   1.00000000e-02]\n",
      "Hyper-parameters at iteration 4 : [  1.00502357e+01   2.07286464e+00   1.00000000e-02]\n",
      "Hyper-parameters at iteration 5 : [  1.00530205e+01   2.07079656e+00   1.00000000e-02]\n",
      "Hyper-parameters at iteration 6 : [  1.00621611e+01   2.06760028e+00   1.00000000e-02]\n",
      "\tHyper-parameters at outter iteration 14 : [  1.00867520e+01   2.06378064e+00   1.00000000e-02]\n",
      "Hyper-parameters at iteration 0 : [  1.00867520e+01   2.06378064e+00   1.00000000e-02]\n",
      "Hyper-parameters at iteration 1 : [  1.00934703e+01   2.08822412e+00   1.00000000e-02]\n",
      "Hyper-parameters at iteration 2 : [  1.00917770e+01   2.08177768e+00   1.00000000e-02]\n",
      "Hyper-parameters at iteration 3 : [  1.01357654e+01   2.06915797e+00   1.00000000e-02]\n",
      "Hyper-parameters at iteration 4 : [  1.01471534e+01   2.06734917e+00   1.00000000e-02]\n",
      "Hyper-parameters at iteration 5 : [  1.01815225e+01   2.06482349e+00   1.00000000e-02]\n",
      "Hyper-parameters at iteration 6 : [  1.02907197e+01   2.06287670e+00   1.00000000e-02]\n",
      "\tHyper-parameters at outter iteration 15 : [  1.05354661e+01   2.06851470e+00   1.00000000e-02]\n",
      "Hyper-parameters at iteration 0 : [  1.05354661e+01   2.06851470e+00   1.00000000e-02]\n",
      "Hyper-parameters at iteration 1 : [  1.05370563e+01   2.11264346e+00   1.00000000e-02]\n",
      "Hyper-parameters at iteration 2 : [  1.05370563e+01   2.11264346e+00   1.00000000e-02]\n",
      "Hyper-parameters at iteration 3 : [  1.12705284e+01   2.09291184e+00   1.00000000e-02]\n",
      "Hyper-parameters at iteration 4 : [  1.09777044e+01   2.10385297e+00   1.00000000e-02]\n",
      "Hyper-parameters at iteration 5 : [  1.09599954e+01   2.10763511e+00   1.00000000e-02]\n",
      "Hyper-parameters at iteration 6 : [  1.10066199e+01   2.13424755e+00   1.00000000e-02]\n",
      "\tHyper-parameters at outter iteration 16 : [  1.12876331e+01   2.17939942e+00   1.00000000e-02]\n",
      "Hyper-parameters at iteration 0 : [  1.12876331e+01   2.17939942e+00   1.00000000e-02]\n",
      "Hyper-parameters at iteration 1 : [  1.12952640e+01   2.19232837e+00   1.00000000e-02]\n",
      "Hyper-parameters at iteration 2 : [  1.12945080e+01   2.19087713e+00   1.00000000e-02]\n",
      "Hyper-parameters at iteration 3 : [  1.13111571e+01   2.18146635e+00   1.00000000e-02]\n",
      "Hyper-parameters at iteration 4 : [  1.13122370e+01   2.18104028e+00   1.00000000e-02]\n",
      "Hyper-parameters at iteration 5 : [  1.13188441e+01   2.17939874e+00   1.00000000e-02]\n",
      "Hyper-parameters at iteration 6 : [  1.13414038e+01   2.17555722e+00   1.00000000e-02]\n",
      "\tHyper-parameters at outter iteration 17 : [  1.13686845e+01   2.17351339e+00   1.00000000e-02]\n",
      "Hyper-parameters at iteration 0 : [  1.13686845e+01   2.17351339e+00   1.00000000e-02]\n",
      "Hyper-parameters at iteration 1 : [  1.13738002e+01   2.20390466e+00   1.00000000e-02]\n",
      "Hyper-parameters at iteration 2 : [  1.13724817e+01   2.19562596e+00   1.00000000e-02]\n",
      "Hyper-parameters at iteration 3 : [  1.13724840e+01   2.19561658e+00   1.00000000e-02]\n",
      "Hyper-parameters at iteration 4 : [  1.13788700e+01   2.19419376e+00   1.00000000e-02]\n",
      "Hyper-parameters at iteration 5 : [  1.14409686e+01   2.18248491e+00   1.00000000e-02]\n",
      "Hyper-parameters at iteration 6 : [  1.15065812e+01   2.18102251e+00   1.00000000e-02]\n",
      "\tHyper-parameters at outter iteration 18 : [  1.18841958e+01   2.19082875e+00   1.00000000e-02]\n",
      "Hyper-parameters at iteration 0 : [  1.18841958e+01   2.19082875e+00   1.00000000e-02]\n",
      "Hyper-parameters at iteration 1 : [  1.18871841e+01   2.26568544e+00   1.00000000e-02]\n",
      "Hyper-parameters at iteration 2 : [  1.18859381e+01   2.23271784e+00   1.00000000e-02]\n",
      "Hyper-parameters at iteration 3 : [  1.18859671e+01   2.23157124e+00   1.00000000e-02]\n",
      "Hyper-parameters at iteration 4 : [  1.24605957e+01   2.24114780e+00   1.00000000e-02]\n",
      "Hyper-parameters at iteration 5 : [  1.39046177e+01   2.34573616e+00   1.00000000e-02]\n",
      "Hyper-parameters at iteration 6 : [  1.66584740e+01   2.55940964e+00   1.00000000e-02]\n",
      "\tHyper-parameters at outter iteration 19 : [  1.81966758e+01   2.66807150e+00   1.00000000e-02]\n"
     ]
    }
   ],
   "source": [
    "opts = {'maxiter':5, 'mydisp': True}\n",
    "vi_res = vi_gp.fit(x_tr, y_tr, inputs=inputs, optimizer_options=opts, max_out_iter=20)"
   ]
  },
  {
   "cell_type": "code",
   "execution_count": 17,
   "metadata": {
    "collapsed": true
   },
   "outputs": [],
   "source": [
    "metric = lambda w: vi_gp.get_prediction_quality(w, x_test, y_test)\n",
    "vi_x_lst, vi_y_lst = vi_res.plot_performance(metric, 't', freq=1)"
   ]
  },
  {
   "cell_type": "code",
   "execution_count": 19,
   "metadata": {
    "collapsed": false
   },
   "outputs": [
    {
     "data": {
      "text/plain": [
       "<matplotlib.text.Text at 0x10d427320>"
      ]
     },
     "execution_count": 19,
     "metadata": {},
     "output_type": "execute_result"
    },
    {
     "data": {
      "image/png": "[encoded data removed]",
      "text/plain": [
       "<matplotlib.figure.Figure at 0x10d445198>"
      ]
     },
     "metadata": {},
     "output_type": "display_data"
    }
   ],
   "source": [
    "plt.plot(vi_x_lst[1:100], vi_y_lst[1:100], '-bx', label='vi-means-c')\n",
    "# plt.plot(svi_x_lst[1:100], svi_y_lst[1:100], '-gx', label='svi-L-BFGS-B-c')\n",
    "plt.ylim([0.8, 1.])\n",
    "plt.legend()\n",
    "plt.xlabel('Seconds')\n",
    "plt.ylabel('Accuracy')"
   ]
  },
  {
   "cell_type": "markdown",
   "metadata": {},
   "source": [
    "## svi-AdaDelta-c\n",
    "Подберем шаг для метода"
   ]
  },
  {
   "cell_type": "code",
   "execution_count": 27,
   "metadata": {
    "collapsed": false
   },
   "outputs": [
    {
     "name": "stderr",
     "output_type": "stream",
     "text": [
      "/Users/IzmailovPavel/Documents/Education/Course Project/Code/GP/gaussian_process_classification.py:605: RuntimeWarning: invalid value encountered in log\n",
      "  loss += np.sum(np.log(np.diag(sigma_L))) * l / N\n"
     ]
    }
   ],
   "source": [
    "results = []\n",
    "steps = [1., 0.5, 0.3, 0.1, 0.01]\n",
    "for step in steps:\n",
    "    model_covariance_obj = SquaredExponential(np.copy(cov_params))\n",
    "    ad_gp = GPC(model_covariance_obj, method='svi', hermgauss_deg=100)\n",
    "\n",
    "    opts = {'mode': 'adadelta', 'maxiter': 20, 'verbose': False, 'batch_size': 50, \n",
    "            'step_rate': step}#, 'print_freq':50}\n",
    "    batch_res = ad_gp.fit(x_tr, y_tr, inputs=inputs, optimizer_options=opts)\n",
    "    results.append(batch_res)"
   ]
  },
  {
   "cell_type": "code",
   "execution_count": 28,
   "metadata": {
    "collapsed": false
   },
   "outputs": [
    {
     "name": "stdout",
     "output_type": "stream",
     "text": [
      "0\n",
      "1\n",
      "2\n",
      "3\n",
      "4\n"
     ]
    },
    {
     "data": {
      "text/plain": [
       "<matplotlib.text.Text at 0x12d40a2e8>"
      ]
     },
     "execution_count": 28,
     "metadata": {},
     "output_type": "execute_result"
    },
    {
     "data": {
      "image/png": "[encoded data removed]",
      "text/plain": [
       "<matplotlib.figure.Figure at 0x12d43d0b8>"
      ]
     },
     "metadata": {},
     "output_type": "display_data"
    }
   ],
   "source": [
    "metric = lambda w: ad_gp.get_prediction_quality(w, x_test, y_test)\n",
    "for i in range(len(results)):\n",
    "    svi_ad_x_lst, svi_ad_y_lst = results[i].plot_performance(metric, 't', freq=1)\n",
    "    plt.plot(svi_ad_x_lst[1:], svi_ad_y_lst[1:], label=steps[i])\n",
    "    print(i)\n",
    "plt.ylim([0.8, 1.])\n",
    "plt.legend()\n",
    "plt.xlabel('Seconds')\n",
    "plt.ylabel('Accuracy')"
   ]
  },
  {
   "cell_type": "code",
   "execution_count": 29,
   "metadata": {
    "collapsed": false
   },
   "outputs": [
    {
     "name": "stdout",
     "output_type": "stream",
     "text": [
      "Iteration  123 :\n",
      "\tGradient norm 3.12618445062\n",
      "Iteration  246 :\n",
      "\tGradient norm 7.42255843197\n",
      "Iteration  369 :\n",
      "\tGradient norm 3.43071766435\n",
      "Iteration  492 :\n",
      "\tGradient norm 1.82549772357\n",
      "Iteration  615 :\n",
      "\tGradient norm 3.39220844315\n",
      "Iteration  738 :\n",
      "\tGradient norm 5.92067387829\n",
      "Iteration  861 :\n",
      "\tGradient norm 3.63814767575\n",
      "Iteration  984 :\n",
      "\tGradient norm 5.79209304333\n",
      "Iteration  1107 :\n",
      "\tGradient norm 4.15286057462\n",
      "Iteration  1230 :\n",
      "\tGradient norm 2.52090439008\n"
     ]
    },
    {
     "name": "stderr",
     "output_type": "stream",
     "text": [
      "/Users/IzmailovPavel/Documents/Education/Course Project/Code/GP/gaussian_process_classification.py:605: RuntimeWarning: invalid value encountered in log\n",
      "  loss += np.sum(np.log(np.diag(sigma_L))) * l / N\n"
     ]
    }
   ],
   "source": [
    "model_covariance_obj = SquaredExponential(np.copy(cov_params))\n",
    "ad_gp = GPC(model_covariance_obj, method='svi', hermgauss_deg=100)\n",
    "opts = {'mode': 'adadelta', 'maxiter': 20, 'verbose': True, 'batch_size': 50, \n",
    "        'step_rate': 1., 'print_freq':2}\n",
    "batch_res = ad_gp.fit(x_tr, y_tr, inputs=inputs, optimizer_options=opts)"
   ]
  },
  {
   "cell_type": "code",
   "execution_count": 32,
   "metadata": {
    "collapsed": false
   },
   "outputs": [
    {
     "data": {
      "text/plain": [
       "<matplotlib.text.Text at 0x12d76eda0>"
      ]
     },
     "execution_count": 32,
     "metadata": {},
     "output_type": "execute_result"
    },
    {
     "data": {
      "image/png": "[encoded data removed]",
      "text/plain": [
       "<matplotlib.figure.Figure at 0x12d85e710>"
      ]
     },
     "metadata": {},
     "output_type": "display_data"
    }
   ],
   "source": [
    "metric = lambda w: ad_gp.get_prediction_quality(w, x_test, y_test)\n",
    "svi_ad_x_lst, svi_ad_y_lst = batch_res.plot_performance(metric, 't', freq=1)\n",
    "plt.plot(svi_ad_x_lst[1:], svi_ad_y_lst[1:], '-yx', label='svi-AdaDelta-c')\n",
    "plt.ylim([0.8, 1.])\n",
    "plt.legend()\n",
    "plt.xlabel('Seconds')\n",
    "plt.ylabel('Accuracy')"
   ]
  },
  {
   "cell_type": "markdown",
   "metadata": {},
   "source": [
    "## Выводы"
   ]
  },
  {
   "cell_type": "code",
   "execution_count": 33,
   "metadata": {
    "collapsed": false
   },
   "outputs": [
    {
     "data": {
      "text/plain": [
       "<matplotlib.text.Text at 0x12dc237b8>"
      ]
     },
     "execution_count": 33,
     "metadata": {},
     "output_type": "execute_result"
    },
    {
     "data": {
      "image/png": "[encoded data removed]",
      "text/plain": [
       "<matplotlib.figure.Figure at 0x12db297b8>"
      ]
     },
     "metadata": {},
     "output_type": "display_data"
    }
   ],
   "source": [
    "plt.figure(figsize=(12, 7))\n",
    "plt.plot(svi_x_lst[1:], svi_y_lst[1:], '-gx', label='svi-L-BFGS-B-c')\n",
    "plt.plot(svi_ad_x_lst[1:50], svi_ad_y_lst[1:50], '-yx', label='svi-AdaDelta-c')\n",
    "plt.plot(vi_x_lst[1:100], vi_y_lst[1:100], '-bx', label='vi-means-c')\n",
    "plt.ylim([0.8, 1.])\n",
    "plt.legend()\n",
    "plt.xlabel('Seconds')\n",
    "plt.ylabel('Accuracy')"
   ]
  },
  {
   "cell_type": "code",
   "execution_count": 40,
   "metadata": {
    "collapsed": false
   },
   "outputs": [
    {
     "data": {
      "text/plain": [
       "<matplotlib.text.Text at 0x12eeed438>"
      ]
     },
     "execution_count": 40,
     "metadata": {},
     "output_type": "execute_result"
    },
    {
     "data": {
      "image/png": "[encoded data removed]",
      "text/plain": [
       "<matplotlib.figure.Figure at 0x12eea3c50>"
      ]
     },
     "metadata": {},
     "output_type": "display_data"
    }
   ],
   "source": [
    "plt.figure(figsize=(12, 7))\n",
    "plt.plot(svi_x_lst[1:18], svi_y_lst[1:18], '-gx', label='svi-L-BFGS-B-c')\n",
    "plt.plot(svi_ad_x_lst[1:8], svi_ad_y_lst[1:8], '-yx', label='svi-AdaDelta-c')\n",
    "plt.plot(vi_x_lst[1:10], vi_y_lst[1:10], '-bx', label='vi-means-c')\n",
    "plt.ylim([0.85, 1.])\n",
    "plt.legend()\n",
    "plt.xlabel('Seconds')\n",
    "plt.ylabel('Accuracy')"
   ]
  },
  {
   "cell_type": "code",
   "execution_count": 41,
   "metadata": {
    "collapsed": true
   },
   "outputs": [],
   "source": [
    "np.save('../plots/vi_vs_svi_class/'+ data_name +'_svi_x.npy', svi_x_lst)\n",
    "np.save('../plots/vi_vs_svi_class/'+ data_name +'_svi_y.npy', svi_y_lst)\n",
    "np.save('../plots/vi_vs_svi_class/'+ data_name +'_vi_x.npy', vi_x_lst)\n",
    "np.save('../plots/vi_vs_svi_class/'+ data_name +'_vi_y.npy', vi_y_lst)\n",
    "np.save('../plots/vi_vs_svi_class/'+ data_name +'_ad_x.npy', svi_ad_x_lst)\n",
    "np.save('../plots/vi_vs_svi_class/'+ data_name +'_ad_y.npy', svi_ad_y_lst)"
   ]
  },
  {
   "cell_type": "code",
   "execution_count": null,
   "metadata": {
    "collapsed": true
   },
   "outputs": [],
   "source": []
  }
 ],
 "metadata": {
  "kernelspec": {
   "display_name": "Python 3",
   "language": "python",
   "name": "python3"
  },
  "language_info": {
   "codemirror_mode": {
    "name": "ipython",
    "version": 3
   },
   "file_extension": ".py",
   "mimetype": "text/x-python",
   "name": "python",
   "nbconvert_exporter": "python",
   "pygments_lexer": "ipython3",
   "version": "3.4.3"
  }
 },
 "nbformat": 4,
 "nbformat_minor": 0
}
