{
 "cells": [
  {
   "cell_type": "markdown",
   "metadata": {},
   "source": [
    "# SVMguide 1"
   ]
  },
  {
   "cell_type": "code",
   "execution_count": 1,
   "metadata": {
    "collapsed": false
   },
   "outputs": [],
   "source": [
    "import sys\n",
    "sys.path.append('/Users/IzmailovPavel/Documents/Education/Course Project/Code')\n",
    "import numpy as np\n",
    "import matplotlib as mpl\n",
    "\n",
    "from matplotlib import pyplot as plt\n",
    "\n",
    "from GP.covariance_functions import SquaredExponential\n",
    "from GP.gaussian_process_classification import GPC\n",
    "\n",
    "from sklearn.cluster import KMeans\n",
    "\n",
    "from vi_svi_class_experiments import run_methods\n",
    "from sklearn.datasets import load_svmlight_file\n",
    "from sklearn.preprocessing import StandardScaler\n",
    "from sklearn.utils import shuffle\n",
    "%matplotlib inline\n",
    "%load_ext autoreload\n",
    "%autoreload 2"
   ]
  },
  {
   "cell_type": "markdown",
   "metadata": {},
   "source": [
    "## Данные"
   ]
  },
  {
   "cell_type": "code",
   "execution_count": 2,
   "metadata": {
    "collapsed": false
   },
   "outputs": [
    {
     "name": "stdout",
     "output_type": "stream",
     "text": [
      "(4000, 4)\n",
      "3089 4\n",
      "of objects: 3089\n",
      "of features: 4\n",
      "svmguide\n"
     ]
    }
   ],
   "source": [
    "x_tr, y_tr = load_svmlight_file('../../../../Programming/DataSets/Classification/svmguide1(3089,4).txt')\n",
    "x_tr, y_tr = shuffle(x_tr, y_tr, random_state=241)\n",
    "x_test, y_test = load_svmlight_file('../../../../Programming/DataSets/Classification/svmguide1_test(4000,4).txt')\n",
    "data_name = 'svmguide'\n",
    "print(x_test.shape)\n",
    "\n",
    "# x_tr = x_tr.T\n",
    "x_tr = x_tr.toarray()\n",
    "# x_test = x_test.T\n",
    "x_test = x_test.toarray()\n",
    "scaler = StandardScaler()\n",
    "x_tr = scaler.fit_transform(x_tr).T\n",
    "x_test = scaler.transform(x_test).T\n",
    "\n",
    "x_tr = (x_tr + 1) / 2\n",
    "x_test = (x_test + 1) / 2\n",
    "y_tr = y_tr[:, None]\n",
    "y_test = y_test[:, None]\n",
    "y_tr[y_tr == 0] = -1\n",
    "y_test[y_test == 0] = -1\n",
    "dim, num = x_tr.shape\n",
    "print(num, dim)\n",
    "print('of objects:', num)\n",
    "print('of features:', dim)\n",
    "print(data_name)"
   ]
  },
  {
   "cell_type": "markdown",
   "metadata": {},
   "source": [
    "## K-Means cluster centers"
   ]
  },
  {
   "cell_type": "code",
   "execution_count": 3,
   "metadata": {
    "collapsed": false
   },
   "outputs": [
    {
     "name": "stdout",
     "output_type": "stream",
     "text": [
      "Finding means...\n",
      "...found\n"
     ]
    }
   ],
   "source": [
    "ind_num = 25\n",
    "print('Finding means...')\n",
    "means = KMeans(n_clusters=ind_num, n_init=3, max_iter=100, random_state=241)\n",
    "means.fit(x_tr.T)\n",
    "inputs = means.cluster_centers_.T\n",
    "print('...found')"
   ]
  },
  {
   "cell_type": "code",
   "execution_count": 4,
   "metadata": {
    "collapsed": true
   },
   "outputs": [],
   "source": [
    "cov_params = np.array([2., 2., 1.])"
   ]
  },
  {
   "cell_type": "markdown",
   "metadata": {},
   "source": [
    "## svi-L-BFGS-B-c method"
   ]
  },
  {
   "cell_type": "code",
   "execution_count": 5,
   "metadata": {
    "collapsed": true
   },
   "outputs": [],
   "source": [
    "model_covariance_obj = SquaredExponential(np.copy(cov_params))\n",
    "svi_gp = GPC(model_covariance_obj, method='svi')"
   ]
  },
  {
   "cell_type": "code",
   "execution_count": 6,
   "metadata": {
    "collapsed": false
   },
   "outputs": [],
   "source": [
    "opts = {'mode': 'full', 'maxiter': 20, 'mydisp': False}\n",
    "svi_res = svi_gp.fit(x_tr, y_tr, inputs=inputs, optimizer_options=opts)"
   ]
  },
  {
   "cell_type": "code",
   "execution_count": 7,
   "metadata": {
    "collapsed": false
   },
   "outputs": [],
   "source": [
    "metric = lambda w: svi_gp.get_prediction_quality(w, x_test, y_test)\n",
    "svi_x_lst, svi_y_lst = svi_res.plot_performance(metric, 't', freq=1)"
   ]
  },
  {
   "cell_type": "code",
   "execution_count": 8,
   "metadata": {
    "collapsed": false
   },
   "outputs": [
    {
     "data": {
      "text/plain": [
       "<matplotlib.text.Text at 0x1032837b8>"
      ]
     },
     "execution_count": 8,
     "metadata": {},
     "output_type": "execute_result"
    },
    {
     "data": {
      "image/png": "[encoded data removed]",
      "text/plain": [
       "<matplotlib.figure.Figure at 0x10d0e1588>"
      ]
     },
     "metadata": {},
     "output_type": "display_data"
    }
   ],
   "source": [
    "plt.plot(svi_x_lst[1:], svi_y_lst[1:], '-gx', label='svi-L-BFGS-B-c')\n",
    "plt.ylim([0.8, 1.])\n",
    "plt.legend()\n",
    "plt.xlabel('Seconds')\n",
    "plt.ylabel('Accuracy')"
   ]
  },
  {
   "cell_type": "markdown",
   "metadata": {},
   "source": [
    "## vi-means-c method\n",
    "Подбор числа пересчетов"
   ]
  },
  {
   "cell_type": "code",
   "execution_count": 9,
   "metadata": {
    "collapsed": false
   },
   "outputs": [
    {
     "name": "stdout",
     "output_type": "stream",
     "text": [
      "5\n",
      "\n",
      "10\n",
      "\n",
      "15\n",
      "\n",
      "20\n",
      "\n"
     ]
    }
   ],
   "source": [
    "maxfuns = [5, 10, 15, 20]\n",
    "results = []\n",
    "for maxfun in maxfuns:\n",
    "    print(maxfun)\n",
    "    model_covariance_obj = SquaredExponential(np.copy(cov_params))\n",
    "    vi_gp = GPC(model_covariance_obj, method='vi')\n",
    "    opts = {'maxfun':maxfun, 'mydisp': False, 'num_updates':3}\n",
    "    results.append(vi_gp.fit(x_tr, y_tr, inputs=inputs, optimizer_options=opts, max_out_iter=20))\n",
    "    print()"
   ]
  },
  {
   "cell_type": "code",
   "execution_count": 10,
   "metadata": {
    "collapsed": false
   },
   "outputs": [
    {
     "name": "stdout",
     "output_type": "stream",
     "text": [
      "0\n",
      "1\n",
      "2\n",
      "3\n"
     ]
    },
    {
     "data": {
      "text/plain": [
       "<matplotlib.text.Text at 0x10d290828>"
      ]
     },
     "execution_count": 10,
     "metadata": {},
     "output_type": "execute_result"
    },
    {
     "data": {
      "image/png": "[encoded data removed]",
      "text/plain": [
       "<matplotlib.figure.Figure at 0x1059659b0>"
      ]
     },
     "metadata": {},
     "output_type": "display_data"
    }
   ],
   "source": [
    "metric = lambda w: vi_gp.get_prediction_quality(w, x_test, y_test)\n",
    "for i in range(len(maxfuns)):\n",
    "    vi_x_lst, vi_y_lst = results[i].plot_performance(metric, 't', freq=1)\n",
    "    plt.plot(vi_x_lst[1:], vi_y_lst[1:], label=maxfuns[i])\n",
    "    print(i)\n",
    "plt.ylim([0.85, 1.])\n",
    "plt.legend()\n",
    "plt.xlabel('Seconds')\n",
    "plt.ylabel('Accuracy')"
   ]
  },
  {
   "cell_type": "markdown",
   "metadata": {},
   "source": [
    "Обучение лучшего варианта"
   ]
  },
  {
   "cell_type": "code",
   "execution_count": 11,
   "metadata": {
    "collapsed": true
   },
   "outputs": [
    {
     "name": "stdout",
     "output_type": "stream",
     "text": [
      "Hyper-parameters at iteration 0 : [ 2.  2.  1.]\n",
      "Hyper-parameters at iteration 1 : [ 2.16391843  1.99619749  0.9981083 ]\n",
      "Hyper-parameters at iteration 2 : [ 2.28928455  1.87385807  0.01      ]\n",
      "Hyper-parameters at iteration 3 : [ 2.45757101  1.80315158  0.01      ]\n",
      "Hyper-parameters at iteration 4 : [ 2.97828133  1.57892528  0.01      ]\n",
      "\tHyper-parameters at outter iteration 0 : [ 3.10454951  1.52920349  0.01      ]\n",
      "Hyper-parameters at iteration 0 : [ 3.10454951  1.52920349  0.01      ]\n",
      "Hyper-parameters at iteration 1 : [ 4.57935477  1.45213752  0.01      ]\n",
      "\tHyper-parameters at outter iteration 1 : [ 4.54388183  1.45445359  0.01      ]\n",
      "Hyper-parameters at iteration 0 : [ 4.54388183  1.45445359  0.01      ]\n",
      "Hyper-parameters at iteration 1 : [ 4.55293439  1.47518661  0.01      ]\n",
      "\tHyper-parameters at outter iteration 2 : [ 4.5540688   1.47502005  0.01      ]\n",
      "Hyper-parameters at iteration 0 : [ 4.5540688   1.47502005  0.01      ]\n",
      "Hyper-parameters at iteration 1 : [ 4.6365884   1.44779906  0.01      ]\n",
      "\tHyper-parameters at outter iteration 3 : [ 4.63848752  1.44733555  0.01      ]\n",
      "Hyper-parameters at iteration 0 : [ 4.63848752  1.44733555  0.01      ]\n",
      "Hyper-parameters at iteration 1 : [ 4.70538102  1.48770889  0.01      ]\n",
      "Hyper-parameters at iteration 2 : [ 4.68483122  1.475156    0.01      ]\n",
      "Hyper-parameters at iteration 3 : [ 4.68387403  1.47441956  0.01      ]\n",
      "Hyper-parameters at iteration 4 : [ 4.67983826  1.46973906  0.01      ]\n",
      "\tHyper-parameters at outter iteration 4 : [ 4.6804145   1.46496274  0.01      ]\n",
      "Hyper-parameters at iteration 0 : [ 4.6804145   1.46496274  0.01      ]\n",
      "Hyper-parameters at iteration 1 : [ 4.73333985  1.4452764   0.01      ]\n",
      "\tHyper-parameters at outter iteration 5 : [ 4.73487862  1.44489654  0.01      ]\n",
      "Hyper-parameters at iteration 0 : [ 4.73487862  1.44489654  0.01      ]\n",
      "Hyper-parameters at iteration 1 : [ 4.74717618  1.46313033  0.01      ]\n",
      "\tHyper-parameters at outter iteration 6 : [ 4.74971418  1.46335683  0.01      ]\n",
      "Hyper-parameters at iteration 0 : [ 4.74971418  1.46335683  0.01      ]\n",
      "Hyper-parameters at iteration 1 : [ 4.79099047  1.44731924  0.01      ]\n",
      "\tHyper-parameters at outter iteration 7 : [ 4.79237483  1.44700679  0.01      ]\n",
      "Hyper-parameters at iteration 0 : [ 4.79237483  1.44700679  0.01      ]\n",
      "Hyper-parameters at iteration 1 : [ 4.80264376  1.46704179  0.01      ]\n",
      "\tHyper-parameters at outter iteration 8 : [ 4.80507306  1.46707954  0.01      ]\n",
      "Hyper-parameters at iteration 0 : [ 4.80507306  1.46707954  0.01      ]\n",
      "Hyper-parameters at iteration 1 : [ 4.93788135  1.44902279  0.01      ]\n",
      "\tHyper-parameters at outter iteration 9 : [ 4.97854882  1.45528317  0.01      ]\n",
      "Hyper-parameters at iteration 0 : [ 4.97854882  1.45528317  0.01      ]\n",
      "Hyper-parameters at iteration 1 : [ 4.98410571  1.48580864  0.01      ]\n",
      "Hyper-parameters at iteration 2 : [ 4.98436517  1.48455686  0.01      ]\n",
      "\tHyper-parameters at outter iteration 10 : [ 4.9861906   1.48244533  0.01      ]\n",
      "Hyper-parameters at iteration 0 : [ 4.9861906   1.48244533  0.01      ]\n",
      "Hyper-parameters at iteration 1 : [ 5.04553521  1.52480058  0.01      ]\n",
      "Hyper-parameters at iteration 2 : [ 5.02366102  1.50896148  0.01      ]\n",
      "Hyper-parameters at iteration 3 : [ 5.0228838   1.50816635  0.01      ]\n",
      "Hyper-parameters at iteration 4 : [ 5.02044461  1.50275778  0.01      ]\n",
      "\tHyper-parameters at outter iteration 11 : [ 5.02456347  1.49737139  0.01      ]\n",
      "Hyper-parameters at iteration 0 : [ 5.02456347  1.49737139  0.01      ]\n",
      "Hyper-parameters at iteration 1 : [ 8.41568449  1.8787996   0.01      ]\n",
      "Hyper-parameters at iteration 2 : [ 7.99056292  1.83068054  0.01      ]\n",
      "Hyper-parameters at iteration 3 : [ 7.35838192  1.75907585  0.01      ]\n",
      "Hyper-parameters at iteration 4 : [ 7.47917121  1.77268625  0.01      ]\n",
      "Hyper-parameters at iteration 5 : [ 7.47054622  1.77163509  0.01      ]\n",
      "\tHyper-parameters at outter iteration 12 : [ 7.42857228  1.76600192  0.01      ]\n",
      "Hyper-parameters at iteration 0 : [ 7.42857228  1.76600192  0.01      ]\n",
      "Hyper-parameters at iteration 1 : [ 7.43361692  1.78285277  0.01      ]\n",
      "Hyper-parameters at iteration 2 : [ 7.43202559  1.77733914  0.01      ]\n",
      "Hyper-parameters at iteration 3 : [ 7.43217409  1.77681589  0.01      ]\n",
      "\tHyper-parameters at outter iteration 13 : [ 7.43401779  1.77519505  0.01      ]\n",
      "Hyper-parameters at iteration 0 : [ 7.43401779  1.77519505  0.01      ]\n",
      "Hyper-parameters at iteration 1 : [ 7.44122041  1.7949762   0.01      ]\n",
      "Hyper-parameters at iteration 2 : [ 7.43886732  1.78832015  0.01      ]\n",
      "Hyper-parameters at iteration 3 : [ 7.4389749  1.7876152  0.01     ]\n",
      "\tHyper-parameters at outter iteration 14 : [ 7.44068783  1.78579053  0.01      ]\n",
      "Hyper-parameters at iteration 0 : [ 7.44068783  1.78579053  0.01      ]\n",
      "Hyper-parameters at iteration 1 : [ 7.45170069  1.8010899   0.01      ]\n",
      "Hyper-parameters at iteration 2 : [ 7.44939594  1.79774871  0.01      ]\n",
      "Hyper-parameters at iteration 3 : [ 7.44911334  1.79656033  0.01      ]\n",
      "\tHyper-parameters at outter iteration 15 : [ 7.45015978  1.79481412  0.01      ]\n",
      "Hyper-parameters at iteration 0 : [ 7.45015978  1.79481412  0.01      ]\n",
      "Hyper-parameters at iteration 1 : [ 7.47958182  1.81405837  0.01      ]\n",
      "Hyper-parameters at iteration 2 : [ 7.47637582  1.81180944  0.01      ]\n",
      "Hyper-parameters at iteration 3 : [ 7.47528671  1.81080756  0.01      ]\n",
      "Hyper-parameters at iteration 4 : [ 7.47364795  1.80800593  0.01      ]\n",
      "\tHyper-parameters at outter iteration 16 : [ 7.47515709  1.80458887  0.01      ]\n",
      "Hyper-parameters at iteration 0 : [ 7.47515709  1.80458887  0.01      ]\n",
      "Hyper-parameters at iteration 1 : [ 8.8415621   2.03853353  0.01      ]\n",
      "Hyper-parameters at iteration 2 : [ 8.3390383   1.95209052  0.01      ]\n",
      "Hyper-parameters at iteration 3 : [ 8.26438293  1.93882144  0.01      ]\n",
      "Hyper-parameters at iteration 4 : [ 8.23889142  1.93360921  0.01      ]\n",
      "Hyper-parameters at iteration 5 : [ 8.16221068  1.91354719  0.01      ]\n",
      "\tHyper-parameters at outter iteration 17 : [ 8.15102266  1.89734076  0.01      ]\n",
      "Hyper-parameters at iteration 0 : [ 8.15102266  1.89734076  0.01      ]\n",
      "Hyper-parameters at iteration 1 : [ 8.1638282   1.88020631  0.01      ]\n",
      "\tHyper-parameters at outter iteration 18 : [ 8.16443278  1.87955363  0.01      ]\n",
      "Hyper-parameters at iteration 0 : [ 8.16443278  1.87955363  0.01      ]\n",
      "Hyper-parameters at iteration 1 : [ 8.1779484   1.89500567  0.01      ]\n",
      "Hyper-parameters at iteration 2 : [ 8.17585541  1.89246732  0.01      ]\n",
      "Hyper-parameters at iteration 3 : [ 8.17567138  1.89206374  0.01      ]\n",
      "Hyper-parameters at iteration 4 : [ 8.17570219  1.88958254  0.01      ]\n",
      "\tHyper-parameters at outter iteration 19 : [ 8.17837587  1.88686056  0.01      ]\n"
     ]
    }
   ],
   "source": [
    "model_covariance_obj = SquaredExponential(np.copy(cov_params))\n",
    "vi_gp = GPC(model_covariance_obj, method='vi')\n",
    "opts = {'maxfun':5, 'mydisp': True, 'num_updates':3}\n",
    "vi_res = vi_gp.fit(x_tr, y_tr, inputs=inputs, optimizer_options=opts, max_out_iter=20)"
   ]
  },
  {
   "cell_type": "code",
   "execution_count": 12,
   "metadata": {
    "collapsed": false
   },
   "outputs": [
    {
     "data": {
      "text/plain": [
       "<matplotlib.text.Text at 0x1060a7fd0>"
      ]
     },
     "execution_count": 12,
     "metadata": {},
     "output_type": "execute_result"
    },
    {
     "data": {
      "image/png": "[encoded data removed]",
      "text/plain": [
       "<matplotlib.figure.Figure at 0x105967978>"
      ]
     },
     "metadata": {},
     "output_type": "display_data"
    }
   ],
   "source": [
    "metric = lambda w: vi_gp.get_prediction_quality(w, x_test, y_test)\n",
    "vi_x_lst, vi_y_lst = vi_res.plot_performance(metric, 't', freq=1)\n",
    "plt.plot(vi_x_lst[1:], vi_y_lst[1:], '-bx', label='vi-means-c')\n",
    "# plt.plot(svi_x_lst[1:100], svi_y_lst[1:100], '-gx', label='svi-L-BFGS-B-c')\n",
    "plt.ylim([0.9, 1.])\n",
    "plt.legend()\n",
    "plt.xlabel('Seconds')\n",
    "plt.ylabel('Accuracy')"
   ]
  },
  {
   "cell_type": "markdown",
   "metadata": {},
   "source": [
    "## svi-AdaDelta-c\n",
    "Подберем шаг для метода"
   ]
  },
  {
   "cell_type": "code",
   "execution_count": 14,
   "metadata": {
    "collapsed": false
   },
   "outputs": [
    {
     "name": "stderr",
     "output_type": "stream",
     "text": [
      "/Users/IzmailovPavel/Documents/Education/Course Project/Code/GP/gaussian_process_classification.py:605: RuntimeWarning: invalid value encountered in log\n",
      "  loss += np.sum(np.log(np.diag(sigma_L))) * l / N\n"
     ]
    }
   ],
   "source": [
    "results = []\n",
    "steps = [1., 0.5, 0.3, 0.1, 0.01]\n",
    "for step in steps:\n",
    "    model_covariance_obj = SquaredExponential(np.copy(cov_params))\n",
    "    ad_gp = GPC(model_covariance_obj, method='svi', hermgauss_deg=100)\n",
    "\n",
    "    opts = {'mode': 'adadelta', 'maxiter': 20, 'verbose': False, 'batch_size': 50, \n",
    "            'step_rate': step}#, 'print_freq':50}\n",
    "    batch_res = ad_gp.fit(x_tr, y_tr, inputs=inputs, optimizer_options=opts)\n",
    "    results.append(batch_res)"
   ]
  },
  {
   "cell_type": "code",
   "execution_count": 15,
   "metadata": {
    "collapsed": false
   },
   "outputs": [
    {
     "name": "stdout",
     "output_type": "stream",
     "text": [
      "0\n",
      "1\n",
      "2\n",
      "3\n",
      "4\n"
     ]
    },
    {
     "data": {
      "text/plain": [
       "<matplotlib.text.Text at 0x10d356518>"
      ]
     },
     "execution_count": 15,
     "metadata": {},
     "output_type": "execute_result"
    },
    {
     "data": {
      "image/png": "[encoded data removed]",
      "text/plain": [
       "<matplotlib.figure.Figure at 0x1060cdb00>"
      ]
     },
     "metadata": {},
     "output_type": "display_data"
    }
   ],
   "source": [
    "metric = lambda w: ad_gp.get_prediction_quality(w, x_test, y_test)\n",
    "for i in range(len(results)):\n",
    "    svi_ad_x_lst, svi_ad_y_lst = results[i].plot_performance(metric, 't', freq=1)\n",
    "    plt.plot(svi_ad_x_lst[1:], svi_ad_y_lst[1:], label=steps[i])\n",
    "    print(i)\n",
    "plt.ylim([0.8, 1.])\n",
    "plt.legend()\n",
    "plt.xlabel('Seconds')\n",
    "plt.ylabel('Accuracy')"
   ]
  },
  {
   "cell_type": "code",
   "execution_count": 16,
   "metadata": {
    "collapsed": false
   },
   "outputs": [
    {
     "name": "stdout",
     "output_type": "stream",
     "text": [
      "Iteration  1 :\n",
      "\tGradient norm 2.3865160891\n",
      "Iteration  3 :\n",
      "\tGradient norm 6.16701392658\n",
      "Iteration  5 :\n",
      "\tGradient norm 2.99777933814\n",
      "Iteration  7 :\n",
      "\tGradient norm 3.63930112144\n",
      "Iteration  9 :\n",
      "\tGradient norm 4.11654297384\n",
      "Iteration  11 :\n",
      "\tGradient norm 1.96243361553\n",
      "Iteration  13 :\n",
      "\tGradient norm 1.92118747325\n",
      "Iteration  15 :\n",
      "\tGradient norm 6.85320778895\n",
      "Iteration  17 :\n",
      "\tGradient norm 7.76141614637\n",
      "Iteration  19 :\n",
      "\tGradient norm 5.15762091498\n"
     ]
    },
    {
     "name": "stderr",
     "output_type": "stream",
     "text": [
      "/Users/IzmailovPavel/Documents/Education/Course Project/Code/GP/gaussian_process_classification.py:605: RuntimeWarning: invalid value encountered in log\n",
      "  loss += np.sum(np.log(np.diag(sigma_L))) * l / N\n"
     ]
    }
   ],
   "source": [
    "model_covariance_obj = SquaredExponential(np.copy(cov_params))\n",
    "ad_gp = GPC(model_covariance_obj, method='svi', hermgauss_deg=100)\n",
    "opts = {'mode': 'adadelta', 'maxiter': 20, 'verbose': True, 'batch_size': 50, \n",
    "        'step_rate': 1., 'print_freq':2}\n",
    "batch_res = ad_gp.fit(x_tr, y_tr, inputs=inputs, optimizer_options=opts)"
   ]
  },
  {
   "cell_type": "code",
   "execution_count": 17,
   "metadata": {
    "collapsed": false
   },
   "outputs": [
    {
     "data": {
      "text/plain": [
       "<matplotlib.text.Text at 0x10d493278>"
      ]
     },
     "execution_count": 17,
     "metadata": {},
     "output_type": "execute_result"
    },
    {
     "data": {
      "image/png": "[encoded data removed]",
      "text/plain": [
       "<matplotlib.figure.Figure at 0x1060cda90>"
      ]
     },
     "metadata": {},
     "output_type": "display_data"
    }
   ],
   "source": [
    "metric = lambda w: ad_gp.get_prediction_quality(w, x_test, y_test)\n",
    "svi_ad_x_lst, svi_ad_y_lst = batch_res.plot_performance(metric, 't', freq=1)\n",
    "plt.plot(svi_ad_x_lst[1:], svi_ad_y_lst[1:], '-yx', label='svi-AdaDelta-c')\n",
    "plt.ylim([0.8, 1.])\n",
    "plt.legend()\n",
    "plt.xlabel('Seconds')\n",
    "plt.ylabel('Accuracy')"
   ]
  },
  {
   "cell_type": "markdown",
   "metadata": {},
   "source": [
    "## Выводы"
   ]
  },
  {
   "cell_type": "code",
   "execution_count": 18,
   "metadata": {
    "collapsed": false
   },
   "outputs": [
    {
     "data": {
      "text/plain": [
       "<matplotlib.text.Text at 0x10d63b6a0>"
      ]
     },
     "execution_count": 18,
     "metadata": {},
     "output_type": "execute_result"
    },
    {
     "data": {
      "image/png": "[encoded data removed]",
      "text/plain": [
       "<matplotlib.figure.Figure at 0x10d493b38>"
      ]
     },
     "metadata": {},
     "output_type": "display_data"
    }
   ],
   "source": [
    "plt.figure(figsize=(12, 7))\n",
    "plt.plot(svi_x_lst[1:], svi_y_lst[1:], '-gx', label='svi-L-BFGS-B-c')\n",
    "plt.plot(svi_ad_x_lst[1:50], svi_ad_y_lst[1:50], '-yx', label='svi-AdaDelta-c')\n",
    "plt.plot(vi_x_lst[1:100], vi_y_lst[1:100], '-bx', label='vi-means-c')\n",
    "plt.ylim([0.8, 1.])\n",
    "plt.legend()\n",
    "plt.xlabel('Seconds')\n",
    "plt.ylabel('Accuracy')"
   ]
  },
  {
   "cell_type": "code",
   "execution_count": 19,
   "metadata": {
    "collapsed": false
   },
   "outputs": [
    {
     "data": {
      "text/plain": [
       "<matplotlib.text.Text at 0x10d76a390>"
      ]
     },
     "execution_count": 19,
     "metadata": {},
     "output_type": "execute_result"
    },
    {
     "data": {
      "image/png": "[encoded data removed]",
      "text/plain": [
       "<matplotlib.figure.Figure at 0x10d649898>"
      ]
     },
     "metadata": {},
     "output_type": "display_data"
    }
   ],
   "source": [
    "plt.figure(figsize=(12, 7))\n",
    "plt.plot(svi_x_lst[1:18], svi_y_lst[1:18], '-gx', label='svi-L-BFGS-B-c')\n",
    "plt.plot(svi_ad_x_lst[1:8], svi_ad_y_lst[1:8], '-yx', label='svi-AdaDelta-c')\n",
    "plt.plot(vi_x_lst[1:10], vi_y_lst[1:10], '-bx', label='vi-means-c')\n",
    "plt.ylim([0.85, 1.])\n",
    "plt.legend()\n",
    "plt.xlabel('Seconds')\n",
    "plt.ylabel('Accuracy')"
   ]
  },
  {
   "cell_type": "code",
   "execution_count": 20,
   "metadata": {
    "collapsed": true
   },
   "outputs": [],
   "source": [
    "np.save('../plots/vi_vs_svi_class/'+ data_name +'_svi_x.npy', svi_x_lst)\n",
    "np.save('../plots/vi_vs_svi_class/'+ data_name +'_svi_y.npy', svi_y_lst)\n",
    "np.save('../plots/vi_vs_svi_class/'+ data_name +'_vi_x.npy', vi_x_lst)\n",
    "np.save('../plots/vi_vs_svi_class/'+ data_name +'_vi_y.npy', vi_y_lst)\n",
    "np.save('../plots/vi_vs_svi_class/'+ data_name +'_ad_x.npy', svi_ad_x_lst)\n",
    "np.save('../plots/vi_vs_svi_class/'+ data_name +'_ad_y.npy', svi_ad_y_lst)"
   ]
  },
  {
   "cell_type": "code",
   "execution_count": null,
   "metadata": {
    "collapsed": true
   },
   "outputs": [],
   "source": []
  }
 ],
 "metadata": {
  "kernelspec": {
   "display_name": "Python 3",
   "language": "python",
   "name": "python3"
  },
  "language_info": {
   "codemirror_mode": {
    "name": "ipython",
    "version": 3
   },
   "file_extension": ".py",
   "mimetype": "text/x-python",
   "name": "python",
   "nbconvert_exporter": "python",
   "pygments_lexer": "ipython3",
   "version": "3.4.3"
  }
 },
 "nbformat": 4,
 "nbformat_minor": 0
}
