{
 "cells": [
  {
   "cell_type": "markdown",
   "metadata": {},
   "source": [
    "#Gaussian Process"
   ]
  },
  {
   "cell_type": "markdown",
   "metadata": {},
   "source": [
    "Рассмотрим гауссовский процесс $f(x) \\sim \\mathcal{GP}(m(x), K(x, y))$"
   ]
  },
  {
   "cell_type": "code",
   "execution_count": 122,
   "metadata": {
    "collapsed": true
   },
   "outputs": [],
   "source": [
    "import numpy as np\n",
    "import matplotlib.pyplot as plt"
   ]
  },
  {
   "cell_type": "markdown",
   "metadata": {},
   "source": [
    "## Covariance functions"
   ]
  },
  {
   "cell_type": "markdown",
   "metadata": {},
   "source": [
    "Будем считать, что $X, Y$ — матрицы размера $d \\times n$, где $d$ размерность, а $n$ количество точек. Ковариационная функция cov(X, Y)возвращает матрицу $K(X, Y)$ такую что $K(X, Y)_{ij} = cov(X^i, Y^j)$."
   ]
  },
  {
   "cell_type": "code",
   "execution_count": 174,
   "metadata": {
    "collapsed": false
   },
   "outputs": [],
   "source": [
    "def covariance_mat(covariance_func, X, Y):\n",
    "    \"\"\"Computing covariance matrix for given covariance function and point arrays\"\"\"\n",
    "    mat = np.zeros((X.shape[1], X.shape[1]))\n",
    "    for i in range(0, X.shape[1]):\n",
    "        for j in range(0, X.shape[1]):\n",
    "            mat[i, j] = covariance_func(X[:, i], Y[:, j])\n",
    "    return mat"
   ]
  },
  {
   "cell_type": "code",
   "execution_count": 90,
   "metadata": {
    "collapsed": true
   },
   "outputs": [],
   "source": [
    "def delta(x, y):\n",
    "    return max(x == y)"
   ]
  },
  {
   "cell_type": "markdown",
   "metadata": {},
   "source": [
    "Squared exponential covariance"
   ]
  },
  {
   "cell_type": "code",
   "execution_count": 176,
   "metadata": {
    "collapsed": true
   },
   "outputs": [],
   "source": [
    "def squared_exponential_cov(alpha, sigma):\n",
    "    \"\"\"Squared exponential (SE) covariance function\"\"\"\n",
    "    def se_cov(x, y):\n",
    "        return np.exp(-np.square(np.linalg.norm(x - y))) * alpha + sigma**2 * delta(x, y)\n",
    "    return se_cov"
   ]
  },
  {
   "cell_type": "markdown",
   "metadata": {},
   "source": [
    "##Visualization"
   ]
  },
  {
   "cell_type": "code",
   "execution_count": 129,
   "metadata": {
    "collapsed": false
   },
   "outputs": [],
   "source": [
    "def plotdata(x, y):\n",
    "    plt.plot(x, y)\n",
    "    plt.show()"
   ]
  },
  {
   "cell_type": "code",
   "execution_count": 168,
   "metadata": {
    "collapsed": false
   },
   "outputs": [],
   "source": [
    "K = squared_exponential_cov(100.0, 0)\n",
    "def mean_val(x):\n",
    "    return 0\n",
    "m = np.vectorize(mean_val)"
   ]
  },
  {
   "cell_type": "code",
   "execution_count": 169,
   "metadata": {
    "collapsed": false
   },
   "outputs": [],
   "source": [
    "x = np.linspace(0, 1, 100)\n",
    "x = x.reshape((1, x.size))"
   ]
  },
  {
   "cell_type": "code",
   "execution_count": 170,
   "metadata": {
    "collapsed": false
   },
   "outputs": [],
   "source": [
    "cov_mat = covariance_mat(K, x, x)\n",
    "m_v = m(x)\n",
    "mean_vector = m_v.reshape((m_v.size,))"
   ]
  },
  {
   "cell_type": "code",
   "execution_count": 171,
   "metadata": {
    "collapsed": false
   },
   "outputs": [
    {
     "name": "stderr",
     "output_type": "stream",
     "text": [
      "/Library/Frameworks/Python.framework/Versions/3.4/lib/python3.4/site-packages/IPython/kernel/__main__.py:1: RuntimeWarning: covariance is not positive-semidefinite.\n",
      "  if __name__ == '__main__':\n"
     ]
    }
   ],
   "source": [
    "y = np.random.multivariate_normal(mean_vector, cov_mat)"
   ]
  },
  {
   "cell_type": "code",
   "execution_count": 173,
   "metadata": {
    "collapsed": false
   },
   "outputs": [],
   "source": [
    "plotdata(x.reshape((x.size, )), y)"
   ]
  },
  {
   "cell_type": "code",
   "execution_count": 177,
   "metadata": {
    "collapsed": false
   },
   "outputs": [
    {
     "data": {
      "text/plain": [
       "array([[ 100.        ,   99.98979748,   99.95919617, ...,   38.28913233,\n",
       "          37.5348628 ,   36.78794412],\n",
       "       [  99.98979748,  100.        ,   99.98979748, ...,   39.05058953,\n",
       "          38.28913233,   37.5348628 ],\n",
       "       [  99.95919617,   99.98979748,  100.        , ...,   39.81906351,\n",
       "          39.05058953,   38.28913233],\n",
       "       ..., \n",
       "       [  38.28913233,   39.05058953,   39.81906351, ...,  100.        ,\n",
       "          99.98979748,   99.95919617],\n",
       "       [  37.5348628 ,   38.28913233,   39.05058953, ...,   99.98979748,\n",
       "         100.        ,   99.98979748],\n",
       "       [  36.78794412,   37.5348628 ,   38.28913233, ...,   99.95919617,\n",
       "          99.98979748,  100.        ]])"
      ]
     },
     "execution_count": 177,
     "metadata": {},
     "output_type": "execute_result"
    }
   ],
   "source": [
    "cov_mat"
   ]
  },
  {
   "cell_type": "code",
   "execution_count": 178,
   "metadata": {
    "collapsed": false
   },
   "outputs": [
    {
     "ename": "AttributeError",
     "evalue": "'numpy.ndarray' object has no attribute 'diag'",
     "output_type": "error",
     "traceback": [
      "\u001b[0;31m---------------------------------------------------------------------------\u001b[0m",
      "\u001b[0;31mAttributeError\u001b[0m                            Traceback (most recent call last)",
      "\u001b[0;32m<ipython-input-178-718573a8e56e>\u001b[0m in \u001b[0;36m<module>\u001b[0;34m()\u001b[0m\n\u001b[0;32m----> 1\u001b[0;31m \u001b[0mcov_mat\u001b[0m\u001b[0;34m.\u001b[0m\u001b[0mdiag\u001b[0m\u001b[0;34m\u001b[0m\u001b[0m\n\u001b[0m",
      "\u001b[0;31mAttributeError\u001b[0m: 'numpy.ndarray' object has no attribute 'diag'"
     ]
    }
   ],
   "source": [
    "cov_mat.diag"
   ]
  },
  {
   "cell_type": "code",
   "execution_count": null,
   "metadata": {
    "collapsed": true
   },
   "outputs": [],
   "source": []
  }
 ],
 "metadata": {
  "kernelspec": {
   "display_name": "Python 3",
   "language": "python",
   "name": "python3"
  },
  "language_info": {
   "codemirror_mode": {
    "name": "ipython",
    "version": 3
   },
   "file_extension": ".py",
   "mimetype": "text/x-python",
   "name": "python",
   "nbconvert_exporter": "python",
   "pygments_lexer": "ipython3",
   "version": "3.4.3"
  }
 },
 "nbformat": 4,
 "nbformat_minor": 0
}
