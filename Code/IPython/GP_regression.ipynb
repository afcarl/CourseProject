{
 "cells": [
  {
   "cell_type": "markdown",
   "metadata": {},
   "source": [
    "#GP-regression"
   ]
  },
  {
   "cell_type": "markdown",
   "metadata": {},
   "source": [
    "Рассмотрим задачу GP-регрессии с обучающей выборкой $X \\in \\mathbb{R}^{d \\times n}$, $y \\in \\mathbb{R}^n$. \n",
    "\n",
    "Будем обозначать через $X_*$ тестовые примеры, а через $f_*$ — случайный вектор, определяемый гауссовским процессом в тестовых точках. Определим априорное распределение $f_* \\sim \\mathcal{N}(0, K(X_*, X_*))$, где $K(\\cdot, \\cdot)$ — ковариационная функция. Тогда априорное совместное распределение\n",
    "$$ \n",
    "\\left[\n",
    "\\begin{matrix}\n",
    "f\\\\\n",
    "f_*\n",
    "\\end{matrix}\n",
    "\\right ] \n",
    "\\sim\n",
    "\\mathcal{N}\n",
    "\\left( 0,\n",
    "\\left[\n",
    "\\begin{matrix}\n",
    "K(X, X) & K(X, X_*)\\\\\n",
    "K(X_*, X) & K(X_*, X_*)\n",
    "\\end{matrix}\n",
    "\\right]\n",
    "\\right).\n",
    "$$\n"
   ]
  },
  {
   "cell_type": "markdown",
   "metadata": {},
   "source": [
    "Будем считать, что наблюдаемые значения являются зашумленной реализацией гауссовского процесса $y = f(x) + \\varepsilon$, где $\\varepsilon \\sim \\mathcal{N}(0, \\sigma_n^2)$, $f(x) \\sim \\mathcal{GP}(m(x), k(x, x'))$. Тогда \n",
    "$$cov(y_p, y_q) = K(x_p, x_q) + \\delta_{pq} \\sigma_n^2(p, q).$$\n",
    "\n",
    "Тогда совместное распределение наблюдаемых значений $y$ в точках $X$ и неизвестных значений $f_*$ в точках $X_*$\n",
    "$$ \n",
    "\\left[\n",
    "\\begin{matrix}\n",
    "y\\\\\n",
    "f_*\n",
    "\\end{matrix}\n",
    "\\right ] \n",
    "\\sim\n",
    "\\mathcal{N}\n",
    "\\left( 0,\n",
    "\\left[\n",
    "\\begin{matrix}\n",
    "K(X, X) + \\sigma_n^2 I & K(X, X_*)\\\\\n",
    "K(X_*, X) & K(X_*, X_*)\n",
    "\\end{matrix}\n",
    "\\right]\n",
    "\\right).\n",
    "$$"
   ]
  },
  {
   "cell_type": "markdown",
   "metadata": {},
   "source": [
    "Можем выписать условное распределение \n",
    "$$f_* \\rvert y, X, X_* \\sim \\mathcal{N}(\\bar f_*, cov(f_*)), $$\n",
    "где \n",
    "$$\\bar f_* = K(X_*, X)[K(X, X) + \\sigma_n^2 I]^{-1} y, $$\n",
    "$$ cov(f_*) = K(X_*, X_*) - K(X_*, X) [K(X, X) + \\sigma_n^2 I]^{-1} K(X, X^*).$$"
   ]
  },
  {
   "cell_type": "code",
   "execution_count": 1,
   "metadata": {},
   "outputs": [],
   "source": [
    "import numpy as np\n",
    "import matplotlib.pyplot as plt"
   ]
  },
  {
   "cell_type": "markdown",
   "metadata": {},
   "source": [
    "## Covariance functions"
   ]
  },
  {
   "cell_type": "markdown",
   "metadata": {},
   "source": [
    "Будем считать, что $X, Y$ — матрицы размера $d \\times n$, где $d$ размерность, а $n$ количество точек. Ковариационная функция cov(X, Y)возвращает матрицу $K(X, Y)$ такую что $K(X, Y)_{ij} = cov(X^i, Y^j)$."
   ]
  },
  {
   "cell_type": "code",
   "execution_count": 2,
   "metadata": {},
   "outputs": [],
   "source": [
    "def covariance_mat(covariance_func, X, Y):\n",
    "    \"\"\"Computing covariance matrix for given covariance function and point arrays\"\"\"\n",
    "    mat = np.zeros((X.shape[1], Y.shape[1]))\n",
    "    for i in range(0, X.shape[1]):\n",
    "        for j in range(0, Y.shape[1]):\n",
    "            mat[i, j] = covariance_func(X[:, i], Y[:, j])\n",
    "    return mat"
   ]
  },
  {
   "cell_type": "code",
   "execution_count": 3,
   "metadata": {},
   "outputs": [],
   "source": [
    "def delta(x, y):\n",
    "    return max(x == y)"
   ]
  },
  {
   "cell_type": "markdown",
   "metadata": {},
   "source": [
    "Squared exponential covariance"
   ]
  },
  {
   "cell_type": "code",
   "execution_count": 4,
   "metadata": {},
   "outputs": [],
   "source": [
    "def squared_exponential_cov(alpha, sigma, l):\n",
    "    \"\"\"Squared exponential (SE) covariance function\"\"\"\n",
    "    def se_cov(x, y):\n",
    "        return np.exp(-np.square(np.linalg.norm(x - y) / (2*l**2))) * alpha + sigma**2 * delta(x, y)\n",
    "    return se_cov"
   ]
  },
  {
   "cell_type": "markdown",
   "metadata": {},
   "source": [
    "## Sampling"
   ]
  },
  {
   "cell_type": "code",
   "execution_count": 1,
   "metadata": {},
   "outputs": [],
   "source": [
    "def sample(mean_func, cov_func, x):\n",
    "    cov_mat = covariance_mat(cov_func, x, x)\n",
    "    m_v = mean_func(x)\n",
    "    mean_vector = m_v.reshape((m_v.size,))\n",
    "    y = np.random.multivariate_normal(mean_vector, cov_mat)\n",
    "    return (y)"
   ]
  },
  {
   "cell_type": "code",
   "execution_count": 15,
   "metadata": {},
   "outputs": [],
   "source": [
    "def sample_at_points(mean_vec, cov_mat):\n",
    "    y = np.random.multivariate_normal(mean_vec.reshape((mean_vec.size,)), cov_mat)\n",
    "    upper_bound = mean_vec + 3 * np.sqrt(np.diagonal(cov_mat).reshape(mean_vec.shape))\n",
    "    lower_bound = mean_vec - 3 * np.sqrt(np.diagonal(cov_mat).reshape(mean_vec.shape))\n",
    "    return (y, upper_bound, lower_bound)"
   ]
  },
  {
   "cell_type": "markdown",
   "metadata": {},
   "source": [
    "##Visualization"
   ]
  },
  {
   "cell_type": "code",
   "execution_count": 16,
   "metadata": {},
   "outputs": [],
   "source": [
    "def plotdata(x, y, color):\n",
    "    x1 = x.reshape((x.size, ))\n",
    "    y1 = y.reshape((y.size, ))\n",
    "    plt.plot(x1, y1, color)"
   ]
  },
  {
   "cell_type": "code",
   "execution_count": 17,
   "metadata": {},
   "outputs": [],
   "source": [
    "def draw_sample(mean_func, cov_func, x_0, x_1):\n",
    "    plt.axis([x_0, x_1, -2, 2])\n",
    "    x = np.linspace(x_0, x_1, 100)\n",
    "    x = x.reshape((1, x.size))\n",
    "    cov_mat = covariance_mat(K, x, x)\n",
    "    m_v = m(x)\n",
    "    mean_vector = m_v.reshape((m_v.size,))\n",
    "    upper_bound = m_v + 3 * np.sqrt(np.diagonal(cov_mat))\n",
    "    lower_bound = m_v - 3 * np.sqrt(np.diagonal(cov_mat))\n",
    "#     y = np.random.multivariate_normal(mean_vector, cov_mat)\n",
    "    y = sample(mean_func, cov_func, x)\n",
    "    plotdata(x.reshape((x.size, )), y, 'b')\n",
    "    plotdata(x.reshape((x.size, )), upper_bound.reshape((x.size, )), 'r')\n",
    "    plotdata(x.reshape((x.size, )), lower_bound.reshape((x.size, )), 'g')"
   ]
  },
  {
   "cell_type": "markdown",
   "metadata": {},
   "source": [
    "##Parameters"
   ]
  },
  {
   "cell_type": "markdown",
   "metadata": {},
   "source": [
    "Common"
   ]
  },
  {
   "cell_type": "code",
   "execution_count": 18,
   "metadata": {},
   "outputs": [],
   "source": [
    "x_0, x_1 = -10, 10\n",
    "density = 100"
   ]
  },
  {
   "cell_type": "markdown",
   "metadata": {},
   "source": [
    "Data generation"
   ]
  },
  {
   "cell_type": "code",
   "execution_count": 19,
   "metadata": {},
   "outputs": [],
   "source": [
    "alpha_g, sigma_g, l_g = 1.0, 0.1, 1.0# \n",
    "n = 20 # number of examples"
   ]
  },
  {
   "cell_type": "markdown",
   "metadata": {},
   "source": [
    "Prior distribution"
   ]
  },
  {
   "cell_type": "code",
   "execution_count": 20,
   "metadata": {},
   "outputs": [],
   "source": [
    "alpha, sigma, l = 1.0, 0.1, 1.0"
   ]
  },
  {
   "cell_type": "markdown",
   "metadata": {},
   "source": [
    "##Data generation"
   ]
  },
  {
   "cell_type": "code",
   "execution_count": 21,
   "metadata": {},
   "outputs": [],
   "source": [
    "def mean_val(x):\n",
    "    return 0\n",
    "m = np.vectorize(mean_val)"
   ]
  },
  {
   "cell_type": "code",
   "execution_count": 22,
   "metadata": {},
   "outputs": [],
   "source": [
    "K_g = squared_exponential_cov(alpha_g, sigma_g, l_g)\n",
    "x_g = x_0 + np.random.rand(1, n)*(x_1 - x_0)\n",
    "y_g = sample(m, K_g, x_g)\n",
    "y_g = y_g.reshape((y_g.size, 1))"
   ]
  },
  {
   "cell_type": "code",
   "execution_count": 23,
   "metadata": {},
   "outputs": [],
   "source": [
    "plotdata(x_g, y_g, 'x')\n",
    "plt.show()"
   ]
  },
  {
   "cell_type": "markdown",
   "metadata": {},
   "source": [
    "##Computations"
   ]
  },
  {
   "cell_type": "markdown",
   "metadata": {},
   "source": [
    "Initialazing the covariance and mean"
   ]
  },
  {
   "cell_type": "code",
   "execution_count": 24,
   "metadata": {},
   "outputs": [],
   "source": [
    "K = squared_exponential_cov(alpha, sigma, l)\n",
    "def mean_val(x):\n",
    "    return 0\n",
    "m = np.vectorize(mean_val)"
   ]
  },
  {
   "cell_type": "code",
   "execution_count": 25,
   "metadata": {},
   "outputs": [],
   "source": [
    "draw_sample(m, K, x_0, x_1)\n",
    "plotdata(x_g, y_g, 'x')\n",
    "plt.show()"
   ]
  },
  {
   "cell_type": "code",
   "execution_count": 26,
   "metadata": {},
   "outputs": [],
   "source": [
    "x_test = np.linspace(x_0, x_1, density).reshape((1, density))\n",
    "K_x = covariance_mat(K, x_g, x_g)\n",
    "K_x_test = covariance_mat(K, x_g, x_test)\n",
    "K_test_x = covariance_mat(K, x_test, x_g)\n",
    "K_test = covariance_mat(K, x_test, x_test)\n",
    "I = np.eye(K_x.shape[0])"
   ]
  },
  {
   "cell_type": "code",
   "execution_count": 27,
   "metadata": {},
   "outputs": [],
   "source": [
    "anc_mat = np.linalg.inv(K_x + I * sigma**2)"
   ]
  },
  {
   "cell_type": "code",
   "execution_count": 28,
   "metadata": {},
   "outputs": [],
   "source": [
    "new_mean = np.dot(np.dot(K_test_x, anc_mat), y_g)"
   ]
  },
  {
   "cell_type": "code",
   "execution_count": 29,
   "metadata": {},
   "outputs": [],
   "source": [
    "new_cov = K_test - np.dot(np.dot(K_test_x, anc_mat), K_x_test)"
   ]
  },
  {
   "cell_type": "code",
   "execution_count": 30,
   "metadata": {},
   "outputs": [],
   "source": [
    "y_test, u_b, l_b = sample_at_points(new_mean, new_cov)"
   ]
  },
  {
   "cell_type": "code",
   "execution_count": null,
   "metadata": {},
   "outputs": [],
   "source": [
    "plotdata(x_g, y_g, 'x')\n",
    "plotdata(x_test, u_b, 'r')\n",
    "plotdata(x_test, l_b, 'g')\n",
    "plotdata(x_test, y_test, 'b')\n",
    "plt.show()"
   ]
  },
  {
   "cell_type": "code",
   "execution_count": null,
   "metadata": {},
   "outputs": [],
   "source": [
    ""
   ]
  }
 ],
 "metadata": {
  "kernelspec": {
   "display_name": "Python 3",
   "language": "python",
   "name": "python3"
  },
  "language_info": {
   "codemirror_mode": {
    "name": "ipython",
    "version": 3.0
   },
   "file_extension": ".py",
   "mimetype": "text/x-python",
   "name": "python",
   "nbconvert_exporter": "python",
   "pygments_lexer": "ipython3",
   "version": "3.4.3"
  }
 },
 "nbformat": 4,
 "nbformat_minor": 0
}